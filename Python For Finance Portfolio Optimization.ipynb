{
 "cells": [
  {
   "cell_type": "code",
   "execution_count": 37,
   "id": "1bcdf2a3-0445-48af-87db-f4afcd1edcef",
   "metadata": {},
   "outputs": [],
   "source": [
    "#!pip install pandas-datareader"
   ]
  },
  {
   "cell_type": "code",
   "execution_count": 38,
   "id": "55a21bc0-3597-47ea-8f83-f94269f1c508",
   "metadata": {},
   "outputs": [],
   "source": [
    "from pandas_datareader import data as web\n",
    "from datetime import datetime\n",
    "import pandas as pd\n",
    "import numpy as np\n",
    "import matplotlib.pyplot as plt\n",
    "plt.style.use('fivethirtyeight')"
   ]
  },
  {
   "cell_type": "code",
   "execution_count": 39,
   "id": "78a10c3a-cd87-4f3f-8264-6507e7b59736",
   "metadata": {},
   "outputs": [],
   "source": [
    "#get the Stock symbol from portfolio\n",
    "#FAANG\n",
    "\n",
    "assets=['LTI.NS','BLUEDART.NS','TATAMOTORS.NS']\n",
    "\n",
    "#assign weight to stocks\n",
    "#all five stock to add upto=1 and assign equal amount of weights to the stocks\n",
    "#20% of each of this stock in this portfolio \n",
    "weights=np.array([0.33,0.33,0.33])"
   ]
  },
  {
   "cell_type": "code",
   "execution_count": 40,
   "id": "afa584b4-a109-4202-b09b-1fa03bdb3adc",
   "metadata": {},
   "outputs": [
    {
     "data": {
      "text/plain": [
       "'2021-11-15'"
      ]
     },
     "execution_count": 40,
     "metadata": {},
     "output_type": "execute_result"
    }
   ],
   "source": [
    "#stock start and end date\n",
    "\n",
    "stockStartDate='2013-01-01'\n",
    "today=datetime.today().strftime('%Y-%m-%d')\n",
    "today"
   ]
  },
  {
   "cell_type": "code",
   "execution_count": 41,
   "id": "a7655c84-257f-47ab-b65a-a8de1b0f9522",
   "metadata": {},
   "outputs": [],
   "source": [
    "#create dataframe to store adjusted close price\n",
    "df=pd.DataFrame()\n",
    "#store adjusted close price of the stock into the datframe\n",
    "for stock in assets:\n",
    "    df[stock]=web.DataReader(stock,data_source='yahoo',start=stockStartDate,end=today)['Adj Close']"
   ]
  },
  {
   "cell_type": "code",
   "execution_count": 42,
   "id": "0cd1ca38-d4b9-4517-b21d-4153c7ef8be0",
   "metadata": {},
   "outputs": [
    {
     "data": {
      "text/html": [
       "<div>\n",
       "<style scoped>\n",
       "    .dataframe tbody tr th:only-of-type {\n",
       "        vertical-align: middle;\n",
       "    }\n",
       "\n",
       "    .dataframe tbody tr th {\n",
       "        vertical-align: top;\n",
       "    }\n",
       "\n",
       "    .dataframe thead th {\n",
       "        text-align: right;\n",
       "    }\n",
       "</style>\n",
       "<table border=\"1\" class=\"dataframe\">\n",
       "  <thead>\n",
       "    <tr style=\"text-align: right;\">\n",
       "      <th></th>\n",
       "      <th>LTI.NS</th>\n",
       "      <th>BLUEDART.NS</th>\n",
       "      <th>TATAMOTORS.NS</th>\n",
       "    </tr>\n",
       "    <tr>\n",
       "      <th>Date</th>\n",
       "      <th></th>\n",
       "      <th></th>\n",
       "      <th></th>\n",
       "    </tr>\n",
       "  </thead>\n",
       "  <tbody>\n",
       "    <tr>\n",
       "      <th>2016-07-21</th>\n",
       "      <td>638.241150</td>\n",
       "      <td>5824.376953</td>\n",
       "      <td>491.049988</td>\n",
       "    </tr>\n",
       "    <tr>\n",
       "      <th>2016-07-22</th>\n",
       "      <td>640.437012</td>\n",
       "      <td>5780.333496</td>\n",
       "      <td>507.200012</td>\n",
       "    </tr>\n",
       "    <tr>\n",
       "      <th>2016-07-25</th>\n",
       "      <td>634.078369</td>\n",
       "      <td>5846.250977</td>\n",
       "      <td>509.000000</td>\n",
       "    </tr>\n",
       "    <tr>\n",
       "      <th>2016-07-26</th>\n",
       "      <td>633.255066</td>\n",
       "      <td>5773.513184</td>\n",
       "      <td>503.250000</td>\n",
       "    </tr>\n",
       "    <tr>\n",
       "      <th>2016-07-27</th>\n",
       "      <td>631.196472</td>\n",
       "      <td>5789.395996</td>\n",
       "      <td>510.100006</td>\n",
       "    </tr>\n",
       "    <tr>\n",
       "      <th>...</th>\n",
       "      <td>...</td>\n",
       "      <td>...</td>\n",
       "      <td>...</td>\n",
       "    </tr>\n",
       "    <tr>\n",
       "      <th>2021-11-09</th>\n",
       "      <td>6839.649902</td>\n",
       "      <td>7046.049805</td>\n",
       "      <td>509.649994</td>\n",
       "    </tr>\n",
       "    <tr>\n",
       "      <th>2021-11-10</th>\n",
       "      <td>6835.799805</td>\n",
       "      <td>7021.299805</td>\n",
       "      <td>510.750000</td>\n",
       "    </tr>\n",
       "    <tr>\n",
       "      <th>2021-11-11</th>\n",
       "      <td>6948.750000</td>\n",
       "      <td>7004.350098</td>\n",
       "      <td>503.450012</td>\n",
       "    </tr>\n",
       "    <tr>\n",
       "      <th>2021-11-12</th>\n",
       "      <td>7243.250000</td>\n",
       "      <td>6946.100098</td>\n",
       "      <td>507.049988</td>\n",
       "    </tr>\n",
       "    <tr>\n",
       "      <th>2021-11-15</th>\n",
       "      <td>7233.000000</td>\n",
       "      <td>7046.750000</td>\n",
       "      <td>511.100006</td>\n",
       "    </tr>\n",
       "  </tbody>\n",
       "</table>\n",
       "<p>1310 rows × 3 columns</p>\n",
       "</div>"
      ],
      "text/plain": [
       "                 LTI.NS  BLUEDART.NS  TATAMOTORS.NS\n",
       "Date                                               \n",
       "2016-07-21   638.241150  5824.376953     491.049988\n",
       "2016-07-22   640.437012  5780.333496     507.200012\n",
       "2016-07-25   634.078369  5846.250977     509.000000\n",
       "2016-07-26   633.255066  5773.513184     503.250000\n",
       "2016-07-27   631.196472  5789.395996     510.100006\n",
       "...                 ...          ...            ...\n",
       "2021-11-09  6839.649902  7046.049805     509.649994\n",
       "2021-11-10  6835.799805  7021.299805     510.750000\n",
       "2021-11-11  6948.750000  7004.350098     503.450012\n",
       "2021-11-12  7243.250000  6946.100098     507.049988\n",
       "2021-11-15  7233.000000  7046.750000     511.100006\n",
       "\n",
       "[1310 rows x 3 columns]"
      ]
     },
     "execution_count": 42,
     "metadata": {},
     "output_type": "execute_result"
    }
   ],
   "source": [
    "df"
   ]
  },
  {
   "cell_type": "code",
   "execution_count": 43,
   "id": "941c8018-bccd-47d5-a4fd-21e1002526e8",
   "metadata": {},
   "outputs": [
    {
     "data": {
      "image/png": "[encoded data removed]",
      "text/plain": [
       "<Figure size 432x288 with 1 Axes>"
      ]
     },
     "metadata": {},
     "output_type": "display_data"
    }
   ],
   "source": [
    "#visually show portfolio\n",
    "my_stock=df\n",
    "title='portfolio'\n",
    "for c in my_stock.columns.values:\n",
    "    plt.plot(my_stock[c],label=c)\n",
    "plt.title=title\n",
    "plt.xlabel('Date',fontsize=18)\n",
    "plt.legend(my_stock.columns.values,loc='upper left')\n",
    "plt.show()"
   ]
  },
  {
   "cell_type": "code",
   "execution_count": 44,
   "id": "27693cb0-2628-4bcf-a4a5-4b7d726fd87b",
   "metadata": {},
   "outputs": [
    {
     "data": {
      "text/html": [
       "<div>\n",
       "<style scoped>\n",
       "    .dataframe tbody tr th:only-of-type {\n",
       "        vertical-align: middle;\n",
       "    }\n",
       "\n",
       "    .dataframe tbody tr th {\n",
       "        vertical-align: top;\n",
       "    }\n",
       "\n",
       "    .dataframe thead th {\n",
       "        text-align: right;\n",
       "    }\n",
       "</style>\n",
       "<table border=\"1\" class=\"dataframe\">\n",
       "  <thead>\n",
       "    <tr style=\"text-align: right;\">\n",
       "      <th></th>\n",
       "      <th>LTI.NS</th>\n",
       "      <th>BLUEDART.NS</th>\n",
       "      <th>TATAMOTORS.NS</th>\n",
       "    </tr>\n",
       "    <tr>\n",
       "      <th>Date</th>\n",
       "      <th></th>\n",
       "      <th></th>\n",
       "      <th></th>\n",
       "    </tr>\n",
       "  </thead>\n",
       "  <tbody>\n",
       "    <tr>\n",
       "      <th>2016-07-21</th>\n",
       "      <td>NaN</td>\n",
       "      <td>NaN</td>\n",
       "      <td>NaN</td>\n",
       "    </tr>\n",
       "    <tr>\n",
       "      <th>2016-07-22</th>\n",
       "      <td>0.003440</td>\n",
       "      <td>-0.007562</td>\n",
       "      <td>0.032889</td>\n",
       "    </tr>\n",
       "    <tr>\n",
       "      <th>2016-07-25</th>\n",
       "      <td>-0.009929</td>\n",
       "      <td>0.011404</td>\n",
       "      <td>0.003549</td>\n",
       "    </tr>\n",
       "    <tr>\n",
       "      <th>2016-07-26</th>\n",
       "      <td>-0.001298</td>\n",
       "      <td>-0.012442</td>\n",
       "      <td>-0.011297</td>\n",
       "    </tr>\n",
       "    <tr>\n",
       "      <th>2016-07-27</th>\n",
       "      <td>-0.003251</td>\n",
       "      <td>0.002751</td>\n",
       "      <td>0.013612</td>\n",
       "    </tr>\n",
       "    <tr>\n",
       "      <th>...</th>\n",
       "      <td>...</td>\n",
       "      <td>...</td>\n",
       "      <td>...</td>\n",
       "    </tr>\n",
       "    <tr>\n",
       "      <th>2021-11-09</th>\n",
       "      <td>0.001721</td>\n",
       "      <td>-0.004289</td>\n",
       "      <td>0.016454</td>\n",
       "    </tr>\n",
       "    <tr>\n",
       "      <th>2021-11-10</th>\n",
       "      <td>-0.000563</td>\n",
       "      <td>-0.003513</td>\n",
       "      <td>0.002158</td>\n",
       "    </tr>\n",
       "    <tr>\n",
       "      <th>2021-11-11</th>\n",
       "      <td>0.016523</td>\n",
       "      <td>-0.002414</td>\n",
       "      <td>-0.014293</td>\n",
       "    </tr>\n",
       "    <tr>\n",
       "      <th>2021-11-12</th>\n",
       "      <td>0.042382</td>\n",
       "      <td>-0.008316</td>\n",
       "      <td>0.007151</td>\n",
       "    </tr>\n",
       "    <tr>\n",
       "      <th>2021-11-15</th>\n",
       "      <td>-0.001415</td>\n",
       "      <td>0.014490</td>\n",
       "      <td>0.007987</td>\n",
       "    </tr>\n",
       "  </tbody>\n",
       "</table>\n",
       "<p>1310 rows × 3 columns</p>\n",
       "</div>"
      ],
      "text/plain": [
       "              LTI.NS  BLUEDART.NS  TATAMOTORS.NS\n",
       "Date                                            \n",
       "2016-07-21       NaN          NaN            NaN\n",
       "2016-07-22  0.003440    -0.007562       0.032889\n",
       "2016-07-25 -0.009929     0.011404       0.003549\n",
       "2016-07-26 -0.001298    -0.012442      -0.011297\n",
       "2016-07-27 -0.003251     0.002751       0.013612\n",
       "...              ...          ...            ...\n",
       "2021-11-09  0.001721    -0.004289       0.016454\n",
       "2021-11-10 -0.000563    -0.003513       0.002158\n",
       "2021-11-11  0.016523    -0.002414      -0.014293\n",
       "2021-11-12  0.042382    -0.008316       0.007151\n",
       "2021-11-15 -0.001415     0.014490       0.007987\n",
       "\n",
       "[1310 rows x 3 columns]"
      ]
     },
     "execution_count": 44,
     "metadata": {},
     "output_type": "execute_result"
    }
   ],
   "source": [
    "#show daily simple return\n",
    "returns=df.pct_change()\n",
    "returns"
   ]
  },
  {
   "cell_type": "code",
   "execution_count": 45,
   "id": "82f80e0c-8a04-4a56-a761-28b14278b6d0",
   "metadata": {},
   "outputs": [
    {
     "data": {
      "text/html": [
       "<div>\n",
       "<style scoped>\n",
       "    .dataframe tbody tr th:only-of-type {\n",
       "        vertical-align: middle;\n",
       "    }\n",
       "\n",
       "    .dataframe tbody tr th {\n",
       "        vertical-align: top;\n",
       "    }\n",
       "\n",
       "    .dataframe thead th {\n",
       "        text-align: right;\n",
       "    }\n",
       "</style>\n",
       "<table border=\"1\" class=\"dataframe\">\n",
       "  <thead>\n",
       "    <tr style=\"text-align: right;\">\n",
       "      <th></th>\n",
       "      <th>LTI.NS</th>\n",
       "      <th>BLUEDART.NS</th>\n",
       "      <th>TATAMOTORS.NS</th>\n",
       "    </tr>\n",
       "  </thead>\n",
       "  <tbody>\n",
       "    <tr>\n",
       "      <th>LTI.NS</th>\n",
       "      <td>0.117695</td>\n",
       "      <td>0.012184</td>\n",
       "      <td>0.032952</td>\n",
       "    </tr>\n",
       "    <tr>\n",
       "      <th>BLUEDART.NS</th>\n",
       "      <td>0.012184</td>\n",
       "      <td>0.104449</td>\n",
       "      <td>0.033146</td>\n",
       "    </tr>\n",
       "    <tr>\n",
       "      <th>TATAMOTORS.NS</th>\n",
       "      <td>0.032952</td>\n",
       "      <td>0.033146</td>\n",
       "      <td>0.243373</td>\n",
       "    </tr>\n",
       "  </tbody>\n",
       "</table>\n",
       "</div>"
      ],
      "text/plain": [
       "                 LTI.NS  BLUEDART.NS  TATAMOTORS.NS\n",
       "LTI.NS         0.117695     0.012184       0.032952\n",
       "BLUEDART.NS    0.012184     0.104449       0.033146\n",
       "TATAMOTORS.NS  0.032952     0.033146       0.243373"
      ]
     },
     "execution_count": 45,
     "metadata": {},
     "output_type": "execute_result"
    }
   ],
   "source": [
    "#create and return annulize Covarience Matrix\n",
    "#diagonal is varience , off diagonals are co-varience\n",
    "#252 -> number of trading days in Year\n",
    "cov_matrix_annual=returns.cov()*252\n",
    "cov_matrix_annual"
   ]
  },
  {
   "cell_type": "code",
   "execution_count": 46,
   "id": "f5d1dc63-29bc-43d9-8803-c8d9f85d839f",
   "metadata": {},
   "outputs": [
    {
     "data": {
      "text/plain": [
       "0.06774458114249507"
      ]
     },
     "execution_count": 46,
     "metadata": {},
     "output_type": "execute_result"
    }
   ],
   "source": [
    "#portfolio varience\n",
    "port_variance=np.dot(weights.T,np.dot(cov_matrix_annual,weights))\n",
    "port_variance"
   ]
  },
  {
   "cell_type": "code",
   "execution_count": 47,
   "id": "625e2c40-650e-49f3-a939-f25078d8c4e0",
   "metadata": {},
   "outputs": [
    {
     "data": {
      "text/plain": [
       "0.26027789215086067"
      ]
     },
     "execution_count": 47,
     "metadata": {},
     "output_type": "execute_result"
    }
   ],
   "source": [
    "#portfolio volatility aka standard devaition\n",
    "port_volatility=np.sqrt(port_variance)\n",
    "port_volatility"
   ]
  },
  {
   "cell_type": "code",
   "execution_count": 48,
   "id": "2943dc23-a4e6-4f67-ac71-1b4f0bcbc3ba",
   "metadata": {},
   "outputs": [
    {
     "data": {
      "text/plain": [
       "0.2443316441738605"
      ]
     },
     "execution_count": 48,
     "metadata": {},
     "output_type": "execute_result"
    }
   ],
   "source": [
    "#calculate return of annual portfolio\n",
    "#252 -> number of trading days in Year\n",
    "portfolioSimpleAnnualReturn=np.sum(returns.mean() * weights) *252\n",
    "portfolioSimpleAnnualReturn"
   ]
  },
  {
   "cell_type": "code",
   "execution_count": 49,
   "id": "07f478d5-6847-4504-aff3-bb0e42abe894",
   "metadata": {},
   "outputs": [
    {
     "name": "stdout",
     "output_type": "stream",
     "text": [
      "Expected annual return: 24.0%\n",
      "Annual volatility /risk: 26.0%\n",
      "Annual variance: 7.000000000000001%\n"
     ]
    }
   ],
   "source": [
    "#Show the expected annual return, volatility (risk), and variance\n",
    "\n",
    "\n",
    "percent_var= str(round(port_variance, 2) * 100) +  '%'                                                                                                        \n",
    "\n",
    "percent_vols = str(round(port_volatility, 2) * 100 )+ '%'\n",
    "\n",
    "percent_ret = str(round (portfolioSimpleAnnualReturn, 2) * 100) + '%'                                                                                                                                                                                                                                                                      \n",
    "\n",
    "print ('Expected annual return: '+ percent_ret)\n",
    "\n",
    "print ('Annual volatility /risk: '+ percent_vols)\n",
    "\n",
    "print ('Annual variance: '+ percent_var)"
   ]
  },
  {
   "cell_type": "code",
   "execution_count": 50,
   "id": "396160af-cb4c-4549-9177-f54ee59dd840",
   "metadata": {},
   "outputs": [],
   "source": [
    "#!pip install PyPortfolioOpt"
   ]
  },
  {
   "cell_type": "code",
   "execution_count": 51,
   "id": "e6dd3ad4-0d26-4c25-bf57-dcebb7aecb2d",
   "metadata": {},
   "outputs": [],
   "source": [
    "from pypfopt.efficient_frontier import EfficientFrontier\n",
    "from pypfopt import risk_models\n",
    "from pypfopt import  expected_returns"
   ]
  },
  {
   "cell_type": "code",
   "execution_count": 52,
   "id": "7ecfb8bc-9a64-407d-bc77-f1c3a54aaacd",
   "metadata": {},
   "outputs": [
    {
     "data": {
      "text/plain": [
       "LTI.NS           0.595781\n",
       "BLUEDART.NS      0.037357\n",
       "TATAMOTORS.NS    0.007734\n",
       "dtype: float64"
      ]
     },
     "execution_count": 52,
     "metadata": {},
     "output_type": "execute_result"
    }
   ],
   "source": [
    "#portfolio Optimization\n",
    "\n",
    "#Calculate the Expected Return and annaualize sample covarience Matrix\n",
    "\n",
    "mu=expected_returns.mean_historical_return(df)\n",
    "mu"
   ]
  },
  {
   "cell_type": "code",
   "execution_count": 53,
   "id": "18ce3472-acbb-451a-a335-d8acbc6e9313",
   "metadata": {},
   "outputs": [
    {
     "data": {
      "text/html": [
       "<div>\n",
       "<style scoped>\n",
       "    .dataframe tbody tr th:only-of-type {\n",
       "        vertical-align: middle;\n",
       "    }\n",
       "\n",
       "    .dataframe tbody tr th {\n",
       "        vertical-align: top;\n",
       "    }\n",
       "\n",
       "    .dataframe thead th {\n",
       "        text-align: right;\n",
       "    }\n",
       "</style>\n",
       "<table border=\"1\" class=\"dataframe\">\n",
       "  <thead>\n",
       "    <tr style=\"text-align: right;\">\n",
       "      <th></th>\n",
       "      <th>LTI.NS</th>\n",
       "      <th>BLUEDART.NS</th>\n",
       "      <th>TATAMOTORS.NS</th>\n",
       "    </tr>\n",
       "  </thead>\n",
       "  <tbody>\n",
       "    <tr>\n",
       "      <th>LTI.NS</th>\n",
       "      <td>0.117695</td>\n",
       "      <td>0.012184</td>\n",
       "      <td>0.032952</td>\n",
       "    </tr>\n",
       "    <tr>\n",
       "      <th>BLUEDART.NS</th>\n",
       "      <td>0.012184</td>\n",
       "      <td>0.104449</td>\n",
       "      <td>0.033146</td>\n",
       "    </tr>\n",
       "    <tr>\n",
       "      <th>TATAMOTORS.NS</th>\n",
       "      <td>0.032952</td>\n",
       "      <td>0.033146</td>\n",
       "      <td>0.243373</td>\n",
       "    </tr>\n",
       "  </tbody>\n",
       "</table>\n",
       "</div>"
      ],
      "text/plain": [
       "                 LTI.NS  BLUEDART.NS  TATAMOTORS.NS\n",
       "LTI.NS         0.117695     0.012184       0.032952\n",
       "BLUEDART.NS    0.012184     0.104449       0.033146\n",
       "TATAMOTORS.NS  0.032952     0.033146       0.243373"
      ]
     },
     "execution_count": 53,
     "metadata": {},
     "output_type": "execute_result"
    }
   ],
   "source": [
    "S=risk_models.sample_cov(df)\n",
    "S"
   ]
  },
  {
   "cell_type": "code",
   "execution_count": 54,
   "id": "94e80cd2-5bca-4ce0-8b7e-5f98ba53b673",
   "metadata": {},
   "outputs": [
    {
     "data": {
      "text/plain": [
       "OrderedDict([('LTI.NS', 0.9999999998422928),\n",
       "             ('BLUEDART.NS', 2.724035e-10),\n",
       "             ('TATAMOTORS.NS', 2.986707e-10)])"
      ]
     },
     "execution_count": 54,
     "metadata": {},
     "output_type": "execute_result"
    }
   ],
   "source": [
    "#optimize for Max Sharp Ratio\n",
    "#Sharp ration : basically to describe how much excess return you receive for some amout of volatility\n",
    "#it masure performance of investment compare to investment that is risk free\n",
    "\n",
    "ef=EfficientFrontier(mu,S)\n",
    "weights = ef.max_sharpe()\n",
    "weights"
   ]
  },
  {
   "cell_type": "code",
   "execution_count": 55,
   "id": "70225f1c-0f49-4a6e-b5be-a59f221d0a27",
   "metadata": {},
   "outputs": [
    {
     "name": "stdout",
     "output_type": "stream",
     "text": [
      "OrderedDict([('LTI.NS', 1.0), ('BLUEDART.NS', 0.0), ('TATAMOTORS.NS', 0.0)])\n",
      "Expected annual return: 59.6%\n",
      "Annual volatility: 34.3%\n",
      "Sharpe Ratio: 1.68\n"
     ]
    },
    {
     "data": {
      "text/plain": [
       "(0.5957811312464368, 0.3430668472795544, 1.6783350994485657)"
      ]
     },
     "execution_count": 55,
     "metadata": {},
     "output_type": "execute_result"
    }
   ],
   "source": [
    "cleaned_weights=ef.clean_weights()\n",
    "print(cleaned_weights)\n",
    "ef.portfolio_performance(verbose=True)"
   ]
  },
  {
   "cell_type": "code",
   "execution_count": 56,
   "id": "12c57099-8f8d-4303-9c18-73edf71b3a53",
   "metadata": {},
   "outputs": [
    {
     "name": "stdout",
     "output_type": "stream",
     "text": [
      "LTI.NS           7233.000000\n",
      "BLUEDART.NS      7046.750000\n",
      "TATAMOTORS.NS     511.100006\n",
      "Name: 2021-11-15 00:00:00, dtype: float64\n"
     ]
    }
   ],
   "source": [
    "#get discrete allocation of each share per stock\n",
    "from pypfopt import  DiscreteAllocation,get_latest_prices\n",
    "latest_prices=get_latest_prices(df)\n",
    "print(latest_prices)"
   ]
  },
  {
   "cell_type": "code",
   "execution_count": 62,
   "id": "6a305b72-e07d-4d92-b2ef-93a0c110ba8f",
   "metadata": {},
   "outputs": [
    {
     "name": "stdout",
     "output_type": "stream",
     "text": [
      "Discrete Allocation :  {'LTI.NS': 1}\n",
      "Funds Remainning :  2767.0\n"
     ]
    }
   ],
   "source": [
    "weights=cleaned_weights\n",
    "da=DiscreteAllocation(weights,latest_prices,total_portfolio_value=10000)\n",
    "\n",
    "allocation,left_over=da.lp_portfolio()\n",
    "\n",
    "\n",
    "print(\"Discrete Allocation : \", allocation)\n",
    "print(\"Funds Remainning : \",left_over)\n",
    "# Given the money 50000 to optimize it we can buy  {'RELIANCE.NS': 5, 'HDFCBANK.NS': 10, 'TCS.NS': 6} stock"
   ]
  },
  {
   "cell_type": "code",
   "execution_count": null,
   "id": "0945cc59-3a81-420b-8743-6f5702d28a74",
   "metadata": {},
   "outputs": [],
   "source": []
  },
  {
   "cell_type": "code",
   "execution_count": 58,
   "id": "2cb88d80-089a-4878-a46b-a926c7472562",
   "metadata": {},
   "outputs": [],
   "source": [
    "#!export CVXOPT_BUILD_GLPK=1\n",
    "#!pip install cvxopt --no-binary cvxopt"
   ]
  },
  {
   "cell_type": "code",
   "execution_count": null,
   "id": "aab4d944-8df9-4edf-a1dd-648096aa2b27",
   "metadata": {},
   "outputs": [],
   "source": []
  }
 ],
 "metadata": {
  "kernelspec": {
   "display_name": "Python 3",
   "language": "python",
   "name": "python3"
  },
  "language_info": {
   "codemirror_mode": {
    "name": "ipython",
    "version": 3
   },
   "file_extension": ".py",
   "mimetype": "text/x-python",
   "name": "python",
   "nbconvert_exporter": "python",
   "pygments_lexer": "ipython3",
   "version": "3.8.8"
  }
 },
 "nbformat": 4,
 "nbformat_minor": 5
}
