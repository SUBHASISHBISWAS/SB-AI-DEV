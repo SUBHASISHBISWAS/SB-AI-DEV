{
 "cells": [
  {
   "cell_type": "code",
   "execution_count": 67,
   "id": "1bcdf2a3-0445-48af-87db-f4afcd1edcef",
   "metadata": {},
   "outputs": [],
   "source": [
    "#!pip install pandas-datareader"
   ]
  },
  {
   "cell_type": "code",
   "execution_count": 68,
   "id": "55a21bc0-3597-47ea-8f83-f94269f1c508",
   "metadata": {},
   "outputs": [],
   "source": [
    "from pandas_datareader import data as web\n",
    "from datetime import datetime\n",
    "import pandas as pd\n",
    "import numpy as np\n",
    "import matplotlib.pyplot as plt\n",
    "plt.style.use('fivethirtyeight')"
   ]
  },
  {
   "cell_type": "code",
   "execution_count": 69,
   "id": "78a10c3a-cd87-4f3f-8264-6507e7b59736",
   "metadata": {},
   "outputs": [],
   "source": [
    "#get the Stock symbol from portfolio\n",
    "#FAANG\n",
    "\n",
    "assets=['SBIN.NS','RELIANCE.NS','HDFCLIFE.NS','HDFCBANK.NS','TCS.NS']\n",
    "\n",
    "#assign weight to stocks\n",
    "#all five stock to add upto=1 and assign equal amount of weights to the stocks\n",
    "#20% of each of this stock in this portfolio \n",
    "weights=np.array([0.2,0.2,0.2,0.2,0.2])"
   ]
  },
  {
   "cell_type": "code",
   "execution_count": 70,
   "id": "afa584b4-a109-4202-b09b-1fa03bdb3adc",
   "metadata": {},
   "outputs": [
    {
     "data": {
      "text/plain": [
       "'2021-11-12'"
      ]
     },
     "execution_count": 70,
     "metadata": {},
     "output_type": "execute_result"
    }
   ],
   "source": [
    "#stock start and end date\n",
    "\n",
    "stockStartDate='2013-01-01'\n",
    "today=datetime.today().strftime('%Y-%m-%d')\n",
    "today"
   ]
  },
  {
   "cell_type": "code",
   "execution_count": 71,
   "id": "a7655c84-257f-47ab-b65a-a8de1b0f9522",
   "metadata": {},
   "outputs": [],
   "source": [
    "#create dataframe to store adjusted close price\n",
    "df=pd.DataFrame()\n",
    "#store adjusted close price of the stock into the datframe\n",
    "for stock in assets:\n",
    "    df[stock]=web.DataReader(stock,data_source='yahoo',start=stockStartDate,end=today)['Adj Close']"
   ]
  },
  {
   "cell_type": "code",
   "execution_count": 72,
   "id": "0cd1ca38-d4b9-4517-b21d-4153c7ef8be0",
   "metadata": {},
   "outputs": [
    {
     "data": {
      "text/html": [
       "<div>\n",
       "<style scoped>\n",
       "    .dataframe tbody tr th:only-of-type {\n",
       "        vertical-align: middle;\n",
       "    }\n",
       "\n",
       "    .dataframe tbody tr th {\n",
       "        vertical-align: top;\n",
       "    }\n",
       "\n",
       "    .dataframe thead th {\n",
       "        text-align: right;\n",
       "    }\n",
       "</style>\n",
       "<table border=\"1\" class=\"dataframe\">\n",
       "  <thead>\n",
       "    <tr style=\"text-align: right;\">\n",
       "      <th></th>\n",
       "      <th>SBIN.NS</th>\n",
       "      <th>RELIANCE.NS</th>\n",
       "      <th>HDFCLIFE.NS</th>\n",
       "      <th>HDFCBANK.NS</th>\n",
       "      <th>TCS.NS</th>\n",
       "    </tr>\n",
       "    <tr>\n",
       "      <th>Date</th>\n",
       "      <th></th>\n",
       "      <th></th>\n",
       "      <th></th>\n",
       "      <th></th>\n",
       "      <th></th>\n",
       "    </tr>\n",
       "  </thead>\n",
       "  <tbody>\n",
       "    <tr>\n",
       "      <th>2013-01-01</th>\n",
       "      <td>224.474991</td>\n",
       "      <td>389.052948</td>\n",
       "      <td>NaN</td>\n",
       "      <td>322.921936</td>\n",
       "      <td>528.698608</td>\n",
       "    </tr>\n",
       "    <tr>\n",
       "      <th>2013-01-02</th>\n",
       "      <td>226.704514</td>\n",
       "      <td>392.408051</td>\n",
       "      <td>NaN</td>\n",
       "      <td>324.266449</td>\n",
       "      <td>528.343018</td>\n",
       "    </tr>\n",
       "    <tr>\n",
       "      <th>2013-01-03</th>\n",
       "      <td>228.651886</td>\n",
       "      <td>398.331543</td>\n",
       "      <td>NaN</td>\n",
       "      <td>322.379425</td>\n",
       "      <td>535.578430</td>\n",
       "    </tr>\n",
       "    <tr>\n",
       "      <th>2013-01-04</th>\n",
       "      <td>230.048813</td>\n",
       "      <td>398.840576</td>\n",
       "      <td>NaN</td>\n",
       "      <td>320.492371</td>\n",
       "      <td>543.357300</td>\n",
       "    </tr>\n",
       "    <tr>\n",
       "      <th>2013-01-07</th>\n",
       "      <td>228.281815</td>\n",
       "      <td>396.411041</td>\n",
       "      <td>NaN</td>\n",
       "      <td>315.232208</td>\n",
       "      <td>541.538330</td>\n",
       "    </tr>\n",
       "    <tr>\n",
       "      <th>...</th>\n",
       "      <td>...</td>\n",
       "      <td>...</td>\n",
       "      <td>...</td>\n",
       "      <td>...</td>\n",
       "      <td>...</td>\n",
       "    </tr>\n",
       "    <tr>\n",
       "      <th>2021-11-04</th>\n",
       "      <td>530.450012</td>\n",
       "      <td>2498.850098</td>\n",
       "      <td>696.400024</td>\n",
       "      <td>1593.949951</td>\n",
       "      <td>3508.649902</td>\n",
       "    </tr>\n",
       "    <tr>\n",
       "      <th>2021-11-08</th>\n",
       "      <td>523.250000</td>\n",
       "      <td>2501.949951</td>\n",
       "      <td>703.250000</td>\n",
       "      <td>1600.250000</td>\n",
       "      <td>3502.750000</td>\n",
       "    </tr>\n",
       "    <tr>\n",
       "      <th>2021-11-09</th>\n",
       "      <td>529.150024</td>\n",
       "      <td>2521.699951</td>\n",
       "      <td>706.450012</td>\n",
       "      <td>1572.250000</td>\n",
       "      <td>3505.699951</td>\n",
       "    </tr>\n",
       "    <tr>\n",
       "      <th>2021-11-10</th>\n",
       "      <td>524.400024</td>\n",
       "      <td>2549.899902</td>\n",
       "      <td>706.500000</td>\n",
       "      <td>1555.250000</td>\n",
       "      <td>3484.300049</td>\n",
       "    </tr>\n",
       "    <tr>\n",
       "      <th>2021-11-11</th>\n",
       "      <td>509.600006</td>\n",
       "      <td>2554.550049</td>\n",
       "      <td>702.599976</td>\n",
       "      <td>1548.300049</td>\n",
       "      <td>3488.199951</td>\n",
       "    </tr>\n",
       "  </tbody>\n",
       "</table>\n",
       "<p>2183 rows × 5 columns</p>\n",
       "</div>"
      ],
      "text/plain": [
       "               SBIN.NS  RELIANCE.NS  HDFCLIFE.NS  HDFCBANK.NS       TCS.NS\n",
       "Date                                                                      \n",
       "2013-01-01  224.474991   389.052948          NaN   322.921936   528.698608\n",
       "2013-01-02  226.704514   392.408051          NaN   324.266449   528.343018\n",
       "2013-01-03  228.651886   398.331543          NaN   322.379425   535.578430\n",
       "2013-01-04  230.048813   398.840576          NaN   320.492371   543.357300\n",
       "2013-01-07  228.281815   396.411041          NaN   315.232208   541.538330\n",
       "...                ...          ...          ...          ...          ...\n",
       "2021-11-04  530.450012  2498.850098   696.400024  1593.949951  3508.649902\n",
       "2021-11-08  523.250000  2501.949951   703.250000  1600.250000  3502.750000\n",
       "2021-11-09  529.150024  2521.699951   706.450012  1572.250000  3505.699951\n",
       "2021-11-10  524.400024  2549.899902   706.500000  1555.250000  3484.300049\n",
       "2021-11-11  509.600006  2554.550049   702.599976  1548.300049  3488.199951\n",
       "\n",
       "[2183 rows x 5 columns]"
      ]
     },
     "execution_count": 72,
     "metadata": {},
     "output_type": "execute_result"
    }
   ],
   "source": [
    "df"
   ]
  },
  {
   "cell_type": "code",
   "execution_count": 73,
   "id": "941c8018-bccd-47d5-a4fd-21e1002526e8",
   "metadata": {},
   "outputs": [
    {
     "data": {
      "image/png": "[encoded data removed]",
      "text/plain": [
       "<Figure size 432x288 with 1 Axes>"
      ]
     },
     "metadata": {},
     "output_type": "display_data"
    }
   ],
   "source": [
    "#visually show portfolio\n",
    "my_stock=df\n",
    "title='portfolio'\n",
    "for c in my_stock.columns.values:\n",
    "    plt.plot(my_stock[c],label=c)\n",
    "plt.title=title\n",
    "plt.xlabel('Date',fontsize=18)\n",
    "plt.legend(my_stock.columns.values,loc='upper left')\n",
    "plt.show()"
   ]
  },
  {
   "cell_type": "code",
   "execution_count": 74,
   "id": "27693cb0-2628-4bcf-a4a5-4b7d726fd87b",
   "metadata": {},
   "outputs": [
    {
     "data": {
      "text/html": [
       "<div>\n",
       "<style scoped>\n",
       "    .dataframe tbody tr th:only-of-type {\n",
       "        vertical-align: middle;\n",
       "    }\n",
       "\n",
       "    .dataframe tbody tr th {\n",
       "        vertical-align: top;\n",
       "    }\n",
       "\n",
       "    .dataframe thead th {\n",
       "        text-align: right;\n",
       "    }\n",
       "</style>\n",
       "<table border=\"1\" class=\"dataframe\">\n",
       "  <thead>\n",
       "    <tr style=\"text-align: right;\">\n",
       "      <th></th>\n",
       "      <th>SBIN.NS</th>\n",
       "      <th>RELIANCE.NS</th>\n",
       "      <th>HDFCLIFE.NS</th>\n",
       "      <th>HDFCBANK.NS</th>\n",
       "      <th>TCS.NS</th>\n",
       "    </tr>\n",
       "    <tr>\n",
       "      <th>Date</th>\n",
       "      <th></th>\n",
       "      <th></th>\n",
       "      <th></th>\n",
       "      <th></th>\n",
       "      <th></th>\n",
       "    </tr>\n",
       "  </thead>\n",
       "  <tbody>\n",
       "    <tr>\n",
       "      <th>2013-01-01</th>\n",
       "      <td>NaN</td>\n",
       "      <td>NaN</td>\n",
       "      <td>NaN</td>\n",
       "      <td>NaN</td>\n",
       "      <td>NaN</td>\n",
       "    </tr>\n",
       "    <tr>\n",
       "      <th>2013-01-02</th>\n",
       "      <td>0.009932</td>\n",
       "      <td>0.008624</td>\n",
       "      <td>NaN</td>\n",
       "      <td>0.004164</td>\n",
       "      <td>-0.000673</td>\n",
       "    </tr>\n",
       "    <tr>\n",
       "      <th>2013-01-03</th>\n",
       "      <td>0.008590</td>\n",
       "      <td>0.015095</td>\n",
       "      <td>NaN</td>\n",
       "      <td>-0.005819</td>\n",
       "      <td>0.013695</td>\n",
       "    </tr>\n",
       "    <tr>\n",
       "      <th>2013-01-04</th>\n",
       "      <td>0.006109</td>\n",
       "      <td>0.001278</td>\n",
       "      <td>NaN</td>\n",
       "      <td>-0.005854</td>\n",
       "      <td>0.014524</td>\n",
       "    </tr>\n",
       "    <tr>\n",
       "      <th>2013-01-07</th>\n",
       "      <td>-0.007681</td>\n",
       "      <td>-0.006091</td>\n",
       "      <td>NaN</td>\n",
       "      <td>-0.016413</td>\n",
       "      <td>-0.003348</td>\n",
       "    </tr>\n",
       "    <tr>\n",
       "      <th>...</th>\n",
       "      <td>...</td>\n",
       "      <td>...</td>\n",
       "      <td>...</td>\n",
       "      <td>...</td>\n",
       "      <td>...</td>\n",
       "    </tr>\n",
       "    <tr>\n",
       "      <th>2021-11-04</th>\n",
       "      <td>0.005307</td>\n",
       "      <td>0.006140</td>\n",
       "      <td>0.005922</td>\n",
       "      <td>0.007904</td>\n",
       "      <td>0.004696</td>\n",
       "    </tr>\n",
       "    <tr>\n",
       "      <th>2021-11-08</th>\n",
       "      <td>-0.013573</td>\n",
       "      <td>0.001241</td>\n",
       "      <td>0.009836</td>\n",
       "      <td>0.003952</td>\n",
       "      <td>-0.001682</td>\n",
       "    </tr>\n",
       "    <tr>\n",
       "      <th>2021-11-09</th>\n",
       "      <td>0.011276</td>\n",
       "      <td>0.007894</td>\n",
       "      <td>0.004550</td>\n",
       "      <td>-0.017497</td>\n",
       "      <td>0.000842</td>\n",
       "    </tr>\n",
       "    <tr>\n",
       "      <th>2021-11-10</th>\n",
       "      <td>-0.008977</td>\n",
       "      <td>0.011183</td>\n",
       "      <td>0.000071</td>\n",
       "      <td>-0.010813</td>\n",
       "      <td>-0.006104</td>\n",
       "    </tr>\n",
       "    <tr>\n",
       "      <th>2021-11-11</th>\n",
       "      <td>-0.028223</td>\n",
       "      <td>0.001824</td>\n",
       "      <td>-0.005520</td>\n",
       "      <td>-0.004469</td>\n",
       "      <td>0.001119</td>\n",
       "    </tr>\n",
       "  </tbody>\n",
       "</table>\n",
       "<p>2183 rows × 5 columns</p>\n",
       "</div>"
      ],
      "text/plain": [
       "             SBIN.NS  RELIANCE.NS  HDFCLIFE.NS  HDFCBANK.NS    TCS.NS\n",
       "Date                                                                 \n",
       "2013-01-01       NaN          NaN          NaN          NaN       NaN\n",
       "2013-01-02  0.009932     0.008624          NaN     0.004164 -0.000673\n",
       "2013-01-03  0.008590     0.015095          NaN    -0.005819  0.013695\n",
       "2013-01-04  0.006109     0.001278          NaN    -0.005854  0.014524\n",
       "2013-01-07 -0.007681    -0.006091          NaN    -0.016413 -0.003348\n",
       "...              ...          ...          ...          ...       ...\n",
       "2021-11-04  0.005307     0.006140     0.005922     0.007904  0.004696\n",
       "2021-11-08 -0.013573     0.001241     0.009836     0.003952 -0.001682\n",
       "2021-11-09  0.011276     0.007894     0.004550    -0.017497  0.000842\n",
       "2021-11-10 -0.008977     0.011183     0.000071    -0.010813 -0.006104\n",
       "2021-11-11 -0.028223     0.001824    -0.005520    -0.004469  0.001119\n",
       "\n",
       "[2183 rows x 5 columns]"
      ]
     },
     "execution_count": 74,
     "metadata": {},
     "output_type": "execute_result"
    }
   ],
   "source": [
    "#show daily simple return\n",
    "returns=df.pct_change()\n",
    "returns"
   ]
  },
  {
   "cell_type": "code",
   "execution_count": 75,
   "id": "82f80e0c-8a04-4a56-a761-28b14278b6d0",
   "metadata": {},
   "outputs": [
    {
     "data": {
      "text/html": [
       "<div>\n",
       "<style scoped>\n",
       "    .dataframe tbody tr th:only-of-type {\n",
       "        vertical-align: middle;\n",
       "    }\n",
       "\n",
       "    .dataframe tbody tr th {\n",
       "        vertical-align: top;\n",
       "    }\n",
       "\n",
       "    .dataframe thead th {\n",
       "        text-align: right;\n",
       "    }\n",
       "</style>\n",
       "<table border=\"1\" class=\"dataframe\">\n",
       "  <thead>\n",
       "    <tr style=\"text-align: right;\">\n",
       "      <th></th>\n",
       "      <th>SBIN.NS</th>\n",
       "      <th>RELIANCE.NS</th>\n",
       "      <th>HDFCLIFE.NS</th>\n",
       "      <th>HDFCBANK.NS</th>\n",
       "      <th>TCS.NS</th>\n",
       "    </tr>\n",
       "  </thead>\n",
       "  <tbody>\n",
       "    <tr>\n",
       "      <th>SBIN.NS</th>\n",
       "      <td>0.127764</td>\n",
       "      <td>0.037342</td>\n",
       "      <td>0.041647</td>\n",
       "      <td>0.037295</td>\n",
       "      <td>0.010145</td>\n",
       "    </tr>\n",
       "    <tr>\n",
       "      <th>RELIANCE.NS</th>\n",
       "      <td>0.037342</td>\n",
       "      <td>0.082912</td>\n",
       "      <td>0.040713</td>\n",
       "      <td>0.028610</td>\n",
       "      <td>0.016567</td>\n",
       "    </tr>\n",
       "    <tr>\n",
       "      <th>HDFCLIFE.NS</th>\n",
       "      <td>0.041647</td>\n",
       "      <td>0.040713</td>\n",
       "      <td>0.109542</td>\n",
       "      <td>0.038379</td>\n",
       "      <td>0.020207</td>\n",
       "    </tr>\n",
       "    <tr>\n",
       "      <th>HDFCBANK.NS</th>\n",
       "      <td>0.037295</td>\n",
       "      <td>0.028610</td>\n",
       "      <td>0.038379</td>\n",
       "      <td>0.055880</td>\n",
       "      <td>0.011423</td>\n",
       "    </tr>\n",
       "    <tr>\n",
       "      <th>TCS.NS</th>\n",
       "      <td>0.010145</td>\n",
       "      <td>0.016567</td>\n",
       "      <td>0.020207</td>\n",
       "      <td>0.011423</td>\n",
       "      <td>0.062158</td>\n",
       "    </tr>\n",
       "  </tbody>\n",
       "</table>\n",
       "</div>"
      ],
      "text/plain": [
       "              SBIN.NS  RELIANCE.NS  HDFCLIFE.NS  HDFCBANK.NS    TCS.NS\n",
       "SBIN.NS      0.127764     0.037342     0.041647     0.037295  0.010145\n",
       "RELIANCE.NS  0.037342     0.082912     0.040713     0.028610  0.016567\n",
       "HDFCLIFE.NS  0.041647     0.040713     0.109542     0.038379  0.020207\n",
       "HDFCBANK.NS  0.037295     0.028610     0.038379     0.055880  0.011423\n",
       "TCS.NS       0.010145     0.016567     0.020207     0.011423  0.062158"
      ]
     },
     "execution_count": 75,
     "metadata": {},
     "output_type": "execute_result"
    }
   ],
   "source": [
    "#create and return annulize Covarience Matrix\n",
    "#diagonal is varience , off diagonals are co-varience\n",
    "#252 -> number of trading days in Year\n",
    "cov_matrix_annual=returns.cov()*252\n",
    "cov_matrix_annual"
   ]
  },
  {
   "cell_type": "code",
   "execution_count": 76,
   "id": "f5d1dc63-29bc-43d9-8803-c8d9f85d839f",
   "metadata": {},
   "outputs": [
    {
     "data": {
      "text/plain": [
       "0.040116562928341745"
      ]
     },
     "execution_count": 76,
     "metadata": {},
     "output_type": "execute_result"
    }
   ],
   "source": [
    "#portfolio varience\n",
    "port_variance=np.dot(weights.T,np.dot(cov_matrix_annual,weights))\n",
    "port_variance"
   ]
  },
  {
   "cell_type": "code",
   "execution_count": 77,
   "id": "625e2c40-650e-49f3-a939-f25078d8c4e0",
   "metadata": {},
   "outputs": [
    {
     "data": {
      "text/plain": [
       "0.20029119533404793"
      ]
     },
     "execution_count": 77,
     "metadata": {},
     "output_type": "execute_result"
    }
   ],
   "source": [
    "#portfolio volatility aka standard devaition\n",
    "port_volatility=np.sqrt(port_variance)\n",
    "port_volatility"
   ]
  },
  {
   "cell_type": "code",
   "execution_count": 78,
   "id": "2943dc23-a4e6-4f67-ac71-1b4f0bcbc3ba",
   "metadata": {},
   "outputs": [
    {
     "data": {
      "text/plain": [
       "0.2230949269173683"
      ]
     },
     "execution_count": 78,
     "metadata": {},
     "output_type": "execute_result"
    }
   ],
   "source": [
    "#calculate return of annual portfolio\n",
    "#252 -> number of trading days in Year\n",
    "portfolioSimpleAnnualReturn=np.sum(returns.mean() * weights) *252\n",
    "portfolioSimpleAnnualReturn"
   ]
  },
  {
   "cell_type": "code",
   "execution_count": 79,
   "id": "07f478d5-6847-4504-aff3-bb0e42abe894",
   "metadata": {},
   "outputs": [
    {
     "name": "stdout",
     "output_type": "stream",
     "text": [
      "Expected annual return: 22.0%\n",
      "Annual volatility /risk: 20.0%\n",
      "Annual variance: 4.0%\n"
     ]
    }
   ],
   "source": [
    "#Show the expected annual return, volatility (risk), and variance\n",
    "\n",
    "\n",
    "percent_var= str(round(port_variance, 2) * 100) +  '%'                                                                                                        \n",
    "\n",
    "percent_vols = str(round(port_volatility, 2) * 100 )+ '%'\n",
    "\n",
    "percent_ret = str(round (portfolioSimpleAnnualReturn, 2) * 100) + '%'                                                                                                                                                                                                                                                                      \n",
    "\n",
    "print ('Expected annual return: '+ percent_ret)\n",
    "\n",
    "print ('Annual volatility /risk: '+ percent_vols)\n",
    "\n",
    "print ('Annual variance: '+ percent_var)"
   ]
  },
  {
   "cell_type": "code",
   "execution_count": 80,
   "id": "396160af-cb4c-4549-9177-f54ee59dd840",
   "metadata": {},
   "outputs": [],
   "source": [
    "#!pip install PyPortfolioOpt"
   ]
  },
  {
   "cell_type": "code",
   "execution_count": 81,
   "id": "e6dd3ad4-0d26-4c25-bf57-dcebb7aecb2d",
   "metadata": {},
   "outputs": [],
   "source": [
    "from pypfopt.efficient_frontier import EfficientFrontier\n",
    "from pypfopt import risk_models\n",
    "from pypfopt import  expected_returns"
   ]
  },
  {
   "cell_type": "code",
   "execution_count": 82,
   "id": "7ecfb8bc-9a64-407d-bc77-f1c3a54aaacd",
   "metadata": {},
   "outputs": [
    {
     "data": {
      "text/plain": [
       "SBIN.NS        0.099314\n",
       "RELIANCE.NS    0.242771\n",
       "HDFCLIFE.NS    0.204430\n",
       "HDFCBANK.NS    0.198453\n",
       "TCS.NS         0.243461\n",
       "dtype: float64"
      ]
     },
     "execution_count": 82,
     "metadata": {},
     "output_type": "execute_result"
    }
   ],
   "source": [
    "#portfolio Optimization\n",
    "\n",
    "#Calculate the Expected Return and annaualize sample covarience Matrix\n",
    "\n",
    "mu=expected_returns.mean_historical_return(df)\n",
    "mu"
   ]
  },
  {
   "cell_type": "code",
   "execution_count": 83,
   "id": "18ce3472-acbb-451a-a335-d8acbc6e9313",
   "metadata": {},
   "outputs": [
    {
     "data": {
      "text/html": [
       "<div>\n",
       "<style scoped>\n",
       "    .dataframe tbody tr th:only-of-type {\n",
       "        vertical-align: middle;\n",
       "    }\n",
       "\n",
       "    .dataframe tbody tr th {\n",
       "        vertical-align: top;\n",
       "    }\n",
       "\n",
       "    .dataframe thead th {\n",
       "        text-align: right;\n",
       "    }\n",
       "</style>\n",
       "<table border=\"1\" class=\"dataframe\">\n",
       "  <thead>\n",
       "    <tr style=\"text-align: right;\">\n",
       "      <th></th>\n",
       "      <th>SBIN.NS</th>\n",
       "      <th>RELIANCE.NS</th>\n",
       "      <th>HDFCLIFE.NS</th>\n",
       "      <th>HDFCBANK.NS</th>\n",
       "      <th>TCS.NS</th>\n",
       "    </tr>\n",
       "  </thead>\n",
       "  <tbody>\n",
       "    <tr>\n",
       "      <th>SBIN.NS</th>\n",
       "      <td>0.127764</td>\n",
       "      <td>0.037342</td>\n",
       "      <td>0.041647</td>\n",
       "      <td>0.037295</td>\n",
       "      <td>0.010145</td>\n",
       "    </tr>\n",
       "    <tr>\n",
       "      <th>RELIANCE.NS</th>\n",
       "      <td>0.037342</td>\n",
       "      <td>0.082912</td>\n",
       "      <td>0.040713</td>\n",
       "      <td>0.028610</td>\n",
       "      <td>0.016567</td>\n",
       "    </tr>\n",
       "    <tr>\n",
       "      <th>HDFCLIFE.NS</th>\n",
       "      <td>0.041647</td>\n",
       "      <td>0.040713</td>\n",
       "      <td>0.109542</td>\n",
       "      <td>0.038379</td>\n",
       "      <td>0.020207</td>\n",
       "    </tr>\n",
       "    <tr>\n",
       "      <th>HDFCBANK.NS</th>\n",
       "      <td>0.037295</td>\n",
       "      <td>0.028610</td>\n",
       "      <td>0.038379</td>\n",
       "      <td>0.055880</td>\n",
       "      <td>0.011423</td>\n",
       "    </tr>\n",
       "    <tr>\n",
       "      <th>TCS.NS</th>\n",
       "      <td>0.010145</td>\n",
       "      <td>0.016567</td>\n",
       "      <td>0.020207</td>\n",
       "      <td>0.011423</td>\n",
       "      <td>0.062158</td>\n",
       "    </tr>\n",
       "  </tbody>\n",
       "</table>\n",
       "</div>"
      ],
      "text/plain": [
       "              SBIN.NS  RELIANCE.NS  HDFCLIFE.NS  HDFCBANK.NS    TCS.NS\n",
       "SBIN.NS      0.127764     0.037342     0.041647     0.037295  0.010145\n",
       "RELIANCE.NS  0.037342     0.082912     0.040713     0.028610  0.016567\n",
       "HDFCLIFE.NS  0.041647     0.040713     0.109542     0.038379  0.020207\n",
       "HDFCBANK.NS  0.037295     0.028610     0.038379     0.055880  0.011423\n",
       "TCS.NS       0.010145     0.016567     0.020207     0.011423  0.062158"
      ]
     },
     "execution_count": 83,
     "metadata": {},
     "output_type": "execute_result"
    }
   ],
   "source": [
    "S=risk_models.sample_cov(df)\n",
    "S"
   ]
  },
  {
   "cell_type": "code",
   "execution_count": 84,
   "id": "94e80cd2-5bca-4ce0-8b7e-5f98ba53b673",
   "metadata": {},
   "outputs": [
    {
     "data": {
      "text/plain": [
       "OrderedDict([('SBIN.NS', 0.0),\n",
       "             ('RELIANCE.NS', 0.2384007561147306),\n",
       "             ('HDFCLIFE.NS', 0.0),\n",
       "             ('HDFCBANK.NS', 0.2993716401292158),\n",
       "             ('TCS.NS', 0.4622276037560537)])"
      ]
     },
     "execution_count": 84,
     "metadata": {},
     "output_type": "execute_result"
    }
   ],
   "source": [
    "#optimize for Max Sharp Ratio\n",
    "#Sharp ration : basically to describe how much excess return you receive for some amout of volatility\n",
    "#it masure performance of investment compare to investment that is risk free\n",
    "\n",
    "ef=EfficientFrontier(mu,S)\n",
    "weights = ef.max_sharpe()\n",
    "weights"
   ]
  },
  {
   "cell_type": "code",
   "execution_count": 85,
   "id": "70225f1c-0f49-4a6e-b5be-a59f221d0a27",
   "metadata": {},
   "outputs": [
    {
     "name": "stdout",
     "output_type": "stream",
     "text": [
      "OrderedDict([('SBIN.NS', 0.0), ('RELIANCE.NS', 0.2384), ('HDFCLIFE.NS', 0.0), ('HDFCBANK.NS', 0.29937), ('TCS.NS', 0.46223)])\n",
      "Expected annual return: 23.0%\n",
      "Annual volatility: 18.4%\n",
      "Sharpe Ratio: 1.14\n"
     ]
    },
    {
     "data": {
      "text/plain": [
       "(0.22982203787583635, 0.18411242183798304, 1.1396408551970356)"
      ]
     },
     "execution_count": 85,
     "metadata": {},
     "output_type": "execute_result"
    }
   ],
   "source": [
    "cleaned_weights=ef.clean_weights()\n",
    "print(cleaned_weights)\n",
    "ef.portfolio_performance(verbose=True)"
   ]
  },
  {
   "cell_type": "code",
   "execution_count": 86,
   "id": "12c57099-8f8d-4303-9c18-73edf71b3a53",
   "metadata": {},
   "outputs": [
    {
     "name": "stdout",
     "output_type": "stream",
     "text": [
      "SBIN.NS         509.600006\n",
      "RELIANCE.NS    2554.550049\n",
      "HDFCLIFE.NS     702.599976\n",
      "HDFCBANK.NS    1548.300049\n",
      "TCS.NS         3488.199951\n",
      "Name: 2021-11-11 00:00:00, dtype: float64\n"
     ]
    }
   ],
   "source": [
    "#get discrete allocation of each share per stock\n",
    "from pypfopt import  DiscreteAllocation,get_latest_prices\n",
    "latest_prices=get_latest_prices(df)\n",
    "print(latest_prices)"
   ]
  },
  {
   "cell_type": "code",
   "execution_count": 87,
   "id": "6a305b72-e07d-4d92-b2ef-93a0c110ba8f",
   "metadata": {},
   "outputs": [
    {
     "name": "stdout",
     "output_type": "stream",
     "text": [
      "Discrete Allocation :  {'RELIANCE.NS': 5, 'HDFCBANK.NS': 10, 'TCS.NS': 6}\n",
      "Funds Remainning :  815.049560546875\n"
     ]
    }
   ],
   "source": [
    "weights=cleaned_weights\n",
    "da=DiscreteAllocation(weights,latest_prices,total_portfolio_value=50000)\n",
    "\n",
    "allocation,left_over=da.lp_portfolio()\n",
    "\n",
    "\n",
    "print(\"Discrete Allocation : \", allocation)\n",
    "print(\"Funds Remainning : \",left_over)\n",
    "# Given the money 50000 to optimize it we can buy  {'RELIANCE.NS': 5, 'HDFCBANK.NS': 10, 'TCS.NS': 6} stock"
   ]
  },
  {
   "cell_type": "code",
   "execution_count": null,
   "id": "0945cc59-3a81-420b-8743-6f5702d28a74",
   "metadata": {},
   "outputs": [],
   "source": []
  },
  {
   "cell_type": "code",
   "execution_count": 88,
   "id": "2cb88d80-089a-4878-a46b-a926c7472562",
   "metadata": {},
   "outputs": [],
   "source": [
    "#!export CVXOPT_BUILD_GLPK=1\n",
    "#!pip install cvxopt --no-binary cvxopt"
   ]
  },
  {
   "cell_type": "code",
   "execution_count": null,
   "id": "aab4d944-8df9-4edf-a1dd-648096aa2b27",
   "metadata": {},
   "outputs": [],
   "source": []
  }
 ],
 "metadata": {
  "kernelspec": {
   "display_name": "Python 3",
   "language": "python",
   "name": "python3"
  },
  "language_info": {
   "codemirror_mode": {
    "name": "ipython",
    "version": 3
   },
   "file_extension": ".py",
   "mimetype": "text/x-python",
   "name": "python",
   "nbconvert_exporter": "python",
   "pygments_lexer": "ipython3",
   "version": "3.8.8"
  }
 },
 "nbformat": 4,
 "nbformat_minor": 5
}
