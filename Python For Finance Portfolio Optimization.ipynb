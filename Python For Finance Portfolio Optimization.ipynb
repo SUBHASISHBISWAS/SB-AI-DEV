{
 "cells": [
  {
   "cell_type": "code",
   "execution_count": 2,
   "id": "1bcdf2a3-0445-48af-87db-f4afcd1edcef",
   "metadata": {},
   "outputs": [],
   "source": [
    "#!pip install pandas-datareader"
   ]
  },
  {
   "cell_type": "code",
   "execution_count": 3,
   "id": "55a21bc0-3597-47ea-8f83-f94269f1c508",
   "metadata": {},
   "outputs": [],
   "source": [
    "from pandas_datareader import data as web\n",
    "from datetime import datetime\n",
    "import pandas as pd\n",
    "import numpy as np\n",
    "import matplotlib.pyplot as plt\n",
    "plt.style.use('fivethirtyeight')"
   ]
  },
  {
   "cell_type": "code",
   "execution_count": 117,
   "id": "78a10c3a-cd87-4f3f-8264-6507e7b59736",
   "metadata": {},
   "outputs": [],
   "source": [
    "#get the Stock symbol from portfolio\n",
    "#FAANG\n",
    "\n",
    "assets=['SBI','RELIANCE.NS','PAGEIND.NS','HDFCBANK.NS','TCS.NS']\n",
    "\n",
    "#assign weight to stocks\n",
    "#all five stock to add upto=1 and assign equal amount of weights to the stocks\n",
    "#20% of each of this stock in this portfolio \n",
    "weights=np.array([0.2,0.2,0.2,0.2,0.2])"
   ]
  },
  {
   "cell_type": "code",
   "execution_count": 118,
   "id": "afa584b4-a109-4202-b09b-1fa03bdb3adc",
   "metadata": {},
   "outputs": [
    {
     "data": {
      "text/plain": [
       "'2021-11-10'"
      ]
     },
     "execution_count": 118,
     "metadata": {},
     "output_type": "execute_result"
    }
   ],
   "source": [
    "#stock start and end date\n",
    "\n",
    "stockStartDate='2013-01-01'\n",
    "today=datetime.today().strftime('%Y-%m-%d')\n",
    "today"
   ]
  },
  {
   "cell_type": "code",
   "execution_count": 119,
   "id": "a7655c84-257f-47ab-b65a-a8de1b0f9522",
   "metadata": {},
   "outputs": [],
   "source": [
    "#create dataframe to store adjusted close price\n",
    "df=pd.DataFrame()\n",
    "#store adjusted close price of the stock into the datframe\n",
    "for stock in assets:\n",
    "    df[stock]=web.DataReader(stock,data_source='yahoo',start=stockStartDate,end=today)['Adj Close']"
   ]
  },
  {
   "cell_type": "code",
   "execution_count": 120,
   "id": "0cd1ca38-d4b9-4517-b21d-4153c7ef8be0",
   "metadata": {},
   "outputs": [
    {
     "data": {
      "text/html": [
       "<div>\n",
       "<style scoped>\n",
       "    .dataframe tbody tr th:only-of-type {\n",
       "        vertical-align: middle;\n",
       "    }\n",
       "\n",
       "    .dataframe tbody tr th {\n",
       "        vertical-align: top;\n",
       "    }\n",
       "\n",
       "    .dataframe thead th {\n",
       "        text-align: right;\n",
       "    }\n",
       "</style>\n",
       "<table border=\"1\" class=\"dataframe\">\n",
       "  <thead>\n",
       "    <tr style=\"text-align: right;\">\n",
       "      <th></th>\n",
       "      <th>SBI</th>\n",
       "      <th>RELIANCE.NS</th>\n",
       "      <th>PAGEIND.NS</th>\n",
       "      <th>HDFCBANK.NS</th>\n",
       "      <th>TCS.NS</th>\n",
       "    </tr>\n",
       "    <tr>\n",
       "      <th>Date</th>\n",
       "      <th></th>\n",
       "      <th></th>\n",
       "      <th></th>\n",
       "      <th></th>\n",
       "      <th></th>\n",
       "    </tr>\n",
       "  </thead>\n",
       "  <tbody>\n",
       "    <tr>\n",
       "      <th>2012-12-31</th>\n",
       "      <td>7.266400</td>\n",
       "      <td>NaN</td>\n",
       "      <td>NaN</td>\n",
       "      <td>NaN</td>\n",
       "      <td>NaN</td>\n",
       "    </tr>\n",
       "    <tr>\n",
       "      <th>2013-01-02</th>\n",
       "      <td>7.520514</td>\n",
       "      <td>392.408020</td>\n",
       "      <td>3164.144287</td>\n",
       "      <td>324.266479</td>\n",
       "      <td>528.343079</td>\n",
       "    </tr>\n",
       "    <tr>\n",
       "      <th>2013-01-03</th>\n",
       "      <td>7.444964</td>\n",
       "      <td>398.331543</td>\n",
       "      <td>3136.777344</td>\n",
       "      <td>322.379364</td>\n",
       "      <td>535.578552</td>\n",
       "    </tr>\n",
       "    <tr>\n",
       "      <th>2013-01-04</th>\n",
       "      <td>7.513647</td>\n",
       "      <td>398.840637</td>\n",
       "      <td>3164.608643</td>\n",
       "      <td>320.492340</td>\n",
       "      <td>543.357666</td>\n",
       "    </tr>\n",
       "    <tr>\n",
       "      <th>2013-01-07</th>\n",
       "      <td>7.451832</td>\n",
       "      <td>396.410980</td>\n",
       "      <td>3162.893066</td>\n",
       "      <td>315.232208</td>\n",
       "      <td>541.538025</td>\n",
       "    </tr>\n",
       "    <tr>\n",
       "      <th>...</th>\n",
       "      <td>...</td>\n",
       "      <td>...</td>\n",
       "      <td>...</td>\n",
       "      <td>...</td>\n",
       "      <td>...</td>\n",
       "    </tr>\n",
       "    <tr>\n",
       "      <th>2021-11-04</th>\n",
       "      <td>9.730000</td>\n",
       "      <td>2498.850098</td>\n",
       "      <td>39262.300781</td>\n",
       "      <td>1593.949951</td>\n",
       "      <td>3508.649902</td>\n",
       "    </tr>\n",
       "    <tr>\n",
       "      <th>2021-11-05</th>\n",
       "      <td>9.760000</td>\n",
       "      <td>NaN</td>\n",
       "      <td>NaN</td>\n",
       "      <td>NaN</td>\n",
       "      <td>NaN</td>\n",
       "    </tr>\n",
       "    <tr>\n",
       "      <th>2021-11-08</th>\n",
       "      <td>9.780000</td>\n",
       "      <td>2501.949951</td>\n",
       "      <td>39260.250000</td>\n",
       "      <td>1600.250000</td>\n",
       "      <td>3502.750000</td>\n",
       "    </tr>\n",
       "    <tr>\n",
       "      <th>2021-11-09</th>\n",
       "      <td>9.800000</td>\n",
       "      <td>2521.699951</td>\n",
       "      <td>39769.351562</td>\n",
       "      <td>1572.250000</td>\n",
       "      <td>3505.699951</td>\n",
       "    </tr>\n",
       "    <tr>\n",
       "      <th>2021-11-10</th>\n",
       "      <td>9.810000</td>\n",
       "      <td>2549.899902</td>\n",
       "      <td>39766.449219</td>\n",
       "      <td>1555.250000</td>\n",
       "      <td>3484.300049</td>\n",
       "    </tr>\n",
       "  </tbody>\n",
       "</table>\n",
       "<p>2233 rows × 5 columns</p>\n",
       "</div>"
      ],
      "text/plain": [
       "                 SBI  RELIANCE.NS    PAGEIND.NS  HDFCBANK.NS       TCS.NS\n",
       "Date                                                                     \n",
       "2012-12-31  7.266400          NaN           NaN          NaN          NaN\n",
       "2013-01-02  7.520514   392.408020   3164.144287   324.266479   528.343079\n",
       "2013-01-03  7.444964   398.331543   3136.777344   322.379364   535.578552\n",
       "2013-01-04  7.513647   398.840637   3164.608643   320.492340   543.357666\n",
       "2013-01-07  7.451832   396.410980   3162.893066   315.232208   541.538025\n",
       "...              ...          ...           ...          ...          ...\n",
       "2021-11-04  9.730000  2498.850098  39262.300781  1593.949951  3508.649902\n",
       "2021-11-05  9.760000          NaN           NaN          NaN          NaN\n",
       "2021-11-08  9.780000  2501.949951  39260.250000  1600.250000  3502.750000\n",
       "2021-11-09  9.800000  2521.699951  39769.351562  1572.250000  3505.699951\n",
       "2021-11-10  9.810000  2549.899902  39766.449219  1555.250000  3484.300049\n",
       "\n",
       "[2233 rows x 5 columns]"
      ]
     },
     "execution_count": 120,
     "metadata": {},
     "output_type": "execute_result"
    }
   ],
   "source": [
    "df"
   ]
  },
  {
   "cell_type": "code",
   "execution_count": 121,
   "id": "941c8018-bccd-47d5-a4fd-21e1002526e8",
   "metadata": {},
   "outputs": [
    {
     "data": {
      "image/png": "[encoded data removed]",
      "text/plain": [
       "<Figure size 432x288 with 1 Axes>"
      ]
     },
     "metadata": {},
     "output_type": "display_data"
    }
   ],
   "source": [
    "#visually show portfolio\n",
    "my_stock=df\n",
    "title='portfolio'\n",
    "for c in my_stock.columns.values:\n",
    "    plt.plot(my_stock[c],label=c)\n",
    "plt.title=title\n",
    "plt.xlabel('Date',fontsize=18)\n",
    "plt.legend(my_stock.columns.values,loc='upper left')\n",
    "plt.show()"
   ]
  },
  {
   "cell_type": "code",
   "execution_count": 122,
   "id": "27693cb0-2628-4bcf-a4a5-4b7d726fd87b",
   "metadata": {},
   "outputs": [
    {
     "data": {
      "text/html": [
       "<div>\n",
       "<style scoped>\n",
       "    .dataframe tbody tr th:only-of-type {\n",
       "        vertical-align: middle;\n",
       "    }\n",
       "\n",
       "    .dataframe tbody tr th {\n",
       "        vertical-align: top;\n",
       "    }\n",
       "\n",
       "    .dataframe thead th {\n",
       "        text-align: right;\n",
       "    }\n",
       "</style>\n",
       "<table border=\"1\" class=\"dataframe\">\n",
       "  <thead>\n",
       "    <tr style=\"text-align: right;\">\n",
       "      <th></th>\n",
       "      <th>SBI</th>\n",
       "      <th>RELIANCE.NS</th>\n",
       "      <th>PAGEIND.NS</th>\n",
       "      <th>HDFCBANK.NS</th>\n",
       "      <th>TCS.NS</th>\n",
       "    </tr>\n",
       "    <tr>\n",
       "      <th>Date</th>\n",
       "      <th></th>\n",
       "      <th></th>\n",
       "      <th></th>\n",
       "      <th></th>\n",
       "      <th></th>\n",
       "    </tr>\n",
       "  </thead>\n",
       "  <tbody>\n",
       "    <tr>\n",
       "      <th>2012-12-31</th>\n",
       "      <td>NaN</td>\n",
       "      <td>NaN</td>\n",
       "      <td>NaN</td>\n",
       "      <td>NaN</td>\n",
       "      <td>NaN</td>\n",
       "    </tr>\n",
       "    <tr>\n",
       "      <th>2013-01-02</th>\n",
       "      <td>0.034971</td>\n",
       "      <td>NaN</td>\n",
       "      <td>NaN</td>\n",
       "      <td>NaN</td>\n",
       "      <td>NaN</td>\n",
       "    </tr>\n",
       "    <tr>\n",
       "      <th>2013-01-03</th>\n",
       "      <td>-0.010046</td>\n",
       "      <td>0.015095</td>\n",
       "      <td>-0.008649</td>\n",
       "      <td>-0.005820</td>\n",
       "      <td>0.013695</td>\n",
       "    </tr>\n",
       "    <tr>\n",
       "      <th>2013-01-04</th>\n",
       "      <td>0.009225</td>\n",
       "      <td>0.001278</td>\n",
       "      <td>0.008873</td>\n",
       "      <td>-0.005853</td>\n",
       "      <td>0.014525</td>\n",
       "    </tr>\n",
       "    <tr>\n",
       "      <th>2013-01-07</th>\n",
       "      <td>-0.008227</td>\n",
       "      <td>-0.006092</td>\n",
       "      <td>-0.000542</td>\n",
       "      <td>-0.016413</td>\n",
       "      <td>-0.003349</td>\n",
       "    </tr>\n",
       "    <tr>\n",
       "      <th>...</th>\n",
       "      <td>...</td>\n",
       "      <td>...</td>\n",
       "      <td>...</td>\n",
       "      <td>...</td>\n",
       "      <td>...</td>\n",
       "    </tr>\n",
       "    <tr>\n",
       "      <th>2021-11-04</th>\n",
       "      <td>0.004128</td>\n",
       "      <td>0.006140</td>\n",
       "      <td>0.007384</td>\n",
       "      <td>0.007904</td>\n",
       "      <td>0.004696</td>\n",
       "    </tr>\n",
       "    <tr>\n",
       "      <th>2021-11-05</th>\n",
       "      <td>0.003083</td>\n",
       "      <td>0.000000</td>\n",
       "      <td>0.000000</td>\n",
       "      <td>0.000000</td>\n",
       "      <td>0.000000</td>\n",
       "    </tr>\n",
       "    <tr>\n",
       "      <th>2021-11-08</th>\n",
       "      <td>0.002049</td>\n",
       "      <td>0.001241</td>\n",
       "      <td>-0.000052</td>\n",
       "      <td>0.003952</td>\n",
       "      <td>-0.001682</td>\n",
       "    </tr>\n",
       "    <tr>\n",
       "      <th>2021-11-09</th>\n",
       "      <td>0.002045</td>\n",
       "      <td>0.007894</td>\n",
       "      <td>0.012967</td>\n",
       "      <td>-0.017497</td>\n",
       "      <td>0.000842</td>\n",
       "    </tr>\n",
       "    <tr>\n",
       "      <th>2021-11-10</th>\n",
       "      <td>0.001020</td>\n",
       "      <td>0.011183</td>\n",
       "      <td>-0.000073</td>\n",
       "      <td>-0.010813</td>\n",
       "      <td>-0.006104</td>\n",
       "    </tr>\n",
       "  </tbody>\n",
       "</table>\n",
       "<p>2233 rows × 5 columns</p>\n",
       "</div>"
      ],
      "text/plain": [
       "                 SBI  RELIANCE.NS  PAGEIND.NS  HDFCBANK.NS    TCS.NS\n",
       "Date                                                                \n",
       "2012-12-31       NaN          NaN         NaN          NaN       NaN\n",
       "2013-01-02  0.034971          NaN         NaN          NaN       NaN\n",
       "2013-01-03 -0.010046     0.015095   -0.008649    -0.005820  0.013695\n",
       "2013-01-04  0.009225     0.001278    0.008873    -0.005853  0.014525\n",
       "2013-01-07 -0.008227    -0.006092   -0.000542    -0.016413 -0.003349\n",
       "...              ...          ...         ...          ...       ...\n",
       "2021-11-04  0.004128     0.006140    0.007384     0.007904  0.004696\n",
       "2021-11-05  0.003083     0.000000    0.000000     0.000000  0.000000\n",
       "2021-11-08  0.002049     0.001241   -0.000052     0.003952 -0.001682\n",
       "2021-11-09  0.002045     0.007894    0.012967    -0.017497  0.000842\n",
       "2021-11-10  0.001020     0.011183   -0.000073    -0.010813 -0.006104\n",
       "\n",
       "[2233 rows x 5 columns]"
      ]
     },
     "execution_count": 122,
     "metadata": {},
     "output_type": "execute_result"
    }
   ],
   "source": [
    "#show daily simple return\n",
    "returns=df.pct_change()\n",
    "returns"
   ]
  },
  {
   "cell_type": "code",
   "execution_count": 123,
   "id": "82f80e0c-8a04-4a56-a761-28b14278b6d0",
   "metadata": {},
   "outputs": [
    {
     "data": {
      "text/html": [
       "<div>\n",
       "<style scoped>\n",
       "    .dataframe tbody tr th:only-of-type {\n",
       "        vertical-align: middle;\n",
       "    }\n",
       "\n",
       "    .dataframe tbody tr th {\n",
       "        vertical-align: top;\n",
       "    }\n",
       "\n",
       "    .dataframe thead th {\n",
       "        text-align: right;\n",
       "    }\n",
       "</style>\n",
       "<table border=\"1\" class=\"dataframe\">\n",
       "  <thead>\n",
       "    <tr style=\"text-align: right;\">\n",
       "      <th></th>\n",
       "      <th>SBI</th>\n",
       "      <th>RELIANCE.NS</th>\n",
       "      <th>PAGEIND.NS</th>\n",
       "      <th>HDFCBANK.NS</th>\n",
       "      <th>TCS.NS</th>\n",
       "    </tr>\n",
       "  </thead>\n",
       "  <tbody>\n",
       "    <tr>\n",
       "      <th>SBI</th>\n",
       "      <td>0.011762</td>\n",
       "      <td>0.002644</td>\n",
       "      <td>0.002251</td>\n",
       "      <td>0.004261</td>\n",
       "      <td>0.002148</td>\n",
       "    </tr>\n",
       "    <tr>\n",
       "      <th>RELIANCE.NS</th>\n",
       "      <td>0.002644</td>\n",
       "      <td>0.080711</td>\n",
       "      <td>0.017993</td>\n",
       "      <td>0.027557</td>\n",
       "      <td>0.016248</td>\n",
       "    </tr>\n",
       "    <tr>\n",
       "      <th>PAGEIND.NS</th>\n",
       "      <td>0.002251</td>\n",
       "      <td>0.017993</td>\n",
       "      <td>0.109387</td>\n",
       "      <td>0.015540</td>\n",
       "      <td>0.009626</td>\n",
       "    </tr>\n",
       "    <tr>\n",
       "      <th>HDFCBANK.NS</th>\n",
       "      <td>0.004261</td>\n",
       "      <td>0.027557</td>\n",
       "      <td>0.015540</td>\n",
       "      <td>0.054601</td>\n",
       "      <td>0.011429</td>\n",
       "    </tr>\n",
       "    <tr>\n",
       "      <th>TCS.NS</th>\n",
       "      <td>0.002148</td>\n",
       "      <td>0.016248</td>\n",
       "      <td>0.009626</td>\n",
       "      <td>0.011429</td>\n",
       "      <td>0.060771</td>\n",
       "    </tr>\n",
       "  </tbody>\n",
       "</table>\n",
       "</div>"
      ],
      "text/plain": [
       "                  SBI  RELIANCE.NS  PAGEIND.NS  HDFCBANK.NS    TCS.NS\n",
       "SBI          0.011762     0.002644    0.002251     0.004261  0.002148\n",
       "RELIANCE.NS  0.002644     0.080711    0.017993     0.027557  0.016248\n",
       "PAGEIND.NS   0.002251     0.017993    0.109387     0.015540  0.009626\n",
       "HDFCBANK.NS  0.004261     0.027557    0.015540     0.054601  0.011429\n",
       "TCS.NS       0.002148     0.016248    0.009626     0.011429  0.060771"
      ]
     },
     "execution_count": 123,
     "metadata": {},
     "output_type": "execute_result"
    }
   ],
   "source": [
    "#create and return annulize Covarience Matrix\n",
    "#diagonal is varience , off diagonals are co-varience\n",
    "#252 -> number of trading days in Year\n",
    "cov_matrix_annual=returns.cov()*252\n",
    "cov_matrix_annual"
   ]
  },
  {
   "cell_type": "code",
   "execution_count": 124,
   "id": "f5d1dc63-29bc-43d9-8803-c8d9f85d839f",
   "metadata": {},
   "outputs": [
    {
     "data": {
      "text/plain": [
       "0.021464875068290926"
      ]
     },
     "execution_count": 124,
     "metadata": {},
     "output_type": "execute_result"
    }
   ],
   "source": [
    "#portfolio varience\n",
    "port_variance=np.dot(weights.T,np.dot(cov_matrix_annual,weights))\n",
    "port_variance"
   ]
  },
  {
   "cell_type": "code",
   "execution_count": 125,
   "id": "625e2c40-650e-49f3-a939-f25078d8c4e0",
   "metadata": {},
   "outputs": [
    {
     "data": {
      "text/plain": [
       "0.2439114480674213"
      ]
     },
     "execution_count": 125,
     "metadata": {},
     "output_type": "execute_result"
    }
   ],
   "source": [
    "#portfolio volatility aka standard devaition\n",
    "port_volatility=np.sqrt(port_varience)\n",
    "port_volatility"
   ]
  },
  {
   "cell_type": "code",
   "execution_count": 126,
   "id": "2943dc23-a4e6-4f67-ac71-1b4f0bcbc3ba",
   "metadata": {},
   "outputs": [
    {
     "data": {
      "text/plain": [
       "0.21595419237321412"
      ]
     },
     "execution_count": 126,
     "metadata": {},
     "output_type": "execute_result"
    }
   ],
   "source": [
    "#calculate return of annual portfolio\n",
    "#252 -> number of trading days in Year\n",
    "portfolioSimpleAnnualReturn=np.sum(returns.mean() * weights) *252\n",
    "portfolioSimpleAnnualReturn"
   ]
  },
  {
   "cell_type": "code",
   "execution_count": 127,
   "id": "07f478d5-6847-4504-aff3-bb0e42abe894",
   "metadata": {},
   "outputs": [
    {
     "name": "stdout",
     "output_type": "stream",
     "text": [
      "Expected annual return: 22.0%\n",
      "Annual volatility /risk: 24.0%\n",
      "Annual variance: 2.0%\n"
     ]
    }
   ],
   "source": [
    "#Show the expected annual return, volatility (risk), and variance\n",
    "\n",
    "\n",
    "percent_var= str(round(port_variance, 2) * 100) +  '%'                                                                                                        \n",
    "\n",
    "percent_vols = str(round(port_volatility, 2) * 100 )+ '%'\n",
    "\n",
    "percent_ret = str(round (portfolioSimpleAnnualReturn, 2) * 100) + '%'                                                                                                                                                                                                                                                                      \n",
    "\n",
    "print ('Expected annual return: '+ percent_ret)\n",
    "\n",
    "print ('Annual volatility /risk: '+ percent_vols)\n",
    "\n",
    "print ('Annual variance: '+ percent_var)"
   ]
  },
  {
   "cell_type": "code",
   "execution_count": 103,
   "id": "396160af-cb4c-4549-9177-f54ee59dd840",
   "metadata": {},
   "outputs": [],
   "source": [
    "#!pip install PyPortfolioOpt"
   ]
  },
  {
   "cell_type": "code",
   "execution_count": 69,
   "id": "e6dd3ad4-0d26-4c25-bf57-dcebb7aecb2d",
   "metadata": {},
   "outputs": [],
   "source": [
    "#!pip install empyrial"
   ]
  },
  {
   "cell_type": "code",
   "execution_count": 70,
   "id": "7ecfb8bc-9a64-407d-bc77-f1c3a54aaacd",
   "metadata": {},
   "outputs": [],
   "source": [
    "#!pip install --upgrade pip setuptools wheel"
   ]
  },
  {
   "cell_type": "code",
   "execution_count": 74,
   "id": "18ce3472-acbb-451a-a335-d8acbc6e9313",
   "metadata": {},
   "outputs": [],
   "source": [
    "#!pip install cvxpy"
   ]
  },
  {
   "cell_type": "code",
   "execution_count": 77,
   "id": "94e80cd2-5bca-4ce0-8b7e-5f98ba53b673",
   "metadata": {},
   "outputs": [],
   "source": [
    "#conda install -c conda-forge cvxpy"
   ]
  },
  {
   "cell_type": "code",
   "execution_count": null,
   "id": "70225f1c-0f49-4a6e-b5be-a59f221d0a27",
   "metadata": {},
   "outputs": [],
   "source": []
  }
 ],
 "metadata": {
  "kernelspec": {
   "display_name": "Python 3",
   "language": "python",
   "name": "python3"
  },
  "language_info": {
   "codemirror_mode": {
    "name": "ipython",
    "version": 3
   },
   "file_extension": ".py",
   "mimetype": "text/x-python",
   "name": "python",
   "nbconvert_exporter": "python",
   "pygments_lexer": "ipython3",
   "version": "3.8.8"
  }
 },
 "nbformat": 4,
 "nbformat_minor": 5
}
