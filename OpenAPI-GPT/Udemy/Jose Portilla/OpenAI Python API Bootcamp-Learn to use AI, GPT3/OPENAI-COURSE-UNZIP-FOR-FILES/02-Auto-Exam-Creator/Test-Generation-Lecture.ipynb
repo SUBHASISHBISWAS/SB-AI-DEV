{
 "cells": [
  {
   "cell_type": "markdown",
   "id": "1c03747c",
   "metadata": {},
   "source": [
    "<a href = \"https://www.pieriantraining.com\"><img src=\"../PT Centered Purple.png\"> </a>\n",
    "\n",
    "<em style=\"text-align:center\">Copyrighted by Pierian Training</em>"
   ]
  },
  {
   "cell_type": "markdown",
   "id": "895e4848",
   "metadata": {},
   "source": [
    "## Automatic Test Generation\n",
    "\n",
    "In this project, we will build an automatic test generation and grading platform!\n",
    "All we have to do is to provide a topic, the number of questions and the number of options for each question!\n",
    "Based on this information, a suitable test is generated, presented to the user and graded automatically!"
   ]
  },
  {
   "cell_type": "markdown",
   "id": "cf8a5e50",
   "metadata": {},
   "source": [
    "## Imports"
   ]
  },
  {
   "cell_type": "code",
   "execution_count": 1,
   "id": "8430a15c",
   "metadata": {},
   "outputs": [],
   "source": [
    "import os\n",
    "import openai\n"
   ]
  },
  {
   "cell_type": "markdown",
   "id": "d1311999",
   "metadata": {},
   "source": [
    "## OpenAI API\n",
    "\n",
    "Remember to use the notebook as shown, you must set your OpenAI API Key as an environment variable. Obviously, there are many ways you could provide your API Key to the Python code, input() or even hard-coded, but those are typically not recommended for safety reasons. Having it as an environment variable let's the key live on the computer, but not actually be present in the code.\n",
    "\n",
    "### Set-up Open AI API Key\n",
    "\n",
    "We'll only need to do this once per computer"
   ]
  },
  {
   "cell_type": "code",
   "execution_count": 5,
   "id": "20f34b3d",
   "metadata": {},
   "outputs": [],
   "source": [
    "# Uncomment below and swap in your key to place your environment key using Python\n",
    "# Then you can delete the key string and the code cell below will still work!\n",
    "# os.environ[\"OPENAI_API_KEY\"] = \"Your key goes here!"
   ]
  },
  {
   "cell_type": "code",
   "execution_count": 3,
   "id": "e575ce6d",
   "metadata": {},
   "outputs": [],
   "source": [
    "openai.api_key = os.getenv(\"OPENAI_API_KEY\")"
   ]
  },
  {
   "cell_type": "markdown",
   "id": "c9333385",
   "metadata": {},
   "source": [
    "### Tell GPT how to generate the test\n",
    "\n",
    "We tell GPT to create a multiple choiz quiz. Hence we define the topic, the number of possible answers as well as the number of questions.\n",
    "To enable automatical grading later, GPT needs to incorporate the correct answer!\n"
   ]
  },
  {
   "cell_type": "code",
   "execution_count": 7,
   "id": "50f35344",
   "metadata": {},
   "outputs": [],
   "source": [
    "def create_test_prompt(topic, num_questions, num_possible_answers):\n",
    "    prompt = f\"Create a multiple choice quiz on the topic of {topic} consisting of {num_questions} questions. \" \\\n",
    "                 + f\"Each question should have {num_possible_answers} options. \"\\\n",
    "                 + f\"Also include the correct answer for each question using the starting string 'Correct Answer: '.\"\n",
    "    return prompt"
   ]
  },
  {
   "cell_type": "code",
   "execution_count": 9,
   "id": "86db2bc3",
   "metadata": {},
   "outputs": [
    {
     "data": {
      "text/plain": [
       "\"Create a multiple choice quiz on the topic of Python consisting of 4 questions. Each question should have 4 options. Also include the correct answer for each question using the starting string 'Correct Answer: '.\""
      ]
     },
     "execution_count": 9,
     "metadata": {},
     "output_type": "execute_result"
    }
   ],
   "source": [
    "create_test_prompt(\"Python\", 4, 4)"
   ]
  },
  {
   "cell_type": "markdown",
   "id": "0fc3ec9f",
   "metadata": {},
   "source": [
    "### OpenAI API Call\n",
    "Let's use text-davinci-003 for normal text generation"
   ]
  },
  {
   "cell_type": "code",
   "execution_count": 10,
   "id": "930d61b4",
   "metadata": {},
   "outputs": [],
   "source": [
    "response = openai.Completion.create(engine=\"text-davinci-003\",\n",
    "                                            prompt=create_test_prompt(\"Python\", 4, 4),\n",
    "                                            max_tokens=256,\n",
    "                                            temperature=0.7)"
   ]
  },
  {
   "cell_type": "code",
   "execution_count": 11,
   "id": "7da58566",
   "metadata": {},
   "outputs": [
    {
     "data": {
      "text/plain": [
       "<OpenAIObject text_completion id=cmpl-6bmkS58AMZAXGWLpqc2tRuK88uRaJ at 0x7f8949342db0> JSON: {\n",
       "  \"choices\": [\n",
       "    {\n",
       "      \"finish_reason\": \"stop\",\n",
       "      \"index\": 0,\n",
       "      \"logprobs\": null,\n",
       "      \"text\": \"\\n\\nQ1. What is the syntax for declaring a variable in Python?\\nA. #variable\\nB. var variable\\nC. !variable\\nD. var = variable\\nCorrect Answer: D. var = variable\\n\\nQ2. What type of language is Python?\\nA. Interpreted\\nB. Compiled\\nC. Assembly\\nD. Machine\\nCorrect Answer: A. Interpreted\\n\\nQ3. What type of loop is used when a set of instructions need to be repeated until a condition is met?\\nA. For loop\\nB. While loop\\nC. Do-while loop\\nD. If-else loop\\nCorrect Answer: B. While loop\\n\\nQ4. What is the result of the following expression?\\n2 + 5 * 3\\nA. 23\\nB. 17\\nC. 11\\nD. 25\\nCorrect Answer: B. 17\"\n",
       "    }\n",
       "  ],\n",
       "  \"created\": 1674463544,\n",
       "  \"id\": \"cmpl-6bmkS58AMZAXGWLpqc2tRuK88uRaJ\",\n",
       "  \"model\": \"text-davinci-003\",\n",
       "  \"object\": \"text_completion\",\n",
       "  \"usage\": {\n",
       "    \"completion_tokens\": 185,\n",
       "    \"prompt_tokens\": 39,\n",
       "    \"total_tokens\": 224\n",
       "  }\n",
       "}"
      ]
     },
     "execution_count": 11,
     "metadata": {},
     "output_type": "execute_result"
    }
   ],
   "source": [
    "response"
   ]
  },
  {
   "cell_type": "code",
   "execution_count": 12,
   "id": "38688eb8",
   "metadata": {},
   "outputs": [
    {
     "data": {
      "text/plain": [
       "'\\n\\nQ1. What is the syntax for declaring a variable in Python?\\nA. #variable\\nB. var variable\\nC. !variable\\nD. var = variable\\nCorrect Answer: D. var = variable\\n\\nQ2. What type of language is Python?\\nA. Interpreted\\nB. Compiled\\nC. Assembly\\nD. Machine\\nCorrect Answer: A. Interpreted\\n\\nQ3. What type of loop is used when a set of instructions need to be repeated until a condition is met?\\nA. For loop\\nB. While loop\\nC. Do-while loop\\nD. If-else loop\\nCorrect Answer: B. While loop\\n\\nQ4. What is the result of the following expression?\\n2 + 5 * 3\\nA. 23\\nB. 17\\nC. 11\\nD. 25\\nCorrect Answer: B. 17'"
      ]
     },
     "execution_count": 12,
     "metadata": {},
     "output_type": "execute_result"
    }
   ],
   "source": [
    "response[\"choices\"][0][\"text\"]"
   ]
  },
  {
   "cell_type": "markdown",
   "id": "a428a8e5",
   "metadata": {},
   "source": [
    "### Q/A Extraction\n",
    "\n",
    "We now need to extract the questions and answers to present them to the students later"
   ]
  },
  {
   "cell_type": "code",
   "execution_count": 13,
   "id": "31e6ad53",
   "metadata": {},
   "outputs": [],
   "source": [
    "def create_student_view(test, num_questions):\n",
    "    student_view = {1 : \"\"}\n",
    "    question_number = 1\n",
    "    for line in test.split(\"\\n\"):\n",
    "        if not line.startswith(\"Correct Answer:\"):\n",
    "            student_view[question_number] += line+\"\\n\"\n",
    "        else:\n",
    "\n",
    "            if question_number < num_questions:\n",
    "                question_number+=1\n",
    "                student_view[question_number] = \"\"\n",
    "    return student_view\n",
    " "
   ]
  },
  {
   "cell_type": "code",
   "execution_count": 14,
   "id": "6e92ffd5",
   "metadata": {},
   "outputs": [
    {
     "data": {
      "text/plain": [
       "{1: '\\n\\nQ1. What is the syntax for declaring a variable in Python?\\nA. #variable\\nB. var variable\\nC. !variable\\nD. var = variable\\n',\n",
       " 2: '\\nQ2. What type of language is Python?\\nA. Interpreted\\nB. Compiled\\nC. Assembly\\nD. Machine\\n',\n",
       " 3: '\\nQ3. What type of loop is used when a set of instructions need to be repeated until a condition is met?\\nA. For loop\\nB. While loop\\nC. Do-while loop\\nD. If-else loop\\n',\n",
       " 4: '\\nQ4. What is the result of the following expression?\\n2 + 5 * 3\\nA. 23\\nB. 17\\nC. 11\\nD. 25\\n'}"
      ]
     },
     "execution_count": 14,
     "metadata": {},
     "output_type": "execute_result"
    }
   ],
   "source": [
    "create_student_view(response[\"choices\"][0][\"text\"], 4)"
   ]
  },
  {
   "cell_type": "code",
   "execution_count": 16,
   "id": "86f196d0",
   "metadata": {},
   "outputs": [],
   "source": [
    "def extract_answers(test, num_questions):\n",
    "    answers = {1 : \"\"}\n",
    "    question_number = 1\n",
    "    for line in test.split(\"\\n\"):\n",
    "        if line.startswith(\"Correct Answer:\"):\n",
    "            answers[question_number] += line+\"\\n\"\n",
    "\n",
    "            if question_number < num_questions:\n",
    "                question_number+=1\n",
    "                answers[question_number] = \"\"\n",
    "    return answers\n",
    "\n"
   ]
  },
  {
   "cell_type": "code",
   "execution_count": 17,
   "id": "e49a648e",
   "metadata": {},
   "outputs": [
    {
     "data": {
      "text/plain": [
       "{1: 'Correct Answer: D. var = variable\\n',\n",
       " 2: 'Correct Answer: A. Interpreted\\n',\n",
       " 3: 'Correct Answer: B. While loop\\n',\n",
       " 4: 'Correct Answer: B. 17\\n'}"
      ]
     },
     "execution_count": 17,
     "metadata": {},
     "output_type": "execute_result"
    }
   ],
   "source": [
    "extract_answers(response[\"choices\"][0][\"text\"], 4)"
   ]
  },
  {
   "cell_type": "markdown",
   "id": "13127b2e",
   "metadata": {},
   "source": [
    "### Exam simulation\n",
    "Based on the extracted questions, we can now simulate the exam"
   ]
  },
  {
   "cell_type": "code",
   "execution_count": 51,
   "id": "a8336521",
   "metadata": {},
   "outputs": [],
   "source": [
    "def take(student_view):\n",
    "    answers = {}\n",
    "    for question, question_view in student_view.items():\n",
    "        print(question_view)\n",
    "        answer = input(\"Enter your answer: \")\n",
    "        answers[question] = answer\n",
    "    return answers\n"
   ]
  },
  {
   "cell_type": "code",
   "execution_count": 52,
   "id": "f8f0a9dc",
   "metadata": {},
   "outputs": [
    {
     "name": "stdout",
     "output_type": "stream",
     "text": [
      "\n",
      "\n",
      "Q1. What is the syntax for declaring a variable in Python?\n",
      "A. #variable\n",
      "B. var variable\n",
      "C. !variable\n",
      "D. var = variable\n",
      "\n",
      "Enter your answer: D\n",
      "\n",
      "Q2. What type of language is Python?\n",
      "A. Interpreted\n",
      "B. Compiled\n",
      "C. Assembly\n",
      "D. Machine\n",
      "\n",
      "Enter your answer: C\n",
      "\n",
      "Q3. What type of loop is used when a set of instructions need to be repeated until a condition is met?\n",
      "A. For loop\n",
      "B. While loop\n",
      "C. Do-while loop\n",
      "D. If-else loop\n",
      "\n",
      "Enter your answer: B\n",
      "\n",
      "Q4. What is the result of the following expression?\n",
      "2 + 5 * 3\n",
      "A. 23\n",
      "B. 17\n",
      "C. 11\n",
      "D. 25\n",
      "\n",
      "Enter your answer: A\n"
     ]
    }
   ],
   "source": [
    "student_answers = take(create_student_view(response[\"choices\"][0][\"text\"], 4))"
   ]
  },
  {
   "cell_type": "markdown",
   "id": "2426f423",
   "metadata": {},
   "source": [
    "### Automatic Grading\n",
    "Based on the student's answers and correct answers, we can now grade the test!"
   ]
  },
  {
   "cell_type": "code",
   "execution_count": 53,
   "id": "689597b8",
   "metadata": {},
   "outputs": [],
   "source": [
    "def grade(correct_answer_dict, answers):\n",
    "    correct_answers = 0\n",
    "    for question, answer in answers.items():\n",
    "        if answer.upper() == correct_answer_dict[question].upper()[16]:\n",
    "            correct_answers+=1\n",
    "    grade = 100 * correct_answers / len(answers)\n",
    "\n",
    "    if grade < 60:\n",
    "        passed = \"Not passed!\"\n",
    "    else:\n",
    "        passed = \"Passed!\"\n",
    "    return f\"{correct_answers} out of {len(answers)} correct! You achieved: {grade} % : {passed}\"\n"
   ]
  },
  {
   "cell_type": "code",
   "execution_count": 54,
   "id": "91bba050",
   "metadata": {},
   "outputs": [
    {
     "data": {
      "text/plain": [
       "'2 out of 4 correct! You achieved: 50.0 % : Not passed!'"
      ]
     },
     "execution_count": 54,
     "metadata": {},
     "output_type": "execute_result"
    }
   ],
   "source": [
    "grade(extract_answers(response[\"choices\"][0][\"text\"], 4), student_answers)"
   ]
  }
 ],
 "metadata": {
  "kernelspec": {
   "display_name": "Python 3 (ipykernel)",
   "language": "python",
   "name": "python3"
  },
  "language_info": {
   "codemirror_mode": {
    "name": "ipython",
    "version": 3
   },
   "file_extension": ".py",
   "mimetype": "text/x-python",
   "name": "python",
   "nbconvert_exporter": "python",
   "pygments_lexer": "ipython3",
   "version": "3.9.0"
  }
 },
 "nbformat": 4,
 "nbformat_minor": 5
}
