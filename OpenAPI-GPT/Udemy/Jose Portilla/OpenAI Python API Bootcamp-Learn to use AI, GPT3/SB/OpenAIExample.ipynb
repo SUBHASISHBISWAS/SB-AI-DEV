{
 "cells": [
  {
   "cell_type": "code",
   "execution_count": 1,
   "id": "609f90fd-27cb-495b-86b1-c1aabb530d0e",
   "metadata": {},
   "outputs": [],
   "source": [
    "#!pip install openai"
   ]
  },
  {
   "cell_type": "code",
   "execution_count": 3,
   "id": "82e861d5-792c-42bd-9b97-59ee71fecf6c",
   "metadata": {},
   "outputs": [],
   "source": [
    "import openai\n",
    "import os"
   ]
  },
  {
   "cell_type": "code",
   "execution_count": 7,
   "id": "c7960d9d-fa69-4ffa-a9a9-ca258103649a",
   "metadata": {},
   "outputs": [],
   "source": [
    "openai.api_key=os.getenv(\"OPENAI_API_KEY\")"
   ]
  },
  {
   "cell_type": "code",
   "execution_count": 16,
   "id": "3beef511-46b0-48d3-b7cf-6b2af77843c7",
   "metadata": {},
   "outputs": [],
   "source": [
    "response=openai.Completion.create(model='text-davinci-003',\n",
    "                                 prompt=\"Give me top 5 reason to Learn OpenAI in Python\",\n",
    "                                 max_tokens=300)"
   ]
  },
  {
   "cell_type": "code",
   "execution_count": 17,
   "id": "caaed495-8ded-4e75-97e1-6fba7242be4f",
   "metadata": {},
   "outputs": [
    {
     "name": "stdout",
     "output_type": "stream",
     "text": [
      "\n",
      "\n",
      "1. Robust OpenAI libraries with efficient implementations: OpenAI provides an expansive range of libraries that have efficient implementations and are easy to use. These libraries can be used to develop a variety of applications and solutions such as natural language processing, reinforcement learning, robotics, and computer vision.\n",
      "\n",
      "2. Seamless integration with Python: OpenAI integrates seamlessly with the popular Python language, so that developers can use their existing code and build on existing capabilities with the platform. This makes it easier to move quickly and efficiently to working with artificial intelligence and robotics.\n",
      "\n",
      "3. Comprehensive development support: OpenAI provides comprehensive documentation, tutorials, forums, and resources to support developers and provide them with the tools they need to develop powerful and innovative AI solutions.\n",
      "\n",
      "4. Enabling rapid prototyping: OpenAI's efficient libraries allow developers to quickly prototype and test their AI solutions without having to spend excessive time dealing with low-level coding. This dramatically speeds up the development process and lets developers reach new heights.\n",
      "\n",
      "5. Powerful community: The OpenAI community is large and active and provides helpful insights, best practices, and support for developers who are new to the platform. This helps developers to get up to speed quickly and to develop their AI solutions quickly and efficiently.\n"
     ]
    }
   ],
   "source": [
    "print(response['choices'][0]['text'])"
   ]
  },
  {
   "cell_type": "code",
   "execution_count": null,
   "id": "d7220d39-cb84-4b0e-a30c-0cb0769e2bfa",
   "metadata": {},
   "outputs": [],
   "source": []
  }
 ],
 "metadata": {
  "kernelspec": {
   "display_name": "Python 3",
   "language": "python",
   "name": "python3"
  },
  "language_info": {
   "codemirror_mode": {
    "name": "ipython",
    "version": 3
   },
   "file_extension": ".py",
   "mimetype": "text/x-python",
   "name": "python",
   "nbconvert_exporter": "python",
   "pygments_lexer": "ipython3",
   "version": "3.8.8"
  }
 },
 "nbformat": 4,
 "nbformat_minor": 5
}
