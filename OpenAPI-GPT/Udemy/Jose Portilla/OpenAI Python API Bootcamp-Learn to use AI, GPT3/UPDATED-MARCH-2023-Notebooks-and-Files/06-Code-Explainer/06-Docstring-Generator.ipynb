{
 "cells": [
  {
   "cell_type": "markdown",
   "id": "0c66a6e9",
   "metadata": {},
   "source": [
    "<a href = \"https://www.pieriantraining.com\"><img src=\"../PT Centered Purple.png\"> </a>\n",
    "\n",
    "<em style=\"text-align:center\">Copyrighted by Pierian Training</em>"
   ]
  },
  {
   "cell_type": "markdown",
   "id": "4e3f9567",
   "metadata": {},
   "source": [
    "# Code Explainer\n",
    "\n",
    "In this lecture we are going to build a code explainer that will create a docstring of a given function! "
   ]
  },
  {
   "cell_type": "markdown",
   "id": "a16d2388",
   "metadata": {},
   "source": [
    "## Imports"
   ]
  },
  {
   "cell_type": "code",
   "execution_count": 1,
   "id": "b07a4229",
   "metadata": {},
   "outputs": [],
   "source": [
    "import inspect  # Used to transform python code to a string\n",
    "import os\n",
    "import openai"
   ]
  },
  {
   "cell_type": "markdown",
   "id": "1c859b34",
   "metadata": {},
   "source": [
    "## OpenAI API\n",
    "\n",
    "Remember to use the notebook as shown, you must set your OpenAI API Key as an environment variable. Obviously, there are many ways you could provide your API Key to the Python code, input() or even hard-coded, but those are typically not recommended for safety reasons. Having it as an environment variable let's the key live on the computer, but not actually be present in the code.\n",
    "\n",
    "### Set-up Open AI API Key\n",
    "\n",
    "We'll only need to do this once per computer"
   ]
  },
  {
   "cell_type": "code",
   "execution_count": 2,
   "id": "3403596f",
   "metadata": {},
   "outputs": [],
   "source": [
    "# Uncomment below and swap in your key to place your environment key using Python\n",
    "# Then you can delete the key string and the code cell below will still work!\n",
    "# os.environ[\"OPENAI_API_KEY\"] = \"Your key goes here!"
   ]
  },
  {
   "cell_type": "code",
   "execution_count": 3,
   "id": "0e4e9892",
   "metadata": {},
   "outputs": [],
   "source": [
    "openai.api_key = os.getenv(\"OPENAI_API_KEY\")"
   ]
  },
  {
   "cell_type": "markdown",
   "id": "e98db7b7",
   "metadata": {},
   "source": [
    "## Prompt design\n",
    "As we want to obtain explanation about what some piece of code does, as well as a list of the possible bugs, we might want to use two separate prompts and later combine the result:"
   ]
  },
  {
   "cell_type": "code",
   "execution_count": 4,
   "id": "c830b659",
   "metadata": {},
   "outputs": [],
   "source": [
    "def docstring_prompt(code):\n",
    "    prompt = f\"{code}\\n # A high quality python docstring of the above python function:\\n\\\"\\\"\\\"\"\n",
    "    return prompt"
   ]
  },
  {
   "cell_type": "code",
   "execution_count": 5,
   "id": "96ddbbf3",
   "metadata": {},
   "outputs": [],
   "source": [
    "def hello(name):\n",
    "    print(f'Hello {name}')"
   ]
  },
  {
   "cell_type": "code",
   "execution_count": 6,
   "id": "06b75396",
   "metadata": {},
   "outputs": [
    {
     "name": "stdout",
     "output_type": "stream",
     "text": [
      "def hello(name):\n",
      "    print(f'Hello {name}')\n",
      "\n"
     ]
    }
   ],
   "source": [
    "print(inspect.getsource(hello))"
   ]
  },
  {
   "cell_type": "code",
   "execution_count": 7,
   "id": "6606cdd0",
   "metadata": {
    "scrolled": true
   },
   "outputs": [
    {
     "name": "stdout",
     "output_type": "stream",
     "text": [
      "def hello(name):\n",
      "    print(f'Hello {name}')\n",
      "\n",
      " # A high quality python docstring of the above python function:\n",
      "\"\"\"\n"
     ]
    }
   ],
   "source": [
    "print(docstring_prompt(inspect.getsource(hello)))"
   ]
  },
  {
   "cell_type": "markdown",
   "id": "e5f7e1cb",
   "metadata": {},
   "source": [
    "## OpenAI API Call\n",
    "Note that we now use the *code-davinci-002* model instead of text-davinci-003."
   ]
  },
  {
   "cell_type": "code",
   "execution_count": 8,
   "id": "eef72259",
   "metadata": {},
   "outputs": [],
   "source": [
    "response = openai.Completion.create(\n",
    "  model=\"code-davinci-002\",\n",
    "  prompt=docstring_prompt(inspect.getsource(hello)),\n",
    "  temperature=0,\n",
    "  max_tokens=64,\n",
    "  top_p=1.0,\n",
    "  frequency_penalty=0.0,\n",
    "  presence_penalty=0.0,\n",
    "  stop=[\"\\\"\\\"\\\"\"]\n",
    "\n",
    ")\n"
   ]
  },
  {
   "cell_type": "code",
   "execution_count": 9,
   "id": "ebd1d7e0",
   "metadata": {},
   "outputs": [
    {
     "name": "stdout",
     "output_type": "stream",
     "text": [
      "\n",
      "This is a function that prints hello to the name provided\n",
      "\n",
      "Args:\n",
      "    name (str): The name of the person you want to greet\n",
      "\n",
      "Returns:\n",
      "    None\n",
      "\n"
     ]
    }
   ],
   "source": [
    "print(response[\"choices\"][0][\"text\"])"
   ]
  },
  {
   "cell_type": "markdown",
   "id": "e5d2f1dc",
   "metadata": {},
   "source": [
    "## Combine docstring and function"
   ]
  },
  {
   "cell_type": "code",
   "execution_count": 10,
   "id": "4a3bb0f8",
   "metadata": {},
   "outputs": [],
   "source": [
    "def merge_docstring_and_function(original_function, docstring):\n",
    "    function_string = inspect.getsource(original_function)\n",
    "    split = function_string.split(\"\\n\")\n",
    "    first_part, second_part = split[0], split[1:]\n",
    "    # note the spaces before the three \"\n",
    "    merged_function = first_part + \"\\n\" + '    \"\"\"' + docstring + '    \"\"\"' + \"\\n\" + \"\\n\".join(second_part)\n",
    "    return merged_function"
   ]
  },
  {
   "cell_type": "code",
   "execution_count": 11,
   "id": "a11e5bfd",
   "metadata": {},
   "outputs": [],
   "source": [
    "merged_code = merge_docstring_and_function(hello, response[\"choices\"][0][\"text\"])"
   ]
  },
  {
   "cell_type": "code",
   "execution_count": 12,
   "id": "4edf79e7",
   "metadata": {},
   "outputs": [
    {
     "name": "stdout",
     "output_type": "stream",
     "text": [
      "def hello(name):\n",
      "    \"\"\"\n",
      "This is a function that prints hello to the name provided\n",
      "\n",
      "Args:\n",
      "    name (str): The name of the person you want to greet\n",
      "\n",
      "Returns:\n",
      "    None\n",
      "    \"\"\"\n",
      "    print(f'Hello {name}')\n",
      "\n"
     ]
    }
   ],
   "source": [
    "print(merged_code)"
   ]
  },
  {
   "cell_type": "markdown",
   "id": "89689c3a",
   "metadata": {},
   "source": [
    "## Get the docstring of a more complicated function"
   ]
  },
  {
   "cell_type": "code",
   "execution_count": 13,
   "id": "c7dfdf06",
   "metadata": {},
   "outputs": [],
   "source": [
    "def test_function(test, num_questions):\n",
    "    student_view = {1 : \"\"}\n",
    "    question_number = 1\n",
    "    for line in test.split(\"\\n\"):\n",
    "        if not line.startswith(\"Correct Answer:\"):\n",
    "            student_view[question_number] += line+\"\\n\"\n",
    "        else:\n",
    "\n",
    "            if question_number < num_questions:\n",
    "                question_number+=1\n",
    "                student_view[question_number] = \"\"\n",
    "    return student_view\n"
   ]
  },
  {
   "cell_type": "code",
   "execution_count": 14,
   "id": "5fe2446d",
   "metadata": {},
   "outputs": [],
   "source": [
    "response = openai.Completion.create(\n",
    "  model=\"code-davinci-002\",\n",
    "  prompt=docstring_prompt(inspect.getsource(test_function)),\n",
    "  temperature=0,\n",
    "  max_tokens=256,\n",
    "  top_p=1.0,\n",
    "  frequency_penalty=0.0,\n",
    "  presence_penalty=0.0,\n",
    "  stop=[\"\\\"\\\"\\\"\"] # Corresponds to \"\"\", the end of the docstring\n",
    "\n",
    ")\n"
   ]
  },
  {
   "cell_type": "code",
   "execution_count": 15,
   "id": "cef18715",
   "metadata": {},
   "outputs": [
    {
     "name": "stdout",
     "output_type": "stream",
     "text": [
      "def test_function(test, num_questions):\n",
      "    \"\"\"\n",
      "    This function takes in a string of a test and returns a dictionary of the test with the question number as the key and the question as the value.\n",
      "    :param test: a string of a test\n",
      "    :param num_questions: the number of questions in the test\n",
      "    :return: a dictionary of the test with the question number as the key and the question as the value\n",
      "    \"\"\"\n",
      "    student_view = {1 : \"\"}\n",
      "    question_number = 1\n",
      "    for line in test.split(\"\\n\"):\n",
      "        if not line.startswith(\"Correct Answer:\"):\n",
      "            student_view[question_number] += line+\"\\n\"\n",
      "        else:\n",
      "\n",
      "            if question_number < num_questions:\n",
      "                question_number+=1\n",
      "                student_view[question_number] = \"\"\n",
      "    return student_view\n",
      "\n"
     ]
    }
   ],
   "source": [
    "merged_code = merge_docstring_and_function(test_function, response[\"choices\"][0][\"text\"])\n",
    "print(merged_code)"
   ]
  },
  {
   "cell_type": "code",
   "execution_count": 16,
   "id": "0948bcb6",
   "metadata": {},
   "outputs": [],
   "source": [
    "def take(student_view):\n",
    "    answers = {}\n",
    "    for question, question_view in student_view.items():\n",
    "        print(question_view)\n",
    "        answer = input(\"Enter your answer: \")\n",
    "        answers[question] = answer\n",
    "    return answers\n"
   ]
  },
  {
   "cell_type": "code",
   "execution_count": 17,
   "id": "e9758f7a",
   "metadata": {},
   "outputs": [],
   "source": [
    "response = openai.Completion.create(\n",
    "  model=\"code-davinci-002\",\n",
    "  prompt=docstring_prompt(inspect.getsource(take)),\n",
    "  temperature=0,\n",
    "  max_tokens=256,\n",
    "  top_p=1.0,\n",
    "  frequency_penalty=0.0,\n",
    "  presence_penalty=0.0,\n",
    "  stop=[\"\\\"\\\"\\\"\"] # Corresponds to \"\"\", the end of the docstring\n",
    "\n",
    ")\n"
   ]
  },
  {
   "cell_type": "code",
   "execution_count": 18,
   "id": "be0c0b4e",
   "metadata": {},
   "outputs": [
    {
     "name": "stdout",
     "output_type": "stream",
     "text": [
      "def take(student_view):\n",
      "    \"\"\"\n",
      "    Takes a student view of the exam and returns a dictionary of answers.\n",
      "    :param student_view: A dictionary of questions and their corresponding views.\n",
      "    :return: A dictionary of answers.\n",
      "    \"\"\"\n",
      "    answers = {}\n",
      "    for question, question_view in student_view.items():\n",
      "        print(question_view)\n",
      "        answer = input(\"Enter your answer: \")\n",
      "        answers[question] = answer\n",
      "    return answers\n",
      "\n"
     ]
    }
   ],
   "source": [
    "merged_code = merge_docstring_and_function(take, response[\"choices\"][0][\"text\"])\n",
    "print(merged_code)"
   ]
  }
 ],
 "metadata": {
  "kernelspec": {
   "display_name": "Python 3",
   "language": "python",
   "name": "python3"
  },
  "language_info": {
   "codemirror_mode": {
    "name": "ipython",
    "version": 3
   },
   "file_extension": ".py",
   "mimetype": "text/x-python",
   "name": "python",
   "nbconvert_exporter": "python",
   "pygments_lexer": "ipython3",
   "version": "3.9.13"
  },
  "vscode": {
   "interpreter": {
    "hash": "5455cba45dca8dec86c35d949ecf676492206ef67d9fdf2560e140a882ab099f"
   }
  }
 },
 "nbformat": 4,
 "nbformat_minor": 5
}
