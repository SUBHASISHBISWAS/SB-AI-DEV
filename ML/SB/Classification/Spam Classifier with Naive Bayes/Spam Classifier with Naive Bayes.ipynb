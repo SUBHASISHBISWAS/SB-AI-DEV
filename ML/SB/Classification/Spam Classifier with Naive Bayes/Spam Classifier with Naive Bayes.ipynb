{
 "cells": [
  {
   "cell_type": "code",
   "execution_count": 26,
   "metadata": {
    "collapsed": true,
    "pycharm": {
     "name": "#%%\n"
    }
   },
   "outputs": [],
   "source": [
    "from pandas import DataFrame\n",
    "import os\n",
    "import io\n",
    "import numpy\n",
    "from sklearn.feature_extraction.text import CountVectorizer\n",
    "from sklearn.naive_bayes import  MultinomialNB"
   ]
  },
  {
   "cell_type": "code",
   "execution_count": 30,
   "metadata": {
    "pycharm": {
     "name": "#%%\n"
    }
   },
   "outputs": [],
   "source": [
    "def readFiles(path):\n",
    "    # using the os.walk function to find all of the files in a directory, builds up the full path name for each individual file in that directory, and then it reads it in.\n",
    "\n",
    "    for root, dirnames, filenames in os.walk(path):\n",
    "        for filename in filenames:\n",
    "            path = os.path.join(root, filename)\n",
    "            isMessageBody = False\n",
    "            lines = []\n",
    "            # While it's reading it in, it actually skips the header for each email and just goes straight to the text,\n",
    "            # and it does that by looking for the first blank line here line ==\"\\n\". It knows that everything after the first empty line\n",
    "            # is actually the message body and everything in front of that first empty line is just a bunch of header information\n",
    "            # that I don't actually want to train my spam classifier on.\n",
    "            f = io.open(path, 'r', encoding='latin1')\n",
    "            for line in f:\n",
    "                if isMessageBody:\n",
    "                    lines.append(line)\n",
    "                elif line == '\\n':\n",
    "                    isMessageBody = True\n",
    "            f.close()\n",
    "            message = '\\n'.join(lines)\n",
    "            #So it gives me back both the full path to each file and the body of the message.\n",
    "            yield path, message\n",
    "\n",
    "\n",
    "\n",
    "\n"
   ]
  },
  {
   "cell_type": "code",
   "execution_count": 31,
   "metadata": {
    "pycharm": {
     "name": "#%%\n"
    }
   },
   "outputs": [],
   "source": [
    "#DataFrameFromDirectory is a function I wrote up here. Basically it says I have a path to a directory and I know it's a given classification, spam or ham,\n",
    "# and what I'm gonna do is call this readFiles function that I also wrote that will iterate through every single file in a directory and\n",
    "# gives me back both the full path to each file and the body of the message..\n",
    "def readDataFromDirectory(path,classification):\n",
    "    rows = []\n",
    "    index = []\n",
    "    for filename, message in readFiles(path):\n",
    "        rows.append({'message': message, 'class': classification})\n",
    "        index.append(filename)\n",
    "\n",
    "    return DataFrame(rows, index=index)"
   ]
  },
  {
   "cell_type": "code",
   "execution_count": 31,
   "metadata": {
    "pycharm": {
     "name": "#%%\n"
    }
   },
   "outputs": [],
   "source": []
  },
  {
   "cell_type": "code",
   "execution_count": 32,
   "metadata": {
    "pycharm": {
     "name": "#%%\n"
    }
   },
   "outputs": [],
   "source": [
    "#So what I have at the end of the day here is a data frame object, basically a database with two columns that contains body, message bodies, and whether it's spam or not.\n",
    "data = DataFrame({'message': [], 'class': []})\n",
    "\n",
    "data = data.append(readDataFromDirectory('emails/spam', 'spam'))\n",
    "data = data.append(readDataFromDirectory('emails/ham', 'ham'))"
   ]
  },
  {
   "cell_type": "code",
   "execution_count": 33,
   "metadata": {
    "pycharm": {
     "name": "#%%\n"
    }
   },
   "outputs": [
    {
     "data": {
      "text/html": [
       "<div>\n",
       "<style scoped>\n",
       "    .dataframe tbody tr th:only-of-type {\n",
       "        vertical-align: middle;\n",
       "    }\n",
       "\n",
       "    .dataframe tbody tr th {\n",
       "        vertical-align: top;\n",
       "    }\n",
       "\n",
       "    .dataframe thead th {\n",
       "        text-align: right;\n",
       "    }\n",
       "</style>\n",
       "<table border=\"1\" class=\"dataframe\">\n",
       "  <thead>\n",
       "    <tr style=\"text-align: right;\">\n",
       "      <th></th>\n",
       "      <th>message</th>\n",
       "      <th>class</th>\n",
       "    </tr>\n",
       "  </thead>\n",
       "  <tbody>\n",
       "    <tr>\n",
       "      <th>emails/spam/00249.5f45607c1bffe89f60ba1ec9f878039a</th>\n",
       "      <td>Dear Homeowner,\\n\\n \\n\\nInterest Rates are at ...</td>\n",
       "      <td>spam</td>\n",
       "    </tr>\n",
       "    <tr>\n",
       "      <th>emails/spam/00373.ebe8670ac56b04125c25100a36ab0510</th>\n",
       "      <td>ATTENTION: This is a MUST for ALL Computer Use...</td>\n",
       "      <td>spam</td>\n",
       "    </tr>\n",
       "    <tr>\n",
       "      <th>emails/spam/00214.1367039e50dc6b7adb0f2aa8aba83216</th>\n",
       "      <td>This is a multi-part message in MIME format.\\n...</td>\n",
       "      <td>spam</td>\n",
       "    </tr>\n",
       "    <tr>\n",
       "      <th>emails/spam/00210.050ffd105bd4e006771ee63cabc59978</th>\n",
       "      <td>IMPORTANT INFORMATION:\\n\\n\\n\\nThe new domain n...</td>\n",
       "      <td>spam</td>\n",
       "    </tr>\n",
       "    <tr>\n",
       "      <th>emails/spam/00033.9babb58d9298daa2963d4f514193d7d6</th>\n",
       "      <td>This is the bottom line.  If you can GIVE AWAY...</td>\n",
       "      <td>spam</td>\n",
       "    </tr>\n",
       "  </tbody>\n",
       "</table>\n",
       "</div>"
      ],
      "text/plain": [
       "                                                                                              message  \\\n",
       "emails/spam/00249.5f45607c1bffe89f60ba1ec9f878039a  Dear Homeowner,\\n\\n \\n\\nInterest Rates are at ...   \n",
       "emails/spam/00373.ebe8670ac56b04125c25100a36ab0510  ATTENTION: This is a MUST for ALL Computer Use...   \n",
       "emails/spam/00214.1367039e50dc6b7adb0f2aa8aba83216  This is a multi-part message in MIME format.\\n...   \n",
       "emails/spam/00210.050ffd105bd4e006771ee63cabc59978  IMPORTANT INFORMATION:\\n\\n\\n\\nThe new domain n...   \n",
       "emails/spam/00033.9babb58d9298daa2963d4f514193d7d6  This is the bottom line.  If you can GIVE AWAY...   \n",
       "\n",
       "                                                   class  \n",
       "emails/spam/00249.5f45607c1bffe89f60ba1ec9f878039a  spam  \n",
       "emails/spam/00373.ebe8670ac56b04125c25100a36ab0510  spam  \n",
       "emails/spam/00214.1367039e50dc6b7adb0f2aa8aba83216  spam  \n",
       "emails/spam/00210.050ffd105bd4e006771ee63cabc59978  spam  \n",
       "emails/spam/00033.9babb58d9298daa2963d4f514193d7d6  spam  "
      ]
     },
     "execution_count": 33,
     "metadata": {},
     "output_type": "execute_result"
    }
   ],
   "source": [
    "\"\"\"So the first few entries in our data frame look like this for each path to a given file full of emails.\n",
    "We have a classification and we have the message body.\n",
    "\"\"\"\n",
    "\n",
    "data.head()"
   ]
  },
  {
   "cell_type": "code",
   "execution_count": 34,
   "metadata": {
    "pycharm": {
     "name": "#%%\n"
    }
   },
   "outputs": [
    {
     "data": {
      "text/plain": [
       "MultinomialNB()"
      ]
     },
     "execution_count": 34,
     "metadata": {},
     "output_type": "execute_result"
    }
   ],
   "source": [
    "\"\"\"\n",
    "So, we're going to use the MultinomialNB function from Scikit-learn to actually perform Naive Bayes\n",
    "on this data that we have.\n",
    "\n",
    "What that is is basically a list of all the words in each email and the number of times that word occurs.\n",
    "So that's what this CountVectorizer thing does.\n",
    "\n",
    "\"\"\"\n",
    "vectorizer = CountVectorizer()\n",
    "\n",
    "'''\n",
    "data[\"message\"].values-->This syntax means take the message column from my data frame and take all the values from it,\n",
    "and I'm gonna call vectorizer.fit_transform.\n",
    "\n",
    "What that does is it basically tokenizes or converts all of the individual words seen in my data into numbers, into values, and it will then count up how many times\n",
    "each word occurs.\n",
    "\n",
    "So this is a more compact way of representing how many times each word occurs in an email.\n",
    "\n",
    "Instead of actually preserving the words themselves, I'm representing those words as different values\n",
    "in a sparse matrix, which is basically saying that I'm treating each word as a number, as a numerical index into an array.\n",
    "\n",
    "\n",
    "So what that does is it just, in plain English, it splits each message up into a list of words\n",
    "that are in it and how many times each word occurs. So we're calling that counts.\n",
    "\n",
    "It's basically that information of how many times each word occurs in each individual message,\n",
    "\n",
    "'''\n",
    "counts = vectorizer.fit_transform(data['message'].values)\n",
    "\n",
    "'''\n",
    "targets is the actual classification data for each email that I've encountered.\n",
    "'''\n",
    "targets = data['class'].values\n",
    "\n",
    "'''\n",
    "So once we build a multinomial Naive Bayes classifier it needs two inputs.\n",
    "It needs the actual data that we're training on and the targets for each thing.\n",
    "\n",
    "What that is is basically a list of all the words in each email and the number of times that word occurs.\n",
    "\n",
    "And I can call classifier.fit using my MultinomialNB function\n",
    "to actually create a model using Naive Bayes that will predict whether new emails are spam or not\n",
    "based on the information I gave it.\n",
    "'''\n",
    "classifier = MultinomialNB()\n",
    "classifier.fit(counts, targets)\n"
   ]
  },
  {
   "cell_type": "code",
   "execution_count": 35,
   "metadata": {
    "pycharm": {
     "name": "#%%\n"
    }
   },
   "outputs": [
    {
     "data": {
      "text/plain": [
       "array(['spam', 'ham'], dtype='<U4')"
      ]
     },
     "execution_count": 35,
     "metadata": {},
     "output_type": "execute_result"
    }
   ],
   "source": [
    "#manually creating example\n",
    "examples = ['Free Viagra now!!!', \"Hi Bob, how about a game of golf tomorrow?\"]\n",
    "\n",
    "'''\n",
    "First thing we need to do is convert these messages into the same format that I train my model on.\n",
    "\n",
    "So I'm gonna use that same vectorizer that I created when creating the model\n",
    "to convert each message into a list of words and their frequencies where the words are represented by\n",
    "positions in an array.\n",
    "'''\n",
    "example_counts = vectorizer.transform(examples)\n",
    "\n",
    "'''\n",
    "Then once I've done that transformation, I can actually use the predict function on my classifier\n",
    "on that array of examples that have transformed into lists of words and see what we come up with.\n",
    "'''\n",
    "\n",
    "predictions = classifier.predict(example_counts)\n",
    "'''\n",
    "So given this array of two input message,free Viagra now and hi Bob,\n",
    "it's telling me that the first result came back as spam and the second result came back as ham.\n",
    "Which is what I would expect\n",
    "'''\n",
    "predictions"
   ]
  },
  {
   "cell_type": "code",
   "execution_count": null,
   "metadata": {
    "pycharm": {
     "name": "#%%\n"
    }
   },
   "outputs": [],
   "source": []
  }
 ],
 "metadata": {
  "kernelspec": {
   "display_name": "Python 3",
   "language": "python",
   "name": "python3"
  },
  "language_info": {
   "codemirror_mode": {
    "name": "ipython",
    "version": 3
   },
   "file_extension": ".py",
   "mimetype": "text/x-python",
   "name": "python",
   "nbconvert_exporter": "python",
   "pygments_lexer": "ipython3",
   "version": "3.9.4"
  }
 },
 "nbformat": 4,
 "nbformat_minor": 1
}