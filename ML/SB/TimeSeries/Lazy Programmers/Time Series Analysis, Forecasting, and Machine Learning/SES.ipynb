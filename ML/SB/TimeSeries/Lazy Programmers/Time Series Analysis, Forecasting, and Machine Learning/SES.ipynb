{
 "cells": [
  {
   "cell_type": "code",
   "execution_count": 5,
   "metadata": {
    "collapsed": true
   },
   "outputs": [],
   "source": [
    "import pandas as pd\n",
    "import numpy as np\n",
    "from statsmodels.tsa.holtwinters import SimpleExpSmoothing"
   ]
  },
  {
   "cell_type": "code",
   "execution_count": 3,
   "outputs": [
    {
     "data": {
      "text/plain": "            Passengers\nMonth                 \n1949-01-01         112\n1949-02-01         118\n1949-03-01         132\n1949-04-01         129\n1949-05-01         121\n...                ...\n1960-08-01         606\n1960-09-01         508\n1960-10-01         461\n1960-11-01         390\n1960-12-01         432\n\n[144 rows x 1 columns]",
      "text/html": "<div>\n<style scoped>\n    .dataframe tbody tr th:only-of-type {\n        vertical-align: middle;\n    }\n\n    .dataframe tbody tr th {\n        vertical-align: top;\n    }\n\n    .dataframe thead th {\n        text-align: right;\n    }\n</style>\n<table border=\"1\" class=\"dataframe\">\n  <thead>\n    <tr style=\"text-align: right;\">\n      <th></th>\n      <th>Passengers</th>\n    </tr>\n    <tr>\n      <th>Month</th>\n      <th></th>\n    </tr>\n  </thead>\n  <tbody>\n    <tr>\n      <th>1949-01-01</th>\n      <td>112</td>\n    </tr>\n    <tr>\n      <th>1949-02-01</th>\n      <td>118</td>\n    </tr>\n    <tr>\n      <th>1949-03-01</th>\n      <td>132</td>\n    </tr>\n    <tr>\n      <th>1949-04-01</th>\n      <td>129</td>\n    </tr>\n    <tr>\n      <th>1949-05-01</th>\n      <td>121</td>\n    </tr>\n    <tr>\n      <th>...</th>\n      <td>...</td>\n    </tr>\n    <tr>\n      <th>1960-08-01</th>\n      <td>606</td>\n    </tr>\n    <tr>\n      <th>1960-09-01</th>\n      <td>508</td>\n    </tr>\n    <tr>\n      <th>1960-10-01</th>\n      <td>461</td>\n    </tr>\n    <tr>\n      <th>1960-11-01</th>\n      <td>390</td>\n    </tr>\n    <tr>\n      <th>1960-12-01</th>\n      <td>432</td>\n    </tr>\n  </tbody>\n</table>\n<p>144 rows × 1 columns</p>\n</div>"
     },
     "execution_count": 3,
     "metadata": {},
     "output_type": "execute_result"
    }
   ],
   "source": [
    "df = pd.read_csv('data/airline_passengers.csv',index_col='Month',parse_dates=True)\n",
    "df"
   ],
   "metadata": {
    "collapsed": false,
    "pycharm": {
     "name": "#%%\n"
    }
   }
  },
  {
   "cell_type": "code",
   "execution_count": 11,
   "outputs": [],
   "source": [
    "alpha=0.2"
   ],
   "metadata": {
    "collapsed": false,
    "pycharm": {
     "name": "#%%\n"
    }
   }
  },
  {
   "cell_type": "code",
   "execution_count": 12,
   "outputs": [
    {
     "name": "stderr",
     "output_type": "stream",
     "text": [
      "/Users/subhasish/opt/anaconda3/envs/ML/lib/python3.8/site-packages/statsmodels/tsa/holtwinters/model.py:427: FutureWarning: After 0.13 initialization must be handled at model creation\n",
      "  warnings.warn(\n"
     ]
    }
   ],
   "source": [
    "ses=SimpleExpSmoothing(df[\"Passengers\"])\n"
   ],
   "metadata": {
    "collapsed": false,
    "pycharm": {
     "name": "#%%\n"
    }
   }
  },
  {
   "cell_type": "code",
   "execution_count": 13,
   "outputs": [
    {
     "data": {
      "text/plain": "DatetimeIndex(['1949-01-01', '1949-02-01', '1949-03-01', '1949-04-01',\n               '1949-05-01', '1949-06-01', '1949-07-01', '1949-08-01',\n               '1949-09-01', '1949-10-01',\n               ...\n               '1960-03-01', '1960-04-01', '1960-05-01', '1960-06-01',\n               '1960-07-01', '1960-08-01', '1960-09-01', '1960-10-01',\n               '1960-11-01', '1960-12-01'],\n              dtype='datetime64[ns]', name='Month', length=144, freq='MS')"
     },
     "execution_count": 13,
     "metadata": {},
     "output_type": "execute_result"
    }
   ],
   "source": [
    "df.index"
   ],
   "metadata": {
    "collapsed": false,
    "pycharm": {
     "name": "#%%\n"
    }
   }
  },
  {
   "cell_type": "code",
   "execution_count": 14,
   "outputs": [],
   "source": [
    "df.index.freq=\"MS\""
   ],
   "metadata": {
    "collapsed": false,
    "pycharm": {
     "name": "#%%\n"
    }
   }
  },
  {
   "cell_type": "code",
   "execution_count": 15,
   "outputs": [],
   "source": [
    "ses=SimpleExpSmoothing(df[\"Passengers\"],initialization_method='legacy-heuristic')"
   ],
   "metadata": {
    "collapsed": false,
    "pycharm": {
     "name": "#%%\n"
    }
   }
  },
  {
   "cell_type": "code",
   "execution_count": 18,
   "outputs": [
    {
     "data": {
      "text/plain": "<statsmodels.tsa.holtwinters.results.HoltWintersResultsWrapper at 0x7fee13de0850>"
     },
     "execution_count": 18,
     "metadata": {},
     "output_type": "execute_result"
    }
   ],
   "source": [
    "res=ses.fit(smoothing_level=alpha,optimized=False)\n",
    "res"
   ],
   "metadata": {
    "collapsed": false,
    "pycharm": {
     "name": "#%%\n"
    }
   }
  },
  {
   "cell_type": "code",
   "execution_count": 19,
   "outputs": [
    {
     "data": {
      "text/plain": "Month\n1949-01-01    112.000000\n1949-02-01    112.000000\n1949-03-01    113.200000\n1949-04-01    116.960000\n1949-05-01    119.368000\n                 ...    \n1960-08-01    488.767616\n1960-09-01    512.214093\n1960-10-01    511.371274\n1960-11-01    501.297019\n1960-12-01    479.037615\nFreq: MS, Length: 144, dtype: float64"
     },
     "execution_count": 19,
     "metadata": {},
     "output_type": "execute_result"
    }
   ],
   "source": [
    "res.predict(start=df.index[0],end=df.index[-1])"
   ],
   "metadata": {
    "collapsed": false,
    "pycharm": {
     "name": "#%%\n"
    }
   }
  },
  {
   "cell_type": "code",
   "execution_count": 20,
   "outputs": [],
   "source": [
    "df[\"SES\"]=res.predict(start=df.index[0],end=df.index[-1])"
   ],
   "metadata": {
    "collapsed": false,
    "pycharm": {
     "name": "#%%\n"
    }
   }
  },
  {
   "cell_type": "code",
   "execution_count": 21,
   "outputs": [
    {
     "data": {
      "text/plain": "True"
     },
     "execution_count": 21,
     "metadata": {},
     "output_type": "execute_result"
    }
   ],
   "source": [
    "np.allclose(df[\"SES\"],res.fittedvalues)"
   ],
   "metadata": {
    "collapsed": false,
    "pycharm": {
     "name": "#%%\n"
    }
   }
  },
  {
   "cell_type": "code",
   "execution_count": 22,
   "outputs": [
    {
     "data": {
      "text/plain": "<AxesSubplot:xlabel='Month'>"
     },
     "execution_count": 22,
     "metadata": {},
     "output_type": "execute_result"
    },
    {
     "data": {
      "text/plain": "<Figure size 432x288 with 1 Axes>",
      "image/png": "[encoded data removed]"
     },
     "metadata": {
      "needs_background": "light"
     },
     "output_type": "display_data"
    }
   ],
   "source": [
    "df.plot()"
   ],
   "metadata": {
    "collapsed": false,
    "pycharm": {
     "name": "#%%\n"
    }
   }
  },
  {
   "cell_type": "code",
   "execution_count": 27,
   "outputs": [],
   "source": [
    "N_test = 12\n",
    "train=df.iloc[:-N_test]\n",
    "test=df.iloc[-N_test:]"
   ],
   "metadata": {
    "collapsed": false,
    "pycharm": {
     "name": "#%%\n"
    }
   }
  },
  {
   "cell_type": "code",
   "execution_count": 28,
   "outputs": [
    {
     "data": {
      "text/plain": "            Passengers         SES\nMonth                             \n1960-01-01         417  425.974608\n1960-02-01         391  424.179686\n1960-03-01         419  417.543749\n1960-04-01         461  417.834999\n1960-05-01         472  426.467999\n1960-06-01         535  435.574399\n1960-07-01         622  455.459520\n1960-08-01         606  488.767616\n1960-09-01         508  512.214093\n1960-10-01         461  511.371274\n1960-11-01         390  501.297019\n1960-12-01         432  479.037615",
      "text/html": "<div>\n<style scoped>\n    .dataframe tbody tr th:only-of-type {\n        vertical-align: middle;\n    }\n\n    .dataframe tbody tr th {\n        vertical-align: top;\n    }\n\n    .dataframe thead th {\n        text-align: right;\n    }\n</style>\n<table border=\"1\" class=\"dataframe\">\n  <thead>\n    <tr style=\"text-align: right;\">\n      <th></th>\n      <th>Passengers</th>\n      <th>SES</th>\n    </tr>\n    <tr>\n      <th>Month</th>\n      <th></th>\n      <th></th>\n    </tr>\n  </thead>\n  <tbody>\n    <tr>\n      <th>1960-01-01</th>\n      <td>417</td>\n      <td>425.974608</td>\n    </tr>\n    <tr>\n      <th>1960-02-01</th>\n      <td>391</td>\n      <td>424.179686</td>\n    </tr>\n    <tr>\n      <th>1960-03-01</th>\n      <td>419</td>\n      <td>417.543749</td>\n    </tr>\n    <tr>\n      <th>1960-04-01</th>\n      <td>461</td>\n      <td>417.834999</td>\n    </tr>\n    <tr>\n      <th>1960-05-01</th>\n      <td>472</td>\n      <td>426.467999</td>\n    </tr>\n    <tr>\n      <th>1960-06-01</th>\n      <td>535</td>\n      <td>435.574399</td>\n    </tr>\n    <tr>\n      <th>1960-07-01</th>\n      <td>622</td>\n      <td>455.459520</td>\n    </tr>\n    <tr>\n      <th>1960-08-01</th>\n      <td>606</td>\n      <td>488.767616</td>\n    </tr>\n    <tr>\n      <th>1960-09-01</th>\n      <td>508</td>\n      <td>512.214093</td>\n    </tr>\n    <tr>\n      <th>1960-10-01</th>\n      <td>461</td>\n      <td>511.371274</td>\n    </tr>\n    <tr>\n      <th>1960-11-01</th>\n      <td>390</td>\n      <td>501.297019</td>\n    </tr>\n    <tr>\n      <th>1960-12-01</th>\n      <td>432</td>\n      <td>479.037615</td>\n    </tr>\n  </tbody>\n</table>\n</div>"
     },
     "execution_count": 28,
     "metadata": {},
     "output_type": "execute_result"
    }
   ],
   "source": [],
   "metadata": {
    "collapsed": false,
    "pycharm": {
     "name": "#%%\n"
    }
   }
  },
  {
   "cell_type": "code",
   "execution_count": 30,
   "outputs": [],
   "source": [
    "ses=SimpleExpSmoothing(train[\"Passengers\"],initialization_method='legacy-heuristic')\n",
    "res=ses.fit()"
   ],
   "metadata": {
    "collapsed": false,
    "pycharm": {
     "name": "#%%\n"
    }
   }
  },
  {
   "cell_type": "code",
   "execution_count": 31,
   "outputs": [],
   "source": [
    "train_idx=df.index <=train.index[-1]\n",
    "test_idx=df.index >train.index[-1]"
   ],
   "metadata": {
    "collapsed": false,
    "pycharm": {
     "name": "#%%\n"
    }
   }
  },
  {
   "cell_type": "code",
   "execution_count": 32,
   "outputs": [
    {
     "data": {
      "text/plain": "array([ True,  True,  True,  True,  True,  True,  True,  True,  True,\n        True,  True,  True,  True,  True,  True,  True,  True,  True,\n        True,  True,  True,  True,  True,  True,  True,  True,  True,\n        True,  True,  True,  True,  True,  True,  True,  True,  True,\n        True,  True,  True,  True,  True,  True,  True,  True,  True,\n        True,  True,  True,  True,  True,  True,  True,  True,  True,\n        True,  True,  True,  True,  True,  True,  True,  True,  True,\n        True,  True,  True,  True,  True,  True,  True,  True,  True,\n        True,  True,  True,  True,  True,  True,  True,  True,  True,\n        True,  True,  True,  True,  True,  True,  True,  True,  True,\n        True,  True,  True,  True,  True,  True,  True,  True,  True,\n        True,  True,  True,  True,  True,  True,  True,  True,  True,\n        True,  True,  True,  True,  True,  True,  True,  True,  True,\n        True,  True,  True,  True,  True,  True,  True,  True,  True,\n        True,  True,  True,  True,  True,  True, False, False, False,\n       False, False, False, False, False, False, False, False, False])"
     },
     "execution_count": 32,
     "metadata": {},
     "output_type": "execute_result"
    }
   ],
   "source": [
    "train_idx"
   ],
   "metadata": {
    "collapsed": false,
    "pycharm": {
     "name": "#%%\n"
    }
   }
  },
  {
   "cell_type": "code",
   "execution_count": 34,
   "outputs": [],
   "source": [
    "df.loc[train_idx,\"SESFitted\"]=res.fittedvalues\n",
    "df.loc[test_idx,\"SESFitted\"]=res.forecast(N_test)"
   ],
   "metadata": {
    "collapsed": false,
    "pycharm": {
     "name": "#%%\n"
    }
   }
  },
  {
   "cell_type": "code",
   "execution_count": 35,
   "outputs": [
    {
     "data": {
      "text/plain": "<AxesSubplot:xlabel='Month'>"
     },
     "execution_count": 35,
     "metadata": {},
     "output_type": "execute_result"
    },
    {
     "data": {
      "text/plain": "<Figure size 432x288 with 1 Axes>",
      "image/png": "[encoded data removed]"
     },
     "metadata": {
      "needs_background": "light"
     },
     "output_type": "display_data"
    }
   ],
   "source": [
    "df[[\"Passengers\",\"SESFitted\"]].plot()"
   ],
   "metadata": {
    "collapsed": false,
    "pycharm": {
     "name": "#%%\n"
    }
   }
  },
  {
   "cell_type": "code",
   "execution_count": 36,
   "outputs": [
    {
     "data": {
      "text/plain": "{'smoothing_level': 0.995,\n 'smoothing_trend': nan,\n 'smoothing_seasonal': nan,\n 'damping_trend': nan,\n 'initial_level': 112.0,\n 'initial_trend': nan,\n 'initial_seasons': array([], dtype=float64),\n 'use_boxcox': False,\n 'lamda': None,\n 'remove_bias': False}"
     },
     "execution_count": 36,
     "metadata": {},
     "output_type": "execute_result"
    }
   ],
   "source": [
    "res.params"
   ],
   "metadata": {
    "collapsed": false,
    "pycharm": {
     "name": "#%%\n"
    }
   }
  },
  {
   "cell_type": "code",
   "execution_count": null,
   "outputs": [],
   "source": [],
   "metadata": {
    "collapsed": false,
    "pycharm": {
     "name": "#%%\n"
    }
   }
  }
 ],
 "metadata": {
  "kernelspec": {
   "display_name": "Python 3",
   "language": "python",
   "name": "python3"
  },
  "language_info": {
   "codemirror_mode": {
    "name": "ipython",
    "version": 2
   },
   "file_extension": ".py",
   "mimetype": "text/x-python",
   "name": "python",
   "nbconvert_exporter": "python",
   "pygments_lexer": "ipython2",
   "version": "2.7.6"
  }
 },
 "nbformat": 4,
 "nbformat_minor": 0
}