{
 "cells": [
  {
   "cell_type": "markdown",
   "id": "83ace51f",
   "metadata": {},
   "source": [
    "#centered around 27,000 with a normal distribution and standard deviation of 15,000, with 10,000 data points"
   ]
  },
  {
   "cell_type": "code",
   "execution_count": 30,
   "id": "b2c4d23f",
   "metadata": {},
   "outputs": [
    {
     "data": {
      "image/png": "[encoded data removed]",
      "text/plain": [
       "<Figure size 432x288 with 1 Axes>"
      ]
     },
     "metadata": {
      "needs_background": "light"
     },
     "output_type": "display_data"
    }
   ],
   "source": [
    "import numpy as np\n",
    "\n",
    "#And what this does is create a random distribution.\n",
    "#Basically it creates a bell curve distribution of data around a certain point in this case 27000 dollars \n",
    "#with a standard deviation of 15000 dollars. And we want 10000 data points in this dataset.\n",
    "incomes=np.random.normal(27000,15000,10000)\n",
    "\n",
    "\n",
    "#We can segment the income data into 50 buckets, and plot it as a histogram\n",
    "%matplotlib inline\n",
    "import matplotlib.pyplot as plt\n",
    "plt.hist(incomes, 50)\n",
    "plt.show()"
   ]
  },
  {
   "cell_type": "code",
   "execution_count": 31,
   "id": "132b9d08",
   "metadata": {},
   "outputs": [
    {
     "data": {
      "text/plain": [
       "26920.4741814475"
      ]
     },
     "execution_count": 31,
     "metadata": {},
     "output_type": "execute_result"
    }
   ],
   "source": [
    "#Then, compute the mean (average) - it should be close to 27,000:\n",
    "np.mean(incomes)"
   ]
  },
  {
   "cell_type": "code",
   "execution_count": 32,
   "id": "51896e39",
   "metadata": {},
   "outputs": [
    {
     "data": {
      "text/plain": [
       "27205.055693556154"
      ]
     },
     "execution_count": 32,
     "metadata": {},
     "output_type": "execute_result"
    }
   ],
   "source": [
    "#\n",
    "np.median(incomes)"
   ]
  },
  {
   "cell_type": "code",
   "execution_count": 48,
   "id": "601087c3",
   "metadata": {},
   "outputs": [],
   "source": [
    "#Adding outlier\n",
    "incomes = np.append(incomes, [1000000000])"
   ]
  },
  {
   "cell_type": "code",
   "execution_count": 61,
   "id": "24cdfdf6",
   "metadata": {},
   "outputs": [
    {
     "data": {
      "text/plain": [
       "237765.04864739432"
      ]
     },
     "execution_count": 61,
     "metadata": {},
     "output_type": "execute_result"
    }
   ],
   "source": [
    "# After adding outlier mean is changes\n",
    "np.mean(incomes)\n"
   ]
  },
  {
   "cell_type": "code",
   "execution_count": 63,
   "id": "3242ec47",
   "metadata": {},
   "outputs": [
    {
     "data": {
      "text/plain": [
       "27206.655875393328"
      ]
     },
     "execution_count": 63,
     "metadata": {},
     "output_type": "execute_result"
    }
   ],
   "source": [
    "## After adding outlier median is remain unchnaged\n",
    "np.median(incomes)"
   ]
  },
  {
   "cell_type": "code",
   "execution_count": 56,
   "id": "f13b8d35",
   "metadata": {},
   "outputs": [
    {
     "data": {
      "text/plain": [
       "array([68, 70, 88, 55, 65, 50, 27, 57, 20, 41, 57, 20, 49, 80, 83, 63, 89,\n",
       "       77, 80, 50, 32, 64, 74, 61, 39, 79, 40, 45, 75, 68, 85, 38, 82, 68,\n",
       "       35, 53, 66, 41, 36, 66, 81, 59, 24, 55, 64, 62, 64, 87, 45, 86])"
      ]
     },
     "execution_count": 56,
     "metadata": {},
     "output_type": "execute_result"
    }
   ],
   "source": [
    "#generate some fake age data for 50 people\n",
    "ages = np.random.randint(low=18,high=90,size=50)\n",
    "ages"
   ]
  },
  {
   "cell_type": "code",
   "execution_count": 57,
   "id": "478fdaf4",
   "metadata": {},
   "outputs": [
    {
     "data": {
      "text/plain": [
       "ModeResult(mode=array([64]), count=array([3]))"
      ]
     },
     "execution_count": 57,
     "metadata": {},
     "output_type": "execute_result"
    }
   ],
   "source": [
    "from scipy import stats\n",
    "stats.mode(ages)"
   ]
  },
  {
   "cell_type": "code",
   "execution_count": null,
   "id": "b8bea7b9",
   "metadata": {},
   "outputs": [],
   "source": []
  }
 ],
 "metadata": {
  "kernelspec": {
   "display_name": "Python 3",
   "language": "python",
   "name": "python3"
  },
  "language_info": {
   "codemirror_mode": {
    "name": "ipython",
    "version": 3
   },
   "file_extension": ".py",
   "mimetype": "text/x-python",
   "name": "python",
   "nbconvert_exporter": "python",
   "pygments_lexer": "ipython3",
   "version": "3.9.4"
  }
 },
 "nbformat": 4,
 "nbformat_minor": 5
}
