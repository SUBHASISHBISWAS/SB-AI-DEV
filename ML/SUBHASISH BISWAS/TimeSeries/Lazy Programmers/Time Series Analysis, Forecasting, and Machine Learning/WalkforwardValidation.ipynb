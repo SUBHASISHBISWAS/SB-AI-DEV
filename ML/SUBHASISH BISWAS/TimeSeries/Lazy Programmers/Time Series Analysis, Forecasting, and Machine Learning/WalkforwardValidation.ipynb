{
 "cells": [
  {
   "cell_type": "code",
   "execution_count": 8,
   "metadata": {
    "collapsed": true
   },
   "outputs": [],
   "source": [
    "import pandas as pd\n",
    "import numpy as np\n",
    "import matplotlib.pyplot as plt\n",
    "import itertools\n",
    "\n",
    "from sklearn.metrics import mean_squared_error\n",
    "from statsmodels.tsa.holtwinters import ExponentialSmoothing"
   ]
  },
  {
   "cell_type": "code",
   "execution_count": 9,
   "outputs": [
    {
     "data": {
      "text/plain": "            Passengers\nMonth                 \n1949-01-01         112\n1949-02-01         118\n1949-03-01         132\n1949-04-01         129\n1949-05-01         121\n...                ...\n1960-08-01         606\n1960-09-01         508\n1960-10-01         461\n1960-11-01         390\n1960-12-01         432\n\n[144 rows x 1 columns]",
      "text/html": "<div>\n<style scoped>\n    .dataframe tbody tr th:only-of-type {\n        vertical-align: middle;\n    }\n\n    .dataframe tbody tr th {\n        vertical-align: top;\n    }\n\n    .dataframe thead th {\n        text-align: right;\n    }\n</style>\n<table border=\"1\" class=\"dataframe\">\n  <thead>\n    <tr style=\"text-align: right;\">\n      <th></th>\n      <th>Passengers</th>\n    </tr>\n    <tr>\n      <th>Month</th>\n      <th></th>\n    </tr>\n  </thead>\n  <tbody>\n    <tr>\n      <th>1949-01-01</th>\n      <td>112</td>\n    </tr>\n    <tr>\n      <th>1949-02-01</th>\n      <td>118</td>\n    </tr>\n    <tr>\n      <th>1949-03-01</th>\n      <td>132</td>\n    </tr>\n    <tr>\n      <th>1949-04-01</th>\n      <td>129</td>\n    </tr>\n    <tr>\n      <th>1949-05-01</th>\n      <td>121</td>\n    </tr>\n    <tr>\n      <th>...</th>\n      <td>...</td>\n    </tr>\n    <tr>\n      <th>1960-08-01</th>\n      <td>606</td>\n    </tr>\n    <tr>\n      <th>1960-09-01</th>\n      <td>508</td>\n    </tr>\n    <tr>\n      <th>1960-10-01</th>\n      <td>461</td>\n    </tr>\n    <tr>\n      <th>1960-11-01</th>\n      <td>390</td>\n    </tr>\n    <tr>\n      <th>1960-12-01</th>\n      <td>432</td>\n    </tr>\n  </tbody>\n</table>\n<p>144 rows × 1 columns</p>\n</div>"
     },
     "execution_count": 9,
     "metadata": {},
     "output_type": "execute_result"
    }
   ],
   "source": [
    "df = pd.read_csv('data/airline_passengers.csv',index_col='Month',parse_dates=True)\n",
    "df.index.freq=\"MS\"\n",
    "df"
   ],
   "metadata": {
    "collapsed": false,
    "pycharm": {
     "name": "#%%\n"
    }
   }
  },
  {
   "cell_type": "code",
   "execution_count": 10,
   "outputs": [],
   "source": [
    "h=12\n",
    "step=10\n",
    "Ntest=len(df)-h-step+1"
   ],
   "metadata": {
    "collapsed": false,
    "pycharm": {
     "name": "#%%\n"
    }
   }
  },
  {
   "cell_type": "code",
   "execution_count": 11,
   "outputs": [],
   "source": [
    "trend_type_list=[\"add\",\"mul\"]\n",
    "seasonal_type_list=[\"add\",\"mul\"]\n",
    "damped_trend_list=[True,False]\n",
    "init_method_list = ['estimated', 'heuristic', 'legacy-heuristic']\n",
    "use_boxcox_list = [True, False, 0]"
   ],
   "metadata": {
    "collapsed": false,
    "pycharm": {
     "name": "#%%\n"
    }
   }
  },
  {
   "cell_type": "code",
   "execution_count": 14,
   "outputs": [],
   "source": [
    "def walkforward(\n",
    "        trend_type,\n",
    "        seasonal_type,\n",
    "        damped_trend,\n",
    "        init_method,\n",
    "        use_boxcox,\n",
    "        debug=False):\n",
    "\n",
    "    # store errors\n",
    "    errors = []\n",
    "    seen_last = False\n",
    "    steps_completed = 0\n",
    "\n",
    "    for end_of_train in range(Ntest, len(df) - h + 1):\n",
    "        # We don't have to manually \"add\" the data to our dataset\n",
    "        # Just index it at the right points - this is a \"view\" not a \"copy\"\n",
    "        # So it doesn't take up any extra space or computation\n",
    "        train = df.iloc[:end_of_train]\n",
    "        test = df.iloc[end_of_train:end_of_train + h]\n",
    "\n",
    "        if test.index[-1] == df.index[-1]:\n",
    "            seen_last = True\n",
    "\n",
    "        steps_completed += 1\n",
    "\n",
    "        hw = ExponentialSmoothing(\n",
    "            train['Passengers'],\n",
    "            initialization_method=init_method,\n",
    "            trend=trend_type,\n",
    "            damped_trend=damped_trend,\n",
    "            seasonal=seasonal_type,\n",
    "            seasonal_periods=12,\n",
    "            use_boxcox=use_boxcox)\n",
    "        res_hw = hw.fit()\n",
    "\n",
    "        # compute error for the forecast horizon\n",
    "        fcast = res_hw.forecast(h)\n",
    "        error = mean_squared_error(test['Passengers'], fcast)\n",
    "        errors.append(error)\n",
    "\n",
    "    if debug:\n",
    "        print(\"seen_last:\", seen_last)\n",
    "        print(\"steps completed:\", steps_completed)\n",
    "\n",
    "    return np.mean(errors)\n",
    "\n",
    "\n",
    "\n",
    "\n"
   ],
   "metadata": {
    "collapsed": false,
    "pycharm": {
     "name": "#%%\n"
    }
   }
  },
  {
   "cell_type": "code",
   "execution_count": 15,
   "outputs": [
    {
     "name": "stdout",
     "output_type": "stream",
     "text": [
      "seen_last: True\n",
      "steps completed: 10\n"
     ]
    },
    {
     "data": {
      "text/plain": "2521.0321360892553"
     },
     "execution_count": 15,
     "metadata": {},
     "output_type": "execute_result"
    }
   ],
   "source": [
    "walkforward('add','add',False,'legacy-heuristic',0,debug=True)"
   ],
   "metadata": {
    "collapsed": false,
    "pycharm": {
     "name": "#%%\n"
    }
   }
  },
  {
   "cell_type": "code",
   "execution_count": 16,
   "outputs": [
    {
     "name": "stdout",
     "output_type": "stream",
     "text": [
      "('add', 'add', True, 'estimated', True)\n",
      "('add', 'add', True, 'estimated', False)\n",
      "('add', 'add', True, 'estimated', 0)\n",
      "('add', 'add', True, 'heuristic', True)\n",
      "('add', 'add', True, 'heuristic', False)\n",
      "('add', 'add', True, 'heuristic', 0)\n",
      "('add', 'add', True, 'legacy-heuristic', True)\n",
      "('add', 'add', True, 'legacy-heuristic', False)\n",
      "('add', 'add', True, 'legacy-heuristic', 0)\n",
      "('add', 'add', False, 'estimated', True)\n",
      "('add', 'add', False, 'estimated', False)\n",
      "('add', 'add', False, 'estimated', 0)\n",
      "('add', 'add', False, 'heuristic', True)\n",
      "('add', 'add', False, 'heuristic', False)\n",
      "('add', 'add', False, 'heuristic', 0)\n",
      "('add', 'add', False, 'legacy-heuristic', True)\n",
      "('add', 'add', False, 'legacy-heuristic', False)\n",
      "('add', 'add', False, 'legacy-heuristic', 0)\n",
      "('add', 'mul', True, 'estimated', True)\n",
      "('add', 'mul', True, 'estimated', False)\n",
      "('add', 'mul', True, 'estimated', 0)\n",
      "('add', 'mul', True, 'heuristic', True)\n",
      "('add', 'mul', True, 'heuristic', False)\n",
      "('add', 'mul', True, 'heuristic', 0)\n",
      "('add', 'mul', True, 'legacy-heuristic', True)\n",
      "('add', 'mul', True, 'legacy-heuristic', False)\n",
      "('add', 'mul', True, 'legacy-heuristic', 0)\n",
      "('add', 'mul', False, 'estimated', True)\n",
      "('add', 'mul', False, 'estimated', False)\n",
      "('add', 'mul', False, 'estimated', 0)\n",
      "('add', 'mul', False, 'heuristic', True)\n",
      "('add', 'mul', False, 'heuristic', False)\n",
      "('add', 'mul', False, 'heuristic', 0)\n",
      "('add', 'mul', False, 'legacy-heuristic', True)\n",
      "('add', 'mul', False, 'legacy-heuristic', False)\n",
      "('add', 'mul', False, 'legacy-heuristic', 0)\n",
      "('mul', 'add', True, 'estimated', True)\n",
      "('mul', 'add', True, 'estimated', False)\n",
      "('mul', 'add', True, 'estimated', 0)\n",
      "('mul', 'add', True, 'heuristic', True)\n",
      "('mul', 'add', True, 'heuristic', False)\n",
      "('mul', 'add', True, 'heuristic', 0)\n",
      "('mul', 'add', True, 'legacy-heuristic', True)\n",
      "('mul', 'add', True, 'legacy-heuristic', False)\n",
      "('mul', 'add', True, 'legacy-heuristic', 0)\n",
      "('mul', 'add', False, 'estimated', True)\n",
      "('mul', 'add', False, 'estimated', False)\n",
      "('mul', 'add', False, 'estimated', 0)\n",
      "('mul', 'add', False, 'heuristic', True)\n",
      "('mul', 'add', False, 'heuristic', False)\n",
      "('mul', 'add', False, 'heuristic', 0)\n",
      "('mul', 'add', False, 'legacy-heuristic', True)\n",
      "('mul', 'add', False, 'legacy-heuristic', False)\n",
      "('mul', 'add', False, 'legacy-heuristic', 0)\n",
      "('mul', 'mul', True, 'estimated', True)\n",
      "('mul', 'mul', True, 'estimated', False)\n",
      "('mul', 'mul', True, 'estimated', 0)\n",
      "('mul', 'mul', True, 'heuristic', True)\n",
      "('mul', 'mul', True, 'heuristic', False)\n",
      "('mul', 'mul', True, 'heuristic', 0)\n",
      "('mul', 'mul', True, 'legacy-heuristic', True)\n",
      "('mul', 'mul', True, 'legacy-heuristic', False)\n",
      "('mul', 'mul', True, 'legacy-heuristic', 0)\n",
      "('mul', 'mul', False, 'estimated', True)\n",
      "('mul', 'mul', False, 'estimated', False)\n",
      "('mul', 'mul', False, 'estimated', 0)\n",
      "('mul', 'mul', False, 'heuristic', True)\n",
      "('mul', 'mul', False, 'heuristic', False)\n",
      "('mul', 'mul', False, 'heuristic', 0)\n",
      "('mul', 'mul', False, 'legacy-heuristic', True)\n",
      "('mul', 'mul', False, 'legacy-heuristic', False)\n",
      "('mul', 'mul', False, 'legacy-heuristic', 0)\n"
     ]
    }
   ],
   "source": [
    "tuple_of_option_list=(trend_type_list,\n",
    "                      seasonal_type_list,\n",
    "                      damped_trend_list,\n",
    "                      init_method_list,\n",
    "                      use_boxcox_list)\n",
    "for x in itertools.product(*tuple_of_option_list):\n",
    "    print(x)"
   ],
   "metadata": {
    "collapsed": false,
    "pycharm": {
     "name": "#%%\n"
    }
   }
  },
  {
   "cell_type": "code",
   "execution_count": 19,
   "outputs": [
    {
     "name": "stdout",
     "output_type": "stream",
     "text": [
      "Best score so far: 412.8172569894138\n",
      "Best score so far: 412.70665935315685\n",
      "Best score so far: 320.66411143231363\n"
     ]
    },
    {
     "name": "stderr",
     "output_type": "stream",
     "text": [
      "/Users/subhasish/opt/anaconda3/envs/ML/lib/python3.8/site-packages/statsmodels/tsa/holtwinters/model.py:80: RuntimeWarning: overflow encountered in matmul\n",
      "  return err.T @ err\n",
      "/Users/subhasish/opt/anaconda3/envs/ML/lib/python3.8/site-packages/statsmodels/tsa/holtwinters/model.py:80: RuntimeWarning: overflow encountered in matmul\n",
      "  return err.T @ err\n",
      "/Users/subhasish/opt/anaconda3/envs/ML/lib/python3.8/site-packages/statsmodels/tsa/holtwinters/model.py:80: RuntimeWarning: overflow encountered in matmul\n",
      "  return err.T @ err\n",
      "/Users/subhasish/opt/anaconda3/envs/ML/lib/python3.8/site-packages/statsmodels/tsa/holtwinters/model.py:80: RuntimeWarning: overflow encountered in matmul\n",
      "  return err.T @ err\n",
      "/Users/subhasish/opt/anaconda3/envs/ML/lib/python3.8/site-packages/statsmodels/tsa/holtwinters/model.py:80: RuntimeWarning: overflow encountered in matmul\n",
      "  return err.T @ err\n",
      "/Users/subhasish/opt/anaconda3/envs/ML/lib/python3.8/site-packages/statsmodels/tsa/holtwinters/model.py:80: RuntimeWarning: overflow encountered in matmul\n",
      "  return err.T @ err\n",
      "/Users/subhasish/opt/anaconda3/envs/ML/lib/python3.8/site-packages/statsmodels/tsa/holtwinters/model.py:80: RuntimeWarning: overflow encountered in matmul\n",
      "  return err.T @ err\n",
      "/Users/subhasish/opt/anaconda3/envs/ML/lib/python3.8/site-packages/statsmodels/tsa/holtwinters/model.py:80: RuntimeWarning: overflow encountered in matmul\n",
      "  return err.T @ err\n",
      "/Users/subhasish/opt/anaconda3/envs/ML/lib/python3.8/site-packages/statsmodels/tsa/holtwinters/model.py:80: RuntimeWarning: overflow encountered in matmul\n",
      "  return err.T @ err\n",
      "/Users/subhasish/opt/anaconda3/envs/ML/lib/python3.8/site-packages/statsmodels/tsa/holtwinters/model.py:80: RuntimeWarning: overflow encountered in matmul\n",
      "  return err.T @ err\n",
      "/Users/subhasish/opt/anaconda3/envs/ML/lib/python3.8/site-packages/statsmodels/tsa/holtwinters/model.py:80: RuntimeWarning: overflow encountered in matmul\n",
      "  return err.T @ err\n",
      "/Users/subhasish/opt/anaconda3/envs/ML/lib/python3.8/site-packages/statsmodels/tsa/holtwinters/model.py:80: RuntimeWarning: overflow encountered in matmul\n",
      "  return err.T @ err\n",
      "/Users/subhasish/opt/anaconda3/envs/ML/lib/python3.8/site-packages/statsmodels/tsa/holtwinters/model.py:80: RuntimeWarning: overflow encountered in matmul\n",
      "  return err.T @ err\n",
      "/Users/subhasish/opt/anaconda3/envs/ML/lib/python3.8/site-packages/statsmodels/tsa/holtwinters/model.py:80: RuntimeWarning: overflow encountered in matmul\n",
      "  return err.T @ err\n",
      "/Users/subhasish/opt/anaconda3/envs/ML/lib/python3.8/site-packages/statsmodels/tsa/holtwinters/model.py:80: RuntimeWarning: overflow encountered in matmul\n",
      "  return err.T @ err\n",
      "/Users/subhasish/opt/anaconda3/envs/ML/lib/python3.8/site-packages/statsmodels/tsa/holtwinters/model.py:80: RuntimeWarning: overflow encountered in matmul\n",
      "  return err.T @ err\n",
      "/Users/subhasish/opt/anaconda3/envs/ML/lib/python3.8/site-packages/statsmodels/tsa/holtwinters/model.py:80: RuntimeWarning: overflow encountered in matmul\n",
      "  return err.T @ err\n",
      "/Users/subhasish/opt/anaconda3/envs/ML/lib/python3.8/site-packages/statsmodels/tsa/holtwinters/model.py:80: RuntimeWarning: overflow encountered in matmul\n",
      "  return err.T @ err\n",
      "/Users/subhasish/opt/anaconda3/envs/ML/lib/python3.8/site-packages/statsmodels/tsa/holtwinters/model.py:80: RuntimeWarning: overflow encountered in matmul\n",
      "  return err.T @ err\n",
      "/Users/subhasish/opt/anaconda3/envs/ML/lib/python3.8/site-packages/statsmodels/tsa/holtwinters/model.py:80: RuntimeWarning: overflow encountered in matmul\n",
      "  return err.T @ err\n",
      "/Users/subhasish/opt/anaconda3/envs/ML/lib/python3.8/site-packages/statsmodels/tsa/holtwinters/model.py:80: RuntimeWarning: overflow encountered in matmul\n",
      "  return err.T @ err\n",
      "/Users/subhasish/opt/anaconda3/envs/ML/lib/python3.8/site-packages/statsmodels/tsa/holtwinters/model.py:80: RuntimeWarning: overflow encountered in matmul\n",
      "  return err.T @ err\n",
      "/Users/subhasish/opt/anaconda3/envs/ML/lib/python3.8/site-packages/statsmodels/tsa/holtwinters/model.py:80: RuntimeWarning: overflow encountered in matmul\n",
      "  return err.T @ err\n",
      "/Users/subhasish/opt/anaconda3/envs/ML/lib/python3.8/site-packages/statsmodels/tsa/holtwinters/model.py:80: RuntimeWarning: overflow encountered in matmul\n",
      "  return err.T @ err\n",
      "/Users/subhasish/opt/anaconda3/envs/ML/lib/python3.8/site-packages/statsmodels/tsa/holtwinters/model.py:80: RuntimeWarning: overflow encountered in matmul\n",
      "  return err.T @ err\n",
      "/Users/subhasish/opt/anaconda3/envs/ML/lib/python3.8/site-packages/statsmodels/tsa/holtwinters/model.py:80: RuntimeWarning: overflow encountered in matmul\n",
      "  return err.T @ err\n"
     ]
    },
    {
     "name": "stdout",
     "output_type": "stream",
     "text": [
      "Best score so far: 304.20413070127256\n"
     ]
    },
    {
     "name": "stderr",
     "output_type": "stream",
     "text": [
      "/Users/subhasish/opt/anaconda3/envs/ML/lib/python3.8/site-packages/statsmodels/tsa/holtwinters/model.py:80: RuntimeWarning: overflow encountered in matmul\n",
      "  return err.T @ err\n",
      "/Users/subhasish/opt/anaconda3/envs/ML/lib/python3.8/site-packages/statsmodels/tsa/holtwinters/model.py:80: RuntimeWarning: overflow encountered in matmul\n",
      "  return err.T @ err\n",
      "/Users/subhasish/opt/anaconda3/envs/ML/lib/python3.8/site-packages/statsmodels/tsa/holtwinters/model.py:80: RuntimeWarning: overflow encountered in matmul\n",
      "  return err.T @ err\n",
      "/Users/subhasish/opt/anaconda3/envs/ML/lib/python3.8/site-packages/statsmodels/tsa/holtwinters/model.py:80: RuntimeWarning: overflow encountered in matmul\n",
      "  return err.T @ err\n",
      "/Users/subhasish/opt/anaconda3/envs/ML/lib/python3.8/site-packages/statsmodels/tsa/holtwinters/model.py:80: RuntimeWarning: overflow encountered in matmul\n",
      "  return err.T @ err\n",
      "/Users/subhasish/opt/anaconda3/envs/ML/lib/python3.8/site-packages/statsmodels/tsa/holtwinters/model.py:80: RuntimeWarning: overflow encountered in matmul\n",
      "  return err.T @ err\n",
      "/Users/subhasish/opt/anaconda3/envs/ML/lib/python3.8/site-packages/statsmodels/tsa/holtwinters/model.py:80: RuntimeWarning: overflow encountered in matmul\n",
      "  return err.T @ err\n",
      "/Users/subhasish/opt/anaconda3/envs/ML/lib/python3.8/site-packages/statsmodels/tsa/holtwinters/model.py:80: RuntimeWarning: overflow encountered in matmul\n",
      "  return err.T @ err\n",
      "/Users/subhasish/opt/anaconda3/envs/ML/lib/python3.8/site-packages/statsmodels/tsa/holtwinters/model.py:80: RuntimeWarning: overflow encountered in matmul\n",
      "  return err.T @ err\n",
      "/Users/subhasish/opt/anaconda3/envs/ML/lib/python3.8/site-packages/statsmodels/tsa/holtwinters/model.py:80: RuntimeWarning: overflow encountered in matmul\n",
      "  return err.T @ err\n",
      "/Users/subhasish/opt/anaconda3/envs/ML/lib/python3.8/site-packages/statsmodels/tsa/holtwinters/model.py:80: RuntimeWarning: overflow encountered in matmul\n",
      "  return err.T @ err\n",
      "/Users/subhasish/opt/anaconda3/envs/ML/lib/python3.8/site-packages/statsmodels/tsa/holtwinters/model.py:80: RuntimeWarning: overflow encountered in matmul\n",
      "  return err.T @ err\n",
      "/Users/subhasish/opt/anaconda3/envs/ML/lib/python3.8/site-packages/statsmodels/tsa/holtwinters/model.py:80: RuntimeWarning: overflow encountered in matmul\n",
      "  return err.T @ err\n",
      "/Users/subhasish/opt/anaconda3/envs/ML/lib/python3.8/site-packages/statsmodels/tsa/holtwinters/model.py:80: RuntimeWarning: overflow encountered in matmul\n",
      "  return err.T @ err\n",
      "/Users/subhasish/opt/anaconda3/envs/ML/lib/python3.8/site-packages/statsmodels/tsa/holtwinters/model.py:80: RuntimeWarning: overflow encountered in matmul\n",
      "  return err.T @ err\n",
      "/Users/subhasish/opt/anaconda3/envs/ML/lib/python3.8/site-packages/statsmodels/tsa/holtwinters/model.py:80: RuntimeWarning: overflow encountered in matmul\n",
      "  return err.T @ err\n",
      "/Users/subhasish/opt/anaconda3/envs/ML/lib/python3.8/site-packages/statsmodels/tsa/holtwinters/model.py:80: RuntimeWarning: overflow encountered in matmul\n",
      "  return err.T @ err\n",
      "/Users/subhasish/opt/anaconda3/envs/ML/lib/python3.8/site-packages/statsmodels/tsa/holtwinters/model.py:80: RuntimeWarning: overflow encountered in matmul\n",
      "  return err.T @ err\n",
      "/Users/subhasish/opt/anaconda3/envs/ML/lib/python3.8/site-packages/statsmodels/tsa/holtwinters/model.py:80: RuntimeWarning: overflow encountered in matmul\n",
      "  return err.T @ err\n",
      "/Users/subhasish/opt/anaconda3/envs/ML/lib/python3.8/site-packages/statsmodels/tsa/holtwinters/model.py:80: RuntimeWarning: overflow encountered in matmul\n",
      "  return err.T @ err\n"
     ]
    },
    {
     "name": "stdout",
     "output_type": "stream",
     "text": [
      "Best score so far: 302.92058245715333\n"
     ]
    },
    {
     "name": "stderr",
     "output_type": "stream",
     "text": [
      "/Users/subhasish/opt/anaconda3/envs/ML/lib/python3.8/site-packages/statsmodels/tsa/holtwinters/model.py:80: RuntimeWarning: overflow encountered in matmul\n",
      "  return err.T @ err\n",
      "/Users/subhasish/opt/anaconda3/envs/ML/lib/python3.8/site-packages/statsmodels/tsa/holtwinters/model.py:80: RuntimeWarning: overflow encountered in matmul\n",
      "  return err.T @ err\n",
      "/Users/subhasish/opt/anaconda3/envs/ML/lib/python3.8/site-packages/statsmodels/tsa/holtwinters/model.py:80: RuntimeWarning: overflow encountered in matmul\n",
      "  return err.T @ err\n",
      "/Users/subhasish/opt/anaconda3/envs/ML/lib/python3.8/site-packages/statsmodels/tsa/holtwinters/model.py:80: RuntimeWarning: overflow encountered in matmul\n",
      "  return err.T @ err\n",
      "/Users/subhasish/opt/anaconda3/envs/ML/lib/python3.8/site-packages/statsmodels/tsa/holtwinters/model.py:80: RuntimeWarning: overflow encountered in matmul\n",
      "  return err.T @ err\n",
      "/Users/subhasish/opt/anaconda3/envs/ML/lib/python3.8/site-packages/statsmodels/tsa/holtwinters/model.py:80: RuntimeWarning: overflow encountered in matmul\n",
      "  return err.T @ err\n",
      "/Users/subhasish/opt/anaconda3/envs/ML/lib/python3.8/site-packages/statsmodels/tsa/holtwinters/model.py:80: RuntimeWarning: overflow encountered in matmul\n",
      "  return err.T @ err\n",
      "/Users/subhasish/opt/anaconda3/envs/ML/lib/python3.8/site-packages/statsmodels/tsa/holtwinters/model.py:80: RuntimeWarning: overflow encountered in matmul\n",
      "  return err.T @ err\n",
      "/Users/subhasish/opt/anaconda3/envs/ML/lib/python3.8/site-packages/statsmodels/tsa/holtwinters/model.py:80: RuntimeWarning: overflow encountered in matmul\n",
      "  return err.T @ err\n",
      "/Users/subhasish/opt/anaconda3/envs/ML/lib/python3.8/site-packages/statsmodels/tsa/holtwinters/model.py:80: RuntimeWarning: overflow encountered in matmul\n",
      "  return err.T @ err\n",
      "/Users/subhasish/opt/anaconda3/envs/ML/lib/python3.8/site-packages/statsmodels/tsa/holtwinters/model.py:80: RuntimeWarning: overflow encountered in matmul\n",
      "  return err.T @ err\n",
      "/Users/subhasish/opt/anaconda3/envs/ML/lib/python3.8/site-packages/statsmodels/tsa/holtwinters/model.py:80: RuntimeWarning: overflow encountered in matmul\n",
      "  return err.T @ err\n",
      "/Users/subhasish/opt/anaconda3/envs/ML/lib/python3.8/site-packages/statsmodels/tsa/holtwinters/model.py:80: RuntimeWarning: overflow encountered in matmul\n",
      "  return err.T @ err\n",
      "/Users/subhasish/opt/anaconda3/envs/ML/lib/python3.8/site-packages/statsmodels/tsa/holtwinters/model.py:80: RuntimeWarning: overflow encountered in matmul\n",
      "  return err.T @ err\n",
      "/Users/subhasish/opt/anaconda3/envs/ML/lib/python3.8/site-packages/statsmodels/tsa/holtwinters/model.py:80: RuntimeWarning: overflow encountered in matmul\n",
      "  return err.T @ err\n",
      "/Users/subhasish/opt/anaconda3/envs/ML/lib/python3.8/site-packages/statsmodels/tsa/holtwinters/model.py:80: RuntimeWarning: overflow encountered in matmul\n",
      "  return err.T @ err\n",
      "/Users/subhasish/opt/anaconda3/envs/ML/lib/python3.8/site-packages/statsmodels/tsa/holtwinters/model.py:80: RuntimeWarning: overflow encountered in matmul\n",
      "  return err.T @ err\n",
      "/Users/subhasish/opt/anaconda3/envs/ML/lib/python3.8/site-packages/statsmodels/tsa/holtwinters/model.py:80: RuntimeWarning: overflow encountered in matmul\n",
      "  return err.T @ err\n",
      "/Users/subhasish/opt/anaconda3/envs/ML/lib/python3.8/site-packages/statsmodels/tsa/holtwinters/model.py:80: RuntimeWarning: overflow encountered in matmul\n",
      "  return err.T @ err\n",
      "/Users/subhasish/opt/anaconda3/envs/ML/lib/python3.8/site-packages/statsmodels/tsa/holtwinters/model.py:80: RuntimeWarning: overflow encountered in matmul\n",
      "  return err.T @ err\n",
      "/Users/subhasish/opt/anaconda3/envs/ML/lib/python3.8/site-packages/statsmodels/tsa/holtwinters/model.py:80: RuntimeWarning: overflow encountered in matmul\n",
      "  return err.T @ err\n",
      "/Users/subhasish/opt/anaconda3/envs/ML/lib/python3.8/site-packages/statsmodels/tsa/holtwinters/model.py:80: RuntimeWarning: overflow encountered in matmul\n",
      "  return err.T @ err\n",
      "/Users/subhasish/opt/anaconda3/envs/ML/lib/python3.8/site-packages/statsmodels/tsa/holtwinters/model.py:80: RuntimeWarning: overflow encountered in matmul\n",
      "  return err.T @ err\n",
      "/Users/subhasish/opt/anaconda3/envs/ML/lib/python3.8/site-packages/statsmodels/tsa/holtwinters/model.py:80: RuntimeWarning: overflow encountered in matmul\n",
      "  return err.T @ err\n",
      "/Users/subhasish/opt/anaconda3/envs/ML/lib/python3.8/site-packages/statsmodels/tsa/holtwinters/model.py:80: RuntimeWarning: overflow encountered in matmul\n",
      "  return err.T @ err\n",
      "/Users/subhasish/opt/anaconda3/envs/ML/lib/python3.8/site-packages/statsmodels/tsa/holtwinters/model.py:80: RuntimeWarning: overflow encountered in matmul\n",
      "  return err.T @ err\n",
      "/Users/subhasish/opt/anaconda3/envs/ML/lib/python3.8/site-packages/statsmodels/tsa/holtwinters/model.py:80: RuntimeWarning: overflow encountered in matmul\n",
      "  return err.T @ err\n",
      "/Users/subhasish/opt/anaconda3/envs/ML/lib/python3.8/site-packages/statsmodels/tsa/holtwinters/model.py:80: RuntimeWarning: overflow encountered in matmul\n",
      "  return err.T @ err\n",
      "/Users/subhasish/opt/anaconda3/envs/ML/lib/python3.8/site-packages/statsmodels/tsa/holtwinters/model.py:80: RuntimeWarning: overflow encountered in matmul\n",
      "  return err.T @ err\n",
      "/Users/subhasish/opt/anaconda3/envs/ML/lib/python3.8/site-packages/statsmodels/tsa/holtwinters/model.py:80: RuntimeWarning: overflow encountered in matmul\n",
      "  return err.T @ err\n",
      "/Users/subhasish/opt/anaconda3/envs/ML/lib/python3.8/site-packages/statsmodels/tsa/holtwinters/model.py:80: RuntimeWarning: overflow encountered in matmul\n",
      "  return err.T @ err\n",
      "/Users/subhasish/opt/anaconda3/envs/ML/lib/python3.8/site-packages/statsmodels/tsa/holtwinters/model.py:80: RuntimeWarning: overflow encountered in matmul\n",
      "  return err.T @ err\n",
      "/Users/subhasish/opt/anaconda3/envs/ML/lib/python3.8/site-packages/statsmodels/tsa/holtwinters/model.py:80: RuntimeWarning: overflow encountered in matmul\n",
      "  return err.T @ err\n",
      "/Users/subhasish/opt/anaconda3/envs/ML/lib/python3.8/site-packages/statsmodels/tsa/holtwinters/model.py:80: RuntimeWarning: overflow encountered in matmul\n",
      "  return err.T @ err\n",
      "/Users/subhasish/opt/anaconda3/envs/ML/lib/python3.8/site-packages/statsmodels/tsa/holtwinters/model.py:80: RuntimeWarning: overflow encountered in matmul\n",
      "  return err.T @ err\n",
      "/Users/subhasish/opt/anaconda3/envs/ML/lib/python3.8/site-packages/statsmodels/tsa/holtwinters/model.py:80: RuntimeWarning: overflow encountered in matmul\n",
      "  return err.T @ err\n",
      "/Users/subhasish/opt/anaconda3/envs/ML/lib/python3.8/site-packages/statsmodels/tsa/holtwinters/model.py:80: RuntimeWarning: overflow encountered in matmul\n",
      "  return err.T @ err\n",
      "/Users/subhasish/opt/anaconda3/envs/ML/lib/python3.8/site-packages/statsmodels/tsa/holtwinters/model.py:80: RuntimeWarning: overflow encountered in matmul\n",
      "  return err.T @ err\n",
      "/Users/subhasish/opt/anaconda3/envs/ML/lib/python3.8/site-packages/statsmodels/tsa/holtwinters/model.py:80: RuntimeWarning: overflow encountered in matmul\n",
      "  return err.T @ err\n",
      "/Users/subhasish/opt/anaconda3/envs/ML/lib/python3.8/site-packages/statsmodels/tsa/holtwinters/model.py:80: RuntimeWarning: overflow encountered in matmul\n",
      "  return err.T @ err\n",
      "/Users/subhasish/opt/anaconda3/envs/ML/lib/python3.8/site-packages/statsmodels/tsa/holtwinters/model.py:80: RuntimeWarning: overflow encountered in matmul\n",
      "  return err.T @ err\n",
      "/Users/subhasish/opt/anaconda3/envs/ML/lib/python3.8/site-packages/statsmodels/tsa/holtwinters/model.py:80: RuntimeWarning: overflow encountered in matmul\n",
      "  return err.T @ err\n",
      "/Users/subhasish/opt/anaconda3/envs/ML/lib/python3.8/site-packages/statsmodels/tsa/holtwinters/model.py:80: RuntimeWarning: overflow encountered in matmul\n",
      "  return err.T @ err\n",
      "/Users/subhasish/opt/anaconda3/envs/ML/lib/python3.8/site-packages/statsmodels/tsa/holtwinters/model.py:80: RuntimeWarning: overflow encountered in matmul\n",
      "  return err.T @ err\n",
      "/Users/subhasish/opt/anaconda3/envs/ML/lib/python3.8/site-packages/statsmodels/tsa/holtwinters/model.py:80: RuntimeWarning: overflow encountered in matmul\n",
      "  return err.T @ err\n",
      "/Users/subhasish/opt/anaconda3/envs/ML/lib/python3.8/site-packages/statsmodels/tsa/holtwinters/model.py:80: RuntimeWarning: overflow encountered in matmul\n",
      "  return err.T @ err\n",
      "/Users/subhasish/opt/anaconda3/envs/ML/lib/python3.8/site-packages/statsmodels/tsa/holtwinters/model.py:80: RuntimeWarning: overflow encountered in matmul\n",
      "  return err.T @ err\n",
      "/Users/subhasish/opt/anaconda3/envs/ML/lib/python3.8/site-packages/statsmodels/tsa/holtwinters/model.py:80: RuntimeWarning: overflow encountered in matmul\n",
      "  return err.T @ err\n",
      "/Users/subhasish/opt/anaconda3/envs/ML/lib/python3.8/site-packages/statsmodels/tsa/holtwinters/model.py:80: RuntimeWarning: overflow encountered in matmul\n",
      "  return err.T @ err\n",
      "/Users/subhasish/opt/anaconda3/envs/ML/lib/python3.8/site-packages/statsmodels/tsa/holtwinters/model.py:80: RuntimeWarning: overflow encountered in matmul\n",
      "  return err.T @ err\n",
      "/Users/subhasish/opt/anaconda3/envs/ML/lib/python3.8/site-packages/statsmodels/tsa/holtwinters/model.py:80: RuntimeWarning: overflow encountered in matmul\n",
      "  return err.T @ err\n",
      "/Users/subhasish/opt/anaconda3/envs/ML/lib/python3.8/site-packages/statsmodels/tsa/holtwinters/model.py:80: RuntimeWarning: overflow encountered in matmul\n",
      "  return err.T @ err\n",
      "/Users/subhasish/opt/anaconda3/envs/ML/lib/python3.8/site-packages/statsmodels/tsa/holtwinters/model.py:80: RuntimeWarning: overflow encountered in matmul\n",
      "  return err.T @ err\n",
      "/Users/subhasish/opt/anaconda3/envs/ML/lib/python3.8/site-packages/statsmodels/tsa/holtwinters/model.py:80: RuntimeWarning: overflow encountered in matmul\n",
      "  return err.T @ err\n",
      "/Users/subhasish/opt/anaconda3/envs/ML/lib/python3.8/site-packages/statsmodels/tsa/holtwinters/model.py:80: RuntimeWarning: overflow encountered in matmul\n",
      "  return err.T @ err\n",
      "/Users/subhasish/opt/anaconda3/envs/ML/lib/python3.8/site-packages/statsmodels/tsa/holtwinters/model.py:80: RuntimeWarning: overflow encountered in matmul\n",
      "  return err.T @ err\n",
      "/Users/subhasish/opt/anaconda3/envs/ML/lib/python3.8/site-packages/statsmodels/tsa/holtwinters/model.py:80: RuntimeWarning: overflow encountered in matmul\n",
      "  return err.T @ err\n",
      "/Users/subhasish/opt/anaconda3/envs/ML/lib/python3.8/site-packages/statsmodels/tsa/holtwinters/model.py:80: RuntimeWarning: overflow encountered in matmul\n",
      "  return err.T @ err\n",
      "/Users/subhasish/opt/anaconda3/envs/ML/lib/python3.8/site-packages/statsmodels/tsa/holtwinters/model.py:80: RuntimeWarning: overflow encountered in matmul\n",
      "  return err.T @ err\n",
      "/Users/subhasish/opt/anaconda3/envs/ML/lib/python3.8/site-packages/statsmodels/tsa/holtwinters/model.py:80: RuntimeWarning: overflow encountered in matmul\n",
      "  return err.T @ err\n",
      "/Users/subhasish/opt/anaconda3/envs/ML/lib/python3.8/site-packages/statsmodels/tsa/holtwinters/model.py:80: RuntimeWarning: overflow encountered in matmul\n",
      "  return err.T @ err\n",
      "/Users/subhasish/opt/anaconda3/envs/ML/lib/python3.8/site-packages/statsmodels/tsa/holtwinters/model.py:80: RuntimeWarning: overflow encountered in matmul\n",
      "  return err.T @ err\n",
      "/Users/subhasish/opt/anaconda3/envs/ML/lib/python3.8/site-packages/statsmodels/tsa/holtwinters/model.py:80: RuntimeWarning: overflow encountered in matmul\n",
      "  return err.T @ err\n",
      "/Users/subhasish/opt/anaconda3/envs/ML/lib/python3.8/site-packages/statsmodels/tsa/holtwinters/model.py:80: RuntimeWarning: overflow encountered in matmul\n",
      "  return err.T @ err\n",
      "/Users/subhasish/opt/anaconda3/envs/ML/lib/python3.8/site-packages/statsmodels/tsa/holtwinters/model.py:80: RuntimeWarning: overflow encountered in matmul\n",
      "  return err.T @ err\n",
      "/Users/subhasish/opt/anaconda3/envs/ML/lib/python3.8/site-packages/statsmodels/tsa/holtwinters/model.py:80: RuntimeWarning: overflow encountered in matmul\n",
      "  return err.T @ err\n",
      "/Users/subhasish/opt/anaconda3/envs/ML/lib/python3.8/site-packages/statsmodels/tsa/holtwinters/model.py:80: RuntimeWarning: overflow encountered in matmul\n",
      "  return err.T @ err\n",
      "/Users/subhasish/opt/anaconda3/envs/ML/lib/python3.8/site-packages/statsmodels/tsa/holtwinters/model.py:80: RuntimeWarning: overflow encountered in matmul\n",
      "  return err.T @ err\n",
      "/Users/subhasish/opt/anaconda3/envs/ML/lib/python3.8/site-packages/statsmodels/tsa/holtwinters/model.py:80: RuntimeWarning: overflow encountered in matmul\n",
      "  return err.T @ err\n",
      "/Users/subhasish/opt/anaconda3/envs/ML/lib/python3.8/site-packages/statsmodels/tsa/holtwinters/model.py:80: RuntimeWarning: overflow encountered in matmul\n",
      "  return err.T @ err\n"
     ]
    }
   ],
   "source": [
    "best_score=float('inf')\n",
    "best_option=True\n",
    "\n",
    "for x in itertools.product(*tuple_of_option_list):\n",
    "    score=walkforward(*x)\n",
    "\n",
    "    if score < best_score:\n",
    "        print(\"Best score so far:\", score)\n",
    "        best_score = score\n",
    "        best_options = x"
   ],
   "metadata": {
    "collapsed": false,
    "pycharm": {
     "name": "#%%\n"
    }
   }
  },
  {
   "cell_type": "code",
   "execution_count": 20,
   "outputs": [
    {
     "name": "stdout",
     "output_type": "stream",
     "text": [
      "best score: 302.92058245715333\n",
      "trend_type mul\n",
      "seasonal_type add\n",
      "damped_trend False\n",
      "init_method legacy-heuristic\n",
      "use_boxcox False\n"
     ]
    }
   ],
   "source": [
    "print(\"best score:\", best_score)\n",
    "\n",
    "trend_type, seasonal_type, damped_trend, init_method, use_boxcox = best_options\n",
    "print(\"trend_type\", trend_type)\n",
    "print(\"seasonal_type\", seasonal_type)\n",
    "print(\"damped_trend\", damped_trend)\n",
    "print(\"init_method\", init_method)\n",
    "print(\"use_boxcox\", use_boxcox)"
   ],
   "metadata": {
    "collapsed": false,
    "pycharm": {
     "name": "#%%\n"
    }
   }
  },
  {
   "cell_type": "code",
   "execution_count": null,
   "outputs": [],
   "source": [],
   "metadata": {
    "collapsed": false,
    "pycharm": {
     "name": "#%%\n"
    }
   }
  }
 ],
 "metadata": {
  "kernelspec": {
   "display_name": "Python 3",
   "language": "python",
   "name": "python3"
  },
  "language_info": {
   "codemirror_mode": {
    "name": "ipython",
    "version": 2
   },
   "file_extension": ".py",
   "mimetype": "text/x-python",
   "name": "python",
   "nbconvert_exporter": "python",
   "pygments_lexer": "ipython2",
   "version": "2.7.6"
  }
 },
 "nbformat": 4,
 "nbformat_minor": 0
}