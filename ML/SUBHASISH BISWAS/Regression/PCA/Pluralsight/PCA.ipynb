{
 "cells": [
  {
   "cell_type": "code",
   "execution_count": 6,
   "metadata": {},
   "outputs": [],
   "source": [
    "import pandas as pd \n",
    "import numpy as np\n",
    "from tabulate import tabulate"
   ]
  },
  {
   "cell_type": "code",
   "execution_count": null,
   "metadata": {},
   "outputs": [],
   "source": [
    "#https://stackoverflow.com/questions/18528533/pretty-printing-a-pandas-dataframe\n",
    "#https://pypi.org/project/tabulate/"
   ]
  },
  {
   "cell_type": "code",
   "execution_count": 19,
   "metadata": {},
   "outputs": [
    {
     "name": "stdout",
     "output_type": "stream",
     "text": [
      "╔════╦════════════╦═════════╦═════════╦═════════╦═════════╦══════════╦═════════╦═══════╗\n",
      "║    ║ Date       ║    GOOG ║    AAPL ║     XOM ║     CVX ║      VLO ║     S&P ║   FVX ║\n",
      "╠════╬════════════╬═════════╬═════════╬═════════╬═════════╬══════════╬═════════╬═══════╣\n",
      "║  0 ║ 04/04/2022 ║ 143.643 ║ 177.366 ║ 80.2561 ║ 158.916 ║  97.6544 ║ 449.19  ║ 2.555 ║\n",
      "╠════╬════════════╬═════════╬═════════╬═════════╬═════════╬══════════╬═════════╬═══════╣\n",
      "║  1 ║ 05/04/2022 ║ 141.063 ║ 174.006 ║ 79.8411 ║ 157.939 ║  98.3523 ║ 443.516 ║ 2.696 ║\n",
      "╠════╬════════════╬═════════╬═════════╬═════════╬═════════╬══════════╬═════════╬═══════╣\n",
      "║  2 ║ 06/04/2022 ║ 137.176 ║ 170.795 ║ 80.729  ║ 159.341 ║ 100.136  ║ 439.081 ║ 2.702 ║\n",
      "╠════╬════════════╬═════════╬═════════╬═════════╬═════════╬══════════╬═════════╬═══════╣\n",
      "║  3 ║ 07/04/2022 ║ 136.465 ║ 171.103 ║ 82.0801 ║ 161.555 ║ 100.165  ║ 441.293 ║ 2.691 ║\n",
      "╠════╬════════════╬═════════╬═════════╬═════════╬═════════╬══════════╬═════════╬═══════╣\n",
      "║  4 ║ 08/04/2022 ║ 134.01  ║ 169.066 ║ 83.8076 ║ 164.291 ║ 100.058  ║ 440.113 ║ 2.756 ║\n",
      "╚════╩════════════╩═════════╩═════════╩═════════╩═════════╩══════════╩═════════╩═══════╝\n"
     ]
    }
   ],
   "source": [
    "data=pd.read_csv('PCA.csv' ,sep=\",\")\n",
    "print(tabulate(data.head(), headers='keys', tablefmt='double_grid'))"
   ]
  },
  {
   "cell_type": "code",
   "execution_count": 22,
   "metadata": {},
   "outputs": [
    {
     "name": "stdout",
     "output_type": "stream",
     "text": [
      "╔════╦═════════════════════╦═════════╦═════════╦═════════╦═════════╦══════════╦═════════╦═══════╗\n",
      "║    ║ Date                ║    GOOG ║    AAPL ║     XOM ║     CVX ║      VLO ║     S&P ║   FVX ║\n",
      "╠════╬═════════════════════╬═════════╬═════════╬═════════╬═════════╬══════════╬═════════╬═══════╣\n",
      "║  0 ║ 2022-04-04 00:00:00 ║ 143.643 ║ 177.366 ║ 80.2561 ║ 158.916 ║  97.6544 ║ 449.19  ║ 2.555 ║\n",
      "╠════╬═════════════════════╬═════════╬═════════╬═════════╬═════════╬══════════╬═════════╬═══════╣\n",
      "║  1 ║ 2022-04-05 00:00:00 ║ 141.063 ║ 174.006 ║ 79.8411 ║ 157.939 ║  98.3523 ║ 443.516 ║ 2.696 ║\n",
      "╠════╬═════════════════════╬═════════╬═════════╬═════════╬═════════╬══════════╬═════════╬═══════╣\n",
      "║  2 ║ 2022-04-06 00:00:00 ║ 137.176 ║ 170.795 ║ 80.729  ║ 159.341 ║ 100.136  ║ 439.081 ║ 2.702 ║\n",
      "╠════╬═════════════════════╬═════════╬═════════╬═════════╬═════════╬══════════╬═════════╬═══════╣\n",
      "║  3 ║ 2022-04-07 00:00:00 ║ 136.465 ║ 171.103 ║ 82.0801 ║ 161.555 ║ 100.165  ║ 441.293 ║ 2.691 ║\n",
      "╠════╬═════════════════════╬═════════╬═════════╬═════════╬═════════╬══════════╬═════════╬═══════╣\n",
      "║  4 ║ 2022-04-08 00:00:00 ║ 134.01  ║ 169.066 ║ 83.8076 ║ 164.291 ║ 100.058  ║ 440.113 ║ 2.756 ║\n",
      "╚════╩═════════════════════╩═════════╩═════════╩═════════╩═════════╩══════════╩═════════╩═══════╝\n"
     ]
    }
   ],
   "source": [
    "data['Date'] = pd.to_datetime(data['Date'], format='%d/%m/%Y')\n",
    "data = data.sort_values(['Date'], ascending=[True])\n",
    "print(tabulate(data.head(), headers='keys', tablefmt='double_grid'))"
   ]
  },
  {
   "cell_type": "code",
   "execution_count": 24,
   "metadata": {},
   "outputs": [
    {
     "data": {
      "text/plain": [
       "{'Date': dtype('<M8[ns]'),\n",
       " 'GOOG': dtype('float64'),\n",
       " 'AAPL': dtype('float64'),\n",
       " 'XOM': dtype('float64'),\n",
       " 'CVX': dtype('float64'),\n",
       " 'VLO': dtype('float64'),\n",
       " 'S&P': dtype('float64'),\n",
       " 'FVX': dtype('float64')}"
      ]
     },
     "execution_count": 24,
     "metadata": {},
     "output_type": "execute_result"
    }
   ],
   "source": [
    "dict(data.dtypes)"
   ]
  },
  {
   "cell_type": "code",
   "execution_count": 32,
   "metadata": {},
   "outputs": [
    {
     "name": "stdout",
     "output_type": "stream",
     "text": [
      "╔════╦═════════╦═════════╦═════════╦═════════╦══════════╦═════════╦═══════╗\n",
      "║    ║    GOOG ║    AAPL ║     XOM ║     CVX ║      VLO ║     S&P ║   FVX ║\n",
      "╠════╬═════════╬═════════╬═════════╬═════════╬══════════╬═════════╬═══════╣\n",
      "║  1 ║ 141.063 ║ 174.006 ║ 79.8411 ║ 157.939 ║  98.3523 ║ 443.516 ║ 2.696 ║\n",
      "╠════╬═════════╬═════════╬═════════╬═════════╬══════════╬═════════╬═══════╣\n",
      "║  2 ║ 137.176 ║ 170.795 ║ 80.729  ║ 159.341 ║ 100.136  ║ 439.081 ║ 2.702 ║\n",
      "╠════╬═════════╬═════════╬═════════╬═════════╬══════════╬═════════╬═══════╣\n",
      "║  3 ║ 136.465 ║ 171.103 ║ 82.0801 ║ 161.555 ║ 100.165  ║ 441.293 ║ 2.691 ║\n",
      "╠════╬═════════╬═════════╬═════════╬═════════╬══════════╬═════════╬═══════╣\n",
      "║  4 ║ 134.01  ║ 169.066 ║ 83.8076 ║ 164.291 ║ 100.058  ║ 440.113 ║ 2.756 ║\n",
      "╠════╬═════════╬═════════╬═════════╬═════════╬══════════╬═════════╬═══════╣\n",
      "║  5 ║ 129.796 ║ 164.752 ║ 80.922  ║ 160.066 ║  97.8095 ║ 432.591 ║ 2.756 ║\n",
      "╚════╩═════════╩═════════╩═════════╩═════════╩══════════╩═════════╩═══════╝\n"
     ]
    }
   ],
   "source": [
    "'''\n",
    "We can access a set of key value pairs corresponding to the column names and their data types, using the.\n",
    "dtypes method. We go ahead and convert the set of key value pairs into a dictionary, and then select only those \n",
    "keys from the dictionary where the corresponding values are a numeric data type.\n",
    "'''\n",
    "\n",
    "returns = data[[key for key in dict(data.dtypes) if dict(data.dtypes)[key] in ['float64', 'int64']]]\n",
    "print(tabulate(returns.head(), headers='keys', tablefmt='double_grid'))"
   ]
  },
  {
   "cell_type": "code",
   "execution_count": 34,
   "metadata": {},
   "outputs": [
    {
     "name": "stdout",
     "output_type": "stream",
     "text": [
      "╔════╦═════════════╦═════════════╦═════════════╦═════════════╦══════════════╦═════════════╦═════════════╗\n",
      "║    ║        GOOG ║        AAPL ║         XOM ║         CVX ║          VLO ║         S&P ║         FVX ║\n",
      "╠════╬═════════════╬═════════════╬═════════════╬═════════════╬══════════════╬═════════════╬═════════════╣\n",
      "║  1 ║ -0.0179578  ║ -0.018942   ║ -0.00517076 ║ -0.00614468 ║  0.0071471   ║ -0.0126313  ║  0.0551859  ║\n",
      "╠════╬═════════════╬═════════════╬═════════════╬═════════════╬══════════════╬═════════════╬═════════════╣\n",
      "║  2 ║ -0.0275551  ║ -0.0184508  ║  0.0111205  ║  0.0088761  ║  0.0181353   ║ -0.00999936 ║  0.00222552 ║\n",
      "╠════╬═════════════╬═════════════╬═════════════╬═════════════╬══════════════╬═════════════╬═════════════╣\n",
      "║  3 ║ -0.00518312 ║  0.00180403 ║  0.0167363  ║  0.0138948  ║  0.000290365 ║  0.00503899 ║ -0.00407106 ║\n",
      "╠════╬═════════════╬═════════════╬═════════════╬═════════════╬══════════════╬═════════════╬═════════════╣\n",
      "║  4 ║ -0.0179863  ║ -0.0119089  ║  0.0210465  ║  0.0169359  ║ -0.00106445  ║ -0.00267394 ║  0.0241546  ║\n",
      "╠════╬═════════════╬═════════════╬═════════════╬═════════════╬══════════════╬═════════════╬═════════════╣\n",
      "║  5 ║ -0.0314453  ║ -0.0255158  ║ -0.0344312  ║ -0.0257164  ║ -0.0224763   ║ -0.0170924  ║  0          ║\n",
      "╚════╩═════════════╩═════════════╩═════════════╩═════════════╩══════════════╩═════════════╩═════════════╝\n"
     ]
    }
   ],
   "source": [
    "'''\n",
    "will simply convert all of our prices into percent changes.\n",
    "\n",
    "As is always the case while going from prices to returns, we have one row of data that we've lost. \n",
    "This is the 0 row where all of the elements have the special Python value NaN, or not a number. \n",
    "So we go ahead and exclude it by restricting to the returns data frame to all of the rows other than the first\n",
    "'''\n",
    "returns = data[[key for key in dict(data.dtypes) if dict(data.dtypes)[key] in ['float64', 'int64']]].pct_change()\n",
    "returns = returns[1:]\n",
    "print(tabulate(returns.head(), headers='keys', tablefmt='double_grid'))"
   ]
  },
  {
   "cell_type": "code",
   "execution_count": null,
   "metadata": {},
   "outputs": [],
   "source": []
  }
 ],
 "metadata": {
  "kernelspec": {
   "display_name": "ML",
   "language": "python",
   "name": "python3"
  },
  "language_info": {
   "codemirror_mode": {
    "name": "ipython",
    "version": 3
   },
   "file_extension": ".py",
   "mimetype": "text/x-python",
   "name": "python",
   "nbconvert_exporter": "python",
   "pygments_lexer": "ipython3",
   "version": "3.8.8"
  },
  "orig_nbformat": 4
 },
 "nbformat": 4,
 "nbformat_minor": 2
}
