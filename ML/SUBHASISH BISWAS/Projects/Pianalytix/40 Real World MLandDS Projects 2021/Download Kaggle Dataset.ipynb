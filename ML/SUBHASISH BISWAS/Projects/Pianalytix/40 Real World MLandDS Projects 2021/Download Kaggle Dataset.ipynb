{
 "cells": [
  {
   "cell_type": "code",
   "execution_count": 1,
   "id": "c9b411a8",
   "metadata": {},
   "outputs": [],
   "source": [
    "#%pip install kaggle"
   ]
  },
  {
   "cell_type": "code",
   "execution_count": 2,
   "id": "d3d976e2",
   "metadata": {},
   "outputs": [
    {
     "data": {
      "text/plain": [
       "'/Users/subhasish/Documents/APPLE/SUBHASISH/Development/GIT/Interstellar/SB-AI-DEV/ML/SB/Projects/Pianalytix/40 Real World MLandDS Projects 2021'"
      ]
     },
     "execution_count": 2,
     "metadata": {},
     "output_type": "execute_result"
    }
   ],
   "source": [
    "%pwd"
   ]
  },
  {
   "cell_type": "code",
   "execution_count": 3,
   "id": "105f64ec",
   "metadata": {},
   "outputs": [
    {
     "name": "stdout",
     "output_type": "stream",
     "text": [
      "cp: kaggle.json: No such file or directory\r\n"
     ]
    }
   ],
   "source": [
    "!mkdir -p ~/.kaggle/\n",
    "!cp kaggle.json ~/.kaggle/"
   ]
  },
  {
   "cell_type": "code",
   "execution_count": 4,
   "id": "f824fd8d",
   "metadata": {},
   "outputs": [],
   "source": [
    "!chmod 600 ~/.kaggle/kaggle.json"
   ]
  },
  {
   "cell_type": "code",
   "execution_count": 5,
   "id": "963a257b",
   "metadata": {},
   "outputs": [
    {
     "name": "stdout",
     "output_type": "stream",
     "text": [
      "mkdir: Data: File exists\n",
      "/Users/subhasish/Documents/APPLE/SUBHASISH/Development/GIT/Interstellar/SB-AI-DEV/ML/SB/Projects/Pianalytix/40 Real World MLandDS Projects 2021/Data\n"
     ]
    }
   ],
   "source": [
    "!mkdir Data\n",
    "%cd Data"
   ]
  },
  {
   "cell_type": "code",
   "execution_count": 10,
   "id": "34adad62",
   "metadata": {},
   "outputs": [
    {
     "name": "stdout",
     "output_type": "stream",
     "text": [
      "zsh:1: command not found: kaggle\r\n"
     ]
    }
   ],
   "source": [
    "!kaggle dataset list -s dogbreedidfromcomp"
   ]
  },
  {
   "cell_type": "code",
   "execution_count": 7,
   "id": "82eb8a0d",
   "metadata": {},
   "outputs": [
    {
     "name": "stdout",
     "output_type": "stream",
     "text": [
      "zsh:1: command not found: kaggle\r\n"
     ]
    }
   ],
   "source": [
    "!kaggle"
   ]
  },
  {
   "cell_type": "code",
   "execution_count": 15,
   "id": "a0f60402",
   "metadata": {},
   "outputs": [
    {
     "name": "stdout",
     "output_type": "stream",
     "text": [
      "/usr/bin:/bin:/usr/sbin:/sbin\r\n"
     ]
    }
   ],
   "source": [
    "!echo $PATH"
   ]
  },
  {
   "cell_type": "code",
   "execution_count": 16,
   "id": "e0df88d6",
   "metadata": {},
   "outputs": [
    {
     "name": "stdout",
     "output_type": "stream",
     "text": [
      "/usr/bin/python\r\n"
     ]
    }
   ],
   "source": [
    "!which python"
   ]
  },
  {
   "cell_type": "code",
   "execution_count": 3,
   "id": "06121e6f",
   "metadata": {},
   "outputs": [
    {
     "name": "stdout",
     "output_type": "stream",
     "text": [
      "ref                                title                    size  lastUpdated          downloadCount  voteCount  usabilityRating  \r\n",
      "---------------------------------  ----------------------  -----  -------------------  -------------  ---------  ---------------  \r\n",
      "catherinehorng/dogbreedidfromcomp  dog-breed-id-from-comp  691MB  2020-06-26 03:09:05            266          2  0.1764706        \r\n"
     ]
    }
   ],
   "source": [
    "!kaggle datasets list -s dogbreedidfromcomp"
   ]
  },
  {
   "cell_type": "code",
   "execution_count": 5,
   "id": "4a862192",
   "metadata": {},
   "outputs": [
    {
     "name": "stdout",
     "output_type": "stream",
     "text": [
      "Downloading dogbreedidfromcomp.zip to /Users/subhasish/Documents/APPLE/SUBHASISH/Development/GIT/Interstellar/SB-AI-DEV/ML/SB/Projects/Pianalytix\n",
      "100%|███████████████████████████████████████▉| 689M/691M [01:50<00:00, 6.00MB/s]\n",
      "100%|████████████████████████████████████████| 691M/691M [01:50<00:00, 6.58MB/s]\n",
      "/Users/subhasish/Documents/APPLE/SUBHASISH/Development/GIT/Interstellar/SB-AI-DEV/ML/SB/Projects\n"
     ]
    }
   ],
   "source": [
    "!kaggle datasets download catherinehorng/dogbreedidfromcomp\n",
    "%cd .."
   ]
  },
  {
   "cell_type": "code",
   "execution_count": 6,
   "id": "49464791",
   "metadata": {},
   "outputs": [
    {
     "name": "stdout",
     "output_type": "stream",
     "text": [
      "unzip:  cannot find or open dogbreedidfromcomp.zip, dogbreedidfromcomp.zip.zip or dogbreedidfromcomp.zip.ZIP.\r\n"
     ]
    }
   ],
   "source": [
    "!unzip dogbreedidfromcomp.zip"
   ]
  }
 ],
 "metadata": {
  "kernelspec": {
   "display_name": "Python 3",
   "language": "python",
   "name": "python3"
  },
  "language_info": {
   "codemirror_mode": {
    "name": "ipython",
    "version": 3
   },
   "file_extension": ".py",
   "mimetype": "text/x-python",
   "name": "python",
   "nbconvert_exporter": "python",
   "pygments_lexer": "ipython3",
   "version": "3.8.8"
  }
 },
 "nbformat": 4,
 "nbformat_minor": 5
}
