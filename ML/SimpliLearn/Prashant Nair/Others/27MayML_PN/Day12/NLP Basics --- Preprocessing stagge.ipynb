{
 "cells": [
  {
   "cell_type": "code",
   "execution_count": 2,
   "metadata": {},
   "outputs": [],
   "source": [
    "sample = \"Wel,come,: to Simplilearn! Enjoy the Learning for Machine Learning!\""
   ]
  },
  {
   "cell_type": "code",
   "execution_count": 1,
   "metadata": {},
   "outputs": [],
   "source": [
    "# Create a code that can remove punctuations\n",
    "# This code must return sentence\n",
    "import string"
   ]
  },
  {
   "cell_type": "code",
   "execution_count": 6,
   "metadata": {},
   "outputs": [
    {
     "data": {
      "text/plain": [
       "'Welcome to Simplilearn Enjoy the Learning for Machine Learning'"
      ]
     },
     "execution_count": 6,
     "metadata": {},
     "output_type": "execute_result"
    }
   ],
   "source": [
    "# We will scan each character in the given sentence and if the character belongs to string.punctuation then remove it\n",
    "output1 = []\n",
    "for character in sample:\n",
    "    if character not in string.punctuation:\n",
    "        output1.append(character)\n",
    "#Convert it into a sentence\n",
    "output2 = ''.join(output1)\n",
    "output2"
   ]
  },
  {
   "cell_type": "code",
   "execution_count": 8,
   "metadata": {},
   "outputs": [],
   "source": [
    "removePunctuation = [character for character in sample if character not in string.punctuation]\n",
    "sentenceWithoutPunctuations = ''.join(removePunctuation)"
   ]
  },
  {
   "cell_type": "code",
   "execution_count": 11,
   "metadata": {},
   "outputs": [],
   "source": [
    "#Remove Stopwords\n",
    "#nltk package\n",
    "# pip install nltk\n",
    "# nltk.download() --- corpus"
   ]
  },
  {
   "cell_type": "code",
   "execution_count": 12,
   "metadata": {},
   "outputs": [],
   "source": [
    "import nltk"
   ]
  },
  {
   "cell_type": "code",
   "execution_count": 21,
   "metadata": {},
   "outputs": [],
   "source": [
    "from nltk.corpus import stopwords\n",
    "words = sentenceWithoutPunctuations.split(\" \")\n"
   ]
  },
  {
   "cell_type": "code",
   "execution_count": 18,
   "metadata": {},
   "outputs": [
    {
     "name": "stdout",
     "output_type": "stream",
     "text": [
      "Welcome\n",
      "Simplilearn\n",
      "Enjoy\n",
      "Learning\n",
      "Machine\n",
      "Learning\n"
     ]
    }
   ],
   "source": [
    "for word in words:\n",
    "    if word.lower() not in stopwords.words('english'):\n",
    "        print(word)"
   ]
  },
  {
   "cell_type": "code",
   "execution_count": 22,
   "metadata": {},
   "outputs": [
    {
     "data": {
      "text/plain": [
       "['Welcome', 'Simplilearn', 'Enjoy', 'Learning', 'Machine', 'Learning']"
      ]
     },
     "execution_count": 22,
     "metadata": {},
     "output_type": "execute_result"
    }
   ],
   "source": [
    "removeStopwords = [word for word in words if word.lower() not in stopwords.words('english')]\n",
    "removeStopwords"
   ]
  },
  {
   "cell_type": "code",
   "execution_count": 27,
   "metadata": {},
   "outputs": [],
   "source": [
    "import string\n",
    "from nltk.corpus import stopwords\n",
    "def textProcessing(data):\n",
    "    #Remove Punctuations\n",
    "    removePunctuation = [character for character in data if character not in string.punctuation]\n",
    "    #Convert Chars to Sentence\n",
    "    sentenceWithoutPunctuations = ''.join(removePunctuation)\n",
    "    words = sentenceWithoutPunctuations.split()\n",
    "    #Remove Stopwords\n",
    "    removeStopwords = [word for word in words if word.lower() not in stopwords.words('english')]\n",
    "    #Return final list of words\n",
    "    return removeStopwords"
   ]
  },
  {
   "cell_type": "code",
   "execution_count": 28,
   "metadata": {},
   "outputs": [
    {
     "data": {
      "text/plain": [
       "['Hello', 'Welcome', 'World', 'ML', 'AI']"
      ]
     },
     "execution_count": 28,
     "metadata": {},
     "output_type": "execute_result"
    }
   ],
   "source": [
    "textProcessing(\"Hello! Welcome, to my World! of ML! and AI!%\")"
   ]
  },
  {
   "cell_type": "code",
   "execution_count": null,
   "metadata": {},
   "outputs": [],
   "source": []
  }
 ],
 "metadata": {
  "kernelspec": {
   "display_name": "Python 3",
   "language": "python",
   "name": "python3"
  },
  "language_info": {
   "codemirror_mode": {
    "name": "ipython",
    "version": 3
   },
   "file_extension": ".py",
   "mimetype": "text/x-python",
   "name": "python",
   "nbconvert_exporter": "python",
   "pygments_lexer": "ipython3",
   "version": "3.6.4"
  }
 },
 "nbformat": 4,
 "nbformat_minor": 2
}
