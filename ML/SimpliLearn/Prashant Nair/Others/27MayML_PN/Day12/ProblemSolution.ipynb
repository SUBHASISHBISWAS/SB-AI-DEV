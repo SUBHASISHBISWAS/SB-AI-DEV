{
 "cells": [
  {
   "cell_type": "code",
   "execution_count": 0,
   "metadata": {
    "colab": {},
    "colab_type": "code",
    "id": "fml7ilgjviYi"
   },
   "outputs": [],
   "source": [
    "import pandas as pd\n",
    "import numpy as np\n",
    "import matplotlib.pyplot as plt\n",
    "%matplotlib inline"
   ]
  },
  {
   "cell_type": "code",
   "execution_count": 0,
   "metadata": {
    "colab": {},
    "colab_type": "code",
    "id": "rgDPrRUrv3vf"
   },
   "outputs": [],
   "source": [
    "data = pd.read_csv('50_Startups.csv')"
   ]
  },
  {
   "cell_type": "code",
   "execution_count": 3,
   "metadata": {
    "colab": {
     "base_uri": "https://localhost:8080/",
     "height": 187
    },
    "colab_type": "code",
    "executionInfo": {
     "elapsed": 3253,
     "status": "ok",
     "timestamp": 1560243382549,
     "user": {
      "displayName": "Prashant Nair",
      "photoUrl": "",
      "userId": "01567311054365266478"
     },
     "user_tz": -330
    },
    "id": "kXv91CPnwIR1",
    "outputId": "dff0afb9-2d88-4027-9983-216decc3f473"
   },
   "outputs": [
    {
     "name": "stdout",
     "output_type": "stream",
     "text": [
      "<class 'pandas.core.frame.DataFrame'>\n",
      "RangeIndex: 50 entries, 0 to 49\n",
      "Data columns (total 5 columns):\n",
      "R&D Spend          50 non-null float64\n",
      "Administration     50 non-null float64\n",
      "Marketing Spend    50 non-null float64\n",
      "State              50 non-null object\n",
      "Profit             50 non-null float64\n",
      "dtypes: float64(4), object(1)\n",
      "memory usage: 2.0+ KB\n"
     ]
    }
   ],
   "source": [
    "data.info()"
   ]
  },
  {
   "cell_type": "code",
   "execution_count": 0,
   "metadata": {
    "colab": {},
    "colab_type": "code",
    "id": "-qB1zVTXwJwm"
   },
   "outputs": [],
   "source": [
    "dummyvariables = pd.get_dummies(data.State)\n",
    "finalData = pd.concat([ dummyvariables , data.iloc[:,[0,1,2,4]] ] , axis=1)\n",
    "#type(dummyvariables)"
   ]
  },
  {
   "cell_type": "code",
   "execution_count": 12,
   "metadata": {
    "colab": {
     "base_uri": "https://localhost:8080/",
     "height": 204
    },
    "colab_type": "code",
    "executionInfo": {
     "elapsed": 1917,
     "status": "ok",
     "timestamp": 1560243683213,
     "user": {
      "displayName": "Prashant Nair",
      "photoUrl": "",
      "userId": "01567311054365266478"
     },
     "user_tz": -330
    },
    "id": "lUnfUyREwPMI",
    "outputId": "5711af8d-bd9f-43f1-cc68-068282bde9ae"
   },
   "outputs": [
    {
     "data": {
      "text/html": [
       "<div>\n",
       "<style scoped>\n",
       "    .dataframe tbody tr th:only-of-type {\n",
       "        vertical-align: middle;\n",
       "    }\n",
       "\n",
       "    .dataframe tbody tr th {\n",
       "        vertical-align: top;\n",
       "    }\n",
       "\n",
       "    .dataframe thead th {\n",
       "        text-align: right;\n",
       "    }\n",
       "</style>\n",
       "<table border=\"1\" class=\"dataframe\">\n",
       "  <thead>\n",
       "    <tr style=\"text-align: right;\">\n",
       "      <th></th>\n",
       "      <th>California</th>\n",
       "      <th>Florida</th>\n",
       "      <th>New York</th>\n",
       "      <th>R&amp;D Spend</th>\n",
       "      <th>Administration</th>\n",
       "      <th>Marketing Spend</th>\n",
       "      <th>Profit</th>\n",
       "    </tr>\n",
       "  </thead>\n",
       "  <tbody>\n",
       "    <tr>\n",
       "      <th>0</th>\n",
       "      <td>0</td>\n",
       "      <td>0</td>\n",
       "      <td>1</td>\n",
       "      <td>165349.20</td>\n",
       "      <td>136897.80</td>\n",
       "      <td>471784.10</td>\n",
       "      <td>192261.83</td>\n",
       "    </tr>\n",
       "    <tr>\n",
       "      <th>1</th>\n",
       "      <td>1</td>\n",
       "      <td>0</td>\n",
       "      <td>0</td>\n",
       "      <td>162597.70</td>\n",
       "      <td>151377.59</td>\n",
       "      <td>443898.53</td>\n",
       "      <td>191792.06</td>\n",
       "    </tr>\n",
       "    <tr>\n",
       "      <th>2</th>\n",
       "      <td>0</td>\n",
       "      <td>1</td>\n",
       "      <td>0</td>\n",
       "      <td>153441.51</td>\n",
       "      <td>101145.55</td>\n",
       "      <td>407934.54</td>\n",
       "      <td>191050.39</td>\n",
       "    </tr>\n",
       "    <tr>\n",
       "      <th>3</th>\n",
       "      <td>0</td>\n",
       "      <td>0</td>\n",
       "      <td>1</td>\n",
       "      <td>144372.41</td>\n",
       "      <td>118671.85</td>\n",
       "      <td>383199.62</td>\n",
       "      <td>182901.99</td>\n",
       "    </tr>\n",
       "    <tr>\n",
       "      <th>4</th>\n",
       "      <td>0</td>\n",
       "      <td>1</td>\n",
       "      <td>0</td>\n",
       "      <td>142107.34</td>\n",
       "      <td>91391.77</td>\n",
       "      <td>366168.42</td>\n",
       "      <td>166187.94</td>\n",
       "    </tr>\n",
       "  </tbody>\n",
       "</table>\n",
       "</div>"
      ],
      "text/plain": [
       "   California  Florida  New York  ...  Administration  Marketing Spend     Profit\n",
       "0           0        0         1  ...       136897.80        471784.10  192261.83\n",
       "1           1        0         0  ...       151377.59        443898.53  191792.06\n",
       "2           0        1         0  ...       101145.55        407934.54  191050.39\n",
       "3           0        0         1  ...       118671.85        383199.62  182901.99\n",
       "4           0        1         0  ...        91391.77        366168.42  166187.94\n",
       "\n",
       "[5 rows x 7 columns]"
      ]
     },
     "execution_count": 12,
     "metadata": {
      "tags": []
     },
     "output_type": "execute_result"
    }
   ],
   "source": [
    "finalData.head()"
   ]
  },
  {
   "cell_type": "code",
   "execution_count": 0,
   "metadata": {
    "colab": {},
    "colab_type": "code",
    "id": "9qgWnPZaw3jI"
   },
   "outputs": [],
   "source": [
    "features = finalData.iloc[:,:-1].values\n",
    "label = finalData.iloc[:,-1].values"
   ]
  },
  {
   "cell_type": "code",
   "execution_count": 0,
   "metadata": {
    "colab": {},
    "colab_type": "code",
    "id": "RZjPRCcLxeq8"
   },
   "outputs": [],
   "source": [
    "from sklearn.model_selection import train_test_split\n",
    "X_train,X_test,y_train,y_test = train_test_split(features,\n",
    "                                                label,\n",
    "                                                test_size=0.2,\n",
    "                                                random_state=10)"
   ]
  },
  {
   "cell_type": "code",
   "execution_count": 15,
   "metadata": {
    "colab": {
     "base_uri": "https://localhost:8080/",
     "height": 34
    },
    "colab_type": "code",
    "executionInfo": {
     "elapsed": 2422,
     "status": "ok",
     "timestamp": 1560243832785,
     "user": {
      "displayName": "Prashant Nair",
      "photoUrl": "",
      "userId": "01567311054365266478"
     },
     "user_tz": -330
    },
    "id": "0gyxnGEjxtfH",
    "outputId": "a39f93e6-ab5e-4206-f580-534fb9b01afa"
   },
   "outputs": [
    {
     "data": {
      "text/plain": [
       "LinearRegression(copy_X=True, fit_intercept=True, n_jobs=None, normalize=False)"
      ]
     },
     "execution_count": 15,
     "metadata": {
      "tags": []
     },
     "output_type": "execute_result"
    }
   ],
   "source": [
    "from sklearn.linear_model import LinearRegression\n",
    "model = LinearRegression()\n",
    "model.fit(X_train,y_train)"
   ]
  },
  {
   "cell_type": "code",
   "execution_count": 16,
   "metadata": {
    "colab": {
     "base_uri": "https://localhost:8080/",
     "height": 34
    },
    "colab_type": "code",
    "executionInfo": {
     "elapsed": 1976,
     "status": "ok",
     "timestamp": 1560243847755,
     "user": {
      "displayName": "Prashant Nair",
      "photoUrl": "",
      "userId": "01567311054365266478"
     },
     "user_tz": -330
    },
    "id": "KPl5mgH0x34k",
    "outputId": "34ed1fe3-16eb-4c73-93ba-97abe56ac902"
   },
   "outputs": [
    {
     "data": {
      "text/plain": [
       "0.9385918220043519"
      ]
     },
     "execution_count": 16,
     "metadata": {
      "tags": []
     },
     "output_type": "execute_result"
    }
   ],
   "source": [
    "model.score(X_train,y_train)"
   ]
  },
  {
   "cell_type": "code",
   "execution_count": 17,
   "metadata": {
    "colab": {
     "base_uri": "https://localhost:8080/",
     "height": 34
    },
    "colab_type": "code",
    "executionInfo": {
     "elapsed": 2075,
     "status": "ok",
     "timestamp": 1560243856236,
     "user": {
      "displayName": "Prashant Nair",
      "photoUrl": "",
      "userId": "01567311054365266478"
     },
     "user_tz": -330
    },
    "id": "raAwOkdEx7pY",
    "outputId": "556169cf-c951-4ad6-81c7-742cb44e7f8d"
   },
   "outputs": [
    {
     "data": {
      "text/plain": [
       "0.9901105113397692"
      ]
     },
     "execution_count": 17,
     "metadata": {
      "tags": []
     },
     "output_type": "execute_result"
    }
   ],
   "source": [
    "model.score(X_test,y_test)"
   ]
  },
  {
   "cell_type": "code",
   "execution_count": 19,
   "metadata": {
    "colab": {
     "base_uri": "https://localhost:8080/",
     "height": 34
    },
    "colab_type": "code",
    "executionInfo": {
     "elapsed": 1873,
     "status": "ok",
     "timestamp": 1560244168992,
     "user": {
      "displayName": "Prashant Nair",
      "photoUrl": "",
      "userId": "01567311054365266478"
     },
     "user_tz": -330
    },
    "id": "fML80sCWzFnS",
    "outputId": "b4aa5ca7-591c-409f-b607-c88b8b06432e"
   },
   "outputs": [
    {
     "data": {
      "text/plain": [
       "'prashant'"
      ]
     },
     "execution_count": 19,
     "metadata": {
      "tags": []
     },
     "output_type": "execute_result"
    }
   ],
   "source": [
    "'Prashant'.lower()"
   ]
  },
  {
   "cell_type": "code",
   "execution_count": 22,
   "metadata": {
    "colab": {
     "base_uri": "https://localhost:8080/",
     "height": 102
    },
    "colab_type": "code",
    "executionInfo": {
     "elapsed": 11651,
     "status": "ok",
     "timestamp": 1560244414181,
     "user": {
      "displayName": "Prashant Nair",
      "photoUrl": "",
      "userId": "01567311054365266478"
     },
     "user_tz": -330
    },
    "id": "l4InoBsRx9rF",
    "outputId": "f59aacb2-6665-4ddf-d78a-5e3a25fa25dd"
   },
   "outputs": [
    {
     "name": "stdout",
     "output_type": "stream",
     "text": [
      "Enter State: mumbai\n",
      "Enter R&D spend: 12345\n",
      "Enter Admin spend: 12345\n",
      "Enter Marketing Spend: 123456\n",
      "Sorry! The model is not trained for mumbai state\n"
     ]
    }
   ],
   "source": [
    "#Using with user input\n",
    "#Specially for Aditya\n",
    "state=input('Enter State: ')\n",
    "rd=int(input('Enter R&D spend: '))\n",
    "admin=int(input('Enter Admin spend: '))\n",
    "marketing = int(input('Enter Marketing Spend: '))\n",
    "\n",
    "labelClasses = data.State.unique()\n",
    "\n",
    "if state in labelClasses:\n",
    "  if state.lower() == 'california':\n",
    "    feature = np.array([[1,0,0,rd,admin,marketing]])\n",
    "    profit = model.predict(feature)\n",
    "      \n",
    "  if state.lower() == 'florida':\n",
    "    feature = np.array([[0,1,0,rd,admin,marketing]])\n",
    "    profit = model.predict(feature)\n",
    "    \n",
    "  if state.lower() == 'new york':\n",
    "    feature = np.array([[0,0,1,rd,admin,marketing]])\n",
    "    profit = model.predict(feature)\n",
    "  print('Estimated Profit is {}'.format(profit))\n",
    "  \n",
    "else:\n",
    "  print('Sorry! The model is not trained for {} state'.format(state))\n",
    "  \n",
    "\n",
    "\n",
    "  "
   ]
  },
  {
   "cell_type": "code",
   "execution_count": 0,
   "metadata": {
    "colab": {},
    "colab_type": "code",
    "id": "hm1zT4I_ztXI"
   },
   "outputs": [],
   "source": []
  }
 ],
 "metadata": {
  "colab": {
   "collapsed_sections": [],
   "name": "ProblemSolution.ipynb",
   "provenance": [],
   "version": "0.3.2"
  },
  "kernelspec": {
   "display_name": "Python 3",
   "language": "python",
   "name": "python3"
  },
  "language_info": {
   "codemirror_mode": {
    "name": "ipython",
    "version": 3
   },
   "file_extension": ".py",
   "mimetype": "text/x-python",
   "name": "python",
   "nbconvert_exporter": "python",
   "pygments_lexer": "ipython3",
   "version": "3.6.4"
  }
 },
 "nbformat": 4,
 "nbformat_minor": 1
}
