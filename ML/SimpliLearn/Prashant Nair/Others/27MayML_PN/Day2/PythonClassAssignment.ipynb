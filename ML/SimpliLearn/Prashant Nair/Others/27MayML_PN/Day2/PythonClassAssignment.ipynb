{
 "cells": [
  {
   "cell_type": "code",
   "execution_count": 1,
   "metadata": {},
   "outputs": [],
   "source": [
    "#Write a program to accept input from user and identify whether the number is even or odd\n",
    "#Expected output:\n",
    "# Enter number: 3\n",
    "# Given number 3 is ODD"
   ]
  },
  {
   "cell_type": "code",
   "execution_count": 3,
   "metadata": {},
   "outputs": [],
   "source": [
    "#Write a program to accept salary from user\n",
    "#Use lambda function to increment the salary of the employee by 20%\n",
    "#Display the output as shown below:\n",
    "\n",
    "#Enter Employee name: Prashant\n",
    "#Enter Salary: 10000\n",
    "#The updated salary for Prashant is 12000\n"
   ]
  }
 ],
 "metadata": {
  "kernelspec": {
   "display_name": "Python 3",
   "language": "python",
   "name": "python3"
  },
  "language_info": {
   "codemirror_mode": {
    "name": "ipython",
    "version": 3
   },
   "file_extension": ".py",
   "mimetype": "text/x-python",
   "name": "python",
   "nbconvert_exporter": "python",
   "pygments_lexer": "ipython3",
   "version": "3.6.8"
  }
 },
 "nbformat": 4,
 "nbformat_minor": 2
}
