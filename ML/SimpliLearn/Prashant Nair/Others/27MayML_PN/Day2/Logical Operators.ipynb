{
 "cells": [
  {
   "cell_type": "code",
   "execution_count": 1,
   "metadata": {},
   "outputs": [],
   "source": [
    "#Logical Operators in Python\n",
    "# And\n",
    "# or\n",
    "# not"
   ]
  },
  {
   "cell_type": "code",
   "execution_count": 2,
   "metadata": {},
   "outputs": [
    {
     "name": "stdout",
     "output_type": "stream",
     "text": [
      "Not Eligible\n"
     ]
    }
   ],
   "source": [
    "# Loan Eligibility -- example of and operator\n",
    "income = 9000\n",
    "credit = 500\n",
    "\n",
    "if income > 8000 and credit > 700:\n",
    "    print('Eligible for Loan')\n",
    "else:\n",
    "    print('Not Eligible')"
   ]
  },
  {
   "cell_type": "code",
   "execution_count": 3,
   "metadata": {},
   "outputs": [
    {
     "name": "stdout",
     "output_type": "stream",
     "text": [
      "Eligible for Loan\n"
     ]
    }
   ],
   "source": [
    "# Loan Eligibility --- example of or operator\n",
    "income = 9000\n",
    "credit = 500\n",
    "\n",
    "if income > 8000 or credit > 700:\n",
    "    print('Eligible for Loan')\n",
    "else:\n",
    "    print('Not Eligible')"
   ]
  },
  {
   "cell_type": "code",
   "execution_count": 4,
   "metadata": {},
   "outputs": [
    {
     "name": "stdout",
     "output_type": "stream",
     "text": [
      "Students can't apply for loan\n"
     ]
    }
   ],
   "source": [
    "# Loan Eligibility -- Example of Not operator\n",
    "income = 9000\n",
    "credit = 500\n",
    "student = True\n",
    "\n",
    "if not student:\n",
    "    if income > 8000 and credit > 700:\n",
    "        print('Eligible for Loan')\n",
    "    else:\n",
    "        print('Not Eligible')\n",
    "else:\n",
    "    print(\"Students can't apply for loan\")"
   ]
  },
  {
   "cell_type": "code",
   "execution_count": 5,
   "metadata": {},
   "outputs": [
    {
     "name": "stdout",
     "output_type": "stream",
     "text": [
      "Not Eligible\n"
     ]
    }
   ],
   "source": [
    "# Loan Eligibility -- Example of Not operator\n",
    "income = 9000\n",
    "credit = 500\n",
    "student = True\n",
    "\n",
    "if income > 8000 and credit > 700 and not student:\n",
    "    print('Eligible')\n",
    "else:\n",
    "    print('Not Eligible')"
   ]
  },
  {
   "cell_type": "code",
   "execution_count": 6,
   "metadata": {},
   "outputs": [
    {
     "name": "stdout",
     "output_type": "stream",
     "text": [
      "Not Eligible for Exam\n"
     ]
    }
   ],
   "source": [
    "#Chaining comparison operators\n",
    "# IAS exam critera check\n",
    "\n",
    "age = 45\n",
    "if age >= 18 and age <= 32:\n",
    "    print('Eligible for Exam')\n",
    "else:\n",
    "    print('Not Eligible for Exam')"
   ]
  },
  {
   "cell_type": "code",
   "execution_count": 7,
   "metadata": {},
   "outputs": [
    {
     "name": "stdout",
     "output_type": "stream",
     "text": [
      "Not Eligible for Exam\n"
     ]
    }
   ],
   "source": [
    "#Rewrite code as per chaining\n",
    "age = 45\n",
    "\n",
    "if 18 <= age <= 32:\n",
    "    print('Eligible for Exam')\n",
    "else:\n",
    "    print('Not Eligible for Exam')"
   ]
  },
  {
   "cell_type": "code",
   "execution_count": null,
   "metadata": {},
   "outputs": [],
   "source": []
  }
 ],
 "metadata": {
  "kernelspec": {
   "display_name": "Python 3",
   "language": "python",
   "name": "python3"
  },
  "language_info": {
   "codemirror_mode": {
    "name": "ipython",
    "version": 3
   },
   "file_extension": ".py",
   "mimetype": "text/x-python",
   "name": "python",
   "nbconvert_exporter": "python",
   "pygments_lexer": "ipython3",
   "version": "3.6.8"
  }
 },
 "nbformat": 4,
 "nbformat_minor": 2
}
