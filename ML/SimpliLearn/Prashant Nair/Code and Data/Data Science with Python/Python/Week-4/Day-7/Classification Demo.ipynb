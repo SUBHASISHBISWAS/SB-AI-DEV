{
 "cells": [
  {
   "cell_type": "markdown",
   "metadata": {},
   "source": [
    "### Use-case:  \n",
    "A shopping mall gaint has appointed you as a Data Scientist. Your role is to create & deploy a model that can help classify whether the customer will do a purchase in the store or not based on Customer's age and estimated salary."
   ]
  },
  {
   "cell_type": "code",
   "execution_count": 2,
   "metadata": {},
   "outputs": [],
   "source": [
    "import numpy as np\n",
    "import pandas as pd\n",
    "import matplotlib.pyplot as plt\n",
    "import seaborn as sns\n",
    "%matplotlib inline"
   ]
  },
  {
   "cell_type": "code",
   "execution_count": 3,
   "metadata": {},
   "outputs": [],
   "source": [
    "socialNetworkAdsData = pd.read_csv('Social_Network_Ads.csv')"
   ]
  },
  {
   "cell_type": "code",
   "execution_count": 4,
   "metadata": {},
   "outputs": [
    {
     "data": {
      "text/html": [
       "<div>\n",
       "<style scoped>\n",
       "    .dataframe tbody tr th:only-of-type {\n",
       "        vertical-align: middle;\n",
       "    }\n",
       "\n",
       "    .dataframe tbody tr th {\n",
       "        vertical-align: top;\n",
       "    }\n",
       "\n",
       "    .dataframe thead th {\n",
       "        text-align: right;\n",
       "    }\n",
       "</style>\n",
       "<table border=\"1\" class=\"dataframe\">\n",
       "  <thead>\n",
       "    <tr style=\"text-align: right;\">\n",
       "      <th></th>\n",
       "      <th>User ID</th>\n",
       "      <th>Gender</th>\n",
       "      <th>Age</th>\n",
       "      <th>EstimatedSalary</th>\n",
       "      <th>Purchased</th>\n",
       "    </tr>\n",
       "  </thead>\n",
       "  <tbody>\n",
       "    <tr>\n",
       "      <th>0</th>\n",
       "      <td>15624510</td>\n",
       "      <td>Male</td>\n",
       "      <td>19</td>\n",
       "      <td>19000</td>\n",
       "      <td>0</td>\n",
       "    </tr>\n",
       "    <tr>\n",
       "      <th>1</th>\n",
       "      <td>15810944</td>\n",
       "      <td>Male</td>\n",
       "      <td>35</td>\n",
       "      <td>20000</td>\n",
       "      <td>0</td>\n",
       "    </tr>\n",
       "    <tr>\n",
       "      <th>2</th>\n",
       "      <td>15668575</td>\n",
       "      <td>Female</td>\n",
       "      <td>26</td>\n",
       "      <td>43000</td>\n",
       "      <td>0</td>\n",
       "    </tr>\n",
       "    <tr>\n",
       "      <th>3</th>\n",
       "      <td>15603246</td>\n",
       "      <td>Female</td>\n",
       "      <td>27</td>\n",
       "      <td>57000</td>\n",
       "      <td>0</td>\n",
       "    </tr>\n",
       "    <tr>\n",
       "      <th>4</th>\n",
       "      <td>15804002</td>\n",
       "      <td>Male</td>\n",
       "      <td>19</td>\n",
       "      <td>76000</td>\n",
       "      <td>0</td>\n",
       "    </tr>\n",
       "  </tbody>\n",
       "</table>\n",
       "</div>"
      ],
      "text/plain": [
       "    User ID  Gender  Age  EstimatedSalary  Purchased\n",
       "0  15624510    Male   19            19000          0\n",
       "1  15810944    Male   35            20000          0\n",
       "2  15668575  Female   26            43000          0\n",
       "3  15603246  Female   27            57000          0\n",
       "4  15804002    Male   19            76000          0"
      ]
     },
     "execution_count": 4,
     "metadata": {},
     "output_type": "execute_result"
    }
   ],
   "source": [
    "socialNetworkAdsData.head()"
   ]
  },
  {
   "cell_type": "code",
   "execution_count": 5,
   "metadata": {},
   "outputs": [
    {
     "name": "stdout",
     "output_type": "stream",
     "text": [
      "<class 'pandas.core.frame.DataFrame'>\n",
      "RangeIndex: 400 entries, 0 to 399\n",
      "Data columns (total 5 columns):\n",
      "User ID            400 non-null int64\n",
      "Gender             400 non-null object\n",
      "Age                400 non-null int64\n",
      "EstimatedSalary    400 non-null int64\n",
      "Purchased          400 non-null int64\n",
      "dtypes: int64(4), object(1)\n",
      "memory usage: 15.7+ KB\n"
     ]
    }
   ],
   "source": [
    "socialNetworkAdsData.info()"
   ]
  },
  {
   "cell_type": "code",
   "execution_count": 20,
   "metadata": {},
   "outputs": [
    {
     "data": {
      "text/plain": [
       "array([0, 1], dtype=int64)"
      ]
     },
     "execution_count": 20,
     "metadata": {},
     "output_type": "execute_result"
    }
   ],
   "source": [
    "socialNetworkAdsData.Purchased.unique()"
   ]
  },
  {
   "cell_type": "code",
   "execution_count": 10,
   "metadata": {},
   "outputs": [
    {
     "data": {
      "text/html": [
       "<div>\n",
       "<style scoped>\n",
       "    .dataframe tbody tr th:only-of-type {\n",
       "        vertical-align: middle;\n",
       "    }\n",
       "\n",
       "    .dataframe tbody tr th {\n",
       "        vertical-align: top;\n",
       "    }\n",
       "\n",
       "    .dataframe thead th {\n",
       "        text-align: right;\n",
       "    }\n",
       "</style>\n",
       "<table border=\"1\" class=\"dataframe\">\n",
       "  <thead>\n",
       "    <tr style=\"text-align: right;\">\n",
       "      <th></th>\n",
       "      <th>User ID</th>\n",
       "      <th>Age</th>\n",
       "      <th>EstimatedSalary</th>\n",
       "      <th>Purchased</th>\n",
       "    </tr>\n",
       "  </thead>\n",
       "  <tbody>\n",
       "    <tr>\n",
       "      <th>User ID</th>\n",
       "      <td>1.000000</td>\n",
       "      <td>-0.000721</td>\n",
       "      <td>0.071097</td>\n",
       "      <td>0.007120</td>\n",
       "    </tr>\n",
       "    <tr>\n",
       "      <th>Age</th>\n",
       "      <td>-0.000721</td>\n",
       "      <td>1.000000</td>\n",
       "      <td>0.155238</td>\n",
       "      <td>0.622454</td>\n",
       "    </tr>\n",
       "    <tr>\n",
       "      <th>EstimatedSalary</th>\n",
       "      <td>0.071097</td>\n",
       "      <td>0.155238</td>\n",
       "      <td>1.000000</td>\n",
       "      <td>0.362083</td>\n",
       "    </tr>\n",
       "    <tr>\n",
       "      <th>Purchased</th>\n",
       "      <td>0.007120</td>\n",
       "      <td>0.622454</td>\n",
       "      <td>0.362083</td>\n",
       "      <td>1.000000</td>\n",
       "    </tr>\n",
       "  </tbody>\n",
       "</table>\n",
       "</div>"
      ],
      "text/plain": [
       "                  User ID       Age  EstimatedSalary  Purchased\n",
       "User ID          1.000000 -0.000721         0.071097   0.007120\n",
       "Age             -0.000721  1.000000         0.155238   0.622454\n",
       "EstimatedSalary  0.071097  0.155238         1.000000   0.362083\n",
       "Purchased        0.007120  0.622454         0.362083   1.000000"
      ]
     },
     "execution_count": 10,
     "metadata": {},
     "output_type": "execute_result"
    }
   ],
   "source": [
    "socialNetworkAdsData.corr()"
   ]
  },
  {
   "cell_type": "code",
   "execution_count": 6,
   "metadata": {},
   "outputs": [],
   "source": [
    "#For classification use-case your label must be a 1-D array\n",
    "features = socialNetworkAdsData.iloc[:,[2,3]].values\n",
    "label = socialNetworkAdsData.iloc[:,4].values"
   ]
  },
  {
   "cell_type": "code",
   "execution_count": 9,
   "metadata": {},
   "outputs": [
    {
     "name": "stdout",
     "output_type": "stream",
     "text": [
      "Training Score 0.63125 Testing Score 0.6875 for Random State 3\n",
      "Training Score 0.834375 Testing Score 0.8875 for Random State 4\n",
      "Training Score 0.6375 Testing Score 0.6625 for Random State 5\n",
      "Training Score 0.634375 Testing Score 0.675 for Random State 7\n",
      "Training Score 0.634375 Testing Score 0.675 for Random State 8\n",
      "Training Score 0.640625 Testing Score 0.65 for Random State 10\n",
      "Training Score 0.6375 Testing Score 0.6625 for Random State 11\n",
      "Training Score 0.634375 Testing Score 0.675 for Random State 16\n",
      "Training Score 0.628125 Testing Score 0.7 for Random State 17\n",
      "Training Score 0.628125 Testing Score 0.7 for Random State 21\n",
      "Training Score 0.640625 Testing Score 0.65 for Random State 24\n",
      "Training Score 0.6375 Testing Score 0.6625 for Random State 25\n",
      "Training Score 0.834375 Testing Score 0.875 for Random State 26\n",
      "Training Score 0.634375 Testing Score 0.675 for Random State 27\n",
      "Training Score 0.628125 Testing Score 0.7 for Random State 28\n",
      "Training Score 0.63125 Testing Score 0.6875 for Random State 29\n",
      "Training Score 0.63125 Testing Score 0.6875 for Random State 31\n",
      "Training Score 0.6375 Testing Score 0.6625 for Random State 37\n",
      "Training Score 0.640625 Testing Score 0.675 for Random State 39\n",
      "Training Score 0.628125 Testing Score 0.7 for Random State 40\n",
      "Training Score 0.64375 Testing Score 0.6625 for Random State 42\n",
      "Training Score 0.790625 Testing Score 0.85 for Random State 46\n",
      "Training Score 0.640625 Testing Score 0.65 for Random State 48\n",
      "Training Score 0.634375 Testing Score 0.675 for Random State 50\n",
      "Training Score 0.640625 Testing Score 0.65 for Random State 51\n",
      "Training Score 0.640625 Testing Score 0.65 for Random State 54\n",
      "Training Score 0.64375 Testing Score 0.65 for Random State 56\n",
      "Training Score 0.6375 Testing Score 0.6625 for Random State 58\n",
      "Training Score 0.6375 Testing Score 0.6875 for Random State 59\n",
      "Training Score 0.628125 Testing Score 0.7 for Random State 60\n",
      "Training Score 0.6375 Testing Score 0.6625 for Random State 62\n",
      "Training Score 0.63125 Testing Score 0.6875 for Random State 63\n",
      "Training Score 0.640625 Testing Score 0.65 for Random State 66\n",
      "Training Score 0.640625 Testing Score 0.65 for Random State 74\n",
      "Training Score 0.640625 Testing Score 0.65 for Random State 75\n",
      "Training Score 0.63125 Testing Score 0.6875 for Random State 76\n",
      "Training Score 0.63125 Testing Score 0.6875 for Random State 80\n",
      "Training Score 0.634375 Testing Score 0.675 for Random State 81\n",
      "Training Score 0.628125 Testing Score 0.7 for Random State 83\n",
      "Training Score 0.634375 Testing Score 0.675 for Random State 84\n",
      "Training Score 0.634375 Testing Score 0.675 for Random State 86\n",
      "Training Score 0.640625 Testing Score 0.65 for Random State 87\n",
      "Training Score 0.634375 Testing Score 0.675 for Random State 90\n",
      "Training Score 0.640625 Testing Score 0.675 for Random State 91\n",
      "Training Score 0.628125 Testing Score 0.7 for Random State 93\n",
      "Training Score 0.834375 Testing Score 0.85 for Random State 94\n",
      "Training Score 0.640625 Testing Score 0.65 for Random State 97\n",
      "Training Score 0.784375 Testing Score 0.7875 for Random State 99\n",
      "Training Score 0.634375 Testing Score 0.675 for Random State 101\n",
      "Training Score 0.6375 Testing Score 0.6625 for Random State 102\n",
      "Training Score 0.621875 Testing Score 0.725 for Random State 103\n",
      "Training Score 0.640625 Testing Score 0.65 for Random State 106\n",
      "Training Score 0.640625 Testing Score 0.65 for Random State 109\n",
      "Training Score 0.634375 Testing Score 0.675 for Random State 116\n",
      "Training Score 0.640625 Testing Score 0.65 for Random State 117\n",
      "Training Score 0.634375 Testing Score 0.675 for Random State 119\n",
      "Training Score 0.640625 Testing Score 0.65 for Random State 120\n",
      "Training Score 0.6375 Testing Score 0.6625 for Random State 121\n",
      "Training Score 0.653125 Testing Score 0.725 for Random State 125\n",
      "Training Score 0.640625 Testing Score 0.65 for Random State 127\n",
      "Training Score 0.640625 Testing Score 0.65 for Random State 128\n",
      "Training Score 0.63125 Testing Score 0.6875 for Random State 129\n",
      "Training Score 0.63125 Testing Score 0.6875 for Random State 130\n",
      "Training Score 0.6375 Testing Score 0.6625 for Random State 132\n",
      "Training Score 0.63125 Testing Score 0.6875 for Random State 133\n",
      "Training Score 0.634375 Testing Score 0.675 for Random State 134\n",
      "Training Score 0.640625 Testing Score 0.675 for Random State 138\n",
      "Training Score 0.628125 Testing Score 0.7 for Random State 139\n",
      "Training Score 0.80625 Testing Score 0.8375 for Random State 141\n",
      "Training Score 0.621875 Testing Score 0.725 for Random State 142\n",
      "Training Score 0.6375 Testing Score 0.6625 for Random State 143\n",
      "Training Score 0.6375 Testing Score 0.6625 for Random State 145\n",
      "Training Score 0.8125 Testing Score 0.875 for Random State 150\n",
      "Training Score 0.640625 Testing Score 0.65 for Random State 152\n",
      "Training Score 0.6375 Testing Score 0.6625 for Random State 154\n",
      "Training Score 0.634375 Testing Score 0.675 for Random State 155\n",
      "Training Score 0.6375 Testing Score 0.6625 for Random State 159\n",
      "Training Score 0.625 Testing Score 0.7125 for Random State 161\n",
      "Training Score 0.634375 Testing Score 0.675 for Random State 162\n",
      "Training Score 0.6375 Testing Score 0.6625 for Random State 163\n",
      "Training Score 0.640625 Testing Score 0.65 for Random State 165\n",
      "Training Score 0.6375 Testing Score 0.6625 for Random State 169\n",
      "Training Score 0.634375 Testing Score 0.675 for Random State 170\n",
      "Training Score 0.625 Testing Score 0.7125 for Random State 173\n",
      "Training Score 0.640625 Testing Score 0.65 for Random State 176\n",
      "Training Score 0.6375 Testing Score 0.6625 for Random State 178\n",
      "Training Score 0.6375 Testing Score 0.6625 for Random State 179\n",
      "Training Score 0.6375 Testing Score 0.6625 for Random State 180\n",
      "Training Score 0.6375 Testing Score 0.6625 for Random State 181\n",
      "Training Score 0.640625 Testing Score 0.65 for Random State 184\n",
      "Training Score 0.6375 Testing Score 0.6625 for Random State 185\n",
      "Training Score 0.634375 Testing Score 0.675 for Random State 188\n",
      "Training Score 0.61875 Testing Score 0.7375 for Random State 189\n",
      "Training Score 0.628125 Testing Score 0.7 for Random State 192\n",
      "Training Score 0.640625 Testing Score 0.65 for Random State 193\n",
      "Training Score 0.63125 Testing Score 0.6875 for Random State 194\n",
      "Training Score 0.640625 Testing Score 0.65 for Random State 195\n",
      "Training Score 0.6375 Testing Score 0.6625 for Random State 196\n",
      "Training Score 0.634375 Testing Score 0.675 for Random State 198\n",
      "Training Score 0.734375 Testing Score 0.7625 for Random State 204\n",
      "Training Score 0.6375 Testing Score 0.6625 for Random State 209\n",
      "Training Score 0.628125 Testing Score 0.7 for Random State 211\n",
      "Training Score 0.640625 Testing Score 0.65 for Random State 212\n",
      "Training Score 0.6375 Testing Score 0.6625 for Random State 215\n",
      "Training Score 0.6375 Testing Score 0.6625 for Random State 217\n",
      "Training Score 0.63125 Testing Score 0.6875 for Random State 220\n",
      "Training Score 0.6375 Testing Score 0.6625 for Random State 223\n",
      "Training Score 0.6375 Testing Score 0.6625 for Random State 225\n",
      "Training Score 0.6375 Testing Score 0.6625 for Random State 226\n",
      "Training Score 0.63125 Testing Score 0.6875 for Random State 229\n",
      "Training Score 0.640625 Testing Score 0.65 for Random State 232\n",
      "Training Score 0.625 Testing Score 0.7125 for Random State 233\n",
      "Training Score 0.6375 Testing Score 0.6625 for Random State 234\n",
      "Training Score 0.6375 Testing Score 0.6625 for Random State 235\n",
      "Training Score 0.63125 Testing Score 0.6875 for Random State 238\n",
      "Training Score 0.640625 Testing Score 0.65 for Random State 241\n",
      "Training Score 0.621875 Testing Score 0.725 for Random State 242\n",
      "Training Score 0.6375 Testing Score 0.6625 for Random State 244\n",
      "Training Score 0.634375 Testing Score 0.675 for Random State 245\n",
      "Training Score 0.63125 Testing Score 0.6875 for Random State 246\n",
      "Training Score 0.628125 Testing Score 0.7 for Random State 247\n",
      "Training Score 0.63125 Testing Score 0.6875 for Random State 248\n",
      "Training Score 0.640625 Testing Score 0.65 for Random State 251\n",
      "Training Score 0.628125 Testing Score 0.7 for Random State 252\n",
      "Training Score 0.640625 Testing Score 0.65 for Random State 253\n",
      "Training Score 0.640625 Testing Score 0.675 for Random State 255\n",
      "Training Score 0.615625 Testing Score 0.75 for Random State 257\n",
      "Training Score 0.628125 Testing Score 0.7 for Random State 260\n",
      "Training Score 0.640625 Testing Score 0.65 for Random State 263\n",
      "Training Score 0.6375 Testing Score 0.6625 for Random State 265\n",
      "Training Score 0.63125 Testing Score 0.6875 for Random State 269\n",
      "Training Score 0.6375 Testing Score 0.6625 for Random State 275\n",
      "Training Score 0.628125 Testing Score 0.7 for Random State 276\n",
      "Training Score 0.6375 Testing Score 0.6625 for Random State 277\n",
      "Training Score 0.628125 Testing Score 0.7 for Random State 278\n",
      "Training Score 0.625 Testing Score 0.7125 for Random State 279\n",
      "Training Score 0.63125 Testing Score 0.6875 for Random State 282\n",
      "Training Score 0.63125 Testing Score 0.6875 for Random State 283\n",
      "Training Score 0.846875 Testing Score 0.85 for Random State 287\n",
      "Training Score 0.6375 Testing Score 0.6625 for Random State 292\n",
      "Training Score 0.640625 Testing Score 0.65 for Random State 293\n",
      "Training Score 0.6375 Testing Score 0.6625 for Random State 294\n",
      "Training Score 0.634375 Testing Score 0.675 for Random State 296\n",
      "Training Score 0.634375 Testing Score 0.675 for Random State 300\n",
      "Training Score 0.634375 Testing Score 0.675 for Random State 302\n",
      "Training Score 0.6375 Testing Score 0.6625 for Random State 303\n",
      "Training Score 0.628125 Testing Score 0.725 for Random State 305\n",
      "Training Score 0.63125 Testing Score 0.6875 for Random State 306\n",
      "Training Score 0.634375 Testing Score 0.7 for Random State 310\n",
      "Training Score 0.625 Testing Score 0.7125 for Random State 311\n",
      "Training Score 0.734375 Testing Score 0.75 for Random State 313\n",
      "Training Score 0.628125 Testing Score 0.7 for Random State 315\n",
      "Training Score 0.6375 Testing Score 0.6625 for Random State 317\n",
      "Training Score 0.6375 Testing Score 0.6625 for Random State 319\n",
      "Training Score 0.640625 Testing Score 0.65 for Random State 321\n",
      "Training Score 0.625 Testing Score 0.7125 for Random State 322\n",
      "Training Score 0.634375 Testing Score 0.675 for Random State 323\n",
      "Training Score 0.6375 Testing Score 0.6625 for Random State 325\n",
      "Training Score 0.625 Testing Score 0.7125 for Random State 327\n",
      "Training Score 0.6375 Testing Score 0.6625 for Random State 328\n",
      "Training Score 0.628125 Testing Score 0.7 for Random State 329\n",
      "Training Score 0.640625 Testing Score 0.65 for Random State 330\n",
      "Training Score 0.640625 Testing Score 0.65 for Random State 332\n",
      "Training Score 0.646875 Testing Score 0.65 for Random State 335\n",
      "Training Score 0.634375 Testing Score 0.675 for Random State 336\n",
      "Training Score 0.634375 Testing Score 0.7 for Random State 340\n",
      "Training Score 0.640625 Testing Score 0.65 for Random State 344\n",
      "Training Score 0.6375 Testing Score 0.6625 for Random State 345\n",
      "Training Score 0.628125 Testing Score 0.7 for Random State 346\n",
      "Training Score 0.640625 Testing Score 0.65 for Random State 348\n",
      "Training Score 0.828125 Testing Score 0.8375 for Random State 349\n",
      "Training Score 0.63125 Testing Score 0.6875 for Random State 350\n",
      "Training Score 0.634375 Testing Score 0.675 for Random State 352\n",
      "Training Score 0.634375 Testing Score 0.675 for Random State 354\n",
      "Training Score 0.63125 Testing Score 0.6875 for Random State 355\n",
      "Training Score 0.6375 Testing Score 0.6625 for Random State 356\n",
      "Training Score 0.61875 Testing Score 0.7375 for Random State 357\n",
      "Training Score 0.6375 Testing Score 0.6625 for Random State 358\n",
      "Training Score 0.64375 Testing Score 0.6625 for Random State 359\n",
      "Training Score 0.628125 Testing Score 0.7 for Random State 360\n",
      "Training Score 0.640625 Testing Score 0.65 for Random State 361\n",
      "Training Score 0.6375 Testing Score 0.6625 for Random State 362\n",
      "Training Score 0.640625 Testing Score 0.65 for Random State 363\n",
      "Training Score 0.6375 Testing Score 0.6625 for Random State 364\n",
      "Training Score 0.63125 Testing Score 0.6875 for Random State 365\n",
      "Training Score 0.640625 Testing Score 0.675 for Random State 366\n",
      "Training Score 0.6375 Testing Score 0.6625 for Random State 368\n"
     ]
    },
    {
     "name": "stdout",
     "output_type": "stream",
     "text": [
      "Training Score 0.640625 Testing Score 0.65 for Random State 370\n",
      "Training Score 0.621875 Testing Score 0.725 for Random State 371\n",
      "Training Score 0.640625 Testing Score 0.65 for Random State 373\n",
      "Training Score 0.628125 Testing Score 0.7 for Random State 376\n",
      "Training Score 0.634375 Testing Score 0.675 for Random State 379\n",
      "Training Score 0.646875 Testing Score 0.65 for Random State 387\n",
      "Training Score 0.6375 Testing Score 0.6625 for Random State 393\n",
      "Training Score 0.759375 Testing Score 0.7625 for Random State 396\n",
      "Training Score 0.628125 Testing Score 0.7 for Random State 397\n",
      "Training Score 0.63125 Testing Score 0.7125 for Random State 400\n"
     ]
    }
   ],
   "source": [
    "#For loop formula to idenify the ideal random_state\n",
    "from sklearn.model_selection import train_test_split\n",
    "from sklearn.linear_model import LogisticRegression\n",
    "\n",
    "for i in range(1,401):\n",
    "    X_train,X_test,y_train,y_test = train_test_split(features,\n",
    "                                                label,\n",
    "                                                test_size = 0.2,\n",
    "                                                random_state=i)\n",
    "    model = LogisticRegression()\n",
    "    model.fit(X_train,y_train)\n",
    "    training_score = model.score(X_train,y_train)\n",
    "    testing_score = model.score(X_test,y_test)\n",
    "    \n",
    "    #Only Generalized model will be outputted\n",
    "    if testing_score > training_score:\n",
    "        print(\"Training Score {} Testing Score {} for Random State {}\".format(training_score,testing_score,i))"
   ]
  },
  {
   "cell_type": "code",
   "execution_count": 11,
   "metadata": {},
   "outputs": [],
   "source": [
    "X_train,X_test,y_train,y_test = train_test_split(features,\n",
    "                                                label,\n",
    "                                                test_size = 0.2,\n",
    "                                                random_state=4)"
   ]
  },
  {
   "cell_type": "code",
   "execution_count": 12,
   "metadata": {},
   "outputs": [
    {
     "data": {
      "text/plain": [
       "LogisticRegression(C=1.0, class_weight=None, dual=False, fit_intercept=True,\n",
       "          intercept_scaling=1, max_iter=100, multi_class='ovr', n_jobs=1,\n",
       "          penalty='l2', random_state=None, solver='liblinear', tol=0.0001,\n",
       "          verbose=0, warm_start=False)"
      ]
     },
     "execution_count": 12,
     "metadata": {},
     "output_type": "execute_result"
    }
   ],
   "source": [
    "finalModel = LogisticRegression()\n",
    "finalModel.fit(X_train,y_train)\n"
   ]
  },
  {
   "cell_type": "code",
   "execution_count": 13,
   "metadata": {},
   "outputs": [
    {
     "data": {
      "text/plain": [
       "0.834375"
      ]
     },
     "execution_count": 13,
     "metadata": {},
     "output_type": "execute_result"
    }
   ],
   "source": [
    "finalModel.score(X_train,y_train)"
   ]
  },
  {
   "cell_type": "code",
   "execution_count": 14,
   "metadata": {},
   "outputs": [
    {
     "data": {
      "text/plain": [
       "0.8875"
      ]
     },
     "execution_count": 14,
     "metadata": {},
     "output_type": "execute_result"
    }
   ],
   "source": [
    "finalModel.score(X_test,y_test)"
   ]
  },
  {
   "cell_type": "code",
   "execution_count": 19,
   "metadata": {},
   "outputs": [
    {
     "name": "stdout",
     "output_type": "stream",
     "text": [
      "Enter Customer's Age: 20\n",
      "Enter Customer's Estimated Salary: 1000000\n",
      "Good Customer!\n"
     ]
    }
   ],
   "source": [
    "                                                "
   ]
  },
  {
   "cell_type": "code",
   "execution_count": 48,
   "metadata": {},
   "outputs": [
    {
     "data": {
      "text/plain": [
       "KNeighborsClassifier(algorithm='auto', leaf_size=30, metric='minkowski',\n",
       "           metric_params=None, n_jobs=1, n_neighbors=17, p=2,\n",
       "           weights='uniform')"
      ]
     },
     "execution_count": 48,
     "metadata": {},
     "output_type": "execute_result"
    }
   ],
   "source": [
    "#K-NN\n",
    "from sklearn.neighbors import KNeighborsClassifier\n",
    "model = KNeighborsClassifier(n_neighbors=17)\n",
    "model.fit(X_train,y_train)"
   ]
  },
  {
   "cell_type": "code",
   "execution_count": 49,
   "metadata": {},
   "outputs": [
    {
     "data": {
      "text/plain": [
       "0.840625"
      ]
     },
     "execution_count": 49,
     "metadata": {},
     "output_type": "execute_result"
    }
   ],
   "source": [
    "model.score(X_train,y_train)"
   ]
  },
  {
   "cell_type": "code",
   "execution_count": 50,
   "metadata": {},
   "outputs": [
    {
     "data": {
      "text/plain": [
       "0.875"
      ]
     },
     "execution_count": 50,
     "metadata": {},
     "output_type": "execute_result"
    }
   ],
   "source": [
    "model.score(X_test,y_test)"
   ]
  },
  {
   "cell_type": "code",
   "execution_count": null,
   "metadata": {},
   "outputs": [],
   "source": []
  }
 ],
 "metadata": {
  "kernelspec": {
   "display_name": "Python 3",
   "language": "python",
   "name": "python3"
  },
  "language_info": {
   "codemirror_mode": {
    "name": "ipython",
    "version": 3
   },
   "file_extension": ".py",
   "mimetype": "text/x-python",
   "name": "python",
   "nbconvert_exporter": "python",
   "pygments_lexer": "ipython3",
   "version": "3.7.3"
  }
 },
 "nbformat": 4,
 "nbformat_minor": 2
}
