{
 "cells": [
  {
   "cell_type": "code",
   "execution_count": 1,
   "metadata": {},
   "outputs": [],
   "source": [
    "import pickle\n",
    "import numpy as np"
   ]
  },
  {
   "cell_type": "code",
   "execution_count": 2,
   "metadata": {},
   "outputs": [],
   "source": [
    "stateEncoder = pickle.load(open('StateEncoder.encoder', 'rb'))\n",
    "stateOHE = pickle.load(open('StateOHE.ohe', 'rb'))\n",
    "model = pickle.load(open('ProfitPredictionModel.model' , 'rb'))"
   ]
  },
  {
   "cell_type": "code",
   "execution_count": 3,
   "metadata": {},
   "outputs": [
    {
     "name": "stdout",
     "output_type": "stream",
     "text": [
      "Enter R&D spend: 23456\n",
      "Enter Administration spend: 23456\n",
      "Enter Marketing Spend: 23456\n",
      "Enter State: Florida\n",
      "Predicted Profit is  [[69713.06018141]]\n"
     ]
    }
   ],
   "source": [
    "rdSpend = float(input(\"Enter R&D spend: \"))\n",
    "admSpend = float(input(\"Enter Administration spend: \"))\n",
    "marketingSpend = float(input(\"Enter Marketing Spend: \"))\n",
    "state = input(\"Enter State: \")\n",
    "\n",
    "if state in stateEncoder.classes_:\n",
    "    \n",
    "    featureInput = np.array([[rdSpend,admSpend,marketingSpend,state]])\n",
    "    #Applying LabelEncoding\n",
    "    featureInput[:,3] = stateEncoder.transform(featureInput[:,3])\n",
    "    #Applying OneHotEncoding\n",
    "    featureInput = stateOHE.transform(featureInput).toarray()\n",
    "    #Predict\n",
    "    profit = model.predict(featureInput)\n",
    "    #Print the profit\n",
    "    print(\"Predicted Profit is \",profit)\n",
    "    \n",
    "\n",
    "else:\n",
    "    print(\"Model don't know about businesses in {}\".format(state))"
   ]
  },
  {
   "cell_type": "code",
   "execution_count": 4,
   "metadata": {},
   "outputs": [
    {
     "data": {
      "text/plain": [
       "array([[52089.21582825]])"
      ]
     },
     "execution_count": 4,
     "metadata": {},
     "output_type": "execute_result"
    }
   ],
   "source": [
    "model.predict(np.array([[1,0,0,2345,23456,23456]]))"
   ]
  },
  {
   "cell_type": "code",
   "execution_count": null,
   "metadata": {},
   "outputs": [],
   "source": []
  }
 ],
 "metadata": {
  "kernelspec": {
   "display_name": "Python 3",
   "language": "python",
   "name": "python3"
  },
  "language_info": {
   "codemirror_mode": {
    "name": "ipython",
    "version": 3
   },
   "file_extension": ".py",
   "mimetype": "text/x-python",
   "name": "python",
   "nbconvert_exporter": "python",
   "pygments_lexer": "ipython3",
   "version": "3.7.3"
  }
 },
 "nbformat": 4,
 "nbformat_minor": 2
}
