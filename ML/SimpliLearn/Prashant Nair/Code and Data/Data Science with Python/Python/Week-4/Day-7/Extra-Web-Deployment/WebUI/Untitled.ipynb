{
 "cells": [
  {
   "cell_type": "code",
   "execution_count": 1,
   "metadata": {},
   "outputs": [],
   "source": [
    "from flask import Flask, render_template, flash, request\n",
    "from wtforms import Form, TextField, TextAreaField, validators, StringField, SubmitField\n",
    "\n"
   ]
  },
  {
   "cell_type": "code",
   "execution_count": 4,
   "metadata": {},
   "outputs": [
    {
     "name": "stderr",
     "output_type": "stream",
     "text": [
      "C:\\ProgramData\\Anaconda3\\lib\\site-packages\\ipykernel_launcher.py:8: DeprecationWarning: Required is going away in WTForms 3.0, use DataRequired\n",
      "  \n",
      " * Restarting with stat\n"
     ]
    },
    {
     "ename": "SystemExit",
     "evalue": "1",
     "output_type": "error",
     "traceback": [
      "An exception has occurred, use %tb to see the full traceback.\n",
      "\u001b[1;31mSystemExit\u001b[0m\u001b[1;31m:\u001b[0m 1\n"
     ]
    },
    {
     "name": "stderr",
     "output_type": "stream",
     "text": [
      "C:\\ProgramData\\Anaconda3\\lib\\site-packages\\IPython\\core\\interactiveshell.py:2918: UserWarning: To exit: use 'exit', 'quit', or Ctrl-D.\n",
      "  warn(\"To exit: use 'exit', 'quit', or Ctrl-D.\", stacklevel=1)\n"
     ]
    }
   ],
   "source": [
    "class ReusableForm(Form):\n",
    "    name = TextField('Name:', validators=[validators.required()])\n",
    "    \n",
    "    @app.route(\"/\", methods=['GET', 'POST'])\n",
    "    def hello():\n",
    "        form = ReusableForm(request.form)\n",
    "        \n",
    "        print(form.errors)\n",
    "        if request.method == 'POST':\n",
    "            experience=float(request.form['yexperience'])\n",
    "            exp = np.array([[experience]])\n",
    "            salary = model.predict(exp)\n",
    "            print('The salary for {} years of experience is {}'.format(experience,salary))\n",
    "        \n",
    "        if form.validate():\n",
    "        # Save the comment here.\n",
    "            flash('Hello ' + name)\n",
    "        else:\n",
    "            flash('Error: All the form fields are required. ')\n",
    "        \n",
    "        return render_template('hello.html', form=form)"
   ]
  },
  {
   "cell_type": "code",
   "execution_count": 9,
   "metadata": {},
   "outputs": [],
   "source": [
    "import pickle\n",
    "import numpy as np\n",
    "model = pickle.load(open('HRSalaryPredictor.model','rb'))"
   ]
  },
  {
   "cell_type": "code",
   "execution_count": 11,
   "metadata": {},
   "outputs": [],
   "source": [
    "data =model.predict(np.array([[2]]))"
   ]
  },
  {
   "cell_type": "code",
   "execution_count": 16,
   "metadata": {},
   "outputs": [
    {
     "data": {
      "text/plain": [
       "array([[44802.8226195]])"
      ]
     },
     "execution_count": 16,
     "metadata": {},
     "output_type": "execute_result"
    }
   ],
   "source": [
    "data"
   ]
  },
  {
   "cell_type": "code",
   "execution_count": 17,
   "metadata": {},
   "outputs": [
    {
     "data": {
      "text/plain": [
       "'11.35'"
      ]
     },
     "execution_count": 17,
     "metadata": {},
     "output_type": "execute_result"
    }
   ],
   "source": [
    "a = 11.345\n",
    "data1 = \"%.2f\" % a\n",
    "data1"
   ]
  },
  {
   "cell_type": "code",
   "execution_count": null,
   "metadata": {},
   "outputs": [],
   "source": [
    "class ReusableForm(Form):\n",
    "    name = TextField('Name:', validators=[validators.required()])\n",
    "    \n",
    "    @app.route(\"/\", methods=['GET', 'POST'])\n",
    "    def hello():\n",
    "        form = ReusableForm(request.form)\n",
    "        \n",
    "        print(form.errors)\n",
    "        if request.method == 'POST':\n",
    "            data = request.form['yexperience']\n",
    "            if data.isnull():\n",
    "                flash('Please enter years of experience')\n",
    "            else:\n",
    "                experience=float(data)\n",
    "                if experience < 0:\n",
    "                    flash('Not a valid year of experience')\n",
    "                else:\n",
    "                    exp = np.array([[experience]])\n",
    "                    salary = model.predict(exp)\n",
    "                    sal = \"%.2f\" % salary\n",
    "                    print('The salary for {} years of experience is {}'.format(experience,sal))\n",
    "                    flash('The salary for {} years of experience is {}'.format(experience,sal))\n",
    "        \n",
    "        if form.validate():\n",
    "        # Save the comment here.\n",
    "            flash('The salary for {} years of experience is {}'.format(experience,sal))\n",
    "        else:\n",
    "            pass\n",
    "        \n",
    "        return render_template('hello.html', form=form)\n",
    "\n",
    "if __name__ == \"__main__\":\n",
    "    app.run()"
   ]
  },
  {
   "cell_type": "code",
   "execution_count": 24,
   "metadata": {},
   "outputs": [
    {
     "name": "stdout",
     "output_type": "stream",
     "text": [
      "Yes\n"
     ]
    }
   ],
   "source": [
    "data =''\n",
    "if data == '':\n",
    "    print(\"Yes\")\n",
    "else:\n",
    "    print('No')"
   ]
  },
  {
   "cell_type": "code",
   "execution_count": null,
   "metadata": {},
   "outputs": [],
   "source": []
  }
 ],
 "metadata": {
  "kernelspec": {
   "display_name": "Python 3",
   "language": "python",
   "name": "python3"
  },
  "language_info": {
   "codemirror_mode": {
    "name": "ipython",
    "version": 3
   },
   "file_extension": ".py",
   "mimetype": "text/x-python",
   "name": "python",
   "nbconvert_exporter": "python",
   "pygments_lexer": "ipython3",
   "version": "3.6.4"
  }
 },
 "nbformat": 4,
 "nbformat_minor": 2
}
