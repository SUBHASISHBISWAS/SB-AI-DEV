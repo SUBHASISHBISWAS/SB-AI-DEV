{
 "cells": [
  {
   "cell_type": "code",
   "execution_count": null,
   "metadata": {},
   "outputs": [],
   "source": [
    "import numpy as np\n",
    "import pandas as pd\n",
    "import seaborn as sns\n",
    "import matplotlib.pyplot as plt\n",
    "%matplotlib inline"
   ]
  },
  {
   "cell_type": "code",
   "execution_count": null,
   "metadata": {},
   "outputs": [],
   "source": [
    "'''\n",
    "The GroupLens Research Project is a research group in the Department of Computer Science and Engineering in the University of \n",
    "Minnesota. The researchers of this group are involved in many research projects related to the fields of information filtering,\n",
    "collaborative filtering, and recommender systems. Here, we ask you to perform the analysis using the Exploratory Data Analysis \n",
    "technique. \n",
    "The details of these projects and the scope of each project are listed in the sections below.\n",
    "\tData acquisition of the movielens dataset\n",
    "•\tusers dataset\n",
    "•\trating dataset\n",
    "•\tmovies dataset\n",
    "\tPerform the Exploratory Data Analysis (EDA) for the users dataset\n",
    "•\tVisualize user age distribution --- Histogram of Age column\n",
    "•\tVisualize overall rating by users --- Visualize it using pie,bar\n",
    "•\tFind and visualize the user rating of the movie “Toy Story (1995)”\n",
    "•\tFind and visualize the viewership of the movie “Toy Story (1995)” by age group\n",
    "•\tFind and visualize the top 25 movies by viewership rating\n",
    "•\tFind the rating for a particular user of user id = 2696\n",
    "o\tVisualize the rating data by user of user id = 2696\n",
    "\tPerform machine learning on first 500 extracted records (hint: use head(500))\n",
    "•\tUse the following features:\n",
    "o\tmovie id\n",
    "o\tage\n",
    "o\toccupation\n",
    "\tUse rating as label\n",
    "\tCreate train and test data set and perform the following:\n",
    "•\tCreate Model\n",
    "•\tCheck for Generalization \n",
    "•\tDeploy model (Show user input)\n",
    "'''"
   ]
  },
  {
   "cell_type": "code",
   "execution_count": null,
   "metadata": {},
   "outputs": [],
   "source": [
    "moviesData.head()\n",
    "moviesData.describe()"
   ]
  },
  {
   "cell_type": "code",
   "execution_count": null,
   "metadata": {},
   "outputs": [],
   "source": [
    "ratingsData.head()\n",
    "#sns.pairplot(ratingsData.head(500),height=3)\n"
   ]
  },
  {
   "cell_type": "code",
   "execution_count": null,
   "metadata": {},
   "outputs": [],
   "source": [
    "moviesData[moviesData.Geners==\"Comedy\"].count()\n",
    "movideId=moviesData[moviesData['Movie Name']==\"Toy Story (1995)\"][\"MovieId\"].values[0]\n",
    "ratingsData[ratingsData.MovieId==movideId][\"Ratings\"].plot(kind='hist',bins=10)"
   ]
  },
  {
   "cell_type": "code",
   "execution_count": null,
   "metadata": {},
   "outputs": [],
   "source": [
    "userIds=ratingsData[ratingsData.MovieId==movideId][\"UserId\"]\n",
    "usersData[usersData.UserId.isin(userIds)][\"Age\"].plot(kind='hist')"
   ]
  },
  {
   "cell_type": "code",
   "execution_count": null,
   "metadata": {},
   "outputs": [],
   "source": [
    "ratingsData.groupby(\"Ratings\")[\"MovieId\"].count().plot(kind='bar')"
   ]
  },
  {
   "cell_type": "code",
   "execution_count": null,
   "metadata": {},
   "outputs": [],
   "source": [
    "mostRatedMovieIds=ratingsData.groupby(\"Ratings\")[\"MovieId\"]\n",
    "mostRatedMovieIds.max()"
   ]
  },
  {
   "cell_type": "code",
   "execution_count": null,
   "metadata": {},
   "outputs": [],
   "source": [
    "moviesData.groupby(\"Movie Name\").size().sort_values(ascending=True)[:25]"
   ]
  },
  {
   "cell_type": "code",
   "execution_count": null,
   "metadata": {},
   "outputs": [],
   "source": [
    "usersData.head()\n",
    "\n",
    "df1=pd.merge(ratingsData,usersData,left_on=\"UserId\",right_on='UserId')\n",
    "df1.info()"
   ]
  },
  {
   "cell_type": "code",
   "execution_count": null,
   "metadata": {},
   "outputs": [],
   "source": [
    "df2=pd.merge(df1,moviesData,left_on='MovieId',right_on='MovieId')\n",
    "df2\n"
   ]
  },
  {
   "cell_type": "code",
   "execution_count": null,
   "metadata": {},
   "outputs": [],
   "source": [
    "df3=df2.iloc[:,[1,5,6,8,2]]\n",
    "df3\n",
    "df3.info()\n",
    "df3[df3.Ratings==4].iloc[:,[3]].count()"
   ]
  },
  {
   "cell_type": "code",
   "execution_count": null,
   "metadata": {},
   "outputs": [],
   "source": [
    "#sns.pairplot(df3.head(10000),height=3)\n",
    "\n",
    "df3.groupby(\"Movie Name\").size().sort_values(ascending=False)[:25]"
   ]
  },
  {
   "cell_type": "code",
   "execution_count": null,
   "metadata": {},
   "outputs": [],
   "source": [
    "df3.groupby(\"Movie Name\").size().sort_values(ascending=False)[:25].plot(kind='bar')"
   ]
  },
  {
   "cell_type": "code",
   "execution_count": null,
   "metadata": {},
   "outputs": [],
   "source": [
    "\n",
    "ratingsData[\"MovieId\"].value_counts().head()"
   ]
  }
 ],
 "metadata": {
  "kernelspec": {
   "display_name": "Python 3",
   "language": "python",
   "name": "python3"
  },
  "language_info": {
   "codemirror_mode": {
    "name": "ipython",
    "version": 3
   },
   "file_extension": ".py",
   "mimetype": "text/x-python",
   "name": "python",
   "nbconvert_exporter": "python",
   "pygments_lexer": "ipython3",
   "version": "3.7.3"
  }
 },
 "nbformat": 4,
 "nbformat_minor": 2
}
