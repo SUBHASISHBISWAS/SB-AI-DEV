{
 "cells": [
  {
   "cell_type": "code",
   "execution_count": 1,
   "metadata": {},
   "outputs": [],
   "source": [
    "#How to achieve the first 3 rules of NLP\n",
    "sample = \"Welcome to Simplilearn. :Y.,ou are now learning Natural Language Processing!\""
   ]
  },
  {
   "cell_type": "markdown",
   "metadata": {},
   "source": [
    "# Task 1 - Remove Punctuations"
   ]
  },
  {
   "cell_type": "code",
   "execution_count": 8,
   "metadata": {},
   "outputs": [
    {
     "data": {
      "text/plain": [
       "'Welcome to Simplilearn You are now learning Natural Language Processing'"
      ]
     },
     "execution_count": 8,
     "metadata": {},
     "output_type": "execute_result"
    }
   ],
   "source": [
    "#Remove Punctuations\n",
    "#You can traverse the sentence character by character and eliminate all punctuations\n",
    "import string\n",
    "outputList = []\n",
    "for character in sample:\n",
    "    if character not in string.punctuation:\n",
    "        outputList.append(character)\n",
    "outputList\n",
    "#Convert the above list into sentence\n",
    "finalOutput = ''.join(outputList)\n",
    "finalOutput"
   ]
  },
  {
   "cell_type": "code",
   "execution_count": 9,
   "metadata": {},
   "outputs": [
    {
     "data": {
      "text/plain": [
       "'Welcome to Simplilearn You are now learning Natural Language Processing'"
      ]
     },
     "execution_count": 9,
     "metadata": {},
     "output_type": "execute_result"
    }
   ],
   "source": [
    "removePunctuations = [character for character in sample if character not in string.punctuation]\n",
    "finalSentence = ''.join(removePunctuations)\n",
    "finalSentence"
   ]
  },
  {
   "cell_type": "markdown",
   "metadata": {},
   "source": [
    "# Task 2 - Remove Stopwords"
   ]
  },
  {
   "cell_type": "code",
   "execution_count": 10,
   "metadata": {},
   "outputs": [],
   "source": [
    "#For performing NLP we have the following packages in python\n",
    "#1. nltk (Natural Language Processing Toolkit)\n",
    "#2. spacy \n",
    "#3. Sklearn"
   ]
  },
  {
   "cell_type": "code",
   "execution_count": 11,
   "metadata": {},
   "outputs": [],
   "source": [
    "import nltk #If you get ModuleNotFound Error, install nltk using pip install nltk command in Anaconda Prompt"
   ]
  },
  {
   "cell_type": "code",
   "execution_count": 12,
   "metadata": {},
   "outputs": [
    {
     "name": "stdout",
     "output_type": "stream",
     "text": [
      "showing info https://raw.githubusercontent.com/nltk/nltk_data/gh-pages/index.xml\n"
     ]
    },
    {
     "data": {
      "text/plain": [
       "True"
      ]
     },
     "execution_count": 12,
     "metadata": {},
     "output_type": "execute_result"
    }
   ],
   "source": [
    "#Download corpus\n",
    "nltk.download()"
   ]
  },
  {
   "cell_type": "code",
   "execution_count": 13,
   "metadata": {},
   "outputs": [
    {
     "data": {
      "text/plain": [
       "<WordListCorpusReader in 'C:\\\\Users\\\\Prashant\\\\AppData\\\\Roaming\\\\nltk_data\\\\corpora\\\\stopwords'>"
      ]
     },
     "execution_count": 13,
     "metadata": {},
     "output_type": "execute_result"
    }
   ],
   "source": [
    "from nltk.corpus import stopwords\n",
    "stopwords #Incase the code give error, download corpus using the above command!"
   ]
  },
  {
   "cell_type": "code",
   "execution_count": 16,
   "metadata": {},
   "outputs": [
    {
     "name": "stdout",
     "output_type": "stream",
     "text": [
      "Welcome\n",
      "Simplilearn\n",
      "You\n",
      "learning\n",
      "Natural\n",
      "Language\n",
      "Processing\n"
     ]
    }
   ],
   "source": [
    "#Code for Stopwords Removal\n",
    "words = finalSentence.split(\" \")\n",
    "for word in words:\n",
    "    if word not in stopwords.words('english'):\n",
    "        print(word)"
   ]
  },
  {
   "cell_type": "code",
   "execution_count": 17,
   "metadata": {},
   "outputs": [
    {
     "data": {
      "text/plain": [
       "['Welcome', 'Simplilearn', 'learning', 'Natural', 'Language', 'Processing']"
      ]
     },
     "execution_count": 17,
     "metadata": {},
     "output_type": "execute_result"
    }
   ],
   "source": [
    "removeStopwords = [word for word in words if word.lower() not in stopwords.words('english')]\n",
    "removeStopwords"
   ]
  },
  {
   "cell_type": "code",
   "execution_count": 18,
   "metadata": {},
   "outputs": [],
   "source": [
    "#Function for Text preprocessing to create BagOfWords\n",
    "import string\n",
    "from nltk.corpus import stopwords\n",
    "def textPreprocessing(data):\n",
    "    #Remove Punctuations\n",
    "    removePunctuations = [character for character in sample if character not in string.punctuation]\n",
    "    finalSentence = ''.join(removePunctuations)\n",
    "    #Remove Stopwords\n",
    "    words = finalSentence.split(\" \")\n",
    "    removeStopwords = [word for word in words if word.lower() not in stopwords.words('english')]\n",
    "    #Return list of words\n",
    "    return removeStopwords"
   ]
  },
  {
   "cell_type": "code",
   "execution_count": 19,
   "metadata": {},
   "outputs": [
    {
     "data": {
      "text/plain": [
       "['Welcome', 'Simplilearn', 'learning', 'Natural', 'Language', 'Processing']"
      ]
     },
     "execution_count": 19,
     "metadata": {},
     "output_type": "execute_result"
    }
   ],
   "source": [
    "textPreprocessing(\"Welcome to Simplilearn. :Y.,ou are now learning Natural Language Processing!\")"
   ]
  },
  {
   "cell_type": "code",
   "execution_count": null,
   "metadata": {},
   "outputs": [],
   "source": []
  }
 ],
 "metadata": {
  "kernelspec": {
   "display_name": "Python 3",
   "language": "python",
   "name": "python3"
  },
  "language_info": {
   "codemirror_mode": {
    "name": "ipython",
    "version": 3
   },
   "file_extension": ".py",
   "mimetype": "text/x-python",
   "name": "python",
   "nbconvert_exporter": "python",
   "pygments_lexer": "ipython3",
   "version": "3.7.3"
  }
 },
 "nbformat": 4,
 "nbformat_minor": 2
}
