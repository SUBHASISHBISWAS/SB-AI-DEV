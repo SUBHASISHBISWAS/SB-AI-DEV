{
 "cells": [
  {
   "cell_type": "code",
   "execution_count": 6,
   "metadata": {},
   "outputs": [],
   "source": [
    "import pandas as pd\n",
    "import numpy as np\n",
    "import matplotlib.pyplot as plt\n",
    "%matplotlib inline"
   ]
  },
  {
   "cell_type": "code",
   "execution_count": 2,
   "metadata": {},
   "outputs": [],
   "source": [
    "startupData = pd.read_csv('50_Startups.csv')"
   ]
  },
  {
   "cell_type": "markdown",
   "metadata": {},
   "source": [
    "### 1. Correlation Test\n"
   ]
  },
  {
   "cell_type": "markdown",
   "metadata": {},
   "source": [
    "#### 1. Pearson's Correlation Test\n",
    "Question 1: Lets Test whether R&DSpend and Profit have a linear Relationship or not?\n",
    "Hypothesis Testing for Question 1:\n",
    "\n",
    "- Null Hypothesis (H0) = R&D Spend and Profit has no linear relationship\n",
    "- Alternate Hypothesis (H1) = R&DSpend and Profit has linear relationship\n",
    "\n",
    "Which Test to perform?\n",
    "- Pearson's Correlation Test\n",
    "\n",
    "What Significance Level(How much errors you can tolerate) you are looking for?\n",
    "<br />Ideally most of the statistician follow the below 3 rules:\n",
    "1. 0.01 error (1% error)\n",
    "2. 0.05 error (5% error) (Practically considered ideal value for SL)\n",
    "3. 0.1 error  (10% error)\n",
    "- In the world of Statistics , Significance Level is denoted by 'p-value'.\n",
    "\n",
    "Things that you must be aware of?\n",
    "1. Identify which test you will perform\n",
    "2. Create Null and Alternate Hypothesis\n",
    "3. Set p-value\n",
    "4. Perform test"
   ]
  },
  {
   "cell_type": "code",
   "execution_count": 21,
   "metadata": {},
   "outputs": [
    {
     "name": "stdout",
     "output_type": "stream",
     "text": [
      "0.9729004656594831\n",
      "3.5003222436906035e-32\n",
      "Confidence Level : 100.0 %\n",
      "Alternate Hypothesis (H1) - R&DSpend and Profit has linear relationship\n"
     ]
    }
   ],
   "source": [
    "#Scipy ---> Scientific Python ---> All formulaes related to math and stats to be applied\n",
    "#Acceptable p-value for my hypothesis is 0.05\n",
    "from scipy.stats import pearsonr\n",
    "correlation,pvalue = pearsonr(startupData['R&D Spend'] , startupData['Profit'])\n",
    "print(correlation)\n",
    "print(pvalue)\n",
    "print(\"Confidence Level : {} %\".format(((1- pvalue)*100)))\n",
    "if pvalue <= 0.05:\n",
    "    print(\"Alternate Hypothesis (H1) - R&DSpend and Profit has linear relationship\")\n",
    "else:\n",
    "    print(\"Null Hypothesis (H0)- R&D Spend and Profit has no linear relationship\")"
   ]
  },
  {
   "cell_type": "code",
   "execution_count": 22,
   "metadata": {},
   "outputs": [
    {
     "data": {
      "text/plain": [
       "<matplotlib.collections.PathCollection at 0x1d0a3f6a9b0>"
      ]
     },
     "execution_count": 22,
     "metadata": {},
     "output_type": "execute_result"
    },
    {
     "data": {
      "image/png": "[encoded data removed]",
      "text/plain": [
       "<Figure size 432x288 with 1 Axes>"
      ]
     },
     "metadata": {},
     "output_type": "display_data"
    }
   ],
   "source": [
    "#Do the remaining correlation test for Marketing and Administration\n",
    "plt.scatter(startupData['R&D Spend'] , startupData['Profit'])"
   ]
  },
  {
   "cell_type": "markdown",
   "metadata": {},
   "source": [
    "Question 1: Lets Test whether R&DSpend and Profit have a linear Relationship or not?\n",
    "Hypothesis Testing for Question 1:\n",
    "\n",
    "- Null Hypothesis (H0) = R&D Spend and Profit has no monotonic relationship\n",
    "- Alternate Hypothesis (H1) = R&DSpend and Profit has monotonic relationship\n",
    "\n",
    "Which Test to perform?\n",
    "- Spearman's Rank Test\n",
    "\n",
    "What Significance Level(How much errors you can tolerate) you are looking for?\n",
    "<br />Ideally most of the statistician follow the below 3 rules:\n",
    "1. 0.01 error (1% error)\n",
    "2. 0.05 error (5% error) (Practically considered ideal value for SL)\n",
    "3. 0.1 error  (10% error)\n",
    "- In the world of Statistics , Significance Level is denoted by 'p-value'.\n",
    "\n",
    "Things that you must be aware of?\n",
    "1. Identify which test you will perform\n",
    "2. Create Null and Alternate Hypothesis\n",
    "3. Set p-value as 0.05\n",
    "4. Perform test"
   ]
  },
  {
   "cell_type": "code",
   "execution_count": 23,
   "metadata": {},
   "outputs": [
    {
     "name": "stdout",
     "output_type": "stream",
     "text": [
      "0.9898436940114568\n",
      "2.4924463031107535e-42\n",
      "Confidence Level : 100.0 %\n",
      "Alternate Hypothesis (H1) - R&DSpend and Profit has monotonic relationship\n"
     ]
    }
   ],
   "source": [
    "#Spearmans Rank Test\n",
    "from scipy.stats import spearmanr\n",
    "correlation,pvalue = spearmanr(startupData['R&D Spend'] , startupData['Profit'])\n",
    "print(correlation)\n",
    "print(pvalue)\n",
    "print(\"Confidence Level : {} %\".format(((1- pvalue)*100)))\n",
    "if pvalue <= 0.05:\n",
    "    print(\"Alternate Hypothesis (H1) - R&DSpend and Profit has monotonic relationship\")\n",
    "else:\n",
    "    print(\"Null Hypothesis (H0)- R&D Spend and Profit has no monotonic relationship\")"
   ]
  },
  {
   "cell_type": "code",
   "execution_count": 24,
   "metadata": {},
   "outputs": [
    {
     "name": "stdout",
     "output_type": "stream",
     "text": [
      "0.9342589590620481\n",
      "1.0718305105857118e-21\n",
      "Confidence Level : 100.0 %\n",
      "Alternate Hypothesis (H1) - R&DSpend and Profit has monotonic relationship\n"
     ]
    }
   ],
   "source": [
    "#Kendall's Rank Test\n",
    "from scipy.stats import kendalltau\n",
    "correlation,pvalue = kendalltau(startupData['R&D Spend'] , startupData['Profit'])\n",
    "print(correlation)\n",
    "print(pvalue)\n",
    "print(\"Confidence Level : {} %\".format(((1- pvalue)*100)))\n",
    "if pvalue <= 0.05:\n",
    "    print(\"Alternate Hypothesis (H1) - R&DSpend and Profit has monotonic relationship\")\n",
    "else:\n",
    "    print(\"Null Hypothesis (H0)- R&D Spend and Profit has no monotonic relationship\")"
   ]
  },
  {
   "cell_type": "markdown",
   "metadata": {},
   "source": [
    "# Chi-square Test"
   ]
  },
  {
   "cell_type": "code",
   "execution_count": 27,
   "metadata": {},
   "outputs": [
    {
     "name": "stdout",
     "output_type": "stream",
     "text": [
      "Null Hypothesis(H0): State and Profit are independent of each other.\n",
      "Confidence Level : 57.513332179723406 %\n"
     ]
    }
   ],
   "source": [
    "contigency_table = pd.crosstab(startupData['State'],startupData['Profit'])\n",
    "\n",
    "from scipy.stats import chi2_contingency\n",
    "stat, p, dof, expected = chi2_contingency(contigency_table)\n",
    "if p <= 0.05:\n",
    "    print(\"Alternate Hypothesis (H1): State and Profit have some form of relationship.\")\n",
    "else:\n",
    "    print(\"Null Hypothesis(H0): State and Profit are independent of each other.\")\n",
    "print(\"Confidence Level : {} %\".format(((1- p)*100)))"
   ]
  },
  {
   "cell_type": "markdown",
   "metadata": {},
   "source": [
    "# Normality Test "
   ]
  },
  {
   "cell_type": "code",
   "execution_count": 28,
   "metadata": {},
   "outputs": [
    {
     "name": "stdout",
     "output_type": "stream",
     "text": [
      "Null Hypothesis (H0) : R&D Spend is not Normal Distribution\n",
      "Confidence Level : 81.99481666088104 %\n"
     ]
    }
   ],
   "source": [
    "from scipy.stats import shapiro\n",
    "stat,p = shapiro(startupData['R&D Spend'])\n",
    "if p <= 0.05:\n",
    "    print(\"Alternate Hypothesis (H1): R&D Spend is Normally distributed\")\n",
    "else:\n",
    "    print(\"Null Hypothesis (H0) : R&D Spend is not Normal Distribution\")\n",
    "print(\"Confidence Level : {} %\".format(((1- p)*100)))"
   ]
  },
  {
   "cell_type": "code",
   "execution_count": 29,
   "metadata": {},
   "outputs": [
    {
     "name": "stdout",
     "output_type": "stream",
     "text": [
      "AndersonResult(statistic=0.3544189646662659, critical_values=array([0.538, 0.613, 0.736, 0.858, 1.021]), significance_level=array([15. , 10. ,  5. ,  2.5,  1. ]))\n"
     ]
    }
   ],
   "source": [
    "from scipy.stats import anderson\n",
    "stat = anderson(startupData['R&D Spend'])\n",
    "print(stat)"
   ]
  },
  {
   "cell_type": "code",
   "execution_count": 30,
   "metadata": {},
   "outputs": [
    {
     "name": "stdout",
     "output_type": "stream",
     "text": [
      "Null Hypothesis (H0) : R&D Spend is not Normal Distribution\n",
      "Confidence Level : 71.75346439553687 %\n"
     ]
    }
   ],
   "source": [
    "from scipy.stats import normaltest\n",
    "stat,p = normaltest(startupData['R&D Spend'])\n",
    "if p <= 0.05:\n",
    "    print(\"Alternate Hypothesis (H1): R&D Spend is Normally distributed\")\n",
    "else:\n",
    "    print(\"Null Hypothesis (H0) : R&D Spend is not Normal Distribution\")\n",
    "print(\"Confidence Level : {} %\".format(((1- p)*100)))"
   ]
  },
  {
   "cell_type": "code",
   "execution_count": 32,
   "metadata": {},
   "outputs": [
    {
     "name": "stdout",
     "output_type": "stream",
     "text": [
      "Null Hypothesis (H0) : R&D Spend is not Normal Distribution\n",
      "Confidence Level : 76.33925676345825 %\n"
     ]
    }
   ],
   "source": [
    "from scipy.stats import shapiro\n",
    "stat,p = shapiro(startupData['Administration'])\n",
    "if p <= 0.05:\n",
    "    print(\"Alternate Hypothesis (H1): R&D Spend is Normally distributed\")\n",
    "else:\n",
    "    print(\"Null Hypothesis (H0) : R&D Spend is not Normal Distribution\")\n",
    "print(\"Confidence Level : {} %\".format(((1- p)*100)))"
   ]
  },
  {
   "cell_type": "code",
   "execution_count": 33,
   "metadata": {},
   "outputs": [
    {
     "name": "stdout",
     "output_type": "stream",
     "text": [
      "Null Hypothesis (H0) : R&D Spend is not Normal Distribution\n",
      "Confidence Level : 65.49227833747864 %\n"
     ]
    }
   ],
   "source": [
    "from scipy.stats import shapiro\n",
    "stat,p = shapiro(startupData['Marketing Spend'])\n",
    "if p <= 0.05:\n",
    "    print(\"Alternate Hypothesis (H1): R&D Spend is Normally distributed\")\n",
    "else:\n",
    "    print(\"Null Hypothesis (H0) : R&D Spend is not Normal Distribution\")\n",
    "print(\"Confidence Level : {} %\".format(((1- p)*100)))"
   ]
  },
  {
   "cell_type": "markdown",
   "metadata": {},
   "source": [
    "# Non-parametric Test"
   ]
  },
  {
   "cell_type": "code",
   "execution_count": 34,
   "metadata": {},
   "outputs": [
    {
     "name": "stdout",
     "output_type": "stream",
     "text": [
      "Alternate Hypothesis (H1) --> Columns are unequal(different)\n",
      "Confidence Level : 99.99996458891725 %\n"
     ]
    }
   ],
   "source": [
    "# Wilcoxon Test\n",
    "from scipy.stats import wilcoxon\n",
    "stat,p = wilcoxon(startupData['R&D Spend'], startupData['Administration'])\n",
    "if p <= 0.05:\n",
    "    print(\"Alternate Hypothesis (H1) --> Columns are unequal(different)\")\n",
    "else:\n",
    "    print(\"Null Hypothesis (H0) --> Columns are equal\")\n",
    "print(\"Confidence Level : {} %\".format(((1- p)*100)))"
   ]
  },
  {
   "cell_type": "code",
   "execution_count": 35,
   "metadata": {},
   "outputs": [
    {
     "name": "stdout",
     "output_type": "stream",
     "text": [
      "Alternate Hypothesis (H1) --> Columns are unequal(different)\n",
      "Confidence Level : 99.99998810170587 %\n"
     ]
    }
   ],
   "source": [
    "#Mann-Whitney U test\n",
    "from scipy.stats import mannwhitneyu\n",
    "stat,p = mannwhitneyu(startupData['R&D Spend'], startupData['Administration'])\n",
    "if p <= 0.05:\n",
    "    print(\"Alternate Hypothesis (H1) --> Columns are unequal(different)\")\n",
    "else:\n",
    "    print(\"Null Hypothesis (H0) --> Columns are equal\")\n",
    "print(\"Confidence Level : {} %\".format(((1- p)*100)))"
   ]
  },
  {
   "cell_type": "code",
   "execution_count": 38,
   "metadata": {},
   "outputs": [
    {
     "name": "stdout",
     "output_type": "stream",
     "text": [
      "Alternate Hypothesis (H1) --> Columns are unequal(different)\n",
      "Confidence Level : 99.99999999677547 %\n",
      "48.315296761518745\n"
     ]
    }
   ],
   "source": [
    "#Kruskal-Wallis H-test\n",
    "from scipy.stats import kruskal\n",
    "stat,p = kruskal(startupData['R&D Spend'], startupData['Administration'], startupData['Marketing Spend'])\n",
    "if p <= 0.05:\n",
    "    print(\"Alternate Hypothesis (H1) --> Columns are unequal(different)\")\n",
    "else:\n",
    "    print(\"Null Hypothesis (H0) --> Columns are equal\")\n",
    "print(\"Confidence Level : {} %\".format(((1- p)*100)))\n",
    "print(stat)"
   ]
  },
  {
   "cell_type": "code",
   "execution_count": 39,
   "metadata": {},
   "outputs": [
    {
     "name": "stdout",
     "output_type": "stream",
     "text": [
      "Alternate Hypothesis (H1) --> Columns are unequal(different)\n",
      "Confidence Level : 99.9999999961288 %\n"
     ]
    }
   ],
   "source": [
    "#Friedman Test\n",
    "from scipy.stats import friedmanchisquare\n",
    "stat,p = friedmanchisquare(startupData['R&D Spend'], startupData['Administration'], startupData['Marketing Spend'])\n",
    "if p <= 0.05:\n",
    "    print(\"Alternate Hypothesis (H1) --> Columns are unequal(different)\")\n",
    "else:\n",
    "    print(\"Null Hypothesis (H0) --> Columns are equal\")\n",
    "print(\"Confidence Level : {} %\".format(((1- p)*100)))"
   ]
  },
  {
   "cell_type": "markdown",
   "metadata": {},
   "source": [
    "# Parametric Test\n",
    "Note: The below code is for making you understand how to implement parametric test. "
   ]
  },
  {
   "cell_type": "code",
   "execution_count": 40,
   "metadata": {},
   "outputs": [
    {
     "name": "stdout",
     "output_type": "stream",
     "text": [
      "Alternate Hypothesis (H1) --> Columns are unequal(different)\n",
      "Confidence Level : 99.9999989883414 %\n"
     ]
    }
   ],
   "source": [
    "#Student t-test\n",
    "from scipy.stats import ttest_ind\n",
    "stat,p = ttest_ind(startupData['R&D Spend'], startupData['Administration'])\n",
    "if p <= 0.05:\n",
    "    print(\"Alternate Hypothesis (H1) --> Columns are unequal(different)\")\n",
    "else:\n",
    "    print(\"Null Hypothesis (H0) --> Columns are equal\")\n",
    "print(\"Confidence Level : {} %\".format(((1- p)*100)))"
   ]
  },
  {
   "cell_type": "code",
   "execution_count": 41,
   "metadata": {},
   "outputs": [
    {
     "name": "stdout",
     "output_type": "stream",
     "text": [
      "Alternate Hypothesis (H1) --> Columns are unequal(different)\n",
      "Confidence Level : 99.99999948019163 %\n"
     ]
    }
   ],
   "source": [
    "#Paired Student t-test\n",
    "from scipy.stats import ttest_rel\n",
    "stat,p = ttest_rel(startupData['R&D Spend'], startupData['Administration'])\n",
    "if p <= 0.05:\n",
    "    print(\"Alternate Hypothesis (H1) --> Columns are unequal(different)\")\n",
    "else:\n",
    "    print(\"Null Hypothesis (H0) --> Columns are equal\")\n",
    "print(\"Confidence Level : {} %\".format(((1- p)*100)))"
   ]
  },
  {
   "cell_type": "code",
   "execution_count": 42,
   "metadata": {},
   "outputs": [
    {
     "name": "stdout",
     "output_type": "stream",
     "text": [
      "Alternate Hypothesis (H1) --> Columns are unequal(different)\n",
      "Confidence Level : 99.99999999999922 %\n"
     ]
    }
   ],
   "source": [
    "#ANOVA\n",
    "from scipy.stats import f_oneway\n",
    "stat,p = f_oneway(startupData['R&D Spend'], startupData['Administration'], startupData['Marketing Spend'])\n",
    "if p <= 0.05:\n",
    "    print(\"Alternate Hypothesis (H1) --> Columns are unequal(different)\")\n",
    "else:\n",
    "    print(\"Null Hypothesis (H0) --> Columns are equal\")\n",
    "print(\"Confidence Level : {} %\".format(((1- p)*100)))"
   ]
  },
  {
   "cell_type": "code",
   "execution_count": null,
   "metadata": {},
   "outputs": [],
   "source": []
  }
 ],
 "metadata": {
  "kernelspec": {
   "display_name": "Python 3",
   "language": "python",
   "name": "python3"
  },
  "language_info": {
   "codemirror_mode": {
    "name": "ipython",
    "version": 3
   },
   "file_extension": ".py",
   "mimetype": "text/x-python",
   "name": "python",
   "nbconvert_exporter": "python",
   "pygments_lexer": "ipython3",
   "version": "3.7.3"
  }
 },
 "nbformat": 4,
 "nbformat_minor": 2
}
