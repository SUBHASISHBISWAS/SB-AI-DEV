{
 "cells": [
  {
   "cell_type": "code",
   "execution_count": 2,
   "metadata": {},
   "outputs": [],
   "source": [
    "# Use-case: Your task is to create a model that can classify SPAM and HAM SMS\n",
    "import numpy as np\n",
    "import pandas as pd\n",
    "import matplotlib.pyplot as plt\n",
    "import seaborn as sns\n",
    "%matplotlib inline"
   ]
  },
  {
   "cell_type": "code",
   "execution_count": 3,
   "metadata": {},
   "outputs": [],
   "source": [
    "smsData = pd.read_csv('SMSSpamCollection' , sep='\\t' , names=['label','message'])"
   ]
  },
  {
   "cell_type": "code",
   "execution_count": 4,
   "metadata": {},
   "outputs": [
    {
     "name": "stdout",
     "output_type": "stream",
     "text": [
      "<class 'pandas.core.frame.DataFrame'>\n",
      "RangeIndex: 5572 entries, 0 to 5571\n",
      "Data columns (total 2 columns):\n",
      "label      5572 non-null object\n",
      "message    5572 non-null object\n",
      "dtypes: object(2)\n",
      "memory usage: 87.1+ KB\n"
     ]
    }
   ],
   "source": [
    "smsData.info()"
   ]
  },
  {
   "cell_type": "code",
   "execution_count": 10,
   "metadata": {},
   "outputs": [],
   "source": [
    "#Sklearn to convert message column into logical numeric column which algo can understand!\n",
    "#Function for Text preprocessing to create BagOfWords\n",
    "import string\n",
    "from nltk.corpus import stopwords\n",
    "def textPreprocessing(data):\n",
    "    #Remove Punctuations\n",
    "    removePunctuations = [character for character in data if character not in string.punctuation]\n",
    "    finalSentence = ''.join(removePunctuations)\n",
    "    #Remove Stopwords\n",
    "    words = finalSentence.split(\" \")\n",
    "    removeStopwords = [word for word in words if word.lower() not in stopwords.words('english')]\n",
    "    #Return list of words\n",
    "    return removeStopwords"
   ]
  },
  {
   "cell_type": "code",
   "execution_count": 11,
   "metadata": {},
   "outputs": [],
   "source": [
    "#Create BagOfWords\n",
    "from sklearn.feature_extraction.text import CountVectorizer\n",
    "wordVector = CountVectorizer(analyzer=textPreprocessing )\n",
    "featureWordVector = wordVector.fit(smsData.message)"
   ]
  },
  {
   "cell_type": "code",
   "execution_count": 12,
   "metadata": {},
   "outputs": [],
   "source": [
    "bagOfWords = featureWordVector.transform(smsData.message)"
   ]
  },
  {
   "cell_type": "code",
   "execution_count": 14,
   "metadata": {},
   "outputs": [],
   "source": [
    "#Frequecy within range of 0 to 1\n",
    "#TF-IDF\n",
    "from sklearn.feature_extraction.text import TfidfTransformer\n",
    "tfIDFtransformer = TfidfTransformer().fit(bagOfWords)"
   ]
  },
  {
   "cell_type": "code",
   "execution_count": 15,
   "metadata": {},
   "outputs": [],
   "source": [
    "finalFeatureMessage = tfIDFtransformer.transform(bagOfWords)"
   ]
  },
  {
   "cell_type": "code",
   "execution_count": 17,
   "metadata": {},
   "outputs": [],
   "source": [
    "#Do Implement model\n",
    "from sklearn.naive_bayes import MultinomialNB\n",
    "model = MultinomialNB().fit(finalFeatureMessage, smsData['label'])\n"
   ]
  },
  {
   "cell_type": "code",
   "execution_count": 18,
   "metadata": {},
   "outputs": [
    {
     "data": {
      "text/plain": [
       "0.9791816223977028"
      ]
     },
     "execution_count": 18,
     "metadata": {},
     "output_type": "execute_result"
    }
   ],
   "source": [
    "model.score(finalFeatureMessage,smsData['label'])"
   ]
  },
  {
   "cell_type": "code",
   "execution_count": 24,
   "metadata": {},
   "outputs": [
    {
     "name": "stdout",
     "output_type": "stream",
     "text": [
      "Enter SMS to check:Win Lottery \n",
      "['spam']\n"
     ]
    }
   ],
   "source": [
    "smsUnknown = input(\"Enter SMS to check:\")#\"Welcome to Simplilearn\"\n",
    "step1 = textPreprocessing(smsUnknown)\n",
    "step2 = featureWordVector.transform(step1)\n",
    "step3 = tfIDFtransformer.transform(step2)\n",
    "predict = model.predict(step3[0])\n",
    "print(predict)\n"
   ]
  },
  {
   "cell_type": "code",
   "execution_count": null,
   "metadata": {},
   "outputs": [],
   "source": []
  }
 ],
 "metadata": {
  "kernelspec": {
   "display_name": "Python 3",
   "language": "python",
   "name": "python3"
  },
  "language_info": {
   "codemirror_mode": {
    "name": "ipython",
    "version": 3
   },
   "file_extension": ".py",
   "mimetype": "text/x-python",
   "name": "python",
   "nbconvert_exporter": "python",
   "pygments_lexer": "ipython3",
   "version": "3.7.3"
  }
 },
 "nbformat": 4,
 "nbformat_minor": 2
}
