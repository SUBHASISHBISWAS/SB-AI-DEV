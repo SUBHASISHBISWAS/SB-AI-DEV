{
 "cells": [
  {
   "cell_type": "code",
   "execution_count": 27,
   "id": "4f042de7",
   "metadata": {},
   "outputs": [],
   "source": [
    "import numpy as np\n",
    "import pandas as pd\n",
    "import matplotlib.pyplot as plt\n",
    "import seaborn as sns\n",
    "from sklearn.preprocessing import LabelEncoder\n",
    "from sklearn.compose import ColumnTransformer\n",
    "from sklearn.model_selection import train_test_split\n",
    "from sklearn.linear_model import LinearRegression\n",
    "from sklearn.preprocessing import OneHotEncoder\n",
    "from sklearn.compose import make_column_transformer\n",
    "from sklearn.feature_selection import RFE\n",
    "from sklearn.feature_selection import SelectPercentile\n",
    "from sklearn.feature_selection import f_regression\n",
    "from sklearn.feature_selection import SelectFromModel\n",
    "import pickle\n",
    "%matplotlib inline"
   ]
  },
  {
   "cell_type": "code",
   "execution_count": 2,
   "id": "b9bffa8b",
   "metadata": {},
   "outputs": [],
   "source": [
    "startupData=pd.read_csv('50_Startups.csv')"
   ]
  },
  {
   "cell_type": "code",
   "execution_count": 3,
   "id": "7a4ccbd8",
   "metadata": {},
   "outputs": [
    {
     "data": {
      "text/html": [
       "<div>\n",
       "<style scoped>\n",
       "    .dataframe tbody tr th:only-of-type {\n",
       "        vertical-align: middle;\n",
       "    }\n",
       "\n",
       "    .dataframe tbody tr th {\n",
       "        vertical-align: top;\n",
       "    }\n",
       "\n",
       "    .dataframe thead th {\n",
       "        text-align: right;\n",
       "    }\n",
       "</style>\n",
       "<table border=\"1\" class=\"dataframe\">\n",
       "  <thead>\n",
       "    <tr style=\"text-align: right;\">\n",
       "      <th></th>\n",
       "      <th>R&amp;D Spend</th>\n",
       "      <th>Administration</th>\n",
       "      <th>Marketing Spend</th>\n",
       "      <th>State</th>\n",
       "      <th>Profit</th>\n",
       "    </tr>\n",
       "  </thead>\n",
       "  <tbody>\n",
       "    <tr>\n",
       "      <th>0</th>\n",
       "      <td>165349.20</td>\n",
       "      <td>136897.80</td>\n",
       "      <td>471784.10</td>\n",
       "      <td>New York</td>\n",
       "      <td>192261.83</td>\n",
       "    </tr>\n",
       "    <tr>\n",
       "      <th>1</th>\n",
       "      <td>162597.70</td>\n",
       "      <td>151377.59</td>\n",
       "      <td>443898.53</td>\n",
       "      <td>California</td>\n",
       "      <td>191792.06</td>\n",
       "    </tr>\n",
       "    <tr>\n",
       "      <th>2</th>\n",
       "      <td>153441.51</td>\n",
       "      <td>101145.55</td>\n",
       "      <td>407934.54</td>\n",
       "      <td>Florida</td>\n",
       "      <td>191050.39</td>\n",
       "    </tr>\n",
       "    <tr>\n",
       "      <th>3</th>\n",
       "      <td>144372.41</td>\n",
       "      <td>118671.85</td>\n",
       "      <td>383199.62</td>\n",
       "      <td>New York</td>\n",
       "      <td>182901.99</td>\n",
       "    </tr>\n",
       "    <tr>\n",
       "      <th>4</th>\n",
       "      <td>142107.34</td>\n",
       "      <td>91391.77</td>\n",
       "      <td>366168.42</td>\n",
       "      <td>Florida</td>\n",
       "      <td>166187.94</td>\n",
       "    </tr>\n",
       "  </tbody>\n",
       "</table>\n",
       "</div>"
      ],
      "text/plain": [
       "   R&D Spend  Administration  Marketing Spend       State     Profit\n",
       "0  165349.20       136897.80        471784.10    New York  192261.83\n",
       "1  162597.70       151377.59        443898.53  California  191792.06\n",
       "2  153441.51       101145.55        407934.54     Florida  191050.39\n",
       "3  144372.41       118671.85        383199.62    New York  182901.99\n",
       "4  142107.34        91391.77        366168.42     Florida  166187.94"
      ]
     },
     "execution_count": 3,
     "metadata": {},
     "output_type": "execute_result"
    }
   ],
   "source": [
    "startupData.head()"
   ]
  },
  {
   "cell_type": "code",
   "execution_count": 11,
   "id": "24eb1c25",
   "metadata": {},
   "outputs": [],
   "source": [
    "#Seperate the data as features and label\n",
    "#Regression -- Sklearn expects your data (feature and label to be two dimensional)\n",
    "features = startupData.iloc[:,[0,1,2,3]].values\n",
    "label = startupData.iloc[:,[4]].values\n",
    "featureDF=pd.DataFrame(data=features, index=np.arange(len(features)),columns=[\"R&D Spend\",\"Administration\",\"Marketing Spend\",\"State\"])\n"
   ]
  },
  {
   "cell_type": "code",
   "execution_count": 12,
   "id": "f94029b4",
   "metadata": {},
   "outputs": [],
   "source": [
    "ct=make_column_transformer((OneHotEncoder(),[\"State\"]),remainder = 'passthrough')\n",
    "features = ct.fit_transform(featureDF)"
   ]
  },
  {
   "cell_type": "code",
   "execution_count": 13,
   "id": "dcffacda",
   "metadata": {},
   "outputs": [],
   "source": [
    "#Feature Selection -----= Feature Engineering\n",
    "#Selecting the best feature that impact the quality of the model"
   ]
  },
  {
   "cell_type": "markdown",
   "id": "909fa0e2",
   "metadata": {},
   "source": [
    "# Method1: Using RFE (Recursive Feature Elimination)"
   ]
  },
  {
   "cell_type": "code",
   "execution_count": 14,
   "id": "6e9b741a",
   "metadata": {},
   "outputs": [],
   "source": [
    "#Recursive Feature Elimination can be applied to the following algorithms\n",
    "#1. Based on Co-eff -----> Regression (LinearRegression, Support Vector Regression, \n",
    "#                        DecisionTreeRegression, RandomForestRegression)\n",
    "#2. Based on feature importance ---> Classification (DecisionTreeClassifier, RandomForestClassifier)\n",
    "\n",
    "#RFE expects your data to be NUMERIC\n",
    "#[1.0000000e+00, 0.0000000e+00, 0.0000000e+00, 0.0000000e+00,1.1698380e+05, 4.5173060e+04]\n",
    "# California   ,  Florida     ,  NY          , RDSpend      , Admin       , Mark\n",
    "\n",
    "#Steps to apply RFE\n",
    "# 1. Initalize the Algorithm \n",
    "# 2. Apply RFE on model\n",
    "# 3. Interpret feature with higher ranking"
   ]
  },
  {
   "cell_type": "code",
   "execution_count": 17,
   "id": "c9501ee0",
   "metadata": {},
   "outputs": [
    {
     "data": {
      "text/plain": [
       "RFE(estimator=LinearRegression())"
      ]
     },
     "execution_count": 17,
     "metadata": {},
     "output_type": "execute_result"
    }
   ],
   "source": [
    "model= LinearRegression()\n",
    "#Eliminating one feature per iteration\n",
    "selectFeatures=RFE(estimator=model,step=1)\n",
    "#Testing must be done with entire data and not train test split\n",
    "selectFeatures.fit(features,label)"
   ]
  },
  {
   "cell_type": "code",
   "execution_count": 19,
   "id": "e79c2a3c",
   "metadata": {},
   "outputs": [
    {
     "name": "stdout",
     "output_type": "stream",
     "text": [
      "[1 1 1 2 3 4]\n",
      "[ True  True  True False False False]\n"
     ]
    }
   ],
   "source": [
    "# 3. Interpret feature with higher ranking\n",
    "print(selectFeatures.ranking_)\n",
    "# Mark Spending has more effect according to RFE output\n",
    "print(selectFeatures.support_)\n",
    "# False means eleminate output i.e according to RFE if we select States as feture profit will be more i.e produce good model \n",
    "# California   ,  Florida     ,  NY          , RDSpend      , Admin       , Mark"
   ]
  },
  {
   "cell_type": "markdown",
   "id": "a0e83030",
   "metadata": {},
   "source": [
    "# Method 2 - Univariate Analysis using ANOVA"
   ]
  },
  {
   "cell_type": "code",
   "execution_count": 21,
   "id": "7edb8f21",
   "metadata": {},
   "outputs": [],
   "source": [
    "# 2. Checking Each Feature's Variance \n",
    "# Check ANOVA for any Supervised Learning algorithms\n",
    "#from sklearn.feature_selection import SelectPercentile\n",
    "#from sklearn.feature_selection import f_regression # -------> For Regression\n",
    "#from sklearn.feature_selection import f_classif ------->classification Algo"
   ]
  },
  {
   "cell_type": "code",
   "execution_count": 24,
   "id": "585c3aa9",
   "metadata": {},
   "outputs": [
    {
     "name": "stderr",
     "output_type": "stream",
     "text": [
      "/Users/subhasish/opt/anaconda3/envs/ML/lib/python3.9/site-packages/sklearn/utils/validation.py:63: DataConversionWarning: A column-vector y was passed when a 1d array was expected. Please change the shape of y to (n_samples, ), for example using ravel().\n",
      "  return f(*args, **kwargs)\n"
     ]
    }
   ],
   "source": [
    "#for classification: score_func=f_classif\n",
    "selectFeatures = SelectPercentile(percentile=50,score_func=f_regression)\n",
    "selectFeatures.fit(features,label)\n",
    "finalFeaturesANOVA = selectFeatures.transform(features)"
   ]
  },
  {
   "cell_type": "code",
   "execution_count": 26,
   "id": "0704445a",
   "metadata": {},
   "outputs": [
    {
     "name": "stdout",
     "output_type": "stream",
     "text": [
      "Total features (50, 6), After Anova (50, 3)\n",
      "[False False False  True  True  True]\n"
     ]
    }
   ],
   "source": [
    "print(\"Total features {}, After Anova {}\".format(features.shape,finalFeaturesANOVA.shape))\n",
    "print(selectFeatures.get_support())\n",
    "# California   ,  Florida     ,  NY          , RDSpend      , Admin       , Mark"
   ]
  },
  {
   "cell_type": "markdown",
   "id": "9ae5429e",
   "metadata": {},
   "source": [
    "# Method 3 - Select Features by Model"
   ]
  },
  {
   "cell_type": "code",
   "execution_count": 29,
   "id": "69ae0dc5",
   "metadata": {},
   "outputs": [],
   "source": [
    "#Model Tells which feture they are comfortable"
   ]
  },
  {
   "cell_type": "code",
   "execution_count": 28,
   "id": "e0ea6a0f",
   "metadata": {},
   "outputs": [
    {
     "data": {
      "text/plain": [
       "array([ True,  True,  True, False, False, False])"
      ]
     },
     "execution_count": 28,
     "metadata": {},
     "output_type": "execute_result"
    }
   ],
   "source": [
    "selectFeatures = SelectFromModel(model)\n",
    "\n",
    "selectFeatures.fit(features,label)\n",
    "\n",
    "selectFeatures.get_support()\n",
    "# California   ,  Florida     ,  NY          , RDSpend      , Admin       , Mark"
   ]
  },
  {
   "cell_type": "code",
   "execution_count": null,
   "id": "d9f1e37e",
   "metadata": {},
   "outputs": [],
   "source": []
  }
 ],
 "metadata": {
  "kernelspec": {
   "display_name": "Python 3",
   "language": "python",
   "name": "python3"
  },
  "language_info": {
   "codemirror_mode": {
    "name": "ipython",
    "version": 3
   },
   "file_extension": ".py",
   "mimetype": "text/x-python",
   "name": "python",
   "nbconvert_exporter": "python",
   "pygments_lexer": "ipython3",
   "version": "3.9.4"
  }
 },
 "nbformat": 4,
 "nbformat_minor": 5
}
