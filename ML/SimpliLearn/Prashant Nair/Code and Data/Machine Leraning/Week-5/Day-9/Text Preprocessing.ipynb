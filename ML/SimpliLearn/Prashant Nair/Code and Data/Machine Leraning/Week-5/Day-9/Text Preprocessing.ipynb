{
 "cells": [
  {
   "cell_type": "code",
   "execution_count": 1,
   "metadata": {},
   "outputs": [],
   "source": [
    "message = \"Welcom,e to Simplilearn ! Enjoy Learn,.ing ML and AI !\""
   ]
  },
  {
   "cell_type": "code",
   "execution_count": 2,
   "metadata": {},
   "outputs": [],
   "source": [
    "import string"
   ]
  },
  {
   "cell_type": "markdown",
   "metadata": {},
   "source": [
    "### Eliminate Punctuations"
   ]
  },
  {
   "cell_type": "code",
   "execution_count": 8,
   "metadata": {},
   "outputs": [
    {
     "data": {
      "text/plain": [
       "'Welcome to Simplilearn  Enjoy Learning ML and AI '"
      ]
     },
     "execution_count": 8,
     "metadata": {},
     "output_type": "execute_result"
    }
   ],
   "source": [
    "#Writing code to remove punctuations from the sentence\n",
    "#Traverse each character and compare the character to figure out whether the character is a punctuation or not\n",
    "\n",
    "finalChars = []\n",
    "for char in message:\n",
    "    if char not in string.punctuation:\n",
    "        finalChars.append(char)\n",
    "\n",
    "#Convert to sentence\n",
    "sentence = ''.join(finalChars)\n",
    "sentence"
   ]
  },
  {
   "cell_type": "code",
   "execution_count": 9,
   "metadata": {},
   "outputs": [
    {
     "data": {
      "text/plain": [
       "'Welcome to Simplilearn  Enjoy Learning ML and AI '"
      ]
     },
     "execution_count": 9,
     "metadata": {},
     "output_type": "execute_result"
    }
   ],
   "source": [
    "removePunctuation = [ char for char in message if char not in string.punctuation ]\n",
    "sentenceWithoutPunctuations = ''.join(removePunctuation)\n",
    "sentenceWithoutPunctuations"
   ]
  },
  {
   "cell_type": "markdown",
   "metadata": {},
   "source": [
    "### Remove Stopwords"
   ]
  },
  {
   "cell_type": "code",
   "execution_count": 10,
   "metadata": {},
   "outputs": [],
   "source": [
    "# NLTK package to remove stopwords\n",
    "# pip install nltk\n",
    "# Mandatory --> Download corpus nltk.download()"
   ]
  },
  {
   "cell_type": "code",
   "execution_count": 12,
   "metadata": {},
   "outputs": [
    {
     "name": "stdout",
     "output_type": "stream",
     "text": [
      "showing info https://raw.githubusercontent.com/nltk/nltk_data/gh-pages/index.xml\n"
     ]
    },
    {
     "data": {
      "text/plain": [
       "True"
      ]
     },
     "execution_count": 12,
     "metadata": {},
     "output_type": "execute_result"
    }
   ],
   "source": [
    "import nltk\n",
    "nltk.download()"
   ]
  },
  {
   "cell_type": "code",
   "execution_count": 14,
   "metadata": {},
   "outputs": [
    {
     "data": {
      "text/plain": [
       "['Welcome',\n",
       " 'to',\n",
       " 'Simplilearn',\n",
       " '',\n",
       " 'Enjoy',\n",
       " 'Learning',\n",
       " 'ML',\n",
       " 'and',\n",
       " 'AI',\n",
       " '']"
      ]
     },
     "execution_count": 14,
     "metadata": {},
     "output_type": "execute_result"
    }
   ],
   "source": [
    "from nltk.corpus import stopwords\n",
    "\n",
    "#Convert Sentences to words\n",
    "words = sentenceWithoutPunctuations.split(\" \")\n",
    "words"
   ]
  },
  {
   "cell_type": "code",
   "execution_count": 15,
   "metadata": {},
   "outputs": [
    {
     "data": {
      "text/plain": [
       "['Welcome', 'Simplilearn', '', 'Enjoy', 'Learning', 'ML', 'AI', '']"
      ]
     },
     "execution_count": 15,
     "metadata": {},
     "output_type": "execute_result"
    }
   ],
   "source": [
    "removeStopwords = [ word for word in words if word.lower() not in stopwords.words('english') ]\n",
    "removeStopwords"
   ]
  },
  {
   "cell_type": "code",
   "execution_count": 16,
   "metadata": {},
   "outputs": [],
   "source": [
    "# Reusable Function for text preprocessing\n",
    "import string\n",
    "from nltk.corpus import stopwords\n",
    "\n",
    "def textPreprocess(data):\n",
    "    #Remove Punctuations\n",
    "    removePunctuation = [ char for char in data if char not in string.punctuation ]\n",
    "    sentenceWithoutPunctuations = ''.join(removePunctuation)\n",
    "    #Convert Sentence to words\n",
    "    words = sentenceWithoutPunctuations.split(\" \")\n",
    "    #Remove Stopwords\n",
    "    removeStopwords = [ word for word in words if word.lower() not in stopwords.words('english') ]\n",
    "    return removeStopwords"
   ]
  },
  {
   "cell_type": "code",
   "execution_count": 17,
   "metadata": {},
   "outputs": [
    {
     "data": {
      "text/plain": [
       "['', 'bad', 'sentence']"
      ]
     },
     "execution_count": 17,
     "metadata": {},
     "output_type": "execute_result"
    }
   ],
   "source": [
    "textPreprocess(\"This is ! a bad, sentence\")"
   ]
  },
  {
   "cell_type": "code",
   "execution_count": null,
   "metadata": {},
   "outputs": [],
   "source": []
  }
 ],
 "metadata": {
  "kernelspec": {
   "display_name": "Python 3",
   "language": "python",
   "name": "python3"
  },
  "language_info": {
   "codemirror_mode": {
    "name": "ipython",
    "version": 3
   },
   "file_extension": ".py",
   "mimetype": "text/x-python",
   "name": "python",
   "nbconvert_exporter": "python",
   "pygments_lexer": "ipython3",
   "version": "3.6.4"
  }
 },
 "nbformat": 4,
 "nbformat_minor": 2
}
