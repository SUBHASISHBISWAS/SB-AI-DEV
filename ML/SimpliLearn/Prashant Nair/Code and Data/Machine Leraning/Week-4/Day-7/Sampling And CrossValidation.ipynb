{
 "cells": [
  {
   "cell_type": "code",
   "execution_count": 1,
   "metadata": {},
   "outputs": [],
   "source": [
    "import numpy as np\n",
    "import pandas as pd"
   ]
  },
  {
   "cell_type": "code",
   "execution_count": 2,
   "metadata": {},
   "outputs": [],
   "source": [
    "irisData = pd.read_csv('https://raw.githubusercontent.com/uiuc-cse/data-fa14/gh-pages/data/iris.csv')"
   ]
  },
  {
   "cell_type": "code",
   "execution_count": 3,
   "metadata": {},
   "outputs": [
    {
     "name": "stdout",
     "output_type": "stream",
     "text": [
      "<class 'pandas.core.frame.DataFrame'>\n",
      "RangeIndex: 150 entries, 0 to 149\n",
      "Data columns (total 5 columns):\n",
      "sepal_length    150 non-null float64\n",
      "sepal_width     150 non-null float64\n",
      "petal_length    150 non-null float64\n",
      "petal_width     150 non-null float64\n",
      "species         150 non-null object\n",
      "dtypes: float64(4), object(1)\n",
      "memory usage: 5.9+ KB\n"
     ]
    }
   ],
   "source": [
    "irisData.info()"
   ]
  },
  {
   "cell_type": "code",
   "execution_count": 4,
   "metadata": {},
   "outputs": [],
   "source": [
    "features = irisData.iloc[:,0:4].values\n",
    "label = irisData.iloc[:,4].values"
   ]
  },
  {
   "cell_type": "code",
   "execution_count": 24,
   "metadata": {},
   "outputs": [],
   "source": [
    "#KNN\n",
    "from sklearn.neighbors import KNeighborsClassifier\n",
    "model = KNeighborsClassifier() #n_neighbours = 5"
   ]
  },
  {
   "cell_type": "code",
   "execution_count": 21,
   "metadata": {},
   "outputs": [],
   "source": [
    "# 1. Cross Validation Score\n",
    "#\n",
    "# Getting an idea of what can be the best possible score I can achieve for the given dataset\n",
    "# with respect to the selected algo\n",
    "#\n",
    "#\n",
    "from sklearn.model_selection import cross_val_score\n",
    "cvResult = cross_val_score(model,\n",
    "               features,\n",
    "               label,\n",
    "               cv = 10)"
   ]
  },
  {
   "cell_type": "code",
   "execution_count": 22,
   "metadata": {},
   "outputs": [
    {
     "data": {
      "text/plain": [
       "array([1.        , 0.93333333, 1.        , 1.        , 0.86666667,\n",
       "       0.93333333, 0.93333333, 1.        , 1.        , 1.        ])"
      ]
     },
     "execution_count": 22,
     "metadata": {},
     "output_type": "execute_result"
    }
   ],
   "source": [
    "cvResult"
   ]
  },
  {
   "cell_type": "code",
   "execution_count": 23,
   "metadata": {},
   "outputs": [
    {
     "data": {
      "text/plain": [
       "0.9666666666666668"
      ]
     },
     "execution_count": 23,
     "metadata": {},
     "output_type": "execute_result"
    }
   ],
   "source": [
    "cvResult.mean()"
   ]
  },
  {
   "cell_type": "code",
   "execution_count": null,
   "metadata": {},
   "outputs": [],
   "source": [
    "# We have assigned ourself a benchmark stating our model must have accuracy >= 96%"
   ]
  },
  {
   "cell_type": "code",
   "execution_count": 17,
   "metadata": {},
   "outputs": [],
   "source": [
    "# K-Fold Cross Validation\n",
    "# To get the training and testing set such that I can have accuracy >= my benchmark(96%)\n",
    "#\n",
    "#\n"
   ]
  },
  {
   "cell_type": "code",
   "execution_count": 25,
   "metadata": {},
   "outputs": [
    {
     "name": "stdout",
     "output_type": "stream",
     "text": [
      "Testing Score: 1.0 Training Score: 0.9629629629629629 for Sample Split : 1 \n",
      "Testing Score: 1.0 Training Score: 0.9629629629629629 for Sample Split : 2 \n",
      "Testing Score: 0.9333333333333333 Training Score: 0.9703703703703703 for Sample Split : 3 \n",
      "Testing Score: 1.0 Training Score: 0.9629629629629629 for Sample Split : 4 \n",
      "Testing Score: 0.9333333333333333 Training Score: 0.9629629629629629 for Sample Split : 5 \n",
      "Testing Score: 0.9333333333333333 Training Score: 0.9851851851851852 for Sample Split : 6 \n",
      "Testing Score: 1.0 Training Score: 0.9629629629629629 for Sample Split : 7 \n",
      "Testing Score: 0.8666666666666667 Training Score: 0.9777777777777777 for Sample Split : 8 \n",
      "Testing Score: 1.0 Training Score: 0.9629629629629629 for Sample Split : 9 \n",
      "Testing Score: 0.9333333333333333 Training Score: 0.9777777777777777 for Sample Split : 10 \n"
     ]
    }
   ],
   "source": [
    "from sklearn.model_selection import KFold\n",
    "kfold = KFold(n_splits = 10,\n",
    "             shuffle = True,\n",
    "             random_state = 1)\n",
    "\n",
    "i = 0\n",
    "for train,test in kfold.split(features):\n",
    "    i=i+1\n",
    "    X_train,X_test = features[train],features[test]\n",
    "    y_train,y_test = label[train],label[test]\n",
    "    model.fit(X_train,y_train)\n",
    "    \n",
    "    print('Testing Score: {} Training Score: {} for Sample Split : {} '\n",
    "          .format(model.score(X_test,y_test),model.score(X_train,y_train),i))"
   ]
  },
  {
   "cell_type": "code",
   "execution_count": 26,
   "metadata": {},
   "outputs": [],
   "source": [
    "from sklearn.model_selection import KFold\n",
    "kfold = KFold(n_splits = 10,\n",
    "             shuffle = True,\n",
    "             random_state = 1)\n",
    "\n",
    "i = 0 \n",
    "for train,test in kfold.split(features):\n",
    "    i = i + 1\n",
    "    if i == 1:\n",
    "        X_train_final,X_test_final,y_train_final,y_test_final = features[train],features[test],label[train],label[test]"
   ]
  },
  {
   "cell_type": "code",
   "execution_count": 31,
   "metadata": {},
   "outputs": [
    {
     "data": {
      "text/plain": [
       "KNeighborsClassifier(algorithm='auto', leaf_size=30, metric='minkowski',\n",
       "           metric_params=None, n_jobs=1, n_neighbors=5, p=2,\n",
       "           weights='uniform')"
      ]
     },
     "execution_count": 31,
     "metadata": {},
     "output_type": "execute_result"
    }
   ],
   "source": [
    "#Final Model\n",
    "from sklearn.neighbors import KNeighborsClassifier\n",
    "finalModel = KNeighborsClassifier()\n",
    "finalModel.fit(X_train_final,y_train_final)"
   ]
  },
  {
   "cell_type": "code",
   "execution_count": 32,
   "metadata": {},
   "outputs": [
    {
     "data": {
      "text/plain": [
       "0.9629629629629629"
      ]
     },
     "execution_count": 32,
     "metadata": {},
     "output_type": "execute_result"
    }
   ],
   "source": [
    "finalModel.score(X_train_final,y_train_final)"
   ]
  },
  {
   "cell_type": "code",
   "execution_count": 33,
   "metadata": {},
   "outputs": [
    {
     "data": {
      "text/plain": [
       "1.0"
      ]
     },
     "execution_count": 33,
     "metadata": {},
     "output_type": "execute_result"
    }
   ],
   "source": [
    "finalModel.score(X_test_final,y_test_final)"
   ]
  },
  {
   "cell_type": "code",
   "execution_count": 37,
   "metadata": {},
   "outputs": [
    {
     "name": "stdout",
     "output_type": "stream",
     "text": [
      "Testing Score: 0.9777777777777777 Training Score: 0.9809523809523809 for Sample Split : 1 \n",
      "Testing Score: 0.9555555555555556 Training Score: 0.9809523809523809 for Sample Split : 2 \n",
      "Testing Score: 0.9333333333333333 Training Score: 0.9904761904761905 for Sample Split : 3 \n",
      "Testing Score: 0.9555555555555556 Training Score: 0.9619047619047619 for Sample Split : 4 \n",
      "Testing Score: 0.9555555555555556 Training Score: 0.9714285714285714 for Sample Split : 5 \n",
      "Testing Score: 0.9555555555555556 Training Score: 0.9904761904761905 for Sample Split : 6 \n",
      "Testing Score: 0.9555555555555556 Training Score: 0.9714285714285714 for Sample Split : 7 \n",
      "Testing Score: 0.9777777777777777 Training Score: 0.9523809523809523 for Sample Split : 8 \n",
      "Testing Score: 0.9555555555555556 Training Score: 0.9809523809523809 for Sample Split : 9 \n",
      "Testing Score: 0.9555555555555556 Training Score: 0.9809523809523809 for Sample Split : 10 \n"
     ]
    }
   ],
   "source": [
    "# StratifiedShuffleSplit\n",
    "from sklearn.model_selection import StratifiedShuffleSplit\n",
    "sss = StratifiedShuffleSplit(n_splits=10,\n",
    "                             test_size=0.3,\n",
    "                             random_state=1)\n",
    "\n",
    "i = 0\n",
    "for train,test in sss.split(features,label):\n",
    "    i=i+1\n",
    "    X_train,X_test = features[train],features[test]\n",
    "    y_train,y_test = label[train],label[test]\n",
    "    model.fit(X_train,y_train)\n",
    "    \n",
    "    print('Testing Score: {} Training Score: {} for Sample Split : {} '\n",
    "          .format(model.score(X_test,y_test),model.score(X_train,y_train),i))\n",
    "                             "
   ]
  },
  {
   "cell_type": "code",
   "execution_count": 38,
   "metadata": {},
   "outputs": [],
   "source": [
    "i = 0 \n",
    "for train,test in sss.split(features,label):\n",
    "    i = i + 1\n",
    "    if i == 8:\n",
    "        X_train_final_sss,X_test_final_sss,y_train_final_sss,y_test_final_sss = features[train],features[test],label[train],label[test]"
   ]
  },
  {
   "cell_type": "code",
   "execution_count": 39,
   "metadata": {},
   "outputs": [
    {
     "data": {
      "text/plain": [
       "KNeighborsClassifier(algorithm='auto', leaf_size=30, metric='minkowski',\n",
       "           metric_params=None, n_jobs=1, n_neighbors=5, p=2,\n",
       "           weights='uniform')"
      ]
     },
     "execution_count": 39,
     "metadata": {},
     "output_type": "execute_result"
    }
   ],
   "source": [
    "finalModelSSS = KNeighborsClassifier()\n",
    "finalModelSSS.fit(X_train_final_sss,y_train_final_sss)"
   ]
  },
  {
   "cell_type": "code",
   "execution_count": 40,
   "metadata": {},
   "outputs": [
    {
     "data": {
      "text/plain": [
       "0.9523809523809523"
      ]
     },
     "execution_count": 40,
     "metadata": {},
     "output_type": "execute_result"
    }
   ],
   "source": [
    "finalModelSSS.score(X_train_final_sss,y_train_final_sss)"
   ]
  },
  {
   "cell_type": "code",
   "execution_count": 41,
   "metadata": {},
   "outputs": [
    {
     "data": {
      "text/plain": [
       "0.9777777777777777"
      ]
     },
     "execution_count": 41,
     "metadata": {},
     "output_type": "execute_result"
    }
   ],
   "source": [
    "finalModelSSS.score(X_test_final_sss,y_test_final_sss)"
   ]
  },
  {
   "cell_type": "code",
   "execution_count": 42,
   "metadata": {},
   "outputs": [
    {
     "data": {
      "text/plain": [
       "(105, 4)"
      ]
     },
     "execution_count": 42,
     "metadata": {},
     "output_type": "execute_result"
    }
   ],
   "source": [
    "X_train_final_sss.shape"
   ]
  },
  {
   "cell_type": "code",
   "execution_count": 43,
   "metadata": {},
   "outputs": [
    {
     "data": {
      "text/plain": [
       "(45, 4)"
      ]
     },
     "execution_count": 43,
     "metadata": {},
     "output_type": "execute_result"
    }
   ],
   "source": [
    "X_test_final_sss.shape"
   ]
  },
  {
   "cell_type": "code",
   "execution_count": 44,
   "metadata": {},
   "outputs": [
    {
     "data": {
      "text/plain": [
       "(135, 4)"
      ]
     },
     "execution_count": 44,
     "metadata": {},
     "output_type": "execute_result"
    }
   ],
   "source": [
    "X_train_final.shape"
   ]
  },
  {
   "cell_type": "code",
   "execution_count": 45,
   "metadata": {},
   "outputs": [
    {
     "data": {
      "text/plain": [
       "(15, 4)"
      ]
     },
     "execution_count": 45,
     "metadata": {},
     "output_type": "execute_result"
    }
   ],
   "source": [
    "X_test_final.shape"
   ]
  },
  {
   "cell_type": "code",
   "execution_count": null,
   "metadata": {},
   "outputs": [],
   "source": []
  }
 ],
 "metadata": {
  "kernelspec": {
   "display_name": "Python 3",
   "language": "python",
   "name": "python3"
  },
  "language_info": {
   "codemirror_mode": {
    "name": "ipython",
    "version": 3
   },
   "file_extension": ".py",
   "mimetype": "text/x-python",
   "name": "python",
   "nbconvert_exporter": "python",
   "pygments_lexer": "ipython3",
   "version": "3.6.4"
  }
 },
 "nbformat": 4,
 "nbformat_minor": 2
}
