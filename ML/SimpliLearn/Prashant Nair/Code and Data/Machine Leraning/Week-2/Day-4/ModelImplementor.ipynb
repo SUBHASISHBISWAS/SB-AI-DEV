{
 "cells": [
  {
   "cell_type": "code",
   "execution_count": 1,
   "metadata": {},
   "outputs": [],
   "source": [
    "import numpy as np\n",
    "import pickle"
   ]
  },
  {
   "cell_type": "code",
   "execution_count": 2,
   "metadata": {},
   "outputs": [],
   "source": [
    "#Initializing relevant objects\n",
    "countryEncoder = pickle.load(open('CountryEncoder.object','rb'))\n",
    "countryOHE = pickle.load(open('CountryOHE.object','rb'))\n",
    "model = pickle.load(open('ProfitPredictor.model','rb'))"
   ]
  },
  {
   "cell_type": "code",
   "execution_count": 4,
   "metadata": {},
   "outputs": [
    {
     "name": "stdout",
     "output_type": "stream",
     "text": [
      "Enter R&D Spend: 1234\n",
      "Enter Admin Spend: 1234\n",
      "Enter Marketing Spend: 1234\n",
      "Enter State: California\n",
      "Profit Expected is [[51086.24726672]]\n"
     ]
    }
   ],
   "source": [
    "rdSpend= float(input(\"Enter R&D Spend: \"))\n",
    "admin = float(input(\"Enter Admin Spend: \"))\n",
    "markg = float(input(\"Enter Marketing Spend: \"))\n",
    "state = input(\"Enter State: \")\n",
    "\n",
    "if state in countryEncoder.classes_:\n",
    "    #Feature before Dummy Varible\n",
    "    featureBeforeDV = np.array([[rdSpend,admin,markg,state]])\n",
    "    #Feature with DummyVariable\n",
    "    featureBeforeDV[:,3] = countryEncoder.transform(featureBeforeDV[:,3])\n",
    "    featureBeforeDV = countryOHE.transform(featureBeforeDV).toarray()\n",
    "    #Prediction\n",
    "    print(\"Profit Expected is {}\".format(model.predict(featureBeforeDV)))\n",
    "else:\n",
    "    print(\"Model don't know about {}\".format(state))"
   ]
  },
  {
   "cell_type": "code",
   "execution_count": null,
   "metadata": {},
   "outputs": [],
   "source": []
  }
 ],
 "metadata": {
  "kernelspec": {
   "display_name": "Python 3",
   "language": "python",
   "name": "python3"
  },
  "language_info": {
   "codemirror_mode": {
    "name": "ipython",
    "version": 3
   },
   "file_extension": ".py",
   "mimetype": "text/x-python",
   "name": "python",
   "nbconvert_exporter": "python",
   "pygments_lexer": "ipython3",
   "version": "3.6.4"
  }
 },
 "nbformat": 4,
 "nbformat_minor": 2
}
