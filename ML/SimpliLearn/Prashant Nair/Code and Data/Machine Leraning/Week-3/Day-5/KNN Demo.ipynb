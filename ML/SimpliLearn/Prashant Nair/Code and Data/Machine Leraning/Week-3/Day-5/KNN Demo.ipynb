{
 "cells": [
  {
   "cell_type": "code",
   "execution_count": 2,
   "metadata": {},
   "outputs": [],
   "source": [
    "import numpy as np\n",
    "import pandas as pd"
   ]
  },
  {
   "cell_type": "code",
   "execution_count": 3,
   "metadata": {},
   "outputs": [],
   "source": [
    "shoppingData = pd.read_csv('Social_Network_Ads.csv')"
   ]
  },
  {
   "cell_type": "code",
   "execution_count": 7,
   "metadata": {},
   "outputs": [
    {
     "name": "stdout",
     "output_type": "stream",
     "text": [
      "<class 'pandas.core.frame.DataFrame'>\n",
      "RangeIndex: 400 entries, 0 to 399\n",
      "Data columns (total 5 columns):\n",
      "User ID            400 non-null int64\n",
      "Gender             400 non-null object\n",
      "Age                400 non-null int64\n",
      "EstimatedSalary    400 non-null int64\n",
      "Purchased          400 non-null int64\n",
      "dtypes: int64(4), object(1)\n",
      "memory usage: 15.7+ KB\n"
     ]
    }
   ],
   "source": [
    "shoppingData.info()"
   ]
  },
  {
   "cell_type": "code",
   "execution_count": 13,
   "metadata": {},
   "outputs": [
    {
     "data": {
      "image/png": "[encoded data removed]",
      "text/plain": [
       "<Figure size 276.25x216 with 1 Axes>"
      ]
     },
     "metadata": {},
     "output_type": "display_data"
    }
   ],
   "source": [
    "import seaborn as sns\n",
    "%matplotlib inline\n",
    "g = sns.FacetGrid(shoppingData, hue=\"Purchased\")\n",
    "g = (g.map(plt.scatter,\"Age\",\"EstimatedSalary\", edgecolor = \"w\").add_legend())\n"
   ]
  },
  {
   "cell_type": "code",
   "execution_count": 19,
   "metadata": {},
   "outputs": [],
   "source": [
    "#Seperate my data is features and label\n",
    "#Rule of Classification specific to SKLEARN\n",
    "#Features ---> 2d\n",
    "#Label ------> 1d\n",
    "\n",
    "features = shoppingData.iloc[:,[2,3]].values\n",
    "label = shoppingData.iloc[:,4].values"
   ]
  },
  {
   "cell_type": "code",
   "execution_count": 47,
   "metadata": {},
   "outputs": [
    {
     "name": "stdout",
     "output_type": "stream",
     "text": [
      "Testing 0.8125  Training 0.796875  Random State 3\n",
      "Testing 0.85  Training 0.8  Random State 4\n",
      "Testing 0.8625  Training 0.790625  Random State 6\n",
      "Testing 0.8125  Training 0.8  Random State 8\n",
      "Testing 0.825  Training 0.803125  Random State 10\n",
      "Testing 0.8125  Training 0.803125  Random State 15\n",
      "Testing 0.85  Training 0.796875  Random State 17\n",
      "Testing 0.875  Training 0.825  Random State 21\n",
      "Testing 0.875  Training 0.790625  Random State 24\n",
      "Testing 0.8125  Training 0.79375  Random State 25\n",
      "Testing 0.85  Training 0.83125  Random State 26\n",
      "Testing 0.825  Training 0.809375  Random State 35\n",
      "Testing 0.8625  Training 0.803125  Random State 40\n",
      "Testing 0.8375  Training 0.790625  Random State 44\n",
      "Testing 0.85  Training 0.8125  Random State 46\n",
      "Testing 0.8125  Training 0.809375  Random State 57\n",
      "Testing 0.8125  Training 0.809375  Random State 58\n",
      "Testing 0.8375  Training 0.815625  Random State 60\n",
      "Testing 0.8125  Training 0.79375  Random State 62\n",
      "Testing 0.8125  Training 0.7875  Random State 68\n",
      "Testing 0.8  Training 0.7875  Random State 70\n",
      "Testing 0.85  Training 0.784375  Random State 76\n",
      "Testing 0.825  Training 0.80625  Random State 79\n",
      "Testing 0.85  Training 0.81875  Random State 81\n",
      "Testing 0.825  Training 0.81875  Random State 84\n",
      "Testing 0.8375  Training 0.790625  Random State 87\n",
      "Testing 0.825  Training 0.815625  Random State 88\n",
      "Testing 0.85  Training 0.790625  Random State 97\n",
      "Testing 0.8125  Training 0.80625  Random State 101\n",
      "Testing 0.8125  Training 0.809375  Random State 102\n",
      "Testing 0.8625  Training 0.803125  Random State 103\n",
      "Testing 0.8  Training 0.79375  Random State 104\n",
      "Testing 0.8  Training 0.796875  Random State 107\n",
      "Testing 0.825  Training 0.821875  Random State 112\n",
      "Testing 0.85  Training 0.8125  Random State 114\n",
      "Testing 0.8625  Training 0.784375  Random State 116\n",
      "Testing 0.875  Training 0.815625  Random State 121\n",
      "Testing 0.85  Training 0.81875  Random State 122\n",
      "Testing 0.8125  Training 0.803125  Random State 124\n",
      "Testing 0.875  Training 0.80625  Random State 125\n",
      "Testing 0.8125  Training 0.7875  Random State 128\n",
      "Testing 0.8375  Training 0.803125  Random State 130\n",
      "Testing 0.8375  Training 0.834375  Random State 133\n",
      "Testing 0.8125  Training 0.809375  Random State 134\n",
      "Testing 0.825  Training 0.784375  Random State 136\n",
      "Testing 0.825  Training 0.815625  Random State 137\n",
      "Testing 0.8875  Training 0.815625  Random State 142\n",
      "Testing 0.8375  Training 0.821875  Random State 145\n",
      "Testing 0.8125  Training 0.80625  Random State 146\n",
      "Testing 0.8125  Training 0.8  Random State 149\n",
      "Testing 0.8375  Training 0.81875  Random State 152\n",
      "Testing 0.825  Training 0.81875  Random State 154\n",
      "Testing 0.85  Training 0.803125  Random State 159\n",
      "Testing 0.85  Training 0.81875  Random State 161\n",
      "Testing 0.8375  Training 0.834375  Random State 164\n",
      "Testing 0.8125  Training 0.809375  Random State 169\n",
      "Testing 0.8125  Training 0.8  Random State 178\n",
      "Testing 0.825  Training 0.80625  Random State 179\n",
      "Testing 0.825  Training 0.821875  Random State 189\n",
      "Testing 0.8625  Training 0.8  Random State 192\n",
      "Testing 0.8375  Training 0.80625  Random State 195\n",
      "Testing 0.8375  Training 0.8125  Random State 199\n",
      "Testing 0.8625  Training 0.815625  Random State 202\n",
      "Testing 0.85  Training 0.7875  Random State 203\n",
      "Testing 0.85  Training 0.81875  Random State 204\n",
      "Testing 0.825  Training 0.809375  Random State 206\n",
      "Testing 0.8625  Training 0.828125  Random State 207\n",
      "Testing 0.8375  Training 0.803125  Random State 211\n",
      "Testing 0.875  Training 0.80625  Random State 220\n",
      "Testing 0.8375  Training 0.825  Random State 221\n",
      "Testing 0.825  Training 0.81875  Random State 225\n",
      "Testing 0.8875  Training 0.796875  Random State 228\n",
      "Testing 0.8125  Training 0.80625  Random State 230\n",
      "Testing 0.8125  Training 0.796875  Random State 231\n",
      "Testing 0.8375  Training 0.83125  Random State 233\n",
      "Testing 0.8125  Training 0.796875  Random State 235\n",
      "Testing 0.8125  Training 0.8  Random State 241\n",
      "Testing 0.85  Training 0.828125  Random State 242\n",
      "Testing 0.8125  Training 0.8  Random State 245\n",
      "Testing 0.85  Training 0.815625  Random State 247\n",
      "Testing 0.8125  Training 0.80625  Random State 248\n",
      "Testing 0.85  Training 0.828125  Random State 249\n",
      "Testing 0.8125  Training 0.809375  Random State 251\n",
      "Testing 0.8375  Training 0.821875  Random State 257\n",
      "Testing 0.825  Training 0.8  Random State 261\n",
      "Testing 0.8125  Training 0.803125  Random State 264\n",
      "Testing 0.8125  Training 0.796875  Random State 269\n",
      "Testing 0.8375  Training 0.8125  Random State 272\n",
      "Testing 0.875  Training 0.809375  Random State 277\n",
      "Testing 0.825  Training 0.8125  Random State 278\n",
      "Testing 0.85  Training 0.803125  Random State 279\n",
      "Testing 0.8375  Training 0.809375  Random State 281\n",
      "Testing 0.825  Training 0.79375  Random State 282\n",
      "Testing 0.8375  Training 0.79375  Random State 284\n",
      "Testing 0.825  Training 0.8  Random State 290\n",
      "Testing 0.85  Training 0.7875  Random State 292\n",
      "Testing 0.825  Training 0.796875  Random State 299\n",
      "Testing 0.875  Training 0.815625  Random State 302\n",
      "Testing 0.85  Training 0.79375  Random State 303\n",
      "Testing 0.8625  Training 0.803125  Random State 305\n",
      "Testing 0.825  Training 0.80625  Random State 306\n",
      "Testing 0.8375  Training 0.83125  Random State 311\n",
      "Testing 0.825  Training 0.8  Random State 313\n",
      "Testing 0.825  Training 0.796875  Random State 314\n",
      "Testing 0.8375  Training 0.809375  Random State 318\n",
      "Testing 0.8625  Training 0.821875  Random State 323\n",
      "Testing 0.85  Training 0.8125  Random State 326\n",
      "Testing 0.8625  Training 0.815625  Random State 327\n",
      "Testing 0.8625  Training 0.80625  Random State 328\n",
      "Testing 0.8125  Training 0.803125  Random State 332\n",
      "Testing 0.85  Training 0.790625  Random State 336\n",
      "Testing 0.8375  Training 0.815625  Random State 339\n",
      "Testing 0.8125  Training 0.80625  Random State 343\n",
      "Testing 0.8375  Training 0.825  Random State 344\n",
      "Testing 0.8125  Training 0.80625  Random State 346\n",
      "Testing 0.85  Training 0.784375  Random State 347\n",
      "Testing 0.825  Training 0.80625  Random State 348\n",
      "Testing 0.8125  Training 0.803125  Random State 350\n",
      "Testing 0.8625  Training 0.8  Random State 351\n",
      "Testing 0.8375  Training 0.80625  Random State 352\n",
      "Testing 0.8375  Training 0.7875  Random State 360\n",
      "Testing 0.8375  Training 0.796875  Random State 361\n",
      "Testing 0.825  Training 0.79375  Random State 365\n",
      "Testing 0.85  Training 0.825  Random State 371\n",
      "Testing 0.85  Training 0.825  Random State 375\n",
      "Testing 0.8125  Training 0.803125  Random State 376\n",
      "Testing 0.85  Training 0.8125  Random State 377\n",
      "Testing 0.875  Training 0.79375  Random State 378\n",
      "Testing 0.85  Training 0.8375  Random State 379\n",
      "Testing 0.8625  Training 0.821875  Random State 380\n",
      "Testing 0.8625  Training 0.8125  Random State 381\n",
      "Testing 0.825  Training 0.809375  Random State 385\n",
      "Testing 0.85  Training 0.821875  Random State 386\n",
      "Testing 0.9  Training 0.828125  Random State 388\n",
      "Testing 0.85  Training 0.80625  Random State 392\n",
      "Testing 0.85  Training 0.840625  Random State 393\n",
      "Testing 0.8125  Training 0.8  Random State 400\n"
     ]
    }
   ],
   "source": [
    "#Get the best random_state for generalized model\n",
    "from sklearn.model_selection import train_test_split\n",
    "from sklearn.neighbors import KNeighborsClassifier\n",
    "for i in range(1,401):\n",
    "    \n",
    "    X_train,X_test,y_train,y_test = train_test_split(features,\n",
    "                                                label,\n",
    "                                                test_size=0.2,\n",
    "                                                random_state=i)\n",
    "    model = KNeighborsClassifier(n_neighbors=20)\n",
    "    model.fit(X_train,y_train)\n",
    "    \n",
    "    train_score = model.score(X_train,y_train)\n",
    "    test_score = model.score(X_test,y_test)\n",
    "    \n",
    "    if test_score > train_score:\n",
    "        print(\"Testing {}  Training {}  Random State {}\".format(test_score,train_score,i))"
   ]
  },
  {
   "cell_type": "code",
   "execution_count": 40,
   "metadata": {},
   "outputs": [],
   "source": [
    "#Split the data as training set and testing set --- 80-20\n",
    "from sklearn.model_selection import train_test_split\n",
    "X_train,X_test,y_train,y_test = train_test_split(features,\n",
    "                                                label,\n",
    "                                                test_size=0.2,\n",
    "                                                random_state=4)"
   ]
  },
  {
   "cell_type": "code",
   "execution_count": 41,
   "metadata": {},
   "outputs": [
    {
     "data": {
      "text/plain": [
       "KNeighborsClassifier(algorithm='auto', leaf_size=30, metric='minkowski',\n",
       "           metric_params=None, n_jobs=1, n_neighbors=5, p=2,\n",
       "           weights='uniform')"
      ]
     },
     "execution_count": 41,
     "metadata": {},
     "output_type": "execute_result"
    }
   ],
   "source": [
    "#Train the model\n",
    "from sklearn.neighbors import KNeighborsClassifier\n",
    "model = KNeighborsClassifier()\n",
    "model.fit(X_train,y_train)"
   ]
  },
  {
   "cell_type": "code",
   "execution_count": 42,
   "metadata": {},
   "outputs": [
    {
     "data": {
      "text/plain": [
       "0.859375"
      ]
     },
     "execution_count": 42,
     "metadata": {},
     "output_type": "execute_result"
    }
   ],
   "source": [
    "model.score(X_train,y_train)"
   ]
  },
  {
   "cell_type": "code",
   "execution_count": 43,
   "metadata": {},
   "outputs": [
    {
     "data": {
      "text/plain": [
       "0.8"
      ]
     },
     "execution_count": 43,
     "metadata": {},
     "output_type": "execute_result"
    }
   ],
   "source": [
    "model.score(X_test,y_test)"
   ]
  },
  {
   "cell_type": "code",
   "execution_count": 46,
   "metadata": {},
   "outputs": [
    {
     "data": {
      "text/plain": [
       "20.0"
      ]
     },
     "execution_count": 46,
     "metadata": {},
     "output_type": "execute_result"
    }
   ],
   "source": [
    "np.sqrt(400)"
   ]
  },
  {
   "cell_type": "code",
   "execution_count": null,
   "metadata": {},
   "outputs": [],
   "source": []
  }
 ],
 "metadata": {
  "kernelspec": {
   "display_name": "Python 3",
   "language": "python",
   "name": "python3"
  },
  "language_info": {
   "codemirror_mode": {
    "name": "ipython",
    "version": 3
   },
   "file_extension": ".py",
   "mimetype": "text/x-python",
   "name": "python",
   "nbconvert_exporter": "python",
   "pygments_lexer": "ipython3",
   "version": "3.7.3"
  }
 },
 "nbformat": 4,
 "nbformat_minor": 2
}
