{
 "cells": [
  {
   "cell_type": "markdown",
   "metadata": {},
   "source": [
    "# Deep Learning Project: Pet Classifier using CNN\n",
    "\n",
    "Prepration\n",
    "- Extract the ipynb file and the data in the same folder\n",
    "\n",
    "Data Set\n",
    "- A production grade program as 10,000 training images\n",
    "- This is a small program with 20 images of cats and 20 images of dogs. \n",
    "- The evaluation set has 10 images of cats and 10 images of dogs\n",
    "\n",
    "Runs\n",
    "- The student is expected to run the 100-300 training step\n",
    "- A production grade code would have about 20k-50k training steps"
   ]
  },
  {
   "cell_type": "markdown",
   "metadata": {},
   "source": [
    "### Import modules"
   ]
  },
  {
   "cell_type": "code",
   "execution_count": 1,
   "metadata": {
    "collapsed": true
   },
   "outputs": [],
   "source": [
    "from __future__ import absolute_import\n",
    "from __future__ import division\n",
    "from __future__ import print_function\n",
    "import os\n",
    "import cv2\n",
    "import glob\n",
    "import matplotlib.pyplot as plt\n",
    "import numpy as np\n",
    "import tensorflow as tf\n",
    "import random\n",
    "import sys\n",
    "\n",
    "# To support both python 2 and python 3\n",
    "from __future__ import division, print_function, unicode_literals\n",
    "\n",
    "# to make this notebook's output stable across runs\n",
    "def reset_graph(seed=42):\n",
    "    tf.reset_default_graph()\n",
    "    tf.set_random_seed(seed)\n",
    "    np.random.seed(seed)"
   ]
  },
  {
   "cell_type": "markdown",
   "metadata": {},
   "source": [
    "### Set hyper parameters\n",
    "- Run the program with three num_steps : 100,200,300"
   ]
  },
  {
   "cell_type": "code",
   "execution_count": 2,
   "metadata": {
    "collapsed": true
   },
   "outputs": [],
   "source": [
    "reset_graph()\n",
    "\n",
    "img_size = 32\n",
    "num_channels = 3\n",
    "img_size_flat = img_size * img_size * num_channels\n",
    "img_shape = (img_size, img_size)\n",
    "trainpath='./data/train'\n",
    "testpath='./data/test'\n",
    "labels = {'cats': 0, 'dogs': 1}\n",
    "fc_size=32 #size of the output of final FC layer\n",
    "num_steps=300 #Try 100, 200, 300. number of steps that training data should be looped. Usually 20K\n",
    "tf.logging.set_verbosity(tf.logging.INFO)"
   ]
  },
  {
   "cell_type": "markdown",
   "metadata": {},
   "source": [
    "### Read the image dataset"
   ]
  },
  {
   "cell_type": "code",
   "execution_count": 3,
   "metadata": {},
   "outputs": [
    {
     "name": "stdout",
     "output_type": "stream",
     "text": [
      "length of train image set 40\n",
      "X_data shape: (40, 32, 32, 3)\n",
      "y_data shape: (40,)\n"
     ]
    },
    {
     "data": {
      "image/png": "[encoded data removed]",
      "text/plain": [
       "<matplotlib.figure.Figure at 0x4da619e940>"
      ]
     },
     "metadata": {},
     "output_type": "display_data"
    }
   ],
   "source": [
    "def read_images_classes(basepath,imgSize=img_size):\n",
    "    image_stack = []\n",
    "    label_stack = []\n",
    "\n",
    "    for counter, l in enumerate(labels):\n",
    "        path = os.path.join(basepath, l,'*g')\n",
    "        for img in glob.glob(path):\n",
    "            one_hot_vector =np.zeros(len(labels),dtype=np.int16)\n",
    "            one_hot_vector[counter]=1\n",
    "            image = cv2.imread(img)\n",
    "            im_resize = cv2.resize(image,img_shape, interpolation=cv2.INTER_CUBIC)\n",
    "            image_stack.append(im_resize)\n",
    "            label_stack.append(labels[l])            \n",
    "    return np.array(image_stack), np.array(label_stack)\n",
    "\n",
    "X_train, y_train=read_images_classes(trainpath)\n",
    "X_test, y_test=read_images_classes(testpath)\n",
    "\n",
    "#test a sample image\n",
    "print('length of train image set',len(X_train))\n",
    "print('X_data shape:', X_train.shape)\n",
    "print('y_data shape:', y_train.shape)\n",
    "\n",
    "fig1 = plt.figure() \n",
    "ax1 = fig1.add_subplot(2,2,1) \n",
    "img = cv2.resize(X_train[0],(64,64), interpolation=cv2.INTER_CUBIC)\n",
    "ax1.imshow(cv2.cvtColor(img, cv2.COLOR_BGR2RGB))\n",
    "plt.title(y_train[0])\n",
    "plt.show()"
   ]
  },
  {
   "cell_type": "markdown",
   "metadata": {},
   "source": [
    "### Assignment: Define the tensorflow model\n",
    "\n",
    "The model should have the following layers\n",
    "- input later\n",
    "- conv layer 1 with 32 filters of kernel  size[5,5],\n",
    "- pooling layer 1 with pool size[2,2] and stride 2\n",
    "- conv layer 2 with 64 filters of kernel  size[5,5],\n",
    "- pooling layer 2 with pool size[2,2] and stride 2\n",
    "- dense layer whose output size is fixed in the hyper parameter: fc_size=32\n",
    "- drop out layer with droput probability 0.4\n",
    "- predict the class by doing a softmax on the output of the dropout layers\n",
    "\n",
    "Training\n",
    "- For training fefine the loss function and minimize it\n",
    "- For evaluation calculate the accuracy\n",
    "\n",
    "Reading Material\n",
    "- For ideas look at tensorflow layers tutorial"
   ]
  },
  {
   "cell_type": "markdown",
   "metadata": {},
   "source": [
    "### The cnn_model_fn has to be defined here by the student"
   ]
  },
  {
   "cell_type": "code",
   "execution_count": 4,
   "metadata": {
    "collapsed": true
   },
   "outputs": [],
   "source": [
    "def cnn_model_fn(features, labels, mode):\n",
    "\n",
    "    ...\n",
    "    ..."
   ]
  },
  {
   "cell_type": "markdown",
   "metadata": {},
   "source": [
    "### Run the tensorflow model\n",
    "\n",
    "This section will use the model defined by the student and run the training and evaluation step"
   ]
  },
  {
   "cell_type": "code",
   "execution_count": 5,
   "metadata": {},
   "outputs": [
    {
     "name": "stdout",
     "output_type": "stream",
     "text": [
      "INFO:tensorflow:Using default config.\n",
      "INFO:tensorflow:Using config: {'_session_config': None, '_save_checkpoints_steps': None, '_keep_checkpoint_every_n_hours': 10000, '_save_summary_steps': 100, '_tf_random_seed': 1, '_save_checkpoints_secs': 600, '_model_dir': '/tmp/pets_convnet_model', '_keep_checkpoint_max': 5}\n",
      "dense shape (10, 32)\n",
      "logits shape (10, 2)\n",
      "labels shape (10,)\n",
      "INFO:tensorflow:Create CheckpointSaverHook.\n",
      "INFO:tensorflow:Restoring parameters from /tmp/pets_convnet_model\\model.ckpt-900\n",
      "INFO:tensorflow:Saving checkpoints for 901 into /tmp/pets_convnet_model\\model.ckpt.\n",
      "INFO:tensorflow:step = 901, loss = 0.0187773\n",
      "INFO:tensorflow:probabilities = [[ 0.00206337  0.99793661]\n",
      " [ 0.00148379  0.99851626]\n",
      " [ 0.9898901   0.01010988]\n",
      " [ 0.99925309  0.00074691]\n",
      " [ 0.08117108  0.91882885]\n",
      " [ 0.02973635  0.9702636 ]\n",
      " [ 0.99679643  0.00320353]\n",
      " [ 0.02872127  0.97127873]\n",
      " [ 0.0007444   0.9992556 ]\n",
      " [ 0.02505689  0.97494304]]\n",
      "INFO:tensorflow:probabilities = [[ 0.99930084  0.0006992 ]\n",
      " [ 0.99996495  0.00003507]\n",
      " [ 0.00001954  0.99998045]\n",
      " [ 0.0005221   0.99947792]\n",
      " [ 0.80305207  0.19694798]\n",
      " [ 0.00001898  0.99998105]\n",
      " [ 0.97697568  0.0230243 ]\n",
      " [ 0.99939919  0.00060083]\n",
      " [ 0.99928099  0.00071902]\n",
      " [ 0.98675168  0.01324836]] (0.630 sec)\n",
      "INFO:tensorflow:global_step/sec: 88.7582\n",
      "INFO:tensorflow:step = 1001, loss = 0.0113643 (1.127 sec)\n",
      "INFO:tensorflow:probabilities = [[ 0.00488581  0.99511421]\n",
      " [ 0.00160594  0.99839407]\n",
      " [ 0.02687712  0.97312284]\n",
      " [ 0.01502644  0.98497355]\n",
      " [ 0.02739836  0.97260159]\n",
      " [ 0.99983203  0.0001679 ]\n",
      " [ 0.99954319  0.00045685]\n",
      " [ 0.99394035  0.00605966]\n",
      " [ 0.9997161   0.00028384]\n",
      " [ 0.97046012  0.02953982]] (0.497 sec)\n",
      "INFO:tensorflow:probabilities = [[ 0.99991453  0.00008551]\n",
      " [ 0.99996197  0.00003803]\n",
      " [ 0.9998945   0.00010553]\n",
      " [ 0.99989223  0.00010778]\n",
      " [ 0.00871439  0.99128562]\n",
      " [ 0.04076979  0.95923018]\n",
      " [ 0.99977583  0.00022422]\n",
      " [ 0.96885085  0.03114913]\n",
      " [ 0.03155375  0.96844625]\n",
      " [ 0.00391518  0.99608481]] (0.501 sec)\n",
      "INFO:tensorflow:global_step/sec: 92.7314\n",
      "INFO:tensorflow:step = 1101, loss = 0.014275 (1.082 sec)\n",
      "INFO:tensorflow:probabilities = [[ 0.00433608  0.99566394]\n",
      " [ 0.96065736  0.03934268]\n",
      " [ 0.99748117  0.00251883]\n",
      " [ 0.00194791  0.99805212]\n",
      " [ 0.00347149  0.99652857]\n",
      " [ 0.00190049  0.99809951]\n",
      " [ 0.92691422  0.0730858 ]\n",
      " [ 0.00576194  0.99423802]\n",
      " [ 0.99999309  0.00000692]\n",
      " [ 0.99328679  0.00671315]] (0.585 sec)\n",
      "INFO:tensorflow:probabilities = [[ 0.00932042  0.99067956]\n",
      " [ 0.98126811  0.01873192]\n",
      " [ 0.00000272  0.99999726]\n",
      " [ 0.99942589  0.00057414]\n",
      " [ 0.99910527  0.00089473]\n",
      " [ 0.99921525  0.0007847 ]\n",
      " [ 0.99778569  0.00221424]\n",
      " [ 0.02739642  0.97260362]\n",
      " [ 0.01021037  0.98978966]\n",
      " [ 0.00009384  0.99990618]] (0.552 sec)\n",
      "INFO:tensorflow:Saving checkpoints for 1200 into /tmp/pets_convnet_model\\model.ckpt.\n",
      "INFO:tensorflow:Loss for final step: 0.0142552.\n",
      "dense shape (?, 32)\n",
      "logits shape (?, 2)\n",
      "labels shape (?,)\n",
      "INFO:tensorflow:Starting evaluation at 2018-02-28-18:53:19\n",
      "INFO:tensorflow:Restoring parameters from /tmp/pets_convnet_model\\model.ckpt-1200\n",
      "INFO:tensorflow:Finished evaluation at 2018-02-28-18:53:20\n",
      "INFO:tensorflow:Saving dict for global step 1200: accuracy = 0.5, global_step = 1200, loss = 1.55417\n",
      "{'global_step': 1200, 'loss': 1.5541741, 'accuracy': 0.5}\n"
     ]
    }
   ],
   "source": [
    "#X_train = np.array((X_train/255.0),dtype=np.float16)\n",
    "#X_test = np.array((X_test/255.0), dtype=np.float16)\n",
    "X_train = np.array((X_train/255.0),dtype=np.float32)\n",
    "X_test = np.array((X_test/255.0), dtype=np.float32)\n",
    "\n",
    "pets_classifier = tf.estimator.Estimator(model_fn=cnn_model_fn, model_dir=\"/tmp/pets_convnet_model\")\n",
    "#pets_classifier = tf.estimator.Estimator(model_fn=cnn_model_fn)\n",
    "tensors_to_log = {\"probabilities\": \"softmax_tensor\"}\n",
    "logging_hook = tf.train.LoggingTensorHook(tensors=tensors_to_log, every_n_iter=50)\n",
    "train_input_fn = tf.estimator.inputs.numpy_input_fn(x={\"x\": X_train}, y=y_train, batch_size=10,\n",
    "                                                      num_epochs=None, shuffle=True)\n",
    "pets_classifier.train(input_fn=train_input_fn, steps=num_steps, hooks=[logging_hook])\n",
    "eval_input_fn = tf.estimator.inputs.numpy_input_fn(x={\"x\": X_test}, y=y_test, num_epochs=1,shuffle=False)\n",
    "eval_results = pets_classifier.evaluate(input_fn=eval_input_fn)\n",
    "print(eval_results)"
   ]
  },
  {
   "cell_type": "code",
   "execution_count": null,
   "metadata": {
    "collapsed": true
   },
   "outputs": [],
   "source": []
  }
 ],
 "metadata": {
  "kernelspec": {
   "display_name": "Python 3",
   "language": "python",
   "name": "python3"
  },
  "language_info": {
   "codemirror_mode": {
    "name": "ipython",
    "version": 3
   },
   "file_extension": ".py",
   "mimetype": "text/x-python",
   "name": "python",
   "nbconvert_exporter": "python",
   "pygments_lexer": "ipython3",
   "version": "3.5.2"
  }
 },
 "nbformat": 4,
 "nbformat_minor": 2
}
