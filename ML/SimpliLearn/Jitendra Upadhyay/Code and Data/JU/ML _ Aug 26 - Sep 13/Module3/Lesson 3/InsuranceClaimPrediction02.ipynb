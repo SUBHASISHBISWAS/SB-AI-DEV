{
 "cells": [
  {
   "cell_type": "markdown",
   "metadata": {},
   "source": [
    "**Independent variables**\n",
    "\n",
    "1. age : age of policyholder\n",
    "2. sex: gender of policy holder (female=0, male=1)\n",
    "3. bmi: Body mass index, ideally 18.5 to 25\n",
    "4. children: number of children / dependents of policyholder\n",
    "5. smoker: smoking state of policyholder (non-smoke=0;smoker=1) \n",
    "6. region: the residential area of policyholder in the US (northeast=0, northwest=1, southeast=2, southwest=3)\n",
    "7. charges: individual medical costs billed by health insurance\n",
    "\n",
    "**Target variable**\n",
    "\n",
    "1. insuranceclaim - categorical variable (0,1)"
   ]
  },
  {
   "cell_type": "code",
   "execution_count": 1,
   "metadata": {},
   "outputs": [],
   "source": [
    "import pandas as pd\n",
    "import numpy as np\n",
    "import seaborn as sns\n",
    "import matplotlib.pyplot as plt\n",
    "%matplotlib inline\n",
    " \n",
    "from sklearn.linear_model import LogisticRegression\n",
    "\n",
    "import warnings\n",
    "warnings.filterwarnings('ignore')\n"
   ]
  },
  {
   "cell_type": "code",
   "execution_count": 2,
   "metadata": {},
   "outputs": [
    {
     "name": "stdout",
     "output_type": "stream",
     "text": [
      "   age  sex     bmi  children  smoker  region      charges  insuranceclaim\n",
      "0   19    0  27.900         0       1       3  16884.92400               1\n",
      "1   18    1  33.770         1       0       2   1725.55230               1\n",
      "2   28    1  33.000         3       0       2   4449.46200               0\n",
      "3   33    1  22.705         0       0       1  21984.47061               0\n",
      "4   32    1  28.880         0       0       1   3866.85520               1\n"
     ]
    }
   ],
   "source": [
    "insuranceDF = pd.read_csv('insurance2.csv')\n",
    "print(insuranceDF.head())"
   ]
  },
  {
   "cell_type": "code",
   "execution_count": 3,
   "metadata": {
    "scrolled": true
   },
   "outputs": [
    {
     "name": "stdout",
     "output_type": "stream",
     "text": [
      "<class 'pandas.core.frame.DataFrame'>\n",
      "RangeIndex: 1338 entries, 0 to 1337\n",
      "Data columns (total 8 columns):\n",
      "age               1338 non-null int64\n",
      "sex               1338 non-null int64\n",
      "bmi               1338 non-null float64\n",
      "children          1338 non-null int64\n",
      "smoker            1338 non-null int64\n",
      "region            1338 non-null int64\n",
      "charges           1338 non-null float64\n",
      "insuranceclaim    1338 non-null int64\n",
      "dtypes: float64(2), int64(6)\n",
      "memory usage: 83.7 KB\n"
     ]
    }
   ],
   "source": [
    "insuranceDF.info()"
   ]
  },
  {
   "cell_type": "markdown",
   "metadata": {},
   "source": [
    "Let's start by finding correlation of every pair of features (and the outcome variable), and visualizing the correlations using a heatmap."
   ]
  },
  {
   "cell_type": "code",
   "execution_count": 4,
   "metadata": {},
   "outputs": [
    {
     "name": "stdout",
     "output_type": "stream",
     "text": [
      "                     age       sex       bmi  children    smoker    region  \\\n",
      "age             1.000000 -0.020856  0.109272  0.042469 -0.025019  0.002127   \n",
      "sex            -0.020856  1.000000  0.046371  0.017163  0.076185  0.004588   \n",
      "bmi             0.109272  0.046371  1.000000  0.012759  0.003750  0.157566   \n",
      "children        0.042469  0.017163  0.012759  1.000000  0.007673  0.016569   \n",
      "smoker         -0.025019  0.076185  0.003750  0.007673  1.000000 -0.002181   \n",
      "region          0.002127  0.004588  0.157566  0.016569 -0.002181  1.000000   \n",
      "charges         0.299008  0.057292  0.198341  0.067998  0.787251 -0.006208   \n",
      "insuranceclaim  0.113723  0.031565  0.384198 -0.409526  0.333261  0.020891   \n",
      "\n",
      "                 charges  insuranceclaim  \n",
      "age             0.299008        0.113723  \n",
      "sex             0.057292        0.031565  \n",
      "bmi             0.198341        0.384198  \n",
      "children        0.067998       -0.409526  \n",
      "smoker          0.787251        0.333261  \n",
      "region         -0.006208        0.020891  \n",
      "charges         1.000000        0.309418  \n",
      "insuranceclaim  0.309418        1.000000  \n"
     ]
    },
    {
     "data": {
      "text/plain": [
       "<matplotlib.axes._subplots.AxesSubplot at 0x1b995f7c160>"
      ]
     },
     "execution_count": 4,
     "metadata": {},
     "output_type": "execute_result"
    },
    {
     "data": {
      "image/png": "[encoded data removed]",
      "text/plain": [
       "<Figure size 432x288 with 2 Axes>"
      ]
     },
     "metadata": {
      "needs_background": "light"
     },
     "output_type": "display_data"
    }
   ],
   "source": [
    "corr = insuranceDF.corr()\n",
    "print(corr)\n",
    "sns.heatmap(corr, \n",
    "        xticklabels=corr.columns,\n",
    "        yticklabels=corr.columns)"
   ]
  },
  {
   "cell_type": "markdown",
   "metadata": {},
   "source": [
    "The dataset consists the records of 1338 patients in total. Using 1000 records for training and 300 records for testing, and the last 38 records to cross check your model."
   ]
  },
  {
   "cell_type": "code",
   "execution_count": 5,
   "metadata": {},
   "outputs": [],
   "source": [
    "dfTrain = insuranceDF[:1000]\n",
    "dfTest = insuranceDF[1000:1300]\n",
    "dfCheck = insuranceDF[1300:] "
   ]
  },
  {
   "cell_type": "code",
   "execution_count": 6,
   "metadata": {},
   "outputs": [],
   "source": [
    "trainLabel = np.asarray(dfTrain['insuranceclaim'])\n",
    "trainData = np.asarray(dfTrain.drop('insuranceclaim',1))\n",
    "testLabel = np.asarray(dfTest['insuranceclaim'])\n",
    "testData = np.asarray(dfTest.drop('insuranceclaim',1))"
   ]
  },
  {
   "cell_type": "markdown",
   "metadata": {},
   "source": [
    "Before using machine learning,normalize your inputs. Machine Learning models often benefit substantially from input normalization. It also makes it easier to understand the importance of each feature later, when looking at the model weights. Normalize the data such that each variable has 0 mean and standard deviation of 1."
   ]
  },
  {
   "cell_type": "code",
   "execution_count": 7,
   "metadata": {},
   "outputs": [],
   "source": [
    "means = np.mean(trainData, axis=0)\n",
    "stds = np.std(trainData, axis=0)\n",
    " \n",
    "trainData = (trainData - means)/stds\n",
    "testData = (testData - means)/stds"
   ]
  },
  {
   "cell_type": "code",
   "execution_count": 8,
   "metadata": {},
   "outputs": [
    {
     "data": {
      "text/plain": [
       "LogisticRegression(C=1.0, class_weight=None, dual=False, fit_intercept=True,\n",
       "          intercept_scaling=1, max_iter=100, multi_class='warn',\n",
       "          n_jobs=None, penalty='l2', random_state=None, solver='warn',\n",
       "          tol=0.0001, verbose=0, warm_start=False)"
      ]
     },
     "execution_count": 8,
     "metadata": {},
     "output_type": "execute_result"
    }
   ],
   "source": [
    "insuranceCheck = LogisticRegression()\n",
    "insuranceCheck.fit(trainData, trainLabel)"
   ]
  },
  {
   "cell_type": "markdown",
   "metadata": {},
   "source": [
    "Now, use test data to find out accuracy of the model."
   ]
  },
  {
   "cell_type": "code",
   "execution_count": 9,
   "metadata": {},
   "outputs": [
    {
     "name": "stdout",
     "output_type": "stream",
     "text": [
      "accuracy =  85.66666666666667 %\n"
     ]
    }
   ],
   "source": [
    "accuracy = insuranceCheck.score(testData, testLabel)\n",
    "print(\"accuracy = \", accuracy * 100, \"%\")"
   ]
  },
  {
   "cell_type": "markdown",
   "metadata": {},
   "source": [
    "To get a better sense of what is going on inside the logistic regression model, visualize how your model uses the different features and which features have greater effect."
   ]
  },
  {
   "cell_type": "code",
   "execution_count": 10,
   "metadata": {},
   "outputs": [
    {
     "data": {
      "text/plain": [
       "Text(0.5, 0, 'Importance')"
      ]
     },
     "execution_count": 10,
     "metadata": {},
     "output_type": "execute_result"
    },
    {
     "data": {
      "image/png": "[encoded data removed]",
      "text/plain": [
       "<Figure size 792x432 with 1 Axes>"
      ]
     },
     "metadata": {
      "needs_background": "light"
     },
     "output_type": "display_data"
    }
   ],
   "source": [
    "coeff = list(insuranceCheck.coef_[0])\n",
    "labels = list(dfTrain.drop('insuranceclaim',1).columns)\n",
    "features = pd.DataFrame()\n",
    "features['Features'] = labels\n",
    "features['importance'] = coeff\n",
    "features.sort_values(by=['importance'], ascending=True, inplace=True)\n",
    "features['positive'] = features['importance'] > 0\n",
    "features.set_index('Features', inplace=True)\n",
    "features.importance.plot(kind='barh', figsize=(11, 6),color = features.positive.map({True: 'blue', False: 'red'}))\n",
    "plt.xlabel('Importance')"
   ]
  },
  {
   "cell_type": "markdown",
   "metadata": {},
   "source": [
    "From the above figure, \n",
    "\n",
    "1. BMI, Smoker have significant influence on the model, specially BMI. \n",
    "\n",
    "2. Children have a negative influence on the prediction, i.e. higher number children / dependents are correlated with a policy holder who has not taken insurance claim.\n",
    "\n",
    "3. Although age was more correlated than BMI to the output variables, the model relies more on BMI. This can happen for several reasons, including the fact that the correlation captured by age is also captured by some other variable, whereas the information captured by BMI is not captured by other variables.\n",
    "\n",
    "Note that this above interpretations require that your input data is normalized. Without that, you can't claim that importance is proportional to weights."
   ]
  }
 ],
 "metadata": {
  "kernelspec": {
   "display_name": "Python 3",
   "language": "python",
   "name": "python3"
  },
  "language_info": {
   "codemirror_mode": {
    "name": "ipython",
    "version": 3
   },
   "file_extension": ".py",
   "mimetype": "text/x-python",
   "name": "python",
   "nbconvert_exporter": "python",
   "pygments_lexer": "ipython3",
   "version": "3.7.1"
  }
 },
 "nbformat": 4,
 "nbformat_minor": 2
}
