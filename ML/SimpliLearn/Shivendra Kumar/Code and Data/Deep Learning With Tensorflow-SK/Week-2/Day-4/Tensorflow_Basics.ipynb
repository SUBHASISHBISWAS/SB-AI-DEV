{
 "cells": [
  {
   "cell_type": "code",
   "execution_count": 1,
   "metadata": {},
   "outputs": [],
   "source": [
    "import tensorflow as tf"
   ]
  },
  {
   "cell_type": "code",
   "execution_count": 5,
   "metadata": {},
   "outputs": [
    {
     "name": "stdout",
     "output_type": "stream",
     "text": [
      "Value of X [3.]\n",
      "Value of Y [4.]\n",
      "Rsult of Computauon Graph [array([42.], dtype=float32)]\n"
     ]
    }
   ],
   "source": [
    "x=tf.Variable([3.0], name='x')\n",
    "y=tf.Variable([4.0],name='y')\n",
    "\n",
    "#computational Graph\n",
    "\n",
    "f= x*x*y +y +2\n",
    "\n",
    "with tf.Session() as sess:\n",
    "    #Intilize variable\n",
    "    x.initializer.run()\n",
    "    y.initializer.run()\n",
    "    \n",
    "    print(\"Value of X\",x.eval())\n",
    "    print(\"Value of Y\",y.eval())\n",
    "    \n",
    "    res=f.eval()\n",
    "    \n",
    "    res=sess.run([f])\n",
    "    print(\"Rsult of Computauon Graph\",res)\n"
   ]
  },
  {
   "cell_type": "code",
   "execution_count": null,
   "metadata": {},
   "outputs": [],
   "source": []
  }
 ],
 "metadata": {
  "kernelspec": {
   "display_name": "Python 3",
   "language": "python",
   "name": "python3"
  },
  "language_info": {
   "codemirror_mode": {
    "name": "ipython",
    "version": 3
   },
   "file_extension": ".py",
   "mimetype": "text/x-python",
   "name": "python",
   "nbconvert_exporter": "python",
   "pygments_lexer": "ipython3",
   "version": "3.7.3"
  }
 },
 "nbformat": 4,
 "nbformat_minor": 2
}
