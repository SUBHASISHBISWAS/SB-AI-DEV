{
 "cells": [
  {
   "cell_type": "markdown",
   "metadata": {},
   "source": [
    "# Understanding the Sigmoid function"
   ]
  },
  {
   "cell_type": "code",
   "execution_count": 1,
   "metadata": {},
   "outputs": [],
   "source": [
    "import numpy as np\n",
    "def sigmoid(z):\n",
    "    return (1/(1+np.exp(-z)))"
   ]
  },
  {
   "cell_type": "code",
   "execution_count": 2,
   "metadata": {},
   "outputs": [
    {
     "data": {
      "text/plain": [
       "0.5"
      ]
     },
     "execution_count": 2,
     "metadata": {},
     "output_type": "execute_result"
    }
   ],
   "source": [
    "sigmoid(0)"
   ]
  },
  {
   "cell_type": "code",
   "execution_count": 3,
   "metadata": {},
   "outputs": [
    {
     "data": {
      "text/plain": [
       "0.0066928509242848554"
      ]
     },
     "execution_count": 3,
     "metadata": {},
     "output_type": "execute_result"
    }
   ],
   "source": [
    "sigmoid(-5)"
   ]
  },
  {
   "cell_type": "code",
   "execution_count": 4,
   "metadata": {},
   "outputs": [
    {
     "data": {
      "text/plain": [
       "0.9933071490757153"
      ]
     },
     "execution_count": 4,
     "metadata": {},
     "output_type": "execute_result"
    }
   ],
   "source": [
    "sigmoid(5)"
   ]
  },
  {
   "cell_type": "code",
   "execution_count": 5,
   "metadata": {},
   "outputs": [],
   "source": [
    "xvalues = np.linspace( -15,15, 1000)"
   ]
  },
  {
   "cell_type": "code",
   "execution_count": 6,
   "metadata": {
    "scrolled": true
   },
   "outputs": [
    {
     "data": {
      "text/plain": [
       "array([-15.        , -14.96996997, -14.93993994, -14.90990991,\n",
       "       -14.87987988, -14.84984985, -14.81981982, -14.78978979,\n",
       "       -14.75975976, -14.72972973, -14.6996997 , -14.66966967,\n",
       "       -14.63963964, -14.60960961, -14.57957958, -14.54954955,\n",
       "       -14.51951952, -14.48948949, -14.45945946, -14.42942943,\n",
       "       -14.3993994 , -14.36936937, -14.33933934, -14.30930931,\n",
       "       -14.27927928, -14.24924925, -14.21921922, -14.18918919,\n",
       "       -14.15915916, -14.12912913, -14.0990991 , -14.06906907,\n",
       "       -14.03903904, -14.00900901, -13.97897898, -13.94894895,\n",
       "       -13.91891892, -13.88888889, -13.85885886, -13.82882883,\n",
       "       -13.7987988 , -13.76876877, -13.73873874, -13.70870871,\n",
       "       -13.67867868, -13.64864865, -13.61861862, -13.58858859,\n",
       "       -13.55855856, -13.52852853, -13.4984985 , -13.46846847,\n",
       "       -13.43843844, -13.40840841, -13.37837838, -13.34834835,\n",
       "       -13.31831832, -13.28828829, -13.25825826, -13.22822823,\n",
       "       -13.1981982 , -13.16816817, -13.13813814, -13.10810811,\n",
       "       -13.07807808, -13.04804805, -13.01801802, -12.98798799,\n",
       "       -12.95795796, -12.92792793, -12.8978979 , -12.86786787,\n",
       "       -12.83783784, -12.80780781, -12.77777778, -12.74774775,\n",
       "       -12.71771772, -12.68768769, -12.65765766, -12.62762763,\n",
       "       -12.5975976 , -12.56756757, -12.53753754, -12.50750751,\n",
       "       -12.47747748, -12.44744745, -12.41741742, -12.38738739,\n",
       "       -12.35735736, -12.32732733, -12.2972973 , -12.26726727,\n",
       "       -12.23723724, -12.20720721, -12.17717718, -12.14714715,\n",
       "       -12.11711712, -12.08708709, -12.05705706, -12.02702703,\n",
       "       -11.996997  , -11.96696697, -11.93693694, -11.90690691,\n",
       "       -11.87687688, -11.84684685, -11.81681682, -11.78678679,\n",
       "       -11.75675676, -11.72672673, -11.6966967 , -11.66666667,\n",
       "       -11.63663664, -11.60660661, -11.57657658, -11.54654655,\n",
       "       -11.51651652, -11.48648649, -11.45645646, -11.42642643,\n",
       "       -11.3963964 , -11.36636637, -11.33633634, -11.30630631,\n",
       "       -11.27627628, -11.24624625, -11.21621622, -11.18618619,\n",
       "       -11.15615616, -11.12612613, -11.0960961 , -11.06606607,\n",
       "       -11.03603604, -11.00600601, -10.97597598, -10.94594595,\n",
       "       -10.91591592, -10.88588589, -10.85585586, -10.82582583,\n",
       "       -10.7957958 , -10.76576577, -10.73573574, -10.70570571,\n",
       "       -10.67567568, -10.64564565, -10.61561562, -10.58558559,\n",
       "       -10.55555556, -10.52552553, -10.4954955 , -10.46546547,\n",
       "       -10.43543544, -10.40540541, -10.37537538, -10.34534535,\n",
       "       -10.31531532, -10.28528529, -10.25525526, -10.22522523,\n",
       "       -10.1951952 , -10.16516517, -10.13513514, -10.10510511,\n",
       "       -10.07507508, -10.04504505, -10.01501502,  -9.98498498,\n",
       "        -9.95495495,  -9.92492492,  -9.89489489,  -9.86486486,\n",
       "        -9.83483483,  -9.8048048 ,  -9.77477477,  -9.74474474,\n",
       "        -9.71471471,  -9.68468468,  -9.65465465,  -9.62462462,\n",
       "        -9.59459459,  -9.56456456,  -9.53453453,  -9.5045045 ,\n",
       "        -9.47447447,  -9.44444444,  -9.41441441,  -9.38438438,\n",
       "        -9.35435435,  -9.32432432,  -9.29429429,  -9.26426426,\n",
       "        -9.23423423,  -9.2042042 ,  -9.17417417,  -9.14414414,\n",
       "        -9.11411411,  -9.08408408,  -9.05405405,  -9.02402402,\n",
       "        -8.99399399,  -8.96396396,  -8.93393393,  -8.9039039 ,\n",
       "        -8.87387387,  -8.84384384,  -8.81381381,  -8.78378378,\n",
       "        -8.75375375,  -8.72372372,  -8.69369369,  -8.66366366,\n",
       "        -8.63363363,  -8.6036036 ,  -8.57357357,  -8.54354354,\n",
       "        -8.51351351,  -8.48348348,  -8.45345345,  -8.42342342,\n",
       "        -8.39339339,  -8.36336336,  -8.33333333,  -8.3033033 ,\n",
       "        -8.27327327,  -8.24324324,  -8.21321321,  -8.18318318,\n",
       "        -8.15315315,  -8.12312312,  -8.09309309,  -8.06306306,\n",
       "        -8.03303303,  -8.003003  ,  -7.97297297,  -7.94294294,\n",
       "        -7.91291291,  -7.88288288,  -7.85285285,  -7.82282282,\n",
       "        -7.79279279,  -7.76276276,  -7.73273273,  -7.7027027 ,\n",
       "        -7.67267267,  -7.64264264,  -7.61261261,  -7.58258258,\n",
       "        -7.55255255,  -7.52252252,  -7.49249249,  -7.46246246,\n",
       "        -7.43243243,  -7.4024024 ,  -7.37237237,  -7.34234234,\n",
       "        -7.31231231,  -7.28228228,  -7.25225225,  -7.22222222,\n",
       "        -7.19219219,  -7.16216216,  -7.13213213,  -7.1021021 ,\n",
       "        -7.07207207,  -7.04204204,  -7.01201201,  -6.98198198,\n",
       "        -6.95195195,  -6.92192192,  -6.89189189,  -6.86186186,\n",
       "        -6.83183183,  -6.8018018 ,  -6.77177177,  -6.74174174,\n",
       "        -6.71171171,  -6.68168168,  -6.65165165,  -6.62162162,\n",
       "        -6.59159159,  -6.56156156,  -6.53153153,  -6.5015015 ,\n",
       "        -6.47147147,  -6.44144144,  -6.41141141,  -6.38138138,\n",
       "        -6.35135135,  -6.32132132,  -6.29129129,  -6.26126126,\n",
       "        -6.23123123,  -6.2012012 ,  -6.17117117,  -6.14114114,\n",
       "        -6.11111111,  -6.08108108,  -6.05105105,  -6.02102102,\n",
       "        -5.99099099,  -5.96096096,  -5.93093093,  -5.9009009 ,\n",
       "        -5.87087087,  -5.84084084,  -5.81081081,  -5.78078078,\n",
       "        -5.75075075,  -5.72072072,  -5.69069069,  -5.66066066,\n",
       "        -5.63063063,  -5.6006006 ,  -5.57057057,  -5.54054054,\n",
       "        -5.51051051,  -5.48048048,  -5.45045045,  -5.42042042,\n",
       "        -5.39039039,  -5.36036036,  -5.33033033,  -5.3003003 ,\n",
       "        -5.27027027,  -5.24024024,  -5.21021021,  -5.18018018,\n",
       "        -5.15015015,  -5.12012012,  -5.09009009,  -5.06006006,\n",
       "        -5.03003003,  -5.        ,  -4.96996997,  -4.93993994,\n",
       "        -4.90990991,  -4.87987988,  -4.84984985,  -4.81981982,\n",
       "        -4.78978979,  -4.75975976,  -4.72972973,  -4.6996997 ,\n",
       "        -4.66966967,  -4.63963964,  -4.60960961,  -4.57957958,\n",
       "        -4.54954955,  -4.51951952,  -4.48948949,  -4.45945946,\n",
       "        -4.42942943,  -4.3993994 ,  -4.36936937,  -4.33933934,\n",
       "        -4.30930931,  -4.27927928,  -4.24924925,  -4.21921922,\n",
       "        -4.18918919,  -4.15915916,  -4.12912913,  -4.0990991 ,\n",
       "        -4.06906907,  -4.03903904,  -4.00900901,  -3.97897898,\n",
       "        -3.94894895,  -3.91891892,  -3.88888889,  -3.85885886,\n",
       "        -3.82882883,  -3.7987988 ,  -3.76876877,  -3.73873874,\n",
       "        -3.70870871,  -3.67867868,  -3.64864865,  -3.61861862,\n",
       "        -3.58858859,  -3.55855856,  -3.52852853,  -3.4984985 ,\n",
       "        -3.46846847,  -3.43843844,  -3.40840841,  -3.37837838,\n",
       "        -3.34834835,  -3.31831832,  -3.28828829,  -3.25825826,\n",
       "        -3.22822823,  -3.1981982 ,  -3.16816817,  -3.13813814,\n",
       "        -3.10810811,  -3.07807808,  -3.04804805,  -3.01801802,\n",
       "        -2.98798799,  -2.95795796,  -2.92792793,  -2.8978979 ,\n",
       "        -2.86786787,  -2.83783784,  -2.80780781,  -2.77777778,\n",
       "        -2.74774775,  -2.71771772,  -2.68768769,  -2.65765766,\n",
       "        -2.62762763,  -2.5975976 ,  -2.56756757,  -2.53753754,\n",
       "        -2.50750751,  -2.47747748,  -2.44744745,  -2.41741742,\n",
       "        -2.38738739,  -2.35735736,  -2.32732733,  -2.2972973 ,\n",
       "        -2.26726727,  -2.23723724,  -2.20720721,  -2.17717718,\n",
       "        -2.14714715,  -2.11711712,  -2.08708709,  -2.05705706,\n",
       "        -2.02702703,  -1.996997  ,  -1.96696697,  -1.93693694,\n",
       "        -1.90690691,  -1.87687688,  -1.84684685,  -1.81681682,\n",
       "        -1.78678679,  -1.75675676,  -1.72672673,  -1.6966967 ,\n",
       "        -1.66666667,  -1.63663664,  -1.60660661,  -1.57657658,\n",
       "        -1.54654655,  -1.51651652,  -1.48648649,  -1.45645646,\n",
       "        -1.42642643,  -1.3963964 ,  -1.36636637,  -1.33633634,\n",
       "        -1.30630631,  -1.27627628,  -1.24624625,  -1.21621622,\n",
       "        -1.18618619,  -1.15615616,  -1.12612613,  -1.0960961 ,\n",
       "        -1.06606607,  -1.03603604,  -1.00600601,  -0.97597598,\n",
       "        -0.94594595,  -0.91591592,  -0.88588589,  -0.85585586,\n",
       "        -0.82582583,  -0.7957958 ,  -0.76576577,  -0.73573574,\n",
       "        -0.70570571,  -0.67567568,  -0.64564565,  -0.61561562,\n",
       "        -0.58558559,  -0.55555556,  -0.52552553,  -0.4954955 ,\n",
       "        -0.46546547,  -0.43543544,  -0.40540541,  -0.37537538,\n",
       "        -0.34534535,  -0.31531532,  -0.28528529,  -0.25525526,\n",
       "        -0.22522523,  -0.1951952 ,  -0.16516517,  -0.13513514,\n",
       "        -0.10510511,  -0.07507508,  -0.04504505,  -0.01501502,\n",
       "         0.01501502,   0.04504505,   0.07507508,   0.10510511,\n",
       "         0.13513514,   0.16516517,   0.1951952 ,   0.22522523,\n",
       "         0.25525526,   0.28528529,   0.31531532,   0.34534535,\n",
       "         0.37537538,   0.40540541,   0.43543544,   0.46546547,\n",
       "         0.4954955 ,   0.52552553,   0.55555556,   0.58558559,\n",
       "         0.61561562,   0.64564565,   0.67567568,   0.70570571,\n",
       "         0.73573574,   0.76576577,   0.7957958 ,   0.82582583,\n",
       "         0.85585586,   0.88588589,   0.91591592,   0.94594595,\n",
       "         0.97597598,   1.00600601,   1.03603604,   1.06606607,\n",
       "         1.0960961 ,   1.12612613,   1.15615616,   1.18618619,\n",
       "         1.21621622,   1.24624625,   1.27627628,   1.30630631,\n",
       "         1.33633634,   1.36636637,   1.3963964 ,   1.42642643,\n",
       "         1.45645646,   1.48648649,   1.51651652,   1.54654655,\n",
       "         1.57657658,   1.60660661,   1.63663664,   1.66666667,\n",
       "         1.6966967 ,   1.72672673,   1.75675676,   1.78678679,\n",
       "         1.81681682,   1.84684685,   1.87687688,   1.90690691,\n",
       "         1.93693694,   1.96696697,   1.996997  ,   2.02702703,\n",
       "         2.05705706,   2.08708709,   2.11711712,   2.14714715,\n",
       "         2.17717718,   2.20720721,   2.23723724,   2.26726727,\n",
       "         2.2972973 ,   2.32732733,   2.35735736,   2.38738739,\n",
       "         2.41741742,   2.44744745,   2.47747748,   2.50750751,\n",
       "         2.53753754,   2.56756757,   2.5975976 ,   2.62762763,\n",
       "         2.65765766,   2.68768769,   2.71771772,   2.74774775,\n",
       "         2.77777778,   2.80780781,   2.83783784,   2.86786787,\n",
       "         2.8978979 ,   2.92792793,   2.95795796,   2.98798799,\n",
       "         3.01801802,   3.04804805,   3.07807808,   3.10810811,\n",
       "         3.13813814,   3.16816817,   3.1981982 ,   3.22822823,\n",
       "         3.25825826,   3.28828829,   3.31831832,   3.34834835,\n",
       "         3.37837838,   3.40840841,   3.43843844,   3.46846847,\n",
       "         3.4984985 ,   3.52852853,   3.55855856,   3.58858859,\n",
       "         3.61861862,   3.64864865,   3.67867868,   3.70870871,\n",
       "         3.73873874,   3.76876877,   3.7987988 ,   3.82882883,\n",
       "         3.85885886,   3.88888889,   3.91891892,   3.94894895,\n",
       "         3.97897898,   4.00900901,   4.03903904,   4.06906907,\n",
       "         4.0990991 ,   4.12912913,   4.15915916,   4.18918919,\n",
       "         4.21921922,   4.24924925,   4.27927928,   4.30930931,\n",
       "         4.33933934,   4.36936937,   4.3993994 ,   4.42942943,\n",
       "         4.45945946,   4.48948949,   4.51951952,   4.54954955,\n",
       "         4.57957958,   4.60960961,   4.63963964,   4.66966967,\n",
       "         4.6996997 ,   4.72972973,   4.75975976,   4.78978979,\n",
       "         4.81981982,   4.84984985,   4.87987988,   4.90990991,\n",
       "         4.93993994,   4.96996997,   5.        ,   5.03003003,\n",
       "         5.06006006,   5.09009009,   5.12012012,   5.15015015,\n",
       "         5.18018018,   5.21021021,   5.24024024,   5.27027027,\n",
       "         5.3003003 ,   5.33033033,   5.36036036,   5.39039039,\n",
       "         5.42042042,   5.45045045,   5.48048048,   5.51051051,\n",
       "         5.54054054,   5.57057057,   5.6006006 ,   5.63063063,\n",
       "         5.66066066,   5.69069069,   5.72072072,   5.75075075,\n",
       "         5.78078078,   5.81081081,   5.84084084,   5.87087087,\n",
       "         5.9009009 ,   5.93093093,   5.96096096,   5.99099099,\n",
       "         6.02102102,   6.05105105,   6.08108108,   6.11111111,\n",
       "         6.14114114,   6.17117117,   6.2012012 ,   6.23123123,\n",
       "         6.26126126,   6.29129129,   6.32132132,   6.35135135,\n",
       "         6.38138138,   6.41141141,   6.44144144,   6.47147147,\n",
       "         6.5015015 ,   6.53153153,   6.56156156,   6.59159159,\n",
       "         6.62162162,   6.65165165,   6.68168168,   6.71171171,\n",
       "         6.74174174,   6.77177177,   6.8018018 ,   6.83183183,\n",
       "         6.86186186,   6.89189189,   6.92192192,   6.95195195,\n",
       "         6.98198198,   7.01201201,   7.04204204,   7.07207207,\n",
       "         7.1021021 ,   7.13213213,   7.16216216,   7.19219219,\n",
       "         7.22222222,   7.25225225,   7.28228228,   7.31231231,\n",
       "         7.34234234,   7.37237237,   7.4024024 ,   7.43243243,\n",
       "         7.46246246,   7.49249249,   7.52252252,   7.55255255,\n",
       "         7.58258258,   7.61261261,   7.64264264,   7.67267267,\n",
       "         7.7027027 ,   7.73273273,   7.76276276,   7.79279279,\n",
       "         7.82282282,   7.85285285,   7.88288288,   7.91291291,\n",
       "         7.94294294,   7.97297297,   8.003003  ,   8.03303303,\n",
       "         8.06306306,   8.09309309,   8.12312312,   8.15315315,\n",
       "         8.18318318,   8.21321321,   8.24324324,   8.27327327,\n",
       "         8.3033033 ,   8.33333333,   8.36336336,   8.39339339,\n",
       "         8.42342342,   8.45345345,   8.48348348,   8.51351351,\n",
       "         8.54354354,   8.57357357,   8.6036036 ,   8.63363363,\n",
       "         8.66366366,   8.69369369,   8.72372372,   8.75375375,\n",
       "         8.78378378,   8.81381381,   8.84384384,   8.87387387,\n",
       "         8.9039039 ,   8.93393393,   8.96396396,   8.99399399,\n",
       "         9.02402402,   9.05405405,   9.08408408,   9.11411411,\n",
       "         9.14414414,   9.17417417,   9.2042042 ,   9.23423423,\n",
       "         9.26426426,   9.29429429,   9.32432432,   9.35435435,\n",
       "         9.38438438,   9.41441441,   9.44444444,   9.47447447,\n",
       "         9.5045045 ,   9.53453453,   9.56456456,   9.59459459,\n",
       "         9.62462462,   9.65465465,   9.68468468,   9.71471471,\n",
       "         9.74474474,   9.77477477,   9.8048048 ,   9.83483483,\n",
       "         9.86486486,   9.89489489,   9.92492492,   9.95495495,\n",
       "         9.98498498,  10.01501502,  10.04504505,  10.07507508,\n",
       "        10.10510511,  10.13513514,  10.16516517,  10.1951952 ,\n",
       "        10.22522523,  10.25525526,  10.28528529,  10.31531532,\n",
       "        10.34534535,  10.37537538,  10.40540541,  10.43543544,\n",
       "        10.46546547,  10.4954955 ,  10.52552553,  10.55555556,\n",
       "        10.58558559,  10.61561562,  10.64564565,  10.67567568,\n",
       "        10.70570571,  10.73573574,  10.76576577,  10.7957958 ,\n",
       "        10.82582583,  10.85585586,  10.88588589,  10.91591592,\n",
       "        10.94594595,  10.97597598,  11.00600601,  11.03603604,\n",
       "        11.06606607,  11.0960961 ,  11.12612613,  11.15615616,\n",
       "        11.18618619,  11.21621622,  11.24624625,  11.27627628,\n",
       "        11.30630631,  11.33633634,  11.36636637,  11.3963964 ,\n",
       "        11.42642643,  11.45645646,  11.48648649,  11.51651652,\n",
       "        11.54654655,  11.57657658,  11.60660661,  11.63663664,\n",
       "        11.66666667,  11.6966967 ,  11.72672673,  11.75675676,\n",
       "        11.78678679,  11.81681682,  11.84684685,  11.87687688,\n",
       "        11.90690691,  11.93693694,  11.96696697,  11.996997  ,\n",
       "        12.02702703,  12.05705706,  12.08708709,  12.11711712,\n",
       "        12.14714715,  12.17717718,  12.20720721,  12.23723724,\n",
       "        12.26726727,  12.2972973 ,  12.32732733,  12.35735736,\n",
       "        12.38738739,  12.41741742,  12.44744745,  12.47747748,\n",
       "        12.50750751,  12.53753754,  12.56756757,  12.5975976 ,\n",
       "        12.62762763,  12.65765766,  12.68768769,  12.71771772,\n",
       "        12.74774775,  12.77777778,  12.80780781,  12.83783784,\n",
       "        12.86786787,  12.8978979 ,  12.92792793,  12.95795796,\n",
       "        12.98798799,  13.01801802,  13.04804805,  13.07807808,\n",
       "        13.10810811,  13.13813814,  13.16816817,  13.1981982 ,\n",
       "        13.22822823,  13.25825826,  13.28828829,  13.31831832,\n",
       "        13.34834835,  13.37837838,  13.40840841,  13.43843844,\n",
       "        13.46846847,  13.4984985 ,  13.52852853,  13.55855856,\n",
       "        13.58858859,  13.61861862,  13.64864865,  13.67867868,\n",
       "        13.70870871,  13.73873874,  13.76876877,  13.7987988 ,\n",
       "        13.82882883,  13.85885886,  13.88888889,  13.91891892,\n",
       "        13.94894895,  13.97897898,  14.00900901,  14.03903904,\n",
       "        14.06906907,  14.0990991 ,  14.12912913,  14.15915916,\n",
       "        14.18918919,  14.21921922,  14.24924925,  14.27927928,\n",
       "        14.30930931,  14.33933934,  14.36936937,  14.3993994 ,\n",
       "        14.42942943,  14.45945946,  14.48948949,  14.51951952,\n",
       "        14.54954955,  14.57957958,  14.60960961,  14.63963964,\n",
       "        14.66966967,  14.6996997 ,  14.72972973,  14.75975976,\n",
       "        14.78978979,  14.81981982,  14.84984985,  14.87987988,\n",
       "        14.90990991,  14.93993994,  14.96996997,  15.        ])"
      ]
     },
     "execution_count": 6,
     "metadata": {},
     "output_type": "execute_result"
    }
   ],
   "source": [
    "xvalues"
   ]
  },
  {
   "cell_type": "code",
   "execution_count": 7,
   "metadata": {},
   "outputs": [],
   "source": [
    "import matplotlib.pyplot as plt\n",
    "%matplotlib inline"
   ]
  },
  {
   "cell_type": "code",
   "execution_count": 8,
   "metadata": {
    "scrolled": false
   },
   "outputs": [
    {
     "data": {
      "text/plain": [
       "[<matplotlib.lines.Line2D at 0x11b74e390>]"
      ]
     },
     "execution_count": 8,
     "metadata": {},
     "output_type": "execute_result"
    },
    {
     "data": {
      "image/png": "[encoded data removed]",
      "text/plain": [
       "<Figure size 432x288 with 1 Axes>"
      ]
     },
     "metadata": {
      "needs_background": "light"
     },
     "output_type": "display_data"
    }
   ],
   "source": [
    "plt.plot(xvalues, sigmoid(xvalues), color = 'blue', linestyle='--')"
   ]
  },
  {
   "cell_type": "code",
   "execution_count": 12,
   "metadata": {},
   "outputs": [
    {
     "data": {
      "text/plain": [
       "0.0"
      ]
     },
     "execution_count": 12,
     "metadata": {},
     "output_type": "execute_result"
    }
   ],
   "source": [
    "sigmoid(-10000)"
   ]
  },
  {
   "cell_type": "code",
   "execution_count": 10,
   "metadata": {},
   "outputs": [
    {
     "data": {
      "text/plain": [
       "0.0"
      ]
     },
     "execution_count": 10,
     "metadata": {},
     "output_type": "execute_result"
    }
   ],
   "source": [
    "sigmoid(-100000000)"
   ]
  },
  {
   "cell_type": "markdown",
   "metadata": {},
   "source": [
    "# Lets do derivative of Sigmoid"
   ]
  },
  {
   "cell_type": "raw",
   "metadata": {},
   "source": [
    "We are going to need the derivative of Sigmoid or other NL function to find the Sensitivity of the Artificial Neuron\n",
    "Output.\n",
    "Lets begin by finding the deriuvative of Sigmoid = the rate of chnage of output of Sigmoid with respect to inputs\n",
    "Its a measure of hopw much the output changes for the input\n",
    "d/dx( Sig(x) )"
   ]
  },
  {
   "cell_type": "raw",
   "metadata": {},
   "source": [
    "#How do we define derivative?\n",
    "dy/dx = (f(x+eps) - f(x-eps) ) /(2eps)\n",
    "deltay/deltax at x = x0\n"
   ]
  },
  {
   "cell_type": "code",
   "execution_count": 14,
   "metadata": {},
   "outputs": [],
   "source": [
    "def derivative ( func, x, eps=0.000001):\n",
    "    deltay = (func(x+eps)- func(x-eps))\n",
    "    deltax = 2*eps\n",
    "    derivativeValue = deltay/deltax\n",
    "    return derivativeValue"
   ]
  },
  {
   "cell_type": "code",
   "execution_count": 17,
   "metadata": {
    "scrolled": false
   },
   "outputs": [
    {
     "data": {
      "text/plain": [
       "[<matplotlib.lines.Line2D at 0x11bbcad68>]"
      ]
     },
     "execution_count": 17,
     "metadata": {},
     "output_type": "execute_result"
    },
    {
     "data": {
      "image/png": "[encoded data removed]",
      "text/plain": [
       "<Figure size 432x288 with 1 Axes>"
      ]
     },
     "metadata": {
      "needs_background": "light"
     },
     "output_type": "display_data"
    }
   ],
   "source": [
    "plt.plot(xvalues, sigmoid(xvalues), color = 'blue', linestyle='--')\n",
    "plt.plot(xvalues, derivative(sigmoid,xvalues), color = 'green', linestyle='solid')"
   ]
  },
  {
   "cell_type": "markdown",
   "metadata": {},
   "source": [
    "# Lets quickly explore tanh another NL function"
   ]
  },
  {
   "cell_type": "code",
   "execution_count": 18,
   "metadata": {
    "scrolled": true
   },
   "outputs": [
    {
     "data": {
      "text/plain": [
       "[<matplotlib.lines.Line2D at 0x11bc98390>]"
      ]
     },
     "execution_count": 18,
     "metadata": {},
     "output_type": "execute_result"
    },
    {
     "data": {
      "image/png": "[encoded data removed]",
      "text/plain": [
       "<Figure size 432x288 with 1 Axes>"
      ]
     },
     "metadata": {
      "needs_background": "light"
     },
     "output_type": "display_data"
    }
   ],
   "source": [
    "plt.plot(xvalues, np.tanh(xvalues), color = 'blue', linestyle='--')\n",
    "plt.plot(xvalues, derivative(np.tanh,xvalues), color = 'green', linestyle='solid')"
   ]
  },
  {
   "cell_type": "markdown",
   "metadata": {},
   "source": [
    "tanh is symmetrical around x and y-axis ( both) ...fully symmetrical\n",
    "Sensitive near to zero. highly sensitive at zero.\n",
    "This also has vanishing gradients for large postive and negative inputs"
   ]
  },
  {
   "cell_type": "raw",
   "metadata": {},
   "source": [
    "Used very widely in Recurrent Neural network"
   ]
  },
  {
   "cell_type": "markdown",
   "metadata": {},
   "source": [
    "# RELU"
   ]
  },
  {
   "cell_type": "code",
   "execution_count": 19,
   "metadata": {},
   "outputs": [],
   "source": [
    "#Lets define another NL function called Relu\n",
    "# Rectified linear Unit"
   ]
  },
  {
   "cell_type": "code",
   "execution_count": 20,
   "metadata": {},
   "outputs": [],
   "source": [
    "def relu(x):\n",
    "    return np.maximum(0,x)"
   ]
  },
  {
   "cell_type": "code",
   "execution_count": 21,
   "metadata": {},
   "outputs": [
    {
     "data": {
      "text/plain": [
       "1"
      ]
     },
     "execution_count": 21,
     "metadata": {},
     "output_type": "execute_result"
    }
   ],
   "source": [
    "relu(1)"
   ]
  },
  {
   "cell_type": "code",
   "execution_count": 22,
   "metadata": {},
   "outputs": [
    {
     "data": {
      "text/plain": [
       "0"
      ]
     },
     "execution_count": 22,
     "metadata": {},
     "output_type": "execute_result"
    }
   ],
   "source": [
    "relu(-5)"
   ]
  },
  {
   "cell_type": "code",
   "execution_count": 23,
   "metadata": {},
   "outputs": [
    {
     "data": {
      "text/plain": [
       "0"
      ]
     },
     "execution_count": 23,
     "metadata": {},
     "output_type": "execute_result"
    }
   ],
   "source": [
    "relu(0)"
   ]
  },
  {
   "cell_type": "code",
   "execution_count": 24,
   "metadata": {
    "scrolled": false
   },
   "outputs": [
    {
     "data": {
      "text/plain": [
       "[<matplotlib.lines.Line2D at 0x11bd5b198>]"
      ]
     },
     "execution_count": 24,
     "metadata": {},
     "output_type": "execute_result"
    },
    {
     "data": {
      "image/png": "[encoded data removed]",
      "text/plain": [
       "<Figure size 432x288 with 1 Axes>"
      ]
     },
     "metadata": {
      "needs_background": "light"
     },
     "output_type": "display_data"
    }
   ],
   "source": [
    "plt.plot(xvalues, relu(xvalues), color = 'blue', linestyle='--')\n",
    "plt.plot(xvalues, derivative(relu,xvalues), color = 'green', linestyle='solid')"
   ]
  },
  {
   "cell_type": "raw",
   "metadata": {},
   "source": [
    "Relu has linear output on postive side\n",
    "and Zero output on negative side"
   ]
  },
  {
   "cell_type": "markdown",
   "metadata": {},
   "source": [
    "Relu has consistent gradient of 1 on postive side and never valishes\n",
    "Relu has zero gradient on negative side\n",
    "abrupt transition to zero gradient on negative side ( point of discontinuity at x =0 )"
   ]
  },
  {
   "cell_type": "code",
   "execution_count": null,
   "metadata": {},
   "outputs": [],
   "source": [
    "#A little later we will do leaky Relu and Softplus"
   ]
  }
 ],
 "metadata": {
  "kernelspec": {
   "display_name": "Python 3",
   "language": "python",
   "name": "python3"
  },
  "language_info": {
   "codemirror_mode": {
    "name": "ipython",
    "version": 3
   },
   "file_extension": ".py",
   "mimetype": "text/x-python",
   "name": "python",
   "nbconvert_exporter": "python",
   "pygments_lexer": "ipython3",
   "version": "3.7.3"
  }
 },
 "nbformat": 4,
 "nbformat_minor": 2
}
