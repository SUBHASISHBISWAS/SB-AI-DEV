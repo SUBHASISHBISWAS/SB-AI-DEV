{
  "nbformat": 4,
  "nbformat_minor": 0,
  "metadata": {
    "colab": {
      "name": "Walk-Forward Validation.ipynb",
      "provenance": [],
      "collapsed_sections": []
    },
    "kernelspec": {
      "name": "python3",
      "display_name": "Python 3"
    },
    "language_info": {
      "name": "python"
    }
  },
  "cells": [
    {
      "cell_type": "code",
      "metadata": {
        "colab": {
          "base_uri": "https://localhost:8080/"
        },
        "id": "3HvCA7FEN6VM",
        "outputId": "c995da8b-72fc-4059-f9a2-11ef1dc2932b"
      },
      "source": [
        "!wget -nc https://lazyprogrammer.me/course_files/airline_passengers.csv"
      ],
      "execution_count": null,
      "outputs": [
        {
          "output_type": "stream",
          "text": [
            "--2021-05-26 18:14:32--  https://lazyprogrammer.me/course_files/airline_passengers.csv\n",
            "Resolving lazyprogrammer.me (lazyprogrammer.me)... 104.21.23.210, 172.67.213.166, 2606:4700:3030::ac43:d5a6, ...\n",
            "Connecting to lazyprogrammer.me (lazyprogrammer.me)|104.21.23.210|:443... connected.\n",
            "HTTP request sent, awaiting response... 200 OK\n",
            "Length: 2036 (2.0K) [text/csv]\n",
            "Saving to: ‘airline_passengers.csv’\n",
            "\n",
            "airline_passengers. 100%[===================>]   1.99K  --.-KB/s    in 0s      \n",
            "\n",
            "2021-05-26 18:14:32 (28.8 MB/s) - ‘airline_passengers.csv’ saved [2036/2036]\n",
            "\n"
          ],
          "name": "stdout"
        }
      ]
    },
    {
      "cell_type": "code",
      "metadata": {
        "colab": {
          "base_uri": "https://localhost:8080/"
        },
        "id": "20Y4Ed2wOPDI",
        "outputId": "9ce01673-2215-43ba-caf4-503f8ec0cb78"
      },
      "source": [
        "!pip install -U statsmodels"
      ],
      "execution_count": null,
      "outputs": [
        {
          "output_type": "stream",
          "text": [
            "Collecting statsmodels\n",
            "\u001b[?25l  Downloading https://files.pythonhosted.org/packages/da/69/8eef30a6237c54f3c0b524140e2975f4b1eea3489b45eb3339574fc8acee/statsmodels-0.12.2-cp37-cp37m-manylinux1_x86_64.whl (9.5MB)\n",
            "\u001b[K     |████████████████████████████████| 9.5MB 7.7MB/s \n",
            "\u001b[?25hRequirement already satisfied, skipping upgrade: patsy>=0.5 in /usr/local/lib/python3.7/dist-packages (from statsmodels) (0.5.1)\n",
            "Requirement already satisfied, skipping upgrade: scipy>=1.1 in /usr/local/lib/python3.7/dist-packages (from statsmodels) (1.4.1)\n",
            "Requirement already satisfied, skipping upgrade: numpy>=1.15 in /usr/local/lib/python3.7/dist-packages (from statsmodels) (1.19.5)\n",
            "Requirement already satisfied, skipping upgrade: pandas>=0.21 in /usr/local/lib/python3.7/dist-packages (from statsmodels) (1.1.5)\n",
            "Requirement already satisfied, skipping upgrade: six in /usr/local/lib/python3.7/dist-packages (from patsy>=0.5->statsmodels) (1.15.0)\n",
            "Requirement already satisfied, skipping upgrade: python-dateutil>=2.7.3 in /usr/local/lib/python3.7/dist-packages (from pandas>=0.21->statsmodels) (2.8.1)\n",
            "Requirement already satisfied, skipping upgrade: pytz>=2017.2 in /usr/local/lib/python3.7/dist-packages (from pandas>=0.21->statsmodels) (2018.9)\n",
            "Installing collected packages: statsmodels\n",
            "  Found existing installation: statsmodels 0.10.2\n",
            "    Uninstalling statsmodels-0.10.2:\n",
            "      Successfully uninstalled statsmodels-0.10.2\n",
            "Successfully installed statsmodels-0.12.2\n"
          ],
          "name": "stdout"
        }
      ]
    },
    {
      "cell_type": "code",
      "metadata": {
        "id": "NquljTojOA4g"
      },
      "source": [
        "import pandas as pd\n",
        "import numpy as np\n",
        "import matplotlib.pyplot as plt\n",
        "\n",
        "import itertools\n",
        "\n",
        "from sklearn.metrics import mean_squared_error\n",
        "from statsmodels.tsa.holtwinters import ExponentialSmoothing"
      ],
      "execution_count": null,
      "outputs": []
    },
    {
      "cell_type": "code",
      "metadata": {
        "id": "u_MrkkBxOHVn"
      },
      "source": [
        "df = pd.read_csv('airline_passengers.csv', index_col='Month', parse_dates=True)"
      ],
      "execution_count": null,
      "outputs": []
    },
    {
      "cell_type": "code",
      "metadata": {
        "id": "OEnGyPhcOTxK"
      },
      "source": [
        "df.index.freq = 'MS'"
      ],
      "execution_count": null,
      "outputs": []
    },
    {
      "cell_type": "code",
      "metadata": {
        "colab": {
          "base_uri": "https://localhost:8080/"
        },
        "id": "_L6JeJ-bObTW",
        "outputId": "d0927ac4-5e64-43e9-87ed-a7c7036d797b"
      },
      "source": [
        "df.shape"
      ],
      "execution_count": null,
      "outputs": [
        {
          "output_type": "execute_result",
          "data": {
            "text/plain": [
              "(144, 1)"
            ]
          },
          "metadata": {
            "tags": []
          },
          "execution_count": 6
        }
      ]
    },
    {
      "cell_type": "code",
      "metadata": {
        "id": "MF-rYg4lOjl9"
      },
      "source": [
        "# Assume the forecast horizon we care about is 12\n",
        "# Validate over 10 steps\n",
        "h = 12\n",
        "steps = 10\n",
        "Ntest = len(df) - h - steps + 1"
      ],
      "execution_count": null,
      "outputs": []
    },
    {
      "cell_type": "code",
      "metadata": {
        "id": "3zlZOk1mQL44"
      },
      "source": [
        "# Configuration hyperparameters to try\n",
        "trend_type_list = ['add', 'mul']\n",
        "seasonal_type_list = ['add', 'mul']\n",
        "damped_trend_list = [True, False]\n",
        "init_method_list = ['estimated', 'heuristic', 'legacy-heuristic']\n",
        "use_boxcox_list = [True, False, 0]"
      ],
      "execution_count": null,
      "outputs": []
    },
    {
      "cell_type": "code",
      "metadata": {
        "id": "sq3nD28oxaiU"
      },
      "source": [
        "# NOTE: statsmodels documentation states that 'log' is an acceptable input\n",
        "#       for use_boxcox. This is false."
      ],
      "execution_count": null,
      "outputs": []
    },
    {
      "cell_type": "code",
      "metadata": {
        "id": "OqBy5C9vRIpJ"
      },
      "source": [
        "def walkforward(\n",
        "    trend_type,\n",
        "    seasonal_type,\n",
        "    damped_trend,\n",
        "    init_method,\n",
        "    use_boxcox,\n",
        "    debug=False):\n",
        "\n",
        "  # store errors\n",
        "  errors = []\n",
        "  seen_last = False\n",
        "  steps_completed = 0\n",
        "\n",
        "  for end_of_train in range(Ntest, len(df) - h + 1):\n",
        "    # We don't have to manually \"add\" the data to our dataset\n",
        "    # Just index it at the right points - this is a \"view\" not a \"copy\"\n",
        "    # So it doesn't take up any extra space or computation\n",
        "    train = df.iloc[:end_of_train]\n",
        "    test = df.iloc[end_of_train:end_of_train + h]\n",
        "\n",
        "    if test.index[-1] == df.index[-1]:\n",
        "      seen_last = True\n",
        "    \n",
        "    steps_completed += 1\n",
        "\n",
        "    hw = ExponentialSmoothing(\n",
        "        train['Passengers'],\n",
        "        initialization_method=init_method,\n",
        "        trend=trend_type,\n",
        "        damped_trend=damped_trend,\n",
        "        seasonal=seasonal_type,\n",
        "        seasonal_periods=12,\n",
        "        use_boxcox=use_boxcox)\n",
        "    res_hw = hw.fit()\n",
        "\n",
        "    # compute error for the forecast horizon\n",
        "    fcast = res_hw.forecast(h)\n",
        "    error = mean_squared_error(test['Passengers'], fcast)\n",
        "    errors.append(error)\n",
        "  \n",
        "  if debug:\n",
        "    print(\"seen_last:\", seen_last)\n",
        "    print(\"steps completed:\", steps_completed)\n",
        "\n",
        "  return np.mean(errors)\n"
      ],
      "execution_count": null,
      "outputs": []
    },
    {
      "cell_type": "code",
      "metadata": {
        "colab": {
          "base_uri": "https://localhost:8080/"
        },
        "id": "7KJCfECKwSQl",
        "outputId": "9c0df8d3-9862-422b-e49a-ef11a5632aeb"
      },
      "source": [
        "# test our our function\n",
        "walkforward('add', 'add', False, 'legacy-heuristic', 0, debug=True)"
      ],
      "execution_count": null,
      "outputs": [
        {
          "output_type": "stream",
          "text": [
            "seen_last: True\n",
            "steps completed: 10\n"
          ],
          "name": "stdout"
        },
        {
          "output_type": "execute_result",
          "data": {
            "text/plain": [
              "2521.023839609926"
            ]
          },
          "metadata": {
            "tags": []
          },
          "execution_count": 11
        }
      ]
    },
    {
      "cell_type": "code",
      "metadata": {
        "colab": {
          "base_uri": "https://localhost:8080/"
        },
        "id": "HeKIa7lQt_Wu",
        "outputId": "5db9cbe6-541b-4c7b-a06d-8ee7d8c8d48c"
      },
      "source": [
        "# Iterate through all possible options (i.e. grid search)\n",
        "tuple_of_option_lists = (\n",
        "    trend_type_list,\n",
        "    seasonal_type_list,\n",
        "    damped_trend_list,\n",
        "    init_method_list,\n",
        "    use_boxcox_list,\n",
        ")\n",
        "for x in itertools.product(*tuple_of_option_lists):\n",
        "  print(x)"
      ],
      "execution_count": null,
      "outputs": [
        {
          "output_type": "stream",
          "text": [
            "('add', 'add', True, 'estimated', True)\n",
            "('add', 'add', True, 'estimated', False)\n",
            "('add', 'add', True, 'estimated', 0)\n",
            "('add', 'add', True, 'heuristic', True)\n",
            "('add', 'add', True, 'heuristic', False)\n",
            "('add', 'add', True, 'heuristic', 0)\n",
            "('add', 'add', True, 'legacy-heuristic', True)\n",
            "('add', 'add', True, 'legacy-heuristic', False)\n",
            "('add', 'add', True, 'legacy-heuristic', 0)\n",
            "('add', 'add', False, 'estimated', True)\n",
            "('add', 'add', False, 'estimated', False)\n",
            "('add', 'add', False, 'estimated', 0)\n",
            "('add', 'add', False, 'heuristic', True)\n",
            "('add', 'add', False, 'heuristic', False)\n",
            "('add', 'add', False, 'heuristic', 0)\n",
            "('add', 'add', False, 'legacy-heuristic', True)\n",
            "('add', 'add', False, 'legacy-heuristic', False)\n",
            "('add', 'add', False, 'legacy-heuristic', 0)\n",
            "('add', 'mul', True, 'estimated', True)\n",
            "('add', 'mul', True, 'estimated', False)\n",
            "('add', 'mul', True, 'estimated', 0)\n",
            "('add', 'mul', True, 'heuristic', True)\n",
            "('add', 'mul', True, 'heuristic', False)\n",
            "('add', 'mul', True, 'heuristic', 0)\n",
            "('add', 'mul', True, 'legacy-heuristic', True)\n",
            "('add', 'mul', True, 'legacy-heuristic', False)\n",
            "('add', 'mul', True, 'legacy-heuristic', 0)\n",
            "('add', 'mul', False, 'estimated', True)\n",
            "('add', 'mul', False, 'estimated', False)\n",
            "('add', 'mul', False, 'estimated', 0)\n",
            "('add', 'mul', False, 'heuristic', True)\n",
            "('add', 'mul', False, 'heuristic', False)\n",
            "('add', 'mul', False, 'heuristic', 0)\n",
            "('add', 'mul', False, 'legacy-heuristic', True)\n",
            "('add', 'mul', False, 'legacy-heuristic', False)\n",
            "('add', 'mul', False, 'legacy-heuristic', 0)\n",
            "('mul', 'add', True, 'estimated', True)\n",
            "('mul', 'add', True, 'estimated', False)\n",
            "('mul', 'add', True, 'estimated', 0)\n",
            "('mul', 'add', True, 'heuristic', True)\n",
            "('mul', 'add', True, 'heuristic', False)\n",
            "('mul', 'add', True, 'heuristic', 0)\n",
            "('mul', 'add', True, 'legacy-heuristic', True)\n",
            "('mul', 'add', True, 'legacy-heuristic', False)\n",
            "('mul', 'add', True, 'legacy-heuristic', 0)\n",
            "('mul', 'add', False, 'estimated', True)\n",
            "('mul', 'add', False, 'estimated', False)\n",
            "('mul', 'add', False, 'estimated', 0)\n",
            "('mul', 'add', False, 'heuristic', True)\n",
            "('mul', 'add', False, 'heuristic', False)\n",
            "('mul', 'add', False, 'heuristic', 0)\n",
            "('mul', 'add', False, 'legacy-heuristic', True)\n",
            "('mul', 'add', False, 'legacy-heuristic', False)\n",
            "('mul', 'add', False, 'legacy-heuristic', 0)\n",
            "('mul', 'mul', True, 'estimated', True)\n",
            "('mul', 'mul', True, 'estimated', False)\n",
            "('mul', 'mul', True, 'estimated', 0)\n",
            "('mul', 'mul', True, 'heuristic', True)\n",
            "('mul', 'mul', True, 'heuristic', False)\n",
            "('mul', 'mul', True, 'heuristic', 0)\n",
            "('mul', 'mul', True, 'legacy-heuristic', True)\n",
            "('mul', 'mul', True, 'legacy-heuristic', False)\n",
            "('mul', 'mul', True, 'legacy-heuristic', 0)\n",
            "('mul', 'mul', False, 'estimated', True)\n",
            "('mul', 'mul', False, 'estimated', False)\n",
            "('mul', 'mul', False, 'estimated', 0)\n",
            "('mul', 'mul', False, 'heuristic', True)\n",
            "('mul', 'mul', False, 'heuristic', False)\n",
            "('mul', 'mul', False, 'heuristic', 0)\n",
            "('mul', 'mul', False, 'legacy-heuristic', True)\n",
            "('mul', 'mul', False, 'legacy-heuristic', False)\n",
            "('mul', 'mul', False, 'legacy-heuristic', 0)\n"
          ],
          "name": "stdout"
        }
      ]
    },
    {
      "cell_type": "code",
      "metadata": {
        "colab": {
          "base_uri": "https://localhost:8080/"
        },
        "id": "wwCytCTuy-J-",
        "outputId": "818d9726-e861-4433-d6f3-f957fcef7c9a"
      },
      "source": [
        "best_score = float('inf')\n",
        "best_options = None\n",
        "for x in itertools.product(*tuple_of_option_lists):\n",
        "  score = walkforward(*x)\n",
        "\n",
        "  if score < best_score:\n",
        "    print(\"Best score so far:\", score)\n",
        "    best_score = score\n",
        "    best_options = x"
      ],
      "execution_count": null,
      "outputs": [
        {
          "output_type": "stream",
          "text": [
            "Best score so far: 412.8172232531102\n",
            "Best score so far: 412.70685632723337\n",
            "Best score so far: 320.664050569128\n"
          ],
          "name": "stdout"
        },
        {
          "output_type": "stream",
          "text": [
            "/usr/local/lib/python3.7/dist-packages/statsmodels/tsa/holtwinters/model.py:80: RuntimeWarning: overflow encountered in matmul\n",
            "  return err.T @ err\n",
            "/usr/local/lib/python3.7/dist-packages/statsmodels/tsa/holtwinters/model.py:80: RuntimeWarning: overflow encountered in matmul\n",
            "  return err.T @ err\n",
            "/usr/local/lib/python3.7/dist-packages/statsmodels/tsa/holtwinters/model.py:80: RuntimeWarning: overflow encountered in matmul\n",
            "  return err.T @ err\n",
            "/usr/local/lib/python3.7/dist-packages/statsmodels/tsa/holtwinters/model.py:80: RuntimeWarning: overflow encountered in matmul\n",
            "  return err.T @ err\n",
            "/usr/local/lib/python3.7/dist-packages/statsmodels/tsa/holtwinters/model.py:80: RuntimeWarning: overflow encountered in matmul\n",
            "  return err.T @ err\n",
            "/usr/local/lib/python3.7/dist-packages/statsmodels/tsa/holtwinters/model.py:80: RuntimeWarning: overflow encountered in matmul\n",
            "  return err.T @ err\n",
            "/usr/local/lib/python3.7/dist-packages/statsmodels/tsa/holtwinters/model.py:80: RuntimeWarning: overflow encountered in matmul\n",
            "  return err.T @ err\n",
            "/usr/local/lib/python3.7/dist-packages/statsmodels/tsa/holtwinters/model.py:80: RuntimeWarning: overflow encountered in matmul\n",
            "  return err.T @ err\n",
            "/usr/local/lib/python3.7/dist-packages/statsmodels/tsa/holtwinters/model.py:80: RuntimeWarning: overflow encountered in matmul\n",
            "  return err.T @ err\n",
            "/usr/local/lib/python3.7/dist-packages/statsmodels/tsa/holtwinters/model.py:80: RuntimeWarning: overflow encountered in matmul\n",
            "  return err.T @ err\n",
            "/usr/local/lib/python3.7/dist-packages/statsmodels/tsa/holtwinters/model.py:80: RuntimeWarning: overflow encountered in matmul\n",
            "  return err.T @ err\n",
            "/usr/local/lib/python3.7/dist-packages/statsmodels/tsa/holtwinters/model.py:80: RuntimeWarning: overflow encountered in matmul\n",
            "  return err.T @ err\n",
            "/usr/local/lib/python3.7/dist-packages/statsmodels/tsa/holtwinters/model.py:80: RuntimeWarning: overflow encountered in matmul\n",
            "  return err.T @ err\n",
            "/usr/local/lib/python3.7/dist-packages/statsmodels/tsa/holtwinters/model.py:80: RuntimeWarning: overflow encountered in matmul\n",
            "  return err.T @ err\n",
            "/usr/local/lib/python3.7/dist-packages/statsmodels/tsa/holtwinters/model.py:80: RuntimeWarning: overflow encountered in matmul\n",
            "  return err.T @ err\n",
            "/usr/local/lib/python3.7/dist-packages/statsmodels/tsa/holtwinters/model.py:80: RuntimeWarning: overflow encountered in matmul\n",
            "  return err.T @ err\n",
            "/usr/local/lib/python3.7/dist-packages/statsmodels/tsa/holtwinters/model.py:80: RuntimeWarning: overflow encountered in matmul\n",
            "  return err.T @ err\n",
            "/usr/local/lib/python3.7/dist-packages/statsmodels/tsa/holtwinters/model.py:80: RuntimeWarning: overflow encountered in matmul\n",
            "  return err.T @ err\n",
            "/usr/local/lib/python3.7/dist-packages/statsmodels/tsa/holtwinters/model.py:80: RuntimeWarning: overflow encountered in matmul\n",
            "  return err.T @ err\n",
            "/usr/local/lib/python3.7/dist-packages/statsmodels/tsa/holtwinters/model.py:80: RuntimeWarning: overflow encountered in matmul\n",
            "  return err.T @ err\n",
            "/usr/local/lib/python3.7/dist-packages/statsmodels/tsa/holtwinters/model.py:80: RuntimeWarning: overflow encountered in matmul\n",
            "  return err.T @ err\n",
            "/usr/local/lib/python3.7/dist-packages/statsmodels/tsa/holtwinters/model.py:80: RuntimeWarning: overflow encountered in matmul\n",
            "  return err.T @ err\n",
            "/usr/local/lib/python3.7/dist-packages/statsmodels/tsa/holtwinters/model.py:80: RuntimeWarning: overflow encountered in matmul\n",
            "  return err.T @ err\n",
            "/usr/local/lib/python3.7/dist-packages/statsmodels/tsa/holtwinters/model.py:80: RuntimeWarning: overflow encountered in matmul\n",
            "  return err.T @ err\n",
            "/usr/local/lib/python3.7/dist-packages/statsmodels/tsa/holtwinters/model.py:80: RuntimeWarning: overflow encountered in matmul\n",
            "  return err.T @ err\n",
            "/usr/local/lib/python3.7/dist-packages/statsmodels/tsa/holtwinters/model.py:80: RuntimeWarning: overflow encountered in matmul\n",
            "  return err.T @ err\n",
            "/usr/local/lib/python3.7/dist-packages/statsmodels/tsa/holtwinters/model.py:80: RuntimeWarning: overflow encountered in matmul\n",
            "  return err.T @ err\n",
            "/usr/local/lib/python3.7/dist-packages/statsmodels/tsa/holtwinters/model.py:80: RuntimeWarning: overflow encountered in matmul\n",
            "  return err.T @ err\n",
            "/usr/local/lib/python3.7/dist-packages/statsmodels/tsa/holtwinters/model.py:80: RuntimeWarning: overflow encountered in matmul\n",
            "  return err.T @ err\n",
            "/usr/local/lib/python3.7/dist-packages/statsmodels/tsa/holtwinters/model.py:80: RuntimeWarning: overflow encountered in matmul\n",
            "  return err.T @ err\n"
          ],
          "name": "stderr"
        },
        {
          "output_type": "stream",
          "text": [
            "Best score so far: 300.4779910420892\n"
          ],
          "name": "stdout"
        },
        {
          "output_type": "stream",
          "text": [
            "/usr/local/lib/python3.7/dist-packages/statsmodels/tsa/holtwinters/model.py:80: RuntimeWarning: overflow encountered in matmul\n",
            "  return err.T @ err\n",
            "/usr/local/lib/python3.7/dist-packages/statsmodels/tsa/holtwinters/model.py:80: RuntimeWarning: overflow encountered in matmul\n",
            "  return err.T @ err\n",
            "/usr/local/lib/python3.7/dist-packages/statsmodels/tsa/holtwinters/model.py:80: RuntimeWarning: overflow encountered in matmul\n",
            "  return err.T @ err\n",
            "/usr/local/lib/python3.7/dist-packages/statsmodels/tsa/holtwinters/model.py:80: RuntimeWarning: overflow encountered in matmul\n",
            "  return err.T @ err\n",
            "/usr/local/lib/python3.7/dist-packages/statsmodels/tsa/holtwinters/model.py:80: RuntimeWarning: overflow encountered in matmul\n",
            "  return err.T @ err\n",
            "/usr/local/lib/python3.7/dist-packages/statsmodels/tsa/holtwinters/model.py:80: RuntimeWarning: overflow encountered in matmul\n",
            "  return err.T @ err\n",
            "/usr/local/lib/python3.7/dist-packages/statsmodels/tsa/holtwinters/model.py:80: RuntimeWarning: overflow encountered in matmul\n",
            "  return err.T @ err\n",
            "/usr/local/lib/python3.7/dist-packages/statsmodels/tsa/holtwinters/model.py:80: RuntimeWarning: overflow encountered in matmul\n",
            "  return err.T @ err\n",
            "/usr/local/lib/python3.7/dist-packages/statsmodels/tsa/holtwinters/model.py:80: RuntimeWarning: overflow encountered in matmul\n",
            "  return err.T @ err\n",
            "/usr/local/lib/python3.7/dist-packages/statsmodels/tsa/holtwinters/model.py:80: RuntimeWarning: overflow encountered in matmul\n",
            "  return err.T @ err\n",
            "/usr/local/lib/python3.7/dist-packages/statsmodels/tsa/holtwinters/model.py:80: RuntimeWarning: overflow encountered in matmul\n",
            "  return err.T @ err\n",
            "/usr/local/lib/python3.7/dist-packages/statsmodels/tsa/holtwinters/model.py:80: RuntimeWarning: overflow encountered in matmul\n",
            "  return err.T @ err\n",
            "/usr/local/lib/python3.7/dist-packages/statsmodels/tsa/holtwinters/model.py:80: RuntimeWarning: overflow encountered in matmul\n",
            "  return err.T @ err\n",
            "/usr/local/lib/python3.7/dist-packages/statsmodels/tsa/holtwinters/model.py:80: RuntimeWarning: overflow encountered in matmul\n",
            "  return err.T @ err\n",
            "/usr/local/lib/python3.7/dist-packages/statsmodels/tsa/holtwinters/model.py:80: RuntimeWarning: overflow encountered in matmul\n",
            "  return err.T @ err\n",
            "/usr/local/lib/python3.7/dist-packages/statsmodels/tsa/holtwinters/model.py:80: RuntimeWarning: overflow encountered in matmul\n",
            "  return err.T @ err\n",
            "/usr/local/lib/python3.7/dist-packages/statsmodels/tsa/holtwinters/model.py:80: RuntimeWarning: overflow encountered in matmul\n",
            "  return err.T @ err\n",
            "/usr/local/lib/python3.7/dist-packages/statsmodels/tsa/holtwinters/model.py:80: RuntimeWarning: overflow encountered in matmul\n",
            "  return err.T @ err\n",
            "/usr/local/lib/python3.7/dist-packages/statsmodels/tsa/holtwinters/model.py:80: RuntimeWarning: overflow encountered in matmul\n",
            "  return err.T @ err\n",
            "/usr/local/lib/python3.7/dist-packages/statsmodels/tsa/holtwinters/model.py:80: RuntimeWarning: overflow encountered in matmul\n",
            "  return err.T @ err\n",
            "/usr/local/lib/python3.7/dist-packages/statsmodels/tsa/holtwinters/model.py:80: RuntimeWarning: overflow encountered in matmul\n",
            "  return err.T @ err\n",
            "/usr/local/lib/python3.7/dist-packages/statsmodels/tsa/holtwinters/model.py:80: RuntimeWarning: overflow encountered in matmul\n",
            "  return err.T @ err\n",
            "/usr/local/lib/python3.7/dist-packages/statsmodels/tsa/holtwinters/model.py:80: RuntimeWarning: overflow encountered in matmul\n",
            "  return err.T @ err\n",
            "/usr/local/lib/python3.7/dist-packages/statsmodels/tsa/holtwinters/model.py:80: RuntimeWarning: overflow encountered in matmul\n",
            "  return err.T @ err\n",
            "/usr/local/lib/python3.7/dist-packages/statsmodels/tsa/holtwinters/model.py:80: RuntimeWarning: overflow encountered in matmul\n",
            "  return err.T @ err\n",
            "/usr/local/lib/python3.7/dist-packages/statsmodels/tsa/holtwinters/model.py:80: RuntimeWarning: overflow encountered in matmul\n",
            "  return err.T @ err\n",
            "/usr/local/lib/python3.7/dist-packages/statsmodels/tsa/holtwinters/model.py:80: RuntimeWarning: overflow encountered in matmul\n",
            "  return err.T @ err\n",
            "/usr/local/lib/python3.7/dist-packages/statsmodels/tsa/holtwinters/model.py:80: RuntimeWarning: overflow encountered in matmul\n",
            "  return err.T @ err\n",
            "/usr/local/lib/python3.7/dist-packages/statsmodels/tsa/holtwinters/model.py:80: RuntimeWarning: overflow encountered in matmul\n",
            "  return err.T @ err\n",
            "/usr/local/lib/python3.7/dist-packages/statsmodels/tsa/holtwinters/model.py:80: RuntimeWarning: overflow encountered in matmul\n",
            "  return err.T @ err\n",
            "/usr/local/lib/python3.7/dist-packages/statsmodels/tsa/holtwinters/model.py:80: RuntimeWarning: overflow encountered in matmul\n",
            "  return err.T @ err\n",
            "/usr/local/lib/python3.7/dist-packages/statsmodels/tsa/holtwinters/model.py:80: RuntimeWarning: overflow encountered in matmul\n",
            "  return err.T @ err\n",
            "/usr/local/lib/python3.7/dist-packages/statsmodels/tsa/holtwinters/model.py:80: RuntimeWarning: overflow encountered in matmul\n",
            "  return err.T @ err\n",
            "/usr/local/lib/python3.7/dist-packages/statsmodels/tsa/holtwinters/model.py:80: RuntimeWarning: overflow encountered in matmul\n",
            "  return err.T @ err\n",
            "/usr/local/lib/python3.7/dist-packages/statsmodels/tsa/holtwinters/model.py:80: RuntimeWarning: overflow encountered in matmul\n",
            "  return err.T @ err\n",
            "/usr/local/lib/python3.7/dist-packages/statsmodels/tsa/holtwinters/model.py:80: RuntimeWarning: overflow encountered in matmul\n",
            "  return err.T @ err\n",
            "/usr/local/lib/python3.7/dist-packages/statsmodels/tsa/holtwinters/model.py:80: RuntimeWarning: overflow encountered in matmul\n",
            "  return err.T @ err\n",
            "/usr/local/lib/python3.7/dist-packages/statsmodels/tsa/holtwinters/model.py:80: RuntimeWarning: overflow encountered in matmul\n",
            "  return err.T @ err\n",
            "/usr/local/lib/python3.7/dist-packages/statsmodels/tsa/holtwinters/model.py:80: RuntimeWarning: overflow encountered in matmul\n",
            "  return err.T @ err\n",
            "/usr/local/lib/python3.7/dist-packages/statsmodels/tsa/holtwinters/model.py:80: RuntimeWarning: overflow encountered in matmul\n",
            "  return err.T @ err\n",
            "/usr/local/lib/python3.7/dist-packages/statsmodels/tsa/holtwinters/model.py:80: RuntimeWarning: overflow encountered in matmul\n",
            "  return err.T @ err\n",
            "/usr/local/lib/python3.7/dist-packages/statsmodels/tsa/holtwinters/model.py:80: RuntimeWarning: overflow encountered in matmul\n",
            "  return err.T @ err\n",
            "/usr/local/lib/python3.7/dist-packages/statsmodels/tsa/holtwinters/model.py:80: RuntimeWarning: overflow encountered in matmul\n",
            "  return err.T @ err\n",
            "/usr/local/lib/python3.7/dist-packages/statsmodels/tsa/holtwinters/model.py:80: RuntimeWarning: overflow encountered in matmul\n",
            "  return err.T @ err\n",
            "/usr/local/lib/python3.7/dist-packages/statsmodels/tsa/holtwinters/model.py:80: RuntimeWarning: overflow encountered in matmul\n",
            "  return err.T @ err\n",
            "/usr/local/lib/python3.7/dist-packages/statsmodels/tsa/holtwinters/model.py:80: RuntimeWarning: overflow encountered in matmul\n",
            "  return err.T @ err\n",
            "/usr/local/lib/python3.7/dist-packages/statsmodels/tsa/holtwinters/model.py:80: RuntimeWarning: overflow encountered in matmul\n",
            "  return err.T @ err\n",
            "/usr/local/lib/python3.7/dist-packages/statsmodels/tsa/holtwinters/model.py:80: RuntimeWarning: overflow encountered in matmul\n",
            "  return err.T @ err\n",
            "/usr/local/lib/python3.7/dist-packages/statsmodels/tsa/holtwinters/model.py:80: RuntimeWarning: overflow encountered in matmul\n",
            "  return err.T @ err\n"
          ],
          "name": "stderr"
        },
        {
          "output_type": "stream",
          "text": [
            "Best score so far: 287.4047511223069\n"
          ],
          "name": "stdout"
        },
        {
          "output_type": "stream",
          "text": [
            "/usr/local/lib/python3.7/dist-packages/statsmodels/tsa/holtwinters/model.py:80: RuntimeWarning: overflow encountered in matmul\n",
            "  return err.T @ err\n",
            "/usr/local/lib/python3.7/dist-packages/statsmodels/tsa/holtwinters/model.py:80: RuntimeWarning: overflow encountered in matmul\n",
            "  return err.T @ err\n",
            "/usr/local/lib/python3.7/dist-packages/statsmodels/tsa/holtwinters/model.py:80: RuntimeWarning: overflow encountered in matmul\n",
            "  return err.T @ err\n",
            "/usr/local/lib/python3.7/dist-packages/statsmodels/tsa/holtwinters/model.py:80: RuntimeWarning: overflow encountered in matmul\n",
            "  return err.T @ err\n",
            "/usr/local/lib/python3.7/dist-packages/statsmodels/tsa/holtwinters/model.py:80: RuntimeWarning: overflow encountered in matmul\n",
            "  return err.T @ err\n",
            "/usr/local/lib/python3.7/dist-packages/statsmodels/tsa/holtwinters/model.py:80: RuntimeWarning: overflow encountered in matmul\n",
            "  return err.T @ err\n",
            "/usr/local/lib/python3.7/dist-packages/statsmodels/tsa/holtwinters/model.py:80: RuntimeWarning: overflow encountered in matmul\n",
            "  return err.T @ err\n",
            "/usr/local/lib/python3.7/dist-packages/statsmodels/tsa/holtwinters/model.py:80: RuntimeWarning: overflow encountered in matmul\n",
            "  return err.T @ err\n",
            "/usr/local/lib/python3.7/dist-packages/statsmodels/tsa/holtwinters/model.py:80: RuntimeWarning: overflow encountered in matmul\n",
            "  return err.T @ err\n",
            "/usr/local/lib/python3.7/dist-packages/statsmodels/tsa/holtwinters/model.py:80: RuntimeWarning: overflow encountered in matmul\n",
            "  return err.T @ err\n",
            "/usr/local/lib/python3.7/dist-packages/statsmodels/tsa/holtwinters/model.py:80: RuntimeWarning: overflow encountered in matmul\n",
            "  return err.T @ err\n",
            "/usr/local/lib/python3.7/dist-packages/statsmodels/tsa/holtwinters/model.py:80: RuntimeWarning: overflow encountered in matmul\n",
            "  return err.T @ err\n",
            "/usr/local/lib/python3.7/dist-packages/statsmodels/tsa/holtwinters/model.py:80: RuntimeWarning: overflow encountered in matmul\n",
            "  return err.T @ err\n",
            "/usr/local/lib/python3.7/dist-packages/statsmodels/tsa/holtwinters/model.py:80: RuntimeWarning: overflow encountered in matmul\n",
            "  return err.T @ err\n",
            "/usr/local/lib/python3.7/dist-packages/statsmodels/tsa/holtwinters/model.py:80: RuntimeWarning: overflow encountered in matmul\n",
            "  return err.T @ err\n",
            "/usr/local/lib/python3.7/dist-packages/statsmodels/tsa/holtwinters/model.py:80: RuntimeWarning: overflow encountered in matmul\n",
            "  return err.T @ err\n",
            "/usr/local/lib/python3.7/dist-packages/statsmodels/tsa/holtwinters/model.py:80: RuntimeWarning: overflow encountered in matmul\n",
            "  return err.T @ err\n",
            "/usr/local/lib/python3.7/dist-packages/statsmodels/tsa/holtwinters/model.py:80: RuntimeWarning: overflow encountered in matmul\n",
            "  return err.T @ err\n",
            "/usr/local/lib/python3.7/dist-packages/statsmodels/tsa/holtwinters/model.py:80: RuntimeWarning: overflow encountered in matmul\n",
            "  return err.T @ err\n",
            "/usr/local/lib/python3.7/dist-packages/statsmodels/tsa/holtwinters/model.py:80: RuntimeWarning: overflow encountered in matmul\n",
            "  return err.T @ err\n",
            "/usr/local/lib/python3.7/dist-packages/statsmodels/tsa/holtwinters/model.py:80: RuntimeWarning: overflow encountered in matmul\n",
            "  return err.T @ err\n",
            "/usr/local/lib/python3.7/dist-packages/statsmodels/tsa/holtwinters/model.py:80: RuntimeWarning: overflow encountered in matmul\n",
            "  return err.T @ err\n",
            "/usr/local/lib/python3.7/dist-packages/statsmodels/tsa/holtwinters/model.py:80: RuntimeWarning: overflow encountered in matmul\n",
            "  return err.T @ err\n",
            "/usr/local/lib/python3.7/dist-packages/statsmodels/tsa/holtwinters/model.py:80: RuntimeWarning: overflow encountered in matmul\n",
            "  return err.T @ err\n",
            "/usr/local/lib/python3.7/dist-packages/statsmodels/tsa/holtwinters/model.py:80: RuntimeWarning: overflow encountered in matmul\n",
            "  return err.T @ err\n",
            "/usr/local/lib/python3.7/dist-packages/statsmodels/tsa/holtwinters/model.py:80: RuntimeWarning: overflow encountered in matmul\n",
            "  return err.T @ err\n",
            "/usr/local/lib/python3.7/dist-packages/statsmodels/tsa/holtwinters/model.py:80: RuntimeWarning: overflow encountered in matmul\n",
            "  return err.T @ err\n",
            "/usr/local/lib/python3.7/dist-packages/statsmodels/tsa/holtwinters/model.py:80: RuntimeWarning: overflow encountered in matmul\n",
            "  return err.T @ err\n",
            "/usr/local/lib/python3.7/dist-packages/statsmodels/tsa/holtwinters/model.py:80: RuntimeWarning: overflow encountered in matmul\n",
            "  return err.T @ err\n",
            "/usr/local/lib/python3.7/dist-packages/statsmodels/tsa/holtwinters/model.py:80: RuntimeWarning: overflow encountered in matmul\n",
            "  return err.T @ err\n",
            "/usr/local/lib/python3.7/dist-packages/statsmodels/tsa/holtwinters/model.py:80: RuntimeWarning: overflow encountered in matmul\n",
            "  return err.T @ err\n"
          ],
          "name": "stderr"
        }
      ]
    },
    {
      "cell_type": "code",
      "metadata": {
        "colab": {
          "base_uri": "https://localhost:8080/"
        },
        "id": "vXOfYRqTzXQ1",
        "outputId": "b4ddf293-c04b-467f-a331-a187a81066ea"
      },
      "source": [
        "print(\"best score:\", best_score)\n",
        "\n",
        "trend_type, seasonal_type, damped_trend, init_method, use_boxcox = best_options\n",
        "print(\"trend_type\", trend_type)\n",
        "print(\"seasonal_type\", seasonal_type)\n",
        "print(\"damped_trend\", damped_trend)\n",
        "print(\"init_method\", init_method)\n",
        "print(\"use_boxcox\", use_boxcox)"
      ],
      "execution_count": null,
      "outputs": [
        {
          "output_type": "stream",
          "text": [
            "best score: 287.4047511223069\n",
            "trend_type mul\n",
            "seasonal_type mul\n",
            "damped_trend True\n",
            "init_method legacy-heuristic\n",
            "use_boxcox False\n"
          ],
          "name": "stdout"
        }
      ]
    },
    {
      "cell_type": "code",
      "metadata": {
        "id": "FRhmT06QMbv9"
      },
      "source": [
        "Ntest = 12\n",
        "train = df.iloc[:-Ntest]\n",
        "test = df.iloc[-Ntest:]"
      ],
      "execution_count": null,
      "outputs": []
    },
    {
      "cell_type": "code",
      "metadata": {
        "colab": {
          "base_uri": "https://localhost:8080/"
        },
        "id": "pclpt1QBMatw",
        "outputId": "89043b41-cd47-4126-fc5c-f9468dba4465"
      },
      "source": [
        "hw = ExponentialSmoothing(\n",
        "    train['Passengers'],\n",
        "    initialization_method='legacy-heuristic',\n",
        "    trend='mul',\n",
        "    damped_trend=True,\n",
        "    seasonal='mul',\n",
        "    seasonal_periods=12,\n",
        "    use_boxcox=False)\n",
        "res_hw = hw.fit()"
      ],
      "execution_count": null,
      "outputs": [
        {
          "output_type": "stream",
          "text": [
            "/usr/local/lib/python3.7/dist-packages/statsmodels/tsa/holtwinters/model.py:80: RuntimeWarning: overflow encountered in matmul\n",
            "  return err.T @ err\n"
          ],
          "name": "stderr"
        }
      ]
    },
    {
      "cell_type": "code",
      "metadata": {
        "id": "Ewj4N2wLMuB_"
      },
      "source": [
        "train_idx = df.index <= train.index[-1]\n",
        "test_idx = df.index > train.index[-1]"
      ],
      "execution_count": null,
      "outputs": []
    },
    {
      "cell_type": "code",
      "metadata": {
        "id": "UX18nuzJM1f1"
      },
      "source": [
        "df.loc[train_idx, 'TrainPred'] = res_hw.fittedvalues\n",
        "df.loc[test_idx, 'Forecast'] = res_hw.forecast(Ntest)"
      ],
      "execution_count": null,
      "outputs": []
    },
    {
      "cell_type": "code",
      "metadata": {
        "colab": {
          "base_uri": "https://localhost:8080/",
          "height": 497
        },
        "id": "VqD5MbjOM-8a",
        "outputId": "b2e17a49-e8e7-4d80-be62-c4da103b10c6"
      },
      "source": [
        "df[['Passengers', 'TrainPred', 'Forecast']].plot(figsize=(20, 8));"
      ],
      "execution_count": null,
      "outputs": [
        {
          "output_type": "display_data",
          "data": {
            "image/png": "[encoded data removed]",
            "text/plain": [
              "<Figure size 1440x576 with 1 Axes>"
            ]
          },
          "metadata": {
            "tags": [],
            "needs_background": "light"
          }
        }
      ]
    }
  ]
}