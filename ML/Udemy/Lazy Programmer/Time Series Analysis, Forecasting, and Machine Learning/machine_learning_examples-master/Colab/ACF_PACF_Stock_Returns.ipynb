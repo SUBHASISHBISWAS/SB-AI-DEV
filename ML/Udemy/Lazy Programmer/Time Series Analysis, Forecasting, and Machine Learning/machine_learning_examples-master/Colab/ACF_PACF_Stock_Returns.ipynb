{
  "nbformat": 4,
  "nbformat_minor": 0,
  "metadata": {
    "colab": {
      "name": "ACF/PACF Stock Returns.ipynb",
      "provenance": []
    },
    "kernelspec": {
      "name": "python3",
      "display_name": "Python 3"
    }
  },
  "cells": [
    {
      "cell_type": "code",
      "metadata": {
        "id": "hWWt3yaiDZRN",
        "colab": {
          "base_uri": "https://localhost:8080/",
          "height": 224
        },
        "outputId": "03375cd0-b38a-4ad8-d143-b819932018ce"
      },
      "source": [
        "!wget -nc https://lazyprogrammer.me/course_files/sp500sub.csv"
      ],
      "execution_count": null,
      "outputs": [
        {
          "output_type": "stream",
          "text": [
            "--2020-07-29 18:21:57--  https://lazyprogrammer.me/course_files/sp500sub.csv\n",
            "Resolving lazyprogrammer.me (lazyprogrammer.me)... 104.31.80.48, 172.67.213.166, 104.31.81.48, ...\n",
            "Connecting to lazyprogrammer.me (lazyprogrammer.me)|104.31.80.48|:443... connected.\n",
            "HTTP request sent, awaiting response... 200 OK\n",
            "Length: 25473876 (24M) [text/csv]\n",
            "Saving to: ‘sp500sub.csv’\n",
            "\n",
            "sp500sub.csv        100%[===================>]  24.29M  11.6MB/s    in 2.1s    \n",
            "\n",
            "2020-07-29 18:21:59 (11.6 MB/s) - ‘sp500sub.csv’ saved [25473876/25473876]\n",
            "\n"
          ],
          "name": "stdout"
        }
      ]
    },
    {
      "cell_type": "code",
      "metadata": {
        "id": "_vx-bzFRDfpI",
        "colab": {
          "base_uri": "https://localhost:8080/",
          "height": 71
        },
        "outputId": "c71f8a04-8ad6-4203-f5d3-310492f9eade"
      },
      "source": [
        "import pandas as pd\n",
        "import numpy as np\n",
        "import matplotlib.pyplot as plt\n",
        "from statsmodels.graphics.tsaplots import plot_pacf, plot_acf"
      ],
      "execution_count": null,
      "outputs": [
        {
          "output_type": "stream",
          "text": [
            "/usr/local/lib/python3.6/dist-packages/statsmodels/tools/_testing.py:19: FutureWarning: pandas.util.testing is deprecated. Use the functions in the public API at pandas.testing instead.\n",
            "  import pandas.util.testing as tm\n"
          ],
          "name": "stderr"
        }
      ]
    },
    {
      "cell_type": "code",
      "metadata": {
        "id": "CsROMYg9DhAA"
      },
      "source": [
        "df = pd.read_csv('sp500sub.csv', index_col='Date', parse_dates=True)"
      ],
      "execution_count": null,
      "outputs": []
    },
    {
      "cell_type": "code",
      "metadata": {
        "id": "k5_YLas0DjNN"
      },
      "source": [
        "goog = df[df['Name'] == 'GOOG'][['Close']].copy()"
      ],
      "execution_count": null,
      "outputs": []
    },
    {
      "cell_type": "code",
      "metadata": {
        "id": "KpvXJ21XEXX1"
      },
      "source": [
        "def log_ret(price):\n",
        "  log_price = np.log(price)\n",
        "  return log_price.diff()"
      ],
      "execution_count": null,
      "outputs": []
    },
    {
      "cell_type": "code",
      "metadata": {
        "id": "dvkks-OMDynS"
      },
      "source": [
        "goog['LogRet'] = log_ret(goog['Close'])"
      ],
      "execution_count": null,
      "outputs": []
    },
    {
      "cell_type": "code",
      "metadata": {
        "id": "kWCM9bhCEDrq",
        "colab": {
          "base_uri": "https://localhost:8080/",
          "height": 235
        },
        "outputId": "043aa8ab-84e9-43e6-ab25-d778c08ad8d3"
      },
      "source": [
        "goog.head()"
      ],
      "execution_count": null,
      "outputs": [
        {
          "output_type": "execute_result",
          "data": {
            "text/html": [
              "<div>\n",
              "<style scoped>\n",
              "    .dataframe tbody tr th:only-of-type {\n",
              "        vertical-align: middle;\n",
              "    }\n",
              "\n",
              "    .dataframe tbody tr th {\n",
              "        vertical-align: top;\n",
              "    }\n",
              "\n",
              "    .dataframe thead th {\n",
              "        text-align: right;\n",
              "    }\n",
              "</style>\n",
              "<table border=\"1\" class=\"dataframe\">\n",
              "  <thead>\n",
              "    <tr style=\"text-align: right;\">\n",
              "      <th></th>\n",
              "      <th>Close</th>\n",
              "      <th>LogRet</th>\n",
              "    </tr>\n",
              "    <tr>\n",
              "      <th>Date</th>\n",
              "      <th></th>\n",
              "      <th></th>\n",
              "    </tr>\n",
              "  </thead>\n",
              "  <tbody>\n",
              "    <tr>\n",
              "      <th>2010-01-04</th>\n",
              "      <td>312.204773</td>\n",
              "      <td>NaN</td>\n",
              "    </tr>\n",
              "    <tr>\n",
              "      <th>2010-01-05</th>\n",
              "      <td>310.829926</td>\n",
              "      <td>-0.004413</td>\n",
              "    </tr>\n",
              "    <tr>\n",
              "      <th>2010-01-06</th>\n",
              "      <td>302.994293</td>\n",
              "      <td>-0.025532</td>\n",
              "    </tr>\n",
              "    <tr>\n",
              "      <th>2010-01-07</th>\n",
              "      <td>295.940735</td>\n",
              "      <td>-0.023555</td>\n",
              "    </tr>\n",
              "    <tr>\n",
              "      <th>2010-01-08</th>\n",
              "      <td>299.885956</td>\n",
              "      <td>0.013243</td>\n",
              "    </tr>\n",
              "  </tbody>\n",
              "</table>\n",
              "</div>"
            ],
            "text/plain": [
              "                 Close    LogRet\n",
              "Date                            \n",
              "2010-01-04  312.204773       NaN\n",
              "2010-01-05  310.829926 -0.004413\n",
              "2010-01-06  302.994293 -0.025532\n",
              "2010-01-07  295.940735 -0.023555\n",
              "2010-01-08  299.885956  0.013243"
            ]
          },
          "metadata": {
            "tags": []
          },
          "execution_count": 7
        }
      ]
    },
    {
      "cell_type": "code",
      "metadata": {
        "id": "LWVFRvfAD_Ac",
        "colab": {
          "base_uri": "https://localhost:8080/",
          "height": 336
        },
        "outputId": "cc1ea60e-c06c-4262-be6f-607429e95b64"
      },
      "source": [
        "fig, ax = plt.subplots(figsize=(10, 5))\n",
        "plot_pacf(goog['LogRet'].dropna(), ax=ax);"
      ],
      "execution_count": null,
      "outputs": [
        {
          "output_type": "display_data",
          "data": {
            "image/png": "[encoded data removed]",
            "text/plain": [
              "<Figure size 720x360 with 1 Axes>"
            ]
          },
          "metadata": {
            "tags": [],
            "needs_background": "light"
          }
        }
      ]
    },
    {
      "cell_type": "code",
      "metadata": {
        "id": "L-jFc6_9EQnB",
        "colab": {
          "base_uri": "https://localhost:8080/",
          "height": 336
        },
        "outputId": "e7606f19-9b24-455a-be5c-8e468ee992f8"
      },
      "source": [
        "fig, ax = plt.subplots(figsize=(10, 5))\n",
        "plot_acf(goog['LogRet'].dropna(), ax=ax);"
      ],
      "execution_count": null,
      "outputs": [
        {
          "output_type": "display_data",
          "data": {
            "image/png": "[encoded data removed]",
            "text/plain": [
              "<Figure size 720x360 with 1 Axes>"
            ]
          },
          "metadata": {
            "tags": [],
            "needs_background": "light"
          }
        }
      ]
    },
    {
      "cell_type": "code",
      "metadata": {
        "id": "IXNw7qfIDrkv"
      },
      "source": [
        "aapl = df[df['Name'] == 'AAPL'][['Close']].copy()"
      ],
      "execution_count": null,
      "outputs": []
    },
    {
      "cell_type": "code",
      "metadata": {
        "id": "ZMSnx2pBEm6o"
      },
      "source": [
        "aapl['LogRet'] = log_ret(aapl['Close'])"
      ],
      "execution_count": null,
      "outputs": []
    },
    {
      "cell_type": "code",
      "metadata": {
        "id": "fT3VqIm3EsFV",
        "colab": {
          "base_uri": "https://localhost:8080/",
          "height": 336
        },
        "outputId": "41f053b0-9051-4f12-d019-31a7ec817d31"
      },
      "source": [
        "fig, ax = plt.subplots(figsize=(10, 5))\n",
        "plot_pacf(aapl['LogRet'].dropna(), ax=ax);"
      ],
      "execution_count": null,
      "outputs": [
        {
          "output_type": "display_data",
          "data": {
            "image/png": "[encoded data removed]",
            "text/plain": [
              "<Figure size 720x360 with 1 Axes>"
            ]
          },
          "metadata": {
            "tags": [],
            "needs_background": "light"
          }
        }
      ]
    },
    {
      "cell_type": "code",
      "metadata": {
        "id": "wHgqK_BQEwzk",
        "colab": {
          "base_uri": "https://localhost:8080/",
          "height": 336
        },
        "outputId": "0c09fb46-86ce-4c6b-b22c-b192406e95b7"
      },
      "source": [
        "fig, ax = plt.subplots(figsize=(10, 5))\n",
        "plot_acf(aapl['LogRet'].dropna(), ax=ax);"
      ],
      "execution_count": null,
      "outputs": [
        {
          "output_type": "display_data",
          "data": {
            "image/png": "[encoded data removed]",
            "text/plain": [
              "<Figure size 720x360 with 1 Axes>"
            ]
          },
          "metadata": {
            "tags": [],
            "needs_background": "light"
          }
        }
      ]
    },
    {
      "cell_type": "code",
      "metadata": {
        "id": "O8tGJIhjEma3"
      },
      "source": [
        "ibm = df[df['Name'] == 'IBM'][['Close']].copy()\n",
        "ibm['LogRet'] = log_ret(ibm['Close'])"
      ],
      "execution_count": null,
      "outputs": []
    },
    {
      "cell_type": "code",
      "metadata": {
        "id": "u69WIF5jFHG6",
        "colab": {
          "base_uri": "https://localhost:8080/",
          "height": 336
        },
        "outputId": "b57d636f-5fb3-4299-b4ff-d6bbfd960f03"
      },
      "source": [
        "fig, ax = plt.subplots(figsize=(10, 5))\n",
        "plot_pacf(ibm['LogRet'].dropna(), ax=ax);"
      ],
      "execution_count": null,
      "outputs": [
        {
          "output_type": "display_data",
          "data": {
            "image/png": "[encoded data removed]",
            "text/plain": [
              "<Figure size 720x360 with 1 Axes>"
            ]
          },
          "metadata": {
            "tags": [],
            "needs_background": "light"
          }
        }
      ]
    },
    {
      "cell_type": "code",
      "metadata": {
        "id": "L-SvGl78FJNe",
        "colab": {
          "base_uri": "https://localhost:8080/",
          "height": 336
        },
        "outputId": "0870d07d-c6ef-4bb6-e9a1-27075712d42e"
      },
      "source": [
        "fig, ax = plt.subplots(figsize=(10, 5))\n",
        "plot_acf(ibm['LogRet'].dropna(), ax=ax);"
      ],
      "execution_count": null,
      "outputs": [
        {
          "output_type": "display_data",
          "data": {
            "image/png": "[encoded data removed]",
            "text/plain": [
              "<Figure size 720x360 with 1 Axes>"
            ]
          },
          "metadata": {
            "tags": [],
            "needs_background": "light"
          }
        }
      ]
    },
    {
      "cell_type": "code",
      "metadata": {
        "id": "PQY6oh0IFBvD"
      },
      "source": [
        "sbux = df[df['Name'] == 'SBUX'][['Close']].copy()\n",
        "sbux['LogRet'] = log_ret(sbux['Close'])"
      ],
      "execution_count": null,
      "outputs": []
    },
    {
      "cell_type": "code",
      "metadata": {
        "id": "sVQ6gBXkFSTD",
        "colab": {
          "base_uri": "https://localhost:8080/",
          "height": 336
        },
        "outputId": "4970d627-b4f2-42b2-bf54-3b33bb4114d2"
      },
      "source": [
        "fig, ax = plt.subplots(figsize=(10, 5))\n",
        "plot_pacf(sbux['LogRet'].dropna(), ax=ax);"
      ],
      "execution_count": null,
      "outputs": [
        {
          "output_type": "display_data",
          "data": {
            "image/png": "[encoded data removed]",
            "text/plain": [
              "<Figure size 720x360 with 1 Axes>"
            ]
          },
          "metadata": {
            "tags": [],
            "needs_background": "light"
          }
        }
      ]
    },
    {
      "cell_type": "code",
      "metadata": {
        "id": "ibcm19yHFUcV",
        "colab": {
          "base_uri": "https://localhost:8080/",
          "height": 336
        },
        "outputId": "01ae5e8b-e676-48ce-cce4-074c384e467b"
      },
      "source": [
        "fig, ax = plt.subplots(figsize=(10, 5))\n",
        "plot_acf(sbux['LogRet'].dropna(), ax=ax);"
      ],
      "execution_count": null,
      "outputs": [
        {
          "output_type": "display_data",
          "data": {
            "image/png": "[encoded data removed]",
            "text/plain": [
              "<Figure size 720x360 with 1 Axes>"
            ]
          },
          "metadata": {
            "tags": [],
            "needs_background": "light"
          }
        }
      ]
    }
  ]
}