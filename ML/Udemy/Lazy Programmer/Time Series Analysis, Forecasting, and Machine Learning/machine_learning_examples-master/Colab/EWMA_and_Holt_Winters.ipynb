{
  "nbformat": 4,
  "nbformat_minor": 0,
  "metadata": {
    "colab": {
      "name": "EWMA and Holt-Winters.ipynb",
      "provenance": [],
      "collapsed_sections": []
    },
    "kernelspec": {
      "name": "python3",
      "display_name": "Python 3"
    }
  },
  "cells": [
    {
      "cell_type": "code",
      "metadata": {
        "id": "Z8xupCWabjtR",
        "colab": {
          "base_uri": "https://localhost:8080/"
        },
        "outputId": "e06712e1-cedc-42ba-d7a1-6710aeba9dec"
      },
      "source": [
        "!wget -nc https://lazyprogrammer.me/course_files/airline_passengers.csv"
      ],
      "execution_count": null,
      "outputs": [
        {
          "output_type": "stream",
          "text": [
            "--2021-05-28 00:34:55--  https://lazyprogrammer.me/course_files/airline_passengers.csv\n",
            "Resolving lazyprogrammer.me (lazyprogrammer.me)... 172.67.213.166, 104.21.23.210, 2606:4700:3031::6815:17d2, ...\n",
            "Connecting to lazyprogrammer.me (lazyprogrammer.me)|172.67.213.166|:443... connected.\n",
            "HTTP request sent, awaiting response... 200 OK\n",
            "Length: 2036 (2.0K) [text/csv]\n",
            "Saving to: ‘airline_passengers.csv’\n",
            "\n",
            "airline_passengers. 100%[===================>]   1.99K  --.-KB/s    in 0s      \n",
            "\n",
            "2021-05-28 00:34:55 (36.5 MB/s) - ‘airline_passengers.csv’ saved [2036/2036]\n",
            "\n"
          ],
          "name": "stdout"
        }
      ]
    },
    {
      "cell_type": "code",
      "metadata": {
        "id": "7h-aElF6z4jb"
      },
      "source": [
        "import pandas as pd\n",
        "import numpy as np"
      ],
      "execution_count": null,
      "outputs": []
    },
    {
      "cell_type": "code",
      "metadata": {
        "id": "B3d6zpNqz57P"
      },
      "source": [
        "df = pd.read_csv('airline_passengers.csv', index_col='Month', parse_dates=True)"
      ],
      "execution_count": null,
      "outputs": []
    },
    {
      "cell_type": "code",
      "metadata": {
        "id": "8vhanapHz8w6",
        "colab": {
          "base_uri": "https://localhost:8080/",
          "height": 234
        },
        "outputId": "719ba2b2-2088-49ee-f8e9-81bee5c00114"
      },
      "source": [
        "df.head()"
      ],
      "execution_count": null,
      "outputs": [
        {
          "output_type": "execute_result",
          "data": {
            "text/html": [
              "<div>\n",
              "<style scoped>\n",
              "    .dataframe tbody tr th:only-of-type {\n",
              "        vertical-align: middle;\n",
              "    }\n",
              "\n",
              "    .dataframe tbody tr th {\n",
              "        vertical-align: top;\n",
              "    }\n",
              "\n",
              "    .dataframe thead th {\n",
              "        text-align: right;\n",
              "    }\n",
              "</style>\n",
              "<table border=\"1\" class=\"dataframe\">\n",
              "  <thead>\n",
              "    <tr style=\"text-align: right;\">\n",
              "      <th></th>\n",
              "      <th>Passengers</th>\n",
              "    </tr>\n",
              "    <tr>\n",
              "      <th>Month</th>\n",
              "      <th></th>\n",
              "    </tr>\n",
              "  </thead>\n",
              "  <tbody>\n",
              "    <tr>\n",
              "      <th>1949-01-01</th>\n",
              "      <td>112</td>\n",
              "    </tr>\n",
              "    <tr>\n",
              "      <th>1949-02-01</th>\n",
              "      <td>118</td>\n",
              "    </tr>\n",
              "    <tr>\n",
              "      <th>1949-03-01</th>\n",
              "      <td>132</td>\n",
              "    </tr>\n",
              "    <tr>\n",
              "      <th>1949-04-01</th>\n",
              "      <td>129</td>\n",
              "    </tr>\n",
              "    <tr>\n",
              "      <th>1949-05-01</th>\n",
              "      <td>121</td>\n",
              "    </tr>\n",
              "  </tbody>\n",
              "</table>\n",
              "</div>"
            ],
            "text/plain": [
              "            Passengers\n",
              "Month                 \n",
              "1949-01-01         112\n",
              "1949-02-01         118\n",
              "1949-03-01         132\n",
              "1949-04-01         129\n",
              "1949-05-01         121"
            ]
          },
          "metadata": {
            "tags": []
          },
          "execution_count": 4
        }
      ]
    },
    {
      "cell_type": "code",
      "metadata": {
        "id": "Og9GNBdk0Km8",
        "colab": {
          "base_uri": "https://localhost:8080/"
        },
        "outputId": "29980b05-ce52-4a9a-b669-eacec4f5cccc"
      },
      "source": [
        "df.isna().sum()"
      ],
      "execution_count": null,
      "outputs": [
        {
          "output_type": "execute_result",
          "data": {
            "text/plain": [
              "Passengers    0\n",
              "dtype: int64"
            ]
          },
          "metadata": {
            "tags": []
          },
          "execution_count": 5
        }
      ]
    },
    {
      "cell_type": "code",
      "metadata": {
        "id": "bMTooEt30Bw1",
        "colab": {
          "base_uri": "https://localhost:8080/",
          "height": 279
        },
        "outputId": "a70271ca-790f-410b-830f-731629fb07f5"
      },
      "source": [
        "df.plot();"
      ],
      "execution_count": null,
      "outputs": [
        {
          "output_type": "display_data",
          "data": {
            "image/png": "[encoded data removed]",
            "text/plain": [
              "<Figure size 432x288 with 1 Axes>"
            ]
          },
          "metadata": {
            "tags": [],
            "needs_background": "light"
          }
        }
      ]
    },
    {
      "cell_type": "code",
      "metadata": {
        "id": "UyZlAMXD4yZz"
      },
      "source": [
        "alpha = 0.2"
      ],
      "execution_count": null,
      "outputs": []
    },
    {
      "cell_type": "code",
      "metadata": {
        "id": "TO9PQXN_1JLv"
      },
      "source": [
        "df['EWMA'] = df['Passengers'].ewm(alpha=alpha, adjust=False).mean()"
      ],
      "execution_count": null,
      "outputs": []
    },
    {
      "cell_type": "code",
      "metadata": {
        "id": "EHWeC04wnvzP",
        "colab": {
          "base_uri": "https://localhost:8080/"
        },
        "outputId": "40fea4b9-a516-4f67-dded-c9fc851d77e9"
      },
      "source": [
        "type(df['Passengers'].ewm(alpha=alpha, adjust=False))"
      ],
      "execution_count": null,
      "outputs": [
        {
          "output_type": "execute_result",
          "data": {
            "text/plain": [
              "pandas.core.window.ewm.ExponentialMovingWindow"
            ]
          },
          "metadata": {
            "tags": []
          },
          "execution_count": 9
        }
      ]
    },
    {
      "cell_type": "code",
      "metadata": {
        "id": "3mt6VFyy1Xom",
        "colab": {
          "base_uri": "https://localhost:8080/",
          "height": 279
        },
        "outputId": "b4d5ca16-f7e5-4daa-f8dd-7f84afda2a02"
      },
      "source": [
        "df.plot();"
      ],
      "execution_count": null,
      "outputs": [
        {
          "output_type": "display_data",
          "data": {
            "image/png": "[encoded data removed]",
            "text/plain": [
              "<Figure size 432x288 with 1 Axes>"
            ]
          },
          "metadata": {
            "tags": [],
            "needs_background": "light"
          }
        }
      ]
    },
    {
      "cell_type": "code",
      "metadata": {
        "id": "esNYjCxTAgEH"
      },
      "source": [
        "manual_ewma = []\n",
        "for x in df['Passengers'].to_numpy():\n",
        "  if len(manual_ewma) > 0:\n",
        "    xhat = alpha * x + (1 - alpha) * manual_ewma[-1]\n",
        "  else:\n",
        "    xhat = x\n",
        "  manual_ewma.append(xhat)\n",
        "df['Manual'] = manual_ewma"
      ],
      "execution_count": null,
      "outputs": []
    },
    {
      "cell_type": "code",
      "metadata": {
        "id": "CCd6FXBZBBfY",
        "colab": {
          "base_uri": "https://localhost:8080/",
          "height": 279
        },
        "outputId": "56e03cf0-6983-426e-d786-75caae99b598"
      },
      "source": [
        "df.plot();"
      ],
      "execution_count": null,
      "outputs": [
        {
          "output_type": "display_data",
          "data": {
            "image/png": "[encoded data removed]",
            "text/plain": [
              "<Figure size 432x288 with 1 Axes>"
            ]
          },
          "metadata": {
            "tags": [],
            "needs_background": "light"
          }
        }
      ]
    },
    {
      "cell_type": "code",
      "metadata": {
        "id": "Wt0yCTfoBLO1",
        "colab": {
          "base_uri": "https://localhost:8080/",
          "height": 234
        },
        "outputId": "4ae6f5b0-c545-44e9-a581-002d209d8552"
      },
      "source": [
        "df.head()"
      ],
      "execution_count": null,
      "outputs": [
        {
          "output_type": "execute_result",
          "data": {
            "text/html": [
              "<div>\n",
              "<style scoped>\n",
              "    .dataframe tbody tr th:only-of-type {\n",
              "        vertical-align: middle;\n",
              "    }\n",
              "\n",
              "    .dataframe tbody tr th {\n",
              "        vertical-align: top;\n",
              "    }\n",
              "\n",
              "    .dataframe thead th {\n",
              "        text-align: right;\n",
              "    }\n",
              "</style>\n",
              "<table border=\"1\" class=\"dataframe\">\n",
              "  <thead>\n",
              "    <tr style=\"text-align: right;\">\n",
              "      <th></th>\n",
              "      <th>Passengers</th>\n",
              "      <th>EWMA</th>\n",
              "      <th>Manual</th>\n",
              "    </tr>\n",
              "    <tr>\n",
              "      <th>Month</th>\n",
              "      <th></th>\n",
              "      <th></th>\n",
              "      <th></th>\n",
              "    </tr>\n",
              "  </thead>\n",
              "  <tbody>\n",
              "    <tr>\n",
              "      <th>1949-01-01</th>\n",
              "      <td>112</td>\n",
              "      <td>112.0000</td>\n",
              "      <td>112.0000</td>\n",
              "    </tr>\n",
              "    <tr>\n",
              "      <th>1949-02-01</th>\n",
              "      <td>118</td>\n",
              "      <td>113.2000</td>\n",
              "      <td>113.2000</td>\n",
              "    </tr>\n",
              "    <tr>\n",
              "      <th>1949-03-01</th>\n",
              "      <td>132</td>\n",
              "      <td>116.9600</td>\n",
              "      <td>116.9600</td>\n",
              "    </tr>\n",
              "    <tr>\n",
              "      <th>1949-04-01</th>\n",
              "      <td>129</td>\n",
              "      <td>119.3680</td>\n",
              "      <td>119.3680</td>\n",
              "    </tr>\n",
              "    <tr>\n",
              "      <th>1949-05-01</th>\n",
              "      <td>121</td>\n",
              "      <td>119.6944</td>\n",
              "      <td>119.6944</td>\n",
              "    </tr>\n",
              "  </tbody>\n",
              "</table>\n",
              "</div>"
            ],
            "text/plain": [
              "            Passengers      EWMA    Manual\n",
              "Month                                     \n",
              "1949-01-01         112  112.0000  112.0000\n",
              "1949-02-01         118  113.2000  113.2000\n",
              "1949-03-01         132  116.9600  116.9600\n",
              "1949-04-01         129  119.3680  119.3680\n",
              "1949-05-01         121  119.6944  119.6944"
            ]
          },
          "metadata": {
            "tags": []
          },
          "execution_count": 13
        }
      ]
    },
    {
      "cell_type": "code",
      "metadata": {
        "id": "05qnZ9xdBrM_"
      },
      "source": [
        "df.drop('Manual', axis=1, inplace=True)"
      ],
      "execution_count": null,
      "outputs": []
    },
    {
      "cell_type": "code",
      "metadata": {
        "colab": {
          "base_uri": "https://localhost:8080/"
        },
        "id": "kCieMTIOxbzo",
        "outputId": "f20a92f1-52cb-497c-8c0e-0306bbe15931"
      },
      "source": [
        "!pip install -U statsmodels"
      ],
      "execution_count": null,
      "outputs": [
        {
          "output_type": "stream",
          "text": [
            "Collecting statsmodels\n",
            "\u001b[?25l  Downloading https://files.pythonhosted.org/packages/da/69/8eef30a6237c54f3c0b524140e2975f4b1eea3489b45eb3339574fc8acee/statsmodels-0.12.2-cp37-cp37m-manylinux1_x86_64.whl (9.5MB)\n",
            "\u001b[K     |████████████████████████████████| 9.5MB 8.3MB/s \n",
            "\u001b[?25hRequirement already satisfied, skipping upgrade: patsy>=0.5 in /usr/local/lib/python3.7/dist-packages (from statsmodels) (0.5.1)\n",
            "Requirement already satisfied, skipping upgrade: scipy>=1.1 in /usr/local/lib/python3.7/dist-packages (from statsmodels) (1.4.1)\n",
            "Requirement already satisfied, skipping upgrade: pandas>=0.21 in /usr/local/lib/python3.7/dist-packages (from statsmodels) (1.1.5)\n",
            "Requirement already satisfied, skipping upgrade: numpy>=1.15 in /usr/local/lib/python3.7/dist-packages (from statsmodels) (1.19.5)\n",
            "Requirement already satisfied, skipping upgrade: six in /usr/local/lib/python3.7/dist-packages (from patsy>=0.5->statsmodels) (1.15.0)\n",
            "Requirement already satisfied, skipping upgrade: pytz>=2017.2 in /usr/local/lib/python3.7/dist-packages (from pandas>=0.21->statsmodels) (2018.9)\n",
            "Requirement already satisfied, skipping upgrade: python-dateutil>=2.7.3 in /usr/local/lib/python3.7/dist-packages (from pandas>=0.21->statsmodels) (2.8.1)\n",
            "Installing collected packages: statsmodels\n",
            "  Found existing installation: statsmodels 0.10.2\n",
            "    Uninstalling statsmodels-0.10.2:\n",
            "      Successfully uninstalled statsmodels-0.10.2\n",
            "Successfully installed statsmodels-0.12.2\n"
          ],
          "name": "stdout"
        }
      ]
    },
    {
      "cell_type": "code",
      "metadata": {
        "id": "mL-qYTWw0Uhw"
      },
      "source": [
        "from statsmodels.tsa.holtwinters import SimpleExpSmoothing"
      ],
      "execution_count": null,
      "outputs": []
    },
    {
      "cell_type": "code",
      "metadata": {
        "id": "M2HNtMwr1b31",
        "colab": {
          "base_uri": "https://localhost:8080/"
        },
        "outputId": "c26c1a32-9be4-4ea0-c267-69c6896cb928"
      },
      "source": [
        "ses = SimpleExpSmoothing(df['Passengers'])"
      ],
      "execution_count": null,
      "outputs": [
        {
          "output_type": "stream",
          "text": [
            "/usr/local/lib/python3.7/dist-packages/statsmodels/tsa/base/tsa_model.py:527: ValueWarning: No frequency information was provided, so inferred frequency MS will be used.\n",
            "  % freq, ValueWarning)\n",
            "/usr/local/lib/python3.7/dist-packages/statsmodels/tsa/holtwinters/model.py:429: FutureWarning: After 0.13 initialization must be handled at model creation\n",
            "  FutureWarning,\n"
          ],
          "name": "stderr"
        }
      ]
    },
    {
      "cell_type": "code",
      "metadata": {
        "id": "iBtDnT5T1sKK",
        "colab": {
          "base_uri": "https://localhost:8080/"
        },
        "outputId": "4b40c001-2a89-4aa5-ec3c-19cdb120cdee"
      },
      "source": [
        "# link to offset aliases docs\n",
        "# https://pandas.pydata.org/pandas-docs/stable/user_guide/timeseries.html\n",
        "df.index"
      ],
      "execution_count": null,
      "outputs": [
        {
          "output_type": "execute_result",
          "data": {
            "text/plain": [
              "DatetimeIndex(['1949-01-01', '1949-02-01', '1949-03-01', '1949-04-01',\n",
              "               '1949-05-01', '1949-06-01', '1949-07-01', '1949-08-01',\n",
              "               '1949-09-01', '1949-10-01',\n",
              "               ...\n",
              "               '1960-03-01', '1960-04-01', '1960-05-01', '1960-06-01',\n",
              "               '1960-07-01', '1960-08-01', '1960-09-01', '1960-10-01',\n",
              "               '1960-11-01', '1960-12-01'],\n",
              "              dtype='datetime64[ns]', name='Month', length=144, freq=None)"
            ]
          },
          "metadata": {
            "tags": []
          },
          "execution_count": 18
        }
      ]
    },
    {
      "cell_type": "code",
      "metadata": {
        "id": "CPKGMA9m3EXS"
      },
      "source": [
        "df.index.freq = 'MS'"
      ],
      "execution_count": null,
      "outputs": []
    },
    {
      "cell_type": "code",
      "metadata": {
        "id": "CAqbfIkE2qAY"
      },
      "source": [
        "ses = SimpleExpSmoothing(\n",
        "    df['Passengers'],\n",
        "    initialization_method='legacy-heuristic')"
      ],
      "execution_count": null,
      "outputs": []
    },
    {
      "cell_type": "code",
      "metadata": {
        "id": "D7uWlZTL3MHh"
      },
      "source": [
        "res = ses.fit(smoothing_level=alpha, optimized=False)"
      ],
      "execution_count": null,
      "outputs": []
    },
    {
      "cell_type": "code",
      "metadata": {
        "id": "qghp1gn33c3_",
        "colab": {
          "base_uri": "https://localhost:8080/"
        },
        "outputId": "9e9dd00f-12fa-4d25-f5ad-ce85db0605f1"
      },
      "source": [
        "res"
      ],
      "execution_count": null,
      "outputs": [
        {
          "output_type": "execute_result",
          "data": {
            "text/plain": [
              "<statsmodels.tsa.holtwinters.results.HoltWintersResultsWrapper at 0x7f35da7b6c90>"
            ]
          },
          "metadata": {
            "tags": []
          },
          "execution_count": 22
        }
      ]
    },
    {
      "cell_type": "code",
      "metadata": {
        "id": "tgta0Sws3eXq",
        "colab": {
          "base_uri": "https://localhost:8080/"
        },
        "outputId": "3051ca5e-7a49-4faf-db2e-399762f69f21"
      },
      "source": [
        "res.predict(start=df.index[0], end=df.index[-1])"
      ],
      "execution_count": null,
      "outputs": [
        {
          "output_type": "execute_result",
          "data": {
            "text/plain": [
              "Month\n",
              "1949-01-01    112.000000\n",
              "1949-02-01    112.000000\n",
              "1949-03-01    113.200000\n",
              "1949-04-01    116.960000\n",
              "1949-05-01    119.368000\n",
              "                 ...    \n",
              "1960-08-01    488.767616\n",
              "1960-09-01    512.214093\n",
              "1960-10-01    511.371274\n",
              "1960-11-01    501.297019\n",
              "1960-12-01    479.037615\n",
              "Freq: MS, Length: 144, dtype: float64"
            ]
          },
          "metadata": {
            "tags": []
          },
          "execution_count": 23
        }
      ]
    },
    {
      "cell_type": "code",
      "metadata": {
        "id": "xhM5I7224dkl"
      },
      "source": [
        "df['SES'] = res.predict(start=df.index[0], end=df.index[-1])"
      ],
      "execution_count": null,
      "outputs": []
    },
    {
      "cell_type": "code",
      "metadata": {
        "id": "ZiiEES9D32Hd",
        "colab": {
          "base_uri": "https://localhost:8080/"
        },
        "outputId": "3db02786-a675-49bd-e4ad-5e63c9c94b21"
      },
      "source": [
        "np.allclose(df['SES'], res.fittedvalues)"
      ],
      "execution_count": null,
      "outputs": [
        {
          "output_type": "execute_result",
          "data": {
            "text/plain": [
              "True"
            ]
          },
          "metadata": {
            "tags": []
          },
          "execution_count": 25
        }
      ]
    },
    {
      "cell_type": "code",
      "metadata": {
        "id": "Lsx_n2vR3wzI",
        "colab": {
          "base_uri": "https://localhost:8080/",
          "height": 279
        },
        "outputId": "825e40f3-edad-40e3-b11a-f213f645d435"
      },
      "source": [
        "df.plot();"
      ],
      "execution_count": null,
      "outputs": [
        {
          "output_type": "display_data",
          "data": {
            "image/png": "[encoded data removed]",
            "text/plain": [
              "<Figure size 432x288 with 1 Axes>"
            ]
          },
          "metadata": {
            "tags": [],
            "needs_background": "light"
          }
        }
      ]
    },
    {
      "cell_type": "code",
      "metadata": {
        "id": "Mj5_QVB74Fak",
        "colab": {
          "base_uri": "https://localhost:8080/",
          "height": 234
        },
        "outputId": "a72394c4-26d6-47c5-dcdf-14db5184b969"
      },
      "source": [
        "df.head()"
      ],
      "execution_count": null,
      "outputs": [
        {
          "output_type": "execute_result",
          "data": {
            "text/html": [
              "<div>\n",
              "<style scoped>\n",
              "    .dataframe tbody tr th:only-of-type {\n",
              "        vertical-align: middle;\n",
              "    }\n",
              "\n",
              "    .dataframe tbody tr th {\n",
              "        vertical-align: top;\n",
              "    }\n",
              "\n",
              "    .dataframe thead th {\n",
              "        text-align: right;\n",
              "    }\n",
              "</style>\n",
              "<table border=\"1\" class=\"dataframe\">\n",
              "  <thead>\n",
              "    <tr style=\"text-align: right;\">\n",
              "      <th></th>\n",
              "      <th>Passengers</th>\n",
              "      <th>EWMA</th>\n",
              "      <th>SES</th>\n",
              "    </tr>\n",
              "    <tr>\n",
              "      <th>Month</th>\n",
              "      <th></th>\n",
              "      <th></th>\n",
              "      <th></th>\n",
              "    </tr>\n",
              "  </thead>\n",
              "  <tbody>\n",
              "    <tr>\n",
              "      <th>1949-01-01</th>\n",
              "      <td>112</td>\n",
              "      <td>112.0000</td>\n",
              "      <td>112.000</td>\n",
              "    </tr>\n",
              "    <tr>\n",
              "      <th>1949-02-01</th>\n",
              "      <td>118</td>\n",
              "      <td>113.2000</td>\n",
              "      <td>112.000</td>\n",
              "    </tr>\n",
              "    <tr>\n",
              "      <th>1949-03-01</th>\n",
              "      <td>132</td>\n",
              "      <td>116.9600</td>\n",
              "      <td>113.200</td>\n",
              "    </tr>\n",
              "    <tr>\n",
              "      <th>1949-04-01</th>\n",
              "      <td>129</td>\n",
              "      <td>119.3680</td>\n",
              "      <td>116.960</td>\n",
              "    </tr>\n",
              "    <tr>\n",
              "      <th>1949-05-01</th>\n",
              "      <td>121</td>\n",
              "      <td>119.6944</td>\n",
              "      <td>119.368</td>\n",
              "    </tr>\n",
              "  </tbody>\n",
              "</table>\n",
              "</div>"
            ],
            "text/plain": [
              "            Passengers      EWMA      SES\n",
              "Month                                    \n",
              "1949-01-01         112  112.0000  112.000\n",
              "1949-02-01         118  113.2000  112.000\n",
              "1949-03-01         132  116.9600  113.200\n",
              "1949-04-01         129  119.3680  116.960\n",
              "1949-05-01         121  119.6944  119.368"
            ]
          },
          "metadata": {
            "tags": []
          },
          "execution_count": 27
        }
      ]
    },
    {
      "cell_type": "code",
      "metadata": {
        "id": "Mr7La6zo57c8"
      },
      "source": [
        "df['SES-1'] = df['SES'].shift(-1)"
      ],
      "execution_count": null,
      "outputs": []
    },
    {
      "cell_type": "code",
      "metadata": {
        "id": "PXWpMrRr5_O1",
        "colab": {
          "base_uri": "https://localhost:8080/",
          "height": 279
        },
        "outputId": "19a4003a-fb70-4579-e19d-cb5c2312bfbf"
      },
      "source": [
        "### No!\n",
        "df[['Passengers', 'EWMA', 'SES-1']].plot();"
      ],
      "execution_count": null,
      "outputs": [
        {
          "output_type": "display_data",
          "data": {
            "image/png": "[encoded data removed]",
            "text/plain": [
              "<Figure size 432x288 with 1 Axes>"
            ]
          },
          "metadata": {
            "tags": [],
            "needs_background": "light"
          }
        }
      ]
    },
    {
      "cell_type": "code",
      "metadata": {
        "id": "1JAeH17WCCcd"
      },
      "source": [
        "N_test = 12\n",
        "train = df.iloc[:-N_test]\n",
        "test = df.iloc[-N_test:]"
      ],
      "execution_count": null,
      "outputs": []
    },
    {
      "cell_type": "code",
      "metadata": {
        "id": "nr9iwYhBjtq-"
      },
      "source": [
        "ses = SimpleExpSmoothing(\n",
        "    train['Passengers'],\n",
        "    initialization_method='legacy-heuristic')\n",
        "res = ses.fit()"
      ],
      "execution_count": null,
      "outputs": []
    },
    {
      "cell_type": "code",
      "metadata": {
        "id": "WdJYu-3dJacU"
      },
      "source": [
        "# boolean series to index df rows\n",
        "train_idx = df.index <= train.index[-1]\n",
        "test_idx = df.index > train.index[-1]"
      ],
      "execution_count": null,
      "outputs": []
    },
    {
      "cell_type": "code",
      "metadata": {
        "id": "SDTMj99Rj5Bn",
        "colab": {
          "base_uri": "https://localhost:8080/",
          "height": 279
        },
        "outputId": "e9aa0f62-80f0-4f1f-840a-9bb892cec657"
      },
      "source": [
        "df.loc[train_idx, 'SESfitted'] = res.fittedvalues\n",
        "df.loc[test_idx, 'SESfitted'] = res.forecast(N_test)\n",
        "df[['Passengers', 'SESfitted']].plot();"
      ],
      "execution_count": null,
      "outputs": [
        {
          "output_type": "display_data",
          "data": {
            "image/png": "[encoded data removed]",
            "text/plain": [
              "<Figure size 432x288 with 1 Axes>"
            ]
          },
          "metadata": {
            "tags": [],
            "needs_background": "light"
          }
        }
      ]
    },
    {
      "cell_type": "code",
      "metadata": {
        "id": "lFbQxaFXk3yG",
        "colab": {
          "base_uri": "https://localhost:8080/"
        },
        "outputId": "052ef2a2-c63c-4119-bc03-b40c0af3196f"
      },
      "source": [
        "res.params"
      ],
      "execution_count": null,
      "outputs": [
        {
          "output_type": "execute_result",
          "data": {
            "text/plain": [
              "{'damping_trend': nan,\n",
              " 'initial_level': 112.0,\n",
              " 'initial_seasons': array([], dtype=float64),\n",
              " 'initial_trend': nan,\n",
              " 'lamda': None,\n",
              " 'remove_bias': False,\n",
              " 'smoothing_level': 0.995,\n",
              " 'smoothing_seasonal': nan,\n",
              " 'smoothing_trend': nan,\n",
              " 'use_boxcox': False}"
            ]
          },
          "metadata": {
            "tags": []
          },
          "execution_count": 34
        }
      ]
    },
    {
      "cell_type": "code",
      "metadata": {
        "id": "2jw7FnVF6MwE"
      },
      "source": [
        "from statsmodels.tsa.holtwinters import Holt"
      ],
      "execution_count": null,
      "outputs": []
    },
    {
      "cell_type": "code",
      "metadata": {
        "id": "RcWxtQS76YGV"
      },
      "source": [
        "holt = Holt(\n",
        "    df['Passengers'],\n",
        "    initialization_method='legacy-heuristic')"
      ],
      "execution_count": null,
      "outputs": []
    },
    {
      "cell_type": "code",
      "metadata": {
        "id": "wuxXipWh6bQW"
      },
      "source": [
        "res_h = holt.fit()"
      ],
      "execution_count": null,
      "outputs": []
    },
    {
      "cell_type": "code",
      "metadata": {
        "id": "zj46YZaX6mGL"
      },
      "source": [
        "df['Holt'] = res_h.fittedvalues"
      ],
      "execution_count": null,
      "outputs": []
    },
    {
      "cell_type": "code",
      "metadata": {
        "id": "nCQZw03h6qjF"
      },
      "source": [
        "df[['Passengers', 'Holt']].plot();"
      ],
      "execution_count": null,
      "outputs": []
    },
    {
      "cell_type": "code",
      "metadata": {
        "id": "-ExHmeKt6xDp"
      },
      "source": [
        "### No!\n",
        "df['Holt-1'] = df['Holt'].shift(-1)\n",
        "df[['Passengers', 'Holt-1']].plot();"
      ],
      "execution_count": null,
      "outputs": []
    },
    {
      "cell_type": "code",
      "metadata": {
        "id": "xhUpM_JuCOgk"
      },
      "source": [
        "holt = Holt(train['Passengers'], initialization_method='legacy-heuristic')\n",
        "res_h = holt.fit()\n",
        "df.loc[train_idx, 'Holt'] = res_h.fittedvalues"
      ],
      "execution_count": null,
      "outputs": []
    },
    {
      "cell_type": "code",
      "metadata": {
        "id": "-n4jGfZICZbT"
      },
      "source": [
        "df.loc[test_idx, 'Holt'] = res_h.forecast(N_test)"
      ],
      "execution_count": null,
      "outputs": []
    },
    {
      "cell_type": "code",
      "metadata": {
        "id": "vtP4yezDCrew"
      },
      "source": [
        "df[['Passengers', 'Holt']].plot();"
      ],
      "execution_count": null,
      "outputs": []
    },
    {
      "cell_type": "code",
      "metadata": {
        "id": "sgwuc-CgC7eX"
      },
      "source": [
        "from statsmodels.tsa.holtwinters import ExponentialSmoothing"
      ],
      "execution_count": null,
      "outputs": []
    },
    {
      "cell_type": "code",
      "metadata": {
        "id": "018FQUtvC-tV"
      },
      "source": [
        "hw = ExponentialSmoothing(\n",
        "    train['Passengers'],\n",
        "    initialization_method='legacy-heuristic',\n",
        "    trend='add', seasonal='add', seasonal_periods=12)\n",
        "res_hw = hw.fit()"
      ],
      "execution_count": null,
      "outputs": []
    },
    {
      "cell_type": "code",
      "metadata": {
        "id": "VN54ExyvDGj-"
      },
      "source": [
        "df.loc[train_idx, 'HoltWinters'] = res_hw.fittedvalues"
      ],
      "execution_count": null,
      "outputs": []
    },
    {
      "cell_type": "code",
      "metadata": {
        "id": "QjlcHkFdDJnN"
      },
      "source": [
        "df.loc[test_idx, 'HoltWinters'] = res_hw.forecast(N_test)"
      ],
      "execution_count": null,
      "outputs": []
    },
    {
      "cell_type": "code",
      "metadata": {
        "id": "Uo6KmEDaDNZF"
      },
      "source": [
        "df[['Passengers', 'HoltWinters']].plot();"
      ],
      "execution_count": null,
      "outputs": []
    },
    {
      "cell_type": "code",
      "metadata": {
        "id": "dz7npU-VGRlj"
      },
      "source": [
        "def rmse(y, t):\n",
        "  return np.sqrt(np.mean((y - t)**2))"
      ],
      "execution_count": null,
      "outputs": []
    },
    {
      "cell_type": "code",
      "metadata": {
        "id": "Wkkf-bmUuYPh"
      },
      "source": [
        "def mae(y, t):\n",
        "  return np.mean(np.abs(y - t))"
      ],
      "execution_count": null,
      "outputs": []
    },
    {
      "cell_type": "code",
      "metadata": {
        "id": "_EvlVLo6GVAW"
      },
      "source": [
        "print(\"Train RMSE:\", rmse(train['Passengers'], res_hw.fittedvalues))\n",
        "print(\"Test RMSE:\", rmse(test['Passengers'], res_hw.forecast(N_test)))"
      ],
      "execution_count": null,
      "outputs": []
    },
    {
      "cell_type": "code",
      "metadata": {
        "id": "t7UiM7BYudD5"
      },
      "source": [
        "print(\"Train MAE:\", mae(train['Passengers'], res_hw.fittedvalues))\n",
        "print(\"Test MAE:\", mae(test['Passengers'], res_hw.forecast(N_test)))"
      ],
      "execution_count": null,
      "outputs": []
    },
    {
      "cell_type": "code",
      "metadata": {
        "id": "U0xtjQeRF26Z"
      },
      "source": [
        "hw = ExponentialSmoothing(\n",
        "    train['Passengers'],\n",
        "    initialization_method='legacy-heuristic',\n",
        "    trend='add', seasonal='mul', seasonal_periods=12)\n",
        "res_hw = hw.fit()\n",
        "df.loc[train_idx, 'HoltWinters'] = res_hw.fittedvalues\n",
        "df.loc[test_idx, 'HoltWinters'] = res_hw.forecast(N_test)\n",
        "df[['Passengers', 'HoltWinters']].plot();"
      ],
      "execution_count": null,
      "outputs": []
    },
    {
      "cell_type": "code",
      "metadata": {
        "id": "qfJp5vm2Gl_n"
      },
      "source": [
        "print(\"Train RMSE:\", rmse(train['Passengers'], res_hw.fittedvalues))\n",
        "print(\"Test RMSE:\", rmse(test['Passengers'], res_hw.forecast(N_test)))"
      ],
      "execution_count": null,
      "outputs": []
    },
    {
      "cell_type": "code",
      "metadata": {
        "id": "o1qBWktzumUn"
      },
      "source": [
        "print(\"Train MAE:\", mae(train['Passengers'], res_hw.fittedvalues))\n",
        "print(\"Test MAE:\", mae(test['Passengers'], res_hw.forecast(N_test)))"
      ],
      "execution_count": null,
      "outputs": []
    },
    {
      "cell_type": "code",
      "metadata": {
        "id": "ksFjGputgomF"
      },
      "source": [
        "hw = ExponentialSmoothing(\n",
        "    train['Passengers'],\n",
        "    initialization_method='legacy-heuristic',\n",
        "    trend='mul', seasonal='mul', seasonal_periods=12)\n",
        "res_hw = hw.fit()\n",
        "df.loc[train_idx, 'HoltWinters'] = res_hw.fittedvalues\n",
        "df.loc[test_idx, 'HoltWinters'] = res_hw.forecast(N_test)\n",
        "df[['Passengers', 'HoltWinters']].plot();"
      ],
      "execution_count": null,
      "outputs": []
    },
    {
      "cell_type": "code",
      "metadata": {
        "id": "9iaOU1HKgqdk"
      },
      "source": [
        "print(\"Train RMSE:\", rmse(train['Passengers'], res_hw.fittedvalues))\n",
        "print(\"Test RMSE:\", rmse(test['Passengers'], res_hw.forecast(N_test)))"
      ],
      "execution_count": null,
      "outputs": []
    },
    {
      "cell_type": "code",
      "metadata": {
        "id": "UtA0ai9BupVO"
      },
      "source": [
        "print(\"Train MAE:\", mae(train['Passengers'], res_hw.fittedvalues))\n",
        "print(\"Test MAE:\", mae(test['Passengers'], res_hw.forecast(N_test)))"
      ],
      "execution_count": null,
      "outputs": []
    }
  ]
}