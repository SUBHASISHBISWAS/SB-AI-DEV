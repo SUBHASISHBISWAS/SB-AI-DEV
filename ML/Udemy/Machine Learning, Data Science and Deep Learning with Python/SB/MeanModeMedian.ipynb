{
 "cells": [
  {
   "cell_type": "markdown",
   "id": "b4e494bd",
   "metadata": {},
   "source": [
    "#centered around 27,000 with a normal distribution and standard deviation of 15,000, with 10,000 data points"
   ]
  },
  {
   "cell_type": "code",
   "execution_count": 30,
   "id": "534a5ed7",
   "metadata": {},
   "outputs": [
    {
     "data": {
      "image/png": "[encoded data removed]",
      "text/plain": [
       "<Figure size 432x288 with 1 Axes>"
      ]
     },
     "metadata": {
      "needs_background": "light"
     },
     "output_type": "display_data"
    }
   ],
   "source": [
    "import numpy as np\n",
    "\n",
    "#And what this does is create a random distribution.\n",
    "#Basically it creates a bell curve distribution of data around a certain point in this case 27000 dollars \n",
    "#with a standard deviation of 15000 dollars. And we want 10000 data points in this dataset.\n",
    "incomes=np.random.normal(27000,15000,10000)\n",
    "\n",
    "\n",
    "#We can segment the income data into 50 buckets, and plot it as a histogram\n",
    "%matplotlib inline\n",
    "import matplotlib.pyplot as plt\n",
    "plt.hist(incomes, 50)\n",
    "plt.show()"
   ]
  },
  {
   "cell_type": "code",
   "execution_count": 31,
   "id": "eb34814a",
   "metadata": {},
   "outputs": [
    {
     "data": {
      "text/plain": [
       "26920.4741814475"
      ]
     },
     "execution_count": 31,
     "metadata": {},
     "output_type": "execute_result"
    }
   ],
   "source": [
    "#Then, compute the mean (average) - it should be close to 27,000:\n",
    "np.mean(incomes)"
   ]
  },
  {
   "cell_type": "code",
   "execution_count": 32,
   "id": "3ce63574",
   "metadata": {},
   "outputs": [
    {
     "data": {
      "text/plain": [
       "27205.055693556154"
      ]
     },
     "execution_count": 32,
     "metadata": {},
     "output_type": "execute_result"
    }
   ],
   "source": [
    "#Now compute the median - since we have a nice, even distribution it too should be close to 27,000:\n",
    "np.median(incomes)"
   ]
  },
  {
   "cell_type": "code",
   "execution_count": 48,
   "id": "8ed2bd09",
   "metadata": {},
   "outputs": [],
   "source": [
    "incomes = np.append(incomes, [1000000000])"
   ]
  },
  {
   "cell_type": "code",
   "execution_count": 49,
   "id": "bc9ddab8",
   "metadata": {},
   "outputs": [
    {
     "data": {
      "image/png": "[encoded data removed]",
      "text/plain": [
       "<Figure size 432x288 with 1 Axes>"
      ]
     },
     "metadata": {
      "needs_background": "light"
     },
     "output_type": "display_data"
    }
   ],
   "source": [
    "#We can segment the income data into 50 buckets, and plot it as a histogram\n",
    "%matplotlib inline\n",
    "import matplotlib.pyplot as plt\n",
    "plt.hist(incomes, 50)\n",
    "plt.show()"
   ]
  },
  {
   "cell_type": "code",
   "execution_count": null,
   "id": "44d55d26",
   "metadata": {},
   "outputs": [],
   "source": []
  }
 ],
 "metadata": {
  "kernelspec": {
   "display_name": "Python 3",
   "language": "python",
   "name": "python3"
  },
  "language_info": {
   "codemirror_mode": {
    "name": "ipython",
    "version": 3
   },
   "file_extension": ".py",
   "mimetype": "text/x-python",
   "name": "python",
   "nbconvert_exporter": "python",
   "pygments_lexer": "ipython3",
   "version": "3.9.4"
  }
 },
 "nbformat": 4,
 "nbformat_minor": 5
}
