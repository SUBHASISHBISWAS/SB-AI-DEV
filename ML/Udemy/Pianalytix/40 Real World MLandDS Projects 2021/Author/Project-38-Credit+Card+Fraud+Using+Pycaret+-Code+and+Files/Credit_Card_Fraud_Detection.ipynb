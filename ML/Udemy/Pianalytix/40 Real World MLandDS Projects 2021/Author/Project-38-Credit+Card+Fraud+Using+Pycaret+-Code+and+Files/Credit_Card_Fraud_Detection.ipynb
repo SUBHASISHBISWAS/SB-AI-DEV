{
  "cells": [
    {
      "cell_type": "markdown",
      "id": "3bb5ae5d",
      "metadata": {
        "id": "3bb5ae5d"
      },
      "source": [
        "# Project Name : Credit Card Fraud Detection using PyCaret"
      ]
    },
    {
      "cell_type": "markdown",
      "id": "h3YEzn_4o7Bk",
      "metadata": {
        "id": "h3YEzn_4o7Bk"
      },
      "source": [
        "![xenonstack-credit-card-fraud-detection.png](data:image/png;base64,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)"
      ]
    },
    {
      "cell_type": "markdown",
      "id": "96c079b6",
      "metadata": {
        "id": "96c079b6"
      },
      "source": [
        "#### In this project we will be first making our redictions using Machine Learning Techniques then we will be using Auto ML Technique to do the same. We will be using PyCaret in this notebook "
      ]
    },
    {
      "cell_type": "markdown",
      "id": "9998616c",
      "metadata": {
        "id": "9998616c"
      },
      "source": [
        "## Context \n",
        "### It is important that credit card companies are able to recognize fraudulent credit card transactions so that customers are not charged for items that they did not purchase"
      ]
    },
    {
      "cell_type": "markdown",
      "id": "cf896c43",
      "metadata": {
        "id": "cf896c43"
      },
      "source": [
        "### In this project we will be implementing Anamoly detection to detect wheteher there is any fraudulent transaction."
      ]
    },
    {
      "cell_type": "markdown",
      "id": "9872c6e0",
      "metadata": {
        "id": "9872c6e0"
      },
      "source": [
        "## Content\n",
        "### The dataset contains transactions made by credit cards in September 2013 by European cardholders.\n",
        "### This dataset presents transactions that occurred in two days, where we have 492 frauds out of 284,807 transactions. The dataset is highly unbalanced, the positive class (frauds) account for 0.172% of all transactions.\n",
        "\n",
        "### It contains only numerical input variables which are the result of a PCA transformation. Unfortunately, due to confidentiality issues, we cannot provide the original features and more background information about the data. Features V1, V2, … V28 are the principal components obtained with PCA, the only features which have not been transformed with PCA are 'Time' and 'Amount'. Feature 'Time' contains the seconds elapsed between each transaction and the first transaction in the dataset. The feature 'Amount' is the transaction Amount, this feature can be used for example-dependant cost-sensitive learning. Feature 'Class' is the response variable and it takes value 1 in case of fraud and 0 otherwise.\n",
        "\n",
        "### Given the class imbalance ratio, we recommend measuring the accuracy using the Area Under the Precision-Recall Curve (AUPRC). Confusion matrix accuracy is not meaningful for unbalanced classification."
      ]
    },
    {
      "cell_type": "markdown",
      "id": "b82ea9b5",
      "metadata": {
        "id": "b82ea9b5"
      },
      "source": [
        "## In this notebook we will perform the following task: \n",
        "- Data Analysis\n",
        "- Feature Engineering\n",
        "- Model Building and Prediction using ML Techniques\n",
        "- Model Building and Prediction using PyCaret(Auto ML)"
      ]
    },
    {
      "cell_type": "markdown",
      "id": "d3e4ec64",
      "metadata": {
        "id": "d3e4ec64"
      },
      "source": [
        "### Importing Libraries"
      ]
    },
    {
      "cell_type": "code",
      "execution_count": 3,
      "id": "592275fa",
      "metadata": {
        "id": "592275fa"
      },
      "outputs": [],
      "source": [
        "import pandas as pd\n",
        "import numpy as np\n",
        "import matplotlib.pyplot as plt\n",
        "import seaborn as sns\n",
        "import sklearn\n",
        "import scipy\n",
        "from sklearn.metrics import classification_report,accuracy_score"
      ]
    },
    {
      "cell_type": "markdown",
      "id": "9c1b564a",
      "metadata": {
        "id": "9c1b564a"
      },
      "source": [
        "### Importing Libraries for Outlier Detection"
      ]
    },
    {
      "cell_type": "code",
      "execution_count": null,
      "id": "c8cba5c6",
      "metadata": {
        "id": "c8cba5c6"
      },
      "outputs": [],
      "source": [
        "from sklearn.ensemble import IsolationForest\n",
        "\n",
        "from sklearn.svm import OneClassSVM"
      ]
    },
    {
      "cell_type": "markdown",
      "id": "8232cdf8",
      "metadata": {
        "id": "8232cdf8"
      },
      "source": [
        "### Reading our Dataset"
      ]
    },
    {
      "cell_type": "code",
      "execution_count": 8,
      "id": "imfvXaTenlE8",
      "metadata": {
        "id": "imfvXaTenlE8"
      },
      "outputs": [],
      "source": [
        "from google.colab import drive\n",
        "drive.mount('/content/drive')"
      ]
    },
    {
      "cell_type": "code",
      "execution_count": 9,
      "id": "5c307c8e",
      "metadata": {
        "id": "5c307c8e"
      },
      "outputs": [],
      "source": [
        "df= pd.read_csv(\"/content/drive/MyDrive/creditcard.csv\")"
      ]
    },
    {
      "cell_type": "code",
      "execution_count": 10,
      "id": "b3d444d6",
      "metadata": {
        "id": "b3d444d6"
      },
      "outputs": [],
      "source": [
        "df.head()"
      ]
    },
    {
      "cell_type": "markdown",
      "id": "01c696d5",
      "metadata": {
        "id": "01c696d5"
      },
      "source": [
        "### Data Analysis"
      ]
    },
    {
      "cell_type": "code",
      "execution_count": 11,
      "id": "93bcfc8f",
      "metadata": {
        "id": "93bcfc8f"
      },
      "outputs": [],
      "source": [
        "df.shape"
      ]
    },
    {
      "cell_type": "markdown",
      "id": "ad4880ea",
      "metadata": {
        "id": "ad4880ea"
      },
      "source": [
        "#### Checking Null Values"
      ]
    },
    {
      "cell_type": "code",
      "execution_count": 12,
      "id": "be1523d3",
      "metadata": {
        "id": "be1523d3"
      },
      "outputs": [],
      "source": [
        "df.isnull().sum()"
      ]
    },
    {
      "cell_type": "markdown",
      "id": "d90a6e15",
      "metadata": {
        "id": "d90a6e15"
      },
      "source": [
        "### Checking the distribution of Normal and Fraud cases in our Data Set"
      ]
    },
    {
      "cell_type": "code",
      "execution_count": 14,
      "id": "d7eb9612",
      "metadata": {
        "id": "d7eb9612"
      },
      "outputs": [],
      "source": [
        "fraud_check = pd.value_counts(df['Class'], sort = True)\n",
        "fraud_check.plot(kind = 'bar', rot=0, color= 'r')\n",
        "plt.title(\"Normal and Fraud Distribution\")\n",
        "plt.xlabel(\"Class\")\n",
        "plt.ylabel(\"Frequency\")\n",
        " ## Defining labels to replace our 0 and 1 valuelabels= ['Normal','Fraud']\n",
        "## mapping those labels\n",
        "plt.xticks(range(2), labels)\n",
        "plt.show()"
      ]
    },
    {
      "cell_type": "markdown",
      "id": "ca1acce0",
      "metadata": {
        "id": "ca1acce0"
      },
      "source": [
        "\n",
        "#### Let us see what is the shape of Normal and Fraud data set"
      ]
    },
    {
      "cell_type": "code",
      "execution_count": 15,
      "id": "fc7b7b47",
      "metadata": {
        "id": "fc7b7b47"
      },
      "outputs": [],
      "source": [
        "fraud_people = df[df['Class']==1]\n",
        "normal_people = df[df['Class']==0]"
      ]
    },
    {
      "cell_type": "code",
      "execution_count": 16,
      "id": "769ac986",
      "metadata": {
        "id": "769ac986"
      },
      "outputs": [],
      "source": [
        "fraud_people.shape"
      ]
    },
    {
      "cell_type": "code",
      "execution_count": 17,
      "id": "6d6b731e",
      "metadata": {
        "id": "6d6b731e"
      },
      "outputs": [],
      "source": [
        "normal_people.shape"
      ]
    },
    {
      "cell_type": "markdown",
      "id": "e934828b",
      "metadata": {
        "id": "e934828b"
      },
      "source": [
        "#### Finding out the avg amount in our both the data sets"
      ]
    },
    {
      "cell_type": "code",
      "execution_count": 18,
      "id": "22354693",
      "metadata": {
        "id": "22354693"
      },
      "outputs": [],
      "source": [
        "fraud_people['Amount'].describe()"
      ]
    },
    {
      "cell_type": "code",
      "execution_count": 19,
      "id": "56718e5c",
      "metadata": {
        "id": "56718e5c"
      },
      "outputs": [],
      "source": [
        "normal_people['Amount'].describe()"
      ]
    },
    {
      "cell_type": "markdown",
      "id": "408950d4",
      "metadata": {
        "id": "408950d4"
      },
      "source": [
        "#### Let us analyse it visually"
      ]
    },
    {
      "cell_type": "code",
      "execution_count": 21,
      "id": "f7923628",
      "metadata": {
        "id": "f7923628"
      },
      "outputs": [],
      "source": [
        "graph, (plot1, plot2) = plt.subplots(2,1,sharex= True)\n",
        "graph.suptitle('Average amount per class')\n",
        "bins = 70\n",
        "\n",
        "plot1.hist(fraud_people['Amount'] , bins = bins)\n",
        "plot1.set_title('Fraud Amount')\n",
        "\n",
        "plot2.hist(normal_people['Amount'] , bins = bins)\n",
        "plot2.set_title('Normal Amount')\n",
        "\n",
        "plt.xlabel('Amount ($)')\n",
        "plt.ylabel('Number of Transactions')\n",
        "plt.yscale('log')\n",
        "plt.show();"
      ]
    },
    {
      "cell_type": "markdown",
      "id": "ee9fe263",
      "metadata": {
        "id": "ee9fe263"
      },
      "source": [
        "#### Plotting a corr Heatmap"
      ]
    },
    {
      "cell_type": "code",
      "execution_count": 22,
      "id": "345ec37b",
      "metadata": {
        "id": "345ec37b"
      },
      "outputs": [],
      "source": [
        "df.corr()\n",
        "plt.figure(figsize=(30,30))\n",
        "g=sns.heatmap(df.corr(),annot=True)"
      ]
    },
    {
      "cell_type": "markdown",
      "id": "d02237e8",
      "metadata": {
        "id": "d02237e8"
      },
      "source": [
        "### Creating our Dependent and Independent Features"
      ]
    },
    {
      "cell_type": "code",
      "execution_count": 23,
      "id": "fb9b800f",
      "metadata": {
        "id": "fb9b800f"
      },
      "outputs": [],
      "source": [
        "columns = df.columns.tolist()\n",
        "# Making our Independent Features\n",
        "columns = [var for var in columns if var not in [\"Class\"]]\n",
        "# Making our Dependent Variable\n",
        "target = \"Class\"\n",
        "x= df[columns]\n",
        "y= df[target]"
      ]
    },
    {
      "cell_type": "code",
      "execution_count": 24,
      "id": "afc88598",
      "metadata": {
        "id": "afc88598"
      },
      "outputs": [],
      "source": [
        "x.shape"
      ]
    },
    {
      "cell_type": "code",
      "execution_count": 25,
      "id": "80dd67f5",
      "metadata": {
        "id": "80dd67f5"
      },
      "outputs": [],
      "source": [
        "y.shape"
      ]
    },
    {
      "cell_type": "code",
      "execution_count": 26,
      "id": "a9c4429c",
      "metadata": {
        "id": "a9c4429c"
      },
      "outputs": [],
      "source": [
        "x.head() ## Independent Variable"
      ]
    },
    {
      "cell_type": "code",
      "execution_count": 27,
      "id": "8c881ee6",
      "metadata": {
        "id": "8c881ee6"
      },
      "outputs": [],
      "source": [
        "y.head() ## Dependent Variable"
      ]
    },
    {
      "cell_type": "markdown",
      "id": "cd8ae374",
      "metadata": {
        "id": "cd8ae374"
      },
      "source": [
        "## Model building"
      ]
    },
    {
      "cell_type": "markdown",
      "id": "a4c50a65",
      "metadata": {
        "id": "a4c50a65"
      },
      "source": [
        "### Splitting the data"
      ]
    },
    {
      "cell_type": "code",
      "execution_count": 28,
      "id": "87f451aa",
      "metadata": {
        "id": "87f451aa"
      },
      "outputs": [],
      "source": [
        "from sklearn.model_selection import train_test_split\n",
        "x_train, x_test, y_train, y_test = train_test_split(x, y, test_size=0.30, random_state=42)"
      ]
    },
    {
      "cell_type": "markdown",
      "id": "cd3c7275",
      "metadata": {
        "id": "cd3c7275"
      },
      "source": [
        "### We wil be using the following Models for our Anamoly Detection:\n",
        "- Isolation Forest\n",
        "- OneClassSVM"
      ]
    },
    {
      "cell_type": "markdown",
      "id": "773bf416",
      "metadata": {
        "id": "773bf416"
      },
      "source": [
        "## Isolation Forest"
      ]
    },
    {
      "cell_type": "markdown",
      "id": "e66f45e1",
      "metadata": {
        "id": "e66f45e1"
      },
      "source": [
        "#### One of the newest techniques to detect anomalies is called Isolation Forests. The algorithm is based on the fact that anomalies are data points that are few and different. As a result of these properties, anomalies are susceptible to a mechanism called isolation.\n",
        "\n",
        "#### This method is highly useful and is fundamentally different from all existing methods. It introduces the use of isolation as a more effective and efficient means to detect anomalies than the commonly used basic distance and density measures. Moreover, this method is an algorithm with a low linear time complexity and a small memory requirement. It builds a good performing model with a small number of trees using small sub-samples of fixed size, regardless of the size of a data set.\n",
        "\n",
        "#### Typical machine learning methods tend to work better when the patterns they try to learn are balanced, meaning the same amount of good and bad behaviors are present in the dataset.\n",
        "\n",
        "#### How Isolation Forests Work The Isolation Forest algorithm isolates observations by randomly selecting a feature and then randomly selecting a split value between the maximum and minimum values of the selected feature. The logic argument goes: isolating anomaly observations is easier because only a few conditions are needed to separate those cases from the normal observations. On the other hand, isolating normal observations require more conditions. Therefore, an anomaly score can be calculated as the number of conditions required to separate a given observation.\n",
        "\n",
        "#### The way that the algorithm constructs the separation is by first creating isolation trees, or random decision trees. Then, the score is calculated as the path length to isolate the observation"
      ]
    },
    {
      "cell_type": "code",
      "execution_count": 29,
      "id": "70fdcc4c",
      "metadata": {
        "id": "70fdcc4c"
      },
      "outputs": [],
      "source": [
        "iso_forest= IsolationForest(n_estimators=100, max_samples=len(x_train),random_state=0, verbose=0)                        "
      ]
    },
    {
      "cell_type": "code",
      "execution_count": 30,
      "id": "58785d19",
      "metadata": {
        "id": "58785d19"
      },
      "outputs": [],
      "source": [
        "iso_forest.fit(x_train,y_train)"
      ]
    },
    {
      "cell_type": "code",
      "execution_count": 31,
      "id": "bcdb7fda",
      "metadata": {
        "id": "bcdb7fda"
      },
      "outputs": [],
      "source": [
        "ypred= iso_forest.predict(x_test)"
      ]
    },
    {
      "cell_type": "code",
      "execution_count": 32,
      "id": "5e0a2718",
      "metadata": {
        "id": "5e0a2718"
      },
      "outputs": [],
      "source": [
        "ypred"
      ]
    },
    {
      "cell_type": "markdown",
      "id": "c3eace63",
      "metadata": {
        "id": "c3eace63"
      },
      "source": [
        "#### Mapping the values as we want to have an output in 0 and 1"
      ]
    },
    {
      "cell_type": "code",
      "execution_count": 33,
      "id": "273afab3",
      "metadata": {
        "id": "273afab3"
      },
      "outputs": [],
      "source": [
        "ypred[ypred == 1] = 0\n",
        "ypred[ypred == -1] = 1\n"
      ]
    },
    {
      "cell_type": "markdown",
      "id": "29473b72",
      "metadata": {
        "id": "29473b72"
      },
      "source": [
        "### Accuracy score and Matrix"
      ]
    },
    {
      "cell_type": "code",
      "execution_count": 34,
      "id": "a07329db",
      "metadata": {
        "id": "a07329db"
      },
      "outputs": [],
      "source": [
        "print(accuracy_score(y_test,ypred))"
      ]
    },
    {
      "cell_type": "code",
      "execution_count": 35,
      "id": "7d333120",
      "metadata": {
        "id": "7d333120"
      },
      "outputs": [],
      "source": [
        "print(classification_report(y_test,ypred))"
      ]
    },
    {
      "cell_type": "code",
      "execution_count": 36,
      "id": "29d8b1e9",
      "metadata": {
        "id": "29d8b1e9"
      },
      "outputs": [],
      "source": [
        "from sklearn.metrics import confusion_matrix"
      ]
    },
    {
      "cell_type": "code",
      "execution_count": 37,
      "id": "975e1a4b",
      "metadata": {
        "id": "975e1a4b"
      },
      "outputs": [],
      "source": [
        "confusion_matrix(y_test, ypred)"
      ]
    },
    {
      "cell_type": "markdown",
      "id": "035f32f0",
      "metadata": {
        "id": "035f32f0"
      },
      "source": [
        "### We can also print how many errors our model have"
      ]
    },
    {
      "cell_type": "code",
      "execution_count": 38,
      "id": "79724950",
      "metadata": {
        "id": "79724950"
      },
      "outputs": [],
      "source": [
        "n_errors = (ypred != y_test).sum()\n",
        "print(\"Isolation Forest have {} errors.\".format(n_errors))"
      ]
    },
    {
      "cell_type": "markdown",
      "id": "6adf383e",
      "metadata": {
        "id": "6adf383e"
      },
      "source": [
        "## OneClassSVM"
      ]
    },
    {
      "cell_type": "code",
      "execution_count": 40,
      "id": "e57b53b6",
      "metadata": {
        "id": "e57b53b6"
      },
      "outputs": [],
      "source": [
        "svm= OneClassSVM(kernel='rbf', degree=3, gamma=0.1,nu=0.05, \n",
        "                                         #max_iter=-1)"
      ]
    },
    {
      "cell_type": "code",
      "execution_count": 41,
      "id": "d1b032a7",
      "metadata": {
        "id": "d1b032a7"
      },
      "outputs": [],
      "source": [
        "svm.fit(x_train,y_train)"
      ]
    },
    {
      "cell_type": "code",
      "execution_count": 42,
      "id": "f4cba412",
      "metadata": {
        "id": "f4cba412"
      },
      "outputs": [],
      "source": [
        "ypred1= svm.predict(x_test)"
      ]
    },
    {
      "cell_type": "markdown",
      "id": "ed1c5697",
      "metadata": {
        "id": "ed1c5697"
      },
      "source": [
        "#### Here also we do the same thing as above, mapping our results in 0 and 1"
      ]
    },
    {
      "cell_type": "code",
      "execution_count": 43,
      "id": "29d12ee8",
      "metadata": {
        "id": "29d12ee8"
      },
      "outputs": [],
      "source": [
        "ypred1[ypred1 == 1] = 0\n",
        "ypred1[ypred1 == -1] = 1"
      ]
    },
    {
      "cell_type": "markdown",
      "id": "bfc1976e",
      "metadata": {
        "id": "bfc1976e"
      },
      "source": [
        "### Accuracy score and Matrix"
      ]
    },
    {
      "cell_type": "code",
      "execution_count": 44,
      "id": "f4f2f520",
      "metadata": {
        "id": "f4f2f520"
      },
      "outputs": [],
      "source": [
        "print(accuracy_score(y_test,ypred))"
      ]
    },
    {
      "cell_type": "code",
      "execution_count": 45,
      "id": "1959886f",
      "metadata": {
        "id": "1959886f"
      },
      "outputs": [],
      "source": [
        "print(classification_report(y_test,ypred))"
      ]
    },
    {
      "cell_type": "code",
      "execution_count": 46,
      "id": "555db07a",
      "metadata": {
        "id": "555db07a"
      },
      "outputs": [],
      "source": [
        "from sklearn.metrics import confusion_matrix"
      ]
    },
    {
      "cell_type": "code",
      "execution_count": 47,
      "id": "3bbf370a",
      "metadata": {
        "id": "3bbf370a"
      },
      "outputs": [],
      "source": [
        "confusion_matrix(y_test, ypred)"
      ]
    },
    {
      "cell_type": "code",
      "execution_count": 49,
      "id": "0ce625ae",
      "metadata": {
        "id": "0ce625ae"
      },
      "outputs": [],
      "source": [
        "n_errors = (ypred1 != y_test).sum()\n",
        "print(\"SVM have {} errors.\".format(n_errors))"
      ]
    },
    {
      "cell_type": "markdown",
      "id": "0cedbd02",
      "metadata": {
        "id": "0cedbd02"
      },
      "source": [
        "## Solving the Problem Statement using PyCaret Library(Auto ML)"
      ]
    },
    {
      "cell_type": "markdown",
      "id": "7f319094",
      "metadata": {
        "id": "7f319094"
      },
      "source": [
        "# PyCaret :"
      ]
    },
    {
      "cell_type": "markdown",
      "id": "w-8-mE2apij9",
      "metadata": {
        "id": "w-8-mE2apij9"
      },
      "source": [
        "![PyCaret-.jpg](data:image/jpeg;base64,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)"
      ]
    },
    {
      "cell_type": "markdown",
      "id": "14f50476",
      "metadata": {
        "id": "14f50476"
      },
      "source": [
        "### PyCaret is an open source, low-code machine learning library in Python that allows you to go from preparing your data to deploying your model within minutes in your choice of notebook environment."
      ]
    },
    {
      "cell_type": "markdown",
      "id": "883d094b",
      "metadata": {
        "id": "883d094b"
      },
      "source": [
        "### Installing Pycaret"
      ]
    },
    {
      "cell_type": "code",
      "execution_count": 50,
      "id": "a35b9f64",
      "metadata": {
        "id": "a35b9f64"
      },
      "outputs": [],
      "source": [
        "!pip install pycaret"
      ]
    },
    {
      "cell_type": "code",
      "execution_count": 51,
      "id": "10b9cace",
      "metadata": {
        "id": "10b9cace"
      },
      "outputs": [],
      "source": [
        "df= pd.read_csv(\"creditcard.csv\")"
      ]
    },
    {
      "cell_type": "code",
      "execution_count": 52,
      "id": "bccf3855",
      "metadata": {
        "id": "bccf3855"
      },
      "outputs": [],
      "source": [
        "df.head()"
      ]
    },
    {
      "cell_type": "code",
      "execution_count": null,
      "id": "859c4837",
      "metadata": {
        "id": "859c4837"
      },
      "outputs": [
        {
          "ename": "",
          "evalue": "",
          "output_type": "error",
          "traceback": [
            "\u001b[1;31mThe kernel failed to start as 'has_suggestion' could not be imported from '/Users/subhasish/opt/anaconda3/envs/ML/lib/python3.8/site-packages/prompt_toolkit/filters/__init__.py'.\n",
            "\u001b[1;31mClick <a href='https://aka.ms/kernelFailuresModuleImportErrFromFile'>here</a> for more info."
          ]
        }
      ],
      "source": [
        "from pycaret.classification import *"
      ]
    },
    {
      "cell_type": "code",
      "execution_count": 54,
      "id": "3de8e738",
      "metadata": {
        "id": "3de8e738"
      },
      "outputs": [],
      "source": [
        "model= setup(data= df, target= 'Class')"
      ]
    },
    {
      "cell_type": "code",
      "execution_count": 55,
      "id": "f81cc748",
      "metadata": {
        "id": "f81cc748"
      },
      "outputs": [],
      "source": [
        "compare_models()"
      ]
    },
    {
      "cell_type": "code",
      "execution_count": 56,
      "id": "3ac8cb8c",
      "metadata": {
        "id": "3ac8cb8c"
      },
      "outputs": [],
      "source": [
        "random_forest= create_model('rf')"
      ]
    },
    {
      "cell_type": "markdown",
      "id": "ada66b7f",
      "metadata": {
        "id": "ada66b7f"
      },
      "source": [
        "### As we see we have a very good Kappa score which is often seen in an Imbalanced dataset"
      ]
    },
    {
      "cell_type": "code",
      "execution_count": 57,
      "id": "daa84895",
      "metadata": {
        "id": "daa84895"
      },
      "outputs": [],
      "source": [
        "random_forest"
      ]
    },
    {
      "cell_type": "markdown",
      "id": "49eb360f",
      "metadata": {
        "id": "49eb360f"
      },
      "source": [
        "### We can Hypertune our model to"
      ]
    },
    {
      "cell_type": "code",
      "execution_count": 58,
      "id": "b8ae8f50",
      "metadata": {
        "id": "b8ae8f50"
      },
      "outputs": [],
      "source": [
        "tuned_model= tune_model('random_forest')"
      ]
    },
    {
      "cell_type": "markdown",
      "id": "2351b233",
      "metadata": {
        "id": "2351b233"
      },
      "source": [
        "## Predictions"
      ]
    },
    {
      "cell_type": "code",
      "execution_count": 59,
      "id": "47397b43",
      "metadata": {
        "id": "47397b43"
      },
      "outputs": [],
      "source": [
        "pred_holdout = predict_model(random_forest,data= x_test)"
      ]
    },
    {
      "cell_type": "code",
      "execution_count": 60,
      "id": "49e4d2f0",
      "metadata": {
        "id": "49e4d2f0"
      },
      "outputs": [],
      "source": [
        "pred_holdout"
      ]
    },
    {
      "cell_type": "code",
      "execution_count": null,
      "id": "5e84be22",
      "metadata": {
        "id": "5e84be22"
      },
      "outputs": [],
      "source": []
    }
  ],
  "metadata": {
    "colab": {
      "collapsed_sections": [
        "cd3c7275",
        "14f50476"
      ],
      "name": "Credit Card Fraud Detection.ipynb",
      "provenance": []
    },
    "kernelspec": {
      "display_name": "Python 3",
      "language": "python",
      "name": "python3"
    },
    "language_info": {
      "codemirror_mode": {
        "name": "ipython",
        "version": 3
      },
      "file_extension": ".py",
      "mimetype": "text/x-python",
      "name": "python",
      "nbconvert_exporter": "python",
      "pygments_lexer": "ipython3",
      "version": "3.8.8"
    }
  },
  "nbformat": 4,
  "nbformat_minor": 5
}
