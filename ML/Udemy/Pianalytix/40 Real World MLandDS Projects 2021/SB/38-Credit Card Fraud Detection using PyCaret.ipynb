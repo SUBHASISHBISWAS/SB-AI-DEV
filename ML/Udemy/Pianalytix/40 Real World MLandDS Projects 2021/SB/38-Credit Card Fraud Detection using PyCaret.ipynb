{
 "cells": [
  {
   "cell_type": "code",
   "execution_count": 2,
   "metadata": {},
   "outputs": [],
   "source": [
    "'''\n",
    "It is important that credit card companies are able to recognize fraudulent credit card transactions \n",
    "so that customers are not charged for items that they did not purchase\n",
    "\n",
    "In this project we will be implementing Anamoly detection to detect wheteher there is any fraudulent transaction\n",
    "\n",
    "The dataset contains transactions made by credit cards in September 2013 by European cardholders.\n",
    "This dataset presents transactions that occurred in two days, where we have 492 frauds out of 284,807 transactions. \n",
    "The dataset is highly unbalanced, the positive class (frauds) account for 0.172% of all transactions.\n",
    "\n",
    "It contains only numerical input variables which are the result of a PCA transformation. \n",
    "Unfortunately, due to confidentiality issues, we cannot provide the original features and more background information about the data. \n",
    "\n",
    "Features V1, V2, … V28 are the principal components obtained with PCA, the only features which have not been \n",
    "transformed with PCA are 'Time' and 'Amount'. \n",
    "\n",
    "Feature 'Time' contains the seconds elapsed between each transaction and the first transaction in the dataset. \n",
    "The feature 'Amount' is the transaction Amount, this feature can be used for example-dependant cost-sensitive learning. \n",
    "\n",
    "Feature 'Class' is the response variable and it takes value 1 in case of fraud and 0 otherwise.\n",
    "\n",
    "Given the class imbalance ratio, we recommend measuring the accuracy using the Area Under the Precision-Recall Curve (AUPRC). \n",
    "Confusion matrix accuracy is not meaningful for unbalanced classification.\n",
    "\n",
    "PyCaret is an open source, low-code machine learning library in Python that allows you to go from preparing \n",
    "your data to deploying your model within minutes in your choice of notebook environment.\n",
    "'''\n",
    "\n",
    "from pycaret.classification import *\n",
    "import pandas as pd\n",
    "from tabulate import tabulate"
   ]
  },
  {
   "cell_type": "code",
   "execution_count": 6,
   "metadata": {},
   "outputs": [],
   "source": [
    "from tabulate import tabulate\n",
    "def DisplayMatrix(M):\n",
    "    print(tabulate(M, headers='keys', tablefmt='double_grid'))"
   ]
  },
  {
   "cell_type": "code",
   "execution_count": 7,
   "metadata": {},
   "outputs": [],
   "source": [
    "df= pd.read_csv(\"Data/creditcard.csv\")"
   ]
  },
  {
   "cell_type": "code",
   "execution_count": 8,
   "metadata": {},
   "outputs": [
    {
     "name": "stdout",
     "output_type": "stream",
     "text": [
      "╔════╦════════╦═══════════╦════════════╦═════════╦═══════════╦════════════╦════════════╦═══════════╦════════════╦═══════════╦════════════╦═══════════╦════════════╦═══════════╦═══════════╦═══════════╦═══════════╦═══════════╦════════════╦═══════════╦════════════╦════════════╦════════════╦═══════════╦════════════╦═══════════╦═══════════╦════════════╦════════════╦══════════╦═════════╗\n",
      "║    ║   Time ║        V1 ║         V2 ║      V3 ║        V4 ║         V5 ║         V6 ║        V7 ║         V8 ║        V9 ║        V10 ║       V11 ║        V12 ║       V13 ║       V14 ║       V15 ║       V16 ║       V17 ║        V18 ║       V19 ║        V20 ║        V21 ║        V22 ║       V23 ║        V24 ║       V25 ║       V26 ║        V27 ║        V28 ║   Amount ║   Class ║\n",
      "╠════╬════════╬═══════════╬════════════╬═════════╬═══════════╬════════════╬════════════╬═══════════╬════════════╬═══════════╬════════════╬═══════════╬════════════╬═══════════╬═══════════╬═══════════╬═══════════╬═══════════╬════════════╬═══════════╬════════════╬════════════╬════════════╬═══════════╬════════════╬═══════════╬═══════════╬════════════╬════════════╬══════════╬═════════╣\n",
      "║  0 ║      0 ║ -1.35981  ║ -0.0727812 ║ 2.53635 ║  1.37816  ║ -0.338321  ║  0.462388  ║  0.239599 ║  0.0986979 ║  0.363787 ║  0.0907942 ║ -0.5516   ║ -0.617801  ║ -0.99139  ║ -0.311169 ║  1.46818  ║ -0.470401 ║  0.207971 ║  0.0257906 ║  0.403993 ║  0.251412  ║ -0.0183068 ║  0.277838  ║ -0.110474 ║  0.0669281 ║  0.128539 ║ -0.189115 ║  0.133558  ║ -0.0210531 ║   149.62 ║       0 ║\n",
      "╠════╬════════╬═══════════╬════════════╬═════════╬═══════════╬════════════╬════════════╬═══════════╬════════════╬═══════════╬════════════╬═══════════╬════════════╬═══════════╬═══════════╬═══════════╬═══════════╬═══════════╬════════════╬═══════════╬════════════╬════════════╬════════════╬═══════════╬════════════╬═══════════╬═══════════╬════════════╬════════════╬══════════╬═════════╣\n",
      "║  1 ║      0 ║  1.19186  ║  0.266151  ║ 0.16648 ║  0.448154 ║  0.0600176 ║ -0.0823608 ║ -0.078803 ║  0.0851017 ║ -0.255425 ║ -0.166974  ║  1.61273  ║  1.06524   ║  0.489095 ║ -0.143772 ║  0.635558 ║  0.463917 ║ -0.114805 ║ -0.183361  ║ -0.145783 ║ -0.0690831 ║ -0.225775  ║ -0.638672  ║  0.101288 ║ -0.339846  ║  0.16717  ║  0.125895 ║ -0.0089831 ║  0.0147242 ║     2.69 ║       0 ║\n",
      "╠════╬════════╬═══════════╬════════════╬═════════╬═══════════╬════════════╬════════════╬═══════════╬════════════╬═══════════╬════════════╬═══════════╬════════════╬═══════════╬═══════════╬═══════════╬═══════════╬═══════════╬════════════╬═══════════╬════════════╬════════════╬════════════╬═══════════╬════════════╬═══════════╬═══════════╬════════════╬════════════╬══════════╬═════════╣\n",
      "║  2 ║      1 ║ -1.35835  ║ -1.34016   ║ 1.77321 ║  0.37978  ║ -0.503198  ║  1.8005    ║  0.791461 ║  0.247676  ║ -1.51465  ║  0.207643  ║  0.624501 ║  0.0660837 ║  0.717293 ║ -0.165946 ║  2.34586  ║ -2.89008  ║  1.10997  ║ -0.121359  ║ -2.26186  ║  0.52498   ║  0.247998  ║  0.771679  ║  0.909412 ║ -0.689281  ║ -0.327642 ║ -0.139097 ║ -0.0553528 ║ -0.0597518 ║   378.66 ║       0 ║\n",
      "╠════╬════════╬═══════════╬════════════╬═════════╬═══════════╬════════════╬════════════╬═══════════╬════════════╬═══════════╬════════════╬═══════════╬════════════╬═══════════╬═══════════╬═══════════╬═══════════╬═══════════╬════════════╬═══════════╬════════════╬════════════╬════════════╬═══════════╬════════════╬═══════════╬═══════════╬════════════╬════════════╬══════════╬═════════╣\n",
      "║  3 ║      1 ║ -0.966272 ║ -0.185226  ║ 1.79299 ║ -0.863291 ║ -0.0103089 ║  1.2472    ║  0.237609 ║  0.377436  ║ -1.38702  ║ -0.0549519 ║ -0.226487 ║  0.178228  ║  0.507757 ║ -0.287924 ║ -0.631418 ║ -1.05965  ║ -0.684093 ║  1.96578   ║ -1.23262  ║ -0.208038  ║ -0.1083    ║  0.0052736 ║ -0.190321 ║ -1.17558   ║  0.647376 ║ -0.221929 ║  0.0627228 ║  0.0614576 ║   123.5  ║       0 ║\n",
      "╠════╬════════╬═══════════╬════════════╬═════════╬═══════════╬════════════╬════════════╬═══════════╬════════════╬═══════════╬════════════╬═══════════╬════════════╬═══════════╬═══════════╬═══════════╬═══════════╬═══════════╬════════════╬═══════════╬════════════╬════════════╬════════════╬═══════════╬════════════╬═══════════╬═══════════╬════════════╬════════════╬══════════╬═════════╣\n",
      "║  4 ║      2 ║ -1.15823  ║  0.877737  ║ 1.54872 ║  0.403034 ║ -0.407193  ║  0.0959215 ║  0.592941 ║ -0.270533  ║  0.817739 ║  0.753074  ║ -0.822843 ║  0.538196  ║  1.34585  ║ -1.11967  ║  0.175121 ║ -0.451449 ║ -0.237033 ║ -0.0381948 ║  0.803487 ║  0.408542  ║ -0.0094307 ║  0.798278  ║ -0.137458 ║  0.141267  ║ -0.20601  ║  0.502292 ║  0.219422  ║  0.215153  ║    69.99 ║       0 ║\n",
      "╚════╩════════╩═══════════╩════════════╩═════════╩═══════════╩════════════╩════════════╩═══════════╩════════════╩═══════════╩════════════╩═══════════╩════════════╩═══════════╩═══════════╩═══════════╩═══════════╩═══════════╩════════════╩═══════════╩════════════╩════════════╩════════════╩═══════════╩════════════╩═══════════╩═══════════╩════════════╩════════════╩══════════╩═════════╝\n"
     ]
    }
   ],
   "source": [
    "DisplayMatrix(df.head())"
   ]
  },
  {
   "cell_type": "code",
   "execution_count": 9,
   "metadata": {},
   "outputs": [
    {
     "data": {
      "text/html": [
       "<style type=\"text/css\">\n",
       "#T_97375_row8_col1 {\n",
       "  background-color: lightgreen;\n",
       "}\n",
       "</style>\n",
       "<table id=\"T_97375\">\n",
       "  <thead>\n",
       "    <tr>\n",
       "      <th class=\"blank level0\" >&nbsp;</th>\n",
       "      <th id=\"T_97375_level0_col0\" class=\"col_heading level0 col0\" >Description</th>\n",
       "      <th id=\"T_97375_level0_col1\" class=\"col_heading level0 col1\" >Value</th>\n",
       "    </tr>\n",
       "  </thead>\n",
       "  <tbody>\n",
       "    <tr>\n",
       "      <th id=\"T_97375_level0_row0\" class=\"row_heading level0 row0\" >0</th>\n",
       "      <td id=\"T_97375_row0_col0\" class=\"data row0 col0\" >Session id</td>\n",
       "      <td id=\"T_97375_row0_col1\" class=\"data row0 col1\" >2031</td>\n",
       "    </tr>\n",
       "    <tr>\n",
       "      <th id=\"T_97375_level0_row1\" class=\"row_heading level0 row1\" >1</th>\n",
       "      <td id=\"T_97375_row1_col0\" class=\"data row1 col0\" >Target</td>\n",
       "      <td id=\"T_97375_row1_col1\" class=\"data row1 col1\" >Class</td>\n",
       "    </tr>\n",
       "    <tr>\n",
       "      <th id=\"T_97375_level0_row2\" class=\"row_heading level0 row2\" >2</th>\n",
       "      <td id=\"T_97375_row2_col0\" class=\"data row2 col0\" >Target type</td>\n",
       "      <td id=\"T_97375_row2_col1\" class=\"data row2 col1\" >Binary</td>\n",
       "    </tr>\n",
       "    <tr>\n",
       "      <th id=\"T_97375_level0_row3\" class=\"row_heading level0 row3\" >3</th>\n",
       "      <td id=\"T_97375_row3_col0\" class=\"data row3 col0\" >Original data shape</td>\n",
       "      <td id=\"T_97375_row3_col1\" class=\"data row3 col1\" >(284807, 31)</td>\n",
       "    </tr>\n",
       "    <tr>\n",
       "      <th id=\"T_97375_level0_row4\" class=\"row_heading level0 row4\" >4</th>\n",
       "      <td id=\"T_97375_row4_col0\" class=\"data row4 col0\" >Transformed data shape</td>\n",
       "      <td id=\"T_97375_row4_col1\" class=\"data row4 col1\" >(284807, 31)</td>\n",
       "    </tr>\n",
       "    <tr>\n",
       "      <th id=\"T_97375_level0_row5\" class=\"row_heading level0 row5\" >5</th>\n",
       "      <td id=\"T_97375_row5_col0\" class=\"data row5 col0\" >Transformed train set shape</td>\n",
       "      <td id=\"T_97375_row5_col1\" class=\"data row5 col1\" >(199364, 31)</td>\n",
       "    </tr>\n",
       "    <tr>\n",
       "      <th id=\"T_97375_level0_row6\" class=\"row_heading level0 row6\" >6</th>\n",
       "      <td id=\"T_97375_row6_col0\" class=\"data row6 col0\" >Transformed test set shape</td>\n",
       "      <td id=\"T_97375_row6_col1\" class=\"data row6 col1\" >(85443, 31)</td>\n",
       "    </tr>\n",
       "    <tr>\n",
       "      <th id=\"T_97375_level0_row7\" class=\"row_heading level0 row7\" >7</th>\n",
       "      <td id=\"T_97375_row7_col0\" class=\"data row7 col0\" >Numeric features</td>\n",
       "      <td id=\"T_97375_row7_col1\" class=\"data row7 col1\" >30</td>\n",
       "    </tr>\n",
       "    <tr>\n",
       "      <th id=\"T_97375_level0_row8\" class=\"row_heading level0 row8\" >8</th>\n",
       "      <td id=\"T_97375_row8_col0\" class=\"data row8 col0\" >Preprocess</td>\n",
       "      <td id=\"T_97375_row8_col1\" class=\"data row8 col1\" >True</td>\n",
       "    </tr>\n",
       "    <tr>\n",
       "      <th id=\"T_97375_level0_row9\" class=\"row_heading level0 row9\" >9</th>\n",
       "      <td id=\"T_97375_row9_col0\" class=\"data row9 col0\" >Imputation type</td>\n",
       "      <td id=\"T_97375_row9_col1\" class=\"data row9 col1\" >simple</td>\n",
       "    </tr>\n",
       "    <tr>\n",
       "      <th id=\"T_97375_level0_row10\" class=\"row_heading level0 row10\" >10</th>\n",
       "      <td id=\"T_97375_row10_col0\" class=\"data row10 col0\" >Numeric imputation</td>\n",
       "      <td id=\"T_97375_row10_col1\" class=\"data row10 col1\" >mean</td>\n",
       "    </tr>\n",
       "    <tr>\n",
       "      <th id=\"T_97375_level0_row11\" class=\"row_heading level0 row11\" >11</th>\n",
       "      <td id=\"T_97375_row11_col0\" class=\"data row11 col0\" >Categorical imputation</td>\n",
       "      <td id=\"T_97375_row11_col1\" class=\"data row11 col1\" >mode</td>\n",
       "    </tr>\n",
       "    <tr>\n",
       "      <th id=\"T_97375_level0_row12\" class=\"row_heading level0 row12\" >12</th>\n",
       "      <td id=\"T_97375_row12_col0\" class=\"data row12 col0\" >Fold Generator</td>\n",
       "      <td id=\"T_97375_row12_col1\" class=\"data row12 col1\" >StratifiedKFold</td>\n",
       "    </tr>\n",
       "    <tr>\n",
       "      <th id=\"T_97375_level0_row13\" class=\"row_heading level0 row13\" >13</th>\n",
       "      <td id=\"T_97375_row13_col0\" class=\"data row13 col0\" >Fold Number</td>\n",
       "      <td id=\"T_97375_row13_col1\" class=\"data row13 col1\" >10</td>\n",
       "    </tr>\n",
       "    <tr>\n",
       "      <th id=\"T_97375_level0_row14\" class=\"row_heading level0 row14\" >14</th>\n",
       "      <td id=\"T_97375_row14_col0\" class=\"data row14 col0\" >CPU Jobs</td>\n",
       "      <td id=\"T_97375_row14_col1\" class=\"data row14 col1\" >-1</td>\n",
       "    </tr>\n",
       "    <tr>\n",
       "      <th id=\"T_97375_level0_row15\" class=\"row_heading level0 row15\" >15</th>\n",
       "      <td id=\"T_97375_row15_col0\" class=\"data row15 col0\" >Use GPU</td>\n",
       "      <td id=\"T_97375_row15_col1\" class=\"data row15 col1\" >False</td>\n",
       "    </tr>\n",
       "    <tr>\n",
       "      <th id=\"T_97375_level0_row16\" class=\"row_heading level0 row16\" >16</th>\n",
       "      <td id=\"T_97375_row16_col0\" class=\"data row16 col0\" >Log Experiment</td>\n",
       "      <td id=\"T_97375_row16_col1\" class=\"data row16 col1\" >False</td>\n",
       "    </tr>\n",
       "    <tr>\n",
       "      <th id=\"T_97375_level0_row17\" class=\"row_heading level0 row17\" >17</th>\n",
       "      <td id=\"T_97375_row17_col0\" class=\"data row17 col0\" >Experiment Name</td>\n",
       "      <td id=\"T_97375_row17_col1\" class=\"data row17 col1\" >clf-default-name</td>\n",
       "    </tr>\n",
       "    <tr>\n",
       "      <th id=\"T_97375_level0_row18\" class=\"row_heading level0 row18\" >18</th>\n",
       "      <td id=\"T_97375_row18_col0\" class=\"data row18 col0\" >USI</td>\n",
       "      <td id=\"T_97375_row18_col1\" class=\"data row18 col1\" >db36</td>\n",
       "    </tr>\n",
       "  </tbody>\n",
       "</table>\n"
      ],
      "text/plain": [
       "<pandas.io.formats.style.Styler at 0x7fb96031ffa0>"
      ]
     },
     "metadata": {},
     "output_type": "display_data"
    }
   ],
   "source": [
    "model= setup(data= df, target= 'Class')"
   ]
  },
  {
   "cell_type": "code",
   "execution_count": 12,
   "metadata": {},
   "outputs": [
    {
     "data": {
      "text/html": [
       "<style>#sk-container-id-1 {color: black;background-color: white;}#sk-container-id-1 pre{padding: 0;}#sk-container-id-1 div.sk-toggleable {background-color: white;}#sk-container-id-1 label.sk-toggleable__label {cursor: pointer;display: block;width: 100%;margin-bottom: 0;padding: 0.3em;box-sizing: border-box;text-align: center;}#sk-container-id-1 label.sk-toggleable__label-arrow:before {content: \"▸\";float: left;margin-right: 0.25em;color: #696969;}#sk-container-id-1 label.sk-toggleable__label-arrow:hover:before {color: black;}#sk-container-id-1 div.sk-estimator:hover label.sk-toggleable__label-arrow:before {color: black;}#sk-container-id-1 div.sk-toggleable__content {max-height: 0;max-width: 0;overflow: hidden;text-align: left;background-color: #f0f8ff;}#sk-container-id-1 div.sk-toggleable__content pre {margin: 0.2em;color: black;border-radius: 0.25em;background-color: #f0f8ff;}#sk-container-id-1 input.sk-toggleable__control:checked~div.sk-toggleable__content {max-height: 200px;max-width: 100%;overflow: auto;}#sk-container-id-1 input.sk-toggleable__control:checked~label.sk-toggleable__label-arrow:before {content: \"▾\";}#sk-container-id-1 div.sk-estimator input.sk-toggleable__control:checked~label.sk-toggleable__label {background-color: #d4ebff;}#sk-container-id-1 div.sk-label input.sk-toggleable__control:checked~label.sk-toggleable__label {background-color: #d4ebff;}#sk-container-id-1 input.sk-hidden--visually {border: 0;clip: rect(1px 1px 1px 1px);clip: rect(1px, 1px, 1px, 1px);height: 1px;margin: -1px;overflow: hidden;padding: 0;position: absolute;width: 1px;}#sk-container-id-1 div.sk-estimator {font-family: monospace;background-color: #f0f8ff;border: 1px dotted black;border-radius: 0.25em;box-sizing: border-box;margin-bottom: 0.5em;}#sk-container-id-1 div.sk-estimator:hover {background-color: #d4ebff;}#sk-container-id-1 div.sk-parallel-item::after {content: \"\";width: 100%;border-bottom: 1px solid gray;flex-grow: 1;}#sk-container-id-1 div.sk-label:hover label.sk-toggleable__label {background-color: #d4ebff;}#sk-container-id-1 div.sk-serial::before {content: \"\";position: absolute;border-left: 1px solid gray;box-sizing: border-box;top: 0;bottom: 0;left: 50%;z-index: 0;}#sk-container-id-1 div.sk-serial {display: flex;flex-direction: column;align-items: center;background-color: white;padding-right: 0.2em;padding-left: 0.2em;position: relative;}#sk-container-id-1 div.sk-item {position: relative;z-index: 1;}#sk-container-id-1 div.sk-parallel {display: flex;align-items: stretch;justify-content: center;background-color: white;position: relative;}#sk-container-id-1 div.sk-item::before, #sk-container-id-1 div.sk-parallel-item::before {content: \"\";position: absolute;border-left: 1px solid gray;box-sizing: border-box;top: 0;bottom: 0;left: 50%;z-index: -1;}#sk-container-id-1 div.sk-parallel-item {display: flex;flex-direction: column;z-index: 1;position: relative;background-color: white;}#sk-container-id-1 div.sk-parallel-item:first-child::after {align-self: flex-end;width: 50%;}#sk-container-id-1 div.sk-parallel-item:last-child::after {align-self: flex-start;width: 50%;}#sk-container-id-1 div.sk-parallel-item:only-child::after {width: 0;}#sk-container-id-1 div.sk-dashed-wrapped {border: 1px dashed gray;margin: 0 0.4em 0.5em 0.4em;box-sizing: border-box;padding-bottom: 0.4em;background-color: white;}#sk-container-id-1 div.sk-label label {font-family: monospace;font-weight: bold;display: inline-block;line-height: 1.2em;}#sk-container-id-1 div.sk-label-container {text-align: center;}#sk-container-id-1 div.sk-container {/* jupyter's `normalize.less` sets `[hidden] { display: none; }` but bootstrap.min.css set `[hidden] { display: none !important; }` so we also need the `!important` here to be able to override the default hidden behavior on the sphinx rendered scikit-learn.org. See: https://github.com/scikit-learn/scikit-learn/issues/21755 */display: inline-block !important;position: relative;}#sk-container-id-1 div.sk-text-repr-fallback {display: none;}</style><div id=\"sk-container-id-1\" class=\"sk-top-container\"><div class=\"sk-text-repr-fallback\"><pre>RandomForestClassifier(bootstrap=True, ccp_alpha=0.0, class_weight=None,\n",
       "                       criterion=&#x27;gini&#x27;, max_depth=None, max_features=&#x27;sqrt&#x27;,\n",
       "                       max_leaf_nodes=None, max_samples=None,\n",
       "                       min_impurity_decrease=0.0, min_samples_leaf=1,\n",
       "                       min_samples_split=2, min_weight_fraction_leaf=0.0,\n",
       "                       n_estimators=100, n_jobs=-1, oob_score=False,\n",
       "                       random_state=1680, verbose=0, warm_start=False)</pre><b>In a Jupyter environment, please rerun this cell to show the HTML representation or trust the notebook. <br />On GitHub, the HTML representation is unable to render, please try loading this page with nbviewer.org.</b></div><div class=\"sk-container\" hidden><div class=\"sk-item\"><div class=\"sk-estimator sk-toggleable\"><input class=\"sk-toggleable__control sk-hidden--visually\" id=\"sk-estimator-id-1\" type=\"checkbox\" checked><label for=\"sk-estimator-id-1\" class=\"sk-toggleable__label sk-toggleable__label-arrow\">RandomForestClassifier</label><div class=\"sk-toggleable__content\"><pre>RandomForestClassifier(bootstrap=True, ccp_alpha=0.0, class_weight=None,\n",
       "                       criterion=&#x27;gini&#x27;, max_depth=None, max_features=&#x27;sqrt&#x27;,\n",
       "                       max_leaf_nodes=None, max_samples=None,\n",
       "                       min_impurity_decrease=0.0, min_samples_leaf=1,\n",
       "                       min_samples_split=2, min_weight_fraction_leaf=0.0,\n",
       "                       n_estimators=100, n_jobs=-1, oob_score=False,\n",
       "                       random_state=1680, verbose=0, warm_start=False)</pre></div></div></div></div></div>"
      ],
      "text/plain": [
       "RandomForestClassifier(bootstrap=True, ccp_alpha=0.0, class_weight=None,\n",
       "                       criterion='gini', max_depth=None, max_features='sqrt',\n",
       "                       max_leaf_nodes=None, max_samples=None,\n",
       "                       min_impurity_decrease=0.0, min_samples_leaf=1,\n",
       "                       min_samples_split=2, min_weight_fraction_leaf=0.0,\n",
       "                       n_estimators=100, n_jobs=-1, oob_score=False,\n",
       "                       random_state=1680, verbose=0, warm_start=False)"
      ]
     },
     "execution_count": 12,
     "metadata": {},
     "output_type": "execute_result"
    }
   ],
   "source": [
    "compare_models()"
   ]
  },
  {
   "cell_type": "code",
   "execution_count": 10,
   "metadata": {},
   "outputs": [
    {
     "data": {
      "text/html": [
       "<div>\n",
       "<style scoped>\n",
       "    .dataframe tbody tr th:only-of-type {\n",
       "        vertical-align: middle;\n",
       "    }\n",
       "\n",
       "    .dataframe tbody tr th {\n",
       "        vertical-align: top;\n",
       "    }\n",
       "\n",
       "    .dataframe thead th {\n",
       "        text-align: right;\n",
       "    }\n",
       "</style>\n",
       "<table border=\"1\" class=\"dataframe\">\n",
       "  <thead>\n",
       "    <tr style=\"text-align: right;\">\n",
       "      <th></th>\n",
       "      <th></th>\n",
       "      <th></th>\n",
       "    </tr>\n",
       "    <tr>\n",
       "      <th></th>\n",
       "      <th></th>\n",
       "      <th></th>\n",
       "    </tr>\n",
       "  </thead>\n",
       "  <tbody>\n",
       "    <tr>\n",
       "      <th>Initiated</th>\n",
       "      <td>. . . . . . . . . . . . . . . . . .</td>\n",
       "      <td>20:16:10</td>\n",
       "    </tr>\n",
       "    <tr>\n",
       "      <th>Status</th>\n",
       "      <td>. . . . . . . . . . . . . . . . . .</td>\n",
       "      <td>Loading Dependencies</td>\n",
       "    </tr>\n",
       "    <tr>\n",
       "      <th>Estimator</th>\n",
       "      <td>. . . . . . . . . . . . . . . . . .</td>\n",
       "      <td>Compiling Library</td>\n",
       "    </tr>\n",
       "  </tbody>\n",
       "</table>\n",
       "</div>"
      ],
      "text/plain": [
       "                                                                    \n",
       "                                                                    \n",
       "Initiated  . . . . . . . . . . . . . . . . . .              20:16:10\n",
       "Status     . . . . . . . . . . . . . . . . . .  Loading Dependencies\n",
       "Estimator  . . . . . . . . . . . . . . . . . .     Compiling Library"
      ]
     },
     "metadata": {},
     "output_type": "display_data"
    },
    {
     "data": {
      "text/html": [],
      "text/plain": [
       "<IPython.core.display.HTML object>"
      ]
     },
     "metadata": {},
     "output_type": "display_data"
    },
    {
     "data": {
      "application/vnd.jupyter.widget-view+json": {
       "model_id": "34f9f5b1ef2b495ea292bbf4e70dd3d9",
       "version_major": 2,
       "version_minor": 0
      },
      "text/plain": [
       "Processing:   0%|          | 0/4 [00:00<?, ?it/s]"
      ]
     },
     "metadata": {},
     "output_type": "display_data"
    }
   ],
   "source": [
    "random_forest= create_model('rf')"
   ]
  },
  {
   "cell_type": "code",
   "execution_count": 3,
   "metadata": {},
   "outputs": [
    {
     "ename": "NameError",
     "evalue": "name 'random_forest' is not defined",
     "output_type": "error",
     "traceback": [
      "\u001b[0;31m---------------------------------------------------------------------------\u001b[0m",
      "\u001b[0;31mNameError\u001b[0m                                 Traceback (most recent call last)",
      "Cell \u001b[0;32mIn[3], line 1\u001b[0m\n\u001b[0;32m----> 1\u001b[0m random_forest\n",
      "\u001b[0;31mNameError\u001b[0m: name 'random_forest' is not defined"
     ]
    }
   ],
   "source": [
    "random_forest"
   ]
  },
  {
   "cell_type": "code",
   "execution_count": null,
   "metadata": {},
   "outputs": [],
   "source": [
    "pred_holdout = predict_model(random_forest,data= x_test)"
   ]
  }
 ],
 "metadata": {
  "kernelspec": {
   "display_name": "ML",
   "language": "python",
   "name": "python3"
  },
  "language_info": {
   "codemirror_mode": {
    "name": "ipython",
    "version": 3
   },
   "file_extension": ".py",
   "mimetype": "text/x-python",
   "name": "python",
   "nbconvert_exporter": "python",
   "pygments_lexer": "ipython3",
   "version": "3.10.9"
  },
  "orig_nbformat": 4
 },
 "nbformat": 4,
 "nbformat_minor": 2
}
