{
 "cells": [
  {
   "cell_type": "code",
   "execution_count": 39,
   "metadata": {
    "collapsed": true
   },
   "outputs": [],
   "source": [
    "\n",
    "import numpy as np\n",
    "import pandas as pd\n",
    "from  numpy.random import randn\n",
    "np.random.seed(101)"
   ]
  },
  {
   "cell_type": "code",
   "execution_count": 40,
   "outputs": [],
   "source": [
    "labels= ['a','b','c']\n",
    "my_data=[10,20,30]\n",
    "arr=np.array(my_data)\n",
    "dic = {'a':1,'b':2,'c':3}"
   ],
   "metadata": {
    "collapsed": false,
    "pycharm": {
     "name": "#%%\n"
    }
   }
  },
  {
   "cell_type": "code",
   "execution_count": 41,
   "outputs": [
    {
     "data": {
      "text/plain": "a    1\nb    2\nc    3\ndtype: int64"
     },
     "execution_count": 41,
     "metadata": {},
     "output_type": "execute_result"
    }
   ],
   "source": [
    "pd.Series(dic)"
   ],
   "metadata": {
    "collapsed": false,
    "pycharm": {
     "name": "#%%\n"
    }
   }
  },
  {
   "cell_type": "code",
   "execution_count": 42,
   "outputs": [
    {
     "data": {
      "text/plain": "0    10\n1    20\n2    30\ndtype: int64"
     },
     "execution_count": 42,
     "metadata": {},
     "output_type": "execute_result"
    }
   ],
   "source": [
    "pd.Series(my_data)"
   ],
   "metadata": {
    "collapsed": false,
    "pycharm": {
     "name": "#%%\n"
    }
   }
  },
  {
   "cell_type": "code",
   "execution_count": 43,
   "outputs": [
    {
     "data": {
      "text/plain": "a    10\nb    20\nc    30\ndtype: int64"
     },
     "execution_count": 43,
     "metadata": {},
     "output_type": "execute_result"
    }
   ],
   "source": [
    "pd.Series(my_data,index=labels)"
   ],
   "metadata": {
    "collapsed": false,
    "pycharm": {
     "name": "#%%\n"
    }
   }
  },
  {
   "cell_type": "code",
   "execution_count": 44,
   "outputs": [
    {
     "data": {
      "text/plain": "a    10\nb    20\nc    30\ndtype: int64"
     },
     "execution_count": 44,
     "metadata": {},
     "output_type": "execute_result"
    }
   ],
   "source": [
    "pd.Series(arr,labels)"
   ],
   "metadata": {
    "collapsed": false,
    "pycharm": {
     "name": "#%%\n"
    }
   }
  },
  {
   "cell_type": "code",
   "execution_count": 45,
   "outputs": [
    {
     "data": {
      "text/plain": "USA        1\nGERMANY    2\nINDIA      3\nCA         4\ndtype: int64"
     },
     "execution_count": 45,
     "metadata": {},
     "output_type": "execute_result"
    }
   ],
   "source": [
    "pd.Series([1,2,3,4],['USA','GERMANY','INDIA','CA'])\n"
   ],
   "metadata": {
    "collapsed": false,
    "pycharm": {
     "name": "#%%\n"
    }
   }
  },
  {
   "cell_type": "code",
   "execution_count": 46,
   "outputs": [
    {
     "data": {
      "text/plain": "USA        1\nGERMANY    2\nINDIA      3\nCA         4\ndtype: int64"
     },
     "execution_count": 46,
     "metadata": {},
     "output_type": "execute_result"
    }
   ],
   "source": [
    "ser1=pd.Series([1,2,3,4],['USA','GERMANY','INDIA','CA'])\n",
    "ser1\n"
   ],
   "metadata": {
    "collapsed": false,
    "pycharm": {
     "name": "#%%\n"
    }
   }
  },
  {
   "cell_type": "code",
   "execution_count": 47,
   "outputs": [
    {
     "data": {
      "text/plain": "2"
     },
     "execution_count": 47,
     "metadata": {},
     "output_type": "execute_result"
    }
   ],
   "source": [
    "ser1[1]"
   ],
   "metadata": {
    "collapsed": false,
    "pycharm": {
     "name": "#%%\n"
    }
   }
  },
  {
   "cell_type": "code",
   "execution_count": 48,
   "outputs": [
    {
     "data": {
      "text/plain": "3"
     },
     "execution_count": 48,
     "metadata": {},
     "output_type": "execute_result"
    }
   ],
   "source": [
    "ser1['INDIA']"
   ],
   "metadata": {
    "collapsed": false,
    "pycharm": {
     "name": "#%%\n"
    }
   }
  },
  {
   "cell_type": "code",
   "execution_count": 49,
   "outputs": [
    {
     "data": {
      "text/plain": "CA         8.0\nENGLAND    NaN\nGERMANY    NaN\nINDIA      6.0\nUSA        2.0\ndtype: float64"
     },
     "execution_count": 49,
     "metadata": {},
     "output_type": "execute_result"
    }
   ],
   "source": [
    "ser1=pd.Series([1,2,3,4],['USA','GERMANY','INDIA','CA'])\n",
    "\n",
    "ser2=pd.Series([1,2,3,4],['USA','ENGLAND','INDIA','CA'])\n",
    "\n",
    "ser1+ser2"
   ],
   "metadata": {
    "collapsed": false,
    "pycharm": {
     "name": "#%%\n"
    }
   }
  },
  {
   "cell_type": "code",
   "execution_count": 70,
   "outputs": [
    {
     "data": {
      "text/plain": "          W         X         Y         Z\nA  1.606780 -1.115710 -1.385379 -1.329660\nB  0.041460 -0.411055 -0.771329  0.110477\nC -0.804652  0.253548  0.649148  0.358941\nD -1.080471  0.902398  0.161781  0.833029\nE  0.975720 -0.388239  0.783316 -0.708954",
      "text/html": "<div>\n<style scoped>\n    .dataframe tbody tr th:only-of-type {\n        vertical-align: middle;\n    }\n\n    .dataframe tbody tr th {\n        vertical-align: top;\n    }\n\n    .dataframe thead th {\n        text-align: right;\n    }\n</style>\n<table border=\"1\" class=\"dataframe\">\n  <thead>\n    <tr style=\"text-align: right;\">\n      <th></th>\n      <th>W</th>\n      <th>X</th>\n      <th>Y</th>\n      <th>Z</th>\n    </tr>\n  </thead>\n  <tbody>\n    <tr>\n      <th>A</th>\n      <td>1.606780</td>\n      <td>-1.115710</td>\n      <td>-1.385379</td>\n      <td>-1.329660</td>\n    </tr>\n    <tr>\n      <th>B</th>\n      <td>0.041460</td>\n      <td>-0.411055</td>\n      <td>-0.771329</td>\n      <td>0.110477</td>\n    </tr>\n    <tr>\n      <th>C</th>\n      <td>-0.804652</td>\n      <td>0.253548</td>\n      <td>0.649148</td>\n      <td>0.358941</td>\n    </tr>\n    <tr>\n      <th>D</th>\n      <td>-1.080471</td>\n      <td>0.902398</td>\n      <td>0.161781</td>\n      <td>0.833029</td>\n    </tr>\n    <tr>\n      <th>E</th>\n      <td>0.975720</td>\n      <td>-0.388239</td>\n      <td>0.783316</td>\n      <td>-0.708954</td>\n    </tr>\n  </tbody>\n</table>\n</div>"
     },
     "execution_count": 70,
     "metadata": {},
     "output_type": "execute_result"
    }
   ],
   "source": [
    "#DataFrame Creation\n",
    "df=pd.DataFrame(randn(5,4),['A','B','C','D','E'],['W','X','Y','Z'])\n",
    "df"
   ],
   "metadata": {
    "collapsed": false,
    "pycharm": {
     "name": "#%%\n"
    }
   }
  },
  {
   "cell_type": "code",
   "execution_count": 54,
   "outputs": [
    {
     "data": {
      "text/plain": "          W         X         Y         Z\nA -1.467514 -0.494095 -0.162535  0.485809\nB  0.392489  0.221491 -0.855196  1.541990\nC  0.666319 -0.538235 -0.568581  1.407338\nD  0.641806 -0.905100 -0.391157  1.028293\nE -1.972605 -0.866885  0.720788 -1.223082",
      "text/html": "<div>\n<style scoped>\n    .dataframe tbody tr th:only-of-type {\n        vertical-align: middle;\n    }\n\n    .dataframe tbody tr th {\n        vertical-align: top;\n    }\n\n    .dataframe thead th {\n        text-align: right;\n    }\n</style>\n<table border=\"1\" class=\"dataframe\">\n  <thead>\n    <tr style=\"text-align: right;\">\n      <th></th>\n      <th>W</th>\n      <th>X</th>\n      <th>Y</th>\n      <th>Z</th>\n    </tr>\n  </thead>\n  <tbody>\n    <tr>\n      <th>A</th>\n      <td>-1.467514</td>\n      <td>-0.494095</td>\n      <td>-0.162535</td>\n      <td>0.485809</td>\n    </tr>\n    <tr>\n      <th>B</th>\n      <td>0.392489</td>\n      <td>0.221491</td>\n      <td>-0.855196</td>\n      <td>1.541990</td>\n    </tr>\n    <tr>\n      <th>C</th>\n      <td>0.666319</td>\n      <td>-0.538235</td>\n      <td>-0.568581</td>\n      <td>1.407338</td>\n    </tr>\n    <tr>\n      <th>D</th>\n      <td>0.641806</td>\n      <td>-0.905100</td>\n      <td>-0.391157</td>\n      <td>1.028293</td>\n    </tr>\n    <tr>\n      <th>E</th>\n      <td>-1.972605</td>\n      <td>-0.866885</td>\n      <td>0.720788</td>\n      <td>-1.223082</td>\n    </tr>\n  </tbody>\n</table>\n</div>"
     },
     "execution_count": 54,
     "metadata": {},
     "output_type": "execute_result"
    }
   ],
   "source": [
    "df=pd.DataFrame(randn(5,4),'A B C D E'.split(),'W X Y Z'.split())\n",
    "df"
   ],
   "metadata": {
    "collapsed": false,
    "pycharm": {
     "name": "#%%\n"
    }
   }
  },
  {
   "cell_type": "code",
   "execution_count": 56,
   "outputs": [
    {
     "data": {
      "text/plain": "A   -1.467514\nB    0.392489\nC    0.666319\nD    0.641806\nE   -1.972605\nName: W, dtype: float64"
     },
     "execution_count": 56,
     "metadata": {},
     "output_type": "execute_result"
    }
   ],
   "source": [
    "df['W']"
   ],
   "metadata": {
    "collapsed": false,
    "pycharm": {
     "name": "#%%\n"
    }
   }
  },
  {
   "cell_type": "code",
   "execution_count": 59,
   "outputs": [
    {
     "data": {
      "text/plain": "pandas.core.series.Series"
     },
     "execution_count": 59,
     "metadata": {},
     "output_type": "execute_result"
    }
   ],
   "source": [
    "type(df[\"W\"])"
   ],
   "metadata": {
    "collapsed": false,
    "pycharm": {
     "name": "#%%\n"
    }
   }
  },
  {
   "cell_type": "code",
   "execution_count": 62,
   "outputs": [
    {
     "data": {
      "text/plain": "A   -1.467514\nB    0.392489\nC    0.666319\nD    0.641806\nE   -1.972605\nName: W, dtype: float64"
     },
     "execution_count": 62,
     "metadata": {},
     "output_type": "execute_result"
    }
   ],
   "source": [
    "df.W"
   ],
   "metadata": {
    "collapsed": false,
    "pycharm": {
     "name": "#%%\n"
    }
   }
  },
  {
   "cell_type": "code",
   "execution_count": 64,
   "outputs": [
    {
     "data": {
      "text/plain": "          W         Z\nA -1.467514  0.485809\nB  0.392489  1.541990\nC  0.666319  1.407338\nD  0.641806  1.028293\nE -1.972605 -1.223082",
      "text/html": "<div>\n<style scoped>\n    .dataframe tbody tr th:only-of-type {\n        vertical-align: middle;\n    }\n\n    .dataframe tbody tr th {\n        vertical-align: top;\n    }\n\n    .dataframe thead th {\n        text-align: right;\n    }\n</style>\n<table border=\"1\" class=\"dataframe\">\n  <thead>\n    <tr style=\"text-align: right;\">\n      <th></th>\n      <th>W</th>\n      <th>Z</th>\n    </tr>\n  </thead>\n  <tbody>\n    <tr>\n      <th>A</th>\n      <td>-1.467514</td>\n      <td>0.485809</td>\n    </tr>\n    <tr>\n      <th>B</th>\n      <td>0.392489</td>\n      <td>1.541990</td>\n    </tr>\n    <tr>\n      <th>C</th>\n      <td>0.666319</td>\n      <td>1.407338</td>\n    </tr>\n    <tr>\n      <th>D</th>\n      <td>0.641806</td>\n      <td>1.028293</td>\n    </tr>\n    <tr>\n      <th>E</th>\n      <td>-1.972605</td>\n      <td>-1.223082</td>\n    </tr>\n  </tbody>\n</table>\n</div>"
     },
     "execution_count": 64,
     "metadata": {},
     "output_type": "execute_result"
    }
   ],
   "source": [
    "df[['W','Z']]"
   ],
   "metadata": {
    "collapsed": false,
    "pycharm": {
     "name": "#%%\n"
    }
   }
  },
  {
   "cell_type": "code",
   "execution_count": 71,
   "outputs": [
    {
     "data": {
      "text/plain": "          W         X         Y         Z       new\nA  1.606780 -1.115710 -1.385379 -1.329660  0.277120\nB  0.041460 -0.411055 -0.771329  0.110477  0.151937\nC -0.804652  0.253548  0.649148  0.358941 -0.445711\nD -1.080471  0.902398  0.161781  0.833029 -0.247442\nE  0.975720 -0.388239  0.783316 -0.708954  0.266766",
      "text/html": "<div>\n<style scoped>\n    .dataframe tbody tr th:only-of-type {\n        vertical-align: middle;\n    }\n\n    .dataframe tbody tr th {\n        vertical-align: top;\n    }\n\n    .dataframe thead th {\n        text-align: right;\n    }\n</style>\n<table border=\"1\" class=\"dataframe\">\n  <thead>\n    <tr style=\"text-align: right;\">\n      <th></th>\n      <th>W</th>\n      <th>X</th>\n      <th>Y</th>\n      <th>Z</th>\n      <th>new</th>\n    </tr>\n  </thead>\n  <tbody>\n    <tr>\n      <th>A</th>\n      <td>1.606780</td>\n      <td>-1.115710</td>\n      <td>-1.385379</td>\n      <td>-1.329660</td>\n      <td>0.277120</td>\n    </tr>\n    <tr>\n      <th>B</th>\n      <td>0.041460</td>\n      <td>-0.411055</td>\n      <td>-0.771329</td>\n      <td>0.110477</td>\n      <td>0.151937</td>\n    </tr>\n    <tr>\n      <th>C</th>\n      <td>-0.804652</td>\n      <td>0.253548</td>\n      <td>0.649148</td>\n      <td>0.358941</td>\n      <td>-0.445711</td>\n    </tr>\n    <tr>\n      <th>D</th>\n      <td>-1.080471</td>\n      <td>0.902398</td>\n      <td>0.161781</td>\n      <td>0.833029</td>\n      <td>-0.247442</td>\n    </tr>\n    <tr>\n      <th>E</th>\n      <td>0.975720</td>\n      <td>-0.388239</td>\n      <td>0.783316</td>\n      <td>-0.708954</td>\n      <td>0.266766</td>\n    </tr>\n  </tbody>\n</table>\n</div>"
     },
     "execution_count": 71,
     "metadata": {},
     "output_type": "execute_result"
    }
   ],
   "source": [
    "df['new']=df['W']+df['Z']\n",
    "df"
   ],
   "metadata": {
    "collapsed": false,
    "pycharm": {
     "name": "#%%\n"
    }
   }
  },
  {
   "cell_type": "code",
   "execution_count": 67,
   "outputs": [
    {
     "data": {
      "text/plain": "          W         X         Y         Z\nA -1.467514 -0.494095 -0.162535  0.485809\nB  0.392489  0.221491 -0.855196  1.541990\nC  0.666319 -0.538235 -0.568581  1.407338\nD  0.641806 -0.905100 -0.391157  1.028293\nE -1.972605 -0.866885  0.720788 -1.223082",
      "text/html": "<div>\n<style scoped>\n    .dataframe tbody tr th:only-of-type {\n        vertical-align: middle;\n    }\n\n    .dataframe tbody tr th {\n        vertical-align: top;\n    }\n\n    .dataframe thead th {\n        text-align: right;\n    }\n</style>\n<table border=\"1\" class=\"dataframe\">\n  <thead>\n    <tr style=\"text-align: right;\">\n      <th></th>\n      <th>W</th>\n      <th>X</th>\n      <th>Y</th>\n      <th>Z</th>\n    </tr>\n  </thead>\n  <tbody>\n    <tr>\n      <th>A</th>\n      <td>-1.467514</td>\n      <td>-0.494095</td>\n      <td>-0.162535</td>\n      <td>0.485809</td>\n    </tr>\n    <tr>\n      <th>B</th>\n      <td>0.392489</td>\n      <td>0.221491</td>\n      <td>-0.855196</td>\n      <td>1.541990</td>\n    </tr>\n    <tr>\n      <th>C</th>\n      <td>0.666319</td>\n      <td>-0.538235</td>\n      <td>-0.568581</td>\n      <td>1.407338</td>\n    </tr>\n    <tr>\n      <th>D</th>\n      <td>0.641806</td>\n      <td>-0.905100</td>\n      <td>-0.391157</td>\n      <td>1.028293</td>\n    </tr>\n    <tr>\n      <th>E</th>\n      <td>-1.972605</td>\n      <td>-0.866885</td>\n      <td>0.720788</td>\n      <td>-1.223082</td>\n    </tr>\n  </tbody>\n</table>\n</div>"
     },
     "execution_count": 67,
     "metadata": {},
     "output_type": "execute_result"
    }
   ],
   "source": [
    "#dropping column\n",
    "df.drop('new',axis=1,inplace=True)\n",
    "df"
   ],
   "metadata": {
    "collapsed": false,
    "pycharm": {
     "name": "#%%\n"
    }
   }
  },
  {
   "cell_type": "code",
   "execution_count": 72,
   "outputs": [
    {
     "data": {
      "text/plain": "          W         X         Y         Z       new\nA  1.606780 -1.115710 -1.385379 -1.329660  0.277120\nB  0.041460 -0.411055 -0.771329  0.110477  0.151937\nC -0.804652  0.253548  0.649148  0.358941 -0.445711\nD -1.080471  0.902398  0.161781  0.833029 -0.247442",
      "text/html": "<div>\n<style scoped>\n    .dataframe tbody tr th:only-of-type {\n        vertical-align: middle;\n    }\n\n    .dataframe tbody tr th {\n        vertical-align: top;\n    }\n\n    .dataframe thead th {\n        text-align: right;\n    }\n</style>\n<table border=\"1\" class=\"dataframe\">\n  <thead>\n    <tr style=\"text-align: right;\">\n      <th></th>\n      <th>W</th>\n      <th>X</th>\n      <th>Y</th>\n      <th>Z</th>\n      <th>new</th>\n    </tr>\n  </thead>\n  <tbody>\n    <tr>\n      <th>A</th>\n      <td>1.606780</td>\n      <td>-1.115710</td>\n      <td>-1.385379</td>\n      <td>-1.329660</td>\n      <td>0.277120</td>\n    </tr>\n    <tr>\n      <th>B</th>\n      <td>0.041460</td>\n      <td>-0.411055</td>\n      <td>-0.771329</td>\n      <td>0.110477</td>\n      <td>0.151937</td>\n    </tr>\n    <tr>\n      <th>C</th>\n      <td>-0.804652</td>\n      <td>0.253548</td>\n      <td>0.649148</td>\n      <td>0.358941</td>\n      <td>-0.445711</td>\n    </tr>\n    <tr>\n      <th>D</th>\n      <td>-1.080471</td>\n      <td>0.902398</td>\n      <td>0.161781</td>\n      <td>0.833029</td>\n      <td>-0.247442</td>\n    </tr>\n  </tbody>\n</table>\n</div>"
     },
     "execution_count": 72,
     "metadata": {},
     "output_type": "execute_result"
    }
   ],
   "source": [
    "df.drop('E', axis=0,inplace=True)\n",
    "df"
   ],
   "metadata": {
    "collapsed": false,
    "pycharm": {
     "name": "#%%\n"
    }
   }
  },
  {
   "cell_type": "code",
   "execution_count": 73,
   "outputs": [
    {
     "data": {
      "text/plain": "(4, 5)"
     },
     "execution_count": 73,
     "metadata": {},
     "output_type": "execute_result"
    }
   ],
   "source": [
    "df.shape\n"
   ],
   "metadata": {
    "collapsed": false,
    "pycharm": {
     "name": "#%%\n"
    }
   }
  },
  {
   "cell_type": "code",
   "execution_count": 74,
   "outputs": [
    {
     "data": {
      "text/plain": "W      1.606780\nX     -1.115710\nY     -1.385379\nZ     -1.329660\nnew    0.277120\nName: A, dtype: float64"
     },
     "execution_count": 74,
     "metadata": {},
     "output_type": "execute_result"
    }
   ],
   "source": [
    "#Getting Rows\n",
    "df.loc['A']"
   ],
   "metadata": {
    "collapsed": false,
    "pycharm": {
     "name": "#%%\n"
    }
   }
  },
  {
   "cell_type": "code",
   "execution_count": 78,
   "outputs": [
    {
     "data": {
      "text/plain": "W      1.606780\nX     -1.115710\nY     -1.385379\nZ     -1.329660\nnew    0.277120\nName: A, dtype: float64"
     },
     "execution_count": 78,
     "metadata": {},
     "output_type": "execute_result"
    }
   ],
   "source": [
    "\n",
    "df.iloc[0]"
   ],
   "metadata": {
    "collapsed": false,
    "pycharm": {
     "name": "#%%\n"
    }
   }
  },
  {
   "cell_type": "code",
   "execution_count": 81,
   "outputs": [
    {
     "data": {
      "text/plain": "-1.1157099674628352"
     },
     "execution_count": 81,
     "metadata": {},
     "output_type": "execute_result"
    }
   ],
   "source": [
    "#Get value\n",
    "df.loc['A','X']"
   ],
   "metadata": {
    "collapsed": false,
    "pycharm": {
     "name": "#%%\n"
    }
   }
  },
  {
   "cell_type": "code",
   "execution_count": 83,
   "outputs": [
    {
     "data": {
      "text/plain": "         W         X\nA  1.60678 -1.115710\nB  0.04146 -0.411055",
      "text/html": "<div>\n<style scoped>\n    .dataframe tbody tr th:only-of-type {\n        vertical-align: middle;\n    }\n\n    .dataframe tbody tr th {\n        vertical-align: top;\n    }\n\n    .dataframe thead th {\n        text-align: right;\n    }\n</style>\n<table border=\"1\" class=\"dataframe\">\n  <thead>\n    <tr style=\"text-align: right;\">\n      <th></th>\n      <th>W</th>\n      <th>X</th>\n    </tr>\n  </thead>\n  <tbody>\n    <tr>\n      <th>A</th>\n      <td>1.60678</td>\n      <td>-1.115710</td>\n    </tr>\n    <tr>\n      <th>B</th>\n      <td>0.04146</td>\n      <td>-0.411055</td>\n    </tr>\n  </tbody>\n</table>\n</div>"
     },
     "execution_count": 83,
     "metadata": {},
     "output_type": "execute_result"
    }
   ],
   "source": [
    "df.loc[['A','B'],['W','X']]\n"
   ],
   "metadata": {
    "collapsed": false,
    "pycharm": {
     "name": "#%%\n"
    }
   }
  },
  {
   "cell_type": "code",
   "execution_count": 84,
   "outputs": [
    {
     "data": {
      "text/plain": "          W         X         Y         Z\nA  0.586847 -1.621348  0.677535  0.026105\nB -1.678284  0.333973 -0.532471  2.117727\nC  0.197524  2.302987  0.729024 -0.863091\nD  0.305632  0.243178  0.864165 -1.560931\nE -0.251897 -0.578120  0.236996  0.200780",
      "text/html": "<div>\n<style scoped>\n    .dataframe tbody tr th:only-of-type {\n        vertical-align: middle;\n    }\n\n    .dataframe tbody tr th {\n        vertical-align: top;\n    }\n\n    .dataframe thead th {\n        text-align: right;\n    }\n</style>\n<table border=\"1\" class=\"dataframe\">\n  <thead>\n    <tr style=\"text-align: right;\">\n      <th></th>\n      <th>W</th>\n      <th>X</th>\n      <th>Y</th>\n      <th>Z</th>\n    </tr>\n  </thead>\n  <tbody>\n    <tr>\n      <th>A</th>\n      <td>0.586847</td>\n      <td>-1.621348</td>\n      <td>0.677535</td>\n      <td>0.026105</td>\n    </tr>\n    <tr>\n      <th>B</th>\n      <td>-1.678284</td>\n      <td>0.333973</td>\n      <td>-0.532471</td>\n      <td>2.117727</td>\n    </tr>\n    <tr>\n      <th>C</th>\n      <td>0.197524</td>\n      <td>2.302987</td>\n      <td>0.729024</td>\n      <td>-0.863091</td>\n    </tr>\n    <tr>\n      <th>D</th>\n      <td>0.305632</td>\n      <td>0.243178</td>\n      <td>0.864165</td>\n      <td>-1.560931</td>\n    </tr>\n    <tr>\n      <th>E</th>\n      <td>-0.251897</td>\n      <td>-0.578120</td>\n      <td>0.236996</td>\n      <td>0.200780</td>\n    </tr>\n  </tbody>\n</table>\n</div>"
     },
     "execution_count": 84,
     "metadata": {},
     "output_type": "execute_result"
    }
   ],
   "source": [
    "df=pd.DataFrame(randn(5,4),'A B C D E'.split(),'W X Y Z'.split())\n",
    "df\n"
   ],
   "metadata": {
    "collapsed": false,
    "pycharm": {
     "name": "#%%\n"
    }
   }
  },
  {
   "cell_type": "code",
   "execution_count": 85,
   "outputs": [
    {
     "data": {
      "text/plain": "       W      X      Y      Z\nA   True  False   True   True\nB  False   True  False   True\nC   True   True   True  False\nD   True   True   True  False\nE  False  False   True   True",
      "text/html": "<div>\n<style scoped>\n    .dataframe tbody tr th:only-of-type {\n        vertical-align: middle;\n    }\n\n    .dataframe tbody tr th {\n        vertical-align: top;\n    }\n\n    .dataframe thead th {\n        text-align: right;\n    }\n</style>\n<table border=\"1\" class=\"dataframe\">\n  <thead>\n    <tr style=\"text-align: right;\">\n      <th></th>\n      <th>W</th>\n      <th>X</th>\n      <th>Y</th>\n      <th>Z</th>\n    </tr>\n  </thead>\n  <tbody>\n    <tr>\n      <th>A</th>\n      <td>True</td>\n      <td>False</td>\n      <td>True</td>\n      <td>True</td>\n    </tr>\n    <tr>\n      <th>B</th>\n      <td>False</td>\n      <td>True</td>\n      <td>False</td>\n      <td>True</td>\n    </tr>\n    <tr>\n      <th>C</th>\n      <td>True</td>\n      <td>True</td>\n      <td>True</td>\n      <td>False</td>\n    </tr>\n    <tr>\n      <th>D</th>\n      <td>True</td>\n      <td>True</td>\n      <td>True</td>\n      <td>False</td>\n    </tr>\n    <tr>\n      <th>E</th>\n      <td>False</td>\n      <td>False</td>\n      <td>True</td>\n      <td>True</td>\n    </tr>\n  </tbody>\n</table>\n</div>"
     },
     "execution_count": 85,
     "metadata": {},
     "output_type": "execute_result"
    }
   ],
   "source": [
    "df>0"
   ],
   "metadata": {
    "collapsed": false,
    "pycharm": {
     "name": "#%%\n"
    }
   }
  },
  {
   "cell_type": "code",
   "execution_count": 86,
   "outputs": [
    {
     "data": {
      "text/plain": "       W      X      Y      Z\nA   True  False   True   True\nB  False   True  False   True\nC   True   True   True  False\nD   True   True   True  False\nE  False  False   True   True",
      "text/html": "<div>\n<style scoped>\n    .dataframe tbody tr th:only-of-type {\n        vertical-align: middle;\n    }\n\n    .dataframe tbody tr th {\n        vertical-align: top;\n    }\n\n    .dataframe thead th {\n        text-align: right;\n    }\n</style>\n<table border=\"1\" class=\"dataframe\">\n  <thead>\n    <tr style=\"text-align: right;\">\n      <th></th>\n      <th>W</th>\n      <th>X</th>\n      <th>Y</th>\n      <th>Z</th>\n    </tr>\n  </thead>\n  <tbody>\n    <tr>\n      <th>A</th>\n      <td>True</td>\n      <td>False</td>\n      <td>True</td>\n      <td>True</td>\n    </tr>\n    <tr>\n      <th>B</th>\n      <td>False</td>\n      <td>True</td>\n      <td>False</td>\n      <td>True</td>\n    </tr>\n    <tr>\n      <th>C</th>\n      <td>True</td>\n      <td>True</td>\n      <td>True</td>\n      <td>False</td>\n    </tr>\n    <tr>\n      <th>D</th>\n      <td>True</td>\n      <td>True</td>\n      <td>True</td>\n      <td>False</td>\n    </tr>\n    <tr>\n      <th>E</th>\n      <td>False</td>\n      <td>False</td>\n      <td>True</td>\n      <td>True</td>\n    </tr>\n  </tbody>\n</table>\n</div>"
     },
     "execution_count": 86,
     "metadata": {},
     "output_type": "execute_result"
    }
   ],
   "source": [
    "boolDF=df>0\n",
    "boolDF\n"
   ],
   "metadata": {
    "collapsed": false,
    "pycharm": {
     "name": "#%%\n"
    }
   }
  },
  {
   "cell_type": "code",
   "execution_count": 87,
   "outputs": [
    {
     "data": {
      "text/plain": "          W         X         Y         Z\nA  0.586847       NaN  0.677535  0.026105\nB       NaN  0.333973       NaN  2.117727\nC  0.197524  2.302987  0.729024       NaN\nD  0.305632  0.243178  0.864165       NaN\nE       NaN       NaN  0.236996  0.200780",
      "text/html": "<div>\n<style scoped>\n    .dataframe tbody tr th:only-of-type {\n        vertical-align: middle;\n    }\n\n    .dataframe tbody tr th {\n        vertical-align: top;\n    }\n\n    .dataframe thead th {\n        text-align: right;\n    }\n</style>\n<table border=\"1\" class=\"dataframe\">\n  <thead>\n    <tr style=\"text-align: right;\">\n      <th></th>\n      <th>W</th>\n      <th>X</th>\n      <th>Y</th>\n      <th>Z</th>\n    </tr>\n  </thead>\n  <tbody>\n    <tr>\n      <th>A</th>\n      <td>0.586847</td>\n      <td>NaN</td>\n      <td>0.677535</td>\n      <td>0.026105</td>\n    </tr>\n    <tr>\n      <th>B</th>\n      <td>NaN</td>\n      <td>0.333973</td>\n      <td>NaN</td>\n      <td>2.117727</td>\n    </tr>\n    <tr>\n      <th>C</th>\n      <td>0.197524</td>\n      <td>2.302987</td>\n      <td>0.729024</td>\n      <td>NaN</td>\n    </tr>\n    <tr>\n      <th>D</th>\n      <td>0.305632</td>\n      <td>0.243178</td>\n      <td>0.864165</td>\n      <td>NaN</td>\n    </tr>\n    <tr>\n      <th>E</th>\n      <td>NaN</td>\n      <td>NaN</td>\n      <td>0.236996</td>\n      <td>0.200780</td>\n    </tr>\n  </tbody>\n</table>\n</div>"
     },
     "execution_count": 87,
     "metadata": {},
     "output_type": "execute_result"
    }
   ],
   "source": [
    "df[boolDF]"
   ],
   "metadata": {
    "collapsed": false,
    "pycharm": {
     "name": "#%%\n"
    }
   }
  },
  {
   "cell_type": "code",
   "execution_count": 88,
   "outputs": [
    {
     "data": {
      "text/plain": "          W         X         Y         Z\nA  0.586847       NaN  0.677535  0.026105\nB       NaN  0.333973       NaN  2.117727\nC  0.197524  2.302987  0.729024       NaN\nD  0.305632  0.243178  0.864165       NaN\nE       NaN       NaN  0.236996  0.200780",
      "text/html": "<div>\n<style scoped>\n    .dataframe tbody tr th:only-of-type {\n        vertical-align: middle;\n    }\n\n    .dataframe tbody tr th {\n        vertical-align: top;\n    }\n\n    .dataframe thead th {\n        text-align: right;\n    }\n</style>\n<table border=\"1\" class=\"dataframe\">\n  <thead>\n    <tr style=\"text-align: right;\">\n      <th></th>\n      <th>W</th>\n      <th>X</th>\n      <th>Y</th>\n      <th>Z</th>\n    </tr>\n  </thead>\n  <tbody>\n    <tr>\n      <th>A</th>\n      <td>0.586847</td>\n      <td>NaN</td>\n      <td>0.677535</td>\n      <td>0.026105</td>\n    </tr>\n    <tr>\n      <th>B</th>\n      <td>NaN</td>\n      <td>0.333973</td>\n      <td>NaN</td>\n      <td>2.117727</td>\n    </tr>\n    <tr>\n      <th>C</th>\n      <td>0.197524</td>\n      <td>2.302987</td>\n      <td>0.729024</td>\n      <td>NaN</td>\n    </tr>\n    <tr>\n      <th>D</th>\n      <td>0.305632</td>\n      <td>0.243178</td>\n      <td>0.864165</td>\n      <td>NaN</td>\n    </tr>\n    <tr>\n      <th>E</th>\n      <td>NaN</td>\n      <td>NaN</td>\n      <td>0.236996</td>\n      <td>0.200780</td>\n    </tr>\n  </tbody>\n</table>\n</div>"
     },
     "execution_count": 88,
     "metadata": {},
     "output_type": "execute_result"
    }
   ],
   "source": [
    "df[df>0]"
   ],
   "metadata": {
    "collapsed": false,
    "pycharm": {
     "name": "#%%\n"
    }
   }
  },
  {
   "cell_type": "code",
   "execution_count": 89,
   "outputs": [
    {
     "data": {
      "text/plain": "A     True\nB    False\nC     True\nD     True\nE    False\nName: W, dtype: bool"
     },
     "execution_count": 89,
     "metadata": {},
     "output_type": "execute_result"
    }
   ],
   "source": [
    "df['W']>0\n"
   ],
   "metadata": {
    "collapsed": false,
    "pycharm": {
     "name": "#%%\n"
    }
   }
  },
  {
   "cell_type": "code",
   "execution_count": 90,
   "outputs": [
    {
     "data": {
      "text/plain": "          W         X         Y         Z\nA  0.586847 -1.621348  0.677535  0.026105\nC  0.197524  2.302987  0.729024 -0.863091\nD  0.305632  0.243178  0.864165 -1.560931",
      "text/html": "<div>\n<style scoped>\n    .dataframe tbody tr th:only-of-type {\n        vertical-align: middle;\n    }\n\n    .dataframe tbody tr th {\n        vertical-align: top;\n    }\n\n    .dataframe thead th {\n        text-align: right;\n    }\n</style>\n<table border=\"1\" class=\"dataframe\">\n  <thead>\n    <tr style=\"text-align: right;\">\n      <th></th>\n      <th>W</th>\n      <th>X</th>\n      <th>Y</th>\n      <th>Z</th>\n    </tr>\n  </thead>\n  <tbody>\n    <tr>\n      <th>A</th>\n      <td>0.586847</td>\n      <td>-1.621348</td>\n      <td>0.677535</td>\n      <td>0.026105</td>\n    </tr>\n    <tr>\n      <th>C</th>\n      <td>0.197524</td>\n      <td>2.302987</td>\n      <td>0.729024</td>\n      <td>-0.863091</td>\n    </tr>\n    <tr>\n      <th>D</th>\n      <td>0.305632</td>\n      <td>0.243178</td>\n      <td>0.864165</td>\n      <td>-1.560931</td>\n    </tr>\n  </tbody>\n</table>\n</div>"
     },
     "execution_count": 90,
     "metadata": {},
     "output_type": "execute_result"
    }
   ],
   "source": [
    "df[df['W']>0]"
   ],
   "metadata": {
    "collapsed": false,
    "pycharm": {
     "name": "#%%\n"
    }
   }
  },
  {
   "cell_type": "code",
   "execution_count": 93,
   "outputs": [
    {
     "data": {
      "text/plain": "          W         X         Y         Z\nA  0.586847 -1.621348  0.677535  0.026105\nD  0.305632  0.243178  0.864165 -1.560931",
      "text/html": "<div>\n<style scoped>\n    .dataframe tbody tr th:only-of-type {\n        vertical-align: middle;\n    }\n\n    .dataframe tbody tr th {\n        vertical-align: top;\n    }\n\n    .dataframe thead th {\n        text-align: right;\n    }\n</style>\n<table border=\"1\" class=\"dataframe\">\n  <thead>\n    <tr style=\"text-align: right;\">\n      <th></th>\n      <th>W</th>\n      <th>X</th>\n      <th>Y</th>\n      <th>Z</th>\n    </tr>\n  </thead>\n  <tbody>\n    <tr>\n      <th>A</th>\n      <td>0.586847</td>\n      <td>-1.621348</td>\n      <td>0.677535</td>\n      <td>0.026105</td>\n    </tr>\n    <tr>\n      <th>D</th>\n      <td>0.305632</td>\n      <td>0.243178</td>\n      <td>0.864165</td>\n      <td>-1.560931</td>\n    </tr>\n  </tbody>\n</table>\n</div>"
     },
     "execution_count": 93,
     "metadata": {},
     "output_type": "execute_result"
    }
   ],
   "source": [
    "resultDF=df[df['W']>.2]\n",
    "resultDF"
   ],
   "metadata": {
    "collapsed": false,
    "pycharm": {
     "name": "#%%\n"
    }
   }
  },
  {
   "cell_type": "code",
   "execution_count": 94,
   "outputs": [
    {
     "data": {
      "text/plain": "A   -1.621348\nD    0.243178\nName: X, dtype: float64"
     },
     "execution_count": 94,
     "metadata": {},
     "output_type": "execute_result"
    }
   ],
   "source": [
    "resultDF['X']"
   ],
   "metadata": {
    "collapsed": false,
    "pycharm": {
     "name": "#%%\n"
    }
   }
  },
  {
   "cell_type": "code",
   "execution_count": 95,
   "outputs": [
    {
     "data": {
      "text/plain": "A   -1.621348\nD    0.243178\nName: X, dtype: float64"
     },
     "execution_count": 95,
     "metadata": {},
     "output_type": "execute_result"
    }
   ],
   "source": [
    "df[df['W']>.2]['X']\n"
   ],
   "metadata": {
    "collapsed": false,
    "pycharm": {
     "name": "#%%\n"
    }
   }
  },
  {
   "cell_type": "code",
   "execution_count": 97,
   "outputs": [
    {
     "data": {
      "text/plain": "          W         Z\nA  0.586847  0.026105\nD  0.305632 -1.560931",
      "text/html": "<div>\n<style scoped>\n    .dataframe tbody tr th:only-of-type {\n        vertical-align: middle;\n    }\n\n    .dataframe tbody tr th {\n        vertical-align: top;\n    }\n\n    .dataframe thead th {\n        text-align: right;\n    }\n</style>\n<table border=\"1\" class=\"dataframe\">\n  <thead>\n    <tr style=\"text-align: right;\">\n      <th></th>\n      <th>W</th>\n      <th>Z</th>\n    </tr>\n  </thead>\n  <tbody>\n    <tr>\n      <th>A</th>\n      <td>0.586847</td>\n      <td>0.026105</td>\n    </tr>\n    <tr>\n      <th>D</th>\n      <td>0.305632</td>\n      <td>-1.560931</td>\n    </tr>\n  </tbody>\n</table>\n</div>"
     },
     "execution_count": 97,
     "metadata": {},
     "output_type": "execute_result"
    }
   ],
   "source": [
    "df[df['W']>.2][['W','Z']]"
   ],
   "metadata": {
    "collapsed": false,
    "pycharm": {
     "name": "#%%\n"
    }
   }
  },
  {
   "cell_type": "code",
   "execution_count": null,
   "outputs": [],
   "source": [],
   "metadata": {
    "collapsed": false,
    "pycharm": {
     "name": "#%%\n"
    }
   }
  }
 ],
 "metadata": {
  "kernelspec": {
   "display_name": "Python 3",
   "language": "python",
   "name": "python3"
  },
  "language_info": {
   "codemirror_mode": {
    "name": "ipython",
    "version": 2
   },
   "file_extension": ".py",
   "mimetype": "text/x-python",
   "name": "python",
   "nbconvert_exporter": "python",
   "pygments_lexer": "ipython2",
   "version": "2.7.6"
  }
 },
 "nbformat": 4,
 "nbformat_minor": 0
}