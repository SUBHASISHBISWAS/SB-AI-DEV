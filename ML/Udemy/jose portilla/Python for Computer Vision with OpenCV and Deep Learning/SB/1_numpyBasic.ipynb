{
 "cells": [
  {
   "cell_type": "code",
   "execution_count": 1,
   "metadata": {},
   "outputs": [],
   "source": [
    "import numpy as np"
   ]
  },
  {
   "cell_type": "code",
   "execution_count": 14,
   "metadata": {},
   "outputs": [],
   "source": [
    "from tabulate import tabulate\n",
    "def DisplayMatrix(M):\n",
    "    print(tabulate(M, headers='keys', tablefmt='double_grid'))"
   ]
  },
  {
   "cell_type": "code",
   "execution_count": 2,
   "metadata": {},
   "outputs": [
    {
     "data": {
      "text/plain": [
       "list"
      ]
     },
     "execution_count": 2,
     "metadata": {},
     "output_type": "execute_result"
    }
   ],
   "source": [
    "myList = [1,2,3]\n",
    "type(myList)"
   ]
  },
  {
   "cell_type": "code",
   "execution_count": 3,
   "metadata": {},
   "outputs": [
    {
     "data": {
      "text/plain": [
       "numpy.ndarray"
      ]
     },
     "execution_count": 3,
     "metadata": {},
     "output_type": "execute_result"
    }
   ],
   "source": [
    "#we could do is cast list as an array\n",
    "myarray=np.array(myList)\n",
    "type(myarray)"
   ]
  },
  {
   "cell_type": "code",
   "execution_count": 19,
   "metadata": {},
   "outputs": [
    {
     "data": {
      "text/plain": [
       "array([0, 2, 4, 6, 8])"
      ]
     },
     "execution_count": 19,
     "metadata": {},
     "output_type": "execute_result"
    }
   ],
   "source": [
    "'''\n",
    "Basically it returns evenly spaced values within a given interval, so you give it a start and a stop\n",
    "and an optional step size.\n",
    "'''\n",
    "np.arange(0,10,2)"
   ]
  },
  {
   "cell_type": "code",
   "execution_count": 22,
   "metadata": {},
   "outputs": [
    {
     "name": "stdout",
     "output_type": "stream",
     "text": [
      "╔═══╦═══╦═══╦═══╦═══╗\n",
      "║ 0 ║ 0 ║ 0 ║ 0 ║ 0 ║\n",
      "╠═══╬═══╬═══╬═══╬═══╣\n",
      "║ 0 ║ 0 ║ 0 ║ 0 ║ 0 ║\n",
      "╠═══╬═══╬═══╬═══╬═══╣\n",
      "║ 0 ║ 0 ║ 0 ║ 0 ║ 0 ║\n",
      "╠═══╬═══╬═══╬═══╬═══╣\n",
      "║ 0 ║ 0 ║ 0 ║ 0 ║ 0 ║\n",
      "╠═══╬═══╬═══╬═══╬═══╣\n",
      "║ 0 ║ 0 ║ 0 ║ 0 ║ 0 ║\n",
      "╚═══╩═══╩═══╩═══╩═══╝\n"
     ]
    }
   ],
   "source": [
    "'''\n",
    "Now often what we're going to be doing is creating a two dimensional or three dimensional array, all\n",
    "of one single value.\n",
    "\n",
    "Now you'll notice each of these zeros has a little decimal point after it.\n",
    "That's because by default, numpy is going to automatically create floats instead of just pure integers.\n",
    "'''\n",
    "DisplayMatrix(np.zeros(shape=(5,5)))"
   ]
  },
  {
   "cell_type": "code",
   "execution_count": 6,
   "metadata": {},
   "outputs": [
    {
     "data": {
      "text/plain": [
       "float"
      ]
     },
     "execution_count": 6,
     "metadata": {},
     "output_type": "execute_result"
    }
   ],
   "source": [
    "type(0.)"
   ]
  },
  {
   "cell_type": "code",
   "execution_count": 23,
   "metadata": {},
   "outputs": [
    {
     "name": "stdout",
     "output_type": "stream",
     "text": [
      "╔═══╦═══╦═══╦═══╦═══╗\n",
      "║ 1 ║ 1 ║ 1 ║ 1 ║ 1 ║\n",
      "╠═══╬═══╬═══╬═══╬═══╣\n",
      "║ 1 ║ 1 ║ 1 ║ 1 ║ 1 ║\n",
      "╠═══╬═══╬═══╬═══╬═══╣\n",
      "║ 1 ║ 1 ║ 1 ║ 1 ║ 1 ║\n",
      "╠═══╬═══╬═══╬═══╬═══╣\n",
      "║ 1 ║ 1 ║ 1 ║ 1 ║ 1 ║\n",
      "╠═══╬═══╬═══╬═══╬═══╣\n",
      "║ 1 ║ 1 ║ 1 ║ 1 ║ 1 ║\n",
      "╚═══╩═══╩═══╩═══╩═══╝\n"
     ]
    }
   ],
   "source": [
    "'''\n",
    "The other one we're going to be using often is empty ones and it's going to be the same thing it takes\n",
    "in a shape argument.\n",
    "\n",
    "NP Zeros, which creates an array of zeros for us and NP one which creates an array of ones for us\n",
    "where this first value in the shape is how many rows you have or the height of the array.\n",
    "And the second one is how many columns you have or the width of the array.\n",
    "'''\n",
    "DisplayMatrix(np.ones(shape=(5,5)))"
   ]
  },
  {
   "cell_type": "code",
   "execution_count": 11,
   "metadata": {},
   "outputs": [
    {
     "data": {
      "text/plain": [
       "array([95, 11, 81, 70, 63, 87, 75,  9, 77, 40])"
      ]
     },
     "execution_count": 11,
     "metadata": {},
     "output_type": "execute_result"
    }
   ],
   "source": [
    "'''\n",
    "What this does is it allows me to create the same random numbers each time.\n",
    "\n",
    "So that means I'm going to say here.\n",
    "Grabbed me from 0 to 100.Give me 10 random numbers.\n",
    "\n",
    "Notice how my seed and the creation of this array are actually happening in the same cell.\n",
    "The reason I have 101 here is just a seed number.\n",
    "The actual value is pretty arbitrary, but I want you to use the same number I do.\n",
    "That way, when you actually create these random values, you get the same random numbers.\n",
    "\n",
    "\n",
    "'''\n",
    "np.random.seed(101)\n",
    "arr=np.random.randint(0,100,10)\n",
    "arr"
   ]
  },
  {
   "cell_type": "code",
   "execution_count": 24,
   "metadata": {},
   "outputs": [
    {
     "data": {
      "text/plain": [
       "95"
      ]
     },
     "execution_count": 24,
     "metadata": {},
     "output_type": "execute_result"
    }
   ],
   "source": [
    "'''\n",
    "So if you ever want to find out the max value of an array\n",
    "'''\n",
    "arr.max()"
   ]
  },
  {
   "cell_type": "code",
   "execution_count": 25,
   "metadata": {},
   "outputs": [
    {
     "data": {
      "text/plain": [
       "0"
      ]
     },
     "execution_count": 25,
     "metadata": {},
     "output_type": "execute_result"
    }
   ],
   "source": [
    "'''\n",
    "If I wanted to figure out the location of that max value\n",
    "'''\n",
    "arr.argmax()"
   ]
  },
  {
   "cell_type": "code",
   "execution_count": 26,
   "metadata": {},
   "outputs": [
    {
     "data": {
      "text/plain": [
       "9"
      ]
     },
     "execution_count": 26,
     "metadata": {},
     "output_type": "execute_result"
    }
   ],
   "source": [
    "'''\n",
    "So if you ever want to find out the min value of an array\n",
    "'''\n",
    "arr.min()"
   ]
  },
  {
   "cell_type": "code",
   "execution_count": 27,
   "metadata": {},
   "outputs": [
    {
     "data": {
      "text/plain": [
       "7"
      ]
     },
     "execution_count": 27,
     "metadata": {},
     "output_type": "execute_result"
    }
   ],
   "source": [
    "'''\n",
    "If I wanted to figure out the location of that min value\n",
    "'''\n",
    "arr.argmin()"
   ]
  },
  {
   "cell_type": "code",
   "execution_count": 28,
   "metadata": {},
   "outputs": [
    {
     "data": {
      "text/plain": [
       "60.8"
      ]
     },
     "execution_count": 28,
     "metadata": {},
     "output_type": "execute_result"
    }
   ],
   "source": [
    "'''\n",
    "And finally, if you want to figure out the average value or the mean, you can just call our mean.\n",
    "'''\n",
    "arr.mean()"
   ]
  },
  {
   "cell_type": "code",
   "execution_count": 29,
   "metadata": {},
   "outputs": [
    {
     "data": {
      "text/plain": [
       "(10,)"
      ]
     },
     "execution_count": 29,
     "metadata": {},
     "output_type": "execute_result"
    }
   ],
   "source": [
    "'''\n",
    "So if I check out the shape parameter, notice how I'm just calling shape with no parentheses here it\n",
    "returns back a shape 10 comma and then nothing because it's actually just a single vector.\n",
    "'''\n",
    "arr.shape"
   ]
  },
  {
   "cell_type": "code",
   "execution_count": 31,
   "metadata": {},
   "outputs": [
    {
     "name": "stdout",
     "output_type": "stream",
     "text": [
      "╔════╦════╦════╦════╦════╗\n",
      "║ 95 ║ 11 ║ 81 ║ 70 ║ 63 ║\n",
      "╠════╬════╬════╬════╬════╣\n",
      "║ 87 ║ 75 ║  9 ║ 77 ║ 40 ║\n",
      "╚════╩════╩════╩════╩════╝\n"
     ]
    }
   ],
   "source": [
    "'''\n",
    "What I could do is say reshape this to another set of dimensions.\n",
    "\n",
    "because if you have an array of 2 by 10, that means there's 2 * 10 times ten elements.\n",
    "That means 20 elements.\n",
    "'''\n",
    "DisplayMatrix(arr.reshape(2,5))"
   ]
  },
  {
   "cell_type": "code",
   "execution_count": 32,
   "metadata": {},
   "outputs": [
    {
     "name": "stdout",
     "output_type": "stream",
     "text": [
      "╔════╦════╗\n",
      "║ 95 ║ 11 ║\n",
      "╠════╬════╣\n",
      "║ 81 ║ 70 ║\n",
      "╠════╬════╣\n",
      "║ 63 ║ 87 ║\n",
      "╠════╬════╣\n",
      "║ 75 ║  9 ║\n",
      "╠════╬════╣\n",
      "║ 77 ║ 40 ║\n",
      "╚════╩════╝\n"
     ]
    }
   ],
   "source": [
    "DisplayMatrix(arr.reshape(5,2))"
   ]
  },
  {
   "cell_type": "code",
   "execution_count": 34,
   "metadata": {},
   "outputs": [
    {
     "name": "stdout",
     "output_type": "stream",
     "text": [
      "╔════╦════╦════╦════╦════╦════╦════╦════╦════╦════╗\n",
      "║  0 ║  1 ║  2 ║  3 ║  4 ║  5 ║  6 ║  7 ║  8 ║  9 ║\n",
      "╠════╬════╬════╬════╬════╬════╬════╬════╬════╬════╣\n",
      "║ 10 ║ 11 ║ 12 ║ 13 ║ 14 ║ 15 ║ 16 ║ 17 ║ 18 ║ 19 ║\n",
      "╠════╬════╬════╬════╬════╬════╬════╬════╬════╬════╣\n",
      "║ 20 ║ 21 ║ 22 ║ 23 ║ 24 ║ 25 ║ 26 ║ 27 ║ 28 ║ 29 ║\n",
      "╠════╬════╬════╬════╬════╬════╬════╬════╬════╬════╣\n",
      "║ 30 ║ 31 ║ 32 ║ 33 ║ 34 ║ 35 ║ 36 ║ 37 ║ 38 ║ 39 ║\n",
      "╠════╬════╬════╬════╬════╬════╬════╬════╬════╬════╣\n",
      "║ 40 ║ 41 ║ 42 ║ 43 ║ 44 ║ 45 ║ 46 ║ 47 ║ 48 ║ 49 ║\n",
      "╠════╬════╬════╬════╬════╬════╬════╬════╬════╬════╣\n",
      "║ 50 ║ 51 ║ 52 ║ 53 ║ 54 ║ 55 ║ 56 ║ 57 ║ 58 ║ 59 ║\n",
      "╠════╬════╬════╬════╬════╬════╬════╬════╬════╬════╣\n",
      "║ 60 ║ 61 ║ 62 ║ 63 ║ 64 ║ 65 ║ 66 ║ 67 ║ 68 ║ 69 ║\n",
      "╠════╬════╬════╬════╬════╬════╬════╬════╬════╬════╣\n",
      "║ 70 ║ 71 ║ 72 ║ 73 ║ 74 ║ 75 ║ 76 ║ 77 ║ 78 ║ 79 ║\n",
      "╠════╬════╬════╬════╬════╬════╬════╬════╬════╬════╣\n",
      "║ 80 ║ 81 ║ 82 ║ 83 ║ 84 ║ 85 ║ 86 ║ 87 ║ 88 ║ 89 ║\n",
      "╠════╬════╬════╬════╬════╬════╬════╬════╬════╬════╣\n",
      "║ 90 ║ 91 ║ 92 ║ 93 ║ 94 ║ 95 ║ 96 ║ 97 ║ 98 ║ 99 ║\n",
      "╚════╩════╩════╩════╩════╩════╩════╩════╩════╩════╝\n"
     ]
    }
   ],
   "source": [
    "'''\n",
    "Create and 1D Array and Reshape it 2D array for 10 by 10 matrix\n",
    "'''\n",
    "mat = np.arange(0,100).reshape(10,10)\n",
    "DisplayMatrix(mat)"
   ]
  },
  {
   "cell_type": "code",
   "execution_count": 35,
   "metadata": {},
   "outputs": [
    {
     "data": {
      "text/plain": [
       "(10, 10)"
      ]
     },
     "execution_count": 35,
     "metadata": {},
     "output_type": "execute_result"
    }
   ],
   "source": [
    "mat.shape"
   ]
  },
  {
   "cell_type": "code",
   "execution_count": 36,
   "metadata": {},
   "outputs": [
    {
     "data": {
      "text/plain": [
       "1"
      ]
     },
     "execution_count": 36,
     "metadata": {},
     "output_type": "execute_result"
    }
   ],
   "source": [
    "'''\n",
    "So let's imagine that I wanted to grab a single digit from this array.\n",
    "What I do is I use indexing.\n",
    "\n",
    "So let's say I want the value at row index zero where column is index one.\n",
    "'''\n",
    "row=0\n",
    "col=1\n",
    "mat[row,col]"
   ]
  },
  {
   "cell_type": "code",
   "execution_count": 37,
   "metadata": {},
   "outputs": [
    {
     "data": {
      "text/plain": [
       "array([ 1, 11, 21, 31, 41, 51, 61, 71, 81, 91])"
      ]
     },
     "execution_count": 37,
     "metadata": {},
     "output_type": "execute_result"
    }
   ],
   "source": [
    "'''\n",
    "Now let's imagine you wanted to grab all the items in a row or all the items in a column.\n",
    "You do that with slicing.\n",
    "\n",
    "So what that returns back is every single value for every single row in the column.One.\n",
    "so that returns back an entire column.\n",
    "\n",
    "'''\n",
    "mat[:,1]"
   ]
  },
  {
   "cell_type": "code",
   "execution_count": 38,
   "metadata": {},
   "outputs": [
    {
     "data": {
      "text/plain": [
       "(10,)"
      ]
     },
     "execution_count": 38,
     "metadata": {},
     "output_type": "execute_result"
    }
   ],
   "source": [
    "mat[:,1].shape"
   ]
  },
  {
   "cell_type": "code",
   "execution_count": 39,
   "metadata": {},
   "outputs": [
    {
     "name": "stdout",
     "output_type": "stream",
     "text": [
      "╔════╗\n",
      "║  1 ║\n",
      "╠════╣\n",
      "║ 11 ║\n",
      "╠════╣\n",
      "║ 21 ║\n",
      "╠════╣\n",
      "║ 31 ║\n",
      "╠════╣\n",
      "║ 41 ║\n",
      "╠════╣\n",
      "║ 51 ║\n",
      "╠════╣\n",
      "║ 61 ║\n",
      "╠════╣\n",
      "║ 71 ║\n",
      "╠════╣\n",
      "║ 81 ║\n",
      "╠════╣\n",
      "║ 91 ║\n",
      "╚════╝\n"
     ]
    }
   ],
   "source": [
    "DisplayMatrix(mat[:,1].reshape(10,1))"
   ]
  },
  {
   "cell_type": "code",
   "execution_count": 43,
   "metadata": {},
   "outputs": [
    {
     "name": "stdout",
     "output_type": "stream",
     "text": [
      "╔═══╦════╦════╦════╦════╦════╦════╦════╦════╦════╗\n",
      "║ 1 ║ 11 ║ 21 ║ 31 ║ 41 ║ 51 ║ 61 ║ 71 ║ 81 ║ 91 ║\n",
      "╚═══╩════╩════╩════╩════╩════╩════╩════╩════╩════╝\n"
     ]
    }
   ],
   "source": [
    "'''\n",
    "Gives the First Row -> mat[0,:]\n",
    "'''\n",
    "DisplayMatrix(mat[:,1].reshape(1,10))"
   ]
  },
  {
   "cell_type": "code",
   "execution_count": 44,
   "metadata": {},
   "outputs": [
    {
     "name": "stdout",
     "output_type": "stream",
     "text": [
      "╔════╦════╦════╗\n",
      "║  0 ║  1 ║  2 ║\n",
      "╠════╬════╬════╣\n",
      "║ 10 ║ 11 ║ 12 ║\n",
      "╠════╬════╬════╣\n",
      "║ 20 ║ 21 ║ 22 ║\n",
      "╚════╩════╩════╝\n"
     ]
    }
   ],
   "source": [
    "'''\n",
    "So let's imagine I wanted to grab this first 3 by 3 of Matrix.\n",
    "\n",
    "What I could do is say starting at index zero, colon three.\n",
    "For those rows and then for the columns do the same thing.\n",
    "Zero Colon three.\n",
    "\n",
    "And what that does is it says, okay, grab all the rows starting at zero up to not including three.then grab all those columns\n",
    "'''\n",
    "DisplayMatrix(mat[0:3,0:3])"
   ]
  },
  {
   "cell_type": "code",
   "execution_count": 45,
   "metadata": {},
   "outputs": [
    {
     "name": "stdout",
     "output_type": "stream",
     "text": [
      "╔════╦════╦════╦════╦════╦════╦════╦════╦════╦════╗\n",
      "║  0 ║  0 ║  0 ║  3 ║  4 ║  5 ║  6 ║  7 ║  8 ║  9 ║\n",
      "╠════╬════╬════╬════╬════╬════╬════╬════╬════╬════╣\n",
      "║  0 ║  0 ║  0 ║ 13 ║ 14 ║ 15 ║ 16 ║ 17 ║ 18 ║ 19 ║\n",
      "╠════╬════╬════╬════╬════╬════╬════╬════╬════╬════╣\n",
      "║  0 ║  0 ║  0 ║ 23 ║ 24 ║ 25 ║ 26 ║ 27 ║ 28 ║ 29 ║\n",
      "╠════╬════╬════╬════╬════╬════╬════╬════╬════╬════╣\n",
      "║ 30 ║ 31 ║ 32 ║ 33 ║ 34 ║ 35 ║ 36 ║ 37 ║ 38 ║ 39 ║\n",
      "╠════╬════╬════╬════╬════╬════╬════╬════╬════╬════╣\n",
      "║ 40 ║ 41 ║ 42 ║ 43 ║ 44 ║ 45 ║ 46 ║ 47 ║ 48 ║ 49 ║\n",
      "╠════╬════╬════╬════╬════╬════╬════╬════╬════╬════╣\n",
      "║ 50 ║ 51 ║ 52 ║ 53 ║ 54 ║ 55 ║ 56 ║ 57 ║ 58 ║ 59 ║\n",
      "╠════╬════╬════╬════╬════╬════╬════╬════╬════╬════╣\n",
      "║ 60 ║ 61 ║ 62 ║ 63 ║ 64 ║ 65 ║ 66 ║ 67 ║ 68 ║ 69 ║\n",
      "╠════╬════╬════╬════╬════╬════╬════╬════╬════╬════╣\n",
      "║ 70 ║ 71 ║ 72 ║ 73 ║ 74 ║ 75 ║ 76 ║ 77 ║ 78 ║ 79 ║\n",
      "╠════╬════╬════╬════╬════╬════╬════╬════╬════╬════╣\n",
      "║ 80 ║ 81 ║ 82 ║ 83 ║ 84 ║ 85 ║ 86 ║ 87 ║ 88 ║ 89 ║\n",
      "╠════╬════╬════╬════╬════╬════╬════╬════╬════╬════╣\n",
      "║ 90 ║ 91 ║ 92 ║ 93 ║ 94 ║ 95 ║ 96 ║ 97 ║ 98 ║ 99 ║\n",
      "╚════╩════╩════╩════╩════╩════╩════╩════╩════╩════╝\n"
     ]
    }
   ],
   "source": [
    "'''\n",
    "So the last thing I want to show you is if you want to actually reassign these numbers to a different\n",
    "value, you could say equals zero.\n",
    "'''\n",
    "\n",
    "mat[0:3,0:3]=0\n",
    "DisplayMatrix(mat)"
   ]
  },
  {
   "cell_type": "code",
   "execution_count": 47,
   "metadata": {},
   "outputs": [
    {
     "name": "stdout",
     "output_type": "stream",
     "text": [
      "╔════╦════╦════╦════╦════╦════╦════╦════╦════╦════╗\n",
      "║  0 ║  0 ║  0 ║  3 ║  4 ║  5 ║  6 ║  7 ║  8 ║  9 ║\n",
      "╠════╬════╬════╬════╬════╬════╬════╬════╬════╬════╣\n",
      "║  0 ║  0 ║  0 ║ 13 ║ 14 ║ 15 ║ 16 ║ 17 ║ 18 ║ 19 ║\n",
      "╠════╬════╬════╬════╬════╬════╬════╬════╬════╬════╣\n",
      "║  0 ║  0 ║  0 ║ 23 ║ 24 ║ 25 ║ 26 ║ 27 ║ 28 ║ 29 ║\n",
      "╠════╬════╬════╬════╬════╬════╬════╬════╬════╬════╣\n",
      "║ 30 ║ 31 ║ 32 ║ 33 ║ 34 ║ 35 ║ 36 ║ 37 ║ 38 ║ 39 ║\n",
      "╠════╬════╬════╬════╬════╬════╬════╬════╬════╬════╣\n",
      "║ 40 ║ 41 ║ 42 ║ 43 ║ 44 ║ 45 ║ 46 ║ 47 ║ 48 ║ 49 ║\n",
      "╠════╬════╬════╬════╬════╬════╬════╬════╬════╬════╣\n",
      "║ 50 ║ 51 ║ 52 ║ 53 ║ 54 ║ 55 ║ 56 ║ 57 ║ 58 ║ 59 ║\n",
      "╠════╬════╬════╬════╬════╬════╬════╬════╬════╬════╣\n",
      "║ 60 ║ 61 ║ 62 ║ 63 ║ 64 ║ 65 ║ 66 ║ 67 ║ 68 ║ 69 ║\n",
      "╠════╬════╬════╬════╬════╬════╬════╬════╬════╬════╣\n",
      "║ 70 ║ 71 ║ 72 ║ 73 ║ 74 ║ 75 ║ 76 ║ 77 ║ 78 ║ 79 ║\n",
      "╠════╬════╬════╬════╬════╬════╬════╬════╬════╬════╣\n",
      "║ 80 ║ 81 ║ 82 ║ 83 ║ 84 ║ 85 ║ 86 ║ 87 ║ 88 ║ 89 ║\n",
      "╠════╬════╬════╬════╬════╬════╬════╬════╬════╬════╣\n",
      "║ 90 ║ 91 ║ 92 ║ 93 ║ 94 ║ 95 ║ 96 ║ 97 ║ 98 ║ 99 ║\n",
      "╚════╩════╩════╩════╩════╩════╩════╩════╩════╩════╝\n"
     ]
    }
   ],
   "source": [
    "'''\n",
    "If you want to actually affect a kind of copy of The Matrix, \n",
    "'''\n",
    "\n",
    "newMat=mat.copy()\n",
    "DisplayMatrix(newMat)"
   ]
  },
  {
   "cell_type": "code",
   "execution_count": null,
   "metadata": {},
   "outputs": [],
   "source": []
  }
 ],
 "metadata": {
  "kernelspec": {
   "display_name": "ML",
   "language": "python",
   "name": "python3"
  },
  "language_info": {
   "codemirror_mode": {
    "name": "ipython",
    "version": 3
   },
   "file_extension": ".py",
   "mimetype": "text/x-python",
   "name": "python",
   "nbconvert_exporter": "python",
   "pygments_lexer": "ipython3",
   "version": "3.10.9"
  },
  "orig_nbformat": 4
 },
 "nbformat": 4,
 "nbformat_minor": 2
}
