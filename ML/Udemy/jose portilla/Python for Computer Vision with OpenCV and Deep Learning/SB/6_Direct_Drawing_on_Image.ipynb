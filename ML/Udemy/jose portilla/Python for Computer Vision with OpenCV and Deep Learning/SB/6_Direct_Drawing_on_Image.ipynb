{
 "cells": [
  {
   "cell_type": "code",
   "execution_count": 1,
   "metadata": {},
   "outputs": [],
   "source": [
    "'''\n",
    "Well, all that's happening is that I'm able to connect a function that takes in an event and x, y\n",
    "flags and parameter, look for a specific event and then do something with that image.\n",
    "And I'm able to connect it through a name window, a set mouse callback, and then showing the image\n",
    "itself.\n",
    "'''\t\n",
    "import cv2\n",
    "import numpy as np\n",
    "'''\n",
    "So how do we actually interact with this function?\n",
    "\n",
    "Well, by default, we pass in these parameters and then a lot of these are automatically passed in\n",
    "and called when you set the mouse callback.\n",
    "So things like X and Y, those are automatically taken into effect by OpenCV.\n",
    "\n",
    "It basically says, okay, what X position and what mouse position is the mouse at?\n",
    "And then the event is what the mouse actually did.\n",
    "Did it do a right click, did it do a left click that it double click, etc. And then flags and parameters\n",
    "are also things that are passed back in case there's additional parameters or if there's some warning\n",
    "flags necessary.\n",
    "'''\n",
    "# Create a function based on a CV2 Event (Left button  DOUBLE click)\n",
    "def draw_circle(event,x,y,flags,param):\n",
    "    if event == cv2.EVENT_LBUTTONDOWN:\n",
    "        cv2.circle(img,(x,y),100,(0,255,0),-1)\n",
    "\n",
    "# Create a black image\n",
    "img = np.zeros((512,512,3), np.uint8)\n",
    "# This names the window so we can reference it \n",
    "cv2.namedWindow(winname='my_drawing')\n",
    "\n",
    "'''\n",
    "Now comes the time to actually connect this function into the image callback.\n",
    "So this is how it actually connects this function to this image showing in the window.\n",
    "\n",
    "It's going to actually have a name, the window, connect the name, then set the mouse callback, given\n",
    "that window name and then given the function.\n",
    "And then since this window shares the same name, it's now been connected to this function draw circle.\n",
    "\n",
    "So this draw circle, a lot of these parameters are going to be filled in automatically within the set\n",
    "mouse callback, which is why we just actually have this function and we're not actually calling it.\n",
    "\n",
    "\n",
    "'''\n",
    "# Connects the mouse button to our callback function\n",
    "\n",
    "cv2.setMouseCallback('my_drawing',draw_circle)\n",
    "\n",
    "while True: #Runs forever until we break with Esc key on keyboard\n",
    "    # Shows the image window\n",
    "    cv2.imshow('my_drawing',img)\n",
    "    # EXPLANATION FOR THIS LINE OF CODE:\n",
    "    # https://stackoverflow.com/questions/35372700/whats-0xff-for-in-cv2-waitkey1/39201163\n",
    "    if cv2.waitKey(20) & 0xFF == 27:\n",
    "        break\n",
    "# Once script is done, its usually good practice to call this line\n",
    "# It closes all windows (just in case you have multiple windows called)\n",
    "cv2.destroyAllWindows()\n"
   ]
  },
  {
   "cell_type": "code",
   "execution_count": null,
   "metadata": {},
   "outputs": [],
   "source": []
  }
 ],
 "metadata": {
  "kernelspec": {
   "display_name": "base",
   "language": "python",
   "name": "python3"
  },
  "language_info": {
   "codemirror_mode": {
    "name": "ipython",
    "version": 3
   },
   "file_extension": ".py",
   "mimetype": "text/x-python",
   "name": "python",
   "nbconvert_exporter": "python",
   "pygments_lexer": "ipython3",
   "version": "3.9.16"
  },
  "orig_nbformat": 4
 },
 "nbformat": 4,
 "nbformat_minor": 2
}
