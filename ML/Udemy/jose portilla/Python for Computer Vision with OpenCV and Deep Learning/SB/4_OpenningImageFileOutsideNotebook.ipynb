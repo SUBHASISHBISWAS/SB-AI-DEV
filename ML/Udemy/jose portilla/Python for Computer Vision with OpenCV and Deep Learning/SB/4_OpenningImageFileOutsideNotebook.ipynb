{
 "cells": [
  {
   "cell_type": "code",
   "execution_count": 1,
   "metadata": {},
   "outputs": [],
   "source": [
    "'''\n",
    "And basically here what happens is your kernel died.\n",
    "So you get some sort of thing like would you like to shut down Python, etc.?\n",
    "\n",
    "So in this case, if you're getting this sort of error, that means you're going to need to run this\n",
    "as a script,\n",
    "'''\n",
    "import cv2\n",
    "img=cv2.imread('./DATA/00-puppy.jpg')\n",
    "cv2.imshow('Puppy',img)\n",
    "cv2.waitKey()"
   ]
  },
  {
   "cell_type": "code",
   "execution_count": null,
   "metadata": {},
   "outputs": [],
   "source": []
  }
 ],
 "metadata": {
  "kernelspec": {
   "display_name": "ML",
   "language": "python",
   "name": "python3"
  },
  "language_info": {
   "codemirror_mode": {
    "name": "ipython",
    "version": 3
   },
   "file_extension": ".py",
   "mimetype": "text/x-python",
   "name": "python",
   "nbconvert_exporter": "python",
   "pygments_lexer": "ipython3",
   "version": "3.10.9"
  },
  "orig_nbformat": 4
 },
 "nbformat": 4,
 "nbformat_minor": 2
}
