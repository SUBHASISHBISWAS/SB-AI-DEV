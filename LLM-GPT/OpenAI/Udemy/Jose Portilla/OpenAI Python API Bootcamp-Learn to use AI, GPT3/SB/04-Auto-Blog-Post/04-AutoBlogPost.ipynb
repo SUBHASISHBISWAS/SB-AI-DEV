{
 "cells": [
  {
   "cell_type": "code",
   "execution_count": 1,
   "metadata": {},
   "outputs": [],
   "source": [
    "'''\n",
    "# Automatic Blog Post creator\n",
    "\n",
    "In this project we will build a blog poster that writes a blog post given something to talk about or discuss.\n",
    "Additionally, a chariming cover photo will be created!\n",
    "'''\n",
    "\n",
    "import random\n",
    "import string\n",
    "from pathlib import Path\n",
    "import os\n",
    "import requests\n",
    "import shutil\n",
    "\n",
    "from git import Repo\n",
    "from bs4 import BeautifulSoup as Soup\n",
    "import openai\n",
    "from PIL import Image"
   ]
  },
  {
   "cell_type": "code",
   "execution_count": 2,
   "metadata": {},
   "outputs": [
    {
     "data": {
      "text/plain": [
       "'/Users/subhasish/Development/GIT/Interstellar/SB-AI-DEV/LLM-GPT/OpenAI/Udemy/Jose Portilla/OpenAI Python API Bootcamp-Learn to use AI, GPT3/SB/04-Auto-Blog-Post'"
      ]
     },
     "execution_count": 2,
     "metadata": {},
     "output_type": "execute_result"
    }
   ],
   "source": [
    "pwd"
   ]
  },
  {
   "cell_type": "code",
   "execution_count": 7,
   "metadata": {},
   "outputs": [],
   "source": [
    "PATH_TO_BLOG_REPO = Path('/Users/subhasish/Development/GIT/Interstellar/subhasishbiswas.github.io/.git')\n",
    "PATH_TO_BLOG = PATH_TO_BLOG_REPO.parent\n",
    "PATH_TO_CONTENT = PATH_TO_BLOG/\"content\"\n",
    "PATH_TO_CONTENT.mkdir(exist_ok=True, parents=True)"
   ]
  },
  {
   "cell_type": "code",
   "execution_count": 4,
   "metadata": {},
   "outputs": [
    {
     "data": {
      "text/plain": [
       "PosixPath('/Users/subhasish/Development/GIT/Interstellar/subhasishbiswas.github.io')"
      ]
     },
     "execution_count": 4,
     "metadata": {},
     "output_type": "execute_result"
    }
   ],
   "source": [
    "PATH_TO_BLOG_REPO.parent"
   ]
  },
  {
   "cell_type": "code",
   "execution_count": 6,
   "metadata": {},
   "outputs": [
    {
     "data": {
      "text/plain": [
       "PosixPath('/Users/subhasish/Development/GIT/Interstellar/subhasishbiswas.github.io/content')"
      ]
     },
     "execution_count": 6,
     "metadata": {},
     "output_type": "execute_result"
    }
   ],
   "source": [
    "PATH_TO_CONTENT = PATH_TO_BLOG/\"content\"\n",
    "PATH_TO_CONTENT"
   ]
  },
  {
   "cell_type": "code",
   "execution_count": 8,
   "metadata": {},
   "outputs": [],
   "source": [
    "def update_blog(commit_message=\"Update Blogs\"):\n",
    "    #GitPython Repo Location\n",
    "    repo = Repo(PATH_TO_BLOG_REPO)\n",
    "    #Add all files to git  -> git add .\n",
    "    repo.git.add(all=True)\n",
    "    #Commit all files -> git commit -m \"Updated blog\"\n",
    "    repo.index.commit(commit_message)\n",
    "    #Push to git -> git push origin master\n",
    "    origin = repo.remote(name='origin')\n",
    "    origin.push()"
   ]
  },
  {
   "cell_type": "code",
   "execution_count": 10,
   "metadata": {},
   "outputs": [
    {
     "data": {
      "text/plain": [
       "'lbmnovuass'"
      ]
     },
     "execution_count": 10,
     "metadata": {},
     "output_type": "execute_result"
    }
   ],
   "source": [
    "def random_string(length):\n",
    "    letters = string.ascii_lowercase + \"\\n\"\n",
    "    \n",
    "    return ''.join(random.choice(letters) for i in range(length))\n",
    "\n",
    "random_string(10)"
   ]
  },
  {
   "cell_type": "code",
   "execution_count": 13,
   "metadata": {},
   "outputs": [],
   "source": [
    "random_blogpost = \"Hello Subhasish How are You?\""
   ]
  },
  {
   "cell_type": "code",
   "execution_count": 14,
   "metadata": {},
   "outputs": [],
   "source": [
    "with open(PATH_TO_BLOG/\"index.html\", \"w\") as f:\n",
    "    f.write(random_blogpost)"
   ]
  },
  {
   "cell_type": "code",
   "execution_count": 15,
   "metadata": {},
   "outputs": [],
   "source": [
    "update_blog()"
   ]
  },
  {
   "cell_type": "code",
   "execution_count": null,
   "metadata": {},
   "outputs": [],
   "source": []
  }
 ],
 "metadata": {
  "kernelspec": {
   "display_name": "ML",
   "language": "python",
   "name": "python3"
  },
  "language_info": {
   "codemirror_mode": {
    "name": "ipython",
    "version": 3
   },
   "file_extension": ".py",
   "mimetype": "text/x-python",
   "name": "python",
   "nbconvert_exporter": "python",
   "pygments_lexer": "ipython3",
   "version": "3.10.9"
  },
  "orig_nbformat": 4
 },
 "nbformat": 4,
 "nbformat_minor": 2
}
