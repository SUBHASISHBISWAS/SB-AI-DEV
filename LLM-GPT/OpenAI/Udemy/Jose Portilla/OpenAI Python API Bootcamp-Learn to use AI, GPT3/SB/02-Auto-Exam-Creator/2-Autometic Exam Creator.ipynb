{
 "cells": [
  {
   "cell_type": "code",
   "execution_count": 1,
   "id": "5b66c2f3-0f39-4611-856f-d35c8a0b3c40",
   "metadata": {},
   "outputs": [],
   "source": [
    "'''\n",
    "## Automatic Test Generation\n",
    "\n",
    "In this project, we will build an automatic test generation and grading platform!\n",
    "All we have to do is to provide a topic, the number of questions and the number of options for each question!\n",
    "Based on this information, a suitable test is generated, presented to the user and graded automatically!\n",
    "'''\n",
    "import openai\n",
    "import os\n",
    "import pandas as pd"
   ]
  },
  {
   "cell_type": "code",
   "execution_count": 5,
   "id": "8116fdd6-ccf9-4d43-bce0-2632ede50f75",
   "metadata": {},
   "outputs": [],
   "source": [
    "'''\n",
    "Remember to use the notebook as shown, you must set your OpenAI API Key as an environment variable. \n",
    "Obviously, there are many ways you could provide your API Key to the Python code, input() or even hard-coded, \n",
    "but those are typically not recommended for safety reasons. \n",
    "Having it as an environment variable let's the key live on the computer, but not actually be present in the code.\n",
    "\n",
    "### Set-up Open AI API Key\n",
    "\n",
    "We'll only need to do this once per computer\n",
    "'''\n",
    "#os.environ['OPENAI_API_KEY']='sk-<your key here>'\n",
    "openai.api_key=os.getenv(\"OPENAI_API_KEY\")"
   ]
  },
  {
   "cell_type": "code",
   "execution_count": 6,
   "id": "b0f7a3f3-f75a-436d-983b-1f6d330fd9ba",
   "metadata": {},
   "outputs": [],
   "source": [
    "#Open AI Halucination\n",
    "prompt=\"Give me details about technology startup called Subhasish Company\""
   ]
  },
  {
   "cell_type": "code",
   "execution_count": 7,
   "id": "0c02c3bc-3ae9-4533-8a57-b63581575bc1",
   "metadata": {},
   "outputs": [
    {
     "name": "stdout",
     "output_type": "stream",
     "text": [
      "\n",
      "\n",
      "Subhasish Company is a technology startup based in India, founded in 2017. The company focuses on developing innovative and disruptive technologies to help organizations in their digital transformation journey. The company has developed a range of products and solutions in the areas of Artificial Intelligence, Machine Learning, Internet of Things, Big Data Analytics, Cloud Computing and Cybersecurity. It has also developed a range of enterprise applications such as customer relationship management, enterprise resource planning and supply chain management. The company has a team of experienced professionals with expertise in the latest technologies and has been working on projects for leading organizations in the country.\n"
     ]
    }
   ],
   "source": [
    "respose=openai.Completion.create(engine='text-davinci-003',\n",
    "                                prompt=prompt,\n",
    "                                 max_tokens=256,\n",
    "                                temperature=0.7)\n",
    "\n",
    "print(respose['choices'][0]['text'])"
   ]
  },
  {
   "cell_type": "code",
   "execution_count": 8,
   "id": "80f1980a-e3f1-4e20-8b57-7d6a194e7c7c",
   "metadata": {},
   "outputs": [],
   "source": [
    "#Open AI avoiding Halucination \n",
    "prompt=\"Give me details about technology startup called Subhasish Company. Only answer if you are 100% sure that this company exist, otherwise specify , 'i dont't know' \""
   ]
  },
  {
   "cell_type": "code",
   "execution_count": 9,
   "id": "fd407333-9c76-40ab-a70e-6ff0ac0454a3",
   "metadata": {},
   "outputs": [
    {
     "name": "stdout",
     "output_type": "stream",
     "text": [
      "\n",
      "\n",
      "I don't know.\n"
     ]
    }
   ],
   "source": [
    "respose=openai.Completion.create(engine='text-davinci-003',\n",
    "                                prompt=prompt,\n",
    "                                 max_tokens=256,\n",
    "                                temperature=0.7)\n",
    "\n",
    "print(respose['choices'][0]['text'])"
   ]
  },
  {
   "cell_type": "code",
   "execution_count": 38,
   "id": "8e8f517e-2cf9-48cc-91c2-77706e71d480",
   "metadata": {},
   "outputs": [],
   "source": [
    "'''\n",
    "### Tell GPT how to generate the test\n",
    "\n",
    "We tell GPT to create a multiple choiz quiz. Hence we define the topic, the number of \n",
    "possible answers as well as the number of questions.\n",
    "\n",
    "To enable automatical grading later, GPT needs to incorporate the correct answer!\n",
    "'''\n",
    "def create_test_prompt(topic,num_questions,num_possible_answers):\n",
    "    prompt=f\"Create a Multiple choice quiz on the Topic of {topic} consisting of {num_questions} questions. \"\\\n",
    "    + f\"Each question should have {num_possible_answers} options. \"\\\n",
    "    + f\"Also include the correct answer for each question using the starting string 'Correct Answer:' \"\n",
    "    return prompt\n",
    "    "
   ]
  },
  {
   "cell_type": "code",
   "execution_count": 39,
   "id": "fc85ae8e-a996-4b34-848c-4624cc1c334f",
   "metadata": {},
   "outputs": [
    {
     "data": {
      "text/plain": [
       "\"Create a Multiple choice quiz on the Topic of Python consisting of 4 questions. Each question should have 4 options. Also include the correct answer for each question using the starting string 'Correct Answer:' \""
      ]
     },
     "execution_count": 39,
     "metadata": {},
     "output_type": "execute_result"
    }
   ],
   "source": [
    "create_test_prompt(\"Python\",4,4)"
   ]
  },
  {
   "cell_type": "code",
   "execution_count": 40,
   "id": "658bcf3d-6217-4926-934d-f87b7930a92b",
   "metadata": {},
   "outputs": [
    {
     "name": "stdout",
     "output_type": "stream",
     "text": [
      "\n",
      "\n",
      "Q1. Who wrote the book \"The Discovery of India\"\n",
      "A. Mahatma Gandhi\n",
      "B. Jawaharlal Nehru\n",
      "C. Subhash Chandra Bose\n",
      "D. Raja Ram Mohan Roy\n",
      "\n",
      "Correct Answer: B. Jawaharlal Nehru\n",
      "\n",
      "Q2. Who was the first Prime Minister of India?\n",
      "A. Subhash Chandra Bose\n",
      "B. Mahatma Gandhi\n",
      "C. Raja Ram Mohan Roy\n",
      "D. Jawaharlal Nehru\n",
      "\n",
      "Correct Answer: D. Jawaharlal Nehru\n",
      "\n",
      "Q3. Who wrote the Indian National Anthem?\n",
      "A. Mahatma Gandhi\n",
      "B. Subhash Chandra Bose\n",
      "C. Rabindranath Tagore\n",
      "D. Jawaharlal Nehru\n",
      "\n",
      "Correct Answer: C. Rabindranath Tagore\n",
      "\n",
      "Q4. Who was the first President of India?\n",
      "A. Raja Ram Mohan Roy\n",
      "B. Subhash Chandra Bose\n",
      "C. Rajendra Prasad\n",
      "D. Jawaharlal Nehru\n",
      "\n",
      "Correct Answer: C. Rajendra Prasad\n"
     ]
    }
   ],
   "source": [
    "'''\n",
    "### OpenAI API Call\n",
    "Let's use text-davinci-003 for normal text generation\n",
    "'''\n",
    "responses=openai.Completion.create(engine='text-davinci-003',\n",
    "                                prompt=create_test_prompt(\"Indian History\",4,4),\n",
    "                                 max_tokens=256,\n",
    "                                temperature=0.7)\n",
    "\n",
    "print(responses['choices'][0]['text'])"
   ]
  },
  {
   "cell_type": "code",
   "execution_count": 41,
   "id": "4bd72db4-0ded-43fb-be00-1c744a853eb2",
   "metadata": {},
   "outputs": [
    {
     "data": {
      "text/plain": [
       "'\\n\\nQ1. Who wrote the book \"The Discovery of India\"\\nA. Mahatma Gandhi\\nB. Jawaharlal Nehru\\nC. Subhash Chandra Bose\\nD. Raja Ram Mohan Roy\\n\\nCorrect Answer: B. Jawaharlal Nehru\\n\\nQ2. Who was the first Prime Minister of India?\\nA. Subhash Chandra Bose\\nB. Mahatma Gandhi\\nC. Raja Ram Mohan Roy\\nD. Jawaharlal Nehru\\n\\nCorrect Answer: D. Jawaharlal Nehru\\n\\nQ3. Who wrote the Indian National Anthem?\\nA. Mahatma Gandhi\\nB. Subhash Chandra Bose\\nC. Rabindranath Tagore\\nD. Jawaharlal Nehru\\n\\nCorrect Answer: C. Rabindranath Tagore\\n\\nQ4. Who was the first President of India?\\nA. Raja Ram Mohan Roy\\nB. Subhash Chandra Bose\\nC. Rajendra Prasad\\nD. Jawaharlal Nehru\\n\\nCorrect Answer: C. Rajendra Prasad'"
      ]
     },
     "execution_count": 41,
     "metadata": {},
     "output_type": "execute_result"
    }
   ],
   "source": [
    "responses['choices'][0]['text']"
   ]
  },
  {
   "cell_type": "code",
   "execution_count": 34,
   "id": "cda8188d",
   "metadata": {},
   "outputs": [],
   "source": [
    "'''\n",
    "### Q/A Extraction\n",
    "\n",
    "We now need to extract the questions and answers to present them to the students later\n",
    "'''\n",
    "def create_student_view(test, num_questions):\n",
    "    student_view = {1 : \"\"}\n",
    "    question_number = 1\n",
    "    for line in test.split(\"\\n\"):\n",
    "        if not line.startswith(\"Correct Answer:\"):\n",
    "            student_view[question_number] += line+\"\\n\"\n",
    "        else:\n",
    "\n",
    "            if question_number < num_questions:\n",
    "                question_number+=1\n",
    "                student_view[question_number] = \"\"\n",
    "    return student_view"
   ]
  },
  {
   "cell_type": "code",
   "execution_count": 42,
   "id": "fd69caa0",
   "metadata": {},
   "outputs": [
    {
     "data": {
      "text/plain": [
       "{1: '\\n\\nQ1. Who wrote the book \"The Discovery of India\"\\nA. Mahatma Gandhi\\nB. Jawaharlal Nehru\\nC. Subhash Chandra Bose\\nD. Raja Ram Mohan Roy\\n\\n',\n",
       " 2: '\\nQ2. Who was the first Prime Minister of India?\\nA. Subhash Chandra Bose\\nB. Mahatma Gandhi\\nC. Raja Ram Mohan Roy\\nD. Jawaharlal Nehru\\n\\n',\n",
       " 3: '\\nQ3. Who wrote the Indian National Anthem?\\nA. Mahatma Gandhi\\nB. Subhash Chandra Bose\\nC. Rabindranath Tagore\\nD. Jawaharlal Nehru\\n\\n',\n",
       " 4: '\\nQ4. Who was the first President of India?\\nA. Raja Ram Mohan Roy\\nB. Subhash Chandra Bose\\nC. Rajendra Prasad\\nD. Jawaharlal Nehru\\n\\n'}"
      ]
     },
     "execution_count": 42,
     "metadata": {},
     "output_type": "execute_result"
    }
   ],
   "source": [
    "create_student_view(responses[\"choices\"][0][\"text\"], 4)"
   ]
  },
  {
   "cell_type": "code",
   "execution_count": 43,
   "id": "27656854",
   "metadata": {},
   "outputs": [],
   "source": [
    "result=create_student_view(responses[\"choices\"][0][\"text\"], 4)"
   ]
  },
  {
   "cell_type": "code",
   "execution_count": 44,
   "id": "35a8cbe3",
   "metadata": {},
   "outputs": [
    {
     "name": "stdout",
     "output_type": "stream",
     "text": [
      "\n",
      "\n",
      "Q1. Who wrote the book \"The Discovery of India\"\n",
      "A. Mahatma Gandhi\n",
      "B. Jawaharlal Nehru\n",
      "C. Subhash Chandra Bose\n",
      "D. Raja Ram Mohan Roy\n",
      "\n",
      "\n",
      "\n",
      "Q2. Who was the first Prime Minister of India?\n",
      "A. Subhash Chandra Bose\n",
      "B. Mahatma Gandhi\n",
      "C. Raja Ram Mohan Roy\n",
      "D. Jawaharlal Nehru\n",
      "\n",
      "\n",
      "\n",
      "Q3. Who wrote the Indian National Anthem?\n",
      "A. Mahatma Gandhi\n",
      "B. Subhash Chandra Bose\n",
      "C. Rabindranath Tagore\n",
      "D. Jawaharlal Nehru\n",
      "\n",
      "\n",
      "\n",
      "Q4. Who was the first President of India?\n",
      "A. Raja Ram Mohan Roy\n",
      "B. Subhash Chandra Bose\n",
      "C. Rajendra Prasad\n",
      "D. Jawaharlal Nehru\n",
      "\n",
      "\n"
     ]
    }
   ],
   "source": [
    "for key in result:\n",
    "    print(result[key])"
   ]
  },
  {
   "cell_type": "code",
   "execution_count": 45,
   "id": "2764a004",
   "metadata": {},
   "outputs": [],
   "source": [
    "#Extract answers from test\n",
    "def extract_answers(test, num_questions):\n",
    "    answers = {1 : \"\"}\n",
    "    question_number = 1\n",
    "    for line in test.split(\"\\n\"):\n",
    "        if line.startswith(\"Correct Answer:\"):\n",
    "            answers[question_number] += line+\"\\n\"\n",
    "\n",
    "            if question_number < num_questions:\n",
    "                question_number+=1\n",
    "                answers[question_number] = \"\"\n",
    "    return answers"
   ]
  },
  {
   "cell_type": "code",
   "execution_count": 51,
   "id": "7e049a34",
   "metadata": {},
   "outputs": [
    {
     "data": {
      "text/plain": [
       "{1: 'Correct Answer: B. Jawaharlal Nehru\\n',\n",
       " 2: 'Correct Answer: D. Jawaharlal Nehru\\n',\n",
       " 3: 'Correct Answer: C. Rabindranath Tagore\\n',\n",
       " 4: 'Correct Answer: C. Rajendra Prasad\\n'}"
      ]
     },
     "execution_count": 51,
     "metadata": {},
     "output_type": "execute_result"
    }
   ],
   "source": [
    "extract_answers(responses[\"choices\"][0][\"text\"], 4)"
   ]
  },
  {
   "cell_type": "code",
   "execution_count": 48,
   "id": "6a413406",
   "metadata": {},
   "outputs": [],
   "source": [
    "answers=extract_answers(responses[\"choices\"][0][\"text\"], 4)"
   ]
  },
  {
   "cell_type": "code",
   "execution_count": 50,
   "id": "42f687ff",
   "metadata": {},
   "outputs": [
    {
     "name": "stdout",
     "output_type": "stream",
     "text": [
      "Correct Answer: B. Jawaharlal Nehru\n",
      "\n",
      "Correct Answer: D. Jawaharlal Nehru\n",
      "\n",
      "Correct Answer: C. Rabindranath Tagore\n",
      "\n",
      "Correct Answer: C. Rajendra Prasad\n",
      "\n"
     ]
    }
   ],
   "source": [
    "for key in answers:\n",
    "    print(answers[key])"
   ]
  },
  {
   "cell_type": "code",
   "execution_count": 53,
   "id": "95d408d9",
   "metadata": {},
   "outputs": [],
   "source": [
    "student_view=create_student_view(responses[\"choices\"][0][\"text\"], 4)\n",
    "answers=extract_answers(responses[\"choices\"][0][\"text\"], 4)"
   ]
  },
  {
   "cell_type": "code",
   "execution_count": 54,
   "id": "1d915642",
   "metadata": {},
   "outputs": [],
   "source": [
    "'''\n",
    "### Exam simulation\n",
    "Based on the extracted questions, we can now simulate the exam\n",
    "'''\n",
    "def takeExam(student_view):\n",
    "    answers = {}\n",
    "    for question, question_view in student_view.items():\n",
    "        print(question_view)\n",
    "        answer = input(\"Enter your answer: \")\n",
    "        answers[question] = answer\n",
    "    return answers"
   ]
  },
  {
   "cell_type": "code",
   "execution_count": 55,
   "id": "27ab7286",
   "metadata": {},
   "outputs": [
    {
     "name": "stdout",
     "output_type": "stream",
     "text": [
      "\n",
      "\n",
      "Q1. Who wrote the book \"The Discovery of India\"\n",
      "A. Mahatma Gandhi\n",
      "B. Jawaharlal Nehru\n",
      "C. Subhash Chandra Bose\n",
      "D. Raja Ram Mohan Roy\n",
      "\n",
      "\n",
      "\n",
      "Q2. Who was the first Prime Minister of India?\n",
      "A. Subhash Chandra Bose\n",
      "B. Mahatma Gandhi\n",
      "C. Raja Ram Mohan Roy\n",
      "D. Jawaharlal Nehru\n",
      "\n",
      "\n",
      "\n",
      "Q3. Who wrote the Indian National Anthem?\n",
      "A. Mahatma Gandhi\n",
      "B. Subhash Chandra Bose\n",
      "C. Rabindranath Tagore\n",
      "D. Jawaharlal Nehru\n",
      "\n",
      "\n",
      "\n",
      "Q4. Who was the first President of India?\n",
      "A. Raja Ram Mohan Roy\n",
      "B. Subhash Chandra Bose\n",
      "C. Rajendra Prasad\n",
      "D. Jawaharlal Nehru\n",
      "\n",
      "\n"
     ]
    }
   ],
   "source": [
    "student_answers = takeExam(create_student_view(responses[\"choices\"][0][\"text\"], 4))"
   ]
  },
  {
   "cell_type": "code",
   "execution_count": 56,
   "id": "f2f48380",
   "metadata": {},
   "outputs": [
    {
     "data": {
      "text/plain": [
       "{1: 'B', 2: 'D', 3: 'C', 4: 'C'}"
      ]
     },
     "execution_count": 56,
     "metadata": {},
     "output_type": "execute_result"
    }
   ],
   "source": [
    "student_answers"
   ]
  },
  {
   "cell_type": "code",
   "execution_count": 57,
   "id": "8266434d",
   "metadata": {},
   "outputs": [],
   "source": [
    "'''\n",
    "### Automatic Grading\n",
    "Based on the student's answers and correct answers, we can now grade the test!\n",
    "'''\n",
    "def grade(correct_answer_dict, answers):\n",
    "    correct_answers = 0\n",
    "    for question, answer in answers.items():\n",
    "        if answer.upper() == correct_answer_dict[question].upper()[16]:\n",
    "            correct_answers+=1\n",
    "    grade = 100 * correct_answers / len(answers)\n",
    "\n",
    "    if grade < 60:\n",
    "        passed = \"Not passed!\"\n",
    "    else:\n",
    "        passed = \"Passed!\"\n",
    "    return f\"{correct_answers} out of {len(answers)} correct! You achieved: {grade} % : {passed}\""
   ]
  },
  {
   "cell_type": "code",
   "execution_count": 58,
   "id": "3c67894f",
   "metadata": {},
   "outputs": [
    {
     "data": {
      "text/plain": [
       "'4 out of 4 correct! You achieved: 100.0 % : Passed!'"
      ]
     },
     "execution_count": 58,
     "metadata": {},
     "output_type": "execute_result"
    }
   ],
   "source": [
    "grade(extract_answers(responses[\"choices\"][0][\"text\"], 4), student_answers)"
   ]
  },
  {
   "cell_type": "code",
   "execution_count": null,
   "id": "c9bd7759",
   "metadata": {},
   "outputs": [],
   "source": []
  }
 ],
 "metadata": {
  "kernelspec": {
   "display_name": "Python 3",
   "language": "python",
   "name": "python3"
  },
  "language_info": {
   "codemirror_mode": {
    "name": "ipython",
    "version": 3
   },
   "file_extension": ".py",
   "mimetype": "text/x-python",
   "name": "python",
   "nbconvert_exporter": "python",
   "pygments_lexer": "ipython3",
   "version": "3.10.9"
  }
 },
 "nbformat": 4,
 "nbformat_minor": 5
}
