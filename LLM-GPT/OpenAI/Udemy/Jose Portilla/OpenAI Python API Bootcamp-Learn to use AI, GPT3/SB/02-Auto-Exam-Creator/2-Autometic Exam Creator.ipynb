{
 "cells": [
  {
   "cell_type": "code",
   "execution_count": 17,
   "id": "5b66c2f3-0f39-4611-856f-d35c8a0b3c40",
   "metadata": {},
   "outputs": [],
   "source": [
    "import openai\n",
    "import os\n",
    "import pandas as pd"
   ]
  },
  {
   "cell_type": "code",
   "execution_count": 44,
   "id": "8116fdd6-ccf9-4d43-bce0-2632ede50f75",
   "metadata": {},
   "outputs": [],
   "source": [
    "#os.environ['OPENAI_API_KEY']=''\n",
    "openai.api_key=os.getenv(\"OPENAI_API_KEY\")"
   ]
  },
  {
   "cell_type": "code",
   "execution_count": 29,
   "id": "b0f7a3f3-f75a-436d-983b-1f6d330fd9ba",
   "metadata": {},
   "outputs": [],
   "source": [
    "#Open AI Halucination\n",
    "prompt=\"Give me details about technology startup called Subhasish Company\""
   ]
  },
  {
   "cell_type": "code",
   "execution_count": 30,
   "id": "0c02c3bc-3ae9-4533-8a57-b63581575bc1",
   "metadata": {},
   "outputs": [
    {
     "name": "stdout",
     "output_type": "stream",
     "text": [
      "\n",
      "\n",
      "Subhasish Company is a technology startup founded in 2021 by Subhasish Das, a computer science graduate from the University of Southern California. The company specializes in developing enterprise solutions using cutting-edge technologies such as artificial intelligence and machine learning. Subhasish Company's mission is to help companies become more efficient and productive by providing them with innovative solutions. The company offers a wide range of services, including software development, data analysis, web and mobile application development, cloud computing, and more. Subhasish Company has a team of experienced professionals that provide personalized solutions that help businesses leverage the latest technologies to achieve their business goals.\n"
     ]
    }
   ],
   "source": [
    "respose=openai.Completion.create(engine='text-davinci-003',\n",
    "                                prompt=prompt,\n",
    "                                 max_tokens=256,\n",
    "                                temperature=0.7)\n",
    "\n",
    "print(respose['choices'][0]['text'])"
   ]
  },
  {
   "cell_type": "code",
   "execution_count": 32,
   "id": "80f1980a-e3f1-4e20-8b57-7d6a194e7c7c",
   "metadata": {},
   "outputs": [],
   "source": [
    "#Open AI avoiding Halucination \n",
    "prompt=\"Give me details about technology startup called Subhasish Company. Only answer if you are 100% sure that this company exist, otherwise specify , 'i dont't know' \""
   ]
  },
  {
   "cell_type": "code",
   "execution_count": 33,
   "id": "fd407333-9c76-40ab-a70e-6ff0ac0454a3",
   "metadata": {},
   "outputs": [
    {
     "name": "stdout",
     "output_type": "stream",
     "text": [
      "\n",
      "\n",
      "I don't know\n"
     ]
    }
   ],
   "source": [
    "respose=openai.Completion.create(engine='text-davinci-003',\n",
    "                                prompt=prompt,\n",
    "                                 max_tokens=256,\n",
    "                                temperature=0.7)\n",
    "\n",
    "print(respose['choices'][0]['text'])"
   ]
  },
  {
   "cell_type": "code",
   "execution_count": 40,
   "id": "8e8f517e-2cf9-48cc-91c2-77706e71d480",
   "metadata": {},
   "outputs": [],
   "source": [
    "\n",
    "def create_test_prompt(topic,num_questions,num_possible_answers):\n",
    "    prompt=f\"Create a Multiple choice quiz on the Topic of {topic} consisting of {num_questions} questions. \"\\\n",
    "    + f\"Each question should have {num_possible_answers} options. \"\\\n",
    "    + f\"Also include the correct answer for each question using the starting string 'Correct Answer :' \"\n",
    "    return prompt\n",
    "    "
   ]
  },
  {
   "cell_type": "code",
   "execution_count": 41,
   "id": "fc85ae8e-a996-4b34-848c-4624cc1c334f",
   "metadata": {},
   "outputs": [
    {
     "data": {
      "text/plain": [
       "\"Create a Multiple choice quiz on the Topic of Python consisting of 4 questions. Each question should have 4 options. Also include the correct answer for each question using the starting string 'Correct Answer :' \""
      ]
     },
     "execution_count": 41,
     "metadata": {},
     "output_type": "execute_result"
    }
   ],
   "source": [
    "create_test_prompt(\"Python\",4,4)"
   ]
  },
  {
   "cell_type": "code",
   "execution_count": 45,
   "id": "658bcf3d-6217-4926-934d-f87b7930a92b",
   "metadata": {},
   "outputs": [
    {
     "name": "stdout",
     "output_type": "stream",
     "text": [
      "\n",
      "\n",
      "Q1. Who was the first Prime Minister of India?\n",
      "A. Mahatma Gandhi\n",
      "B. Jawaharlal Nehru\n",
      "C. Indira Gandhi\n",
      "D. Rajiv Gandhi\n",
      "Correct Answer : B. Jawaharlal Nehru\n",
      "\n",
      "Q2. Who invented the game of chess?\n",
      "A. Akbar\n",
      "B. Ashoka\n",
      "C. Shivaji\n",
      "D. Sasi\n",
      "Correct Answer : A. Akbar\n",
      "\n",
      "Q3. Who wrote the national anthem of India?\n",
      "A. Bankim Chandra Chatterjee\n",
      "B. Rabindranath Tagore\n",
      "C. Subhash Chandra Bose\n",
      "D. Mahatma Gandhi\n",
      "Correct Answer : A. Bankim Chandra Chatterjee\n",
      "\n",
      "Q4. Who wrote the Indian Constitution?\n",
      "A. B. R. Ambedkar\n",
      "B. Mahatma Gandhi\n",
      "C. Jawaharlal Nehru\n",
      "D. Subhash Chandra Bose\n",
      "Correct Answer : A. B. R. Ambedkar\n"
     ]
    }
   ],
   "source": [
    "respose=openai.Completion.create(engine='text-davinci-003',\n",
    "                                prompt=create_test_prompt(\"Indian History\",4,4),\n",
    "                                 max_tokens=256,\n",
    "                                temperature=0.7)\n",
    "\n",
    "print(respose['choices'][0]['text'])"
   ]
  },
  {
   "cell_type": "code",
   "execution_count": null,
   "id": "4bd72db4-0ded-43fb-be00-1c744a853eb2",
   "metadata": {},
   "outputs": [],
   "source": []
  }
 ],
 "metadata": {
  "kernelspec": {
   "display_name": "Python 3",
   "language": "python",
   "name": "python3"
  },
  "language_info": {
   "codemirror_mode": {
    "name": "ipython",
    "version": 3
   },
   "file_extension": ".py",
   "mimetype": "text/x-python",
   "name": "python",
   "nbconvert_exporter": "python",
   "pygments_lexer": "ipython3",
   "version": "3.8.8"
  }
 },
 "nbformat": 4,
 "nbformat_minor": 5
}
