{
 "cells": [
  {
   "cell_type": "code",
   "execution_count": 1,
   "id": "609f90fd-27cb-495b-86b1-c1aabb530d0e",
   "metadata": {},
   "outputs": [],
   "source": [
    "#!pip install openai"
   ]
  },
  {
   "cell_type": "code",
   "execution_count": 3,
   "id": "82e861d5-792c-42bd-9b97-59ee71fecf6c",
   "metadata": {},
   "outputs": [],
   "source": [
    "import openai\n",
    "import os"
   ]
  },
  {
   "cell_type": "code",
   "execution_count": 7,
   "id": "c7960d9d-fa69-4ffa-a9a9-ca258103649a",
   "metadata": {},
   "outputs": [],
   "source": [
    "#os.environ['OPENAI_API_KEY']=''\n",
    "openai.api_key=os.getenv(\"OPENAI_API_KEY\")"
   ]
  },
  {
   "cell_type": "code",
   "execution_count": null,
   "id": "2b46772c-106b-4d7d-9d5e-f8719a81be67",
   "metadata": {},
   "outputs": [],
   "source": [
    "openai.Model.list()"
   ]
  },
  {
   "cell_type": "code",
   "execution_count": 19,
   "id": "3beef511-46b0-48d3-b7cf-6b2af77843c7",
   "metadata": {},
   "outputs": [],
   "source": [
    "response=openai.Completion.create(model='text-davinci-003',\n",
    "                                 prompt=\"Give me top 5 reason to Learn OpenAI in Python\",\n",
    "                                 max_tokens=300)"
   ]
  },
  {
   "cell_type": "code",
   "execution_count": 20,
   "id": "caaed495-8ded-4e75-97e1-6fba7242be4f",
   "metadata": {},
   "outputs": [
    {
     "name": "stdout",
     "output_type": "stream",
     "text": [
      "\n",
      "\n",
      "1. Easier to Create Powerful AI Applications: OpenAI provides a powerful Python-based platform that makes creating artificial intelligence applications faster and easier. OpenAI provides the tools necessary to build AI applications quickly and easily, while also providing the flexibility to customize projects as needed.\n",
      "\n",
      "2. Increase Productivity: OpenAI makes developing AI applications less laborious and time-consuming, allowing developers to spend more time on optimizing their applications and less time on developing.\n",
      "\n",
      "3. Open Source Code Base: OpenAI’s code base is open source, allowing for on-demand application tweaking and modification. This enables developers to rapidly tweak, customize, and experiment with various AI capabilities without going through the typical process of setting up an AI development environment.\n",
      "\n",
      "4. Leverage Pre-existing Libraries: OpenAI provides a library of pre-trained AI models that can be used as the foundation for many AI applications. This eliminates the need to start from scratch, saving developers precious time and resources when creating their AI applications.\n",
      "\n",
      "5. Leverage Powerful Algorithms: OpenAI also provides developers with access to powerful algorithms. These algorithms allow developers to build highly-capable AI applications, and can be used for efficiently training AI algorithms and creating sophisticated machine learning models.\n"
     ]
    }
   ],
   "source": [
    "print(response['choices'][0]['text'])"
   ]
  },
  {
   "cell_type": "code",
   "execution_count": null,
   "id": "d7220d39-cb84-4b0e-a30c-0cb0769e2bfa",
   "metadata": {},
   "outputs": [],
   "source": []
  }
 ],
 "metadata": {
  "kernelspec": {
   "display_name": "Python 3",
   "language": "python",
   "name": "python3"
  },
  "language_info": {
   "codemirror_mode": {
    "name": "ipython",
    "version": 3
   },
   "file_extension": ".py",
   "mimetype": "text/x-python",
   "name": "python",
   "nbconvert_exporter": "python",
   "pygments_lexer": "ipython3",
   "version": "3.8.8"
  }
 },
 "nbformat": 4,
 "nbformat_minor": 5
}
