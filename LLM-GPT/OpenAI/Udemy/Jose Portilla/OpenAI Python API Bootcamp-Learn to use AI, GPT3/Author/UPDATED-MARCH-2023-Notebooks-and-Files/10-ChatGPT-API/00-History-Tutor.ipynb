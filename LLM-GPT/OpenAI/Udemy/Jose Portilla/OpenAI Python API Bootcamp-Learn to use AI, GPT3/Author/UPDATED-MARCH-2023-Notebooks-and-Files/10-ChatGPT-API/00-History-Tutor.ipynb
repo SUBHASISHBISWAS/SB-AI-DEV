{
 "cells": [
  {
   "cell_type": "markdown",
   "id": "01e5e9aa",
   "metadata": {},
   "source": [
    "<a href = \"https://www.pieriantraining.com\"><img src=\"../PT Centered Purple.png\"> </a>\n",
    "\n",
    "<em style=\"text-align:center\">Copyrighted by Pierian Training</em>"
   ]
  },
  {
   "cell_type": "markdown",
   "id": "4036a12b",
   "metadata": {},
   "source": [
    "# History ChatBot Tutor\n",
    "\n",
    "**WARNING: Remember that models are prone to hallucination! There is no gaurantee that the model is giving you accurate information. Alright, let's get on with building this tutor bot**"
   ]
  },
  {
   "cell_type": "code",
   "execution_count": 1,
   "id": "5780f319",
   "metadata": {},
   "outputs": [],
   "source": [
    "import openai\n",
    "import os\n",
    "openai.api_key = os.getenv(\"OPENAI_API_KEY\")"
   ]
  },
  {
   "cell_type": "code",
   "execution_count": 39,
   "id": "a77e017d",
   "metadata": {},
   "outputs": [],
   "source": [
    "class CreateBot:\n",
    "    \n",
    "    def __init__(self, system_prompt):\n",
    "        '''\n",
    "        system_prompt: [str] Describes context for Chat Assistant\n",
    "        '''\n",
    "        self.system = system_prompt\n",
    "        self.messages = [{\"role\": \"system\", \"content\": system_prompt}]\n",
    "        \n",
    "    \n",
    "    def chat(self):\n",
    "        '''\n",
    "        Tracks dialogue history and takes in user input\n",
    "        '''\n",
    "        print('To end conversation, type END')\n",
    "        question = ''\n",
    "        while question != 'END':\n",
    "            # Get User Question\n",
    "            question = input(\"\")\n",
    "            \n",
    "            # Add to messages/dialogue history\n",
    "            self.messages.append({'role':'user','content':question})\n",
    "\n",
    "            #Send to ChatGPT and get response\n",
    "            response = openai.ChatCompletion.create(\n",
    "                  model=\"gpt-3.5-turbo\",\n",
    "                  messages=self.messages)\n",
    "\n",
    "            # Get content of assistant reply\n",
    "            content = response['choices'][0]['message']['content']\n",
    "            print('\\n')\n",
    "            print(content)\n",
    "            print('\\n')\n",
    "            # Add assistant reply for dialogue history\n",
    "            self.messages.append({'role':'assistant','content':content})"
   ]
  },
  {
   "cell_type": "code",
   "execution_count": 40,
   "id": "6c1a30a4",
   "metadata": {},
   "outputs": [],
   "source": [
    "history_tutor = CreateBot(system_prompt=\"You are an expert in US History\")"
   ]
  },
  {
   "cell_type": "code",
   "execution_count": 41,
   "id": "931ed58f",
   "metadata": {
    "scrolled": false
   },
   "outputs": [
    {
     "name": "stdout",
     "output_type": "stream",
     "text": [
      "To end conversation, type END\n",
      "Who was the first president of the US?\n",
      "\n",
      "\n",
      "The first president of the United States was George Washington. He served as president from 1789 to 1797.\n",
      "\n",
      "\n",
      "When did he die?\n",
      "\n",
      "\n",
      "George Washington died on December 14, 1799.\n",
      "\n",
      "\n",
      "Did he ever visit Europe?\n",
      "\n",
      "\n",
      "Yes, George Washington visited Europe two times during his life. The first time was when he was a young man, accompanying his older half-brother Lawrence, who was seeking treatment for tuberculosis in the Caribbean. During this trip, they also traveled to Barbados in 1751. \n",
      "\n",
      "The second time was after the Revolutionary War, when he served as the first President of the United States. During his presidency, he made a trip to Europe in 1789 to 1790, where he visited a number of countries. While there, he met with various leaders and dignitaries, including King George III of Great Britain and Louis XVI of France.\n",
      "\n",
      "\n",
      "Where was that second trip?\n",
      "\n",
      "\n",
      "During his second trip to Europe, George Washington visited several countries. He began his tour in England, where he met with King George III before traveling to France, where he met with King Louis XVI and Marie Antoinette. From France, he went to the Netherlands, where he met with Dutch dignitaries, and then he returned to England before finally returning to the United States.\n",
      "\n",
      "\n",
      "Are you 100% sure that is correct?\n",
      "\n",
      "\n",
      "I apologize for the error in my previous message. During his second trip to Europe, George Washington went to England, France, Germany, Belgium, and the Netherlands. In England, he met with King George III, and in France, he met with King Louis XVI and other dignitaries. He visited historic sites, attended cultural events, and even attended a balloon launch in Paris. Thank you for bringing this to my attention.\n",
      "\n",
      "\n",
      "I don't believe he ever visited any European country, please check again\n",
      "\n",
      "\n",
      "I apologize for the confusion. You are correct, George Washington actually never traveled to Europe during his presidency. I must have misspoken earlier. Although he had expressed a desire to visit Europe as a young man, he never did make the journey, and his second trip to Europe occurred prior to his presidency. Thank you for bringing this to my attention, and I apologize for any confusion or misinformation.\n",
      "\n",
      "\n",
      "END\n",
      "\n",
      "\n",
      "Thank you for the conversation. If you have any more questions in the future, feel free to ask!\n",
      "\n",
      "\n"
     ]
    }
   ],
   "source": [
    "history_tutor.chat()"
   ]
  },
  {
   "cell_type": "markdown",
   "id": "7f85d2b9",
   "metadata": {},
   "source": [
    "### Token Length Check\n",
    "\n",
    "One last note, we currently didn't add a check for very long conversations, you could do a token count check, and if it went over you could start removing older messages, for example:"
   ]
  },
  {
   "cell_type": "code",
   "execution_count": 43,
   "id": "c80b1a59",
   "metadata": {},
   "outputs": [],
   "source": [
    "full_content = ''\n",
    "for item in history_tutor.messages:\n",
    "    full_content += item['content']"
   ]
  },
  {
   "cell_type": "code",
   "execution_count": 44,
   "id": "e35154da",
   "metadata": {},
   "outputs": [],
   "source": [
    "def num_tokens_from_string(string, encoding_name):\n",
    "    \"\"\"Returns the number of tokens in a text string.\"\"\"\n",
    "    encoding = tiktoken.get_encoding(encoding_name)\n",
    "    num_tokens = len(encoding.encode(string))\n",
    "    return num_tokens"
   ]
  },
  {
   "cell_type": "code",
   "execution_count": 45,
   "id": "a8208cc5",
   "metadata": {},
   "outputs": [
    {
     "data": {
      "text/plain": [
       "485"
      ]
     },
     "execution_count": 45,
     "metadata": {},
     "output_type": "execute_result"
    }
   ],
   "source": [
    "num_tokens_from_string(full_content,encoding_name='cl100k_base')"
   ]
  },
  {
   "cell_type": "code",
   "execution_count": 46,
   "id": "cd120843",
   "metadata": {},
   "outputs": [
    {
     "data": {
      "text/plain": [
       "{'role': 'user', 'content': 'Who was the first president of the US?'}"
      ]
     },
     "execution_count": 46,
     "metadata": {},
     "output_type": "execute_result"
    }
   ],
   "source": [
    "# Don't pop index 0, because that is the system role!\n",
    "history_tutor.messages.pop(1)"
   ]
  }
 ],
 "metadata": {
  "kernelspec": {
   "display_name": "Python 3 (ipykernel)",
   "language": "python",
   "name": "python3"
  },
  "language_info": {
   "codemirror_mode": {
    "name": "ipython",
    "version": 3
   },
   "file_extension": ".py",
   "mimetype": "text/x-python",
   "name": "python",
   "nbconvert_exporter": "python",
   "pygments_lexer": "ipython3",
   "version": "3.9.12"
  }
 },
 "nbformat": 4,
 "nbformat_minor": 5
}
