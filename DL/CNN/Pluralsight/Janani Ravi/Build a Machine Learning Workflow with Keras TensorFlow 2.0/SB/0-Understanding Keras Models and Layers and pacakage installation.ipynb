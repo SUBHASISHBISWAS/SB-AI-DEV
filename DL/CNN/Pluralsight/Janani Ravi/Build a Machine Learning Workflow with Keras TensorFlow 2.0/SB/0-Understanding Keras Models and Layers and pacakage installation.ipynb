{
 "cells": [
  {
   "cell_type": "code",
   "execution_count": null,
   "metadata": {},
   "outputs": [],
   "source": [
    "'''\n",
    "we'll talk about the basic building blocks that Keras has to offer in order to help us build neural network \n",
    "models for supervised, as well as unsupervised learning.\n",
    "'''"
   ]
  }
 ],
 "metadata": {
  "language_info": {
   "name": "python"
  },
  "orig_nbformat": 4
 },
 "nbformat": 4,
 "nbformat_minor": 2
}
