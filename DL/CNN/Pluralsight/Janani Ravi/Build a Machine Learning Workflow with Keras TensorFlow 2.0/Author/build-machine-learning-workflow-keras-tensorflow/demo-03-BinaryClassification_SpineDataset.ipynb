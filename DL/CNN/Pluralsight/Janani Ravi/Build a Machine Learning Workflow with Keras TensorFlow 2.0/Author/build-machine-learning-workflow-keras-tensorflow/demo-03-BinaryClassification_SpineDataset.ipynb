{
 "cells": [
  {
   "cell_type": "markdown",
   "metadata": {},
   "source": [
    "### Importing libraraies"
   ]
  },
  {
   "cell_type": "code",
   "execution_count": 52,
   "metadata": {},
   "outputs": [],
   "source": [
    "import os\n",
    "import datetime\n",
    "\n",
    "import pandas as pd\n",
    "import numpy as np\n",
    "\n",
    "import matplotlib.pyplot as plt\n",
    "import seaborn as sns\n",
    "\n",
    "from sklearn.preprocessing import StandardScaler\n",
    "from sklearn.metrics import accuracy_score, precision_score, recall_score\n",
    "\n",
    "import tensorflow as tf\n",
    "\n",
    "from tensorflow import keras\n",
    "from tensorflow.keras import layers\n",
    "\n",
    "tf.keras.backend.clear_session()"
   ]
  },
  {
   "cell_type": "markdown",
   "metadata": {},
   "source": [
    "### Loading Dataset\n",
    "\n",
    "#### Lower Back Pain Symptoms Dataset\n",
    "\n",
    "Source: https://www.kaggle.com/sammy123/lower-back-pain-symptoms-dataset"
   ]
  },
  {
   "cell_type": "code",
   "execution_count": 2,
   "metadata": {},
   "outputs": [],
   "source": [
    "spine_data = pd.read_csv('datasets/Dataset_spine.csv', \n",
    "                         skiprows=1,\n",
    "                         names=['pelvic_incidence',\n",
    "                                'pelvic tilt',\n",
    "                                'lumbar_lordosis_angle',\n",
    "                                'sacral_slope',\n",
    "                                'pelvic_radius',\n",
    "                                'degree_spondylolisthesis',\n",
    "                                'pelvic_slope',\n",
    "                                'direct_tilt',\n",
    "                                'thoracic_slope',\n",
    "                                'cervical_tilt',\n",
    "                                'sacrum_angle',\n",
    "                                'scoliosis_slope',\n",
    "                                'class_att'])\n",
    "\n",
    "spine_data = spine_data.sample(frac=1).reset_index(drop=True)"
   ]
  },
  {
   "cell_type": "code",
   "execution_count": 3,
   "metadata": {},
   "outputs": [
    {
     "data": {
      "text/html": [
       "<div>\n",
       "<style scoped>\n",
       "    .dataframe tbody tr th:only-of-type {\n",
       "        vertical-align: middle;\n",
       "    }\n",
       "\n",
       "    .dataframe tbody tr th {\n",
       "        vertical-align: top;\n",
       "    }\n",
       "\n",
       "    .dataframe thead th {\n",
       "        text-align: right;\n",
       "    }\n",
       "</style>\n",
       "<table border=\"1\" class=\"dataframe\">\n",
       "  <thead>\n",
       "    <tr style=\"text-align: right;\">\n",
       "      <th></th>\n",
       "      <th>0</th>\n",
       "      <th>1</th>\n",
       "      <th>2</th>\n",
       "      <th>3</th>\n",
       "      <th>4</th>\n",
       "    </tr>\n",
       "  </thead>\n",
       "  <tbody>\n",
       "    <tr>\n",
       "      <td>pelvic_incidence</td>\n",
       "      <td>43.2032</td>\n",
       "      <td>65.6653</td>\n",
       "      <td>89.8347</td>\n",
       "      <td>41.3525</td>\n",
       "      <td>61.4466</td>\n",
       "    </tr>\n",
       "    <tr>\n",
       "      <td>pelvic tilt</td>\n",
       "      <td>19.6631</td>\n",
       "      <td>10.5407</td>\n",
       "      <td>22.6392</td>\n",
       "      <td>16.5774</td>\n",
       "      <td>22.695</td>\n",
       "    </tr>\n",
       "    <tr>\n",
       "      <td>lumbar_lordosis_angle</td>\n",
       "      <td>35</td>\n",
       "      <td>56.4891</td>\n",
       "      <td>90.5635</td>\n",
       "      <td>30.7062</td>\n",
       "      <td>46.1703</td>\n",
       "    </tr>\n",
       "    <tr>\n",
       "      <td>sacral_slope</td>\n",
       "      <td>23.54</td>\n",
       "      <td>55.1247</td>\n",
       "      <td>67.1955</td>\n",
       "      <td>24.7751</td>\n",
       "      <td>38.7516</td>\n",
       "    </tr>\n",
       "    <tr>\n",
       "      <td>pelvic_radius</td>\n",
       "      <td>124.846</td>\n",
       "      <td>109.163</td>\n",
       "      <td>100.501</td>\n",
       "      <td>113.267</td>\n",
       "      <td>125.671</td>\n",
       "    </tr>\n",
       "    <tr>\n",
       "      <td>degree_spondylolisthesis</td>\n",
       "      <td>-2.91908</td>\n",
       "      <td>53.932</td>\n",
       "      <td>3.04097</td>\n",
       "      <td>-4.49796</td>\n",
       "      <td>-2.70788</td>\n",
       "    </tr>\n",
       "    <tr>\n",
       "      <td>pelvic_slope</td>\n",
       "      <td>0.0167471</td>\n",
       "      <td>0.184438</td>\n",
       "      <td>0.379933</td>\n",
       "      <td>0.98225</td>\n",
       "      <td>0.0810704</td>\n",
       "    </tr>\n",
       "    <tr>\n",
       "      <td>direct_tilt</td>\n",
       "      <td>26.8235</td>\n",
       "      <td>20.2044</td>\n",
       "      <td>9.4868</td>\n",
       "      <td>29.2557</td>\n",
       "      <td>16.2059</td>\n",
       "    </tr>\n",
       "    <tr>\n",
       "      <td>thoracic_slope</td>\n",
       "      <td>16.2905</td>\n",
       "      <td>11.528</td>\n",
       "      <td>17.7556</td>\n",
       "      <td>16.7065</td>\n",
       "      <td>13.5565</td>\n",
       "    </tr>\n",
       "    <tr>\n",
       "      <td>cervical_tilt</td>\n",
       "      <td>14.7613</td>\n",
       "      <td>16.4112</td>\n",
       "      <td>10.9819</td>\n",
       "      <td>16.3875</td>\n",
       "      <td>8.89572</td>\n",
       "    </tr>\n",
       "    <tr>\n",
       "      <td>sacrum_angle</td>\n",
       "      <td>-24.2942</td>\n",
       "      <td>-24.0642</td>\n",
       "      <td>-16.8919</td>\n",
       "      <td>-3.49436</td>\n",
       "      <td>3.56446</td>\n",
       "    </tr>\n",
       "    <tr>\n",
       "      <td>scoliosis_slope</td>\n",
       "      <td>23.8843</td>\n",
       "      <td>15.9787</td>\n",
       "      <td>28.09</td>\n",
       "      <td>14.5269</td>\n",
       "      <td>18.4151</td>\n",
       "    </tr>\n",
       "    <tr>\n",
       "      <td>class_att</td>\n",
       "      <td>Abnormal</td>\n",
       "      <td>Abnormal</td>\n",
       "      <td>Normal</td>\n",
       "      <td>Abnormal</td>\n",
       "      <td>Normal</td>\n",
       "    </tr>\n",
       "  </tbody>\n",
       "</table>\n",
       "</div>"
      ],
      "text/plain": [
       "                                  0         1         2         3          4\n",
       "pelvic_incidence            43.2032   65.6653   89.8347   41.3525    61.4466\n",
       "pelvic tilt                 19.6631   10.5407   22.6392   16.5774     22.695\n",
       "lumbar_lordosis_angle            35   56.4891   90.5635   30.7062    46.1703\n",
       "sacral_slope                  23.54   55.1247   67.1955   24.7751    38.7516\n",
       "pelvic_radius               124.846   109.163   100.501   113.267    125.671\n",
       "degree_spondylolisthesis   -2.91908    53.932   3.04097  -4.49796   -2.70788\n",
       "pelvic_slope              0.0167471  0.184438  0.379933   0.98225  0.0810704\n",
       "direct_tilt                 26.8235   20.2044    9.4868   29.2557    16.2059\n",
       "thoracic_slope              16.2905    11.528   17.7556   16.7065    13.5565\n",
       "cervical_tilt               14.7613   16.4112   10.9819   16.3875    8.89572\n",
       "sacrum_angle               -24.2942  -24.0642  -16.8919  -3.49436    3.56446\n",
       "scoliosis_slope             23.8843   15.9787     28.09   14.5269    18.4151\n",
       "class_att                  Abnormal  Abnormal    Normal  Abnormal     Normal"
      ]
     },
     "execution_count": 3,
     "metadata": {},
     "output_type": "execute_result"
    }
   ],
   "source": [
    "spine_data.head().T"
   ]
  },
  {
   "cell_type": "code",
   "execution_count": 4,
   "metadata": {},
   "outputs": [
    {
     "data": {
      "text/plain": [
       "(310, 13)"
      ]
     },
     "execution_count": 4,
     "metadata": {},
     "output_type": "execute_result"
    }
   ],
   "source": [
    "spine_data.shape"
   ]
  },
  {
   "cell_type": "code",
   "execution_count": 5,
   "metadata": {},
   "outputs": [
    {
     "data": {
      "text/plain": [
       "Index(['pelvic_incidence', 'pelvic tilt', 'lumbar_lordosis_angle',\n",
       "       'sacral_slope', 'pelvic_radius', 'degree_spondylolisthesis',\n",
       "       'pelvic_slope', 'direct_tilt', 'thoracic_slope', 'cervical_tilt',\n",
       "       'sacrum_angle', 'scoliosis_slope', 'class_att'],\n",
       "      dtype='object')"
      ]
     },
     "execution_count": 5,
     "metadata": {},
     "output_type": "execute_result"
    }
   ],
   "source": [
    "spine_data.columns"
   ]
  },
  {
   "cell_type": "code",
   "execution_count": 6,
   "metadata": {},
   "outputs": [
    {
     "data": {
      "text/plain": [
       "array(['Abnormal', 'Normal'], dtype=object)"
      ]
     },
     "execution_count": 6,
     "metadata": {},
     "output_type": "execute_result"
    }
   ],
   "source": [
    "spine_data['class_att'].unique()"
   ]
  },
  {
   "cell_type": "code",
   "execution_count": 7,
   "metadata": {},
   "outputs": [
    {
     "data": {
      "text/html": [
       "<div>\n",
       "<style scoped>\n",
       "    .dataframe tbody tr th:only-of-type {\n",
       "        vertical-align: middle;\n",
       "    }\n",
       "\n",
       "    .dataframe tbody tr th {\n",
       "        vertical-align: top;\n",
       "    }\n",
       "\n",
       "    .dataframe thead th {\n",
       "        text-align: right;\n",
       "    }\n",
       "</style>\n",
       "<table border=\"1\" class=\"dataframe\">\n",
       "  <thead>\n",
       "    <tr style=\"text-align: right;\">\n",
       "      <th></th>\n",
       "      <th>count</th>\n",
       "      <th>mean</th>\n",
       "      <th>std</th>\n",
       "      <th>min</th>\n",
       "      <th>25%</th>\n",
       "      <th>50%</th>\n",
       "      <th>75%</th>\n",
       "      <th>max</th>\n",
       "    </tr>\n",
       "  </thead>\n",
       "  <tbody>\n",
       "    <tr>\n",
       "      <td>pelvic_incidence</td>\n",
       "      <td>310.0</td>\n",
       "      <td>60.496653</td>\n",
       "      <td>17.236520</td>\n",
       "      <td>26.147921</td>\n",
       "      <td>46.430294</td>\n",
       "      <td>58.691038</td>\n",
       "      <td>72.877696</td>\n",
       "      <td>129.834041</td>\n",
       "    </tr>\n",
       "    <tr>\n",
       "      <td>pelvic tilt</td>\n",
       "      <td>310.0</td>\n",
       "      <td>17.542822</td>\n",
       "      <td>10.008330</td>\n",
       "      <td>-6.554948</td>\n",
       "      <td>10.667069</td>\n",
       "      <td>16.357689</td>\n",
       "      <td>22.120395</td>\n",
       "      <td>49.431864</td>\n",
       "    </tr>\n",
       "    <tr>\n",
       "      <td>lumbar_lordosis_angle</td>\n",
       "      <td>310.0</td>\n",
       "      <td>51.930930</td>\n",
       "      <td>18.554064</td>\n",
       "      <td>14.000000</td>\n",
       "      <td>37.000000</td>\n",
       "      <td>49.562398</td>\n",
       "      <td>63.000000</td>\n",
       "      <td>125.742385</td>\n",
       "    </tr>\n",
       "    <tr>\n",
       "      <td>sacral_slope</td>\n",
       "      <td>310.0</td>\n",
       "      <td>42.953831</td>\n",
       "      <td>13.423102</td>\n",
       "      <td>13.366931</td>\n",
       "      <td>33.347122</td>\n",
       "      <td>42.404912</td>\n",
       "      <td>52.695888</td>\n",
       "      <td>121.429566</td>\n",
       "    </tr>\n",
       "    <tr>\n",
       "      <td>pelvic_radius</td>\n",
       "      <td>310.0</td>\n",
       "      <td>117.920655</td>\n",
       "      <td>13.317377</td>\n",
       "      <td>70.082575</td>\n",
       "      <td>110.709196</td>\n",
       "      <td>118.268178</td>\n",
       "      <td>125.467674</td>\n",
       "      <td>163.071041</td>\n",
       "    </tr>\n",
       "    <tr>\n",
       "      <td>degree_spondylolisthesis</td>\n",
       "      <td>310.0</td>\n",
       "      <td>26.296694</td>\n",
       "      <td>37.559027</td>\n",
       "      <td>-11.058179</td>\n",
       "      <td>1.603727</td>\n",
       "      <td>11.767934</td>\n",
       "      <td>41.287352</td>\n",
       "      <td>418.543082</td>\n",
       "    </tr>\n",
       "    <tr>\n",
       "      <td>pelvic_slope</td>\n",
       "      <td>310.0</td>\n",
       "      <td>0.472979</td>\n",
       "      <td>0.285787</td>\n",
       "      <td>0.003220</td>\n",
       "      <td>0.224367</td>\n",
       "      <td>0.475989</td>\n",
       "      <td>0.704846</td>\n",
       "      <td>0.998827</td>\n",
       "    </tr>\n",
       "    <tr>\n",
       "      <td>direct_tilt</td>\n",
       "      <td>310.0</td>\n",
       "      <td>21.321526</td>\n",
       "      <td>8.639423</td>\n",
       "      <td>7.027000</td>\n",
       "      <td>13.054400</td>\n",
       "      <td>21.907150</td>\n",
       "      <td>28.954075</td>\n",
       "      <td>36.743900</td>\n",
       "    </tr>\n",
       "    <tr>\n",
       "      <td>thoracic_slope</td>\n",
       "      <td>310.0</td>\n",
       "      <td>13.064511</td>\n",
       "      <td>3.399713</td>\n",
       "      <td>7.037800</td>\n",
       "      <td>10.417800</td>\n",
       "      <td>12.938450</td>\n",
       "      <td>15.889525</td>\n",
       "      <td>19.324000</td>\n",
       "    </tr>\n",
       "    <tr>\n",
       "      <td>cervical_tilt</td>\n",
       "      <td>310.0</td>\n",
       "      <td>11.933317</td>\n",
       "      <td>2.893265</td>\n",
       "      <td>7.030600</td>\n",
       "      <td>9.541140</td>\n",
       "      <td>11.953835</td>\n",
       "      <td>14.371810</td>\n",
       "      <td>16.821080</td>\n",
       "    </tr>\n",
       "    <tr>\n",
       "      <td>sacrum_angle</td>\n",
       "      <td>310.0</td>\n",
       "      <td>-14.053139</td>\n",
       "      <td>12.225582</td>\n",
       "      <td>-35.287375</td>\n",
       "      <td>-24.289522</td>\n",
       "      <td>-14.622856</td>\n",
       "      <td>-3.497094</td>\n",
       "      <td>6.972071</td>\n",
       "    </tr>\n",
       "    <tr>\n",
       "      <td>scoliosis_slope</td>\n",
       "      <td>310.0</td>\n",
       "      <td>25.645981</td>\n",
       "      <td>10.450558</td>\n",
       "      <td>7.007900</td>\n",
       "      <td>17.189075</td>\n",
       "      <td>24.931950</td>\n",
       "      <td>33.979600</td>\n",
       "      <td>44.341200</td>\n",
       "    </tr>\n",
       "  </tbody>\n",
       "</table>\n",
       "</div>"
      ],
      "text/plain": [
       "                          count        mean        std        min         25%  \\\n",
       "pelvic_incidence          310.0   60.496653  17.236520  26.147921   46.430294   \n",
       "pelvic tilt               310.0   17.542822  10.008330  -6.554948   10.667069   \n",
       "lumbar_lordosis_angle     310.0   51.930930  18.554064  14.000000   37.000000   \n",
       "sacral_slope              310.0   42.953831  13.423102  13.366931   33.347122   \n",
       "pelvic_radius             310.0  117.920655  13.317377  70.082575  110.709196   \n",
       "degree_spondylolisthesis  310.0   26.296694  37.559027 -11.058179    1.603727   \n",
       "pelvic_slope              310.0    0.472979   0.285787   0.003220    0.224367   \n",
       "direct_tilt               310.0   21.321526   8.639423   7.027000   13.054400   \n",
       "thoracic_slope            310.0   13.064511   3.399713   7.037800   10.417800   \n",
       "cervical_tilt             310.0   11.933317   2.893265   7.030600    9.541140   \n",
       "sacrum_angle              310.0  -14.053139  12.225582 -35.287375  -24.289522   \n",
       "scoliosis_slope           310.0   25.645981  10.450558   7.007900   17.189075   \n",
       "\n",
       "                                 50%         75%         max  \n",
       "pelvic_incidence           58.691038   72.877696  129.834041  \n",
       "pelvic tilt                16.357689   22.120395   49.431864  \n",
       "lumbar_lordosis_angle      49.562398   63.000000  125.742385  \n",
       "sacral_slope               42.404912   52.695888  121.429566  \n",
       "pelvic_radius             118.268178  125.467674  163.071041  \n",
       "degree_spondylolisthesis   11.767934   41.287352  418.543082  \n",
       "pelvic_slope                0.475989    0.704846    0.998827  \n",
       "direct_tilt                21.907150   28.954075   36.743900  \n",
       "thoracic_slope             12.938450   15.889525   19.324000  \n",
       "cervical_tilt              11.953835   14.371810   16.821080  \n",
       "sacrum_angle              -14.622856   -3.497094    6.972071  \n",
       "scoliosis_slope            24.931950   33.979600   44.341200  "
      ]
     },
     "execution_count": 7,
     "metadata": {},
     "output_type": "execute_result"
    }
   ],
   "source": [
    "spine_data.describe().transpose()"
   ]
  },
  {
   "cell_type": "code",
   "execution_count": 8,
   "metadata": {},
   "outputs": [
    {
     "data": {
      "image/png": "[encoded data removed]",
      "text/plain": [
       "<Figure size 576x432 with 1 Axes>"
      ]
     },
     "metadata": {
      "needs_background": "light"
     },
     "output_type": "display_data"
    }
   ],
   "source": [
    "plt.figure(figsize=(8, 6))\n",
    "\n",
    "sns.countplot('class_att', data = spine_data)\n",
    "\n",
    "plt.xlabel('class_att', fontsize = 20)\n",
    "plt.ylabel('count', fontsize = 20)\n",
    "\n",
    "plt.show()"
   ]
  },
  {
   "cell_type": "code",
   "execution_count": 9,
   "metadata": {},
   "outputs": [
    {
     "data": {
      "image/png": "[encoded data removed]",
      "text/plain": [
       "<Figure size 576x432 with 1 Axes>"
      ]
     },
     "metadata": {
      "needs_background": "light"
     },
     "output_type": "display_data"
    }
   ],
   "source": [
    "plt.figure(figsize=(8, 6))\n",
    "\n",
    "sns.boxplot('class_att', 'pelvic_incidence', data = spine_data)\n",
    "\n",
    "plt.xlabel('class_att', fontsize = 20)\n",
    "plt.ylabel('pelvic_incidence', fontsize = 20)\n",
    "\n",
    "plt.show()"
   ]
  },
  {
   "cell_type": "code",
   "execution_count": 10,
   "metadata": {},
   "outputs": [
    {
     "data": {
      "image/png": "[encoded data removed]",
      "text/plain": [
       "<Figure size 576x432 with 1 Axes>"
      ]
     },
     "metadata": {
      "needs_background": "light"
     },
     "output_type": "display_data"
    }
   ],
   "source": [
    "plt.figure(figsize=(8, 6))\n",
    "\n",
    "sns.boxplot('class_att', 'lumbar_lordosis_angle', data = spine_data)\n",
    "\n",
    "plt.xlabel('class_att', fontsize = 20)\n",
    "plt.ylabel('lumbar_lordosis_angle', fontsize = 20)\n",
    "\n",
    "plt.show()"
   ]
  },
  {
   "cell_type": "code",
   "execution_count": 11,
   "metadata": {},
   "outputs": [
    {
     "data": {
      "image/png": "[encoded data removed]",
      "text/plain": [
       "<Figure size 576x432 with 1 Axes>"
      ]
     },
     "metadata": {
      "needs_background": "light"
     },
     "output_type": "display_data"
    }
   ],
   "source": [
    "plt.figure(figsize=(8, 6))\n",
    "\n",
    "sns.boxplot('class_att', 'pelvic_radius', data = spine_data)\n",
    "\n",
    "plt.xlabel('class_att', fontsize = 20)\n",
    "plt.ylabel('pelvic_radius', fontsize = 20)\n",
    "\n",
    "plt.show()"
   ]
  },
  {
   "cell_type": "markdown",
   "metadata": {},
   "source": [
    "### Replacing string values with integers in target column"
   ]
  },
  {
   "cell_type": "code",
   "execution_count": 12,
   "metadata": {},
   "outputs": [
    {
     "data": {
      "text/html": [
       "<div>\n",
       "<style scoped>\n",
       "    .dataframe tbody tr th:only-of-type {\n",
       "        vertical-align: middle;\n",
       "    }\n",
       "\n",
       "    .dataframe tbody tr th {\n",
       "        vertical-align: top;\n",
       "    }\n",
       "\n",
       "    .dataframe thead th {\n",
       "        text-align: right;\n",
       "    }\n",
       "</style>\n",
       "<table border=\"1\" class=\"dataframe\">\n",
       "  <thead>\n",
       "    <tr style=\"text-align: right;\">\n",
       "      <th></th>\n",
       "      <th>class_att</th>\n",
       "    </tr>\n",
       "  </thead>\n",
       "  <tbody>\n",
       "    <tr>\n",
       "      <td>252</td>\n",
       "      <td>0</td>\n",
       "    </tr>\n",
       "    <tr>\n",
       "      <td>38</td>\n",
       "      <td>0</td>\n",
       "    </tr>\n",
       "    <tr>\n",
       "      <td>83</td>\n",
       "      <td>1</td>\n",
       "    </tr>\n",
       "    <tr>\n",
       "      <td>77</td>\n",
       "      <td>1</td>\n",
       "    </tr>\n",
       "    <tr>\n",
       "      <td>20</td>\n",
       "      <td>1</td>\n",
       "    </tr>\n",
       "    <tr>\n",
       "      <td>119</td>\n",
       "      <td>0</td>\n",
       "    </tr>\n",
       "    <tr>\n",
       "      <td>279</td>\n",
       "      <td>0</td>\n",
       "    </tr>\n",
       "    <tr>\n",
       "      <td>78</td>\n",
       "      <td>1</td>\n",
       "    </tr>\n",
       "    <tr>\n",
       "      <td>260</td>\n",
       "      <td>0</td>\n",
       "    </tr>\n",
       "    <tr>\n",
       "      <td>209</td>\n",
       "      <td>0</td>\n",
       "    </tr>\n",
       "  </tbody>\n",
       "</table>\n",
       "</div>"
      ],
      "text/plain": [
       "     class_att\n",
       "252          0\n",
       "38           0\n",
       "83           1\n",
       "77           1\n",
       "20           1\n",
       "119          0\n",
       "279          0\n",
       "78           1\n",
       "260          0\n",
       "209          0"
      ]
     },
     "execution_count": 12,
     "metadata": {},
     "output_type": "execute_result"
    }
   ],
   "source": [
    "class_att = {'Abnormal':0, 'Normal':1}\n",
    "\n",
    "spine_data['class_att'].replace(class_att, inplace=True)\n",
    "\n",
    "spine_data[['class_att']].sample(10)"
   ]
  },
  {
   "cell_type": "code",
   "execution_count": 13,
   "metadata": {},
   "outputs": [],
   "source": [
    "features = spine_data.drop('class_att', axis=1)\n",
    "\n",
    "target = spine_data[['class_att']]"
   ]
  },
  {
   "cell_type": "code",
   "execution_count": 14,
   "metadata": {},
   "outputs": [
    {
     "data": {
      "text/html": [
       "<div>\n",
       "<style scoped>\n",
       "    .dataframe tbody tr th:only-of-type {\n",
       "        vertical-align: middle;\n",
       "    }\n",
       "\n",
       "    .dataframe tbody tr th {\n",
       "        vertical-align: top;\n",
       "    }\n",
       "\n",
       "    .dataframe thead th {\n",
       "        text-align: right;\n",
       "    }\n",
       "</style>\n",
       "<table border=\"1\" class=\"dataframe\">\n",
       "  <thead>\n",
       "    <tr style=\"text-align: right;\">\n",
       "      <th></th>\n",
       "      <th>217</th>\n",
       "      <th>41</th>\n",
       "      <th>120</th>\n",
       "      <th>220</th>\n",
       "      <th>204</th>\n",
       "    </tr>\n",
       "  </thead>\n",
       "  <tbody>\n",
       "    <tr>\n",
       "      <td>pelvic_incidence</td>\n",
       "      <td>61.540599</td>\n",
       "      <td>45.075450</td>\n",
       "      <td>63.073611</td>\n",
       "      <td>40.746996</td>\n",
       "      <td>37.731992</td>\n",
       "    </tr>\n",
       "    <tr>\n",
       "      <td>pelvic tilt</td>\n",
       "      <td>19.676957</td>\n",
       "      <td>12.306951</td>\n",
       "      <td>24.413803</td>\n",
       "      <td>1.835524</td>\n",
       "      <td>9.386298</td>\n",
       "    </tr>\n",
       "    <tr>\n",
       "      <td>lumbar_lordosis_angle</td>\n",
       "      <td>52.892229</td>\n",
       "      <td>44.583177</td>\n",
       "      <td>54.000000</td>\n",
       "      <td>50.000000</td>\n",
       "      <td>42.000000</td>\n",
       "    </tr>\n",
       "    <tr>\n",
       "      <td>sacral_slope</td>\n",
       "      <td>41.863642</td>\n",
       "      <td>32.768499</td>\n",
       "      <td>38.659808</td>\n",
       "      <td>38.911472</td>\n",
       "      <td>28.345694</td>\n",
       "    </tr>\n",
       "    <tr>\n",
       "      <td>pelvic_radius</td>\n",
       "      <td>118.686268</td>\n",
       "      <td>147.894637</td>\n",
       "      <td>106.424329</td>\n",
       "      <td>139.247150</td>\n",
       "      <td>135.740926</td>\n",
       "    </tr>\n",
       "    <tr>\n",
       "      <td>degree_spondylolisthesis</td>\n",
       "      <td>4.815031</td>\n",
       "      <td>-8.941709</td>\n",
       "      <td>15.779697</td>\n",
       "      <td>0.668557</td>\n",
       "      <td>13.683047</td>\n",
       "    </tr>\n",
       "    <tr>\n",
       "      <td>pelvic_slope</td>\n",
       "      <td>0.212129</td>\n",
       "      <td>0.932922</td>\n",
       "      <td>0.666388</td>\n",
       "      <td>0.277171</td>\n",
       "      <td>0.465170</td>\n",
       "    </tr>\n",
       "    <tr>\n",
       "      <td>direct_tilt</td>\n",
       "      <td>14.491100</td>\n",
       "      <td>32.116900</td>\n",
       "      <td>11.969600</td>\n",
       "      <td>11.196000</td>\n",
       "      <td>28.970300</td>\n",
       "    </tr>\n",
       "    <tr>\n",
       "      <td>thoracic_slope</td>\n",
       "      <td>7.511700</td>\n",
       "      <td>14.303700</td>\n",
       "      <td>17.689100</td>\n",
       "      <td>16.527000</td>\n",
       "      <td>10.201600</td>\n",
       "    </tr>\n",
       "    <tr>\n",
       "      <td>cervical_tilt</td>\n",
       "      <td>12.114630</td>\n",
       "      <td>10.643260</td>\n",
       "      <td>7.637710</td>\n",
       "      <td>15.756510</td>\n",
       "      <td>11.249510</td>\n",
       "    </tr>\n",
       "    <tr>\n",
       "      <td>sacrum_angle</td>\n",
       "      <td>-19.934103</td>\n",
       "      <td>-31.198847</td>\n",
       "      <td>-14.183602</td>\n",
       "      <td>-28.284145</td>\n",
       "      <td>-19.160909</td>\n",
       "    </tr>\n",
       "    <tr>\n",
       "      <td>scoliosis_slope</td>\n",
       "      <td>41.730400</td>\n",
       "      <td>11.230700</td>\n",
       "      <td>44.233800</td>\n",
       "      <td>7.432400</td>\n",
       "      <td>34.001100</td>\n",
       "    </tr>\n",
       "  </tbody>\n",
       "</table>\n",
       "</div>"
      ],
      "text/plain": [
       "                                 217         41          120         220  \\\n",
       "pelvic_incidence           61.540599   45.075450   63.073611   40.746996   \n",
       "pelvic tilt                19.676957   12.306951   24.413803    1.835524   \n",
       "lumbar_lordosis_angle      52.892229   44.583177   54.000000   50.000000   \n",
       "sacral_slope               41.863642   32.768499   38.659808   38.911472   \n",
       "pelvic_radius             118.686268  147.894637  106.424329  139.247150   \n",
       "degree_spondylolisthesis    4.815031   -8.941709   15.779697    0.668557   \n",
       "pelvic_slope                0.212129    0.932922    0.666388    0.277171   \n",
       "direct_tilt                14.491100   32.116900   11.969600   11.196000   \n",
       "thoracic_slope              7.511700   14.303700   17.689100   16.527000   \n",
       "cervical_tilt              12.114630   10.643260    7.637710   15.756510   \n",
       "sacrum_angle              -19.934103  -31.198847  -14.183602  -28.284145   \n",
       "scoliosis_slope            41.730400   11.230700   44.233800    7.432400   \n",
       "\n",
       "                                 204  \n",
       "pelvic_incidence           37.731992  \n",
       "pelvic tilt                 9.386298  \n",
       "lumbar_lordosis_angle      42.000000  \n",
       "sacral_slope               28.345694  \n",
       "pelvic_radius             135.740926  \n",
       "degree_spondylolisthesis   13.683047  \n",
       "pelvic_slope                0.465170  \n",
       "direct_tilt                28.970300  \n",
       "thoracic_slope             10.201600  \n",
       "cervical_tilt              11.249510  \n",
       "sacrum_angle              -19.160909  \n",
       "scoliosis_slope            34.001100  "
      ]
     },
     "execution_count": 14,
     "metadata": {},
     "output_type": "execute_result"
    }
   ],
   "source": [
    "features.sample(5).T"
   ]
  },
  {
   "cell_type": "code",
   "execution_count": 15,
   "metadata": {},
   "outputs": [
    {
     "data": {
      "text/html": [
       "<div>\n",
       "<style scoped>\n",
       "    .dataframe tbody tr th:only-of-type {\n",
       "        vertical-align: middle;\n",
       "    }\n",
       "\n",
       "    .dataframe tbody tr th {\n",
       "        vertical-align: top;\n",
       "    }\n",
       "\n",
       "    .dataframe thead th {\n",
       "        text-align: right;\n",
       "    }\n",
       "</style>\n",
       "<table border=\"1\" class=\"dataframe\">\n",
       "  <thead>\n",
       "    <tr style=\"text-align: right;\">\n",
       "      <th></th>\n",
       "      <th>class_att</th>\n",
       "    </tr>\n",
       "  </thead>\n",
       "  <tbody>\n",
       "    <tr>\n",
       "      <td>233</td>\n",
       "      <td>1</td>\n",
       "    </tr>\n",
       "    <tr>\n",
       "      <td>1</td>\n",
       "      <td>0</td>\n",
       "    </tr>\n",
       "    <tr>\n",
       "      <td>160</td>\n",
       "      <td>1</td>\n",
       "    </tr>\n",
       "    <tr>\n",
       "      <td>166</td>\n",
       "      <td>1</td>\n",
       "    </tr>\n",
       "    <tr>\n",
       "      <td>37</td>\n",
       "      <td>0</td>\n",
       "    </tr>\n",
       "  </tbody>\n",
       "</table>\n",
       "</div>"
      ],
      "text/plain": [
       "     class_att\n",
       "233          1\n",
       "1            0\n",
       "160          1\n",
       "166          1\n",
       "37           0"
      ]
     },
     "execution_count": 15,
     "metadata": {},
     "output_type": "execute_result"
    }
   ],
   "source": [
    "target.sample(5)"
   ]
  },
  {
   "cell_type": "code",
   "execution_count": 16,
   "metadata": {},
   "outputs": [
    {
     "data": {
      "text/html": [
       "<div>\n",
       "<style scoped>\n",
       "    .dataframe tbody tr th:only-of-type {\n",
       "        vertical-align: middle;\n",
       "    }\n",
       "\n",
       "    .dataframe tbody tr th {\n",
       "        vertical-align: top;\n",
       "    }\n",
       "\n",
       "    .dataframe thead th {\n",
       "        text-align: right;\n",
       "    }\n",
       "</style>\n",
       "<table border=\"1\" class=\"dataframe\">\n",
       "  <thead>\n",
       "    <tr style=\"text-align: right;\">\n",
       "      <th></th>\n",
       "      <th>count</th>\n",
       "      <th>mean</th>\n",
       "      <th>std</th>\n",
       "      <th>min</th>\n",
       "      <th>25%</th>\n",
       "      <th>50%</th>\n",
       "      <th>75%</th>\n",
       "      <th>max</th>\n",
       "    </tr>\n",
       "  </thead>\n",
       "  <tbody>\n",
       "    <tr>\n",
       "      <td>pelvic_incidence</td>\n",
       "      <td>310.0</td>\n",
       "      <td>-9.239921e-17</td>\n",
       "      <td>1.001617</td>\n",
       "      <td>-1.996010</td>\n",
       "      <td>-0.817398</td>\n",
       "      <td>-0.104925</td>\n",
       "      <td>0.719464</td>\n",
       "      <td>4.029206</td>\n",
       "    </tr>\n",
       "    <tr>\n",
       "      <td>pelvic tilt</td>\n",
       "      <td>310.0</td>\n",
       "      <td>1.853356e-16</td>\n",
       "      <td>1.001617</td>\n",
       "      <td>-2.411664</td>\n",
       "      <td>-0.688114</td>\n",
       "      <td>-0.118606</td>\n",
       "      <td>0.458116</td>\n",
       "      <td>3.191402</td>\n",
       "    </tr>\n",
       "    <tr>\n",
       "      <td>lumbar_lordosis_angle</td>\n",
       "      <td>310.0</td>\n",
       "      <td>1.695776e-16</td>\n",
       "      <td>1.001617</td>\n",
       "      <td>-2.047652</td>\n",
       "      <td>-0.806027</td>\n",
       "      <td>-0.127862</td>\n",
       "      <td>0.597549</td>\n",
       "      <td>3.984615</td>\n",
       "    </tr>\n",
       "    <tr>\n",
       "      <td>sacral_slope</td>\n",
       "      <td>310.0</td>\n",
       "      <td>-1.128130e-16</td>\n",
       "      <td>1.001617</td>\n",
       "      <td>-2.207741</td>\n",
       "      <td>-0.716842</td>\n",
       "      <td>-0.040960</td>\n",
       "      <td>0.726941</td>\n",
       "      <td>5.855771</td>\n",
       "    </tr>\n",
       "    <tr>\n",
       "      <td>pelvic_radius</td>\n",
       "      <td>310.0</td>\n",
       "      <td>3.836089e-16</td>\n",
       "      <td>1.001617</td>\n",
       "      <td>-3.597963</td>\n",
       "      <td>-0.542383</td>\n",
       "      <td>0.026138</td>\n",
       "      <td>0.567621</td>\n",
       "      <td>3.395818</td>\n",
       "    </tr>\n",
       "    <tr>\n",
       "      <td>degree_spondylolisthesis</td>\n",
       "      <td>310.0</td>\n",
       "      <td>-7.476099e-18</td>\n",
       "      <td>1.001617</td>\n",
       "      <td>-0.996172</td>\n",
       "      <td>-0.658507</td>\n",
       "      <td>-0.387450</td>\n",
       "      <td>0.399768</td>\n",
       "      <td>10.460350</td>\n",
       "    </tr>\n",
       "    <tr>\n",
       "      <td>pelvic_slope</td>\n",
       "      <td>310.0</td>\n",
       "      <td>1.790682e-17</td>\n",
       "      <td>1.001617</td>\n",
       "      <td>-1.646397</td>\n",
       "      <td>-0.871329</td>\n",
       "      <td>0.010547</td>\n",
       "      <td>0.812640</td>\n",
       "      <td>1.842974</td>\n",
       "    </tr>\n",
       "    <tr>\n",
       "      <td>direct_tilt</td>\n",
       "      <td>310.0</td>\n",
       "      <td>4.799029e-17</td>\n",
       "      <td>1.001617</td>\n",
       "      <td>-1.657245</td>\n",
       "      <td>-0.958454</td>\n",
       "      <td>0.067895</td>\n",
       "      <td>0.884884</td>\n",
       "      <td>1.788002</td>\n",
       "    </tr>\n",
       "    <tr>\n",
       "      <td>thoracic_slope</td>\n",
       "      <td>310.0</td>\n",
       "      <td>2.415630e-16</td>\n",
       "      <td>1.001617</td>\n",
       "      <td>-1.775578</td>\n",
       "      <td>-0.779769</td>\n",
       "      <td>-0.037140</td>\n",
       "      <td>0.832300</td>\n",
       "      <td>1.844158</td>\n",
       "    </tr>\n",
       "    <tr>\n",
       "      <td>cervical_tilt</td>\n",
       "      <td>310.0</td>\n",
       "      <td>-3.538388e-16</td>\n",
       "      <td>1.001617</td>\n",
       "      <td>-1.697267</td>\n",
       "      <td>-0.828145</td>\n",
       "      <td>0.007103</td>\n",
       "      <td>0.844180</td>\n",
       "      <td>1.692090</td>\n",
       "    </tr>\n",
       "    <tr>\n",
       "      <td>sacrum_angle</td>\n",
       "      <td>310.0</td>\n",
       "      <td>-7.879002e-17</td>\n",
       "      <td>1.001617</td>\n",
       "      <td>-1.739677</td>\n",
       "      <td>-0.838646</td>\n",
       "      <td>-0.046676</td>\n",
       "      <td>0.864835</td>\n",
       "      <td>1.722552</td>\n",
       "    </tr>\n",
       "    <tr>\n",
       "      <td>scoliosis_slope</td>\n",
       "      <td>310.0</td>\n",
       "      <td>-1.106642e-16</td>\n",
       "      <td>1.001617</td>\n",
       "      <td>-1.786337</td>\n",
       "      <td>-0.810538</td>\n",
       "      <td>-0.068435</td>\n",
       "      <td>0.798722</td>\n",
       "      <td>1.791813</td>\n",
       "    </tr>\n",
       "  </tbody>\n",
       "</table>\n",
       "</div>"
      ],
      "text/plain": [
       "                          count          mean       std       min       25%  \\\n",
       "pelvic_incidence          310.0 -9.239921e-17  1.001617 -1.996010 -0.817398   \n",
       "pelvic tilt               310.0  1.853356e-16  1.001617 -2.411664 -0.688114   \n",
       "lumbar_lordosis_angle     310.0  1.695776e-16  1.001617 -2.047652 -0.806027   \n",
       "sacral_slope              310.0 -1.128130e-16  1.001617 -2.207741 -0.716842   \n",
       "pelvic_radius             310.0  3.836089e-16  1.001617 -3.597963 -0.542383   \n",
       "degree_spondylolisthesis  310.0 -7.476099e-18  1.001617 -0.996172 -0.658507   \n",
       "pelvic_slope              310.0  1.790682e-17  1.001617 -1.646397 -0.871329   \n",
       "direct_tilt               310.0  4.799029e-17  1.001617 -1.657245 -0.958454   \n",
       "thoracic_slope            310.0  2.415630e-16  1.001617 -1.775578 -0.779769   \n",
       "cervical_tilt             310.0 -3.538388e-16  1.001617 -1.697267 -0.828145   \n",
       "sacrum_angle              310.0 -7.879002e-17  1.001617 -1.739677 -0.838646   \n",
       "scoliosis_slope           310.0 -1.106642e-16  1.001617 -1.786337 -0.810538   \n",
       "\n",
       "                               50%       75%        max  \n",
       "pelvic_incidence         -0.104925  0.719464   4.029206  \n",
       "pelvic tilt              -0.118606  0.458116   3.191402  \n",
       "lumbar_lordosis_angle    -0.127862  0.597549   3.984615  \n",
       "sacral_slope             -0.040960  0.726941   5.855771  \n",
       "pelvic_radius             0.026138  0.567621   3.395818  \n",
       "degree_spondylolisthesis -0.387450  0.399768  10.460350  \n",
       "pelvic_slope              0.010547  0.812640   1.842974  \n",
       "direct_tilt               0.067895  0.884884   1.788002  \n",
       "thoracic_slope           -0.037140  0.832300   1.844158  \n",
       "cervical_tilt             0.007103  0.844180   1.692090  \n",
       "sacrum_angle             -0.046676  0.864835   1.722552  \n",
       "scoliosis_slope          -0.068435  0.798722   1.791813  "
      ]
     },
     "execution_count": 16,
     "metadata": {},
     "output_type": "execute_result"
    }
   ],
   "source": [
    "standardScaler = StandardScaler()\n",
    "\n",
    "scaled_features = pd.DataFrame(standardScaler.fit_transform(features), \n",
    "                               columns=features.columns,\n",
    "                               index=features.index)\n",
    "\n",
    "scaled_features.describe().T"
   ]
  },
  {
   "cell_type": "code",
   "execution_count": 17,
   "metadata": {},
   "outputs": [
    {
     "data": {
      "text/plain": [
       "(310, 12)"
      ]
     },
     "execution_count": 17,
     "metadata": {},
     "output_type": "execute_result"
    }
   ],
   "source": [
    "scaled_features.shape"
   ]
  },
  {
   "cell_type": "markdown",
   "metadata": {},
   "source": [
    "### Splitting dataset into training and testing"
   ]
  },
  {
   "cell_type": "code",
   "execution_count": 18,
   "metadata": {},
   "outputs": [],
   "source": [
    "from sklearn.model_selection import train_test_split\n",
    "\n",
    "x_train, x_test, y_train, y_test = train_test_split(scaled_features, \n",
    "                                                    target, \n",
    "                                                    test_size=0.15,\n",
    "                                                    random_state=10)"
   ]
  },
  {
   "cell_type": "code",
   "execution_count": 19,
   "metadata": {},
   "outputs": [
    {
     "data": {
      "text/plain": [
       "((263, 12), (47, 12))"
      ]
     },
     "execution_count": 19,
     "metadata": {},
     "output_type": "execute_result"
    }
   ],
   "source": [
    "x_train.shape, x_test.shape"
   ]
  },
  {
   "cell_type": "code",
   "execution_count": 20,
   "metadata": {},
   "outputs": [],
   "source": [
    "x_train, x_val, y_train, y_val = train_test_split(x_train, \n",
    "                                                  y_train, \n",
    "                                                  test_size=0.15,\n",
    "                                                  random_state=10)"
   ]
  },
  {
   "cell_type": "code",
   "execution_count": 21,
   "metadata": {},
   "outputs": [
    {
     "data": {
      "text/plain": [
       "((223, 12), (40, 12), (47, 12))"
      ]
     },
     "execution_count": 21,
     "metadata": {},
     "output_type": "execute_result"
    }
   ],
   "source": [
    "x_train.shape, x_val.shape, x_test.shape"
   ]
  },
  {
   "cell_type": "code",
   "execution_count": 22,
   "metadata": {},
   "outputs": [
    {
     "data": {
      "text/plain": [
       "((223, 1), (40, 1), (47, 1))"
      ]
     },
     "execution_count": 22,
     "metadata": {},
     "output_type": "execute_result"
    }
   ],
   "source": [
    "y_train.shape, y_val.shape, y_test.shape"
   ]
  },
  {
   "cell_type": "markdown",
   "metadata": {},
   "source": [
    "### Building model"
   ]
  },
  {
   "cell_type": "code",
   "execution_count": 23,
   "metadata": {},
   "outputs": [],
   "source": [
    "def build_and_compile_model():\n",
    "    \n",
    "    inputs = tf.keras.Input(shape=(x_train.shape[1],))\n",
    "\n",
    "    x = layers.Dense(16, activation='relu')(inputs)\n",
    "\n",
    "    x = layers.Dropout(0.3)(x)\n",
    "\n",
    "    x = layers.Dense(8, activation='relu')(x)\n",
    "\n",
    "    predictions = layers.Dense(1, activation='sigmoid')(x)\n",
    "    \n",
    "    model = tf.keras.Model(inputs=inputs, outputs=predictions)\n",
    "    \n",
    "    model.summary()\n",
    "    \n",
    "    model.compile(optimizer=tf.keras.optimizers.RMSprop(0.001),\n",
    "              loss=tf.keras.losses.BinaryCrossentropy(),\n",
    "              metrics=['accuracy', \n",
    "                       tf.keras.metrics.Precision(0.5),\n",
    "                       tf.keras.metrics.Recall(0.5),])\n",
    "    return model"
   ]
  },
  {
   "cell_type": "code",
   "execution_count": 24,
   "metadata": {},
   "outputs": [
    {
     "name": "stdout",
     "output_type": "stream",
     "text": [
      "Model: \"model\"\n",
      "_________________________________________________________________\n",
      "Layer (type)                 Output Shape              Param #   \n",
      "=================================================================\n",
      "input_1 (InputLayer)         [(None, 12)]              0         \n",
      "_________________________________________________________________\n",
      "dense (Dense)                (None, 16)                208       \n",
      "_________________________________________________________________\n",
      "dropout (Dropout)            (None, 16)                0         \n",
      "_________________________________________________________________\n",
      "dense_1 (Dense)              (None, 8)                 136       \n",
      "_________________________________________________________________\n",
      "dense_2 (Dense)              (None, 1)                 9         \n",
      "=================================================================\n",
      "Total params: 353\n",
      "Trainable params: 353\n",
      "Non-trainable params: 0\n",
      "_________________________________________________________________\n"
     ]
    }
   ],
   "source": [
    "model = build_and_compile_model()"
   ]
  },
  {
   "cell_type": "code",
   "execution_count": 25,
   "metadata": {},
   "outputs": [
    {
     "data": {
      "image/png": "[encoded data removed]",
      "text/plain": [
       "<IPython.core.display.Image object>"
      ]
     },
     "execution_count": 25,
     "metadata": {},
     "output_type": "execute_result"
    }
   ],
   "source": [
    "keras.utils.plot_model(model, 'model_classification_shapes.png', show_shapes=True)"
   ]
  },
  {
   "cell_type": "code",
   "execution_count": 26,
   "metadata": {},
   "outputs": [
    {
     "data": {
      "text/plain": [
       "<ShuffleDataset shapes: ((None, 12), (None, 1)), types: (tf.float64, tf.int64)>"
      ]
     },
     "execution_count": 26,
     "metadata": {},
     "output_type": "execute_result"
    }
   ],
   "source": [
    "dataset_train = tf.data.Dataset.from_tensor_slices((x_train.values, y_train.values))\n",
    "dataset_train = dataset_train.batch(16)\n",
    "\n",
    "dataset_train.shuffle(128)"
   ]
  },
  {
   "cell_type": "code",
   "execution_count": 27,
   "metadata": {},
   "outputs": [],
   "source": [
    "num_epochs = 10"
   ]
  },
  {
   "cell_type": "code",
   "execution_count": 28,
   "metadata": {},
   "outputs": [
    {
     "name": "stdout",
     "output_type": "stream",
     "text": [
      "Train for 14 steps\n",
      "Epoch 1/10\n",
      "14/14 [==============================] - 3s 234ms/step - loss: 0.6207 - accuracy: 0.6368 - precision: 0.3182 - recall: 0.0959\n",
      "Epoch 2/10\n",
      "14/14 [==============================] - 0s 5ms/step - loss: 0.6068 - accuracy: 0.6682 - precision: 0.4667 - recall: 0.0959    \n",
      "Epoch 3/10\n",
      "14/14 [==============================] - 0s 11ms/step - loss: 0.5848 - accuracy: 0.6771 - precision: 0.5294 - recall: 0.1233  \n",
      "Epoch 4/10\n",
      "14/14 [==============================] - 0s 6ms/step - loss: 0.5703 - accuracy: 0.6996 - precision: 0.6500 - recall: 0.1781\n",
      "Epoch 5/10\n",
      "14/14 [==============================] - 0s 8ms/step - loss: 0.5744 - accuracy: 0.6682 - precision: 0.4545 - recall: 0.0685\n",
      "Epoch 6/10\n",
      "14/14 [==============================] - 0s 12ms/step - loss: 0.5603 - accuracy: 0.6816 - precision: 0.5714 - recall: 0.1096\n",
      "Epoch 7/10\n",
      "14/14 [==============================] - 0s 14ms/step - loss: 0.5376 - accuracy: 0.7220 - precision: 0.7895 - recall: 0.2055\n",
      "Epoch 8/10\n",
      "14/14 [==============================] - 0s 8ms/step - loss: 0.5315 - accuracy: 0.7085 - precision: 0.6818 - recall: 0.2055\n",
      "Epoch 9/10\n",
      "14/14 [==============================] - 0s 11ms/step - loss: 0.5301 - accuracy: 0.6951 - precision: 0.6190 - recall: 0.1781\n",
      "Epoch 10/10\n",
      "14/14 [==============================] - 0s 7ms/step - loss: 0.5280 - accuracy: 0.7220 - precision: 0.7619 - recall: 0.2192\n"
     ]
    },
    {
     "data": {
      "text/plain": [
       "<tensorflow.python.keras.callbacks.History at 0x141018290>"
      ]
     },
     "execution_count": 28,
     "metadata": {},
     "output_type": "execute_result"
    }
   ],
   "source": [
    "model.fit(dataset_train, epochs=num_epochs)"
   ]
  },
  {
   "cell_type": "code",
   "execution_count": 29,
   "metadata": {},
   "outputs": [],
   "source": [
    "dataset_val = tf.data.Dataset.from_tensor_slices((x_val.values, y_val.values))\n",
    "dataset_val = dataset_val.batch(16)"
   ]
  },
  {
   "cell_type": "code",
   "execution_count": 30,
   "metadata": {},
   "outputs": [
    {
     "name": "stdout",
     "output_type": "stream",
     "text": [
      "Model: \"model_1\"\n",
      "_________________________________________________________________\n",
      "Layer (type)                 Output Shape              Param #   \n",
      "=================================================================\n",
      "input_2 (InputLayer)         [(None, 12)]              0         \n",
      "_________________________________________________________________\n",
      "dense_3 (Dense)              (None, 16)                208       \n",
      "_________________________________________________________________\n",
      "dropout_1 (Dropout)          (None, 16)                0         \n",
      "_________________________________________________________________\n",
      "dense_4 (Dense)              (None, 8)                 136       \n",
      "_________________________________________________________________\n",
      "dense_5 (Dense)              (None, 1)                 9         \n",
      "=================================================================\n",
      "Total params: 353\n",
      "Trainable params: 353\n",
      "Non-trainable params: 0\n",
      "_________________________________________________________________\n",
      "Train for 14 steps, validate for 3 steps\n",
      "Epoch 1/10\n",
      "14/14 [==============================] - 5s 384ms/step - loss: 1.0510 - accuracy: 0.3498 - precision_1: 0.3302 - recall_1: 0.9589 - val_loss: 0.9667 - val_accuracy: 0.2750 - val_precision_1: 0.2750 - val_recall_1: 1.0000\n",
      "Epoch 2/10\n",
      "14/14 [==============================] - 0s 9ms/step - loss: 0.9609 - accuracy: 0.3543 - precision_1: 0.3251 - recall_1: 0.9041 - val_loss: 0.8939 - val_accuracy: 0.2500 - val_precision_1: 0.2564 - val_recall_1: 0.9091\n",
      "Epoch 3/10\n",
      "14/14 [==============================] - 0s 10ms/step - loss: 0.8903 - accuracy: 0.3543 - precision_1: 0.3216 - recall_1: 0.8767 - val_loss: 0.8358 - val_accuracy: 0.2750 - val_precision_1: 0.2500 - val_recall_1: 0.8182\n",
      "Epoch 4/10\n",
      "14/14 [==============================] - 0s 8ms/step - loss: 0.8629 - accuracy: 0.3812 - precision_1: 0.3204 - recall_1: 0.7945 - val_loss: 0.7888 - val_accuracy: 0.3500 - val_precision_1: 0.2727 - val_recall_1: 0.8182\n",
      "Epoch 5/10\n",
      "14/14 [==============================] - 0s 10ms/step - loss: 0.7946 - accuracy: 0.4395 - precision_1: 0.3395 - recall_1: 0.7534 - val_loss: 0.7498 - val_accuracy: 0.4500 - val_precision_1: 0.3103 - val_recall_1: 0.8182\n",
      "Epoch 6/10\n",
      "14/14 [==============================] - 0s 9ms/step - loss: 0.7799 - accuracy: 0.4395 - precision_1: 0.3267 - recall_1: 0.6712 - val_loss: 0.7169 - val_accuracy: 0.5250 - val_precision_1: 0.3182 - val_recall_1: 0.6364\n",
      "Epoch 7/10\n",
      "14/14 [==============================] - 0s 10ms/step - loss: 0.7228 - accuracy: 0.4798 - precision_1: 0.3307 - recall_1: 0.5753 - val_loss: 0.6892 - val_accuracy: 0.6250 - val_precision_1: 0.3571 - val_recall_1: 0.4545\n",
      "Epoch 8/10\n",
      "14/14 [==============================] - 0s 11ms/step - loss: 0.7058 - accuracy: 0.5202 - precision_1: 0.3455 - recall_1: 0.5205 - val_loss: 0.6707 - val_accuracy: 0.6750 - val_precision_1: 0.4167 - val_recall_1: 0.4545\n",
      "Epoch 9/10\n",
      "14/14 [==============================] - 0s 8ms/step - loss: 0.6979 - accuracy: 0.5157 - precision_1: 0.3118 - recall_1: 0.3973 - val_loss: 0.6517 - val_accuracy: 0.7250 - val_precision_1: 0.5000 - val_recall_1: 0.2727\n",
      "Epoch 10/10\n",
      "14/14 [==============================] - 0s 16ms/step - loss: 0.6787 - accuracy: 0.5964 - precision_1: 0.3924 - recall_1: 0.4247 - val_loss: 0.6337 - val_accuracy: 0.7250 - val_precision_1: 0.5000 - val_recall_1: 0.2727\n"
     ]
    }
   ],
   "source": [
    "model = build_and_compile_model()\n",
    "\n",
    "training_history = model.fit(dataset_train, epochs=num_epochs, validation_data=dataset_val)"
   ]
  },
  {
   "cell_type": "markdown",
   "metadata": {},
   "source": [
    "### Plotting accuracy and loss"
   ]
  },
  {
   "cell_type": "code",
   "execution_count": 31,
   "metadata": {},
   "outputs": [
    {
     "data": {
      "text/plain": [
       "dict_keys(['loss', 'accuracy', 'precision_1', 'recall_1', 'val_loss', 'val_accuracy', 'val_precision_1', 'val_recall_1'])"
      ]
     },
     "execution_count": 31,
     "metadata": {},
     "output_type": "execute_result"
    }
   ],
   "source": [
    "training_history.history.keys()"
   ]
  },
  {
   "cell_type": "code",
   "execution_count": 32,
   "metadata": {},
   "outputs": [
    {
     "data": {
      "text/plain": [
       "<matplotlib.legend.Legend at 0x141cdfa50>"
      ]
     },
     "execution_count": 32,
     "metadata": {},
     "output_type": "execute_result"
    },
    {
     "data": {
      "image/png": "[encoded data removed]",
      "text/plain": [
       "<Figure size 1008x576 with 2 Axes>"
      ]
     },
     "metadata": {
      "needs_background": "light"
     },
     "output_type": "display_data"
    }
   ],
   "source": [
    "train_acc = training_history.history['accuracy']\n",
    "train_loss = training_history.history['loss']\n",
    "\n",
    "precision = training_history.history['precision_1']\n",
    "recall = training_history.history['recall_1']\n",
    "\n",
    "epochs_range = range(num_epochs)\n",
    "\n",
    "plt.figure(figsize=(14, 8))\n",
    "\n",
    "plt.subplot(1, 2, 1)\n",
    "\n",
    "plt.plot(epochs_range, train_acc, label='Training Accuracy')\n",
    "plt.plot(epochs_range, train_loss, label='Training Loss')\n",
    "\n",
    "plt.title('Accuracy and Loss')\n",
    "plt.legend()\n",
    "\n",
    "plt.subplot(1, 2, 2)\n",
    "\n",
    "plt.plot(epochs_range, precision, label='Precision')\n",
    "plt.plot(epochs_range, recall, label='Recall')\n",
    "\n",
    "plt.title('Precision and Recall')\n",
    "plt.legend()"
   ]
  },
  {
   "cell_type": "markdown",
   "metadata": {},
   "source": [
    "### Performing prediction"
   ]
  },
  {
   "cell_type": "code",
   "execution_count": 33,
   "metadata": {},
   "outputs": [
    {
     "data": {
      "text/plain": [
       "array([[0.4289192 ],\n",
       "       [0.29096803],\n",
       "       [0.4720687 ],\n",
       "       [0.45426133],\n",
       "       [0.44349304],\n",
       "       [0.36768913],\n",
       "       [0.5437926 ],\n",
       "       [0.40970764],\n",
       "       [0.47982445],\n",
       "       [0.40960303]], dtype=float32)"
      ]
     },
     "execution_count": 33,
     "metadata": {},
     "output_type": "execute_result"
    }
   ],
   "source": [
    "y_pred = model.predict(x_test)\n",
    "\n",
    "y_pred[:10]"
   ]
  },
  {
   "cell_type": "code",
   "execution_count": 34,
   "metadata": {},
   "outputs": [],
   "source": [
    "y_pred = np.where(y_pred>=0.5, 1, y_pred)\n",
    "y_pred = np.where(y_pred<0.5, 0, y_pred)"
   ]
  },
  {
   "cell_type": "code",
   "execution_count": 35,
   "metadata": {},
   "outputs": [
    {
     "data": {
      "text/plain": [
       "array([[0.],\n",
       "       [0.],\n",
       "       [0.],\n",
       "       [0.],\n",
       "       [0.],\n",
       "       [0.],\n",
       "       [1.],\n",
       "       [0.],\n",
       "       [0.],\n",
       "       [0.]], dtype=float32)"
      ]
     },
     "execution_count": 35,
     "metadata": {},
     "output_type": "execute_result"
    }
   ],
   "source": [
    "y_pred[:10]"
   ]
  },
  {
   "cell_type": "code",
   "execution_count": 36,
   "metadata": {},
   "outputs": [],
   "source": [
    "pred_results = pd.DataFrame({'y_test': y_test.values.flatten(),\n",
    "                             'y_pred': y_pred.flatten().astype('int32') }, index = range(len(y_pred)))"
   ]
  },
  {
   "cell_type": "code",
   "execution_count": 37,
   "metadata": {},
   "outputs": [
    {
     "data": {
      "text/html": [
       "<div>\n",
       "<style scoped>\n",
       "    .dataframe tbody tr th:only-of-type {\n",
       "        vertical-align: middle;\n",
       "    }\n",
       "\n",
       "    .dataframe tbody tr th {\n",
       "        vertical-align: top;\n",
       "    }\n",
       "\n",
       "    .dataframe thead th {\n",
       "        text-align: right;\n",
       "    }\n",
       "</style>\n",
       "<table border=\"1\" class=\"dataframe\">\n",
       "  <thead>\n",
       "    <tr style=\"text-align: right;\">\n",
       "      <th></th>\n",
       "      <th>y_test</th>\n",
       "      <th>y_pred</th>\n",
       "    </tr>\n",
       "  </thead>\n",
       "  <tbody>\n",
       "    <tr>\n",
       "      <td>26</td>\n",
       "      <td>0</td>\n",
       "      <td>0</td>\n",
       "    </tr>\n",
       "    <tr>\n",
       "      <td>13</td>\n",
       "      <td>0</td>\n",
       "      <td>0</td>\n",
       "    </tr>\n",
       "    <tr>\n",
       "      <td>8</td>\n",
       "      <td>1</td>\n",
       "      <td>0</td>\n",
       "    </tr>\n",
       "    <tr>\n",
       "      <td>20</td>\n",
       "      <td>1</td>\n",
       "      <td>0</td>\n",
       "    </tr>\n",
       "    <tr>\n",
       "      <td>29</td>\n",
       "      <td>0</td>\n",
       "      <td>0</td>\n",
       "    </tr>\n",
       "    <tr>\n",
       "      <td>46</td>\n",
       "      <td>0</td>\n",
       "      <td>0</td>\n",
       "    </tr>\n",
       "    <tr>\n",
       "      <td>10</td>\n",
       "      <td>1</td>\n",
       "      <td>1</td>\n",
       "    </tr>\n",
       "    <tr>\n",
       "      <td>18</td>\n",
       "      <td>1</td>\n",
       "      <td>0</td>\n",
       "    </tr>\n",
       "    <tr>\n",
       "      <td>38</td>\n",
       "      <td>0</td>\n",
       "      <td>0</td>\n",
       "    </tr>\n",
       "    <tr>\n",
       "      <td>19</td>\n",
       "      <td>0</td>\n",
       "      <td>0</td>\n",
       "    </tr>\n",
       "  </tbody>\n",
       "</table>\n",
       "</div>"
      ],
      "text/plain": [
       "    y_test  y_pred\n",
       "26       0       0\n",
       "13       0       0\n",
       "8        1       0\n",
       "20       1       0\n",
       "29       0       0\n",
       "46       0       0\n",
       "10       1       1\n",
       "18       1       0\n",
       "38       0       0\n",
       "19       0       0"
      ]
     },
     "execution_count": 37,
     "metadata": {},
     "output_type": "execute_result"
    }
   ],
   "source": [
    "pred_results.sample(10)"
   ]
  },
  {
   "cell_type": "code",
   "execution_count": 38,
   "metadata": {},
   "outputs": [
    {
     "data": {
      "text/html": [
       "<div>\n",
       "<style scoped>\n",
       "    .dataframe tbody tr th:only-of-type {\n",
       "        vertical-align: middle;\n",
       "    }\n",
       "\n",
       "    .dataframe tbody tr th {\n",
       "        vertical-align: top;\n",
       "    }\n",
       "\n",
       "    .dataframe thead th {\n",
       "        text-align: right;\n",
       "    }\n",
       "</style>\n",
       "<table border=\"1\" class=\"dataframe\">\n",
       "  <thead>\n",
       "    <tr style=\"text-align: right;\">\n",
       "      <th>y_test</th>\n",
       "      <th>0</th>\n",
       "      <th>1</th>\n",
       "    </tr>\n",
       "    <tr>\n",
       "      <th>y_pred</th>\n",
       "      <th></th>\n",
       "      <th></th>\n",
       "    </tr>\n",
       "  </thead>\n",
       "  <tbody>\n",
       "    <tr>\n",
       "      <td>0</td>\n",
       "      <td>27</td>\n",
       "      <td>13</td>\n",
       "    </tr>\n",
       "    <tr>\n",
       "      <td>1</td>\n",
       "      <td>4</td>\n",
       "      <td>3</td>\n",
       "    </tr>\n",
       "  </tbody>\n",
       "</table>\n",
       "</div>"
      ],
      "text/plain": [
       "y_test   0   1\n",
       "y_pred        \n",
       "0       27  13\n",
       "1        4   3"
      ]
     },
     "execution_count": 38,
     "metadata": {},
     "output_type": "execute_result"
    }
   ],
   "source": [
    "pd.crosstab(pred_results.y_pred, pred_results.y_test)"
   ]
  },
  {
   "cell_type": "code",
   "execution_count": 39,
   "metadata": {},
   "outputs": [
    {
     "data": {
      "text/plain": [
       "0.6382978723404256"
      ]
     },
     "execution_count": 39,
     "metadata": {},
     "output_type": "execute_result"
    }
   ],
   "source": [
    "accuracy_score(y_test, y_pred)"
   ]
  },
  {
   "cell_type": "code",
   "execution_count": 40,
   "metadata": {},
   "outputs": [
    {
     "data": {
      "text/plain": [
       "0.42857142857142855"
      ]
     },
     "execution_count": 40,
     "metadata": {},
     "output_type": "execute_result"
    }
   ],
   "source": [
    "precision_score(y_test, y_pred)"
   ]
  },
  {
   "cell_type": "code",
   "execution_count": 41,
   "metadata": {},
   "outputs": [
    {
     "data": {
      "text/plain": [
       "0.1875"
      ]
     },
     "execution_count": 41,
     "metadata": {},
     "output_type": "execute_result"
    }
   ],
   "source": [
    "recall_score(y_test, y_pred)"
   ]
  },
  {
   "cell_type": "code",
   "execution_count": 42,
   "metadata": {},
   "outputs": [],
   "source": [
    "ckpt_path = 'my_models/spine_classfication'\n",
    "ckpt_dir = os.path.dirname(ckpt_path)\n",
    "\n",
    "ckpt_callback = tf.keras.callbacks.ModelCheckpoint(filepath=ckpt_path,\n",
    "                                                   save_weights_only=True,\n",
    "                                                   save_freq=3,\n",
    "                                                   verbose=False)"
   ]
  },
  {
   "cell_type": "code",
   "execution_count": 43,
   "metadata": {},
   "outputs": [
    {
     "name": "stdout",
     "output_type": "stream",
     "text": [
      "Model: \"model_2\"\n",
      "_________________________________________________________________\n",
      "Layer (type)                 Output Shape              Param #   \n",
      "=================================================================\n",
      "input_3 (InputLayer)         [(None, 12)]              0         \n",
      "_________________________________________________________________\n",
      "dense_6 (Dense)              (None, 16)                208       \n",
      "_________________________________________________________________\n",
      "dropout_2 (Dropout)          (None, 16)                0         \n",
      "_________________________________________________________________\n",
      "dense_7 (Dense)              (None, 8)                 136       \n",
      "_________________________________________________________________\n",
      "dense_8 (Dense)              (None, 1)                 9         \n",
      "=================================================================\n",
      "Total params: 353\n",
      "Trainable params: 353\n",
      "Non-trainable params: 0\n",
      "_________________________________________________________________\n"
     ]
    },
    {
     "data": {
      "text/plain": [
       "<tensorflow.python.keras.callbacks.History at 0x140ff6110>"
      ]
     },
     "execution_count": 43,
     "metadata": {},
     "output_type": "execute_result"
    }
   ],
   "source": [
    "model = build_and_compile_model()\n",
    "\n",
    "model.fit(dataset_train, \n",
    "          epochs=num_epochs, \n",
    "          validation_data=dataset_val,\n",
    "          verbose=False,\n",
    "          callbacks=[ckpt_callback])"
   ]
  },
  {
   "cell_type": "code",
   "execution_count": 44,
   "metadata": {},
   "outputs": [
    {
     "name": "stdout",
     "output_type": "stream",
     "text": [
      "checkpoint                              relu_64_weights.h5\r\n",
      "relu_64_config.json                     relu_64_weights.index\r\n",
      "\u001b[34mrelu_64_config_weights\u001b[m\u001b[m                  spine_classfication.data-00000-of-00001\r\n",
      "relu_64_weights.data-00000-of-00001     spine_classfication.index\r\n"
     ]
    }
   ],
   "source": [
    "!ls my_models/"
   ]
  },
  {
   "cell_type": "code",
   "execution_count": 45,
   "metadata": {},
   "outputs": [
    {
     "data": {
      "text/plain": [
       "0.7446808510638298"
      ]
     },
     "execution_count": 45,
     "metadata": {},
     "output_type": "execute_result"
    }
   ],
   "source": [
    "y_pred = model.predict(x_test)\n",
    "\n",
    "y_pred = np.where(y_pred>=0.5, 1, y_pred)\n",
    "y_pred = np.where(y_pred<0.5, 0, y_pred)\n",
    "\n",
    "accuracy_score(y_test, y_pred)"
   ]
  },
  {
   "cell_type": "code",
   "execution_count": 46,
   "metadata": {},
   "outputs": [
    {
     "name": "stdout",
     "output_type": "stream",
     "text": [
      "Model: \"model_3\"\n",
      "_________________________________________________________________\n",
      "Layer (type)                 Output Shape              Param #   \n",
      "=================================================================\n",
      "input_4 (InputLayer)         [(None, 12)]              0         \n",
      "_________________________________________________________________\n",
      "dense_9 (Dense)              (None, 16)                208       \n",
      "_________________________________________________________________\n",
      "dropout_3 (Dropout)          (None, 16)                0         \n",
      "_________________________________________________________________\n",
      "dense_10 (Dense)             (None, 8)                 136       \n",
      "_________________________________________________________________\n",
      "dense_11 (Dense)             (None, 1)                 9         \n",
      "=================================================================\n",
      "Total params: 353\n",
      "Trainable params: 353\n",
      "Non-trainable params: 0\n",
      "_________________________________________________________________\n"
     ]
    },
    {
     "data": {
      "text/plain": [
       "<tensorflow.python.training.tracking.util.CheckpointLoadStatus at 0x142b8e510>"
      ]
     },
     "execution_count": 46,
     "metadata": {},
     "output_type": "execute_result"
    }
   ],
   "source": [
    "reloaded_model = build_and_compile_model()\n",
    "\n",
    "reloaded_model.load_weights(ckpt_path)"
   ]
  },
  {
   "cell_type": "code",
   "execution_count": 47,
   "metadata": {},
   "outputs": [
    {
     "data": {
      "text/plain": [
       "0.7446808510638298"
      ]
     },
     "execution_count": 47,
     "metadata": {},
     "output_type": "execute_result"
    }
   ],
   "source": [
    "y_pred = reloaded_model.predict(x_test)\n",
    "\n",
    "y_pred = np.where(y_pred>=0.5, 1, y_pred)\n",
    "y_pred = np.where(y_pred<0.5, 0, y_pred)\n",
    "\n",
    "accuracy_score(y_test, y_pred)"
   ]
  },
  {
   "cell_type": "code",
   "execution_count": 48,
   "metadata": {},
   "outputs": [
    {
     "name": "stdout",
     "output_type": "stream",
     "text": [
      "Train for 14 steps, validate for 3 steps\n",
      "Epoch 1/5\n",
      "14/14 [==============================] - 4s 306ms/step - loss: 0.4886 - accuracy: 0.7444 - precision_3: 0.6667 - recall_3: 0.4384 - val_loss: 0.4376 - val_accuracy: 0.7750 - val_precision_3: 0.6667 - val_recall_3: 0.3636\n",
      "Epoch 2/5\n",
      "14/14 [==============================] - 0s 8ms/step - loss: 0.4901 - accuracy: 0.7534 - precision_3: 0.7045 - recall_3: 0.4247 - val_loss: 0.4337 - val_accuracy: 0.7500 - val_precision_3: 0.5714 - val_recall_3: 0.3636\n",
      "Epoch 3/5\n",
      "14/14 [==============================] - 0s 12ms/step - loss: 0.4842 - accuracy: 0.7758 - precision_3: 0.7170 - recall_3: 0.5205 - val_loss: 0.4281 - val_accuracy: 0.7500 - val_precision_3: 0.5714 - val_recall_3: 0.3636\n",
      "Epoch 4/5\n",
      "14/14 [==============================] - 0s 13ms/step - loss: 0.4761 - accuracy: 0.7489 - precision_3: 0.6735 - recall_3: 0.4521 - val_loss: 0.4272 - val_accuracy: 0.7500 - val_precision_3: 0.5714 - val_recall_3: 0.3636\n",
      "Epoch 5/5\n",
      "14/14 [==============================] - 0s 11ms/step - loss: 0.4815 - accuracy: 0.7623 - precision_3: 0.6852 - recall_3: 0.5068 - val_loss: 0.4250 - val_accuracy: 0.7500 - val_precision_3: 0.5714 - val_recall_3: 0.3636\n"
     ]
    },
    {
     "data": {
      "text/plain": [
       "<tensorflow.python.keras.callbacks.History at 0x142bd7f50>"
      ]
     },
     "execution_count": 48,
     "metadata": {},
     "output_type": "execute_result"
    }
   ],
   "source": [
    "reloaded_model.fit(dataset_train, \n",
    "                   epochs=5, \n",
    "                   validation_data=dataset_val)"
   ]
  },
  {
   "cell_type": "code",
   "execution_count": 49,
   "metadata": {},
   "outputs": [
    {
     "data": {
      "text/plain": [
       "0.7872340425531915"
      ]
     },
     "execution_count": 49,
     "metadata": {},
     "output_type": "execute_result"
    }
   ],
   "source": [
    "y_pred = reloaded_model.predict(x_test)\n",
    "\n",
    "y_pred = np.where(y_pred>=0.5, 1, y_pred)\n",
    "y_pred = np.where(y_pred<0.5, 0, y_pred)\n",
    "\n",
    "accuracy_score(y_test, y_pred)"
   ]
  },
  {
   "cell_type": "code",
   "execution_count": 50,
   "metadata": {},
   "outputs": [
    {
     "name": "stdout",
     "output_type": "stream",
     "text": [
      "Model: \"model_4\"\n",
      "_________________________________________________________________\n",
      "Layer (type)                 Output Shape              Param #   \n",
      "=================================================================\n",
      "input_5 (InputLayer)         [(None, 12)]              0         \n",
      "_________________________________________________________________\n",
      "dense_12 (Dense)             (None, 16)                208       \n",
      "_________________________________________________________________\n",
      "dropout_4 (Dropout)          (None, 16)                0         \n",
      "_________________________________________________________________\n",
      "dense_13 (Dense)             (None, 8)                 136       \n",
      "_________________________________________________________________\n",
      "dense_14 (Dense)             (None, 1)                 9         \n",
      "=================================================================\n",
      "Total params: 353\n",
      "Trainable params: 353\n",
      "Non-trainable params: 0\n",
      "_________________________________________________________________\n"
     ]
    }
   ],
   "source": [
    "model = build_and_compile_model()"
   ]
  },
  {
   "cell_type": "code",
   "execution_count": 53,
   "metadata": {},
   "outputs": [],
   "source": [
    "log_dir = \"logs/\" + datetime.datetime.now().strftime(\"%Y%m%d-%H%M%S\")\n",
    "\n",
    "tensorboard_callback = tf.keras.callbacks.TensorBoard(log_dir=log_dir, histogram_freq=1)"
   ]
  },
  {
   "cell_type": "code",
   "execution_count": 54,
   "metadata": {},
   "outputs": [
    {
     "data": {
      "text/plain": [
       "<tensorflow.python.keras.callbacks.History at 0x142f86390>"
      ]
     },
     "execution_count": 54,
     "metadata": {},
     "output_type": "execute_result"
    }
   ],
   "source": [
    "model.fit(dataset_train, \n",
    "          epochs=num_epochs, \n",
    "          validation_data=dataset_val,\n",
    "          verbose=False,\n",
    "          callbacks=[tensorboard_callback])"
   ]
  },
  {
   "cell_type": "code",
   "execution_count": 56,
   "metadata": {},
   "outputs": [],
   "source": [
    "%load_ext tensorboard"
   ]
  },
  {
   "cell_type": "code",
   "execution_count": null,
   "metadata": {},
   "outputs": [],
   "source": [
    "## TODO recording: Here within the Jupyter Notebook, just select the various tabs and show\n",
    "## what is in each tab. Scalars, graphs, distributions, histograms\n",
    "## Then switch over to the terminal window and run Tensorboard there"
   ]
  },
  {
   "cell_type": "code",
   "execution_count": 57,
   "metadata": {},
   "outputs": [
    {
     "data": {
      "text/html": [
       "\n",
       "      <iframe id=\"tensorboard-frame-6e443c8d4a008d1\" width=\"100%\" height=\"800\" frameborder=\"0\">\n",
       "      </iframe>\n",
       "      <script>\n",
       "        (function() {\n",
       "          const frame = document.getElementById(\"tensorboard-frame-6e443c8d4a008d1\");\n",
       "          const url = new URL(\"/\", window.location);\n",
       "          url.port = 6006;\n",
       "          frame.src = url;\n",
       "        })();\n",
       "      </script>\n",
       "  "
      ],
      "text/plain": [
       "<IPython.core.display.HTML object>"
      ]
     },
     "metadata": {},
     "output_type": "display_data"
    }
   ],
   "source": [
    "%tensorboard --logdir logs/"
   ]
  },
  {
   "cell_type": "code",
   "execution_count": null,
   "metadata": {},
   "outputs": [],
   "source": []
  },
  {
   "cell_type": "code",
   "execution_count": null,
   "metadata": {},
   "outputs": [],
   "source": []
  },
  {
   "cell_type": "code",
   "execution_count": null,
   "metadata": {},
   "outputs": [],
   "source": []
  },
  {
   "cell_type": "code",
   "execution_count": null,
   "metadata": {},
   "outputs": [],
   "source": []
  },
  {
   "cell_type": "code",
   "execution_count": null,
   "metadata": {},
   "outputs": [],
   "source": []
  },
  {
   "cell_type": "code",
   "execution_count": null,
   "metadata": {},
   "outputs": [],
   "source": []
  },
  {
   "cell_type": "code",
   "execution_count": null,
   "metadata": {},
   "outputs": [],
   "source": []
  }
 ],
 "metadata": {
  "kernelspec": {
   "display_name": "Python 3",
   "language": "python",
   "name": "python3"
  },
  "language_info": {
   "codemirror_mode": {
    "name": "ipython",
    "version": 3
   },
   "file_extension": ".py",
   "mimetype": "text/x-python",
   "name": "python",
   "nbconvert_exporter": "python",
   "pygments_lexer": "ipython3",
   "version": "3.7.4"
  }
 },
 "nbformat": 4,
 "nbformat_minor": 2
}
