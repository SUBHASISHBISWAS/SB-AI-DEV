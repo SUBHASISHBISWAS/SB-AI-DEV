{
 "cells": [
  {
   "cell_type": "code",
   "execution_count": 1,
   "metadata": {},
   "outputs": [],
   "source": [
    "'''\n",
    "## Reddit API:\n",
    "1. Go to https://www.reddit.com/prefs/apps\n",
    "2. Click \"create application\"\n",
    "3. Name: My Sentiment Example\n",
    "4. Choose script\n",
    "5. Leave *description* and *about url* blank\n",
    "6. Add http://www.example.com/unused/redirect/uri to *redirect uri*\n",
    "'''\n",
    "\n",
    "import openai\n",
    "import os\n",
    "import praw"
   ]
  },
  {
   "cell_type": "code",
   "execution_count": 2,
   "metadata": {},
   "outputs": [],
   "source": [
    "os.environ['reddit_client_id']='67zYzfBPiq5IBSG3s2svnA'\n",
    "os.environ['reddit_client_secret']='tmv6DbqdvWI234D6n64zRAS_8Olj8Q'"
   ]
  },
  {
   "cell_type": "code",
   "execution_count": 3,
   "metadata": {},
   "outputs": [],
   "source": [
    "reddit=praw.Reddit(client_id=os.getenv(\"reddit_client_id\"), \n",
    "                   client_secret=os.getenv(\"reddit_client_secret\"), \n",
    "                   user_agent='Sentiment Analysis')"
   ]
  },
  {
   "cell_type": "code",
   "execution_count": 4,
   "metadata": {},
   "outputs": [
    {
     "name": "stdout",
     "output_type": "stream",
     "text": [
      "Moronic Monday - August 08, 2023 - Your Weekly Questions Thread\n",
      "We are Wall Street Journal reporters covering the collapse of SVB. Ask us anything.\n",
      "China’s property crisis deepens as another huge developer risks default\n",
      "China tips into deflation as efforts to stoke recovery falter\n",
      "Moody's downgrades US banks, warns of possible cuts to others\n"
     ]
    }
   ],
   "source": [
    "'''\n",
    "We can now already use our reddit instance to obtain public information from reddit!\n",
    "'''\n",
    "for submission in reddit.subreddit('finance').hot(limit=5):\n",
    "    print(submission.title)"
   ]
  },
  {
   "cell_type": "code",
   "execution_count": 5,
   "metadata": {},
   "outputs": [],
   "source": [
    "subreddit_stocks = reddit.subreddit(\"stocks\")"
   ]
  },
  {
   "cell_type": "code",
   "execution_count": 6,
   "metadata": {},
   "outputs": [
    {
     "name": "stdout",
     "output_type": "stream",
     "text": [
      "stocks\n",
      "Stocks - Investing and trading for all\n",
      "4647\n"
     ]
    }
   ],
   "source": [
    "print(subreddit_stocks.display_name)\n",
    "print(subreddit_stocks.title)\n",
    "print(subreddit_stocks.accounts_active)"
   ]
  },
  {
   "cell_type": "code",
   "execution_count": 7,
   "metadata": {},
   "outputs": [
    {
     "name": "stdout",
     "output_type": "stream",
     "text": [
      "Rate My Portfolio - r/Stocks Quarterly Thread June 2023\n",
      "r/Stocks Daily Discussion & Options Trading Thursday - Aug 10, 2023\n",
      "Penn says that it expects to record a loss of between $800 million-$850 million on Barstool Sports. As Dave Portnoy buys it back for $1.\n",
      "Insiders keep selling Apple stocks and no one buying this year. Thoughts?\n",
      "Disney posts mixed results for quarter plagued by streaming woes, restructuring costs\n"
     ]
    }
   ],
   "source": [
    "for post in subreddit_stocks.hot(limit=5):\n",
    "    print(post.title)"
   ]
  },
  {
   "cell_type": "code",
   "execution_count": 8,
   "metadata": {},
   "outputs": [
    {
     "name": "stdout",
     "output_type": "stream",
     "text": [
      "13xchbr\n",
      "15n7irb\n",
      "15mvtnn\n",
      "15mwwsd\n",
      "15mqzak\n"
     ]
    }
   ],
   "source": [
    "for post in subreddit_stocks.hot(limit=5):\n",
    "    print(post.id)"
   ]
  },
  {
   "cell_type": "code",
   "execution_count": 9,
   "metadata": {},
   "outputs": [
    {
     "name": "stdout",
     "output_type": "stream",
     "text": [
      "Rate My Portfolio - r/Stocks Quarterly Thread June 2023\n",
      "ABBV- AbbVie Inc\n",
      "\n",
      "APD- Air Products & Chemicals, Inc.\n",
      "\n",
      "GOOGL- Alphabet Inc Class A\n",
      "\n",
      "AMZN - Amazon.com, Inc.\n",
      "\n",
      "AWK - American Water Works Company Inc\n",
      "\n",
      "ADSK - Autodesk Inc\n",
      "\n",
      "BRK.B - Berkshire Hathaway Inc Class B\n",
      "\n",
      "CHTR - Charter Communications Inc\n",
      "\n",
      "COST - Costco Wholesale Corporation\n",
      "\n",
      "CCI -Crown Castle Inc\n",
      "\n",
      "DG - Dollar General Corp\n",
      "\n",
      "HSY - Hershey Co\n",
      "\n",
      "INTC - Intel Corporation\n",
      "\n",
      "IP - International Paper Co\n",
      "\n",
      "LOW - Lowe's Companies Inc\n",
      "\n",
      "MA - Mastercard Inc\n",
      "\n",
      "MSFT - Microsoft Corp\n",
      "\n",
      "PGR - Progressive Corp\n",
      "\n",
      "PLD - Prologis Inc\n",
      "\n",
      "PSA - Public Storage\n",
      "\n",
      "VALE - Vale SA\n",
      "\n",
      "WBA - Walgreens Boots Alliance Inc\n",
      "\n",
      "WM - Waste Management, Inc.\n",
      "Let me know what you think about my portfolio. Trying to stay away from the sectors I don't know and increase diversity by investing VOO and QQQ ETFs  \n",
      "\n",
      "\n",
      "17.39% AAPL\n",
      "\n",
      "13.86% GOOGL\n",
      "\n",
      "26.31% VOO\n",
      "\n",
      "12.63% BAC\n",
      "\n",
      "04.99% TQQQ\n",
      "\n",
      "11.47% AMZN\n",
      "\n",
      "13.37% QQQM\n",
      "r/Stocks Daily Discussion & Options Trading Thursday - Aug 10, 2023\n",
      "AIT earnings\n",
      "\n",
      "Fourth Quarter Net Sales of $1.2 Billion Up 9.1% YoY; Up 8.6% on an Organic Basis\n",
      "\n",
      "Fourth Quarter Net Income of $92.2 Million, or $2.35 Per Share Up 16.1% YoY\n",
      "\n",
      "Fourth Quarter EBITDA of $140.0 Million Up 16.7% YoY\n",
      "\n",
      "Full-Year Net Sales of $4.4 Billion Up 15.8% YoY; Up 15.7% on an Organic Basis\n",
      "\n",
      "Full-Year Net Income of $346.7 Million, or $8.84 Per Share\n",
      "\n",
      "Full-Year Adjusted Net Income of $343.1 Million, or $8.75 Per Share Up 32.9% YoY\n",
      "\n",
      "Full-Year EBITDA of $524.5 Million Up 28.1% YoY\n",
      "August and September are seasonally low months,\n",
      "\n",
      "CPI is just noise. GDP for Q3 is predicted to be 4.2%. CPI will be 2% by 2024 \n",
      "\n",
      "SPY will be $500 by December.\n",
      "Penn says that it expects to record a loss of between $800 million-$850 million on Barstool Sports. As Dave Portnoy buys it back for $1.\n",
      "Having ESPN involved with gambling seems really odd.\n",
      "So they really own 50% of barstool but wrote it completely off the books. Huh, am I right?\n",
      "Insiders keep selling Apple stocks and no one buying this year. Thoughts?\n",
      "How many shares does SHE still have? I don’t think it means anything. She’s been with apple since 1988. You gotta cash out out some shares every now and then to pay the bills or buy a boat\n",
      "Companies that grant stock to employees tend not to have insider buys.\n",
      "Disney posts mixed results for quarter plagued by streaming woes, restructuring costs\n",
      "PayPal - All of our metrics are up, we are losing some users. We’re looking for a new ceo to take company forward in a new direction.\n",
      "\n",
      "Stock drops 12%\n",
      "\n",
      "Disney - We are literally burning all of our cash. \n",
      "\n",
      "Stock jumps 3%\n",
      "Puts I wrote at 90 are now out of the money, I dont think it will go lower than the 80s\n"
     ]
    }
   ],
   "source": [
    "for post in subreddit_stocks.hot(limit=5):\n",
    "    # Get title for each post\n",
    "    print(post.title)\n",
    "    # Get comments for each post\n",
    "    submission = reddit.submission(post.id)\n",
    "    c = 0\n",
    "    #  Get comments for each post and print them out for top 2 comments\n",
    "    for comment in submission.comments:\n",
    "        comment = comment.body\n",
    "        if not comment == \"[deleted]\":\n",
    "            print(comment)\n",
    "            c+=1\n",
    "        if c == 2:\n",
    "            break"
   ]
  },
  {
   "cell_type": "code",
   "execution_count": 11,
   "metadata": {},
   "outputs": [
    {
     "data": {
      "text/plain": [
       "<bound method BaseListingMixin.hot of Subreddit(display_name='stocks')>"
      ]
     },
     "execution_count": 11,
     "metadata": {},
     "output_type": "execute_result"
    }
   ],
   "source": [
    "#\n",
    "getattr(subreddit_stocks, \"hot\")"
   ]
  },
  {
   "cell_type": "code",
   "execution_count": 10,
   "metadata": {},
   "outputs": [],
   "source": [
    "# get titles and comments from reddit\n",
    "def get_titles_and_comments(subreddit=\"stocks\", sub_instance=\"hot\", limit=5, num_comments=2, skip_first=2):\n",
    "    \n",
    "    subreddit = reddit.subreddit(subreddit)\n",
    "    titles_and_comments = {}\n",
    "    for c, post in enumerate(getattr(subreddit, sub_instance)(limit=limit)):\n",
    "        # skip first 2 posts\n",
    "        if c < skip_first:\n",
    "            continue\n",
    "        # adjust counter to account for skipped posts\n",
    "        c+=(1-skip_first)\n",
    "        \n",
    "        titles_and_comments[c] = \"\"\n",
    "        # get submission\n",
    "        submission = reddit.submission(post.id)\n",
    "        # get title\n",
    "        title = post.title\n",
    "    \n",
    "        titles_and_comments[c] += \"Title: \" + title  + \"\\n\\n\"\n",
    "        titles_and_comments[c] += \"Comments: \\n\\n\"\n",
    "        \n",
    "        \n",
    "        comment_counter = 0\n",
    "        for comment in submission.comments:\n",
    "            comment = comment.body\n",
    "            if not comment == \"[deleted]\":\n",
    "                titles_and_comments[c] += comment + \"\\n\"\n",
    "                comment_counter+=1\n",
    "            if comment_counter == num_comments:\n",
    "                break\n",
    "\n",
    "    return titles_and_comments"
   ]
  },
  {
   "cell_type": "code",
   "execution_count": 12,
   "metadata": {},
   "outputs": [],
   "source": [
    "titles_and_comments = get_titles_and_comments(subreddit=\"stocks\", limit=5)"
   ]
  },
  {
   "cell_type": "code",
   "execution_count": 13,
   "metadata": {},
   "outputs": [
    {
     "name": "stdout",
     "output_type": "stream",
     "text": [
      "Title: Insiders keep selling Apple stocks and no one buying this year. Thoughts?\n",
      "\n",
      "Comments: \n",
      "\n",
      "How many shares does SHE still have? I don’t think it means anything. She’s been with apple since 1988. You gotta cash out out some shares every now and then to pay the bills or buy a boat\n",
      "Companies that grant stock to employees tend not to have insider buys.\n",
      "\n"
     ]
    }
   ],
   "source": [
    "print(titles_and_comments[2])"
   ]
  },
  {
   "cell_type": "code",
   "execution_count": 14,
   "metadata": {},
   "outputs": [],
   "source": [
    "def create_prompt(title_and_comments):\n",
    "\n",
    "    task = \"Return the stock ticker or company in the following heading and comments and classify the sentiment. If no ticker or company is mentioned write 'No company mentioned':\\n\\n\"\n",
    "    return task + title_and_comments"
   ]
  },
  {
   "cell_type": "code",
   "execution_count": 15,
   "metadata": {},
   "outputs": [],
   "source": [
    "prompt = create_prompt(titles_and_comments[1])"
   ]
  },
  {
   "cell_type": "code",
   "execution_count": 16,
   "metadata": {},
   "outputs": [
    {
     "name": "stdout",
     "output_type": "stream",
     "text": [
      "Return the stock ticker or company in the following heading and comments and classify the sentiment. If no ticker or company is mentioned write 'No company mentioned':\n",
      "\n",
      "Title: Penn says that it expects to record a loss of between $800 million-$850 million on Barstool Sports. As Dave Portnoy buys it back for $1.\n",
      "\n",
      "Comments: \n",
      "\n",
      "Having ESPN involved with gambling seems really odd.\n",
      "They structured it to get a tax loss against the asset.\n",
      "\n",
      "But if portnoy sells it again; they get half of gross.\n",
      "\n"
     ]
    }
   ],
   "source": [
    "print(prompt)"
   ]
  },
  {
   "cell_type": "code",
   "execution_count": 17,
   "metadata": {},
   "outputs": [],
   "source": [
    "openai.api_key=os.getenv(\"OPENAI_API_KEY\")"
   ]
  },
  {
   "cell_type": "code",
   "execution_count": 19,
   "metadata": {},
   "outputs": [
    {
     "name": "stdout",
     "output_type": "stream",
     "text": [
      "Title: Penn says that it expects to record a loss of between $800 million-$850 million on Barstool Sports. As Dave Portnoy buys it back for $1.\n",
      "\n",
      "Comments: \n",
      "\n",
      "Having ESPN involved with gambling seems really odd.\n",
      "They structured it to get a tax loss against the asset.\n",
      "\n",
      "But if portnoy sells it again; they get half of gross.\n",
      "\n",
      "Sentiment: \n",
      "Ticker/Company: Penn \n",
      "Sentiment: Neutral\n",
      "----------------------------------------------------------------------------------------------------\n",
      "Title: Insiders keep selling Apple stocks and no one buying this year. Thoughts?\n",
      "\n",
      "Comments: \n",
      "\n",
      "How many shares does SHE still have? I don’t think it means anything. She’s been with apple since 1988. You gotta cash out out some shares every now and then to pay the bills or buy a boat\n",
      "Companies that grant stock to employees tend not to have insider buys.\n",
      "\n",
      "Sentiment: \n",
      "Company: Apple\n",
      "Sentiment: Neutral\n",
      "----------------------------------------------------------------------------------------------------\n",
      "Title: Disney posts mixed results for quarter plagued by streaming woes, restructuring costs\n",
      "\n",
      "Comments: \n",
      "\n",
      "PayPal - All of our metrics are up, we are losing some users. We’re looking for a new ceo to take company forward in a new direction.\n",
      "\n",
      "Stock drops 12%\n",
      "\n",
      "Disney - We are literally burning all of our cash. \n",
      "\n",
      "Stock jumps 3%\n",
      "Puts I wrote at 90 are now out of the money, I dont think it will go lower than the 80s\n",
      "\n",
      "Sentiment: \n",
      "Disney - Negative sentiment\n",
      "----------------------------------------------------------------------------------------------------\n"
     ]
    }
   ],
   "source": [
    "for key, title_and_comments in titles_and_comments.items():\n",
    "    \n",
    "    prompt = create_prompt(title_and_comments)\n",
    "    \n",
    "    response = openai.Completion.create(engine=\"text-davinci-003\",\n",
    "                                                prompt=prompt,\n",
    "                                                max_tokens=256,\n",
    "                                                temperature=0,\n",
    "                                                top_p=1.0,\n",
    "                                                frequency_penalty=0.0,\n",
    "                                                presence_penalty=0.0)\n",
    "    print(title_and_comments)\n",
    "    print(\"Sentiment: \" + response[\"choices\"][0][\"text\"])\n",
    "    print(\"-\"*100)"
   ]
  },
  {
   "cell_type": "code",
   "execution_count": null,
   "metadata": {},
   "outputs": [],
   "source": []
  }
 ],
 "metadata": {
  "kernelspec": {
   "display_name": "ML",
   "language": "python",
   "name": "python3"
  },
  "language_info": {
   "codemirror_mode": {
    "name": "ipython",
    "version": 3
   },
   "file_extension": ".py",
   "mimetype": "text/x-python",
   "name": "python",
   "nbconvert_exporter": "python",
   "pygments_lexer": "ipython3",
   "version": "3.10.9"
  },
  "orig_nbformat": 4
 },
 "nbformat": 4,
 "nbformat_minor": 2
}
