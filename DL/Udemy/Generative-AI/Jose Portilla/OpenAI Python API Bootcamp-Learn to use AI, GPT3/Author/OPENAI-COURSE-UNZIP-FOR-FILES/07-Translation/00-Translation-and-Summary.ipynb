{
 "cells": [
  {
   "cell_type": "markdown",
   "id": "bb083985",
   "metadata": {},
   "source": [
    "<a href = \"https://www.pieriantraining.com\"><img src=\"../PT Centered Purple.png\"> </a>\n",
    "\n",
    "<em style=\"text-align:center\">Copyrighted by Pierian Training</em>"
   ]
  },
  {
   "cell_type": "markdown",
   "id": "60a90ab6",
   "metadata": {},
   "source": [
    "## Translation and Summary of Foreign News\n",
    "\n",
    "The goal of this project will be to get a summary of news in foreign countries by automatically scraping a newspapers headlines or articles, and then translating the text with OpenAI and also providing a summary format.\n",
    "\n",
    "### Data (Web Scraping)\n",
    "\n",
    "Let's explore how we could set-up a scraping job (note this has its limits, not every website can be easily scraped, your results may vary on other newpaper sites)."
   ]
  },
  {
   "cell_type": "code",
   "execution_count": 1,
   "id": "890be8ea",
   "metadata": {},
   "outputs": [],
   "source": [
    "import requests\n",
    "import bs4"
   ]
  },
  {
   "cell_type": "code",
   "execution_count": 27,
   "id": "63b25c13",
   "metadata": {},
   "outputs": [],
   "source": [
    "# This is just a limited example dictionary\n",
    "# As each website is different, this gets harder with more countries!\n",
    "country_newspapers = {\"Spain\":'https://elpais.com/', \n",
    "                       \"France\":\"https://www.lemonde.fr/\"\n",
    "                     }"
   ]
  },
  {
   "cell_type": "code",
   "execution_count": 5,
   "id": "ba997951",
   "metadata": {},
   "outputs": [
    {
     "name": "stdout",
     "output_type": "stream",
     "text": [
      "What country are you interested in for a news summary? France\n"
     ]
    }
   ],
   "source": [
    "# Note how \n",
    "country = input(\"What country are you interested in for a news summary? \")"
   ]
  },
  {
   "cell_type": "code",
   "execution_count": 6,
   "id": "f2b6191b",
   "metadata": {},
   "outputs": [],
   "source": [
    "url = country_newspapers[country]"
   ]
  },
  {
   "cell_type": "code",
   "execution_count": 7,
   "id": "e28f81f8",
   "metadata": {},
   "outputs": [
    {
     "data": {
      "text/plain": [
       "'https://www.lemonde.fr/'"
      ]
     },
     "execution_count": 7,
     "metadata": {},
     "output_type": "execute_result"
    }
   ],
   "source": [
    "url"
   ]
  },
  {
   "cell_type": "code",
   "execution_count": 8,
   "id": "6107eba0",
   "metadata": {},
   "outputs": [],
   "source": [
    "result = requests.get(url)"
   ]
  },
  {
   "cell_type": "markdown",
   "id": "8ed0168b",
   "metadata": {},
   "source": [
    "### Parsing HTML "
   ]
  },
  {
   "cell_type": "code",
   "execution_count": 11,
   "id": "ab794597",
   "metadata": {},
   "outputs": [],
   "source": [
    "soup = bs4.BeautifulSoup(result.text,\"lxml\")"
   ]
  },
  {
   "cell_type": "code",
   "execution_count": 13,
   "id": "df039aa7",
   "metadata": {},
   "outputs": [
    {
     "data": {
      "text/plain": [
       "[<p class=\"article__title-label\">Dans la bataille de l’accès aux soins, le gouvernement face à la colère des médecins</p>,\n",
       " <span class=\"article__title-label\">Pourquoi les prix de l’électricité s’envolent (et ne devraient pas redescendre)</span>,\n",
       " <span class=\"article__title-label\">Les pompes à chaleur sont-elles le futur du chauffage ?</span>,\n",
       " <span class=\"article__title-label\">« Moi, général de Gaulle » : l’appel du 18-Juin peut-il être reconstitué ?</span>,\n",
       " <span class=\"article__title-label\">Les images des séismes qui ont tué des milliers de personnes en Syrie et en Turquie</span>]"
      ]
     },
     "execution_count": 13,
     "metadata": {},
     "output_type": "execute_result"
    }
   ],
   "source": [
    "# France Le Monde\n",
    "soup.select('.article__title-label')"
   ]
  },
  {
   "cell_type": "markdown",
   "id": "833c5bba",
   "metadata": {},
   "source": [
    "Clearly, this won't be the same title tag for Spain's El Pais, let's quickly test that out, then we can recombine these tags into the dictionary to simplify and have all the information in one location."
   ]
  },
  {
   "cell_type": "code",
   "execution_count": 29,
   "id": "7a5dd616",
   "metadata": {},
   "outputs": [],
   "source": [
    "spain_results = requests.get('https://elpais.com/')\n",
    "soup = bs4.BeautifulSoup(spain_results.text,\"lxml\")"
   ]
  },
  {
   "cell_type": "code",
   "execution_count": 30,
   "id": "1efd1707",
   "metadata": {},
   "outputs": [
    {
     "data": {
      "text/plain": [
       "123"
      ]
     },
     "execution_count": 30,
     "metadata": {},
     "output_type": "execute_result"
    }
   ],
   "source": [
    "len(soup.select('.c_t'))"
   ]
  },
  {
   "cell_type": "code",
   "execution_count": 32,
   "id": "6c69c109",
   "metadata": {},
   "outputs": [
    {
     "data": {
      "text/plain": [
       "[<h2 class=\"c_t\"><a href=\"/internacional/2023-02-13/haiti-se-deshace.html\">Haití se deshace</a></h2>,\n",
       " <h2 class=\"c_t c_t-sm\"><a href=\"/internacional/2023-02-13/los-presos-politicos-buscan-una-casa-de-acogida-en-el-destierro-en-estados-unidos.html\"><span class=\"c_t_i c_t_i-s _pr\" name=\"elpais_ico\"></span>Los presos políticos buscan una casa de acogida en el destierro en EE UU</a></h2>,\n",
       " <h2 class=\"c_t\"><a href=\"/america-colombia/2023-02-13/el-gobierno-de-colombia-y-el-eln-buscan-en-mexico-un-cese-al-fuego-permanente-que-haga-despegar-el-proceso-de-paz.html\">El Gobierno de Colombia y el ELN buscan en México un cese al fuego permanente que haga despegar el proceso de paz</a></h2>]"
      ]
     },
     "execution_count": 32,
     "metadata": {},
     "output_type": "execute_result"
    }
   ],
   "source": [
    "soup.select('.c_t')[:3]"
   ]
  },
  {
   "cell_type": "markdown",
   "id": "ee48927b",
   "metadata": {},
   "source": [
    "#### Grabbing Text\n",
    "\n",
    "Now we just need to figure out how to grab these headlines text:"
   ]
  },
  {
   "cell_type": "code",
   "execution_count": 33,
   "id": "11670333",
   "metadata": {},
   "outputs": [
    {
     "name": "stdout",
     "output_type": "stream",
     "text": [
      "Haití se deshace\n",
      "Los presos políticos buscan una casa de acogida en el destierro en EE UU\n",
      "El Gobierno de Colombia y el ELN buscan en México un cese al fuego permanente que haga despegar el proceso de paz\n"
     ]
    }
   ],
   "source": [
    "for tag in soup.select('.c_t')[:3]:\n",
    "    print(tag.getText())"
   ]
  },
  {
   "cell_type": "markdown",
   "id": "50bca2d9",
   "metadata": {},
   "source": [
    "### Combining Dictionary Tag Title and URL"
   ]
  },
  {
   "cell_type": "code",
   "execution_count": 34,
   "id": "0ab3ab5a",
   "metadata": {},
   "outputs": [],
   "source": [
    "# \"Country\" : (URL,HTML_TAG)\n",
    "country_newspapers = {\"Spain\":('https://elpais.com/','.c_t'), \n",
    "                       \"France\":(\"https://www.lemonde.fr/\",'.article__title-label')\n",
    "                     }"
   ]
  },
  {
   "cell_type": "markdown",
   "id": "979cda17",
   "metadata": {},
   "source": [
    "## Translation via OpenAI"
   ]
  },
  {
   "cell_type": "code",
   "execution_count": 51,
   "id": "f07ccd93",
   "metadata": {},
   "outputs": [],
   "source": [
    "def create_prompt():\n",
    "    # Get Country\n",
    "    country = input(\"What country would you like a news summary for? \")\n",
    "    # Get country's URL newspaper and the HTML Tag for titles\n",
    "    try:\n",
    "        url,tag = country_newspapers[country]\n",
    "    except:\n",
    "        print(\"Sorry that country is not supported!\")\n",
    "        return\n",
    "    \n",
    "    # Scrape the Website\n",
    "    results = requests.get(url)\n",
    "    soup = bs4.BeautifulSoup(results.text,\"lxml\")\n",
    "    \n",
    "    # Grab all the text\n",
    "    country_headlines = ''\n",
    "    for item in soup.select(tag)[:3]:\n",
    "        country_headlines += item.getText()+'\\n'\n",
    "        \n",
    "    prompt = \"Detect the language of the news headlines below, then translate a summary of the headlines to English in a conversational tone:\\n\"\n",
    "    return prompt + country_headlines"
   ]
  },
  {
   "cell_type": "code",
   "execution_count": 52,
   "id": "cc9f48b2",
   "metadata": {},
   "outputs": [
    {
     "name": "stdout",
     "output_type": "stream",
     "text": [
      "What country would you like a news summary for? Spain\n"
     ]
    }
   ],
   "source": [
    "prompt = create_prompt()"
   ]
  },
  {
   "cell_type": "code",
   "execution_count": 53,
   "id": "fe9943e4",
   "metadata": {},
   "outputs": [
    {
     "name": "stdout",
     "output_type": "stream",
     "text": [
      "Detect the language of the news headlines below, then translate a summary of the headlines to English in a conversational tone:\n",
      "Haití se deshace\n",
      "Los presos políticos buscan una casa de acogida en el destierro en EE UU\n",
      "El Gobierno de Colombia y el ELN buscan en México un cese al fuego permanente que haga despegar el proceso de paz\n",
      "\n"
     ]
    }
   ],
   "source": [
    "print(prompt)"
   ]
  },
  {
   "cell_type": "code",
   "execution_count": 37,
   "id": "a2e77339",
   "metadata": {},
   "outputs": [],
   "source": [
    "import os\n",
    "import openai\n",
    "\n",
    "openai.api_key = os.getenv(\"OPENAI_API_KEY\")"
   ]
  },
  {
   "cell_type": "code",
   "execution_count": 54,
   "id": "efa2b618",
   "metadata": {},
   "outputs": [],
   "source": [
    "response = openai.Completion.create(\n",
    "  model=\"text-davinci-003\",\n",
    "  prompt=prompt,\n",
    "  temperature=0.1, # Helps conversational tone a bit, optional\n",
    "  max_tokens=200,\n",
    "  top_p=1.0,\n",
    "  frequency_penalty=0.0,\n",
    "  presence_penalty=0.0\n",
    ")"
   ]
  },
  {
   "cell_type": "code",
   "execution_count": 56,
   "id": "973dab45",
   "metadata": {},
   "outputs": [
    {
     "name": "stdout",
     "output_type": "stream",
     "text": [
      "\n",
      "Language: Spanish\n",
      "\n",
      "The situation in Haiti is deteriorating. Political prisoners are seeking refuge in the United States. The Colombian government and the ELN are looking to Mexico for a permanent ceasefire that will help the peace process move forward.\n"
     ]
    }
   ],
   "source": [
    "print(response['choices'][0]['text'])"
   ]
  }
 ],
 "metadata": {
  "kernelspec": {
   "display_name": "Python 3 (ipykernel)",
   "language": "python",
   "name": "python3"
  },
  "language_info": {
   "codemirror_mode": {
    "name": "ipython",
    "version": 3
   },
   "file_extension": ".py",
   "mimetype": "text/x-python",
   "name": "python",
   "nbconvert_exporter": "python",
   "pygments_lexer": "ipython3",
   "version": "3.9.12"
  }
 },
 "nbformat": 4,
 "nbformat_minor": 5
}
