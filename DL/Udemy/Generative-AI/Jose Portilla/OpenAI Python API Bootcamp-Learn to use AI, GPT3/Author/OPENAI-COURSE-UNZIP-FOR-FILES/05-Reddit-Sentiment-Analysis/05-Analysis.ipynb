{
 "cells": [
  {
   "cell_type": "markdown",
   "id": "3bb769e0",
   "metadata": {},
   "source": [
    "<a href = \"https://www.pieriantraining.com\"><img src=\"../PT Centered Purple.png\"> </a>\n",
    "\n",
    "<em style=\"text-align:center\">Copyrighted by Pierian Training</em>"
   ]
  },
  {
   "cell_type": "markdown",
   "id": "50ef79d9",
   "metadata": {},
   "source": [
    "## Reddit API:\n",
    "1. Go to https://www.reddit.com/prefs/apps\n",
    "2. Click \"create application\"\n",
    "3. Name: My Sentiment Example\n",
    "4. Choose script\n",
    "5. Leave *description* and *about url* blank\n",
    "6. Add http://www.example.com/unused/redirect/uri to *redirect uri*"
   ]
  },
  {
   "cell_type": "markdown",
   "id": "0c82159c",
   "metadata": {},
   "source": [
    "## Imports"
   ]
  },
  {
   "cell_type": "code",
   "execution_count": 1,
   "id": "3f8439a1",
   "metadata": {},
   "outputs": [],
   "source": [
    "import praw\n",
    "import openai"
   ]
  },
  {
   "cell_type": "code",
   "execution_count": 2,
   "id": "99e65c62",
   "metadata": {},
   "outputs": [],
   "source": [
    "reddit = praw.Reddit(client_id=\"TODO\", # the App ID retreived from the reddit application\n",
    "                     client_secret=\"TODO\", # the secret retreived from the reddit application\n",
    "                     user_agent=\"sentiment analysis test (by u/YourUserName)\"  # add your reddit name\n",
    "                    )"
   ]
  },
  {
   "cell_type": "markdown",
   "id": "7a3cbf37",
   "metadata": {},
   "source": [
    "We can now already use our reddit instance to obtain public information from reddit!"
   ]
  },
  {
   "cell_type": "code",
   "execution_count": 3,
   "id": "239d2340",
   "metadata": {},
   "outputs": [
    {
     "name": "stdout",
     "output_type": "stream",
     "text": [
      "test\n",
      "test\n",
      "Test\n",
      "This is a test 1̶̳͖̍̂1̵̢͍͆1̴̫̚1̵͕̕1̶͖͎͋̊1̷̢͇͑̄1̵̢̱̈́1̷̖̐͝ͅ1̶͎̈́͊1̶̩̆̓1̶̺̀̉1̶̺̟̀͝1̸͈̐1̸͖̆1̷̭̋̔1̸̺̾1̸̢̃͠1̸̗̿̾1̶̨̖̌1̸̜̓͜\n",
      "This is a test\n",
      "This is a test\n",
      "What are you doing? | Nafantik 🐾\n",
      "-\n",
      "Test\n",
      "test from client\n"
     ]
    }
   ],
   "source": [
    "for submission in reddit.subreddit(\"test\").hot(limit=10):\n",
    "    print(submission.title)\n"
   ]
  },
  {
   "cell_type": "markdown",
   "id": "d96e40a7",
   "metadata": {},
   "source": [
    "Of course we want to access hot subreddits like r/wallstreetbets or r/stocks"
   ]
  },
  {
   "cell_type": "code",
   "execution_count": 4,
   "id": "e2ba3e2c",
   "metadata": {},
   "outputs": [],
   "source": [
    "subreddit_stocks = reddit.subreddit(\"stocks\")"
   ]
  },
  {
   "cell_type": "code",
   "execution_count": 5,
   "id": "4978a90b",
   "metadata": {},
   "outputs": [
    {
     "name": "stdout",
     "output_type": "stream",
     "text": [
      "stocks\n",
      "Stocks - Investing and trading for all\n",
      "5977\n"
     ]
    }
   ],
   "source": [
    "print(subreddit_stocks.display_name)\n",
    "print(subreddit_stocks.title)\n",
    "print(subreddit_stocks.accounts_active)"
   ]
  },
  {
   "cell_type": "markdown",
   "id": "9ca002e6",
   "metadata": {},
   "source": [
    "Let's say we want to access the first 5 hot posts and three most upvoted comments:"
   ]
  },
  {
   "cell_type": "code",
   "execution_count": 6,
   "id": "8c56d721",
   "metadata": {},
   "outputs": [
    {
     "name": "stdout",
     "output_type": "stream",
     "text": [
      "Rate My Portfolio - r/Stocks Quarterly Thread December 2022\n",
      "Brokerage account:\n",
      "\n",
      "69% Vanguard FTSE All-World ETF ( +1% on invested capital).\n",
      "\n",
      "31% GOOGL (+7% on invested capital).\n",
      "\n",
      "A bit nervous about GOOGL. Might sell some shares and buy more ETF.\n",
      "Overall: \n",
      "\n",
      "30% VOO 30% BRK.B 40% Individual Stocks \n",
      "\n",
      "Individual Picks: \n",
      "AAPL\n",
      "MSFT\n",
      "SBUX\n",
      "NFLX\n",
      "SHOP\n",
      "NKE\n",
      "FB\n",
      "GOOG\n",
      "NVDA\n",
      "/r/Stocks Weekend Discussion Saturday - Feb 04, 2023\n",
      "First\n",
      "Musk found not liable in securities class action suit\n",
      "This investor has suffered so much harm. Stock up only 800% since that fraud tweet. \n",
      "\n",
      "So much irreparable damage.\n",
      "No dog in this fight outside of owning tesla shares indirectly from index funds, but what would stop a company, say Jones Soda (JSDA) from saying Saudi Arabia wants to take them private at a 30% premium. \n",
      "\n",
      "Does this jury verdict reset what the norm is for corporate finance- from an adjudicating stand point? Being able to tweet/email/DM that you're being purchased to increase market cap with no repercussions?\n",
      "December jobs blowout: +517k added (vs +187k expected); unemployment rate hits 3.4%\n",
      "Insane... Even in a high rates environment\n",
      "\n",
      "I wonder how the fed responds in medium term\n",
      "Holy balls lol\n",
      "Amazon, Meta, Alphabet, and Microsoft will incur $10B+ in charges related to job cuts, etc. Market caps up $800bn.\n",
      "Unreadable garbage post\n",
      "Thx for the copy paste. Anything to add?\n",
      "Argument about Amazon reinvesting everything\n",
      "At any point so far in its history, Amazon could have completely stopped reinvesting and simply watched the cash roll in with no further growth. In order to answer whether it's been wise to do it the way they've done it, just look at the numbers.\n",
      "\n",
      "2009: 24 billion revenue\n",
      "\n",
      "2016: 135 billion revenue\n",
      "\n",
      "2021: 470 billion revenue\n",
      "\n",
      "Assuming a flat 10% margin, choosing to reinvest and build their business results in 20 times the profit in 2021 vs 2009. And that is actually insanely conservative considering the real story is that they had no profit in 2009, and their margins in 2021 would be far better than 10% if they did not reinvest.\n",
      "\n",
      "They could stop growth in its tracks right now and produce 10's of billions in pure profit per year. How anyone could question their strategy thus far is ridiculous. They've knocked it out of the park, creating insane wealth and even brand new sectors in commerce. Historically, there are very few businesses ever who have been this successful, this smart with capital, and produced this degree of wealth for shareholders.\n",
      "All I know is that if they ever do stop reinvesting, I’m going to be collecting a fat dividend.\n",
      "The only time higher employment growth was reported before a recession was in 1973\n",
      "We wont know some of the effects of the increase of inflation and interest rates until Q2 2023. We are seeing euphoria at the moment because Fed predictably rose 25bps and some companies are doing better than expected. There is still an excess of money on the economy and supply is still trying to go back to normal from the Covid crash. Also past events don't correlate to future events.\n",
      "Was there a pandemic in 1971 and 1972?   No, so high employment growth in 1973 before a recession is not comparable.\n",
      "So WHY doesn't Adani sue Hindenburg.. ?\n",
      "Who did Enron sue?\n",
      "Indian courts are notoriously slow to bring cases to trial with many taking 20 years or more.  Filing in federal court in the U.S. would expose him to U.S. court discovery requirements meaning handing over all corporate records for forensic analysis since he is the plaintiff claiming defamation and \"truth is an absolute defense to defamation.\"\n",
      "\n",
      "I wouldn't do either if I was him.  The damage is done.\n",
      "Is it time to go long on Nat Gas?\n",
      "Nat gas trades are generally called Widow marker trades for a reason. No one in Sep-Oct last year thought it will crash in such a spectacular way by only Dec-Jan in middle of the winter.\n",
      "If you want to go long, atleast it will better to use UNG than BOIL. BOIL being leveraged will decay a lot every passing day you hold. Natgas will spike someday, nobody is just exactly not sure, when.\n",
      "Lng futures are still dropping, which will show up in the next couple earnings reports.  Patience.\n",
      "Large funds and call options\n",
      "5 Dividend Stocks with 7%+ Yield Wall Street Analysts Recommend\n",
      "EPD is a good stock, I've owned it in the past, but just providing some basic information that EPD is not an \"ordinary shares\" stock, it is a MLP (Master-Limited Partnership) and will require a K-1 form when filling taxes, which can be extra hassle when it comes tax time if that matters to anyone.\n",
      "Stellantis is a car manufacturer, the outcome of the merge between FCA and PSA\n",
      "Wall Street Week Ahead for the trading week beginning February 6th, 2023\n",
      "thank you\n",
      "Thanks\n",
      "How Big Can Big Tech Get?\n",
      "You ask an excellent question. Here are a couple of things to think about. \n",
      "\n",
      "1. It’s helpful to look at these companies as conglomerates of smaller companies. For example, Microsoft has businesses like LinkedIn, Office, Windows, Azure, Xbox. Easier to envision growth when you think in terms of smaller divisions than trillion dollar companies as a whole. \n",
      "\n",
      "2. Big Tech has significant international presence with plenty of potential in emerging markets around the world. As income rises and the middle class gets larger, companies like Google will benefit from increased usage of their services and increased advertising demand. There’s a long runway ahead in places like India and Africa.\n",
      "Regardless of your question your investment strategy is insane. Just double down 200 grand on a single stock at a point in time? Is this your only investing?\n",
      "Sony is crushing Microsoft in gaming. Xbox hardware -13%, Services -12%, Revenue -13%, PS hardware +46%, Services +19%, Revenue +53%\n",
      "I don't think Microsoft really cares as much as Sony to be honest. I mean they obviously want to make more money from Xbox, but like, gaming is just a tad under 50% of Sony's revenue, whereas it's like 10% of Microsoft's revenue. Microsoft has far greater ambitions. Plus as others have pointed out, the Xbox really is just a segue device into getting a proper PC, or a PC-lite way of gaming for Microsoft's ecosystem. Sony has no equivalent whatsoever.\n",
      "\n",
      "I am more than thrilled for Sony to be excelling in the console gaming space, but it's not really an apples to apples comparison against Microsoft.\n",
      "I think that Microsoft moving most of its first party games to PC compatibility has something to do with this. I I was an Xbox guy since the 360 came out but once the exclusives like forza made their way over to PC I had no reason to get an xbox anymore. I got a ps5 this generation because the first party games are so good and you couldn’t get them on PC (I’m aware that Sony has started porting some of their exclusives to PC, but it’s usually a while after it comes out on the console)\n",
      "Portfolio Volatility Insanity\n",
      "Are you okay with this level of volatility? Do you have rules you follow consistently around risk management and position sizing?  \n",
      "\n",
      "If yes, then rock on bud\n",
      "What is in your portfolio?\n",
      "Apple earnings are out — here are the numbers\n",
      "It's the first EPS miss since 2016\n",
      "Should have said stock buybacks\n",
      "\n",
      "/s\n",
      "On Tesla's valuation (Part 4)\n",
      "I’m confused about the bull case for 2025.  Where does the extra production come from?  Fremont is at its physical limits.  Even if they double Austin and Berlin, how do you get to 4.8m without another factory?  IIRC it took about 2.5 years for Shangahai, Berlin and Austin to go from announced to making cars so any factory that is going to be making significant volume in 2025 needs to get started like yesterday.\n",
      "I think your bear case is my most bullish case. I don't think they'll nearly double their sales by 2024, but even if they do and sell every car they produce, they are going to have a lot of trouble sustaining their margins when are already struggling at current levels of production. They are largely driven by hype, and Elon has done a great job blowing that up. Does TSLA have any products or technology that justify its valuation as a tech company? any competitive advantages? Their methods/sensors for FSD are inherently worse than what other auto makers are doing, and everything I see and hear is that their build quality is subpar. I expect they'll see a lot more competition very soon, and being valued more than all other auto makers combined =/= undervalued\n",
      "New concept of CPI values from February 2023\n"
     ]
    },
    {
     "name": "stdout",
     "output_type": "stream",
     "text": [
      "CPI is reweighting every year instead of two years. Whether CPI will be higher or lower depends on whether consumer spending has shifted more towards goods and services with higher inflation or to goods and services with lower inflation.\n",
      "\n",
      "Math example:\n",
      "\n",
      "The baseline for prices is 100 and that was set as the average price for that good from 1982-84.\n",
      "\n",
      "Let's say the economy only has two goods FOOD and CLOTHING. The baseline from 82-84 would be 100 for FOOD and 100 for CLOTHING. Let's assume people spend 50% of their income on FOOD and 50% on CLOTHING. Multiply 0.50 x 100 and 0.50 x 100 and add them together to get an overall price level of 100.\n",
      "\n",
      "At some point in the future FOOD has a price level of 120 and CLOTHING has a price level of 150. CLOTHING is really expensive now. If you used the old weighting of 50% for each then you'd multiply 0.50 x 120 and 0.50 x 150 and add them together to get 135 as the new CPI. That would mean inflation of 35%.\n",
      "\n",
      "However, let's say that people only spent 40% on CLOTHING and 60% on FOOD. Now the math would be 0.60 x 120 and 0.40 x 150. Added together that would be 132 or inflation of 32%, not 35%.\n",
      "\n",
      "So what the  government is doing is adjusting just how much of each type of stuff we actually buy every year to more quickly and (hopefully) accurately reflect actual consumer behavior.\n",
      "Why was February 14th, 2023 so bullish?\n",
      "[Question] - Looking to add a few new stocks to add to my portfolio.\n",
      "I like waste management WM right now and micron technology MU\n",
      "Why not add all the stocks w something like VEQT\n",
      "ETFs or Individual Stock/Shares\n",
      "  pends on your investment goals and risk tolerance.\n",
      "  \n",
      "  Fs offer diversification by investing in a basket of stocks. This can help spread out risk and potentially reduce the impact of market volatility on your portfolio.\n",
      "  \n",
      "Investing in a single stock, can offer the potential for higher returns but also comes with higher risk of loss.\n",
      "\n",
      "If you prefer a hands-off approach, ETF is the way to go, with Vanguard having some of the lowest fees in the market. On the other hand, if you're willing to put in the time and effort to research individual stocks and are comfortable with taking on a bit more risk, you can consider selecting a few stocks to invest in.  many investors fail to outperform the market and may experience stress, as well as potential big losses\n",
      "which etf?\n"
     ]
    }
   ],
   "source": [
    "for post in subreddit_stocks.hot(limit=5):\n",
    "    print(post.title)\n",
    "    submission = reddit.submission(post.id)\n",
    "    c = 0\n",
    "    for comment in submission.comments:\n",
    "        comment = comment.body\n",
    "        if not comment == \"[deleted]\":\n",
    "            print(comment)\n",
    "            c+=1\n",
    "        if c == 2:\n",
    "            break"
   ]
  },
  {
   "cell_type": "markdown",
   "id": "c31f370d",
   "metadata": {},
   "source": [
    "We can now use GPT to extract stock tickers from all of these posts and tell us whether the sentiment for the mentioned assets is positive, neutral or negative:"
   ]
  },
  {
   "cell_type": "markdown",
   "id": "e5480358",
   "metadata": {},
   "source": [
    "## OpenAI API\n",
    "\n",
    "Remember to use the notebook as shown, you must set your OpenAI API Key as an environment variable. Obviously, there are many ways you could provide your API Key to the Python code, input() or even hard-coded, but those are typically not recommended for safety reasons. Having it as an environment variable let's the key live on the computer, but not actually be present in the code.\n",
    "\n",
    "### Set-up Open AI API Key\n",
    "\n",
    "We'll only need to do this once per computer"
   ]
  },
  {
   "cell_type": "code",
   "execution_count": null,
   "id": "b42ed8c5",
   "metadata": {},
   "outputs": [],
   "source": [
    "# Uncomment below and swap in your key to place your environment key using Python\n",
    "# Then you can delete the key string and the code cell below will still work!\n",
    "# os.environ[\"OPENAI_API_KEY\"] = \"Your key goes here!"
   ]
  },
  {
   "cell_type": "code",
   "execution_count": 23,
   "id": "149550f5",
   "metadata": {},
   "outputs": [],
   "source": [
    "openai.api_key = os.getenv(\"OPENAI_API_KEY\")"
   ]
  },
  {
   "cell_type": "markdown",
   "id": "27abbc84",
   "metadata": {},
   "source": [
    "## Prompt Generation\n",
    "First, we need to create a dictionary containing the title and top three comments"
   ]
  },
  {
   "cell_type": "code",
   "execution_count": null,
   "id": "abc5a92d",
   "metadata": {},
   "outputs": [],
   "source": [
    "getattr(subreddit_stocks, \"hot\")"
   ]
  },
  {
   "cell_type": "code",
   "execution_count": 10,
   "id": "9424948d",
   "metadata": {},
   "outputs": [],
   "source": [
    "def get_titles_and_comments(subreddit=\"stocks\", sub_instance=\"hot\", limit=10, num_comments=2, skip_first=2):\n",
    "    subreddit = reddit.subreddit(subreddit)\n",
    "    titles_and_comments = {}\n",
    "    for c, post in enumerate(getattr(subreddit, sub_instance)(limit=limit)):\n",
    "        \n",
    "        if c < skip_first:\n",
    "            continue\n",
    "        \n",
    "        c+=(1-skip_first)\n",
    "        \n",
    "        titles_and_comments[c] = \"\"\n",
    "\n",
    "        submission = reddit.submission(post.id)\n",
    "        title = post.title\n",
    "        \n",
    "        titles_and_comments[c] += \"Title: \" + title  + \"\\n\\n\"\n",
    "        titles_and_comments[c] += \"Comments: \\n\\n\"\n",
    "        \n",
    "        comment_counter = 0\n",
    "        for comment in submission.comments:\n",
    "            comment = comment.body\n",
    "            if not comment == \"[deleted]\":\n",
    "                titles_and_comments[c] += comment + \"\\n\"\n",
    "                comment_counter+=1\n",
    "            if comment_counter == num_comments:\n",
    "                break\n",
    "\n",
    "    return titles_and_comments"
   ]
  },
  {
   "cell_type": "code",
   "execution_count": 14,
   "id": "bdba4923",
   "metadata": {},
   "outputs": [],
   "source": [
    "titles_and_comments = get_titles_and_comments(subreddit=\"stocks\", limit=12)"
   ]
  },
  {
   "cell_type": "code",
   "execution_count": 15,
   "id": "0aa5842d",
   "metadata": {},
   "outputs": [
    {
     "name": "stdout",
     "output_type": "stream",
     "text": [
      "Title: December jobs blowout: +517k added (vs +187k expected); unemployment rate hits 3.4%\n",
      "\n",
      "Comments: \n",
      "\n",
      "Insane... Even in a high rates environment\n",
      "\n",
      "I wonder how the fed responds in medium term\n",
      "Holy balls lol\n",
      "\n"
     ]
    }
   ],
   "source": [
    "print(titles_and_comments[2])"
   ]
  },
  {
   "cell_type": "code",
   "execution_count": 16,
   "id": "dbf1395f",
   "metadata": {},
   "outputs": [],
   "source": [
    "def create_prompt(title_and_comments):\n",
    "\n",
    "    task = \"Return the stock ticker or company in the following heading and comments and classify the sentiment. If no ticker or company is mentioned write 'No company mentioned':\\n\\n\"\n",
    "    return task + title_and_comments\n"
   ]
  },
  {
   "cell_type": "code",
   "execution_count": 20,
   "id": "1c761a05",
   "metadata": {},
   "outputs": [],
   "source": [
    "prompt = create_prompt(titles_and_comments[1])"
   ]
  },
  {
   "cell_type": "code",
   "execution_count": 21,
   "id": "85fcd8b3",
   "metadata": {},
   "outputs": [
    {
     "name": "stdout",
     "output_type": "stream",
     "text": [
      "Return the stock ticker or company in the following heading and comments and classify the sentiment. If no ticker or company is mentioned write 'No company mentioned':\n",
      "\n",
      "Title: Musk found not liable in securities class action suit\n",
      "\n",
      "Comments: \n",
      "\n",
      "This investor has suffered so much harm. Stock up only 800% since that fraud tweet. \n",
      "\n",
      "So much irreparable damage.\n",
      "No dog in this fight outside of owning tesla shares indirectly from index funds, but what would stop a company, say Jones Soda (JSDA) from saying Saudi Arabia wants to take them private at a 30% premium. \n",
      "\n",
      "Does this jury verdict reset what the norm is for corporate finance- from an adjudicating stand point? Being able to tweet/email/DM that you're being purchased to increase market cap with no repercussions?\n",
      "\n"
     ]
    }
   ],
   "source": [
    "print(prompt)"
   ]
  },
  {
   "cell_type": "code",
   "execution_count": 26,
   "id": "84b80bdd",
   "metadata": {
    "scrolled": false
   },
   "outputs": [
    {
     "name": "stdout",
     "output_type": "stream",
     "text": [
      "Title: Musk found not liable in securities class action suit\n",
      "\n",
      "Comments: \n",
      "\n",
      "This investor has suffered so much harm. Stock up only 800% since that fraud tweet. \n",
      "\n",
      "So much irreparable damage.\n",
      "No dog in this fight outside of owning tesla shares indirectly from index funds, but what would stop a company, say Jones Soda (JSDA) from saying Saudi Arabia wants to take them private at a 30% premium. \n",
      "\n",
      "Does this jury verdict reset what the norm is for corporate finance- from an adjudicating stand point? Being able to tweet/email/DM that you're being purchased to increase market cap with no repercussions?\n",
      "\n",
      "Sentiment: \n",
      "No company mentioned\n",
      "------------------------------\n",
      "Title: December jobs blowout: +517k added (vs +187k expected); unemployment rate hits 3.4%\n",
      "\n",
      "Comments: \n",
      "\n",
      "Insane... Even in a high rates environment\n",
      "\n",
      "I wonder how the fed responds in medium term\n",
      "Holy balls lol\n",
      "\n",
      "Sentiment: \n",
      "No company mentioned\n",
      "------------------------------\n",
      "Title: Amazon, Meta, Alphabet, and Microsoft will incur $10B+ in charges related to job cuts, etc. Market caps up $800bn.\n",
      "\n",
      "Comments: \n",
      "\n",
      "Unreadable garbage post\n",
      "Thx for the copy paste. Anything to add?\n",
      "\n",
      "Sentiment: \n",
      "No company mentioned\n",
      "------------------------------\n",
      "Title: Argument about Amazon reinvesting everything\n",
      "\n",
      "Comments: \n",
      "\n",
      "At any point so far in its history, Amazon could have completely stopped reinvesting and simply watched the cash roll in with no further growth. In order to answer whether it's been wise to do it the way they've done it, just look at the numbers.\n",
      "\n",
      "2009: 24 billion revenue\n",
      "\n",
      "2016: 135 billion revenue\n",
      "\n",
      "2021: 470 billion revenue\n",
      "\n",
      "Assuming a flat 10% margin, choosing to reinvest and build their business results in 20 times the profit in 2021 vs 2009. And that is actually insanely conservative considering the real story is that they had no profit in 2009, and their margins in 2021 would be far better than 10% if they did not reinvest.\n",
      "\n",
      "They could stop growth in its tracks right now and produce 10's of billions in pure profit per year. How anyone could question their strategy thus far is ridiculous. They've knocked it out of the park, creating insane wealth and even brand new sectors in commerce. Historically, there are very few businesses ever who have been this successful, this smart with capital, and produced this degree of wealth for shareholders.\n",
      "All I know is that if they ever do stop reinvesting, I’m going to be collecting a fat dividend.\n",
      "\n",
      "Sentiment: \n",
      "Company: Amazon \n",
      "Sentiment: Positive\n",
      "------------------------------\n",
      "Title: The only time higher employment growth was reported before a recession was in 1973\n",
      "\n",
      "Comments: \n",
      "\n",
      "Was there a pandemic in 1971 and 1972?   No, so high employment growth in 1973 before a recession is not comparable.\n",
      "We wont know some of the effects of the increase of inflation and interest rates until Q2 2023. We are seeing euphoria at the moment because Fed predictably rose 25bps and some companies are doing better than expected. There is still an excess of money on the economy and supply is still trying to go back to normal from the Covid crash. Also past events don't correlate to future events.\n",
      "\n",
      "Sentiment: \n",
      "No company mentioned.\n",
      "------------------------------\n",
      "Title: So WHY doesn't Adani sue Hindenburg.. ?\n",
      "\n",
      "Comments: \n",
      "\n",
      "Who did Enron sue?\n",
      "For one, Hindenburg can ask for a lot of documents during the discovery process. Which means they can validate things they accuse Adani of doing with actual information from Adani.\n",
      "\n",
      "Sentiment: \n",
      "Company: Adani\n",
      "Sentiment: Neutral\n",
      "------------------------------\n",
      "Title: Is it time to go long on Nat Gas?\n",
      "\n",
      "Comments: \n",
      "\n",
      "Nat gas trades are generally called Widow marker trades for a reason. No one in Sep-Oct last year thought it will crash in such a spectacular way by only Dec-Jan in middle of the winter.\n",
      "If you want to go long, atleast it will better to use UNG than BOIL. BOIL being leveraged will decay a lot every passing day you hold. Natgas will spike someday, nobody is just exactly not sure, when.\n",
      "Lng futures are still dropping, which will show up in the next couple earnings reports.  Patience.\n",
      "\n",
      "Sentiment: \n",
      "Company: UNG (United States Natural Gas Fund)\n",
      "Sentiment: Positive\n",
      "------------------------------\n",
      "Title: Large funds and call options\n",
      "\n",
      "Comments: \n",
      "\n",
      "\n",
      "Sentiment: It looks like the market is bullish on this one.\n",
      "\n",
      "No company mentioned\n",
      "------------------------------\n",
      "Title: 5 Dividend Stocks with 7%+ Yield Wall Street Analysts Recommend\n",
      "\n",
      "Comments: \n",
      "\n",
      "EPD is a good stock, I've owned it in the past, but just providing some basic information that EPD is not an \"ordinary shares\" stock, it is a MLP (Master-Limited Partnership) and will require a K-1 form when filling taxes, which can be extra hassle when it comes tax time if that matters to anyone.\n",
      "Stellantis is a car manufacturer, the outcome of the merge between FCA and PSA\n",
      "\n",
      "Sentiment: \n",
      "No company mentioned\n",
      "------------------------------\n",
      "Title: Wall Street Week Ahead for the trading week beginning February 6th, 2023\n",
      "\n",
      "Comments: \n",
      "\n",
      "thank you\n",
      "Thanks\n",
      "\n",
      "Sentiment: \n",
      "No company mentioned\n",
      "------------------------------\n"
     ]
    }
   ],
   "source": [
    "for key, title_and_comments in titles_and_comments.items():\n",
    "    \n",
    "    prompt = create_prompt(title_and_comments)\n",
    "    \n",
    "    response = openai.Completion.create(engine=\"text-davinci-003\",\n",
    "                                                prompt=prompt,\n",
    "                                                max_tokens=256,\n",
    "                                                temperature=0,\n",
    "                                                top_p=1.0,\n",
    "                                                frequency_penalty=0.0,\n",
    "                                                presence_penalty=0.0)\n",
    "    print(title_and_comments)\n",
    "    print(\"Sentiment: \" + response[\"choices\"][0][\"text\"])\n",
    "    print(\"-\"*30)"
   ]
  }
 ],
 "metadata": {
  "kernelspec": {
   "display_name": "Python 3 (ipykernel)",
   "language": "python",
   "name": "python3"
  },
  "language_info": {
   "codemirror_mode": {
    "name": "ipython",
    "version": 3
   },
   "file_extension": ".py",
   "mimetype": "text/x-python",
   "name": "python",
   "nbconvert_exporter": "python",
   "pygments_lexer": "ipython3",
   "version": "3.9.0"
  }
 },
 "nbformat": 4,
 "nbformat_minor": 5
}
