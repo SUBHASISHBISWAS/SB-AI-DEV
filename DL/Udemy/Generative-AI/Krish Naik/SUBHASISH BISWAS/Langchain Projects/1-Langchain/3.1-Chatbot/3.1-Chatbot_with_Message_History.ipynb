{
 "cells": [
  {
   "cell_type": "code",
   "id": "initial_id",
   "metadata": {
    "collapsed": true,
    "ExecuteTime": {
     "end_time": "2024-09-10T11:17:31.890605Z",
     "start_time": "2024-09-10T11:17:30.474452Z"
    }
   },
   "source": [
    "from fastapi import FastAPI\n",
    "from langchain_core.prompts import ChatPromptTemplate\n",
    "from langchain_core.output_parsers import StrOutputParser\n",
    "from langserve import add_routes\n",
    "from langchain_groq import ChatGroq\n",
    "import os\n",
    "from dotenv import load_dotenv"
   ],
   "outputs": [],
   "execution_count": 1
  },
  {
   "metadata": {
    "ExecuteTime": {
     "end_time": "2024-09-11T12:17:40.028165Z",
     "start_time": "2024-09-11T12:17:40.015973Z"
    }
   },
   "cell_type": "code",
   "source": [
    "load_dotenv()\n",
    "\n",
    "os.environ[\"LANGCHAIN_API_KEY\"]=os.getenv(\"LANGCHAIN_API_KEY\")\n",
    "os.environ[\"LANGCHAIN_TRACING_V2\"]=\"true\"\n",
    "os.environ[\"LANGCHAIN_PROJECT\"]=os.getenv(\"LANGCHAIN_PROJECT\")\n",
    "\n",
    "groq_api_key = os.getenv(\"GROQ_API_KEY\")"
   ],
   "id": "316d08ec5dbad91f",
   "outputs": [],
   "execution_count": 18
  },
  {
   "metadata": {
    "ExecuteTime": {
     "end_time": "2024-09-11T12:17:40.870875Z",
     "start_time": "2024-09-11T12:17:40.762485Z"
    }
   },
   "cell_type": "code",
   "source": "model=ChatGroq(model=\"Llama3-8b-8192\",groq_api_key=os.getenv(\"GROQ_API_KEY\"))",
   "id": "a28b52ef790d47bf",
   "outputs": [],
   "execution_count": 19
  },
  {
   "metadata": {
    "ExecuteTime": {
     "end_time": "2024-09-11T12:17:41.830762Z",
     "start_time": "2024-09-11T12:17:41.407074Z"
    }
   },
   "cell_type": "code",
   "source": [
    "from langchain_core.messages import HumanMessage\n",
    "model.invoke([HumanMessage(content=\"My name is subhasish and I am a software engineer\")])"
   ],
   "id": "129076530fa907a1",
   "outputs": [
    {
     "data": {
      "text/plain": [
       "AIMessage(content=\"Nice to meet you, Subhasish! As a software engineer, I'm sure you're passionate about building innovative solutions and solving complex problems. What kind of projects have you been working on lately? Are you interested in any specific areas of software engineering, such as AI, machine learning, or cybersecurity?\", response_metadata={'token_usage': {'completion_tokens': 62, 'prompt_tokens': 22, 'total_tokens': 84, 'completion_time': 0.051666667, 'prompt_time': 0.00379196, 'queue_time': 0.010855339, 'total_time': 0.055458627}, 'model_name': 'Llama3-8b-8192', 'system_fingerprint': 'fp_6a6771ae9c', 'finish_reason': 'stop', 'logprobs': None}, id='run-51d512b1-bd6c-4670-a0b4-cc3c46352122-0', usage_metadata={'input_tokens': 22, 'output_tokens': 62, 'total_tokens': 84})"
      ]
     },
     "execution_count": 20,
     "metadata": {},
     "output_type": "execute_result"
    }
   ],
   "execution_count": 20
  },
  {
   "metadata": {
    "ExecuteTime": {
     "end_time": "2024-09-11T12:17:44.332868Z",
     "start_time": "2024-09-11T12:17:43.971189Z"
    }
   },
   "cell_type": "code",
   "source": [
    "from langchain_core.messages import AIMessage\n",
    "model.invoke(\n",
    "    [\n",
    "        HumanMessage(content=\"My name is subhasish and I am a software engineer\"),\n",
    "        AIMessage(content=\"Nice to meet you, Subhasish! Welcome to our conversation. As a software engineer, you must be passionate about coding and building innovative solutions. What kind of projects have you worked on in the past, and what are you currently focusing on?\"),\n",
    "        HumanMessage(content=\"Hey What's my name and what do I do?\")\n",
    "    ]\n",
    ")"
   ],
   "id": "4a060ec1ecd3ddbb",
   "outputs": [
    {
     "data": {
      "text/plain": [
       "AIMessage(content=\"I remember! Your name is Subhasish, and you're a software engineer!\", response_metadata={'token_usage': {'completion_tokens': 18, 'prompt_tokens': 93, 'total_tokens': 111, 'completion_time': 0.015, 'prompt_time': 0.01040647, 'queue_time': 0.011888537, 'total_time': 0.02540647}, 'model_name': 'Llama3-8b-8192', 'system_fingerprint': 'fp_af05557ca2', 'finish_reason': 'stop', 'logprobs': None}, id='run-4fe66b4f-aabe-4fbc-87fc-58feaba6326e-0', usage_metadata={'input_tokens': 93, 'output_tokens': 18, 'total_tokens': 111})"
      ]
     },
     "execution_count": 21,
     "metadata": {},
     "output_type": "execute_result"
    }
   ],
   "execution_count": 21
  },
  {
   "metadata": {
    "ExecuteTime": {
     "end_time": "2024-09-11T12:17:48.625378Z",
     "start_time": "2024-09-11T12:17:48.621281Z"
    }
   },
   "cell_type": "code",
   "source": [
    "from langchain_community.chat_message_histories import ChatMessageHistory\n",
    "from langchain_core.chat_history import  BaseChatMessageHistory\n",
    "from langchain_core.runnables.history import RunnableWithMessageHistory\n",
    "\n",
    "store={}\n",
    "def get_session_history(session_id:str)->BaseChatMessageHistory:\n",
    "    if  session_id not in store:\n",
    "        store[session_id]=ChatMessageHistory()\n",
    "    return store[session_id]\n",
    "        \n",
    "with_message_history=RunnableWithMessageHistory(model,get_session_history)"
   ],
   "id": "cb30fc3275277666",
   "outputs": [],
   "execution_count": 22
  },
  {
   "metadata": {
    "ExecuteTime": {
     "end_time": "2024-09-11T12:17:58.028383Z",
     "start_time": "2024-09-11T12:17:58.025738Z"
    }
   },
   "cell_type": "code",
   "source": "config={\"configurable\":{\"session_id\":\"Chat-1\"}}",
   "id": "2adc960c009a8ddd",
   "outputs": [],
   "execution_count": 23
  },
  {
   "metadata": {
    "ExecuteTime": {
     "end_time": "2024-09-11T12:18:00.146824Z",
     "start_time": "2024-09-11T12:17:59.693379Z"
    }
   },
   "cell_type": "code",
   "source": [
    "with_message_history.invoke([HumanMessage(content=\"My name is subhasish and I am a software engineer\")],\n",
    "                            config=config)"
   ],
   "id": "d086b2f8efa4e6c2",
   "outputs": [
    {
     "data": {
      "text/plain": [
       "AIMessage(content='Nice to meet you, Subhasish! As a software engineer, you must be working on exciting projects and solving complex problems. What kind of projects do you usually work on? Are you working on a specific technology stack or language?', response_metadata={'token_usage': {'completion_tokens': 48, 'prompt_tokens': 22, 'total_tokens': 70, 'completion_time': 0.04, 'prompt_time': 0.002355018, 'queue_time': 0.016464361, 'total_time': 0.042355018}, 'model_name': 'Llama3-8b-8192', 'system_fingerprint': 'fp_af05557ca2', 'finish_reason': 'stop', 'logprobs': None}, id='run-ce713549-ddb3-4087-9fec-815f0b0b222d-0', usage_metadata={'input_tokens': 22, 'output_tokens': 48, 'total_tokens': 70})"
      ]
     },
     "execution_count": 24,
     "metadata": {},
     "output_type": "execute_result"
    }
   ],
   "execution_count": 24
  },
  {
   "metadata": {
    "ExecuteTime": {
     "end_time": "2024-09-11T12:18:04.041776Z",
     "start_time": "2024-09-11T12:18:03.677008Z"
    }
   },
   "cell_type": "code",
   "source": [
    "config1={\"configurable\":{\"session_id\":\"Chat-1\"}}\n",
    "response=with_message_history.invoke([HumanMessage(content=\"What is my Name?\")],\n",
    "                            config=config1)\n",
    "response.content"
   ],
   "id": "a5e37c1ccab7c2dd",
   "outputs": [
    {
     "data": {
      "text/plain": [
       "'Your name is Subhasish.'"
      ]
     },
     "execution_count": 25,
     "metadata": {},
     "output_type": "execute_result"
    }
   ],
   "execution_count": 25
  },
  {
   "metadata": {
    "ExecuteTime": {
     "end_time": "2024-09-11T12:18:08.350847Z",
     "start_time": "2024-09-11T12:18:08.346984Z"
    }
   },
   "cell_type": "code",
   "source": [
    "from langchain_core.prompts import  ChatPromptTemplate,MessagesPlaceholder\n",
    "\n",
    "prompt=ChatPromptTemplate.from_messages([(\"system\",\"You are a helpful assistant. Answer all the question to the best of your ability\"),\n",
    "                                         MessagesPlaceholder(variable_name=\"messages\")])\n",
    "\n",
    "chain=prompt|model"
   ],
   "id": "3d5af748dfbe47ef",
   "outputs": [],
   "execution_count": 26
  },
  {
   "metadata": {
    "ExecuteTime": {
     "end_time": "2024-09-11T12:18:09.978822Z",
     "start_time": "2024-09-11T12:18:09.390520Z"
    }
   },
   "cell_type": "code",
   "source": "chain.invoke({\"messages\":[HumanMessage(content=\"My name is subhasish and I am a software engineer\")]})",
   "id": "18a38c1df9c08f09",
   "outputs": [
    {
     "data": {
      "text/plain": [
       "AIMessage(content=\"Nice to meet you, Subhasish! It's great to know that you're a software engineer. What kind of software development do you work on? Are you more interested in front-end, back-end, or full-stack development?\", response_metadata={'token_usage': {'completion_tokens': 48, 'prompt_tokens': 43, 'total_tokens': 91, 'completion_time': 0.04, 'prompt_time': 0.005274444, 'queue_time': 0.008013114, 'total_time': 0.045274444}, 'model_name': 'Llama3-8b-8192', 'system_fingerprint': 'fp_873a560973', 'finish_reason': 'stop', 'logprobs': None}, id='run-4273d145-9d04-4d67-aae7-4034a367014a-0', usage_metadata={'input_tokens': 43, 'output_tokens': 48, 'total_tokens': 91})"
      ]
     },
     "execution_count": 27,
     "metadata": {},
     "output_type": "execute_result"
    }
   ],
   "execution_count": 27
  },
  {
   "metadata": {
    "ExecuteTime": {
     "end_time": "2024-09-11T12:18:15.019088Z",
     "start_time": "2024-09-11T12:18:15.015497Z"
    }
   },
   "cell_type": "code",
   "source": "with_message_history=RunnableWithMessageHistory(chain,get_session_history)",
   "id": "cbf3b330e5ad7268",
   "outputs": [],
   "execution_count": 28
  },
  {
   "metadata": {
    "ExecuteTime": {
     "end_time": "2024-09-11T12:18:26.391652Z",
     "start_time": "2024-09-11T12:18:25.161001Z"
    }
   },
   "cell_type": "code",
   "source": [
    "config2={\"configurable\":{\"session_id\":\"Chat-1\"}}\n",
    "with_message_history.invoke([HumanMessage(content=\"What is my Name?\")],config=config2)"
   ],
   "id": "8fc57bf693d8b695",
   "outputs": [
    {
     "data": {
      "text/plain": [
       "AIMessage(content='Your name is Subhasish.', response_metadata={'token_usage': {'completion_tokens': 8, 'prompt_tokens': 127, 'total_tokens': 135, 'completion_time': 0.006666667, 'prompt_time': 0.049170251, 'queue_time': 0.7968561409999999, 'total_time': 0.055836918}, 'model_name': 'Llama3-8b-8192', 'system_fingerprint': 'fp_873a560973', 'finish_reason': 'stop', 'logprobs': None}, id='run-f0d078eb-2c6d-44ad-9754-47deddf45ff6-0', usage_metadata={'input_tokens': 127, 'output_tokens': 8, 'total_tokens': 135})"
      ]
     },
     "execution_count": 29,
     "metadata": {},
     "output_type": "execute_result"
    }
   ],
   "execution_count": 29
  },
  {
   "metadata": {
    "ExecuteTime": {
     "end_time": "2024-09-11T12:19:57.703457Z",
     "start_time": "2024-09-11T12:19:57.699298Z"
    }
   },
   "cell_type": "code",
   "source": [
    "prompt = ChatPromptTemplate.from_messages(\n",
    "    [\n",
    "        (\n",
    "            \"system\",\n",
    "            \"You are a helpful assistant. Answer all questions to the best of your ability in {language}.\",\n",
    "        ),\n",
    "        MessagesPlaceholder(variable_name=\"messages\"),\n",
    "    ]\n",
    ")\n",
    "\n",
    "chain = prompt | model"
   ],
   "id": "93a23a9cb439c78",
   "outputs": [],
   "execution_count": 30
  },
  {
   "metadata": {
    "ExecuteTime": {
     "end_time": "2024-09-11T12:20:42.556581Z",
     "start_time": "2024-09-11T12:20:42.028579Z"
    }
   },
   "cell_type": "code",
   "source": [
    "response=chain.invoke({\"messages\":[HumanMessage(content=\"Hi My name is Subhasish\")],\"language\":\"Bengali\"})\n",
    "response.content"
   ],
   "id": "d0f5853ca5ce0b5c",
   "outputs": [
    {
     "data": {
      "text/plain": [
       "'নমস্কার, আমি আপনার সাহায্যকারী! আমি আপনার নাম শুনেছি, সুভাষিষ! আমি সাহায্য করতে চাই, আপনার যা কিছু প্রশ্ন আছে বা সমস্যা আছে, তা আমি ব্যাপারে সাহায্য করব।'"
      ]
     },
     "execution_count": 32,
     "metadata": {},
     "output_type": "execute_result"
    }
   ],
   "execution_count": 32
  },
  {
   "metadata": {},
   "cell_type": "markdown",
   "source": "Let's now wrap this more complicated chain in a Message History class. This time, because there are multiple keys in the input, we need to specify the correct key to use to save the chat history.",
   "id": "3f1d22fc5cefc4ad"
  },
  {
   "metadata": {
    "ExecuteTime": {
     "end_time": "2024-09-11T12:23:04.032147Z",
     "start_time": "2024-09-11T12:23:04.027891Z"
    }
   },
   "cell_type": "code",
   "source": "with_message_history=RunnableWithMessageHistory(chain,get_session_history,input_messages_key=\"messages\")",
   "id": "d5b23fa68a3336a7",
   "outputs": [],
   "execution_count": 33
  },
  {
   "metadata": {
    "ExecuteTime": {
     "end_time": "2024-09-11T12:26:05.333069Z",
     "start_time": "2024-09-11T12:26:03.167908Z"
    }
   },
   "cell_type": "code",
   "source": [
    "config={\"configurable\":{\"session_id\":\"Chat-1\"}}\n",
    "response=with_message_history.invoke(\n",
    "    {'messages': [HumanMessage(content=\"what is my name?\")],\"language\":\"Bengali\"},\n",
    "    config=config\n",
    ")\n",
    "response.content"
   ],
   "id": "aa5adc1814641347",
   "outputs": [
    {
     "data": {
      "text/plain": [
       "'আপনার নাম সুব্রতিশ!'"
      ]
     },
     "execution_count": 35,
     "metadata": {},
     "output_type": "execute_result"
    }
   ],
   "execution_count": 35
  },
  {
   "metadata": {},
   "cell_type": "markdown",
   "source": [
    "### Managing the Conversation History\n",
    "One important concept to understand when building chatbots is how to manage conversation history. If left unmanaged, the list of messages will grow unbounded and potentially overflow the context window of the LLM. Therefore, it is important to add a step that limits the size of the messages you are passing in.\n",
    "'trim_messages' helper to reduce how many messages we're sending to the model. The trimmer allows us to specify how many tokens we want to keep, along with other parameters like if we want to always keep the system message and whether to allow partial messages"
   ],
   "id": "713f524af436c58"
  },
  {
   "metadata": {
    "ExecuteTime": {
     "end_time": "2024-09-11T12:39:14.619932Z",
     "start_time": "2024-09-11T12:39:14.616944Z"
    }
   },
   "cell_type": "code",
   "source": [
    "from langchain_core.messages import SystemMessage, trim_messages\n",
    "\n",
    "trimmer=trim_messages(\n",
    "    max_tokens=70,\n",
    "    strategy=\"last\",\n",
    "    token_counter=model,\n",
    "    include_system=True,\n",
    "    allow_partial=False,\n",
    "    start_on=\"human\"\n",
    ")"
   ],
   "id": "8e0dee284d69f552",
   "outputs": [],
   "execution_count": 44
  },
  {
   "metadata": {
    "ExecuteTime": {
     "end_time": "2024-09-11T12:42:47.795911Z",
     "start_time": "2024-09-11T12:42:47.786859Z"
    }
   },
   "cell_type": "code",
   "source": [
    "messages = [\n",
    "    SystemMessage(content=\"you're a good assistant\"),\n",
    "    HumanMessage(content=\"hi! I'm Subhasish\"),\n",
    "    AIMessage(content=\"hi!\"),\n",
    "    HumanMessage(content=\"I like vanilla ice cream\"),\n",
    "    AIMessage(content=\"nice\"),\n",
    "    HumanMessage(content=\"whats 2 + 2\"),\n",
    "    AIMessage(content=\"4\"),\n",
    "    HumanMessage(content=\"thanks\"),\n",
    "    AIMessage(content=\"no problem!\"),\n",
    "    HumanMessage(content=\"having fun?\"),\n",
    "    AIMessage(content=\"yes!\"),\n",
    "]\n",
    "\n",
    "trimmer.invoke(messages)"
   ],
   "id": "447b8d13d283ecf3",
   "outputs": [
    {
     "data": {
      "text/plain": [
       "[SystemMessage(content=\"you're a good assistant\"),\n",
       " HumanMessage(content=\"hi! I'm Subhasish\"),\n",
       " AIMessage(content='hi!'),\n",
       " HumanMessage(content='I like vanilla ice cream'),\n",
       " AIMessage(content='nice'),\n",
       " HumanMessage(content='whats 2 + 2'),\n",
       " AIMessage(content='4'),\n",
       " HumanMessage(content='thanks'),\n",
       " AIMessage(content='no problem!'),\n",
       " HumanMessage(content='having fun?'),\n",
       " AIMessage(content='yes!')]"
      ]
     },
     "execution_count": 50,
     "metadata": {},
     "output_type": "execute_result"
    }
   ],
   "execution_count": 50
  },
  {
   "metadata": {
    "ExecuteTime": {
     "end_time": "2024-09-11T12:42:49.697007Z",
     "start_time": "2024-09-11T12:42:49.226941Z"
    }
   },
   "cell_type": "code",
   "source": [
    "from operator import itemgetter\n",
    "\n",
    "from langchain_core.runnables import RunnablePassthrough\n",
    "\n",
    "chain=(\n",
    "    RunnablePassthrough.assign(messages=itemgetter(\"messages\")|trimmer)\n",
    "    | prompt\n",
    "    | model\n",
    "    \n",
    ")\n",
    "\n",
    "response=chain.invoke(\n",
    "    {\n",
    "    \"messages\":messages + [HumanMessage(content=\"What ice cream do i like\")],\n",
    "    \"language\":\"English\"\n",
    "    }\n",
    ")\n",
    "response.content"
   ],
   "id": "fd016aef417fd1e8",
   "outputs": [
    {
     "data": {
      "text/plain": [
       "'vanilla ice cream'"
      ]
     },
     "execution_count": 51,
     "metadata": {},
     "output_type": "execute_result"
    }
   ],
   "execution_count": 51
  },
  {
   "metadata": {
    "ExecuteTime": {
     "end_time": "2024-09-11T12:42:51.948105Z",
     "start_time": "2024-09-11T12:42:51.944769Z"
    }
   },
   "cell_type": "code",
   "source": [
    "## Lets wrap this in the MEssage History\n",
    "with_message_history = RunnableWithMessageHistory(\n",
    "    chain,\n",
    "    get_session_history,\n",
    "    input_messages_key=\"messages\",\n",
    ")\n",
    "config={\"configurable\":{\"session_id\":\"Chat-1\"}}"
   ],
   "id": "c451c33b3d325f30",
   "outputs": [],
   "execution_count": 52
  },
  {
   "metadata": {
    "ExecuteTime": {
     "end_time": "2024-09-11T12:42:55.193811Z",
     "start_time": "2024-09-11T12:42:53.243465Z"
    }
   },
   "cell_type": "code",
   "source": [
    "response = with_message_history.invoke(\n",
    "    {\n",
    "        \"messages\": messages + [HumanMessage(content=\"whats my name?\")],\n",
    "        \"language\": \"English\",\n",
    "    },\n",
    "    config=config,\n",
    ")\n",
    "\n",
    "response.content"
   ],
   "id": "f88b621c759aa906",
   "outputs": [
    {
     "data": {
      "text/plain": [
       "'Subhasish'"
      ]
     },
     "execution_count": 53,
     "metadata": {},
     "output_type": "execute_result"
    }
   ],
   "execution_count": 53
  },
  {
   "metadata": {},
   "cell_type": "code",
   "outputs": [],
   "execution_count": null,
   "source": "",
   "id": "647ea6a1cc9e1e58"
  }
 ],
 "metadata": {
  "kernelspec": {
   "display_name": "Python 3",
   "language": "python",
   "name": "python3"
  },
  "language_info": {
   "codemirror_mode": {
    "name": "ipython",
    "version": 2
   },
   "file_extension": ".py",
   "mimetype": "text/x-python",
   "name": "python",
   "nbconvert_exporter": "python",
   "pygments_lexer": "ipython2",
   "version": "2.7.6"
  }
 },
 "nbformat": 4,
 "nbformat_minor": 5
}
