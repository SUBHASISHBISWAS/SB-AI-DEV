{
 "cells": [
  {
   "cell_type": "code",
   "id": "initial_id",
   "metadata": {
    "collapsed": true,
    "ExecuteTime": {
     "end_time": "2024-09-10T11:17:31.890605Z",
     "start_time": "2024-09-10T11:17:30.474452Z"
    }
   },
   "source": [
    "from fastapi import FastAPI\n",
    "from langchain_core.prompts import ChatPromptTemplate\n",
    "from langchain_core.output_parsers import StrOutputParser\n",
    "from langserve import add_routes\n",
    "from langchain_groq import ChatGroq\n",
    "import os\n",
    "from dotenv import load_dotenv"
   ],
   "outputs": [],
   "execution_count": 1
  },
  {
   "metadata": {
    "ExecuteTime": {
     "end_time": "2024-09-10T17:47:02.918376Z",
     "start_time": "2024-09-10T17:47:02.865782Z"
    }
   },
   "cell_type": "code",
   "source": [
    "load_dotenv()\n",
    "\n",
    "os.environ[\"LANGCHAIN_API_KEY\"]=os.getenv(\"LANGCHAIN_API_KEY\")\n",
    "os.environ[\"LANGCHAIN_TRACING_V2\"]=\"true\"\n",
    "os.environ[\"LANGCHAIN_PROJECT\"]=os.getenv(\"LANGCHAIN_PROJECT\")\n",
    "\n",
    "groq_api_key = os.getenv(\"GROQ_API_KEY\")"
   ],
   "id": "316d08ec5dbad91f",
   "outputs": [],
   "execution_count": 6
  },
  {
   "metadata": {
    "ExecuteTime": {
     "end_time": "2024-09-10T11:17:41.495045Z",
     "start_time": "2024-09-10T11:17:41.328265Z"
    }
   },
   "cell_type": "code",
   "source": "model=ChatGroq(model=\"Llama3-8b-8192\",groq_api_key=os.getenv(\"GROQ_API_KEY\"))",
   "id": "a28b52ef790d47bf",
   "outputs": [],
   "execution_count": 3
  },
  {
   "metadata": {
    "ExecuteTime": {
     "end_time": "2024-09-10T11:17:43.288733Z",
     "start_time": "2024-09-10T11:17:42.803828Z"
    }
   },
   "cell_type": "code",
   "source": [
    "from langchain_core.messages import HumanMessage\n",
    "model.invoke([HumanMessage(content=\"My name is subhasish and I am a software engineer\")])"
   ],
   "id": "129076530fa907a1",
   "outputs": [
    {
     "data": {
      "text/plain": [
       "AIMessage(content='Nice to meet you, Subhasish! Welcome to our conversation. As a software engineer, you must be passionate about coding and building innovative solutions. What kind of projects have you worked on in the past, and what are you currently focusing on?', response_metadata={'token_usage': {'completion_tokens': 51, 'prompt_tokens': 22, 'total_tokens': 73, 'completion_time': 0.0425, 'prompt_time': 0.002731493, 'queue_time': 0.011310764000000001, 'total_time': 0.045231493}, 'model_name': 'Llama3-8b-8192', 'system_fingerprint': 'fp_179b0f92c9', 'finish_reason': 'stop', 'logprobs': None}, id='run-be5daa01-31da-46a9-aff6-e4846328acaa-0', usage_metadata={'input_tokens': 22, 'output_tokens': 51, 'total_tokens': 73})"
      ]
     },
     "execution_count": 4,
     "metadata": {},
     "output_type": "execute_result"
    }
   ],
   "execution_count": 4
  },
  {
   "metadata": {
    "ExecuteTime": {
     "end_time": "2024-09-10T12:19:17.499052Z",
     "start_time": "2024-09-10T12:19:16.393106Z"
    }
   },
   "cell_type": "code",
   "source": [
    "from langchain_core.messages import AIMessage\n",
    "model.invoke(\n",
    "    [\n",
    "        HumanMessage(content=\"My name is subhasish and I am a software engineer\"),\n",
    "        AIMessage(content=\"Nice to meet you, Subhasish! Welcome to our conversation. As a software engineer, you must be passionate about coding and building innovative solutions. What kind of projects have you worked on in the past, and what are you currently focusing on?\"),\n",
    "        HumanMessage(content=\"Hey What's my name and what do I do?\")\n",
    "    ]\n",
    ")"
   ],
   "id": "4a060ec1ecd3ddbb",
   "outputs": [
    {
     "data": {
      "text/plain": [
       "AIMessage(content='I remember! Your name is Subhasish, and you are a software engineer!', response_metadata={'token_usage': {'completion_tokens': 18, 'prompt_tokens': 93, 'total_tokens': 111, 'completion_time': 0.015, 'prompt_time': 0.015459196, 'queue_time': 0.001644513000000002, 'total_time': 0.030459196}, 'model_name': 'Llama3-8b-8192', 'system_fingerprint': 'fp_179b0f92c9', 'finish_reason': 'stop', 'logprobs': None}, id='run-74a13d16-c793-40c9-b18e-1c4efed75fef-0', usage_metadata={'input_tokens': 93, 'output_tokens': 18, 'total_tokens': 111})"
      ]
     },
     "execution_count": 5,
     "metadata": {},
     "output_type": "execute_result"
    }
   ],
   "execution_count": 5
  },
  {
   "metadata": {},
   "cell_type": "code",
   "outputs": [],
   "execution_count": null,
   "source": "",
   "id": "cb30fc3275277666"
  }
 ],
 "metadata": {
  "kernelspec": {
   "display_name": "Python 3",
   "language": "python",
   "name": "python3"
  },
  "language_info": {
   "codemirror_mode": {
    "name": "ipython",
    "version": 2
   },
   "file_extension": ".py",
   "mimetype": "text/x-python",
   "name": "python",
   "nbconvert_exporter": "python",
   "pygments_lexer": "ipython2",
   "version": "2.7.6"
  }
 },
 "nbformat": 4,
 "nbformat_minor": 5
}
