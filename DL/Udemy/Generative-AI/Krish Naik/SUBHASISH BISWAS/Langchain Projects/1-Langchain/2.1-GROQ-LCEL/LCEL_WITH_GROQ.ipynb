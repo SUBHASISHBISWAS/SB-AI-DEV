{
 "cells": [
  {
   "cell_type": "code",
   "id": "initial_id",
   "metadata": {
    "collapsed": true,
    "ExecuteTime": {
     "end_time": "2024-09-09T10:39:49.155017Z",
     "start_time": "2024-09-09T10:39:49.149172Z"
    }
   },
   "source": [
    "import os\n",
    "from dotenv import load_dotenv\n",
    "load_dotenv()"
   ],
   "outputs": [
    {
     "data": {
      "text/plain": [
       "True"
      ]
     },
     "execution_count": 22,
     "metadata": {},
     "output_type": "execute_result"
    }
   ],
   "execution_count": 22
  },
  {
   "metadata": {
    "ExecuteTime": {
     "end_time": "2024-09-09T10:39:49.161413Z",
     "start_time": "2024-09-09T10:39:49.157761Z"
    }
   },
   "cell_type": "code",
   "source": [
    "os.environ['OPENAI_API_KEY']=os.getenv(\"OPENAI_API_KEY\")\n",
    "## Langsmith Tracking\n",
    "os.environ[\"LANGCHAIN_API_KEY\"]=os.getenv(\"LANGCHAIN_API_KEY\")\n",
    "os.environ[\"LANGCHAIN_TRACING_V2\"]=\"true\"\n",
    "os.environ[\"LANGCHAIN_PROJECT\"]=os.getenv(\"LANGCHAIN_PROJECT\")\n",
    "os.environ[\"GROQ_API_KEY\"]=os.getenv(\"GROQ_API_KEY\")"
   ],
   "id": "8a25ac32c37b460e",
   "outputs": [],
   "execution_count": 23
  },
  {
   "metadata": {
    "ExecuteTime": {
     "end_time": "2024-09-09T10:39:49.260188Z",
     "start_time": "2024-09-09T10:39:49.169958Z"
    }
   },
   "cell_type": "code",
   "source": [
    "from langchain_openai import OpenAI\n",
    "from langchain_groq import ChatGroq\n",
    "model=ChatGroq(model=\"Llama3-8b-8192\",groq_api_key=os.getenv(\"GROQ_API_KEY\"))\n",
    "model"
   ],
   "id": "a7a9bd0f3eb93494",
   "outputs": [
    {
     "data": {
      "text/plain": [
       "ChatGroq(client=<groq.resources.chat.completions.Completions object at 0x10ea8e110>, async_client=<groq.resources.chat.completions.AsyncCompletions object at 0x110f5e8d0>, model_name='Llama3-8b-8192', groq_api_key=SecretStr('**********'))"
      ]
     },
     "execution_count": 24,
     "metadata": {},
     "output_type": "execute_result"
    }
   ],
   "execution_count": 24
  },
  {
   "metadata": {
    "ExecuteTime": {
     "end_time": "2024-09-09T10:39:49.266048Z",
     "start_time": "2024-09-09T10:39:49.262546Z"
    }
   },
   "cell_type": "code",
   "source": [
    "from langchain_core.messages import HumanMessage,SystemMessage\n",
    "messages=[SystemMessage(\"Translate the following Text from English to French\"),\n",
    "          HumanMessage(\"My Name is Subhasish\")]"
   ],
   "id": "d34f4eac91b83396",
   "outputs": [],
   "execution_count": 25
  },
  {
   "metadata": {
    "ExecuteTime": {
     "end_time": "2024-09-09T10:39:50.432055Z",
     "start_time": "2024-09-09T10:39:49.267476Z"
    }
   },
   "cell_type": "code",
   "source": "result=model.invoke(messages)",
   "id": "f1dcf241827c0427",
   "outputs": [],
   "execution_count": 26
  },
  {
   "metadata": {
    "ExecuteTime": {
     "end_time": "2024-09-09T10:39:50.440536Z",
     "start_time": "2024-09-09T10:39:50.434738Z"
    }
   },
   "cell_type": "code",
   "source": [
    "from langchain_core.output_parsers import StrOutputParser\n",
    "parser=StrOutputParser()\n",
    "parser.invoke(result)"
   ],
   "id": "12f60dceee670d09",
   "outputs": [
    {
     "data": {
      "text/plain": [
       "'Mon nom est Subhasish.'"
      ]
     },
     "execution_count": 27,
     "metadata": {},
     "output_type": "execute_result"
    }
   ],
   "execution_count": 27
  },
  {
   "metadata": {
    "ExecuteTime": {
     "end_time": "2024-09-09T10:39:51.285210Z",
     "start_time": "2024-09-09T10:39:50.441815Z"
    }
   },
   "cell_type": "code",
   "source": [
    "### using LCEL we can chain components\n",
    "chain=model|parser\n",
    "chain.invoke(messages)\n"
   ],
   "id": "4eb59d6dd65927c1",
   "outputs": [
    {
     "data": {
      "text/plain": [
       "'Mon nom est Subhasish'"
      ]
     },
     "execution_count": 28,
     "metadata": {},
     "output_type": "execute_result"
    }
   ],
   "execution_count": 28
  },
  {
   "metadata": {
    "ExecuteTime": {
     "end_time": "2024-09-09T10:39:51.290080Z",
     "start_time": "2024-09-09T10:39:51.286528Z"
    }
   },
   "cell_type": "code",
   "source": [
    "from langchain_core.prompts import ChatPromptTemplate\n",
    "generic_template=\"Translate the following into {language}\"\n",
    "prompt=ChatPromptTemplate.from_messages([(\"system\",generic_template), (\"user\",\"{text}\")])"
   ],
   "id": "871de4b503700a9",
   "outputs": [],
   "execution_count": 29
  },
  {
   "metadata": {
    "ExecuteTime": {
     "end_time": "2024-09-09T10:39:51.297543Z",
     "start_time": "2024-09-09T10:39:51.291763Z"
    }
   },
   "cell_type": "code",
   "source": "result=prompt.invoke({\"language\":\"French\",\"text\":\"My Name is Subhasish\"})",
   "id": "ceb251a2099b13cb",
   "outputs": [],
   "execution_count": 30
  },
  {
   "metadata": {
    "ExecuteTime": {
     "end_time": "2024-09-09T10:39:51.303061Z",
     "start_time": "2024-09-09T10:39:51.298909Z"
    }
   },
   "cell_type": "code",
   "source": "result.to_messages()",
   "id": "81b4a1bf254e2555",
   "outputs": [
    {
     "data": {
      "text/plain": [
       "[SystemMessage(content='Translate the following into French'),\n",
       " HumanMessage(content='My Name is Subhasish')]"
      ]
     },
     "execution_count": 31,
     "metadata": {},
     "output_type": "execute_result"
    }
   ],
   "execution_count": 31
  },
  {
   "metadata": {
    "ExecuteTime": {
     "end_time": "2024-09-09T10:40:50.228625Z",
     "start_time": "2024-09-09T10:40:49.810823Z"
    }
   },
   "cell_type": "code",
   "source": [
    "chain=prompt|model|parser\n",
    "chain.invoke({\"language\":\"French\",\"text\":\"My Name is Subhasish\"})"
   ],
   "id": "c949d538665c24c",
   "outputs": [
    {
     "data": {
      "text/plain": [
       "'Mon nom est Subhasish.'"
      ]
     },
     "execution_count": 32,
     "metadata": {},
     "output_type": "execute_result"
    }
   ],
   "execution_count": 32
  },
  {
   "metadata": {
    "ExecuteTime": {
     "end_time": "2024-09-09T10:45:20.630716Z",
     "start_time": "2024-09-09T10:45:20.096595Z"
    }
   },
   "cell_type": "code",
   "source": [
    "### WITH ALL THE GROQ\n",
    "from langchain_groq import ChatGroq\n",
    "from langchain_core.prompts import ChatPromptTemplate\n",
    "from langchain_core.output_parsers import StrOutputParser\n",
    "\n",
    "generic_template=\"Translate the following into {language}\"\n",
    "prompt=ChatPromptTemplate.from_messages([(\"system\",generic_template), (\"user\",\"{text}\")])\n",
    "\n",
    "model=ChatGroq(model=\"Llama3-8b-8192\",groq_api_key=os.getenv(\"GROQ_API_KEY\"))\n",
    "\n",
    "parser=StrOutputParser()\n",
    "\n",
    "\n",
    "chain=prompt|model|parser\n",
    "\n",
    "chain.invoke({\"language\":\"French\",\"text\":\"Is There anything you want to say?\"})"
   ],
   "id": "f345c6236270aa3f",
   "outputs": [
    {
     "data": {
      "text/plain": [
       "'Y a-t-il quelque chose que vous voulez dire ?'"
      ]
     },
     "execution_count": 35,
     "metadata": {},
     "output_type": "execute_result"
    }
   ],
   "execution_count": 35
  },
  {
   "metadata": {},
   "cell_type": "code",
   "outputs": [],
   "execution_count": null,
   "source": "",
   "id": "41b206682a15efb9"
  }
 ],
 "metadata": {
  "kernelspec": {
   "display_name": "Python 3",
   "language": "python",
   "name": "python3"
  },
  "language_info": {
   "codemirror_mode": {
    "name": "ipython",
    "version": 2
   },
   "file_extension": ".py",
   "mimetype": "text/x-python",
   "name": "python",
   "nbconvert_exporter": "python",
   "pygments_lexer": "ipython2",
   "version": "2.7.6"
  }
 },
 "nbformat": 4,
 "nbformat_minor": 5
}
