{
 "cells": [
  {
   "cell_type": "code",
   "id": "initial_id",
   "metadata": {
    "collapsed": true,
    "ExecuteTime": {
     "end_time": "2024-09-06T05:07:40.523446Z",
     "start_time": "2024-09-06T05:07:40.517186Z"
    }
   },
   "source": [
    "import os\n",
    "from dotenv import load_dotenv\n",
    "load_dotenv()"
   ],
   "outputs": [
    {
     "data": {
      "text/plain": [
       "True"
      ]
     },
     "execution_count": 20,
     "metadata": {},
     "output_type": "execute_result"
    }
   ],
   "execution_count": 20
  },
  {
   "metadata": {
    "ExecuteTime": {
     "end_time": "2024-09-06T05:07:41.345803Z",
     "start_time": "2024-09-06T05:07:41.341960Z"
    }
   },
   "cell_type": "code",
   "source": [
    "os.environ['OPENAI_API_KEY']=os.getenv(\"OPENAI_API_KEY\")\n",
    "## Langsmith Tracking\n",
    "os.environ[\"LANGCHAIN_API_KEY\"]=os.getenv(\"LANGCHAIN_API_KEY\")\n",
    "os.environ[\"LANGCHAIN_TRACING_V2\"]=\"true\"\n",
    "os.environ[\"LANGCHAIN_PROJECT\"]=os.getenv(\"LANGCHAIN_PROJECT\")\n"
   ],
   "id": "cc57d1975e40e7f1",
   "outputs": [],
   "execution_count": 21
  },
  {
   "metadata": {
    "ExecuteTime": {
     "end_time": "2024-09-06T05:07:43.120148Z",
     "start_time": "2024-09-06T05:07:43.038034Z"
    }
   },
   "cell_type": "code",
   "source": [
    "from langchain_openai import ChatOpenAI\n",
    "llm=ChatOpenAI(model=\"gpt-4o\" )"
   ],
   "id": "d076245be4827e8",
   "outputs": [],
   "execution_count": 22
  },
  {
   "metadata": {
    "ExecuteTime": {
     "end_time": "2024-09-06T05:07:44.700968Z",
     "start_time": "2024-09-06T05:07:43.935894Z"
    }
   },
   "cell_type": "code",
   "source": "result=llm.invoke(\"what is the capital of India\")",
   "id": "3b0f6878ba5b94c3",
   "outputs": [],
   "execution_count": 23
  },
  {
   "metadata": {
    "ExecuteTime": {
     "end_time": "2024-09-06T05:07:45.355997Z",
     "start_time": "2024-09-06T05:07:45.353088Z"
    }
   },
   "cell_type": "code",
   "source": "print(result)",
   "id": "ddd57ec0c3724953",
   "outputs": [
    {
     "name": "stdout",
     "output_type": "stream",
     "text": [
      "content='The capital of India is New Delhi.' additional_kwargs={'refusal': None} response_metadata={'token_usage': {'completion_tokens': 8, 'prompt_tokens': 13, 'total_tokens': 21}, 'model_name': 'gpt-4o-2024-05-13', 'system_fingerprint': 'fp_25624ae3a5', 'finish_reason': 'stop', 'logprobs': None} id='run-f804af9e-99ed-4df8-a349-d7f7bba54b87-0' usage_metadata={'input_tokens': 13, 'output_tokens': 8, 'total_tokens': 21}\n"
     ]
    }
   ],
   "execution_count": 24
  },
  {
   "metadata": {
    "ExecuteTime": {
     "end_time": "2024-09-06T05:07:45.980043Z",
     "start_time": "2024-09-06T05:07:45.975268Z"
    }
   },
   "cell_type": "code",
   "source": [
    "### Chatprompt Template\n",
    "from langchain_core.prompts import ChatPromptTemplate\n",
    "\n",
    "prompt=ChatPromptTemplate.from_messages(\n",
    "    [\n",
    "        (\"system\",\"You are an expert AI Engineer. Provide me answers based on the questions\"),\n",
    "        (\"user\",\"{input}\")\n",
    "    ]\n",
    "\n",
    ")\n",
    "prompt"
   ],
   "id": "8c9be04df3051382",
   "outputs": [
    {
     "data": {
      "text/plain": [
       "ChatPromptTemplate(input_variables=['input'], messages=[SystemMessagePromptTemplate(prompt=PromptTemplate(input_variables=[], template='You are an expert AI Engineer. Provide me answers based on the questions')), HumanMessagePromptTemplate(prompt=PromptTemplate(input_variables=['input'], template='{input}'))])"
      ]
     },
     "execution_count": 25,
     "metadata": {},
     "output_type": "execute_result"
    }
   ],
   "execution_count": 25
  },
  {
   "metadata": {
    "ExecuteTime": {
     "end_time": "2024-09-06T05:07:53.355039Z",
     "start_time": "2024-09-06T05:07:50.942699Z"
    }
   },
   "cell_type": "code",
   "source": [
    "chain=prompt|llm\n",
    "\n",
    "response=chain.invoke({\"input\":\"Can you tell me about Langsmith?\"})\n",
    "print(response)"
   ],
   "id": "f9b68b35636428e4",
   "outputs": [
    {
     "name": "stdout",
     "output_type": "stream",
     "text": [
      "content='Certainly! As of my last update in October 2023, I don\\'t have specific information about an entity or concept named \"Langsmith.\" It\\'s possible that it could be a new tool, company, or concept that emerged after my last update.\\n\\nHowever, if \"Langsmith\" is related to language models, natural language processing, or artificial intelligence, it could potentially be a tool, platform, or service aimed at enhancing or utilizing these technologies. For instance, it might be a software for building NLP applications or a company offering specialized AI solutions.\\n\\nIf you can provide more context or specify the domain (e.g., software development, AI tools, companies), I might be able to give a more accurate answer or help infer what it could be about.' additional_kwargs={'refusal': None} response_metadata={'token_usage': {'completion_tokens': 150, 'prompt_tokens': 33, 'total_tokens': 183}, 'model_name': 'gpt-4o-2024-05-13', 'system_fingerprint': 'fp_25624ae3a5', 'finish_reason': 'stop', 'logprobs': None} id='run-a26a0922-9d5b-4e85-b6ae-dc43ce7d701f-0' usage_metadata={'input_tokens': 33, 'output_tokens': 150, 'total_tokens': 183}\n"
     ]
    }
   ],
   "execution_count": 26
  },
  {
   "metadata": {
    "ExecuteTime": {
     "end_time": "2024-09-06T05:08:12.528702Z",
     "start_time": "2024-09-06T05:08:08.959110Z"
    }
   },
   "cell_type": "code",
   "source": [
    "## stroutput Parser\n",
    "\n",
    "from langchain_core.output_parsers import StrOutputParser\n",
    "output_parser=StrOutputParser()\n",
    "chain=prompt|llm|output_parser\n",
    "\n",
    "response=chain.invoke({\"input\":\"Can you tell me about Langsmith?\"})\n",
    "print(response)"
   ],
   "id": "601ab2b04606b54a",
   "outputs": [
    {
     "name": "stdout",
     "output_type": "stream",
     "text": [
      "Certainly! Langsmith is an advanced tool designed to enhance the development of applications that utilize Large Language Models (LLMs). It offers a suite of features tailored to help developers effectively evaluate, test, and monitor their language model-driven applications. Here are some of the key aspects of Langsmith:\n",
      "\n",
      "1. **Evaluation**: Langsmith provides robust mechanisms for assessing the performance and accuracy of LLMs. This includes tools for running benchmarks, comparing different models, and analyzing their responses to various inputs.\n",
      "\n",
      "2. **Testing**: The platform supports comprehensive testing frameworks, allowing developers to simulate different scenarios and edge cases. This ensures that the models perform reliably under diverse conditions and helps identify potential issues before deployment.\n",
      "\n",
      "3. **Monitoring**: Langsmith offers real-time monitoring capabilities to track the performance of LLMs in production environments. This includes monitoring response times, error rates, and user interactions to ensure the models are functioning as expected.\n",
      "\n",
      "4. **Integration**: Langsmith is designed to be easily integrated into existing development workflows. It supports various programming languages and development environments, making it a versatile tool for developers working with LLMs.\n",
      "\n",
      "5. **Debugging**: The platform includes features for debugging and diagnosing issues with LLMs. This can involve tracing the model's decision-making process, identifying problematic inputs, and fine-tuning the model for better performance.\n",
      "\n",
      "Overall, Langsmith aims to streamline the process of building, deploying, and maintaining applications that leverage Large Language Models, providing developers with the tools they need to create more effective and reliable AI-driven solutions.\n"
     ]
    }
   ],
   "execution_count": 27
  },
  {
   "metadata": {},
   "cell_type": "code",
   "outputs": [],
   "execution_count": null,
   "source": "",
   "id": "63bec5dd2476c0f3"
  }
 ],
 "metadata": {
  "kernelspec": {
   "display_name": "Python 3",
   "language": "python",
   "name": "python3"
  },
  "language_info": {
   "codemirror_mode": {
    "name": "ipython",
    "version": 2
   },
   "file_extension": ".py",
   "mimetype": "text/x-python",
   "name": "python",
   "nbconvert_exporter": "python",
   "pygments_lexer": "ipython2",
   "version": "2.7.6"
  }
 },
 "nbformat": 4,
 "nbformat_minor": 5
}
