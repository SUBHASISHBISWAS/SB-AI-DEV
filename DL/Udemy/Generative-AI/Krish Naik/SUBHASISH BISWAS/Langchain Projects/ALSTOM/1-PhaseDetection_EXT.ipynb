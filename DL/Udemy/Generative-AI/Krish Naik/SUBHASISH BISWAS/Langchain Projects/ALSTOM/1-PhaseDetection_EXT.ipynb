{
 "cells": [
  {
   "cell_type": "code",
   "id": "initial_id",
   "metadata": {
    "collapsed": true,
    "ExecuteTime": {
     "end_time": "2024-09-22T20:26:38.530037Z",
     "start_time": "2024-09-22T20:26:37.752934Z"
    }
   },
   "source": [
    "\n",
    "from dotenv import load_dotenv\n",
    "from langchain_openai import  AzureChatOpenAI\n",
    "from langchain_core.prompts import ChatPromptTemplate,MessagesPlaceholder\n",
    "from langchain.chains.combine_documents import create_stuff_documents_chain\n",
    "from langchain.chains import create_retrieval_chain,create_history_aware_retriever\n",
    "from  langchain_community.embeddings import OllamaEmbeddings,HuggingFaceEmbeddings\n",
    "import hashlib\n",
    "import os\n",
    "from langchain.vectorstores import FAISS\n",
    "from langchain.document_loaders import PyPDFLoader\n",
    "from langchain.text_splitter import RecursiveCharacterTextSplitter\n",
    "from langchain.docstore.document import Document\n",
    "from transformers import AutoTokenizer,AutoModel\n",
    "\n",
    "load_dotenv()\n",
    "\n",
    "os.environ['OPENAI_API_TYPE']=os.getenv(\"AL_OPENAI_API_TYPE\")\n",
    "os.environ['OPENAI_API_VERSION']=os.getenv(\"AL_OPENAI_API_VERSION\")\n",
    "os.environ['AZURE_OPENAI_ENDPOINT']=os.getenv(\"AL_AZURE_OPENAI_ENDPOINT\")\n",
    "os.environ['OPENAI_API_KEY']=os.getenv(\"AL_OPENAI_API_KEY\")\n",
    "os.environ['DEPLOYMENT_NAME']=os.getenv(\"AL_DEPLOYMENT_NAME\")\n",
    "\n",
    "os.environ[\"LANGCHAIN_TRACING_V2\"]=\"true\"\n",
    "os.environ[\"LANGCHAIN_PROJECT\"]=os.getenv(\"AL_LANGCHAIN_PROJECT\")\n",
    "\n",
    "os.environ[\"HF_TOKEN\"]=os.getenv(\"HF_TOKEN\")"
   ],
   "outputs": [],
   "execution_count": 4
  },
  {
   "metadata": {
    "ExecuteTime": {
     "end_time": "2024-09-22T20:26:39.102890Z",
     "start_time": "2024-09-22T20:26:39.094173Z"
    }
   },
   "cell_type": "code",
   "source": [
    "import torch\n",
    "import torch.nn.functional as F\n",
    "import faiss\n",
    "import numpy as np\n",
    "from transformers import AutoTokenizer, AutoModel\n",
    "import os\n",
    "from langchain.vectorstores import FAISS\n",
    "from langchain.embeddings.base import Embeddings\n",
    "\n",
    "class CustomLangChainEmbedding(Embeddings):\n",
    "    def __init__(self, model_name=\"bert-base-uncased\", use_gpu=False):\n",
    "        \"\"\"\n",
    "        Initialize the embedding class with a specific transformer model.\n",
    "        \n",
    "        Args:\n",
    "            model_name (str): Name of the pre-trained transformer model.\n",
    "            use_gpu (bool): If True, use GPU (CUDA) for inference; otherwise, use CPU.\n",
    "        \"\"\"\n",
    "        self.tokenizer = AutoTokenizer.from_pretrained(model_name,clean_up_tokenization_spaces=True)\n",
    "        self.model = AutoModel.from_pretrained(model_name)\n",
    "\n",
    "        # Use GPU if available and requested\n",
    "        self.device = torch.device(\"cuda\" if torch.cuda.is_available() and use_gpu else \"cpu\")\n",
    "        self.model.to(self.device)\n",
    "        print(f\"Model loaded on {self.device}\")\n",
    "\n",
    "\n",
    "    def mean_pooling(self, model_output, attention_mask):\n",
    "        \"\"\"\n",
    "        Mean pooling to compute sentence embeddings from token embeddings.\n",
    "        \"\"\"\n",
    "        token_embeddings = model_output[0]  # First element is token embeddings\n",
    "        input_mask_expanded = attention_mask.unsqueeze(-1).expand(token_embeddings.size()).float()\n",
    "        return torch.sum(token_embeddings * input_mask_expanded, 1) / torch.clamp(input_mask_expanded.sum(1), min=1e-9)\n",
    "\n",
    "    \n",
    "        \n",
    "    def encode_data(self, sentences):\n",
    "        \"\"\"\n",
    "        Encode the input sentences into sentence embeddings.\n",
    "        \n",
    "        Args:\n",
    "            sentences (list of str): List of sentences to encode.\n",
    "        \n",
    "        Returns:\n",
    "            np.ndarray: Sentence embeddings as a numpy array.\n",
    "        \"\"\"\n",
    "        encoded_input = self.tokenizer(sentences, padding=True, truncation=True, return_tensors='pt').to(self.device)\n",
    "        with torch.no_grad():\n",
    "            model_output = self.model(**encoded_input)\n",
    "\n",
    "        \n",
    "        sentence_embeddings = self.mean_pooling(model_output, encoded_input['attention_mask'])\n",
    "        sentence_embeddings = F.normalize(sentence_embeddings, p=2, dim=1)  # L2-normalize embeddings\n",
    "        return sentence_embeddings.cpu().numpy()  # Convert to numpy for FAISS or other downstream tasks\n",
    "\n",
    "    def embed_documents(self, texts):\n",
    "        \"\"\"\n",
    "        LangChain-compatible method to create embeddings for documents.\n",
    "        \n",
    "        Args:\n",
    "            texts (list of str): List of documents (text) to create embeddings for.\n",
    "        \n",
    "        Returns:\n",
    "            np.ndarray: Document embeddings as numpy arrays.\n",
    "        \"\"\"\n",
    "        return self.encode_data(texts)\n",
    "\n",
    "    def embed_query(self, text):\n",
    "        \"\"\"\n",
    "        LangChain-compatible method to create embedding for a single query.\n",
    "        \n",
    "        Args:\n",
    "            text (str): Query to create embedding for.\n",
    "        \n",
    "        Returns:\n",
    "            np.ndarray: Query embedding as a numpy array.\n",
    "        \"\"\"\n",
    "        return self.encode_data(text)\n",
    "\n",
    "\n",
    "# Saving and Loading FAISS Index Locally\n",
    "\n",
    "    # Function to save the FAISS index to disk\n",
    "def save_faiss_index(vector_store, index_path):\n",
    "    os.makedirs(index_path, exist_ok=True)\n",
    "    vector_store.save_local(index_path)\n",
    "    print(f\"FAISS index and metadata saved to {index_path}\")\n",
    "\n",
    "\n",
    "def load_faiss_index(embedding,index_path):\n",
    "     index_file = os.path.join(index_path, \"index.faiss\")\n",
    "     pkl_file = os.path.join(index_path, \"index.pkl\")\n",
    "     \n",
    "     if os.path.exists(index_file) and os.path.exists(pkl_file):\n",
    "         print(f\"Loading FAISS index and metadata from {index_path}\")\n",
    "         return FAISS.load_local(index_path, embedding,allow_dangerous_deserialization=True)\n",
    "     else:\n",
    "         print(f\"No FAISS index found at {index_path}, creating a new one.\")\n",
    "         return None\n",
    "\n",
    "\n",
    "\n"
   ],
   "id": "bf1505461f961cb4",
   "outputs": [],
   "execution_count": 5
  },
  {
   "metadata": {
    "ExecuteTime": {
     "end_time": "2024-09-22T20:26:39.736038Z",
     "start_time": "2024-09-22T20:26:39.676705Z"
    }
   },
   "cell_type": "code",
   "source": "embedding = CustomLangChainEmbedding(model_name=\"./Models/all-MiniLM-L6-v2\", use_gpu=False)",
   "id": "dbd2388bcff0a9b3",
   "outputs": [
    {
     "name": "stdout",
     "output_type": "stream",
     "text": [
      "Model loaded on cpu\n"
     ]
    }
   ],
   "execution_count": 6
  },
  {
   "metadata": {
    "ExecuteTime": {
     "end_time": "2024-09-22T20:26:40.535228Z",
     "start_time": "2024-09-22T20:26:40.455446Z"
    }
   },
   "cell_type": "code",
   "source": [
    "llm=AzureChatOpenAI()\n",
    "# Initialize the embedding model\n",
    "#embedding=OllamaEmbeddings(model=\"mxbai-embed-large\")"
   ],
   "id": "dcdc5069d90c20ae",
   "outputs": [],
   "execution_count": 7
  },
  {
   "metadata": {
    "ExecuteTime": {
     "end_time": "2024-09-22T20:26:41.556211Z",
     "start_time": "2024-09-22T20:26:41.552928Z"
    }
   },
   "cell_type": "code",
   "source": [
    "# Function to split text into manageable chunks using a Recursive Text Splitter\n",
    "def split_document_into_chunks(document, chunk_size=1000, chunk_overlap=200):\n",
    "    text_splitter = RecursiveCharacterTextSplitter(\n",
    "        chunk_size=chunk_size, \n",
    "        chunk_overlap=chunk_overlap,\n",
    "        separators=[\"\\n\\n\", \"\\n\", \" \", \"\"]\n",
    "    )\n",
    "    chunks = text_splitter.create_documents([document.page_content])\n",
    "    return chunks\n"
   ],
   "id": "461c555818b4cd8e",
   "outputs": [],
   "execution_count": 8
  },
  {
   "metadata": {
    "ExecuteTime": {
     "end_time": "2024-09-22T20:26:45.259265Z",
     "start_time": "2024-09-22T20:26:45.256175Z"
    }
   },
   "cell_type": "code",
   "source": [
    "# Function to generate a unique document ID based on the hash of the content\n",
    "def generate_doc_id(content):\n",
    "    normalized_content = content.strip().lower()\n",
    "    return hashlib.sha256(normalized_content.encode('utf-8')).hexdigest()"
   ],
   "id": "b4a234b9f72ffbe2",
   "outputs": [],
   "execution_count": 9
  },
  {
   "metadata": {
    "ExecuteTime": {
     "end_time": "2024-09-22T20:26:45.780254Z",
     "start_time": "2024-09-22T20:26:45.773951Z"
    }
   },
   "cell_type": "code",
   "source": [
    "# Function to add PDF document to FAISS store with consistent doc_id generation\n",
    "def add_pdf_to_faiss(pdf_path, vector_store=None, index_path=\"faiss_index\"):\n",
    "    if vector_store is None:\n",
    "        # Load or create a new FAISS index\n",
    "        vector_store = load_faiss_index(embedding, index_path)\n",
    "\n",
    "    pdf_loader = PyPDFLoader(pdf_path)\n",
    "    documents = pdf_loader.load()\n",
    "\n",
    "    new_documents = []\n",
    "    embeddings_list = []\n",
    "\n",
    "    # Check for existing documents in vector store\n",
    "    existing_ids = set(\n",
    "        generate_doc_id(doc.page_content)\n",
    "        for doc_id, doc in vector_store.docstore._dict.items()\n",
    "    ) if vector_store is not None else set()\n",
    "\n",
    "    for document in documents:\n",
    "        chunks = split_document_into_chunks(document)\n",
    "\n",
    "        for chunk in chunks:\n",
    "            doc_id = generate_doc_id(chunk.page_content)\n",
    "            if doc_id not in existing_ids:\n",
    "                new_documents.append(Document(page_content=chunk.page_content, metadata={\"id\": doc_id}))\n",
    "                print(f\"Embedding new document chunk with doc_id: {doc_id}\")\n",
    "\n",
    "    if new_documents:\n",
    "        if vector_store is None:\n",
    "            # Initialize FAISS index manually, passing in precomputed embeddings\n",
    "            vector_store = FAISS.from_documents(new_documents, embedding)\n",
    "            print(f\"Created new FAISS index for {pdf_path}.\")\n",
    "        else:\n",
    "            # Add the new documents and embeddings to the existing FAISS index\n",
    "            vector_store.add_documents(new_documents, embeddings=embeddings_list)\n",
    "            for idx, doc in enumerate(new_documents):\n",
    "                vector_store.index_to_docstore_id[vector_store.index.ntotal - len(new_documents) + idx] = doc.metadata[\"id\"]\n",
    "            print(f\"Added {len(new_documents)} new chunks to FAISS index.\")\n",
    "    else:\n",
    "        print(\"No new chunks to add to FAISS.\")\n",
    "\n",
    "    # Save the updated FAISS index\n",
    "    save_faiss_index(vector_store, index_path)\n",
    "    return vector_store\n"
   ],
   "id": "22da39c48b606b1a",
   "outputs": [],
   "execution_count": 10
  },
  {
   "metadata": {
    "ExecuteTime": {
     "end_time": "2024-09-22T20:26:46.970579Z",
     "start_time": "2024-09-22T20:26:46.967561Z"
    }
   },
   "cell_type": "code",
   "source": [
    "# Example usage with a PDF file\n",
    "pdf_path = \"./Requirements/SET MSA Schedule 23_updated.pdf\"  # Path to the PDF file\n",
    "# Specify where the FAISS index should be stored\n",
    "index_path = \"faiss_index\""
   ],
   "id": "ced7c1cd3327d1c4",
   "outputs": [],
   "execution_count": 11
  },
  {
   "metadata": {
    "ExecuteTime": {
     "end_time": "2024-09-22T20:27:03.854372Z",
     "start_time": "2024-09-22T20:27:00.642586Z"
    }
   },
   "cell_type": "code",
   "source": "vector_store = add_pdf_to_faiss(pdf_path, vector_store=None, index_path=index_path)",
   "id": "e0157dc7522b4c5f",
   "outputs": [
    {
     "name": "stdout",
     "output_type": "stream",
     "text": [
      "No FAISS index found at faiss_index, creating a new one.\n",
      "Embedding new document chunk with doc_id: 9210a3f803bbce8a9de86aa23fe0259034da5f3295b67c1e43df146319ba73f9\n",
      "Embedding new document chunk with doc_id: 9fea60f03bbd1cd49949fa0d19a0ab599eb240433500364a13139ef90b99f854\n",
      "Embedding new document chunk with doc_id: b0f8b8bd3f42e49cb309d763d97b9b543e50bcb7638883b2d57ec07cff5c1c4c\n",
      "Embedding new document chunk with doc_id: 94c4d33bff81a106758ebf7b7581bb9f431a3d74e6ae8dff635dc158e7d12edc\n",
      "Embedding new document chunk with doc_id: 81119c46edc025a2e334e347defc2dee98eb3a607db6569e47bb310dfbe7ebd3\n",
      "Embedding new document chunk with doc_id: 917f707ba9989c6ad59f6cc5f39107f1241ae22ae0db117af1aeb6e276c779f4\n",
      "Embedding new document chunk with doc_id: 6e84932888188d8d5fa39a1d237f364c250b3cb9059a1af6fa06fd146a8494cb\n",
      "Embedding new document chunk with doc_id: 7d6aa675be3a1f273d3dbd1eaedca26658d23ffa584d078ea4a7039809563487\n",
      "Embedding new document chunk with doc_id: 19892e3d9a30d21299914d13d8a0b19d4c5e538814bb722076e6e0a5f4825807\n",
      "Embedding new document chunk with doc_id: 45c6568ab9e60709a6028129da9367b3200c4a82fc7ba23fe05ed61088b224d8\n",
      "Embedding new document chunk with doc_id: ef7eee2afa8b21a162c5ca6e40b876474c1ea759928cd797e9979802848e2dea\n",
      "Embedding new document chunk with doc_id: cda2b63e3b57303b6b11fcf95ca92d04623e774903bedf99a29441daf1029077\n",
      "Embedding new document chunk with doc_id: 334e98aa7f5dc16d04f9da8403f7504c0972345dda438e823c01262f74497ae1\n",
      "Embedding new document chunk with doc_id: e01fd51711ea015b28cae131207a3a95756a581f4fdb4bb1318cd19c36f31b8b\n",
      "Embedding new document chunk with doc_id: bf3d189551b4acc26e49110a6b39a1ead93915c5c6b82b122ed8a9328bc3cac2\n",
      "Embedding new document chunk with doc_id: 8aa4c7be92e9c618bee553059b882fb89b04b4a95f242dc68f39c1d632b67627\n",
      "Embedding new document chunk with doc_id: 4c84e15d7bc4776f05a0e59d3e4be45a3f183dccf5f0bf154f9aee8d7335b052\n",
      "Embedding new document chunk with doc_id: ef9376d1862af1debba0a85ce78967753a8f73e55ce45b302b17b24f5d733e88\n",
      "Embedding new document chunk with doc_id: cf743952ebec89ca7264bd2cff10ab347541757bbdbaf7f362ece7df842d8755\n",
      "Embedding new document chunk with doc_id: 0040624fadaeb3f676bd565fb57180c44a0ec12fed8353073a5d97a3ecec2b73\n",
      "Embedding new document chunk with doc_id: 4659b8f2c8affc17b161f9a8383793ea213623c44e4715ce8ab63efb7c8118a1\n",
      "Embedding new document chunk with doc_id: dbabbe0ea71a0863d0311affb014e5c23c9cd9346f843346acb3ceeb8f2047a3\n",
      "Embedding new document chunk with doc_id: f1d591018291ce082fd95c03bfe33b733c4a7de628e08f20ef7d8c6886991a2c\n",
      "Embedding new document chunk with doc_id: f1845ed43d84518a521d6b07284c12a2ff2444223c410df1039ab674e811ec62\n",
      "Embedding new document chunk with doc_id: 49c228859bd6dc75c91f512a00bbf6f83883517f33503dcede5e6ac4cfb5db4e\n",
      "Embedding new document chunk with doc_id: 693cd3a789b106c54aa1651660d18315ce7c3fd4d809f76df6859694875c168d\n",
      "Embedding new document chunk with doc_id: d865b73f18dbd44e00127cc8e3280daabb3dc45fef425276cc7f095a79505d67\n",
      "Embedding new document chunk with doc_id: 3408949c7cba2afc6cc19d6359ba67e906b76c86006ea0f5fb1f062b0c490077\n",
      "Embedding new document chunk with doc_id: acf30d9b29eab1d2ad7df90ffac20098a45a58a41aaf76a1f8cc74b95e8ad7fa\n",
      "Created new FAISS index for ./Requirements/SET MSA Schedule 23_updated.pdf.\n",
      "FAISS index and metadata saved to faiss_index\n"
     ]
    }
   ],
   "execution_count": 12
  },
  {
   "metadata": {
    "ExecuteTime": {
     "end_time": "2024-09-22T20:27:09.546689Z",
     "start_time": "2024-09-22T20:27:09.542225Z"
    }
   },
   "cell_type": "code",
   "source": [
    "def inspect_faiss_store(vector_store):\n",
    "    # Check number of vectors stored\n",
    "    num_vectors = vector_store.index.ntotal\n",
    "    print(f\"Number of vectors stored: {num_vectors}\")\n",
    "    \n",
    "    # Check stored documents and metadata\n",
    "    print(\"Stored documents:\")\n",
    "    for doc_id, document in vector_store.docstore._dict.items():\n",
    "        print(f\"Document ID: {doc_id}\")\n",
    "        print(f\"Content: {document.page_content[:200]}\")  # Print first 200 characters of content\n",
    "        print(f\"Metadata: {document.metadata}\")\n",
    "    \n",
    "    # Retrieve and check stored embeddings\n",
    "    if num_vectors > 0:\n",
    "        for i in range(min(50, num_vectors)):  # Print embeddings of first 5 documents\n",
    "            vector = vector_store.index.reconstruct(i)\n",
    "            print(f\"Embedding {i}: {vector[:10]}...\")  # Print first 10 dimensions of the embedding\n",
    "            print(vector.shape)\n",
    "    else:\n",
    "        print(\"No embeddings stored.\")"
   ],
   "id": "1599e9bbcf2ad7fb",
   "outputs": [],
   "execution_count": 13
  },
  {
   "metadata": {
    "ExecuteTime": {
     "end_time": "2024-09-22T20:27:10.536001Z",
     "start_time": "2024-09-22T20:27:10.522829Z"
    }
   },
   "cell_type": "code",
   "source": [
    "\n",
    "inspect_faiss_store(vector_store)"
   ],
   "id": "bc176bdf0f78e76c",
   "outputs": [
    {
     "name": "stdout",
     "output_type": "stream",
     "text": [
      "Number of vectors stored: 29\n",
      "Stored documents:\n",
      "Document ID: 5213ca4e-f68c-4d41-9e80-9bf993f9ba2b\n",
      "Content: Manufacture and Supply Agreement \n",
      "Schedule 23 \n",
      "Cyber Security  \n",
      "AC_182190997_9 244 SCHEDULE 23 \n",
      "Cyber Security \n",
      "1. DEFINITIONS AND INTERPRETATION \n",
      "1.1 In this Schedule, in addition to the words and ex\n",
      "Metadata: {'id': '9210a3f803bbce8a9de86aa23fe0259034da5f3295b67c1e43df146319ba73f9'}\n",
      "Document ID: 7969e74d-1b3d-4d26-a4e8-408ff48238ac\n",
      "Content: optical or tangible media), databases, and information and/or \n",
      "communication technology systems (whether or not instal led on or \n",
      "forming part of the Purchased Equipment) delivered or made \n",
      "available \n",
      "Metadata: {'id': '9fea60f03bbd1cd49949fa0d19a0ab599eb240433500364a13139ef90b99f854'}\n",
      "Document ID: fac6960d-1d21-46e3-9d11-98923f28b99f\n",
      "Content: negligently or without knowledge of its existence, including any \n",
      "viruses, worms, trojan horses, adware, spyware, logic bombs or \n",
      "other similar things or devices; \n",
      "NIS Regulations means The Network an\n",
      "Metadata: {'id': 'b0f8b8bd3f42e49cb309d763d97b9b543e50bcb7638883b2d57ec07cff5c1c4c'}\n",
      "Document ID: f6047b60-abe5-4d8f-a461-d8dae21af8aa\n",
      "Content: (b) the occurrence of one or more events which, either \n",
      "individually or collectively, have an adverse effect on the \n",
      "confidentiality, integrity, availability or security of the railway, \n",
      "any data and/\n",
      "Metadata: {'id': '94c4d33bff81a106758ebf7b7581bb9f431a3d74e6ae8dff635dc158e7d12edc'}\n",
      "Document ID: 58bc4c80-2f70-4daa-8ebf-54cea51439d0\n",
      "Content: Manufacture and Supply Agreement \n",
      "Schedule 23 \n",
      "Cyber Security  \n",
      "AC_182190997_9 245 Recovery Plan to time in accordance with paragraph 3. \n",
      "2. CYBER SECURITY  \n",
      "2.1 The Manufacturer shall: \n",
      "2.1.1 impleme\n",
      "Metadata: {'id': '81119c46edc025a2e334e347defc2dee98eb3a607db6569e47bb310dfbe7ebd3'}\n",
      "Document ID: 6a2e8b52-9243-4e64-aebf-6b96cd0af497\n",
      "Content: undertaken in accordance with the requirements of a recognised cyber security by design \n",
      "standard for rail operating technology, such as TS50701. The risk assessment shall be \n",
      "maintained by the Manufa\n",
      "Metadata: {'id': '917f707ba9989c6ad59f6cc5f39107f1241ae22ae0db117af1aeb6e276c779f4'}\n",
      "Document ID: fb49d942-1730-4191-a54a-2f2cc991706d\n",
      "Content: Operator, and shall comply with the following in respect thereof:  \n",
      "2.3.1 legal and regulatory requirements;  \n",
      "2.3.2 best industry practice; \n",
      "2.3.3 latest technological developments;  \n",
      "2.3.4 threat in\n",
      "Metadata: {'id': '6e84932888188d8d5fa39a1d237f364c250b3cb9059a1af6fa06fd146a8494cb'}\n",
      "Document ID: 6f81701f-6187-4376-9c4a-d8a08600b0ec\n",
      "Content: and cyber security measures) as set out in this Schedule, and shall report such compliance to the \n",
      "Operator on request. The Manufacturer shall allow the Operator and/or the Owner to carry out \n",
      "indepen\n",
      "Metadata: {'id': '7d6aa675be3a1f273d3dbd1eaedca26658d23ffa584d078ea4a7039809563487'}\n",
      "Document ID: 1e5a770b-8dd3-49ae-887c-7abce93db9da\n",
      "Content: Manufacture and Supply Agreement \n",
      "Schedule 23 \n",
      "Cyber Security  \n",
      "AC_182190997_9 246 2.5.3 use the latest versions of anti-virus definitions, measures, tools and software available \n",
      "in accordance with b\n",
      "Metadata: {'id': '19892e3d9a30d21299914d13d8a0b19d4c5e538814bb722076e6e0a5f4825807'}\n",
      "Document ID: cf94a6b9-0153-4b69-b517-81ab569d2dac\n",
      "Content: 2.6.4 in the event that such Malicious Software causes loss of operational efficiency of any \n",
      "IT Systems and/or OT Systems or loss or corruption of any of the Operator's data, \n",
      "restore the Operator's \n",
      "Metadata: {'id': '45c6568ab9e60709a6028129da9367b3200c4a82fc7ba23fe05ed61088b224d8'}\n",
      "Document ID: 23591121-e9fb-494f-b44e-90ec9afc1d38\n",
      "Content: IEC63452 and IEC62443 in respect of OT Systems); \n",
      "2.7.2 implement measures to ensure the security of its corporate information technology and \n",
      "systems, including any wayside software systems related t\n",
      "Metadata: {'id': 'ef7eee2afa8b21a162c5ca6e40b876474c1ea759928cd797e9979802848e2dea'}\n",
      "Document ID: e1e7fe99-714b-4227-ae9f-f621835e4103\n",
      "Content: by law); \n",
      "2.7.4 ensure that the on-board and operating technology software, networks and systems of \n",
      "the Fleet are delivered in accordance with the requirements of TS50701 (or its \n",
      "successor standards\n",
      "Metadata: {'id': 'cda2b63e3b57303b6b11fcf95ca92d04623e774903bedf99a29441daf1029077'}\n",
      "Document ID: 12deeb6b-d9bd-45bf-932c-2cb1c365a2e6\n",
      "Content: architecture are secure by design, and how evidence of compliance with the \n",
      "requirements set out in paragraphs 2.7.3 and 2.7.4 will need be sourced from the \n",
      "Manufacture -system suppliers; \n",
      "2.7.6 comm\n",
      "Metadata: {'id': '334e98aa7f5dc16d04f9da8403f7504c0972345dda438e823c01262f74497ae1'}\n",
      "Document ID: d618e008-a207-41bb-9ccb-62f31b0e8e12\n",
      "Content: Manufacture and Supply Agreement \n",
      "Schedule 23 \n",
      "Cyber Security  \n",
      "AC_182190997_9 247 approved penetration tester; the specification for this test will be agreed between all \n",
      "Parties prior to it being un\n",
      "Metadata: {'id': 'e01fd51711ea015b28cae131207a3a95756a581f4fdb4bb1318cd19c36f31b8b'}\n",
      "Document ID: 3b222f09-0429-46f4-a89f-8bc9a0411d6e\n",
      "Content: respect of OT Systems) and conducts its activities in compliance with the principles of \n",
      "applicable international standards and the requirements of all Applicable Laws \n",
      "(including Information Laws); \n",
      "\n",
      "Metadata: {'id': 'bf3d189551b4acc26e49110a6b39a1ead93915c5c6b82b122ed8a9328bc3cac2'}\n",
      "Document ID: 64610d0c-0596-4764-9fe5-fccf596d5498\n",
      "Content: always that such action would not put the Manufacturer in breach of Applicable Laws), \n",
      "the Security Policy and any other Operator standards (as notified to the Manufacturer \n",
      "from time to time); \n",
      "2.7.1\n",
      "Metadata: {'id': '8aa4c7be92e9c618bee553059b882fb89b04b4a95f242dc68f39c1d632b67627'}\n",
      "Document ID: eaf7697b-665c-4386-a38c-75696b76b264\n",
      "Content: 3. SECURITY, CONTINUITY & RECOVERY PLAN \n",
      "3.1 The Manufacturer shall be responsible for developing and maintaining a detailed cyber security, \n",
      "business continuity and disaster recovery plan in respect \n",
      "Metadata: {'id': '4c84e15d7bc4776f05a0e59d3e4be45a3f183dccf5f0bf154f9aee8d7335b052'}\n",
      "Document ID: a3d40619-7e1b-4127-8b49-481c8c4b84a6\n",
      "Content: Manufacture and Supply Agreement \n",
      "Schedule 23 \n",
      "Cyber Security  \n",
      "AC_182190997_9 248 3.2 The Manufacturer shall deliver to the Operator, within three (3) months of the Contract Date, a \n",
      "draft outline Se\n",
      "Metadata: {'id': 'ef9376d1862af1debba0a85ce78967753a8f73e55ce45b302b17b24f5d733e88'}\n",
      "Document ID: c620e427-3600-48f1-b66e-a19802885fa1\n",
      "Content: 3.5 If a 'major incident' or 'cyber event' impacts the IT Systems and/or OT Systems during the period \n",
      "in which the Security, Continuity & Recovery Plan is being developed and finalised, the \n",
      "Manufact\n",
      "Metadata: {'id': 'cf743952ebec89ca7264bd2cff10ab347541757bbdbaf7f362ece7df842d8755'}\n",
      "Document ID: 5355f4bf-9479-450e-b22c-a6f88c5a7b59\n",
      "Content: Plan within eight (8) weeks of receipt.  The Manufacturer shall then revise the updated version of \n",
      "the Security, Continuity & Recovery Plan to incorporate the amendments reasonably required by \n",
      "the O\n",
      "Metadata: {'id': '0040624fadaeb3f676bd565fb57180c44a0ec12fed8353073a5d97a3ecec2b73'}\n",
      "Document ID: ec793d1c-960c-4980-9a07-7362509c7e74\n",
      "Content: Operator's request) any related third party with respect to issues concerning business \n",
      "continuity and disaster recovery, where applicable; \n",
      "3.7.4 detail how it links to and interrelates with any othe\n",
      "Metadata: {'id': '4659b8f2c8affc17b161f9a8383793ea213623c44e4715ce8ab63efb7c8118a1'}\n",
      "Document ID: b55ffcad-aad6-4cd9-bca3-25e51f020606\n",
      "Content: Manufacture and Supply Agreement \n",
      "Schedule 23 \n",
      "Cyber Security  \n",
      "AC_182190997_9 249 than the accepted (as agreed between the Parties) amount of data loss and to \n",
      "preserve data integrity; \n",
      "3.7.10 set ou\n",
      "Metadata: {'id': 'dbabbe0ea71a0863d0311affb014e5c23c9cd9346f843346acb3ceeb8f2047a3'}\n",
      "Document ID: 65e64b5c-40ca-4396-8461-90879fcb5c34\n",
      "Content: Incident, including following any cyber-threat intelligence information being published by the \n",
      "National Cyber Security Centre or on the common vulnerabilities and exposures list available at \n",
      "https:/\n",
      "Metadata: {'id': 'f1d591018291ce082fd95c03bfe33b733c4a7de628e08f20ef7d8c6886991a2c'}\n",
      "Document ID: e49c93c3-5f0d-4eb2-9cd5-e9e02e68ef98\n",
      "Content: (i) where such Security Incident relates to Personal Data, the categories and \n",
      "approximate number of data subjects and Personal Data records affected or \n",
      "concerned; and/or \n",
      "(ii) where such Security In\n",
      "Metadata: {'id': 'f1845ed43d84518a521d6b07284c12a2ff2444223c410df1039ab674e811ec62'}\n",
      "Document ID: 2e8632d4-5807-4f3b-bad2-de905439c690\n",
      "Content: 4.1.2 immediately take all reasonable steps necessary to minimise the extent of actual or \n",
      "potential harm caused by any Security Incident and, in doing so, comply with any \n",
      "instructions issued by the \n",
      "Metadata: {'id': '49c228859bd6dc75c91f512a00bbf6f83883517f33503dcede5e6ac4cfb5db4e'}\n",
      "Document ID: 4be59840-9186-42f6-8b64-a8a677f8122d\n",
      "Content: Manufacture and Supply Agreement \n",
      "Schedule 23 \n",
      "Cyber Security  \n",
      "AC_182190997_9 250 4.1.5 as soon as reasonably practicable, and in any event within five (5) Working Days of a \n",
      "Security Incident being \n",
      "Metadata: {'id': '693cd3a789b106c54aa1651660d18315ce7c3fd4d809f76df6859694875c168d'}\n",
      "Document ID: a52b7d1e-794c-415d-abdc-28dff0839422\n",
      "Content: 5.1 The Manufacturer shall certify on an annual basis that it has complied with the requirements of \n",
      "this Schedule.  Without prejudice to any other right of audit or access granted to the Operator \n",
      "pu\n",
      "Metadata: {'id': 'd865b73f18dbd44e00127cc8e3280daabb3dc45fef425276cc7f095a79505d67'}\n",
      "Document ID: f957cd38-5977-4e82-a1fc-6683029318c2\n",
      "Content: operation to the Operator and its duly authorised representative(s) in conducting such audit or \n",
      "inspection. \n",
      "5.2 The Manufacturer shall use all reasonable endeavours to ensure that any Sub-contractor\n",
      "Metadata: {'id': '3408949c7cba2afc6cc19d6359ba67e906b76c86006ea0f5fb1f062b0c490077'}\n",
      "Document ID: 493e5502-bfa2-479f-af63-1307516aab62\n",
      "Content: Security Incident or any Malicious Software to the extent caused by or contributed to by the acts \n",
      "or omissions of the Manufacturer (or its Sub-contractors). \n",
      "6. CHARGES \n",
      "In consideration for the Manu\n",
      "Metadata: {'id': 'acf30d9b29eab1d2ad7df90ffac20098a45a58a41aaf76a1f8cc74b95e8ad7fa'}\n",
      "Embedding 0: [-0.06053983  0.03441856  0.01137927 -0.05010458  0.06333419  0.03892668\n",
      "  0.07892679 -0.01432925 -0.02387856  0.00366369]...\n",
      "(384,)\n",
      "Embedding 1: [-0.03369035  0.01515234 -0.0465557  -0.04259526 -0.00238794 -0.05796904\n",
      "  0.10207587  0.04480419  0.00732938  0.03446796]...\n",
      "(384,)\n",
      "Embedding 2: [-0.0466143   0.0526806  -0.00075535 -0.001556    0.05128212 -0.03047294\n",
      "  0.09239054  0.05032882 -0.02236842  0.00065924]...\n",
      "(384,)\n",
      "Embedding 3: [-0.01989009  0.08068688  0.0207753   0.01552899  0.08789062  0.0913092\n",
      "  0.11885945  0.02112924 -0.01142154 -0.00067029]...\n",
      "(384,)\n",
      "Embedding 4: [-0.12883134  0.02010324  0.01641898 -0.0546986   0.01663208  0.08979487\n",
      "  0.04333729  0.06667427 -0.13079253 -0.0092943 ]...\n",
      "(384,)\n",
      "Embedding 5: [-0.12466862  0.05842086  0.00389431 -0.0612898  -0.03286511  0.02918768\n",
      "  0.0552371   0.080718   -0.14457054  0.05875343]...\n",
      "(384,)\n",
      "Embedding 6: [-0.04505983  0.05040045 -0.01550731 -0.05191423 -0.03785827  0.02449746\n",
      "  0.01954808 -0.01817749 -0.09645381 -0.04035374]...\n",
      "(384,)\n",
      "Embedding 7: [-0.07612334  0.04627917  0.01927155 -0.04599938  0.00716794 -0.01935753\n",
      "  0.03159525  0.01788037 -0.07174916 -0.00167484]...\n",
      "(384,)\n",
      "Embedding 8: [-0.07248004  0.05664802  0.01150651 -0.06848795  0.03921639 -0.00483095\n",
      "  0.05753005  0.0297971   0.03573789  0.00473331]...\n",
      "(384,)\n",
      "Embedding 9: [-0.06116978  0.0548578   0.01581484 -0.05191343 -0.00645441 -0.02605507\n",
      "  0.0555324   0.03044517 -0.0441113  -0.00640402]...\n",
      "(384,)\n",
      "Embedding 10: [-0.03975826  0.01079394  0.01684243 -0.08470639  0.02073011 -0.03355868\n",
      " -0.00235496  0.02433707 -0.06523047  0.02328375]...\n",
      "(384,)\n",
      "Embedding 11: [-0.09864367  0.00177799  0.04708681  0.01921987 -0.02539622  0.03903611\n",
      " -0.0592592   0.08310769 -0.16663846 -0.00472838]...\n",
      "(384,)\n",
      "Embedding 12: [-0.04995434  0.06054798  0.01134703  0.03926265  0.01450724  0.04581203\n",
      " -0.09957089  0.04662517 -0.09437555 -0.04168107]...\n",
      "(384,)\n",
      "Embedding 13: [-0.063663    0.00789754  0.00148423 -0.04322004  0.01674156  0.02790504\n",
      " -0.02537342  0.02462078 -0.07638703  0.02778198]...\n",
      "(384,)\n",
      "Embedding 14: [-0.08260983  0.04753483 -0.00324237 -0.08863875 -0.00124496 -0.0283394\n",
      "  0.07315509  0.03235766 -0.03650503  0.01875775]...\n",
      "(384,)\n",
      "Embedding 15: [-0.08700162  0.04794499  0.03236911 -0.05037452  0.02681033  0.02232779\n",
      "  0.02900863  0.01229459 -0.04694362  0.00880981]...\n",
      "(384,)\n",
      "Embedding 16: [-0.07205599  0.03722304  0.00764702 -0.07330278  0.03352005  0.01589243\n",
      "  0.02395783  0.00186688 -0.04204231 -0.01410141]...\n",
      "(384,)\n",
      "Embedding 17: [-0.07534012  0.02227542  0.03812645 -0.02824196  0.03303115  0.04556596\n",
      " -0.02741922  0.01812484  0.00284793 -0.00758565]...\n",
      "(384,)\n",
      "Embedding 18: [-0.06848073  0.00946445  0.04194642 -0.08314751  0.01441021  0.03873593\n",
      " -0.00256009  0.01555184 -0.00825413 -0.0388586 ]...\n",
      "(384,)\n",
      "Embedding 19: [-0.09457404  0.0440242   0.06888109 -0.01887328  0.01518949  0.03849993\n",
      "  0.01425474  0.00071197 -0.03191534 -0.03252684]...\n",
      "(384,)\n",
      "Embedding 20: [-0.09940644 -0.00988827  0.00771392 -0.00821239  0.00748528 -0.02632969\n",
      " -0.00251309  0.0260991  -0.10739692  0.00135865]...\n",
      "(384,)\n",
      "Embedding 21: [-0.08750761  0.00839495 -0.00150673 -0.04781118  0.06993304  0.06800178\n",
      "  0.0117721   0.0040889  -0.08194699 -0.03182229]...\n",
      "(384,)\n",
      "Embedding 22: [-0.02781111  0.02331545 -0.00340261  0.00240572  0.08657569  0.04546831\n",
      "  0.1022596   0.05192176 -0.00219185 -0.02356238]...\n",
      "(384,)\n",
      "Embedding 23: [-0.01900612  0.09614736 -0.00410141 -0.05054704  0.03512846  0.01444067\n",
      "  0.07446832  0.04271893 -0.04100407  0.01292773]...\n",
      "(384,)\n",
      "Embedding 24: [-0.04602189  0.06599834  0.0471698  -0.06591057  0.02440895  0.03685165\n",
      "  0.04760809  0.0285801  -0.08473209 -0.00084106]...\n",
      "(384,)\n",
      "Embedding 25: [-0.08261286  0.02538207  0.03545668 -0.05266183  0.0236098   0.05026837\n",
      "  0.0433994   0.00811625 -0.04228201 -0.0145988 ]...\n",
      "(384,)\n",
      "Embedding 26: [-0.07719458  0.02465488  0.03302765  0.00758041 -0.01760824  0.023191\n",
      "  0.02427333 -0.05665411 -0.04067821 -0.03068469]...\n",
      "(384,)\n",
      "Embedding 27: [-0.09755856  0.08798398  0.00779888 -0.04540988  0.01943396  0.03244793\n",
      "  0.08112828 -0.02774546 -0.02869076 -0.00448108]...\n",
      "(384,)\n",
      "Embedding 28: [-0.09187181  0.08186169  0.03174414 -0.02811667  0.04257986 -0.0080558\n",
      "  0.04657661 -0.0060767  -0.01216381 -0.00091007]...\n",
      "(384,)\n"
     ]
    }
   ],
   "execution_count": 14
  },
  {
   "metadata": {
    "ExecuteTime": {
     "end_time": "2024-09-22T20:27:20.468911Z",
     "start_time": "2024-09-22T20:27:20.466090Z"
    }
   },
   "cell_type": "code",
   "source": "retriever=vector_store.as_retriever(search_type=\"similarity\",search_kwargs={\"k\":5})",
   "id": "34496ec908bb526f",
   "outputs": [],
   "execution_count": 15
  },
  {
   "metadata": {
    "ExecuteTime": {
     "end_time": "2024-09-22T20:27:22.252189Z",
     "start_time": "2024-09-22T20:27:21.396473Z"
    }
   },
   "cell_type": "code",
   "source": [
    "\n",
    "retriever.invoke(\"Security Policy\")"
   ],
   "id": "568d79d4e1580db",
   "outputs": [
    {
     "name": "stderr",
     "output_type": "stream",
     "text": [
      "huggingface/tokenizers: The current process just got forked, after parallelism has already been used. Disabling parallelism to avoid deadlocks...\n",
      "To disable this warning, you can either:\n",
      "\t- Avoid using `tokenizers` before the fork if possible\n",
      "\t- Explicitly set the environment variable TOKENIZERS_PARALLELISM=(true | false)\n"
     ]
    },
    {
     "ename": "ValueError",
     "evalue": "too many values to unpack (expected 2)",
     "output_type": "error",
     "traceback": [
      "\u001B[0;31m---------------------------------------------------------------------------\u001B[0m",
      "\u001B[0;31mValueError\u001B[0m                                Traceback (most recent call last)",
      "Cell \u001B[0;32mIn[16], line 1\u001B[0m\n\u001B[0;32m----> 1\u001B[0m retriever\u001B[38;5;241m.\u001B[39minvoke(\u001B[38;5;124m\"\u001B[39m\u001B[38;5;124mSecurity Policy\u001B[39m\u001B[38;5;124m\"\u001B[39m)\n",
      "File \u001B[0;32m~/GIT/Interstellar/SB-AI-DEV/DL/Udemy/Generative-AI/Krish Naik/SUBHASISH BISWAS/Langchain Projects/venv/lib/python3.11/site-packages/langchain_core/retrievers.py:253\u001B[0m, in \u001B[0;36mBaseRetriever.invoke\u001B[0;34m(self, input, config, **kwargs)\u001B[0m\n\u001B[1;32m    251\u001B[0m \u001B[38;5;28;01mexcept\u001B[39;00m \u001B[38;5;167;01mException\u001B[39;00m \u001B[38;5;28;01mas\u001B[39;00m e:\n\u001B[1;32m    252\u001B[0m     run_manager\u001B[38;5;241m.\u001B[39mon_retriever_error(e)\n\u001B[0;32m--> 253\u001B[0m     \u001B[38;5;28;01mraise\u001B[39;00m e\n\u001B[1;32m    254\u001B[0m \u001B[38;5;28;01melse\u001B[39;00m:\n\u001B[1;32m    255\u001B[0m     run_manager\u001B[38;5;241m.\u001B[39mon_retriever_end(\n\u001B[1;32m    256\u001B[0m         result,\n\u001B[1;32m    257\u001B[0m     )\n",
      "File \u001B[0;32m~/GIT/Interstellar/SB-AI-DEV/DL/Udemy/Generative-AI/Krish Naik/SUBHASISH BISWAS/Langchain Projects/venv/lib/python3.11/site-packages/langchain_core/retrievers.py:246\u001B[0m, in \u001B[0;36mBaseRetriever.invoke\u001B[0;34m(self, input, config, **kwargs)\u001B[0m\n\u001B[1;32m    244\u001B[0m _kwargs \u001B[38;5;241m=\u001B[39m kwargs \u001B[38;5;28;01mif\u001B[39;00m \u001B[38;5;28mself\u001B[39m\u001B[38;5;241m.\u001B[39m_expects_other_args \u001B[38;5;28;01melse\u001B[39;00m {}\n\u001B[1;32m    245\u001B[0m \u001B[38;5;28;01mif\u001B[39;00m \u001B[38;5;28mself\u001B[39m\u001B[38;5;241m.\u001B[39m_new_arg_supported:\n\u001B[0;32m--> 246\u001B[0m     result \u001B[38;5;241m=\u001B[39m \u001B[38;5;28mself\u001B[39m\u001B[38;5;241m.\u001B[39m_get_relevant_documents(\n\u001B[1;32m    247\u001B[0m         \u001B[38;5;28minput\u001B[39m, run_manager\u001B[38;5;241m=\u001B[39mrun_manager, \u001B[38;5;241m*\u001B[39m\u001B[38;5;241m*\u001B[39m_kwargs\n\u001B[1;32m    248\u001B[0m     )\n\u001B[1;32m    249\u001B[0m \u001B[38;5;28;01melse\u001B[39;00m:\n\u001B[1;32m    250\u001B[0m     result \u001B[38;5;241m=\u001B[39m \u001B[38;5;28mself\u001B[39m\u001B[38;5;241m.\u001B[39m_get_relevant_documents(\u001B[38;5;28minput\u001B[39m, \u001B[38;5;241m*\u001B[39m\u001B[38;5;241m*\u001B[39m_kwargs)\n",
      "File \u001B[0;32m~/GIT/Interstellar/SB-AI-DEV/DL/Udemy/Generative-AI/Krish Naik/SUBHASISH BISWAS/Langchain Projects/venv/lib/python3.11/site-packages/langchain_core/vectorstores/base.py:1042\u001B[0m, in \u001B[0;36mVectorStoreRetriever._get_relevant_documents\u001B[0;34m(self, query, run_manager)\u001B[0m\n\u001B[1;32m   1038\u001B[0m \u001B[38;5;28;01mdef\u001B[39;00m \u001B[38;5;21m_get_relevant_documents\u001B[39m(\n\u001B[1;32m   1039\u001B[0m     \u001B[38;5;28mself\u001B[39m, query: \u001B[38;5;28mstr\u001B[39m, \u001B[38;5;241m*\u001B[39m, run_manager: CallbackManagerForRetrieverRun\n\u001B[1;32m   1040\u001B[0m ) \u001B[38;5;241m-\u001B[39m\u001B[38;5;241m>\u001B[39m List[Document]:\n\u001B[1;32m   1041\u001B[0m     \u001B[38;5;28;01mif\u001B[39;00m \u001B[38;5;28mself\u001B[39m\u001B[38;5;241m.\u001B[39msearch_type \u001B[38;5;241m==\u001B[39m \u001B[38;5;124m\"\u001B[39m\u001B[38;5;124msimilarity\u001B[39m\u001B[38;5;124m\"\u001B[39m:\n\u001B[0;32m-> 1042\u001B[0m         docs \u001B[38;5;241m=\u001B[39m \u001B[38;5;28mself\u001B[39m\u001B[38;5;241m.\u001B[39mvectorstore\u001B[38;5;241m.\u001B[39msimilarity_search(query, \u001B[38;5;241m*\u001B[39m\u001B[38;5;241m*\u001B[39m\u001B[38;5;28mself\u001B[39m\u001B[38;5;241m.\u001B[39msearch_kwargs)\n\u001B[1;32m   1043\u001B[0m     \u001B[38;5;28;01melif\u001B[39;00m \u001B[38;5;28mself\u001B[39m\u001B[38;5;241m.\u001B[39msearch_type \u001B[38;5;241m==\u001B[39m \u001B[38;5;124m\"\u001B[39m\u001B[38;5;124msimilarity_score_threshold\u001B[39m\u001B[38;5;124m\"\u001B[39m:\n\u001B[1;32m   1044\u001B[0m         docs_and_similarities \u001B[38;5;241m=\u001B[39m (\n\u001B[1;32m   1045\u001B[0m             \u001B[38;5;28mself\u001B[39m\u001B[38;5;241m.\u001B[39mvectorstore\u001B[38;5;241m.\u001B[39msimilarity_search_with_relevance_scores(\n\u001B[1;32m   1046\u001B[0m                 query, \u001B[38;5;241m*\u001B[39m\u001B[38;5;241m*\u001B[39m\u001B[38;5;28mself\u001B[39m\u001B[38;5;241m.\u001B[39msearch_kwargs\n\u001B[1;32m   1047\u001B[0m             )\n\u001B[1;32m   1048\u001B[0m         )\n",
      "File \u001B[0;32m~/GIT/Interstellar/SB-AI-DEV/DL/Udemy/Generative-AI/Krish Naik/SUBHASISH BISWAS/Langchain Projects/venv/lib/python3.11/site-packages/langchain_community/vectorstores/faiss.py:641\u001B[0m, in \u001B[0;36mFAISS.similarity_search\u001B[0;34m(self, query, k, filter, fetch_k, **kwargs)\u001B[0m\n\u001B[1;32m    621\u001B[0m \u001B[38;5;28;01mdef\u001B[39;00m \u001B[38;5;21msimilarity_search\u001B[39m(\n\u001B[1;32m    622\u001B[0m     \u001B[38;5;28mself\u001B[39m,\n\u001B[1;32m    623\u001B[0m     query: \u001B[38;5;28mstr\u001B[39m,\n\u001B[0;32m   (...)\u001B[0m\n\u001B[1;32m    627\u001B[0m     \u001B[38;5;241m*\u001B[39m\u001B[38;5;241m*\u001B[39mkwargs: Any,\n\u001B[1;32m    628\u001B[0m ) \u001B[38;5;241m-\u001B[39m\u001B[38;5;241m>\u001B[39m List[Document]:\n\u001B[1;32m    629\u001B[0m \u001B[38;5;250m    \u001B[39m\u001B[38;5;124;03m\"\"\"Return docs most similar to query.\u001B[39;00m\n\u001B[1;32m    630\u001B[0m \n\u001B[1;32m    631\u001B[0m \u001B[38;5;124;03m    Args:\u001B[39;00m\n\u001B[0;32m   (...)\u001B[0m\n\u001B[1;32m    639\u001B[0m \u001B[38;5;124;03m        List of Documents most similar to the query.\u001B[39;00m\n\u001B[1;32m    640\u001B[0m \u001B[38;5;124;03m    \"\"\"\u001B[39;00m\n\u001B[0;32m--> 641\u001B[0m     docs_and_scores \u001B[38;5;241m=\u001B[39m \u001B[38;5;28mself\u001B[39m\u001B[38;5;241m.\u001B[39msimilarity_search_with_score(\n\u001B[1;32m    642\u001B[0m         query, k, \u001B[38;5;28mfilter\u001B[39m\u001B[38;5;241m=\u001B[39m\u001B[38;5;28mfilter\u001B[39m, fetch_k\u001B[38;5;241m=\u001B[39mfetch_k, \u001B[38;5;241m*\u001B[39m\u001B[38;5;241m*\u001B[39mkwargs\n\u001B[1;32m    643\u001B[0m     )\n\u001B[1;32m    644\u001B[0m     \u001B[38;5;28;01mreturn\u001B[39;00m [doc \u001B[38;5;28;01mfor\u001B[39;00m doc, _ \u001B[38;5;129;01min\u001B[39;00m docs_and_scores]\n",
      "File \u001B[0;32m~/GIT/Interstellar/SB-AI-DEV/DL/Udemy/Generative-AI/Krish Naik/SUBHASISH BISWAS/Langchain Projects/venv/lib/python3.11/site-packages/langchain_community/vectorstores/faiss.py:514\u001B[0m, in \u001B[0;36mFAISS.similarity_search_with_score\u001B[0;34m(self, query, k, filter, fetch_k, **kwargs)\u001B[0m\n\u001B[1;32m    497\u001B[0m \u001B[38;5;250m\u001B[39m\u001B[38;5;124;03m\"\"\"Return docs most similar to query.\u001B[39;00m\n\u001B[1;32m    498\u001B[0m \n\u001B[1;32m    499\u001B[0m \u001B[38;5;124;03mArgs:\u001B[39;00m\n\u001B[0;32m   (...)\u001B[0m\n\u001B[1;32m    511\u001B[0m \u001B[38;5;124;03m    L2 distance in float. Lower score represents more similarity.\u001B[39;00m\n\u001B[1;32m    512\u001B[0m \u001B[38;5;124;03m\"\"\"\u001B[39;00m\n\u001B[1;32m    513\u001B[0m embedding \u001B[38;5;241m=\u001B[39m \u001B[38;5;28mself\u001B[39m\u001B[38;5;241m.\u001B[39m_embed_query(query)\n\u001B[0;32m--> 514\u001B[0m docs \u001B[38;5;241m=\u001B[39m \u001B[38;5;28mself\u001B[39m\u001B[38;5;241m.\u001B[39msimilarity_search_with_score_by_vector(\n\u001B[1;32m    515\u001B[0m     embedding,\n\u001B[1;32m    516\u001B[0m     k,\n\u001B[1;32m    517\u001B[0m     \u001B[38;5;28mfilter\u001B[39m\u001B[38;5;241m=\u001B[39m\u001B[38;5;28mfilter\u001B[39m,\n\u001B[1;32m    518\u001B[0m     fetch_k\u001B[38;5;241m=\u001B[39mfetch_k,\n\u001B[1;32m    519\u001B[0m     \u001B[38;5;241m*\u001B[39m\u001B[38;5;241m*\u001B[39mkwargs,\n\u001B[1;32m    520\u001B[0m )\n\u001B[1;32m    521\u001B[0m \u001B[38;5;28;01mreturn\u001B[39;00m docs\n",
      "File \u001B[0;32m~/GIT/Interstellar/SB-AI-DEV/DL/Udemy/Generative-AI/Krish Naik/SUBHASISH BISWAS/Langchain Projects/venv/lib/python3.11/site-packages/langchain_community/vectorstores/faiss.py:415\u001B[0m, in \u001B[0;36mFAISS.similarity_search_with_score_by_vector\u001B[0;34m(self, embedding, k, filter, fetch_k, **kwargs)\u001B[0m\n\u001B[1;32m    413\u001B[0m \u001B[38;5;28;01mif\u001B[39;00m \u001B[38;5;28mself\u001B[39m\u001B[38;5;241m.\u001B[39m_normalize_L2:\n\u001B[1;32m    414\u001B[0m     faiss\u001B[38;5;241m.\u001B[39mnormalize_L2(vector)\n\u001B[0;32m--> 415\u001B[0m scores, indices \u001B[38;5;241m=\u001B[39m \u001B[38;5;28mself\u001B[39m\u001B[38;5;241m.\u001B[39mindex\u001B[38;5;241m.\u001B[39msearch(vector, k \u001B[38;5;28;01mif\u001B[39;00m \u001B[38;5;28mfilter\u001B[39m \u001B[38;5;129;01mis\u001B[39;00m \u001B[38;5;28;01mNone\u001B[39;00m \u001B[38;5;28;01melse\u001B[39;00m fetch_k)\n\u001B[1;32m    416\u001B[0m docs \u001B[38;5;241m=\u001B[39m []\n\u001B[1;32m    418\u001B[0m \u001B[38;5;28;01mif\u001B[39;00m \u001B[38;5;28mfilter\u001B[39m \u001B[38;5;129;01mis\u001B[39;00m \u001B[38;5;129;01mnot\u001B[39;00m \u001B[38;5;28;01mNone\u001B[39;00m:\n",
      "File \u001B[0;32m~/GIT/Interstellar/SB-AI-DEV/DL/Udemy/Generative-AI/Krish Naik/SUBHASISH BISWAS/Langchain Projects/venv/lib/python3.11/site-packages/faiss/class_wrappers.py:327\u001B[0m, in \u001B[0;36mhandle_Index.<locals>.replacement_search\u001B[0;34m(self, x, k, params, D, I)\u001B[0m\n\u001B[1;32m    300\u001B[0m \u001B[38;5;28;01mdef\u001B[39;00m \u001B[38;5;21mreplacement_search\u001B[39m(\u001B[38;5;28mself\u001B[39m, x, k, \u001B[38;5;241m*\u001B[39m, params\u001B[38;5;241m=\u001B[39m\u001B[38;5;28;01mNone\u001B[39;00m, D\u001B[38;5;241m=\u001B[39m\u001B[38;5;28;01mNone\u001B[39;00m, I\u001B[38;5;241m=\u001B[39m\u001B[38;5;28;01mNone\u001B[39;00m):\n\u001B[1;32m    301\u001B[0m \u001B[38;5;250m    \u001B[39m\u001B[38;5;124;03m\"\"\"Find the k nearest neighbors of the set of vectors x in the index.\u001B[39;00m\n\u001B[1;32m    302\u001B[0m \n\u001B[1;32m    303\u001B[0m \u001B[38;5;124;03m    Parameters\u001B[39;00m\n\u001B[0;32m   (...)\u001B[0m\n\u001B[1;32m    324\u001B[0m \u001B[38;5;124;03m        When not enough results are found, the label is set to -1\u001B[39;00m\n\u001B[1;32m    325\u001B[0m \u001B[38;5;124;03m    \"\"\"\u001B[39;00m\n\u001B[0;32m--> 327\u001B[0m     n, d \u001B[38;5;241m=\u001B[39m x\u001B[38;5;241m.\u001B[39mshape\n\u001B[1;32m    328\u001B[0m     x \u001B[38;5;241m=\u001B[39m np\u001B[38;5;241m.\u001B[39mascontiguousarray(x, dtype\u001B[38;5;241m=\u001B[39m\u001B[38;5;124m'\u001B[39m\u001B[38;5;124mfloat32\u001B[39m\u001B[38;5;124m'\u001B[39m)\n\u001B[1;32m    329\u001B[0m     \u001B[38;5;28;01massert\u001B[39;00m d \u001B[38;5;241m==\u001B[39m \u001B[38;5;28mself\u001B[39m\u001B[38;5;241m.\u001B[39md\n",
      "\u001B[0;31mValueError\u001B[0m: too many values to unpack (expected 2)"
     ]
    }
   ],
   "execution_count": 16
  },
  {
   "metadata": {
    "ExecuteTime": {
     "end_time": "2024-09-22T19:21:46.257481Z",
     "start_time": "2024-09-22T19:21:46.249041Z"
    }
   },
   "cell_type": "code",
   "source": [
    "\n",
    "contextualize_q_system_prompt = (\n",
    "    \"Given a chat history and the latest user question \"\n",
    "    \"which might reference context in the chat history, \"\n",
    "    \"formulate a standalone question which can be understood \"\n",
    "    \"without the chat history. Do NOT answer the question, \"\n",
    "    \"just reformulate it if needed and otherwise return it as is.\"\n",
    ")\n",
    "contextualize_q_prompt = ChatPromptTemplate.from_messages(\n",
    "    [\n",
    "        (\"system\", contextualize_q_system_prompt),\n",
    "        MessagesPlaceholder(\"chat_history\"),\n",
    "        (\"human\", \"{input}\"),\n",
    "    ]\n",
    ")\n",
    "system_prompt = (\n",
    "    \"You are an assistant for question-answering tasks. \"\n",
    "    \"Use the following pieces of retrieved context to answer \"\n",
    "    \"the question. If you don't know the answer, say that you \"\n",
    "    \"don't know. Use three sentences maximum and keep the \"\n",
    "    \"answer concise.\"\n",
    "    \"\\n\\n\"\n",
    "    \"{context}\"\n",
    ")\n",
    "qa_prompt = ChatPromptTemplate.from_messages(\n",
    "    [\n",
    "        (\"system\", system_prompt),\n",
    "        MessagesPlaceholder(\"chat_history\"),\n",
    "        (\"human\", \"{input}\"),\n",
    "    ]\n",
    ")"
   ],
   "id": "d0b5b4856bd62682",
   "outputs": [],
   "execution_count": 143
  },
  {
   "metadata": {
    "ExecuteTime": {
     "end_time": "2024-09-22T17:51:28.479544Z",
     "start_time": "2024-09-22T17:51:28.473846Z"
    }
   },
   "cell_type": "code",
   "source": [
    "history_aware_retriever=create_history_aware_retriever(llm,retriever,contextualize_q_prompt)\n",
    "question_answer_chain=create_stuff_documents_chain(llm,qa_prompt)\n",
    "rag_chain=create_retrieval_chain(history_aware_retriever,question_answer_chain)"
   ],
   "id": "d32ea8ece0e314b1",
   "outputs": [],
   "execution_count": 625
  },
  {
   "metadata": {
    "ExecuteTime": {
     "end_time": "2024-09-22T17:51:28.960258Z",
     "start_time": "2024-09-22T17:51:28.954345Z"
    }
   },
   "cell_type": "code",
   "source": [
    "from langchain_community.chat_message_histories import ChatMessageHistory\n",
    "from langchain_core.chat_history import BaseChatMessageHistory\n",
    "from langchain_core.runnables.history import RunnableWithMessageHistory\n",
    "\n",
    "store={}\n",
    "def get_session_history(session_id:str)->BaseChatMessageHistory:\n",
    "    if  session_id not in store:\n",
    "        store[session_id]=ChatMessageHistory()\n",
    "    return store[session_id]\n",
    "        \n",
    "with_message_history=RunnableWithMessageHistory(llm,get_session_history)"
   ],
   "id": "17832426a728e32c",
   "outputs": [],
   "execution_count": 626
  },
  {
   "metadata": {
    "ExecuteTime": {
     "end_time": "2024-09-22T17:51:29.304473Z",
     "start_time": "2024-09-22T17:51:29.300024Z"
    }
   },
   "cell_type": "code",
   "source": [
    "conversational_rag_chain = RunnableWithMessageHistory(\n",
    "    rag_chain,\n",
    "    get_session_history,\n",
    "    input_messages_key=\"input\",\n",
    "    history_messages_key=\"chat_history\",\n",
    "    output_messages_key=\"answer\",\n",
    ")"
   ],
   "id": "e73060bb4226037b",
   "outputs": [],
   "execution_count": 627
  },
  {
   "metadata": {
    "ExecuteTime": {
     "end_time": "2024-09-22T17:51:30.068234Z",
     "start_time": "2024-09-22T17:51:29.616473Z"
    }
   },
   "cell_type": "code",
   "source": [
    "from langchain_core.messages import AIMessage,HumanMessage,SystemMessage\n",
    "chat_history=[]\n",
    "\n",
    "\n",
    "question=\"tell about Security Policy in this document \"\n",
    "response=conversational_rag_chain.invoke(\n",
    "    {\"input\": question},\n",
    "    config={ \"configurable\": {\"session_id\": \"session-1\"} },  # constructs a key \"abc123\" in `store`.\n",
    ")\n",
    "\n",
    "chat_history.extend(\n",
    "    [\n",
    "        HumanMessage(content=question),\n",
    "        AIMessage(content=response[\"answer\"]),\n",
    "    ]\n",
    ")\n",
    "\n",
    "print(response['answer'])\n"
   ],
   "id": "291c5cf630de3ed7",
   "outputs": [
    {
     "ename": "ValueError",
     "evalue": "too many values to unpack (expected 2)",
     "output_type": "error",
     "traceback": [
      "\u001B[0;31m---------------------------------------------------------------------------\u001B[0m",
      "\u001B[0;31mValueError\u001B[0m                                Traceback (most recent call last)",
      "Cell \u001B[0;32mIn[628], line 6\u001B[0m\n\u001B[1;32m      2\u001B[0m chat_history\u001B[38;5;241m=\u001B[39m[]\n\u001B[1;32m      5\u001B[0m question\u001B[38;5;241m=\u001B[39m\u001B[38;5;124m\"\u001B[39m\u001B[38;5;124mtell about Security Policy in this document \u001B[39m\u001B[38;5;124m\"\u001B[39m\n\u001B[0;32m----> 6\u001B[0m response\u001B[38;5;241m=\u001B[39mconversational_rag_chain\u001B[38;5;241m.\u001B[39minvoke(\n\u001B[1;32m      7\u001B[0m     {\u001B[38;5;124m\"\u001B[39m\u001B[38;5;124minput\u001B[39m\u001B[38;5;124m\"\u001B[39m: question},\n\u001B[1;32m      8\u001B[0m     config\u001B[38;5;241m=\u001B[39m{ \u001B[38;5;124m\"\u001B[39m\u001B[38;5;124mconfigurable\u001B[39m\u001B[38;5;124m\"\u001B[39m: {\u001B[38;5;124m\"\u001B[39m\u001B[38;5;124msession_id\u001B[39m\u001B[38;5;124m\"\u001B[39m: \u001B[38;5;124m\"\u001B[39m\u001B[38;5;124msession-1\u001B[39m\u001B[38;5;124m\"\u001B[39m} },  \u001B[38;5;66;03m# constructs a key \"abc123\" in `store`.\u001B[39;00m\n\u001B[1;32m      9\u001B[0m )\n\u001B[1;32m     11\u001B[0m chat_history\u001B[38;5;241m.\u001B[39mextend(\n\u001B[1;32m     12\u001B[0m     [\n\u001B[1;32m     13\u001B[0m         HumanMessage(content\u001B[38;5;241m=\u001B[39mquestion),\n\u001B[1;32m     14\u001B[0m         AIMessage(content\u001B[38;5;241m=\u001B[39mresponse[\u001B[38;5;124m\"\u001B[39m\u001B[38;5;124manswer\u001B[39m\u001B[38;5;124m\"\u001B[39m]),\n\u001B[1;32m     15\u001B[0m     ]\n\u001B[1;32m     16\u001B[0m )\n\u001B[1;32m     18\u001B[0m \u001B[38;5;28mprint\u001B[39m(response[\u001B[38;5;124m'\u001B[39m\u001B[38;5;124manswer\u001B[39m\u001B[38;5;124m'\u001B[39m])\n",
      "File \u001B[0;32m~/GIT/Interstellar/SB-AI-DEV/DL/Udemy/Generative-AI/Krish Naik/SUBHASISH BISWAS/Langchain Projects/venv/lib/python3.11/site-packages/langchain_core/runnables/base.py:5092\u001B[0m, in \u001B[0;36mRunnableBindingBase.invoke\u001B[0;34m(self, input, config, **kwargs)\u001B[0m\n\u001B[1;32m   5086\u001B[0m \u001B[38;5;28;01mdef\u001B[39;00m \u001B[38;5;21minvoke\u001B[39m(\n\u001B[1;32m   5087\u001B[0m     \u001B[38;5;28mself\u001B[39m,\n\u001B[1;32m   5088\u001B[0m     \u001B[38;5;28minput\u001B[39m: Input,\n\u001B[1;32m   5089\u001B[0m     config: Optional[RunnableConfig] \u001B[38;5;241m=\u001B[39m \u001B[38;5;28;01mNone\u001B[39;00m,\n\u001B[1;32m   5090\u001B[0m     \u001B[38;5;241m*\u001B[39m\u001B[38;5;241m*\u001B[39mkwargs: Optional[Any],\n\u001B[1;32m   5091\u001B[0m ) \u001B[38;5;241m-\u001B[39m\u001B[38;5;241m>\u001B[39m Output:\n\u001B[0;32m-> 5092\u001B[0m     \u001B[38;5;28;01mreturn\u001B[39;00m \u001B[38;5;28mself\u001B[39m\u001B[38;5;241m.\u001B[39mbound\u001B[38;5;241m.\u001B[39minvoke(\n\u001B[1;32m   5093\u001B[0m         \u001B[38;5;28minput\u001B[39m,\n\u001B[1;32m   5094\u001B[0m         \u001B[38;5;28mself\u001B[39m\u001B[38;5;241m.\u001B[39m_merge_configs(config),\n\u001B[1;32m   5095\u001B[0m         \u001B[38;5;241m*\u001B[39m\u001B[38;5;241m*\u001B[39m{\u001B[38;5;241m*\u001B[39m\u001B[38;5;241m*\u001B[39m\u001B[38;5;28mself\u001B[39m\u001B[38;5;241m.\u001B[39mkwargs, \u001B[38;5;241m*\u001B[39m\u001B[38;5;241m*\u001B[39mkwargs},\n\u001B[1;32m   5096\u001B[0m     )\n",
      "File \u001B[0;32m~/GIT/Interstellar/SB-AI-DEV/DL/Udemy/Generative-AI/Krish Naik/SUBHASISH BISWAS/Langchain Projects/venv/lib/python3.11/site-packages/langchain_core/runnables/base.py:5092\u001B[0m, in \u001B[0;36mRunnableBindingBase.invoke\u001B[0;34m(self, input, config, **kwargs)\u001B[0m\n\u001B[1;32m   5086\u001B[0m \u001B[38;5;28;01mdef\u001B[39;00m \u001B[38;5;21minvoke\u001B[39m(\n\u001B[1;32m   5087\u001B[0m     \u001B[38;5;28mself\u001B[39m,\n\u001B[1;32m   5088\u001B[0m     \u001B[38;5;28minput\u001B[39m: Input,\n\u001B[1;32m   5089\u001B[0m     config: Optional[RunnableConfig] \u001B[38;5;241m=\u001B[39m \u001B[38;5;28;01mNone\u001B[39;00m,\n\u001B[1;32m   5090\u001B[0m     \u001B[38;5;241m*\u001B[39m\u001B[38;5;241m*\u001B[39mkwargs: Optional[Any],\n\u001B[1;32m   5091\u001B[0m ) \u001B[38;5;241m-\u001B[39m\u001B[38;5;241m>\u001B[39m Output:\n\u001B[0;32m-> 5092\u001B[0m     \u001B[38;5;28;01mreturn\u001B[39;00m \u001B[38;5;28mself\u001B[39m\u001B[38;5;241m.\u001B[39mbound\u001B[38;5;241m.\u001B[39minvoke(\n\u001B[1;32m   5093\u001B[0m         \u001B[38;5;28minput\u001B[39m,\n\u001B[1;32m   5094\u001B[0m         \u001B[38;5;28mself\u001B[39m\u001B[38;5;241m.\u001B[39m_merge_configs(config),\n\u001B[1;32m   5095\u001B[0m         \u001B[38;5;241m*\u001B[39m\u001B[38;5;241m*\u001B[39m{\u001B[38;5;241m*\u001B[39m\u001B[38;5;241m*\u001B[39m\u001B[38;5;28mself\u001B[39m\u001B[38;5;241m.\u001B[39mkwargs, \u001B[38;5;241m*\u001B[39m\u001B[38;5;241m*\u001B[39mkwargs},\n\u001B[1;32m   5096\u001B[0m     )\n",
      "File \u001B[0;32m~/GIT/Interstellar/SB-AI-DEV/DL/Udemy/Generative-AI/Krish Naik/SUBHASISH BISWAS/Langchain Projects/venv/lib/python3.11/site-packages/langchain_core/runnables/base.py:2878\u001B[0m, in \u001B[0;36mRunnableSequence.invoke\u001B[0;34m(self, input, config, **kwargs)\u001B[0m\n\u001B[1;32m   2876\u001B[0m             \u001B[38;5;28minput\u001B[39m \u001B[38;5;241m=\u001B[39m context\u001B[38;5;241m.\u001B[39mrun(step\u001B[38;5;241m.\u001B[39minvoke, \u001B[38;5;28minput\u001B[39m, config, \u001B[38;5;241m*\u001B[39m\u001B[38;5;241m*\u001B[39mkwargs)\n\u001B[1;32m   2877\u001B[0m         \u001B[38;5;28;01melse\u001B[39;00m:\n\u001B[0;32m-> 2878\u001B[0m             \u001B[38;5;28minput\u001B[39m \u001B[38;5;241m=\u001B[39m context\u001B[38;5;241m.\u001B[39mrun(step\u001B[38;5;241m.\u001B[39minvoke, \u001B[38;5;28minput\u001B[39m, config)\n\u001B[1;32m   2879\u001B[0m \u001B[38;5;66;03m# finish the root run\u001B[39;00m\n\u001B[1;32m   2880\u001B[0m \u001B[38;5;28;01mexcept\u001B[39;00m \u001B[38;5;167;01mBaseException\u001B[39;00m \u001B[38;5;28;01mas\u001B[39;00m e:\n",
      "File \u001B[0;32m~/GIT/Interstellar/SB-AI-DEV/DL/Udemy/Generative-AI/Krish Naik/SUBHASISH BISWAS/Langchain Projects/venv/lib/python3.11/site-packages/langchain_core/runnables/base.py:5092\u001B[0m, in \u001B[0;36mRunnableBindingBase.invoke\u001B[0;34m(self, input, config, **kwargs)\u001B[0m\n\u001B[1;32m   5086\u001B[0m \u001B[38;5;28;01mdef\u001B[39;00m \u001B[38;5;21minvoke\u001B[39m(\n\u001B[1;32m   5087\u001B[0m     \u001B[38;5;28mself\u001B[39m,\n\u001B[1;32m   5088\u001B[0m     \u001B[38;5;28minput\u001B[39m: Input,\n\u001B[1;32m   5089\u001B[0m     config: Optional[RunnableConfig] \u001B[38;5;241m=\u001B[39m \u001B[38;5;28;01mNone\u001B[39;00m,\n\u001B[1;32m   5090\u001B[0m     \u001B[38;5;241m*\u001B[39m\u001B[38;5;241m*\u001B[39mkwargs: Optional[Any],\n\u001B[1;32m   5091\u001B[0m ) \u001B[38;5;241m-\u001B[39m\u001B[38;5;241m>\u001B[39m Output:\n\u001B[0;32m-> 5092\u001B[0m     \u001B[38;5;28;01mreturn\u001B[39;00m \u001B[38;5;28mself\u001B[39m\u001B[38;5;241m.\u001B[39mbound\u001B[38;5;241m.\u001B[39minvoke(\n\u001B[1;32m   5093\u001B[0m         \u001B[38;5;28minput\u001B[39m,\n\u001B[1;32m   5094\u001B[0m         \u001B[38;5;28mself\u001B[39m\u001B[38;5;241m.\u001B[39m_merge_configs(config),\n\u001B[1;32m   5095\u001B[0m         \u001B[38;5;241m*\u001B[39m\u001B[38;5;241m*\u001B[39m{\u001B[38;5;241m*\u001B[39m\u001B[38;5;241m*\u001B[39m\u001B[38;5;28mself\u001B[39m\u001B[38;5;241m.\u001B[39mkwargs, \u001B[38;5;241m*\u001B[39m\u001B[38;5;241m*\u001B[39mkwargs},\n\u001B[1;32m   5096\u001B[0m     )\n",
      "File \u001B[0;32m~/GIT/Interstellar/SB-AI-DEV/DL/Udemy/Generative-AI/Krish Naik/SUBHASISH BISWAS/Langchain Projects/venv/lib/python3.11/site-packages/langchain_core/runnables/base.py:4474\u001B[0m, in \u001B[0;36mRunnableLambda.invoke\u001B[0;34m(self, input, config, **kwargs)\u001B[0m\n\u001B[1;32m   4460\u001B[0m \u001B[38;5;250m\u001B[39m\u001B[38;5;124;03m\"\"\"Invoke this Runnable synchronously.\u001B[39;00m\n\u001B[1;32m   4461\u001B[0m \n\u001B[1;32m   4462\u001B[0m \u001B[38;5;124;03mArgs:\u001B[39;00m\n\u001B[0;32m   (...)\u001B[0m\n\u001B[1;32m   4471\u001B[0m \u001B[38;5;124;03m    TypeError: If the Runnable is a coroutine function.\u001B[39;00m\n\u001B[1;32m   4472\u001B[0m \u001B[38;5;124;03m\"\"\"\u001B[39;00m\n\u001B[1;32m   4473\u001B[0m \u001B[38;5;28;01mif\u001B[39;00m \u001B[38;5;28mhasattr\u001B[39m(\u001B[38;5;28mself\u001B[39m, \u001B[38;5;124m\"\u001B[39m\u001B[38;5;124mfunc\u001B[39m\u001B[38;5;124m\"\u001B[39m):\n\u001B[0;32m-> 4474\u001B[0m     \u001B[38;5;28;01mreturn\u001B[39;00m \u001B[38;5;28mself\u001B[39m\u001B[38;5;241m.\u001B[39m_call_with_config(\n\u001B[1;32m   4475\u001B[0m         \u001B[38;5;28mself\u001B[39m\u001B[38;5;241m.\u001B[39m_invoke,\n\u001B[1;32m   4476\u001B[0m         \u001B[38;5;28minput\u001B[39m,\n\u001B[1;32m   4477\u001B[0m         \u001B[38;5;28mself\u001B[39m\u001B[38;5;241m.\u001B[39m_config(config, \u001B[38;5;28mself\u001B[39m\u001B[38;5;241m.\u001B[39mfunc),\n\u001B[1;32m   4478\u001B[0m         \u001B[38;5;241m*\u001B[39m\u001B[38;5;241m*\u001B[39mkwargs,\n\u001B[1;32m   4479\u001B[0m     )\n\u001B[1;32m   4480\u001B[0m \u001B[38;5;28;01melse\u001B[39;00m:\n\u001B[1;32m   4481\u001B[0m     \u001B[38;5;28;01mraise\u001B[39;00m \u001B[38;5;167;01mTypeError\u001B[39;00m(\n\u001B[1;32m   4482\u001B[0m         \u001B[38;5;124m\"\u001B[39m\u001B[38;5;124mCannot invoke a coroutine function synchronously.\u001B[39m\u001B[38;5;124m\"\u001B[39m\n\u001B[1;32m   4483\u001B[0m         \u001B[38;5;124m\"\u001B[39m\u001B[38;5;124mUse `ainvoke` instead.\u001B[39m\u001B[38;5;124m\"\u001B[39m\n\u001B[1;32m   4484\u001B[0m     )\n",
      "File \u001B[0;32m~/GIT/Interstellar/SB-AI-DEV/DL/Udemy/Generative-AI/Krish Naik/SUBHASISH BISWAS/Langchain Projects/venv/lib/python3.11/site-packages/langchain_core/runnables/base.py:1785\u001B[0m, in \u001B[0;36mRunnable._call_with_config\u001B[0;34m(self, func, input, config, run_type, **kwargs)\u001B[0m\n\u001B[1;32m   1781\u001B[0m     context \u001B[38;5;241m=\u001B[39m copy_context()\n\u001B[1;32m   1782\u001B[0m     context\u001B[38;5;241m.\u001B[39mrun(_set_config_context, child_config)\n\u001B[1;32m   1783\u001B[0m     output \u001B[38;5;241m=\u001B[39m cast(\n\u001B[1;32m   1784\u001B[0m         Output,\n\u001B[0;32m-> 1785\u001B[0m         context\u001B[38;5;241m.\u001B[39mrun(\n\u001B[1;32m   1786\u001B[0m             call_func_with_variable_args,  \u001B[38;5;66;03m# type: ignore[arg-type]\u001B[39;00m\n\u001B[1;32m   1787\u001B[0m             func,  \u001B[38;5;66;03m# type: ignore[arg-type]\u001B[39;00m\n\u001B[1;32m   1788\u001B[0m             \u001B[38;5;28minput\u001B[39m,  \u001B[38;5;66;03m# type: ignore[arg-type]\u001B[39;00m\n\u001B[1;32m   1789\u001B[0m             config,\n\u001B[1;32m   1790\u001B[0m             run_manager,\n\u001B[1;32m   1791\u001B[0m             \u001B[38;5;241m*\u001B[39m\u001B[38;5;241m*\u001B[39mkwargs,\n\u001B[1;32m   1792\u001B[0m         ),\n\u001B[1;32m   1793\u001B[0m     )\n\u001B[1;32m   1794\u001B[0m \u001B[38;5;28;01mexcept\u001B[39;00m \u001B[38;5;167;01mBaseException\u001B[39;00m \u001B[38;5;28;01mas\u001B[39;00m e:\n\u001B[1;32m   1795\u001B[0m     run_manager\u001B[38;5;241m.\u001B[39mon_chain_error(e)\n",
      "File \u001B[0;32m~/GIT/Interstellar/SB-AI-DEV/DL/Udemy/Generative-AI/Krish Naik/SUBHASISH BISWAS/Langchain Projects/venv/lib/python3.11/site-packages/langchain_core/runnables/config.py:398\u001B[0m, in \u001B[0;36mcall_func_with_variable_args\u001B[0;34m(func, input, config, run_manager, **kwargs)\u001B[0m\n\u001B[1;32m    396\u001B[0m \u001B[38;5;28;01mif\u001B[39;00m run_manager \u001B[38;5;129;01mis\u001B[39;00m \u001B[38;5;129;01mnot\u001B[39;00m \u001B[38;5;28;01mNone\u001B[39;00m \u001B[38;5;129;01mand\u001B[39;00m accepts_run_manager(func):\n\u001B[1;32m    397\u001B[0m     kwargs[\u001B[38;5;124m\"\u001B[39m\u001B[38;5;124mrun_manager\u001B[39m\u001B[38;5;124m\"\u001B[39m] \u001B[38;5;241m=\u001B[39m run_manager\n\u001B[0;32m--> 398\u001B[0m \u001B[38;5;28;01mreturn\u001B[39;00m func(\u001B[38;5;28minput\u001B[39m, \u001B[38;5;241m*\u001B[39m\u001B[38;5;241m*\u001B[39mkwargs)\n",
      "File \u001B[0;32m~/GIT/Interstellar/SB-AI-DEV/DL/Udemy/Generative-AI/Krish Naik/SUBHASISH BISWAS/Langchain Projects/venv/lib/python3.11/site-packages/langchain_core/runnables/base.py:4340\u001B[0m, in \u001B[0;36mRunnableLambda._invoke\u001B[0;34m(self, input, run_manager, config, **kwargs)\u001B[0m\n\u001B[1;32m   4336\u001B[0m     \u001B[38;5;28;01mif\u001B[39;00m recursion_limit \u001B[38;5;241m<\u001B[39m\u001B[38;5;241m=\u001B[39m \u001B[38;5;241m0\u001B[39m:\n\u001B[1;32m   4337\u001B[0m         \u001B[38;5;28;01mraise\u001B[39;00m \u001B[38;5;167;01mRecursionError\u001B[39;00m(\n\u001B[1;32m   4338\u001B[0m             \u001B[38;5;124mf\u001B[39m\u001B[38;5;124m\"\u001B[39m\u001B[38;5;124mRecursion limit reached when invoking \u001B[39m\u001B[38;5;132;01m{\u001B[39;00m\u001B[38;5;28mself\u001B[39m\u001B[38;5;132;01m}\u001B[39;00m\u001B[38;5;124m with input \u001B[39m\u001B[38;5;132;01m{\u001B[39;00m\u001B[38;5;28minput\u001B[39m\u001B[38;5;132;01m}\u001B[39;00m\u001B[38;5;124m.\u001B[39m\u001B[38;5;124m\"\u001B[39m\n\u001B[1;32m   4339\u001B[0m         )\n\u001B[0;32m-> 4340\u001B[0m     output \u001B[38;5;241m=\u001B[39m output\u001B[38;5;241m.\u001B[39minvoke(\n\u001B[1;32m   4341\u001B[0m         \u001B[38;5;28minput\u001B[39m,\n\u001B[1;32m   4342\u001B[0m         patch_config(\n\u001B[1;32m   4343\u001B[0m             config,\n\u001B[1;32m   4344\u001B[0m             callbacks\u001B[38;5;241m=\u001B[39mrun_manager\u001B[38;5;241m.\u001B[39mget_child(),\n\u001B[1;32m   4345\u001B[0m             recursion_limit\u001B[38;5;241m=\u001B[39mrecursion_limit \u001B[38;5;241m-\u001B[39m \u001B[38;5;241m1\u001B[39m,\n\u001B[1;32m   4346\u001B[0m         ),\n\u001B[1;32m   4347\u001B[0m     )\n\u001B[1;32m   4348\u001B[0m \u001B[38;5;28;01mreturn\u001B[39;00m cast(Output, output)\n",
      "File \u001B[0;32m~/GIT/Interstellar/SB-AI-DEV/DL/Udemy/Generative-AI/Krish Naik/SUBHASISH BISWAS/Langchain Projects/venv/lib/python3.11/site-packages/langchain_core/runnables/base.py:5092\u001B[0m, in \u001B[0;36mRunnableBindingBase.invoke\u001B[0;34m(self, input, config, **kwargs)\u001B[0m\n\u001B[1;32m   5086\u001B[0m \u001B[38;5;28;01mdef\u001B[39;00m \u001B[38;5;21minvoke\u001B[39m(\n\u001B[1;32m   5087\u001B[0m     \u001B[38;5;28mself\u001B[39m,\n\u001B[1;32m   5088\u001B[0m     \u001B[38;5;28minput\u001B[39m: Input,\n\u001B[1;32m   5089\u001B[0m     config: Optional[RunnableConfig] \u001B[38;5;241m=\u001B[39m \u001B[38;5;28;01mNone\u001B[39;00m,\n\u001B[1;32m   5090\u001B[0m     \u001B[38;5;241m*\u001B[39m\u001B[38;5;241m*\u001B[39mkwargs: Optional[Any],\n\u001B[1;32m   5091\u001B[0m ) \u001B[38;5;241m-\u001B[39m\u001B[38;5;241m>\u001B[39m Output:\n\u001B[0;32m-> 5092\u001B[0m     \u001B[38;5;28;01mreturn\u001B[39;00m \u001B[38;5;28mself\u001B[39m\u001B[38;5;241m.\u001B[39mbound\u001B[38;5;241m.\u001B[39minvoke(\n\u001B[1;32m   5093\u001B[0m         \u001B[38;5;28minput\u001B[39m,\n\u001B[1;32m   5094\u001B[0m         \u001B[38;5;28mself\u001B[39m\u001B[38;5;241m.\u001B[39m_merge_configs(config),\n\u001B[1;32m   5095\u001B[0m         \u001B[38;5;241m*\u001B[39m\u001B[38;5;241m*\u001B[39m{\u001B[38;5;241m*\u001B[39m\u001B[38;5;241m*\u001B[39m\u001B[38;5;28mself\u001B[39m\u001B[38;5;241m.\u001B[39mkwargs, \u001B[38;5;241m*\u001B[39m\u001B[38;5;241m*\u001B[39mkwargs},\n\u001B[1;32m   5096\u001B[0m     )\n",
      "File \u001B[0;32m~/GIT/Interstellar/SB-AI-DEV/DL/Udemy/Generative-AI/Krish Naik/SUBHASISH BISWAS/Langchain Projects/venv/lib/python3.11/site-packages/langchain_core/runnables/base.py:2876\u001B[0m, in \u001B[0;36mRunnableSequence.invoke\u001B[0;34m(self, input, config, **kwargs)\u001B[0m\n\u001B[1;32m   2874\u001B[0m context\u001B[38;5;241m.\u001B[39mrun(_set_config_context, config)\n\u001B[1;32m   2875\u001B[0m \u001B[38;5;28;01mif\u001B[39;00m i \u001B[38;5;241m==\u001B[39m \u001B[38;5;241m0\u001B[39m:\n\u001B[0;32m-> 2876\u001B[0m     \u001B[38;5;28minput\u001B[39m \u001B[38;5;241m=\u001B[39m context\u001B[38;5;241m.\u001B[39mrun(step\u001B[38;5;241m.\u001B[39minvoke, \u001B[38;5;28minput\u001B[39m, config, \u001B[38;5;241m*\u001B[39m\u001B[38;5;241m*\u001B[39mkwargs)\n\u001B[1;32m   2877\u001B[0m \u001B[38;5;28;01melse\u001B[39;00m:\n\u001B[1;32m   2878\u001B[0m     \u001B[38;5;28minput\u001B[39m \u001B[38;5;241m=\u001B[39m context\u001B[38;5;241m.\u001B[39mrun(step\u001B[38;5;241m.\u001B[39minvoke, \u001B[38;5;28minput\u001B[39m, config)\n",
      "File \u001B[0;32m~/GIT/Interstellar/SB-AI-DEV/DL/Udemy/Generative-AI/Krish Naik/SUBHASISH BISWAS/Langchain Projects/venv/lib/python3.11/site-packages/langchain_core/runnables/passthrough.py:495\u001B[0m, in \u001B[0;36mRunnableAssign.invoke\u001B[0;34m(self, input, config, **kwargs)\u001B[0m\n\u001B[1;32m    489\u001B[0m \u001B[38;5;28;01mdef\u001B[39;00m \u001B[38;5;21minvoke\u001B[39m(\n\u001B[1;32m    490\u001B[0m     \u001B[38;5;28mself\u001B[39m,\n\u001B[1;32m    491\u001B[0m     \u001B[38;5;28minput\u001B[39m: Dict[\u001B[38;5;28mstr\u001B[39m, Any],\n\u001B[1;32m    492\u001B[0m     config: Optional[RunnableConfig] \u001B[38;5;241m=\u001B[39m \u001B[38;5;28;01mNone\u001B[39;00m,\n\u001B[1;32m    493\u001B[0m     \u001B[38;5;241m*\u001B[39m\u001B[38;5;241m*\u001B[39mkwargs: Any,\n\u001B[1;32m    494\u001B[0m ) \u001B[38;5;241m-\u001B[39m\u001B[38;5;241m>\u001B[39m Dict[\u001B[38;5;28mstr\u001B[39m, Any]:\n\u001B[0;32m--> 495\u001B[0m     \u001B[38;5;28;01mreturn\u001B[39;00m \u001B[38;5;28mself\u001B[39m\u001B[38;5;241m.\u001B[39m_call_with_config(\u001B[38;5;28mself\u001B[39m\u001B[38;5;241m.\u001B[39m_invoke, \u001B[38;5;28minput\u001B[39m, config, \u001B[38;5;241m*\u001B[39m\u001B[38;5;241m*\u001B[39mkwargs)\n",
      "File \u001B[0;32m~/GIT/Interstellar/SB-AI-DEV/DL/Udemy/Generative-AI/Krish Naik/SUBHASISH BISWAS/Langchain Projects/venv/lib/python3.11/site-packages/langchain_core/runnables/base.py:1785\u001B[0m, in \u001B[0;36mRunnable._call_with_config\u001B[0;34m(self, func, input, config, run_type, **kwargs)\u001B[0m\n\u001B[1;32m   1781\u001B[0m     context \u001B[38;5;241m=\u001B[39m copy_context()\n\u001B[1;32m   1782\u001B[0m     context\u001B[38;5;241m.\u001B[39mrun(_set_config_context, child_config)\n\u001B[1;32m   1783\u001B[0m     output \u001B[38;5;241m=\u001B[39m cast(\n\u001B[1;32m   1784\u001B[0m         Output,\n\u001B[0;32m-> 1785\u001B[0m         context\u001B[38;5;241m.\u001B[39mrun(\n\u001B[1;32m   1786\u001B[0m             call_func_with_variable_args,  \u001B[38;5;66;03m# type: ignore[arg-type]\u001B[39;00m\n\u001B[1;32m   1787\u001B[0m             func,  \u001B[38;5;66;03m# type: ignore[arg-type]\u001B[39;00m\n\u001B[1;32m   1788\u001B[0m             \u001B[38;5;28minput\u001B[39m,  \u001B[38;5;66;03m# type: ignore[arg-type]\u001B[39;00m\n\u001B[1;32m   1789\u001B[0m             config,\n\u001B[1;32m   1790\u001B[0m             run_manager,\n\u001B[1;32m   1791\u001B[0m             \u001B[38;5;241m*\u001B[39m\u001B[38;5;241m*\u001B[39mkwargs,\n\u001B[1;32m   1792\u001B[0m         ),\n\u001B[1;32m   1793\u001B[0m     )\n\u001B[1;32m   1794\u001B[0m \u001B[38;5;28;01mexcept\u001B[39;00m \u001B[38;5;167;01mBaseException\u001B[39;00m \u001B[38;5;28;01mas\u001B[39;00m e:\n\u001B[1;32m   1795\u001B[0m     run_manager\u001B[38;5;241m.\u001B[39mon_chain_error(e)\n",
      "File \u001B[0;32m~/GIT/Interstellar/SB-AI-DEV/DL/Udemy/Generative-AI/Krish Naik/SUBHASISH BISWAS/Langchain Projects/venv/lib/python3.11/site-packages/langchain_core/runnables/config.py:398\u001B[0m, in \u001B[0;36mcall_func_with_variable_args\u001B[0;34m(func, input, config, run_manager, **kwargs)\u001B[0m\n\u001B[1;32m    396\u001B[0m \u001B[38;5;28;01mif\u001B[39;00m run_manager \u001B[38;5;129;01mis\u001B[39;00m \u001B[38;5;129;01mnot\u001B[39;00m \u001B[38;5;28;01mNone\u001B[39;00m \u001B[38;5;129;01mand\u001B[39;00m accepts_run_manager(func):\n\u001B[1;32m    397\u001B[0m     kwargs[\u001B[38;5;124m\"\u001B[39m\u001B[38;5;124mrun_manager\u001B[39m\u001B[38;5;124m\"\u001B[39m] \u001B[38;5;241m=\u001B[39m run_manager\n\u001B[0;32m--> 398\u001B[0m \u001B[38;5;28;01mreturn\u001B[39;00m func(\u001B[38;5;28minput\u001B[39m, \u001B[38;5;241m*\u001B[39m\u001B[38;5;241m*\u001B[39mkwargs)\n",
      "File \u001B[0;32m~/GIT/Interstellar/SB-AI-DEV/DL/Udemy/Generative-AI/Krish Naik/SUBHASISH BISWAS/Langchain Projects/venv/lib/python3.11/site-packages/langchain_core/runnables/passthrough.py:482\u001B[0m, in \u001B[0;36mRunnableAssign._invoke\u001B[0;34m(self, input, run_manager, config, **kwargs)\u001B[0m\n\u001B[1;32m    469\u001B[0m \u001B[38;5;28;01mdef\u001B[39;00m \u001B[38;5;21m_invoke\u001B[39m(\n\u001B[1;32m    470\u001B[0m     \u001B[38;5;28mself\u001B[39m,\n\u001B[1;32m    471\u001B[0m     \u001B[38;5;28minput\u001B[39m: Dict[\u001B[38;5;28mstr\u001B[39m, Any],\n\u001B[0;32m   (...)\u001B[0m\n\u001B[1;32m    474\u001B[0m     \u001B[38;5;241m*\u001B[39m\u001B[38;5;241m*\u001B[39mkwargs: Any,\n\u001B[1;32m    475\u001B[0m ) \u001B[38;5;241m-\u001B[39m\u001B[38;5;241m>\u001B[39m Dict[\u001B[38;5;28mstr\u001B[39m, Any]:\n\u001B[1;32m    476\u001B[0m     \u001B[38;5;28;01massert\u001B[39;00m \u001B[38;5;28misinstance\u001B[39m(\n\u001B[1;32m    477\u001B[0m         \u001B[38;5;28minput\u001B[39m, \u001B[38;5;28mdict\u001B[39m\n\u001B[1;32m    478\u001B[0m     ), \u001B[38;5;124m\"\u001B[39m\u001B[38;5;124mThe input to RunnablePassthrough.assign() must be a dict.\u001B[39m\u001B[38;5;124m\"\u001B[39m\n\u001B[1;32m    480\u001B[0m     \u001B[38;5;28;01mreturn\u001B[39;00m {\n\u001B[1;32m    481\u001B[0m         \u001B[38;5;241m*\u001B[39m\u001B[38;5;241m*\u001B[39m\u001B[38;5;28minput\u001B[39m,\n\u001B[0;32m--> 482\u001B[0m         \u001B[38;5;241m*\u001B[39m\u001B[38;5;241m*\u001B[39m\u001B[38;5;28mself\u001B[39m\u001B[38;5;241m.\u001B[39mmapper\u001B[38;5;241m.\u001B[39minvoke(\n\u001B[1;32m    483\u001B[0m             \u001B[38;5;28minput\u001B[39m,\n\u001B[1;32m    484\u001B[0m             patch_config(config, callbacks\u001B[38;5;241m=\u001B[39mrun_manager\u001B[38;5;241m.\u001B[39mget_child()),\n\u001B[1;32m    485\u001B[0m             \u001B[38;5;241m*\u001B[39m\u001B[38;5;241m*\u001B[39mkwargs,\n\u001B[1;32m    486\u001B[0m         ),\n\u001B[1;32m    487\u001B[0m     }\n",
      "File \u001B[0;32m~/GIT/Interstellar/SB-AI-DEV/DL/Udemy/Generative-AI/Krish Naik/SUBHASISH BISWAS/Langchain Projects/venv/lib/python3.11/site-packages/langchain_core/runnables/base.py:3579\u001B[0m, in \u001B[0;36mRunnableParallel.invoke\u001B[0;34m(self, input, config)\u001B[0m\n\u001B[1;32m   3574\u001B[0m     \u001B[38;5;28;01mwith\u001B[39;00m get_executor_for_config(config) \u001B[38;5;28;01mas\u001B[39;00m executor:\n\u001B[1;32m   3575\u001B[0m         futures \u001B[38;5;241m=\u001B[39m [\n\u001B[1;32m   3576\u001B[0m             executor\u001B[38;5;241m.\u001B[39msubmit(_invoke_step, step, \u001B[38;5;28minput\u001B[39m, config, key)\n\u001B[1;32m   3577\u001B[0m             \u001B[38;5;28;01mfor\u001B[39;00m key, step \u001B[38;5;129;01min\u001B[39;00m steps\u001B[38;5;241m.\u001B[39mitems()\n\u001B[1;32m   3578\u001B[0m         ]\n\u001B[0;32m-> 3579\u001B[0m         output \u001B[38;5;241m=\u001B[39m {key: future\u001B[38;5;241m.\u001B[39mresult() \u001B[38;5;28;01mfor\u001B[39;00m key, future \u001B[38;5;129;01min\u001B[39;00m \u001B[38;5;28mzip\u001B[39m(steps, futures)}\n\u001B[1;32m   3580\u001B[0m \u001B[38;5;66;03m# finish the root run\u001B[39;00m\n\u001B[1;32m   3581\u001B[0m \u001B[38;5;28;01mexcept\u001B[39;00m \u001B[38;5;167;01mBaseException\u001B[39;00m \u001B[38;5;28;01mas\u001B[39;00m e:\n",
      "File \u001B[0;32m~/GIT/Interstellar/SB-AI-DEV/DL/Udemy/Generative-AI/Krish Naik/SUBHASISH BISWAS/Langchain Projects/venv/lib/python3.11/site-packages/langchain_core/runnables/base.py:3579\u001B[0m, in \u001B[0;36m<dictcomp>\u001B[0;34m(.0)\u001B[0m\n\u001B[1;32m   3574\u001B[0m     \u001B[38;5;28;01mwith\u001B[39;00m get_executor_for_config(config) \u001B[38;5;28;01mas\u001B[39;00m executor:\n\u001B[1;32m   3575\u001B[0m         futures \u001B[38;5;241m=\u001B[39m [\n\u001B[1;32m   3576\u001B[0m             executor\u001B[38;5;241m.\u001B[39msubmit(_invoke_step, step, \u001B[38;5;28minput\u001B[39m, config, key)\n\u001B[1;32m   3577\u001B[0m             \u001B[38;5;28;01mfor\u001B[39;00m key, step \u001B[38;5;129;01min\u001B[39;00m steps\u001B[38;5;241m.\u001B[39mitems()\n\u001B[1;32m   3578\u001B[0m         ]\n\u001B[0;32m-> 3579\u001B[0m         output \u001B[38;5;241m=\u001B[39m {key: future\u001B[38;5;241m.\u001B[39mresult() \u001B[38;5;28;01mfor\u001B[39;00m key, future \u001B[38;5;129;01min\u001B[39;00m \u001B[38;5;28mzip\u001B[39m(steps, futures)}\n\u001B[1;32m   3580\u001B[0m \u001B[38;5;66;03m# finish the root run\u001B[39;00m\n\u001B[1;32m   3581\u001B[0m \u001B[38;5;28;01mexcept\u001B[39;00m \u001B[38;5;167;01mBaseException\u001B[39;00m \u001B[38;5;28;01mas\u001B[39;00m e:\n",
      "File \u001B[0;32m~/GIT/Interstellar/SB-AI-DEV/DL/Udemy/Generative-AI/Krish Naik/SUBHASISH BISWAS/Langchain Projects/venv/lib/python3.11/concurrent/futures/_base.py:456\u001B[0m, in \u001B[0;36mFuture.result\u001B[0;34m(self, timeout)\u001B[0m\n\u001B[1;32m    454\u001B[0m     \u001B[38;5;28;01mraise\u001B[39;00m CancelledError()\n\u001B[1;32m    455\u001B[0m \u001B[38;5;28;01melif\u001B[39;00m \u001B[38;5;28mself\u001B[39m\u001B[38;5;241m.\u001B[39m_state \u001B[38;5;241m==\u001B[39m FINISHED:\n\u001B[0;32m--> 456\u001B[0m     \u001B[38;5;28;01mreturn\u001B[39;00m \u001B[38;5;28mself\u001B[39m\u001B[38;5;241m.\u001B[39m__get_result()\n\u001B[1;32m    457\u001B[0m \u001B[38;5;28;01melse\u001B[39;00m:\n\u001B[1;32m    458\u001B[0m     \u001B[38;5;28;01mraise\u001B[39;00m \u001B[38;5;167;01mTimeoutError\u001B[39;00m()\n",
      "File \u001B[0;32m~/GIT/Interstellar/SB-AI-DEV/DL/Udemy/Generative-AI/Krish Naik/SUBHASISH BISWAS/Langchain Projects/venv/lib/python3.11/concurrent/futures/_base.py:401\u001B[0m, in \u001B[0;36mFuture.__get_result\u001B[0;34m(self)\u001B[0m\n\u001B[1;32m    399\u001B[0m \u001B[38;5;28;01mif\u001B[39;00m \u001B[38;5;28mself\u001B[39m\u001B[38;5;241m.\u001B[39m_exception:\n\u001B[1;32m    400\u001B[0m     \u001B[38;5;28;01mtry\u001B[39;00m:\n\u001B[0;32m--> 401\u001B[0m         \u001B[38;5;28;01mraise\u001B[39;00m \u001B[38;5;28mself\u001B[39m\u001B[38;5;241m.\u001B[39m_exception\n\u001B[1;32m    402\u001B[0m     \u001B[38;5;28;01mfinally\u001B[39;00m:\n\u001B[1;32m    403\u001B[0m         \u001B[38;5;66;03m# Break a reference cycle with the exception in self._exception\u001B[39;00m\n\u001B[1;32m    404\u001B[0m         \u001B[38;5;28mself\u001B[39m \u001B[38;5;241m=\u001B[39m \u001B[38;5;28;01mNone\u001B[39;00m\n",
      "File \u001B[0;32m~/GIT/Interstellar/SB-AI-DEV/DL/Udemy/Generative-AI/Krish Naik/SUBHASISH BISWAS/Langchain Projects/venv/lib/python3.11/concurrent/futures/thread.py:58\u001B[0m, in \u001B[0;36m_WorkItem.run\u001B[0;34m(self)\u001B[0m\n\u001B[1;32m     55\u001B[0m     \u001B[38;5;28;01mreturn\u001B[39;00m\n\u001B[1;32m     57\u001B[0m \u001B[38;5;28;01mtry\u001B[39;00m:\n\u001B[0;32m---> 58\u001B[0m     result \u001B[38;5;241m=\u001B[39m \u001B[38;5;28mself\u001B[39m\u001B[38;5;241m.\u001B[39mfn(\u001B[38;5;241m*\u001B[39m\u001B[38;5;28mself\u001B[39m\u001B[38;5;241m.\u001B[39margs, \u001B[38;5;241m*\u001B[39m\u001B[38;5;241m*\u001B[39m\u001B[38;5;28mself\u001B[39m\u001B[38;5;241m.\u001B[39mkwargs)\n\u001B[1;32m     59\u001B[0m \u001B[38;5;28;01mexcept\u001B[39;00m \u001B[38;5;167;01mBaseException\u001B[39;00m \u001B[38;5;28;01mas\u001B[39;00m exc:\n\u001B[1;32m     60\u001B[0m     \u001B[38;5;28mself\u001B[39m\u001B[38;5;241m.\u001B[39mfuture\u001B[38;5;241m.\u001B[39mset_exception(exc)\n",
      "File \u001B[0;32m~/GIT/Interstellar/SB-AI-DEV/DL/Udemy/Generative-AI/Krish Naik/SUBHASISH BISWAS/Langchain Projects/venv/lib/python3.11/site-packages/langchain_core/runnables/base.py:3563\u001B[0m, in \u001B[0;36mRunnableParallel.invoke.<locals>._invoke_step\u001B[0;34m(step, input, config, key)\u001B[0m\n\u001B[1;32m   3561\u001B[0m context \u001B[38;5;241m=\u001B[39m copy_context()\n\u001B[1;32m   3562\u001B[0m context\u001B[38;5;241m.\u001B[39mrun(_set_config_context, child_config)\n\u001B[0;32m-> 3563\u001B[0m \u001B[38;5;28;01mreturn\u001B[39;00m context\u001B[38;5;241m.\u001B[39mrun(\n\u001B[1;32m   3564\u001B[0m     step\u001B[38;5;241m.\u001B[39minvoke,\n\u001B[1;32m   3565\u001B[0m     \u001B[38;5;28minput\u001B[39m,\n\u001B[1;32m   3566\u001B[0m     child_config,\n\u001B[1;32m   3567\u001B[0m )\n",
      "File \u001B[0;32m~/GIT/Interstellar/SB-AI-DEV/DL/Udemy/Generative-AI/Krish Naik/SUBHASISH BISWAS/Langchain Projects/venv/lib/python3.11/site-packages/langchain_core/runnables/base.py:5092\u001B[0m, in \u001B[0;36mRunnableBindingBase.invoke\u001B[0;34m(self, input, config, **kwargs)\u001B[0m\n\u001B[1;32m   5086\u001B[0m \u001B[38;5;28;01mdef\u001B[39;00m \u001B[38;5;21minvoke\u001B[39m(\n\u001B[1;32m   5087\u001B[0m     \u001B[38;5;28mself\u001B[39m,\n\u001B[1;32m   5088\u001B[0m     \u001B[38;5;28minput\u001B[39m: Input,\n\u001B[1;32m   5089\u001B[0m     config: Optional[RunnableConfig] \u001B[38;5;241m=\u001B[39m \u001B[38;5;28;01mNone\u001B[39;00m,\n\u001B[1;32m   5090\u001B[0m     \u001B[38;5;241m*\u001B[39m\u001B[38;5;241m*\u001B[39mkwargs: Optional[Any],\n\u001B[1;32m   5091\u001B[0m ) \u001B[38;5;241m-\u001B[39m\u001B[38;5;241m>\u001B[39m Output:\n\u001B[0;32m-> 5092\u001B[0m     \u001B[38;5;28;01mreturn\u001B[39;00m \u001B[38;5;28mself\u001B[39m\u001B[38;5;241m.\u001B[39mbound\u001B[38;5;241m.\u001B[39minvoke(\n\u001B[1;32m   5093\u001B[0m         \u001B[38;5;28minput\u001B[39m,\n\u001B[1;32m   5094\u001B[0m         \u001B[38;5;28mself\u001B[39m\u001B[38;5;241m.\u001B[39m_merge_configs(config),\n\u001B[1;32m   5095\u001B[0m         \u001B[38;5;241m*\u001B[39m\u001B[38;5;241m*\u001B[39m{\u001B[38;5;241m*\u001B[39m\u001B[38;5;241m*\u001B[39m\u001B[38;5;28mself\u001B[39m\u001B[38;5;241m.\u001B[39mkwargs, \u001B[38;5;241m*\u001B[39m\u001B[38;5;241m*\u001B[39mkwargs},\n\u001B[1;32m   5096\u001B[0m     )\n",
      "File \u001B[0;32m~/GIT/Interstellar/SB-AI-DEV/DL/Udemy/Generative-AI/Krish Naik/SUBHASISH BISWAS/Langchain Projects/venv/lib/python3.11/site-packages/langchain_core/runnables/branch.py:229\u001B[0m, in \u001B[0;36mRunnableBranch.invoke\u001B[0;34m(self, input, config, **kwargs)\u001B[0m\n\u001B[1;32m    220\u001B[0m     expression_value \u001B[38;5;241m=\u001B[39m condition\u001B[38;5;241m.\u001B[39minvoke(\n\u001B[1;32m    221\u001B[0m         \u001B[38;5;28minput\u001B[39m,\n\u001B[1;32m    222\u001B[0m         config\u001B[38;5;241m=\u001B[39mpatch_config(\n\u001B[0;32m   (...)\u001B[0m\n\u001B[1;32m    225\u001B[0m         ),\n\u001B[1;32m    226\u001B[0m     )\n\u001B[1;32m    228\u001B[0m     \u001B[38;5;28;01mif\u001B[39;00m expression_value:\n\u001B[0;32m--> 229\u001B[0m         output \u001B[38;5;241m=\u001B[39m runnable\u001B[38;5;241m.\u001B[39minvoke(\n\u001B[1;32m    230\u001B[0m             \u001B[38;5;28minput\u001B[39m,\n\u001B[1;32m    231\u001B[0m             config\u001B[38;5;241m=\u001B[39mpatch_config(\n\u001B[1;32m    232\u001B[0m                 config,\n\u001B[1;32m    233\u001B[0m                 callbacks\u001B[38;5;241m=\u001B[39mrun_manager\u001B[38;5;241m.\u001B[39mget_child(tag\u001B[38;5;241m=\u001B[39m\u001B[38;5;124mf\u001B[39m\u001B[38;5;124m\"\u001B[39m\u001B[38;5;124mbranch:\u001B[39m\u001B[38;5;132;01m{\u001B[39;00midx\u001B[38;5;250m \u001B[39m\u001B[38;5;241m+\u001B[39m\u001B[38;5;250m \u001B[39m\u001B[38;5;241m1\u001B[39m\u001B[38;5;132;01m}\u001B[39;00m\u001B[38;5;124m\"\u001B[39m),\n\u001B[1;32m    234\u001B[0m             ),\n\u001B[1;32m    235\u001B[0m             \u001B[38;5;241m*\u001B[39m\u001B[38;5;241m*\u001B[39mkwargs,\n\u001B[1;32m    236\u001B[0m         )\n\u001B[1;32m    237\u001B[0m         \u001B[38;5;28;01mbreak\u001B[39;00m\n\u001B[1;32m    238\u001B[0m \u001B[38;5;28;01melse\u001B[39;00m:\n",
      "File \u001B[0;32m~/GIT/Interstellar/SB-AI-DEV/DL/Udemy/Generative-AI/Krish Naik/SUBHASISH BISWAS/Langchain Projects/venv/lib/python3.11/site-packages/langchain_core/runnables/base.py:2878\u001B[0m, in \u001B[0;36mRunnableSequence.invoke\u001B[0;34m(self, input, config, **kwargs)\u001B[0m\n\u001B[1;32m   2876\u001B[0m             \u001B[38;5;28minput\u001B[39m \u001B[38;5;241m=\u001B[39m context\u001B[38;5;241m.\u001B[39mrun(step\u001B[38;5;241m.\u001B[39minvoke, \u001B[38;5;28minput\u001B[39m, config, \u001B[38;5;241m*\u001B[39m\u001B[38;5;241m*\u001B[39mkwargs)\n\u001B[1;32m   2877\u001B[0m         \u001B[38;5;28;01melse\u001B[39;00m:\n\u001B[0;32m-> 2878\u001B[0m             \u001B[38;5;28minput\u001B[39m \u001B[38;5;241m=\u001B[39m context\u001B[38;5;241m.\u001B[39mrun(step\u001B[38;5;241m.\u001B[39minvoke, \u001B[38;5;28minput\u001B[39m, config)\n\u001B[1;32m   2879\u001B[0m \u001B[38;5;66;03m# finish the root run\u001B[39;00m\n\u001B[1;32m   2880\u001B[0m \u001B[38;5;28;01mexcept\u001B[39;00m \u001B[38;5;167;01mBaseException\u001B[39;00m \u001B[38;5;28;01mas\u001B[39;00m e:\n",
      "File \u001B[0;32m~/GIT/Interstellar/SB-AI-DEV/DL/Udemy/Generative-AI/Krish Naik/SUBHASISH BISWAS/Langchain Projects/venv/lib/python3.11/site-packages/langchain_core/retrievers.py:253\u001B[0m, in \u001B[0;36mBaseRetriever.invoke\u001B[0;34m(self, input, config, **kwargs)\u001B[0m\n\u001B[1;32m    251\u001B[0m \u001B[38;5;28;01mexcept\u001B[39;00m \u001B[38;5;167;01mException\u001B[39;00m \u001B[38;5;28;01mas\u001B[39;00m e:\n\u001B[1;32m    252\u001B[0m     run_manager\u001B[38;5;241m.\u001B[39mon_retriever_error(e)\n\u001B[0;32m--> 253\u001B[0m     \u001B[38;5;28;01mraise\u001B[39;00m e\n\u001B[1;32m    254\u001B[0m \u001B[38;5;28;01melse\u001B[39;00m:\n\u001B[1;32m    255\u001B[0m     run_manager\u001B[38;5;241m.\u001B[39mon_retriever_end(\n\u001B[1;32m    256\u001B[0m         result,\n\u001B[1;32m    257\u001B[0m     )\n",
      "File \u001B[0;32m~/GIT/Interstellar/SB-AI-DEV/DL/Udemy/Generative-AI/Krish Naik/SUBHASISH BISWAS/Langchain Projects/venv/lib/python3.11/site-packages/langchain_core/retrievers.py:246\u001B[0m, in \u001B[0;36mBaseRetriever.invoke\u001B[0;34m(self, input, config, **kwargs)\u001B[0m\n\u001B[1;32m    244\u001B[0m _kwargs \u001B[38;5;241m=\u001B[39m kwargs \u001B[38;5;28;01mif\u001B[39;00m \u001B[38;5;28mself\u001B[39m\u001B[38;5;241m.\u001B[39m_expects_other_args \u001B[38;5;28;01melse\u001B[39;00m {}\n\u001B[1;32m    245\u001B[0m \u001B[38;5;28;01mif\u001B[39;00m \u001B[38;5;28mself\u001B[39m\u001B[38;5;241m.\u001B[39m_new_arg_supported:\n\u001B[0;32m--> 246\u001B[0m     result \u001B[38;5;241m=\u001B[39m \u001B[38;5;28mself\u001B[39m\u001B[38;5;241m.\u001B[39m_get_relevant_documents(\n\u001B[1;32m    247\u001B[0m         \u001B[38;5;28minput\u001B[39m, run_manager\u001B[38;5;241m=\u001B[39mrun_manager, \u001B[38;5;241m*\u001B[39m\u001B[38;5;241m*\u001B[39m_kwargs\n\u001B[1;32m    248\u001B[0m     )\n\u001B[1;32m    249\u001B[0m \u001B[38;5;28;01melse\u001B[39;00m:\n\u001B[1;32m    250\u001B[0m     result \u001B[38;5;241m=\u001B[39m \u001B[38;5;28mself\u001B[39m\u001B[38;5;241m.\u001B[39m_get_relevant_documents(\u001B[38;5;28minput\u001B[39m, \u001B[38;5;241m*\u001B[39m\u001B[38;5;241m*\u001B[39m_kwargs)\n",
      "File \u001B[0;32m~/GIT/Interstellar/SB-AI-DEV/DL/Udemy/Generative-AI/Krish Naik/SUBHASISH BISWAS/Langchain Projects/venv/lib/python3.11/site-packages/langchain_core/vectorstores/base.py:1042\u001B[0m, in \u001B[0;36mVectorStoreRetriever._get_relevant_documents\u001B[0;34m(self, query, run_manager)\u001B[0m\n\u001B[1;32m   1038\u001B[0m \u001B[38;5;28;01mdef\u001B[39;00m \u001B[38;5;21m_get_relevant_documents\u001B[39m(\n\u001B[1;32m   1039\u001B[0m     \u001B[38;5;28mself\u001B[39m, query: \u001B[38;5;28mstr\u001B[39m, \u001B[38;5;241m*\u001B[39m, run_manager: CallbackManagerForRetrieverRun\n\u001B[1;32m   1040\u001B[0m ) \u001B[38;5;241m-\u001B[39m\u001B[38;5;241m>\u001B[39m List[Document]:\n\u001B[1;32m   1041\u001B[0m     \u001B[38;5;28;01mif\u001B[39;00m \u001B[38;5;28mself\u001B[39m\u001B[38;5;241m.\u001B[39msearch_type \u001B[38;5;241m==\u001B[39m \u001B[38;5;124m\"\u001B[39m\u001B[38;5;124msimilarity\u001B[39m\u001B[38;5;124m\"\u001B[39m:\n\u001B[0;32m-> 1042\u001B[0m         docs \u001B[38;5;241m=\u001B[39m \u001B[38;5;28mself\u001B[39m\u001B[38;5;241m.\u001B[39mvectorstore\u001B[38;5;241m.\u001B[39msimilarity_search(query, \u001B[38;5;241m*\u001B[39m\u001B[38;5;241m*\u001B[39m\u001B[38;5;28mself\u001B[39m\u001B[38;5;241m.\u001B[39msearch_kwargs)\n\u001B[1;32m   1043\u001B[0m     \u001B[38;5;28;01melif\u001B[39;00m \u001B[38;5;28mself\u001B[39m\u001B[38;5;241m.\u001B[39msearch_type \u001B[38;5;241m==\u001B[39m \u001B[38;5;124m\"\u001B[39m\u001B[38;5;124msimilarity_score_threshold\u001B[39m\u001B[38;5;124m\"\u001B[39m:\n\u001B[1;32m   1044\u001B[0m         docs_and_similarities \u001B[38;5;241m=\u001B[39m (\n\u001B[1;32m   1045\u001B[0m             \u001B[38;5;28mself\u001B[39m\u001B[38;5;241m.\u001B[39mvectorstore\u001B[38;5;241m.\u001B[39msimilarity_search_with_relevance_scores(\n\u001B[1;32m   1046\u001B[0m                 query, \u001B[38;5;241m*\u001B[39m\u001B[38;5;241m*\u001B[39m\u001B[38;5;28mself\u001B[39m\u001B[38;5;241m.\u001B[39msearch_kwargs\n\u001B[1;32m   1047\u001B[0m             )\n\u001B[1;32m   1048\u001B[0m         )\n",
      "File \u001B[0;32m~/GIT/Interstellar/SB-AI-DEV/DL/Udemy/Generative-AI/Krish Naik/SUBHASISH BISWAS/Langchain Projects/venv/lib/python3.11/site-packages/langchain_community/vectorstores/faiss.py:641\u001B[0m, in \u001B[0;36mFAISS.similarity_search\u001B[0;34m(self, query, k, filter, fetch_k, **kwargs)\u001B[0m\n\u001B[1;32m    621\u001B[0m \u001B[38;5;28;01mdef\u001B[39;00m \u001B[38;5;21msimilarity_search\u001B[39m(\n\u001B[1;32m    622\u001B[0m     \u001B[38;5;28mself\u001B[39m,\n\u001B[1;32m    623\u001B[0m     query: \u001B[38;5;28mstr\u001B[39m,\n\u001B[0;32m   (...)\u001B[0m\n\u001B[1;32m    627\u001B[0m     \u001B[38;5;241m*\u001B[39m\u001B[38;5;241m*\u001B[39mkwargs: Any,\n\u001B[1;32m    628\u001B[0m ) \u001B[38;5;241m-\u001B[39m\u001B[38;5;241m>\u001B[39m List[Document]:\n\u001B[1;32m    629\u001B[0m \u001B[38;5;250m    \u001B[39m\u001B[38;5;124;03m\"\"\"Return docs most similar to query.\u001B[39;00m\n\u001B[1;32m    630\u001B[0m \n\u001B[1;32m    631\u001B[0m \u001B[38;5;124;03m    Args:\u001B[39;00m\n\u001B[0;32m   (...)\u001B[0m\n\u001B[1;32m    639\u001B[0m \u001B[38;5;124;03m        List of Documents most similar to the query.\u001B[39;00m\n\u001B[1;32m    640\u001B[0m \u001B[38;5;124;03m    \"\"\"\u001B[39;00m\n\u001B[0;32m--> 641\u001B[0m     docs_and_scores \u001B[38;5;241m=\u001B[39m \u001B[38;5;28mself\u001B[39m\u001B[38;5;241m.\u001B[39msimilarity_search_with_score(\n\u001B[1;32m    642\u001B[0m         query, k, \u001B[38;5;28mfilter\u001B[39m\u001B[38;5;241m=\u001B[39m\u001B[38;5;28mfilter\u001B[39m, fetch_k\u001B[38;5;241m=\u001B[39mfetch_k, \u001B[38;5;241m*\u001B[39m\u001B[38;5;241m*\u001B[39mkwargs\n\u001B[1;32m    643\u001B[0m     )\n\u001B[1;32m    644\u001B[0m     \u001B[38;5;28;01mreturn\u001B[39;00m [doc \u001B[38;5;28;01mfor\u001B[39;00m doc, _ \u001B[38;5;129;01min\u001B[39;00m docs_and_scores]\n",
      "File \u001B[0;32m~/GIT/Interstellar/SB-AI-DEV/DL/Udemy/Generative-AI/Krish Naik/SUBHASISH BISWAS/Langchain Projects/venv/lib/python3.11/site-packages/langchain_community/vectorstores/faiss.py:514\u001B[0m, in \u001B[0;36mFAISS.similarity_search_with_score\u001B[0;34m(self, query, k, filter, fetch_k, **kwargs)\u001B[0m\n\u001B[1;32m    497\u001B[0m \u001B[38;5;250m\u001B[39m\u001B[38;5;124;03m\"\"\"Return docs most similar to query.\u001B[39;00m\n\u001B[1;32m    498\u001B[0m \n\u001B[1;32m    499\u001B[0m \u001B[38;5;124;03mArgs:\u001B[39;00m\n\u001B[0;32m   (...)\u001B[0m\n\u001B[1;32m    511\u001B[0m \u001B[38;5;124;03m    L2 distance in float. Lower score represents more similarity.\u001B[39;00m\n\u001B[1;32m    512\u001B[0m \u001B[38;5;124;03m\"\"\"\u001B[39;00m\n\u001B[1;32m    513\u001B[0m embedding \u001B[38;5;241m=\u001B[39m \u001B[38;5;28mself\u001B[39m\u001B[38;5;241m.\u001B[39m_embed_query(query)\n\u001B[0;32m--> 514\u001B[0m docs \u001B[38;5;241m=\u001B[39m \u001B[38;5;28mself\u001B[39m\u001B[38;5;241m.\u001B[39msimilarity_search_with_score_by_vector(\n\u001B[1;32m    515\u001B[0m     embedding,\n\u001B[1;32m    516\u001B[0m     k,\n\u001B[1;32m    517\u001B[0m     \u001B[38;5;28mfilter\u001B[39m\u001B[38;5;241m=\u001B[39m\u001B[38;5;28mfilter\u001B[39m,\n\u001B[1;32m    518\u001B[0m     fetch_k\u001B[38;5;241m=\u001B[39mfetch_k,\n\u001B[1;32m    519\u001B[0m     \u001B[38;5;241m*\u001B[39m\u001B[38;5;241m*\u001B[39mkwargs,\n\u001B[1;32m    520\u001B[0m )\n\u001B[1;32m    521\u001B[0m \u001B[38;5;28;01mreturn\u001B[39;00m docs\n",
      "File \u001B[0;32m~/GIT/Interstellar/SB-AI-DEV/DL/Udemy/Generative-AI/Krish Naik/SUBHASISH BISWAS/Langchain Projects/venv/lib/python3.11/site-packages/langchain_community/vectorstores/faiss.py:415\u001B[0m, in \u001B[0;36mFAISS.similarity_search_with_score_by_vector\u001B[0;34m(self, embedding, k, filter, fetch_k, **kwargs)\u001B[0m\n\u001B[1;32m    413\u001B[0m \u001B[38;5;28;01mif\u001B[39;00m \u001B[38;5;28mself\u001B[39m\u001B[38;5;241m.\u001B[39m_normalize_L2:\n\u001B[1;32m    414\u001B[0m     faiss\u001B[38;5;241m.\u001B[39mnormalize_L2(vector)\n\u001B[0;32m--> 415\u001B[0m scores, indices \u001B[38;5;241m=\u001B[39m \u001B[38;5;28mself\u001B[39m\u001B[38;5;241m.\u001B[39mindex\u001B[38;5;241m.\u001B[39msearch(vector, k \u001B[38;5;28;01mif\u001B[39;00m \u001B[38;5;28mfilter\u001B[39m \u001B[38;5;129;01mis\u001B[39;00m \u001B[38;5;28;01mNone\u001B[39;00m \u001B[38;5;28;01melse\u001B[39;00m fetch_k)\n\u001B[1;32m    416\u001B[0m docs \u001B[38;5;241m=\u001B[39m []\n\u001B[1;32m    418\u001B[0m \u001B[38;5;28;01mif\u001B[39;00m \u001B[38;5;28mfilter\u001B[39m \u001B[38;5;129;01mis\u001B[39;00m \u001B[38;5;129;01mnot\u001B[39;00m \u001B[38;5;28;01mNone\u001B[39;00m:\n",
      "File \u001B[0;32m~/GIT/Interstellar/SB-AI-DEV/DL/Udemy/Generative-AI/Krish Naik/SUBHASISH BISWAS/Langchain Projects/venv/lib/python3.11/site-packages/faiss/class_wrappers.py:327\u001B[0m, in \u001B[0;36mhandle_Index.<locals>.replacement_search\u001B[0;34m(self, x, k, params, D, I)\u001B[0m\n\u001B[1;32m    300\u001B[0m \u001B[38;5;28;01mdef\u001B[39;00m \u001B[38;5;21mreplacement_search\u001B[39m(\u001B[38;5;28mself\u001B[39m, x, k, \u001B[38;5;241m*\u001B[39m, params\u001B[38;5;241m=\u001B[39m\u001B[38;5;28;01mNone\u001B[39;00m, D\u001B[38;5;241m=\u001B[39m\u001B[38;5;28;01mNone\u001B[39;00m, I\u001B[38;5;241m=\u001B[39m\u001B[38;5;28;01mNone\u001B[39;00m):\n\u001B[1;32m    301\u001B[0m \u001B[38;5;250m    \u001B[39m\u001B[38;5;124;03m\"\"\"Find the k nearest neighbors of the set of vectors x in the index.\u001B[39;00m\n\u001B[1;32m    302\u001B[0m \n\u001B[1;32m    303\u001B[0m \u001B[38;5;124;03m    Parameters\u001B[39;00m\n\u001B[0;32m   (...)\u001B[0m\n\u001B[1;32m    324\u001B[0m \u001B[38;5;124;03m        When not enough results are found, the label is set to -1\u001B[39;00m\n\u001B[1;32m    325\u001B[0m \u001B[38;5;124;03m    \"\"\"\u001B[39;00m\n\u001B[0;32m--> 327\u001B[0m     n, d \u001B[38;5;241m=\u001B[39m x\u001B[38;5;241m.\u001B[39mshape\n\u001B[1;32m    328\u001B[0m     x \u001B[38;5;241m=\u001B[39m np\u001B[38;5;241m.\u001B[39mascontiguousarray(x, dtype\u001B[38;5;241m=\u001B[39m\u001B[38;5;124m'\u001B[39m\u001B[38;5;124mfloat32\u001B[39m\u001B[38;5;124m'\u001B[39m)\n\u001B[1;32m    329\u001B[0m     \u001B[38;5;28;01massert\u001B[39;00m d \u001B[38;5;241m==\u001B[39m \u001B[38;5;28mself\u001B[39m\u001B[38;5;241m.\u001B[39md\n",
      "\u001B[0;31mValueError\u001B[0m: too many values to unpack (expected 2)"
     ]
    }
   ],
   "execution_count": 628
  },
  {
   "metadata": {
    "ExecuteTime": {
     "end_time": "2024-09-22T17:51:30.168878Z",
     "start_time": "2024-09-20T16:28:29.398684Z"
    }
   },
   "cell_type": "code",
   "source": [
    "question=\"The Manufacturer shall:\"\n",
    "response=conversational_rag_chain.invoke(\n",
    "    {\"input\": question},\n",
    "    config={\"configurable\": {\"session_id\": \"session-1\"}},\n",
    ")\n",
    "\n",
    "chat_history.extend(\n",
    "    [\n",
    "        HumanMessage(content=question),\n",
    "        AIMessage(content=response[\"answer\"]),\n",
    "    ]\n",
    ")\n",
    "print(response['answer'])"
   ],
   "id": "8fe236713b0f211c",
   "outputs": [
    {
     "ename": "ValueError",
     "evalue": "too many values to unpack (expected 2)",
     "output_type": "error",
     "traceback": [
      "\u001B[0;31m---------------------------------------------------------------------------\u001B[0m",
      "\u001B[0;31mValueError\u001B[0m                                Traceback (most recent call last)",
      "Cell \u001B[0;32mIn[55], line 2\u001B[0m\n\u001B[1;32m      1\u001B[0m question\u001B[38;5;241m=\u001B[39m\u001B[38;5;124m\"\u001B[39m\u001B[38;5;124mThe Manufacturer shall:\u001B[39m\u001B[38;5;124m\"\u001B[39m\n\u001B[0;32m----> 2\u001B[0m response\u001B[38;5;241m=\u001B[39mconversational_rag_chain\u001B[38;5;241m.\u001B[39minvoke(\n\u001B[1;32m      3\u001B[0m     {\u001B[38;5;124m\"\u001B[39m\u001B[38;5;124minput\u001B[39m\u001B[38;5;124m\"\u001B[39m: question},\n\u001B[1;32m      4\u001B[0m     config\u001B[38;5;241m=\u001B[39m{\u001B[38;5;124m\"\u001B[39m\u001B[38;5;124mconfigurable\u001B[39m\u001B[38;5;124m\"\u001B[39m: {\u001B[38;5;124m\"\u001B[39m\u001B[38;5;124msession_id\u001B[39m\u001B[38;5;124m\"\u001B[39m: \u001B[38;5;124m\"\u001B[39m\u001B[38;5;124msession-1\u001B[39m\u001B[38;5;124m\"\u001B[39m}},\n\u001B[1;32m      5\u001B[0m )\n\u001B[1;32m      7\u001B[0m chat_history\u001B[38;5;241m.\u001B[39mextend(\n\u001B[1;32m      8\u001B[0m     [\n\u001B[1;32m      9\u001B[0m         HumanMessage(content\u001B[38;5;241m=\u001B[39mquestion),\n\u001B[1;32m     10\u001B[0m         AIMessage(content\u001B[38;5;241m=\u001B[39mresponse[\u001B[38;5;124m\"\u001B[39m\u001B[38;5;124manswer\u001B[39m\u001B[38;5;124m\"\u001B[39m]),\n\u001B[1;32m     11\u001B[0m     ]\n\u001B[1;32m     12\u001B[0m )\n\u001B[1;32m     13\u001B[0m \u001B[38;5;28mprint\u001B[39m(response[\u001B[38;5;124m'\u001B[39m\u001B[38;5;124manswer\u001B[39m\u001B[38;5;124m'\u001B[39m])\n",
      "File \u001B[0;32m~/GIT/Interstellar/SB-AI-DEV/DL/Udemy/Generative-AI/Krish Naik/SUBHASISH BISWAS/Langchain Projects/venv/lib/python3.11/site-packages/langchain_core/runnables/base.py:5092\u001B[0m, in \u001B[0;36mRunnableBindingBase.invoke\u001B[0;34m(self, input, config, **kwargs)\u001B[0m\n\u001B[1;32m   5086\u001B[0m \u001B[38;5;28;01mdef\u001B[39;00m \u001B[38;5;21minvoke\u001B[39m(\n\u001B[1;32m   5087\u001B[0m     \u001B[38;5;28mself\u001B[39m,\n\u001B[1;32m   5088\u001B[0m     \u001B[38;5;28minput\u001B[39m: Input,\n\u001B[1;32m   5089\u001B[0m     config: Optional[RunnableConfig] \u001B[38;5;241m=\u001B[39m \u001B[38;5;28;01mNone\u001B[39;00m,\n\u001B[1;32m   5090\u001B[0m     \u001B[38;5;241m*\u001B[39m\u001B[38;5;241m*\u001B[39mkwargs: Optional[Any],\n\u001B[1;32m   5091\u001B[0m ) \u001B[38;5;241m-\u001B[39m\u001B[38;5;241m>\u001B[39m Output:\n\u001B[0;32m-> 5092\u001B[0m     \u001B[38;5;28;01mreturn\u001B[39;00m \u001B[38;5;28mself\u001B[39m\u001B[38;5;241m.\u001B[39mbound\u001B[38;5;241m.\u001B[39minvoke(\n\u001B[1;32m   5093\u001B[0m         \u001B[38;5;28minput\u001B[39m,\n\u001B[1;32m   5094\u001B[0m         \u001B[38;5;28mself\u001B[39m\u001B[38;5;241m.\u001B[39m_merge_configs(config),\n\u001B[1;32m   5095\u001B[0m         \u001B[38;5;241m*\u001B[39m\u001B[38;5;241m*\u001B[39m{\u001B[38;5;241m*\u001B[39m\u001B[38;5;241m*\u001B[39m\u001B[38;5;28mself\u001B[39m\u001B[38;5;241m.\u001B[39mkwargs, \u001B[38;5;241m*\u001B[39m\u001B[38;5;241m*\u001B[39mkwargs},\n\u001B[1;32m   5096\u001B[0m     )\n",
      "File \u001B[0;32m~/GIT/Interstellar/SB-AI-DEV/DL/Udemy/Generative-AI/Krish Naik/SUBHASISH BISWAS/Langchain Projects/venv/lib/python3.11/site-packages/langchain_core/runnables/base.py:5092\u001B[0m, in \u001B[0;36mRunnableBindingBase.invoke\u001B[0;34m(self, input, config, **kwargs)\u001B[0m\n\u001B[1;32m   5086\u001B[0m \u001B[38;5;28;01mdef\u001B[39;00m \u001B[38;5;21minvoke\u001B[39m(\n\u001B[1;32m   5087\u001B[0m     \u001B[38;5;28mself\u001B[39m,\n\u001B[1;32m   5088\u001B[0m     \u001B[38;5;28minput\u001B[39m: Input,\n\u001B[1;32m   5089\u001B[0m     config: Optional[RunnableConfig] \u001B[38;5;241m=\u001B[39m \u001B[38;5;28;01mNone\u001B[39;00m,\n\u001B[1;32m   5090\u001B[0m     \u001B[38;5;241m*\u001B[39m\u001B[38;5;241m*\u001B[39mkwargs: Optional[Any],\n\u001B[1;32m   5091\u001B[0m ) \u001B[38;5;241m-\u001B[39m\u001B[38;5;241m>\u001B[39m Output:\n\u001B[0;32m-> 5092\u001B[0m     \u001B[38;5;28;01mreturn\u001B[39;00m \u001B[38;5;28mself\u001B[39m\u001B[38;5;241m.\u001B[39mbound\u001B[38;5;241m.\u001B[39minvoke(\n\u001B[1;32m   5093\u001B[0m         \u001B[38;5;28minput\u001B[39m,\n\u001B[1;32m   5094\u001B[0m         \u001B[38;5;28mself\u001B[39m\u001B[38;5;241m.\u001B[39m_merge_configs(config),\n\u001B[1;32m   5095\u001B[0m         \u001B[38;5;241m*\u001B[39m\u001B[38;5;241m*\u001B[39m{\u001B[38;5;241m*\u001B[39m\u001B[38;5;241m*\u001B[39m\u001B[38;5;28mself\u001B[39m\u001B[38;5;241m.\u001B[39mkwargs, \u001B[38;5;241m*\u001B[39m\u001B[38;5;241m*\u001B[39mkwargs},\n\u001B[1;32m   5096\u001B[0m     )\n",
      "File \u001B[0;32m~/GIT/Interstellar/SB-AI-DEV/DL/Udemy/Generative-AI/Krish Naik/SUBHASISH BISWAS/Langchain Projects/venv/lib/python3.11/site-packages/langchain_core/runnables/base.py:2878\u001B[0m, in \u001B[0;36mRunnableSequence.invoke\u001B[0;34m(self, input, config, **kwargs)\u001B[0m\n\u001B[1;32m   2876\u001B[0m             \u001B[38;5;28minput\u001B[39m \u001B[38;5;241m=\u001B[39m context\u001B[38;5;241m.\u001B[39mrun(step\u001B[38;5;241m.\u001B[39minvoke, \u001B[38;5;28minput\u001B[39m, config, \u001B[38;5;241m*\u001B[39m\u001B[38;5;241m*\u001B[39mkwargs)\n\u001B[1;32m   2877\u001B[0m         \u001B[38;5;28;01melse\u001B[39;00m:\n\u001B[0;32m-> 2878\u001B[0m             \u001B[38;5;28minput\u001B[39m \u001B[38;5;241m=\u001B[39m context\u001B[38;5;241m.\u001B[39mrun(step\u001B[38;5;241m.\u001B[39minvoke, \u001B[38;5;28minput\u001B[39m, config)\n\u001B[1;32m   2879\u001B[0m \u001B[38;5;66;03m# finish the root run\u001B[39;00m\n\u001B[1;32m   2880\u001B[0m \u001B[38;5;28;01mexcept\u001B[39;00m \u001B[38;5;167;01mBaseException\u001B[39;00m \u001B[38;5;28;01mas\u001B[39;00m e:\n",
      "File \u001B[0;32m~/GIT/Interstellar/SB-AI-DEV/DL/Udemy/Generative-AI/Krish Naik/SUBHASISH BISWAS/Langchain Projects/venv/lib/python3.11/site-packages/langchain_core/runnables/base.py:5092\u001B[0m, in \u001B[0;36mRunnableBindingBase.invoke\u001B[0;34m(self, input, config, **kwargs)\u001B[0m\n\u001B[1;32m   5086\u001B[0m \u001B[38;5;28;01mdef\u001B[39;00m \u001B[38;5;21minvoke\u001B[39m(\n\u001B[1;32m   5087\u001B[0m     \u001B[38;5;28mself\u001B[39m,\n\u001B[1;32m   5088\u001B[0m     \u001B[38;5;28minput\u001B[39m: Input,\n\u001B[1;32m   5089\u001B[0m     config: Optional[RunnableConfig] \u001B[38;5;241m=\u001B[39m \u001B[38;5;28;01mNone\u001B[39;00m,\n\u001B[1;32m   5090\u001B[0m     \u001B[38;5;241m*\u001B[39m\u001B[38;5;241m*\u001B[39mkwargs: Optional[Any],\n\u001B[1;32m   5091\u001B[0m ) \u001B[38;5;241m-\u001B[39m\u001B[38;5;241m>\u001B[39m Output:\n\u001B[0;32m-> 5092\u001B[0m     \u001B[38;5;28;01mreturn\u001B[39;00m \u001B[38;5;28mself\u001B[39m\u001B[38;5;241m.\u001B[39mbound\u001B[38;5;241m.\u001B[39minvoke(\n\u001B[1;32m   5093\u001B[0m         \u001B[38;5;28minput\u001B[39m,\n\u001B[1;32m   5094\u001B[0m         \u001B[38;5;28mself\u001B[39m\u001B[38;5;241m.\u001B[39m_merge_configs(config),\n\u001B[1;32m   5095\u001B[0m         \u001B[38;5;241m*\u001B[39m\u001B[38;5;241m*\u001B[39m{\u001B[38;5;241m*\u001B[39m\u001B[38;5;241m*\u001B[39m\u001B[38;5;28mself\u001B[39m\u001B[38;5;241m.\u001B[39mkwargs, \u001B[38;5;241m*\u001B[39m\u001B[38;5;241m*\u001B[39mkwargs},\n\u001B[1;32m   5096\u001B[0m     )\n",
      "File \u001B[0;32m~/GIT/Interstellar/SB-AI-DEV/DL/Udemy/Generative-AI/Krish Naik/SUBHASISH BISWAS/Langchain Projects/venv/lib/python3.11/site-packages/langchain_core/runnables/base.py:4474\u001B[0m, in \u001B[0;36mRunnableLambda.invoke\u001B[0;34m(self, input, config, **kwargs)\u001B[0m\n\u001B[1;32m   4460\u001B[0m \u001B[38;5;250m\u001B[39m\u001B[38;5;124;03m\"\"\"Invoke this Runnable synchronously.\u001B[39;00m\n\u001B[1;32m   4461\u001B[0m \n\u001B[1;32m   4462\u001B[0m \u001B[38;5;124;03mArgs:\u001B[39;00m\n\u001B[0;32m   (...)\u001B[0m\n\u001B[1;32m   4471\u001B[0m \u001B[38;5;124;03m    TypeError: If the Runnable is a coroutine function.\u001B[39;00m\n\u001B[1;32m   4472\u001B[0m \u001B[38;5;124;03m\"\"\"\u001B[39;00m\n\u001B[1;32m   4473\u001B[0m \u001B[38;5;28;01mif\u001B[39;00m \u001B[38;5;28mhasattr\u001B[39m(\u001B[38;5;28mself\u001B[39m, \u001B[38;5;124m\"\u001B[39m\u001B[38;5;124mfunc\u001B[39m\u001B[38;5;124m\"\u001B[39m):\n\u001B[0;32m-> 4474\u001B[0m     \u001B[38;5;28;01mreturn\u001B[39;00m \u001B[38;5;28mself\u001B[39m\u001B[38;5;241m.\u001B[39m_call_with_config(\n\u001B[1;32m   4475\u001B[0m         \u001B[38;5;28mself\u001B[39m\u001B[38;5;241m.\u001B[39m_invoke,\n\u001B[1;32m   4476\u001B[0m         \u001B[38;5;28minput\u001B[39m,\n\u001B[1;32m   4477\u001B[0m         \u001B[38;5;28mself\u001B[39m\u001B[38;5;241m.\u001B[39m_config(config, \u001B[38;5;28mself\u001B[39m\u001B[38;5;241m.\u001B[39mfunc),\n\u001B[1;32m   4478\u001B[0m         \u001B[38;5;241m*\u001B[39m\u001B[38;5;241m*\u001B[39mkwargs,\n\u001B[1;32m   4479\u001B[0m     )\n\u001B[1;32m   4480\u001B[0m \u001B[38;5;28;01melse\u001B[39;00m:\n\u001B[1;32m   4481\u001B[0m     \u001B[38;5;28;01mraise\u001B[39;00m \u001B[38;5;167;01mTypeError\u001B[39;00m(\n\u001B[1;32m   4482\u001B[0m         \u001B[38;5;124m\"\u001B[39m\u001B[38;5;124mCannot invoke a coroutine function synchronously.\u001B[39m\u001B[38;5;124m\"\u001B[39m\n\u001B[1;32m   4483\u001B[0m         \u001B[38;5;124m\"\u001B[39m\u001B[38;5;124mUse `ainvoke` instead.\u001B[39m\u001B[38;5;124m\"\u001B[39m\n\u001B[1;32m   4484\u001B[0m     )\n",
      "File \u001B[0;32m~/GIT/Interstellar/SB-AI-DEV/DL/Udemy/Generative-AI/Krish Naik/SUBHASISH BISWAS/Langchain Projects/venv/lib/python3.11/site-packages/langchain_core/runnables/base.py:1785\u001B[0m, in \u001B[0;36mRunnable._call_with_config\u001B[0;34m(self, func, input, config, run_type, **kwargs)\u001B[0m\n\u001B[1;32m   1781\u001B[0m     context \u001B[38;5;241m=\u001B[39m copy_context()\n\u001B[1;32m   1782\u001B[0m     context\u001B[38;5;241m.\u001B[39mrun(_set_config_context, child_config)\n\u001B[1;32m   1783\u001B[0m     output \u001B[38;5;241m=\u001B[39m cast(\n\u001B[1;32m   1784\u001B[0m         Output,\n\u001B[0;32m-> 1785\u001B[0m         context\u001B[38;5;241m.\u001B[39mrun(\n\u001B[1;32m   1786\u001B[0m             call_func_with_variable_args,  \u001B[38;5;66;03m# type: ignore[arg-type]\u001B[39;00m\n\u001B[1;32m   1787\u001B[0m             func,  \u001B[38;5;66;03m# type: ignore[arg-type]\u001B[39;00m\n\u001B[1;32m   1788\u001B[0m             \u001B[38;5;28minput\u001B[39m,  \u001B[38;5;66;03m# type: ignore[arg-type]\u001B[39;00m\n\u001B[1;32m   1789\u001B[0m             config,\n\u001B[1;32m   1790\u001B[0m             run_manager,\n\u001B[1;32m   1791\u001B[0m             \u001B[38;5;241m*\u001B[39m\u001B[38;5;241m*\u001B[39mkwargs,\n\u001B[1;32m   1792\u001B[0m         ),\n\u001B[1;32m   1793\u001B[0m     )\n\u001B[1;32m   1794\u001B[0m \u001B[38;5;28;01mexcept\u001B[39;00m \u001B[38;5;167;01mBaseException\u001B[39;00m \u001B[38;5;28;01mas\u001B[39;00m e:\n\u001B[1;32m   1795\u001B[0m     run_manager\u001B[38;5;241m.\u001B[39mon_chain_error(e)\n",
      "File \u001B[0;32m~/GIT/Interstellar/SB-AI-DEV/DL/Udemy/Generative-AI/Krish Naik/SUBHASISH BISWAS/Langchain Projects/venv/lib/python3.11/site-packages/langchain_core/runnables/config.py:398\u001B[0m, in \u001B[0;36mcall_func_with_variable_args\u001B[0;34m(func, input, config, run_manager, **kwargs)\u001B[0m\n\u001B[1;32m    396\u001B[0m \u001B[38;5;28;01mif\u001B[39;00m run_manager \u001B[38;5;129;01mis\u001B[39;00m \u001B[38;5;129;01mnot\u001B[39;00m \u001B[38;5;28;01mNone\u001B[39;00m \u001B[38;5;129;01mand\u001B[39;00m accepts_run_manager(func):\n\u001B[1;32m    397\u001B[0m     kwargs[\u001B[38;5;124m\"\u001B[39m\u001B[38;5;124mrun_manager\u001B[39m\u001B[38;5;124m\"\u001B[39m] \u001B[38;5;241m=\u001B[39m run_manager\n\u001B[0;32m--> 398\u001B[0m \u001B[38;5;28;01mreturn\u001B[39;00m func(\u001B[38;5;28minput\u001B[39m, \u001B[38;5;241m*\u001B[39m\u001B[38;5;241m*\u001B[39mkwargs)\n",
      "File \u001B[0;32m~/GIT/Interstellar/SB-AI-DEV/DL/Udemy/Generative-AI/Krish Naik/SUBHASISH BISWAS/Langchain Projects/venv/lib/python3.11/site-packages/langchain_core/runnables/base.py:4340\u001B[0m, in \u001B[0;36mRunnableLambda._invoke\u001B[0;34m(self, input, run_manager, config, **kwargs)\u001B[0m\n\u001B[1;32m   4336\u001B[0m     \u001B[38;5;28;01mif\u001B[39;00m recursion_limit \u001B[38;5;241m<\u001B[39m\u001B[38;5;241m=\u001B[39m \u001B[38;5;241m0\u001B[39m:\n\u001B[1;32m   4337\u001B[0m         \u001B[38;5;28;01mraise\u001B[39;00m \u001B[38;5;167;01mRecursionError\u001B[39;00m(\n\u001B[1;32m   4338\u001B[0m             \u001B[38;5;124mf\u001B[39m\u001B[38;5;124m\"\u001B[39m\u001B[38;5;124mRecursion limit reached when invoking \u001B[39m\u001B[38;5;132;01m{\u001B[39;00m\u001B[38;5;28mself\u001B[39m\u001B[38;5;132;01m}\u001B[39;00m\u001B[38;5;124m with input \u001B[39m\u001B[38;5;132;01m{\u001B[39;00m\u001B[38;5;28minput\u001B[39m\u001B[38;5;132;01m}\u001B[39;00m\u001B[38;5;124m.\u001B[39m\u001B[38;5;124m\"\u001B[39m\n\u001B[1;32m   4339\u001B[0m         )\n\u001B[0;32m-> 4340\u001B[0m     output \u001B[38;5;241m=\u001B[39m output\u001B[38;5;241m.\u001B[39minvoke(\n\u001B[1;32m   4341\u001B[0m         \u001B[38;5;28minput\u001B[39m,\n\u001B[1;32m   4342\u001B[0m         patch_config(\n\u001B[1;32m   4343\u001B[0m             config,\n\u001B[1;32m   4344\u001B[0m             callbacks\u001B[38;5;241m=\u001B[39mrun_manager\u001B[38;5;241m.\u001B[39mget_child(),\n\u001B[1;32m   4345\u001B[0m             recursion_limit\u001B[38;5;241m=\u001B[39mrecursion_limit \u001B[38;5;241m-\u001B[39m \u001B[38;5;241m1\u001B[39m,\n\u001B[1;32m   4346\u001B[0m         ),\n\u001B[1;32m   4347\u001B[0m     )\n\u001B[1;32m   4348\u001B[0m \u001B[38;5;28;01mreturn\u001B[39;00m cast(Output, output)\n",
      "File \u001B[0;32m~/GIT/Interstellar/SB-AI-DEV/DL/Udemy/Generative-AI/Krish Naik/SUBHASISH BISWAS/Langchain Projects/venv/lib/python3.11/site-packages/langchain_core/runnables/base.py:5092\u001B[0m, in \u001B[0;36mRunnableBindingBase.invoke\u001B[0;34m(self, input, config, **kwargs)\u001B[0m\n\u001B[1;32m   5086\u001B[0m \u001B[38;5;28;01mdef\u001B[39;00m \u001B[38;5;21minvoke\u001B[39m(\n\u001B[1;32m   5087\u001B[0m     \u001B[38;5;28mself\u001B[39m,\n\u001B[1;32m   5088\u001B[0m     \u001B[38;5;28minput\u001B[39m: Input,\n\u001B[1;32m   5089\u001B[0m     config: Optional[RunnableConfig] \u001B[38;5;241m=\u001B[39m \u001B[38;5;28;01mNone\u001B[39;00m,\n\u001B[1;32m   5090\u001B[0m     \u001B[38;5;241m*\u001B[39m\u001B[38;5;241m*\u001B[39mkwargs: Optional[Any],\n\u001B[1;32m   5091\u001B[0m ) \u001B[38;5;241m-\u001B[39m\u001B[38;5;241m>\u001B[39m Output:\n\u001B[0;32m-> 5092\u001B[0m     \u001B[38;5;28;01mreturn\u001B[39;00m \u001B[38;5;28mself\u001B[39m\u001B[38;5;241m.\u001B[39mbound\u001B[38;5;241m.\u001B[39minvoke(\n\u001B[1;32m   5093\u001B[0m         \u001B[38;5;28minput\u001B[39m,\n\u001B[1;32m   5094\u001B[0m         \u001B[38;5;28mself\u001B[39m\u001B[38;5;241m.\u001B[39m_merge_configs(config),\n\u001B[1;32m   5095\u001B[0m         \u001B[38;5;241m*\u001B[39m\u001B[38;5;241m*\u001B[39m{\u001B[38;5;241m*\u001B[39m\u001B[38;5;241m*\u001B[39m\u001B[38;5;28mself\u001B[39m\u001B[38;5;241m.\u001B[39mkwargs, \u001B[38;5;241m*\u001B[39m\u001B[38;5;241m*\u001B[39mkwargs},\n\u001B[1;32m   5096\u001B[0m     )\n",
      "File \u001B[0;32m~/GIT/Interstellar/SB-AI-DEV/DL/Udemy/Generative-AI/Krish Naik/SUBHASISH BISWAS/Langchain Projects/venv/lib/python3.11/site-packages/langchain_core/runnables/base.py:2876\u001B[0m, in \u001B[0;36mRunnableSequence.invoke\u001B[0;34m(self, input, config, **kwargs)\u001B[0m\n\u001B[1;32m   2874\u001B[0m context\u001B[38;5;241m.\u001B[39mrun(_set_config_context, config)\n\u001B[1;32m   2875\u001B[0m \u001B[38;5;28;01mif\u001B[39;00m i \u001B[38;5;241m==\u001B[39m \u001B[38;5;241m0\u001B[39m:\n\u001B[0;32m-> 2876\u001B[0m     \u001B[38;5;28minput\u001B[39m \u001B[38;5;241m=\u001B[39m context\u001B[38;5;241m.\u001B[39mrun(step\u001B[38;5;241m.\u001B[39minvoke, \u001B[38;5;28minput\u001B[39m, config, \u001B[38;5;241m*\u001B[39m\u001B[38;5;241m*\u001B[39mkwargs)\n\u001B[1;32m   2877\u001B[0m \u001B[38;5;28;01melse\u001B[39;00m:\n\u001B[1;32m   2878\u001B[0m     \u001B[38;5;28minput\u001B[39m \u001B[38;5;241m=\u001B[39m context\u001B[38;5;241m.\u001B[39mrun(step\u001B[38;5;241m.\u001B[39minvoke, \u001B[38;5;28minput\u001B[39m, config)\n",
      "File \u001B[0;32m~/GIT/Interstellar/SB-AI-DEV/DL/Udemy/Generative-AI/Krish Naik/SUBHASISH BISWAS/Langchain Projects/venv/lib/python3.11/site-packages/langchain_core/runnables/passthrough.py:495\u001B[0m, in \u001B[0;36mRunnableAssign.invoke\u001B[0;34m(self, input, config, **kwargs)\u001B[0m\n\u001B[1;32m    489\u001B[0m \u001B[38;5;28;01mdef\u001B[39;00m \u001B[38;5;21minvoke\u001B[39m(\n\u001B[1;32m    490\u001B[0m     \u001B[38;5;28mself\u001B[39m,\n\u001B[1;32m    491\u001B[0m     \u001B[38;5;28minput\u001B[39m: Dict[\u001B[38;5;28mstr\u001B[39m, Any],\n\u001B[1;32m    492\u001B[0m     config: Optional[RunnableConfig] \u001B[38;5;241m=\u001B[39m \u001B[38;5;28;01mNone\u001B[39;00m,\n\u001B[1;32m    493\u001B[0m     \u001B[38;5;241m*\u001B[39m\u001B[38;5;241m*\u001B[39mkwargs: Any,\n\u001B[1;32m    494\u001B[0m ) \u001B[38;5;241m-\u001B[39m\u001B[38;5;241m>\u001B[39m Dict[\u001B[38;5;28mstr\u001B[39m, Any]:\n\u001B[0;32m--> 495\u001B[0m     \u001B[38;5;28;01mreturn\u001B[39;00m \u001B[38;5;28mself\u001B[39m\u001B[38;5;241m.\u001B[39m_call_with_config(\u001B[38;5;28mself\u001B[39m\u001B[38;5;241m.\u001B[39m_invoke, \u001B[38;5;28minput\u001B[39m, config, \u001B[38;5;241m*\u001B[39m\u001B[38;5;241m*\u001B[39mkwargs)\n",
      "File \u001B[0;32m~/GIT/Interstellar/SB-AI-DEV/DL/Udemy/Generative-AI/Krish Naik/SUBHASISH BISWAS/Langchain Projects/venv/lib/python3.11/site-packages/langchain_core/runnables/base.py:1785\u001B[0m, in \u001B[0;36mRunnable._call_with_config\u001B[0;34m(self, func, input, config, run_type, **kwargs)\u001B[0m\n\u001B[1;32m   1781\u001B[0m     context \u001B[38;5;241m=\u001B[39m copy_context()\n\u001B[1;32m   1782\u001B[0m     context\u001B[38;5;241m.\u001B[39mrun(_set_config_context, child_config)\n\u001B[1;32m   1783\u001B[0m     output \u001B[38;5;241m=\u001B[39m cast(\n\u001B[1;32m   1784\u001B[0m         Output,\n\u001B[0;32m-> 1785\u001B[0m         context\u001B[38;5;241m.\u001B[39mrun(\n\u001B[1;32m   1786\u001B[0m             call_func_with_variable_args,  \u001B[38;5;66;03m# type: ignore[arg-type]\u001B[39;00m\n\u001B[1;32m   1787\u001B[0m             func,  \u001B[38;5;66;03m# type: ignore[arg-type]\u001B[39;00m\n\u001B[1;32m   1788\u001B[0m             \u001B[38;5;28minput\u001B[39m,  \u001B[38;5;66;03m# type: ignore[arg-type]\u001B[39;00m\n\u001B[1;32m   1789\u001B[0m             config,\n\u001B[1;32m   1790\u001B[0m             run_manager,\n\u001B[1;32m   1791\u001B[0m             \u001B[38;5;241m*\u001B[39m\u001B[38;5;241m*\u001B[39mkwargs,\n\u001B[1;32m   1792\u001B[0m         ),\n\u001B[1;32m   1793\u001B[0m     )\n\u001B[1;32m   1794\u001B[0m \u001B[38;5;28;01mexcept\u001B[39;00m \u001B[38;5;167;01mBaseException\u001B[39;00m \u001B[38;5;28;01mas\u001B[39;00m e:\n\u001B[1;32m   1795\u001B[0m     run_manager\u001B[38;5;241m.\u001B[39mon_chain_error(e)\n",
      "File \u001B[0;32m~/GIT/Interstellar/SB-AI-DEV/DL/Udemy/Generative-AI/Krish Naik/SUBHASISH BISWAS/Langchain Projects/venv/lib/python3.11/site-packages/langchain_core/runnables/config.py:398\u001B[0m, in \u001B[0;36mcall_func_with_variable_args\u001B[0;34m(func, input, config, run_manager, **kwargs)\u001B[0m\n\u001B[1;32m    396\u001B[0m \u001B[38;5;28;01mif\u001B[39;00m run_manager \u001B[38;5;129;01mis\u001B[39;00m \u001B[38;5;129;01mnot\u001B[39;00m \u001B[38;5;28;01mNone\u001B[39;00m \u001B[38;5;129;01mand\u001B[39;00m accepts_run_manager(func):\n\u001B[1;32m    397\u001B[0m     kwargs[\u001B[38;5;124m\"\u001B[39m\u001B[38;5;124mrun_manager\u001B[39m\u001B[38;5;124m\"\u001B[39m] \u001B[38;5;241m=\u001B[39m run_manager\n\u001B[0;32m--> 398\u001B[0m \u001B[38;5;28;01mreturn\u001B[39;00m func(\u001B[38;5;28minput\u001B[39m, \u001B[38;5;241m*\u001B[39m\u001B[38;5;241m*\u001B[39mkwargs)\n",
      "File \u001B[0;32m~/GIT/Interstellar/SB-AI-DEV/DL/Udemy/Generative-AI/Krish Naik/SUBHASISH BISWAS/Langchain Projects/venv/lib/python3.11/site-packages/langchain_core/runnables/passthrough.py:482\u001B[0m, in \u001B[0;36mRunnableAssign._invoke\u001B[0;34m(self, input, run_manager, config, **kwargs)\u001B[0m\n\u001B[1;32m    469\u001B[0m \u001B[38;5;28;01mdef\u001B[39;00m \u001B[38;5;21m_invoke\u001B[39m(\n\u001B[1;32m    470\u001B[0m     \u001B[38;5;28mself\u001B[39m,\n\u001B[1;32m    471\u001B[0m     \u001B[38;5;28minput\u001B[39m: Dict[\u001B[38;5;28mstr\u001B[39m, Any],\n\u001B[0;32m   (...)\u001B[0m\n\u001B[1;32m    474\u001B[0m     \u001B[38;5;241m*\u001B[39m\u001B[38;5;241m*\u001B[39mkwargs: Any,\n\u001B[1;32m    475\u001B[0m ) \u001B[38;5;241m-\u001B[39m\u001B[38;5;241m>\u001B[39m Dict[\u001B[38;5;28mstr\u001B[39m, Any]:\n\u001B[1;32m    476\u001B[0m     \u001B[38;5;28;01massert\u001B[39;00m \u001B[38;5;28misinstance\u001B[39m(\n\u001B[1;32m    477\u001B[0m         \u001B[38;5;28minput\u001B[39m, \u001B[38;5;28mdict\u001B[39m\n\u001B[1;32m    478\u001B[0m     ), \u001B[38;5;124m\"\u001B[39m\u001B[38;5;124mThe input to RunnablePassthrough.assign() must be a dict.\u001B[39m\u001B[38;5;124m\"\u001B[39m\n\u001B[1;32m    480\u001B[0m     \u001B[38;5;28;01mreturn\u001B[39;00m {\n\u001B[1;32m    481\u001B[0m         \u001B[38;5;241m*\u001B[39m\u001B[38;5;241m*\u001B[39m\u001B[38;5;28minput\u001B[39m,\n\u001B[0;32m--> 482\u001B[0m         \u001B[38;5;241m*\u001B[39m\u001B[38;5;241m*\u001B[39m\u001B[38;5;28mself\u001B[39m\u001B[38;5;241m.\u001B[39mmapper\u001B[38;5;241m.\u001B[39minvoke(\n\u001B[1;32m    483\u001B[0m             \u001B[38;5;28minput\u001B[39m,\n\u001B[1;32m    484\u001B[0m             patch_config(config, callbacks\u001B[38;5;241m=\u001B[39mrun_manager\u001B[38;5;241m.\u001B[39mget_child()),\n\u001B[1;32m    485\u001B[0m             \u001B[38;5;241m*\u001B[39m\u001B[38;5;241m*\u001B[39mkwargs,\n\u001B[1;32m    486\u001B[0m         ),\n\u001B[1;32m    487\u001B[0m     }\n",
      "File \u001B[0;32m~/GIT/Interstellar/SB-AI-DEV/DL/Udemy/Generative-AI/Krish Naik/SUBHASISH BISWAS/Langchain Projects/venv/lib/python3.11/site-packages/langchain_core/runnables/base.py:3579\u001B[0m, in \u001B[0;36mRunnableParallel.invoke\u001B[0;34m(self, input, config)\u001B[0m\n\u001B[1;32m   3574\u001B[0m     \u001B[38;5;28;01mwith\u001B[39;00m get_executor_for_config(config) \u001B[38;5;28;01mas\u001B[39;00m executor:\n\u001B[1;32m   3575\u001B[0m         futures \u001B[38;5;241m=\u001B[39m [\n\u001B[1;32m   3576\u001B[0m             executor\u001B[38;5;241m.\u001B[39msubmit(_invoke_step, step, \u001B[38;5;28minput\u001B[39m, config, key)\n\u001B[1;32m   3577\u001B[0m             \u001B[38;5;28;01mfor\u001B[39;00m key, step \u001B[38;5;129;01min\u001B[39;00m steps\u001B[38;5;241m.\u001B[39mitems()\n\u001B[1;32m   3578\u001B[0m         ]\n\u001B[0;32m-> 3579\u001B[0m         output \u001B[38;5;241m=\u001B[39m {key: future\u001B[38;5;241m.\u001B[39mresult() \u001B[38;5;28;01mfor\u001B[39;00m key, future \u001B[38;5;129;01min\u001B[39;00m \u001B[38;5;28mzip\u001B[39m(steps, futures)}\n\u001B[1;32m   3580\u001B[0m \u001B[38;5;66;03m# finish the root run\u001B[39;00m\n\u001B[1;32m   3581\u001B[0m \u001B[38;5;28;01mexcept\u001B[39;00m \u001B[38;5;167;01mBaseException\u001B[39;00m \u001B[38;5;28;01mas\u001B[39;00m e:\n",
      "File \u001B[0;32m~/GIT/Interstellar/SB-AI-DEV/DL/Udemy/Generative-AI/Krish Naik/SUBHASISH BISWAS/Langchain Projects/venv/lib/python3.11/site-packages/langchain_core/runnables/base.py:3579\u001B[0m, in \u001B[0;36m<dictcomp>\u001B[0;34m(.0)\u001B[0m\n\u001B[1;32m   3574\u001B[0m     \u001B[38;5;28;01mwith\u001B[39;00m get_executor_for_config(config) \u001B[38;5;28;01mas\u001B[39;00m executor:\n\u001B[1;32m   3575\u001B[0m         futures \u001B[38;5;241m=\u001B[39m [\n\u001B[1;32m   3576\u001B[0m             executor\u001B[38;5;241m.\u001B[39msubmit(_invoke_step, step, \u001B[38;5;28minput\u001B[39m, config, key)\n\u001B[1;32m   3577\u001B[0m             \u001B[38;5;28;01mfor\u001B[39;00m key, step \u001B[38;5;129;01min\u001B[39;00m steps\u001B[38;5;241m.\u001B[39mitems()\n\u001B[1;32m   3578\u001B[0m         ]\n\u001B[0;32m-> 3579\u001B[0m         output \u001B[38;5;241m=\u001B[39m {key: future\u001B[38;5;241m.\u001B[39mresult() \u001B[38;5;28;01mfor\u001B[39;00m key, future \u001B[38;5;129;01min\u001B[39;00m \u001B[38;5;28mzip\u001B[39m(steps, futures)}\n\u001B[1;32m   3580\u001B[0m \u001B[38;5;66;03m# finish the root run\u001B[39;00m\n\u001B[1;32m   3581\u001B[0m \u001B[38;5;28;01mexcept\u001B[39;00m \u001B[38;5;167;01mBaseException\u001B[39;00m \u001B[38;5;28;01mas\u001B[39;00m e:\n",
      "File \u001B[0;32m~/GIT/Interstellar/SB-AI-DEV/DL/Udemy/Generative-AI/Krish Naik/SUBHASISH BISWAS/Langchain Projects/venv/lib/python3.11/concurrent/futures/_base.py:456\u001B[0m, in \u001B[0;36mFuture.result\u001B[0;34m(self, timeout)\u001B[0m\n\u001B[1;32m    454\u001B[0m     \u001B[38;5;28;01mraise\u001B[39;00m CancelledError()\n\u001B[1;32m    455\u001B[0m \u001B[38;5;28;01melif\u001B[39;00m \u001B[38;5;28mself\u001B[39m\u001B[38;5;241m.\u001B[39m_state \u001B[38;5;241m==\u001B[39m FINISHED:\n\u001B[0;32m--> 456\u001B[0m     \u001B[38;5;28;01mreturn\u001B[39;00m \u001B[38;5;28mself\u001B[39m\u001B[38;5;241m.\u001B[39m__get_result()\n\u001B[1;32m    457\u001B[0m \u001B[38;5;28;01melse\u001B[39;00m:\n\u001B[1;32m    458\u001B[0m     \u001B[38;5;28;01mraise\u001B[39;00m \u001B[38;5;167;01mTimeoutError\u001B[39;00m()\n",
      "File \u001B[0;32m~/GIT/Interstellar/SB-AI-DEV/DL/Udemy/Generative-AI/Krish Naik/SUBHASISH BISWAS/Langchain Projects/venv/lib/python3.11/concurrent/futures/_base.py:401\u001B[0m, in \u001B[0;36mFuture.__get_result\u001B[0;34m(self)\u001B[0m\n\u001B[1;32m    399\u001B[0m \u001B[38;5;28;01mif\u001B[39;00m \u001B[38;5;28mself\u001B[39m\u001B[38;5;241m.\u001B[39m_exception:\n\u001B[1;32m    400\u001B[0m     \u001B[38;5;28;01mtry\u001B[39;00m:\n\u001B[0;32m--> 401\u001B[0m         \u001B[38;5;28;01mraise\u001B[39;00m \u001B[38;5;28mself\u001B[39m\u001B[38;5;241m.\u001B[39m_exception\n\u001B[1;32m    402\u001B[0m     \u001B[38;5;28;01mfinally\u001B[39;00m:\n\u001B[1;32m    403\u001B[0m         \u001B[38;5;66;03m# Break a reference cycle with the exception in self._exception\u001B[39;00m\n\u001B[1;32m    404\u001B[0m         \u001B[38;5;28mself\u001B[39m \u001B[38;5;241m=\u001B[39m \u001B[38;5;28;01mNone\u001B[39;00m\n",
      "File \u001B[0;32m~/GIT/Interstellar/SB-AI-DEV/DL/Udemy/Generative-AI/Krish Naik/SUBHASISH BISWAS/Langchain Projects/venv/lib/python3.11/concurrent/futures/thread.py:58\u001B[0m, in \u001B[0;36m_WorkItem.run\u001B[0;34m(self)\u001B[0m\n\u001B[1;32m     55\u001B[0m     \u001B[38;5;28;01mreturn\u001B[39;00m\n\u001B[1;32m     57\u001B[0m \u001B[38;5;28;01mtry\u001B[39;00m:\n\u001B[0;32m---> 58\u001B[0m     result \u001B[38;5;241m=\u001B[39m \u001B[38;5;28mself\u001B[39m\u001B[38;5;241m.\u001B[39mfn(\u001B[38;5;241m*\u001B[39m\u001B[38;5;28mself\u001B[39m\u001B[38;5;241m.\u001B[39margs, \u001B[38;5;241m*\u001B[39m\u001B[38;5;241m*\u001B[39m\u001B[38;5;28mself\u001B[39m\u001B[38;5;241m.\u001B[39mkwargs)\n\u001B[1;32m     59\u001B[0m \u001B[38;5;28;01mexcept\u001B[39;00m \u001B[38;5;167;01mBaseException\u001B[39;00m \u001B[38;5;28;01mas\u001B[39;00m exc:\n\u001B[1;32m     60\u001B[0m     \u001B[38;5;28mself\u001B[39m\u001B[38;5;241m.\u001B[39mfuture\u001B[38;5;241m.\u001B[39mset_exception(exc)\n",
      "File \u001B[0;32m~/GIT/Interstellar/SB-AI-DEV/DL/Udemy/Generative-AI/Krish Naik/SUBHASISH BISWAS/Langchain Projects/venv/lib/python3.11/site-packages/langchain_core/runnables/base.py:3563\u001B[0m, in \u001B[0;36mRunnableParallel.invoke.<locals>._invoke_step\u001B[0;34m(step, input, config, key)\u001B[0m\n\u001B[1;32m   3561\u001B[0m context \u001B[38;5;241m=\u001B[39m copy_context()\n\u001B[1;32m   3562\u001B[0m context\u001B[38;5;241m.\u001B[39mrun(_set_config_context, child_config)\n\u001B[0;32m-> 3563\u001B[0m \u001B[38;5;28;01mreturn\u001B[39;00m context\u001B[38;5;241m.\u001B[39mrun(\n\u001B[1;32m   3564\u001B[0m     step\u001B[38;5;241m.\u001B[39minvoke,\n\u001B[1;32m   3565\u001B[0m     \u001B[38;5;28minput\u001B[39m,\n\u001B[1;32m   3566\u001B[0m     child_config,\n\u001B[1;32m   3567\u001B[0m )\n",
      "File \u001B[0;32m~/GIT/Interstellar/SB-AI-DEV/DL/Udemy/Generative-AI/Krish Naik/SUBHASISH BISWAS/Langchain Projects/venv/lib/python3.11/site-packages/langchain_core/runnables/base.py:5092\u001B[0m, in \u001B[0;36mRunnableBindingBase.invoke\u001B[0;34m(self, input, config, **kwargs)\u001B[0m\n\u001B[1;32m   5086\u001B[0m \u001B[38;5;28;01mdef\u001B[39;00m \u001B[38;5;21minvoke\u001B[39m(\n\u001B[1;32m   5087\u001B[0m     \u001B[38;5;28mself\u001B[39m,\n\u001B[1;32m   5088\u001B[0m     \u001B[38;5;28minput\u001B[39m: Input,\n\u001B[1;32m   5089\u001B[0m     config: Optional[RunnableConfig] \u001B[38;5;241m=\u001B[39m \u001B[38;5;28;01mNone\u001B[39;00m,\n\u001B[1;32m   5090\u001B[0m     \u001B[38;5;241m*\u001B[39m\u001B[38;5;241m*\u001B[39mkwargs: Optional[Any],\n\u001B[1;32m   5091\u001B[0m ) \u001B[38;5;241m-\u001B[39m\u001B[38;5;241m>\u001B[39m Output:\n\u001B[0;32m-> 5092\u001B[0m     \u001B[38;5;28;01mreturn\u001B[39;00m \u001B[38;5;28mself\u001B[39m\u001B[38;5;241m.\u001B[39mbound\u001B[38;5;241m.\u001B[39minvoke(\n\u001B[1;32m   5093\u001B[0m         \u001B[38;5;28minput\u001B[39m,\n\u001B[1;32m   5094\u001B[0m         \u001B[38;5;28mself\u001B[39m\u001B[38;5;241m.\u001B[39m_merge_configs(config),\n\u001B[1;32m   5095\u001B[0m         \u001B[38;5;241m*\u001B[39m\u001B[38;5;241m*\u001B[39m{\u001B[38;5;241m*\u001B[39m\u001B[38;5;241m*\u001B[39m\u001B[38;5;28mself\u001B[39m\u001B[38;5;241m.\u001B[39mkwargs, \u001B[38;5;241m*\u001B[39m\u001B[38;5;241m*\u001B[39mkwargs},\n\u001B[1;32m   5096\u001B[0m     )\n",
      "File \u001B[0;32m~/GIT/Interstellar/SB-AI-DEV/DL/Udemy/Generative-AI/Krish Naik/SUBHASISH BISWAS/Langchain Projects/venv/lib/python3.11/site-packages/langchain_core/runnables/branch.py:229\u001B[0m, in \u001B[0;36mRunnableBranch.invoke\u001B[0;34m(self, input, config, **kwargs)\u001B[0m\n\u001B[1;32m    220\u001B[0m     expression_value \u001B[38;5;241m=\u001B[39m condition\u001B[38;5;241m.\u001B[39minvoke(\n\u001B[1;32m    221\u001B[0m         \u001B[38;5;28minput\u001B[39m,\n\u001B[1;32m    222\u001B[0m         config\u001B[38;5;241m=\u001B[39mpatch_config(\n\u001B[0;32m   (...)\u001B[0m\n\u001B[1;32m    225\u001B[0m         ),\n\u001B[1;32m    226\u001B[0m     )\n\u001B[1;32m    228\u001B[0m     \u001B[38;5;28;01mif\u001B[39;00m expression_value:\n\u001B[0;32m--> 229\u001B[0m         output \u001B[38;5;241m=\u001B[39m runnable\u001B[38;5;241m.\u001B[39minvoke(\n\u001B[1;32m    230\u001B[0m             \u001B[38;5;28minput\u001B[39m,\n\u001B[1;32m    231\u001B[0m             config\u001B[38;5;241m=\u001B[39mpatch_config(\n\u001B[1;32m    232\u001B[0m                 config,\n\u001B[1;32m    233\u001B[0m                 callbacks\u001B[38;5;241m=\u001B[39mrun_manager\u001B[38;5;241m.\u001B[39mget_child(tag\u001B[38;5;241m=\u001B[39m\u001B[38;5;124mf\u001B[39m\u001B[38;5;124m\"\u001B[39m\u001B[38;5;124mbranch:\u001B[39m\u001B[38;5;132;01m{\u001B[39;00midx\u001B[38;5;250m \u001B[39m\u001B[38;5;241m+\u001B[39m\u001B[38;5;250m \u001B[39m\u001B[38;5;241m1\u001B[39m\u001B[38;5;132;01m}\u001B[39;00m\u001B[38;5;124m\"\u001B[39m),\n\u001B[1;32m    234\u001B[0m             ),\n\u001B[1;32m    235\u001B[0m             \u001B[38;5;241m*\u001B[39m\u001B[38;5;241m*\u001B[39mkwargs,\n\u001B[1;32m    236\u001B[0m         )\n\u001B[1;32m    237\u001B[0m         \u001B[38;5;28;01mbreak\u001B[39;00m\n\u001B[1;32m    238\u001B[0m \u001B[38;5;28;01melse\u001B[39;00m:\n",
      "File \u001B[0;32m~/GIT/Interstellar/SB-AI-DEV/DL/Udemy/Generative-AI/Krish Naik/SUBHASISH BISWAS/Langchain Projects/venv/lib/python3.11/site-packages/langchain_core/runnables/base.py:2878\u001B[0m, in \u001B[0;36mRunnableSequence.invoke\u001B[0;34m(self, input, config, **kwargs)\u001B[0m\n\u001B[1;32m   2876\u001B[0m             \u001B[38;5;28minput\u001B[39m \u001B[38;5;241m=\u001B[39m context\u001B[38;5;241m.\u001B[39mrun(step\u001B[38;5;241m.\u001B[39minvoke, \u001B[38;5;28minput\u001B[39m, config, \u001B[38;5;241m*\u001B[39m\u001B[38;5;241m*\u001B[39mkwargs)\n\u001B[1;32m   2877\u001B[0m         \u001B[38;5;28;01melse\u001B[39;00m:\n\u001B[0;32m-> 2878\u001B[0m             \u001B[38;5;28minput\u001B[39m \u001B[38;5;241m=\u001B[39m context\u001B[38;5;241m.\u001B[39mrun(step\u001B[38;5;241m.\u001B[39minvoke, \u001B[38;5;28minput\u001B[39m, config)\n\u001B[1;32m   2879\u001B[0m \u001B[38;5;66;03m# finish the root run\u001B[39;00m\n\u001B[1;32m   2880\u001B[0m \u001B[38;5;28;01mexcept\u001B[39;00m \u001B[38;5;167;01mBaseException\u001B[39;00m \u001B[38;5;28;01mas\u001B[39;00m e:\n",
      "File \u001B[0;32m~/GIT/Interstellar/SB-AI-DEV/DL/Udemy/Generative-AI/Krish Naik/SUBHASISH BISWAS/Langchain Projects/venv/lib/python3.11/site-packages/langchain_core/retrievers.py:253\u001B[0m, in \u001B[0;36mBaseRetriever.invoke\u001B[0;34m(self, input, config, **kwargs)\u001B[0m\n\u001B[1;32m    251\u001B[0m \u001B[38;5;28;01mexcept\u001B[39;00m \u001B[38;5;167;01mException\u001B[39;00m \u001B[38;5;28;01mas\u001B[39;00m e:\n\u001B[1;32m    252\u001B[0m     run_manager\u001B[38;5;241m.\u001B[39mon_retriever_error(e)\n\u001B[0;32m--> 253\u001B[0m     \u001B[38;5;28;01mraise\u001B[39;00m e\n\u001B[1;32m    254\u001B[0m \u001B[38;5;28;01melse\u001B[39;00m:\n\u001B[1;32m    255\u001B[0m     run_manager\u001B[38;5;241m.\u001B[39mon_retriever_end(\n\u001B[1;32m    256\u001B[0m         result,\n\u001B[1;32m    257\u001B[0m     )\n",
      "File \u001B[0;32m~/GIT/Interstellar/SB-AI-DEV/DL/Udemy/Generative-AI/Krish Naik/SUBHASISH BISWAS/Langchain Projects/venv/lib/python3.11/site-packages/langchain_core/retrievers.py:246\u001B[0m, in \u001B[0;36mBaseRetriever.invoke\u001B[0;34m(self, input, config, **kwargs)\u001B[0m\n\u001B[1;32m    244\u001B[0m _kwargs \u001B[38;5;241m=\u001B[39m kwargs \u001B[38;5;28;01mif\u001B[39;00m \u001B[38;5;28mself\u001B[39m\u001B[38;5;241m.\u001B[39m_expects_other_args \u001B[38;5;28;01melse\u001B[39;00m {}\n\u001B[1;32m    245\u001B[0m \u001B[38;5;28;01mif\u001B[39;00m \u001B[38;5;28mself\u001B[39m\u001B[38;5;241m.\u001B[39m_new_arg_supported:\n\u001B[0;32m--> 246\u001B[0m     result \u001B[38;5;241m=\u001B[39m \u001B[38;5;28mself\u001B[39m\u001B[38;5;241m.\u001B[39m_get_relevant_documents(\n\u001B[1;32m    247\u001B[0m         \u001B[38;5;28minput\u001B[39m, run_manager\u001B[38;5;241m=\u001B[39mrun_manager, \u001B[38;5;241m*\u001B[39m\u001B[38;5;241m*\u001B[39m_kwargs\n\u001B[1;32m    248\u001B[0m     )\n\u001B[1;32m    249\u001B[0m \u001B[38;5;28;01melse\u001B[39;00m:\n\u001B[1;32m    250\u001B[0m     result \u001B[38;5;241m=\u001B[39m \u001B[38;5;28mself\u001B[39m\u001B[38;5;241m.\u001B[39m_get_relevant_documents(\u001B[38;5;28minput\u001B[39m, \u001B[38;5;241m*\u001B[39m\u001B[38;5;241m*\u001B[39m_kwargs)\n",
      "File \u001B[0;32m~/GIT/Interstellar/SB-AI-DEV/DL/Udemy/Generative-AI/Krish Naik/SUBHASISH BISWAS/Langchain Projects/venv/lib/python3.11/site-packages/langchain_core/vectorstores/base.py:1042\u001B[0m, in \u001B[0;36mVectorStoreRetriever._get_relevant_documents\u001B[0;34m(self, query, run_manager)\u001B[0m\n\u001B[1;32m   1038\u001B[0m \u001B[38;5;28;01mdef\u001B[39;00m \u001B[38;5;21m_get_relevant_documents\u001B[39m(\n\u001B[1;32m   1039\u001B[0m     \u001B[38;5;28mself\u001B[39m, query: \u001B[38;5;28mstr\u001B[39m, \u001B[38;5;241m*\u001B[39m, run_manager: CallbackManagerForRetrieverRun\n\u001B[1;32m   1040\u001B[0m ) \u001B[38;5;241m-\u001B[39m\u001B[38;5;241m>\u001B[39m List[Document]:\n\u001B[1;32m   1041\u001B[0m     \u001B[38;5;28;01mif\u001B[39;00m \u001B[38;5;28mself\u001B[39m\u001B[38;5;241m.\u001B[39msearch_type \u001B[38;5;241m==\u001B[39m \u001B[38;5;124m\"\u001B[39m\u001B[38;5;124msimilarity\u001B[39m\u001B[38;5;124m\"\u001B[39m:\n\u001B[0;32m-> 1042\u001B[0m         docs \u001B[38;5;241m=\u001B[39m \u001B[38;5;28mself\u001B[39m\u001B[38;5;241m.\u001B[39mvectorstore\u001B[38;5;241m.\u001B[39msimilarity_search(query, \u001B[38;5;241m*\u001B[39m\u001B[38;5;241m*\u001B[39m\u001B[38;5;28mself\u001B[39m\u001B[38;5;241m.\u001B[39msearch_kwargs)\n\u001B[1;32m   1043\u001B[0m     \u001B[38;5;28;01melif\u001B[39;00m \u001B[38;5;28mself\u001B[39m\u001B[38;5;241m.\u001B[39msearch_type \u001B[38;5;241m==\u001B[39m \u001B[38;5;124m\"\u001B[39m\u001B[38;5;124msimilarity_score_threshold\u001B[39m\u001B[38;5;124m\"\u001B[39m:\n\u001B[1;32m   1044\u001B[0m         docs_and_similarities \u001B[38;5;241m=\u001B[39m (\n\u001B[1;32m   1045\u001B[0m             \u001B[38;5;28mself\u001B[39m\u001B[38;5;241m.\u001B[39mvectorstore\u001B[38;5;241m.\u001B[39msimilarity_search_with_relevance_scores(\n\u001B[1;32m   1046\u001B[0m                 query, \u001B[38;5;241m*\u001B[39m\u001B[38;5;241m*\u001B[39m\u001B[38;5;28mself\u001B[39m\u001B[38;5;241m.\u001B[39msearch_kwargs\n\u001B[1;32m   1047\u001B[0m             )\n\u001B[1;32m   1048\u001B[0m         )\n",
      "File \u001B[0;32m~/GIT/Interstellar/SB-AI-DEV/DL/Udemy/Generative-AI/Krish Naik/SUBHASISH BISWAS/Langchain Projects/venv/lib/python3.11/site-packages/langchain_community/vectorstores/faiss.py:641\u001B[0m, in \u001B[0;36mFAISS.similarity_search\u001B[0;34m(self, query, k, filter, fetch_k, **kwargs)\u001B[0m\n\u001B[1;32m    621\u001B[0m \u001B[38;5;28;01mdef\u001B[39;00m \u001B[38;5;21msimilarity_search\u001B[39m(\n\u001B[1;32m    622\u001B[0m     \u001B[38;5;28mself\u001B[39m,\n\u001B[1;32m    623\u001B[0m     query: \u001B[38;5;28mstr\u001B[39m,\n\u001B[0;32m   (...)\u001B[0m\n\u001B[1;32m    627\u001B[0m     \u001B[38;5;241m*\u001B[39m\u001B[38;5;241m*\u001B[39mkwargs: Any,\n\u001B[1;32m    628\u001B[0m ) \u001B[38;5;241m-\u001B[39m\u001B[38;5;241m>\u001B[39m List[Document]:\n\u001B[1;32m    629\u001B[0m \u001B[38;5;250m    \u001B[39m\u001B[38;5;124;03m\"\"\"Return docs most similar to query.\u001B[39;00m\n\u001B[1;32m    630\u001B[0m \n\u001B[1;32m    631\u001B[0m \u001B[38;5;124;03m    Args:\u001B[39;00m\n\u001B[0;32m   (...)\u001B[0m\n\u001B[1;32m    639\u001B[0m \u001B[38;5;124;03m        List of Documents most similar to the query.\u001B[39;00m\n\u001B[1;32m    640\u001B[0m \u001B[38;5;124;03m    \"\"\"\u001B[39;00m\n\u001B[0;32m--> 641\u001B[0m     docs_and_scores \u001B[38;5;241m=\u001B[39m \u001B[38;5;28mself\u001B[39m\u001B[38;5;241m.\u001B[39msimilarity_search_with_score(\n\u001B[1;32m    642\u001B[0m         query, k, \u001B[38;5;28mfilter\u001B[39m\u001B[38;5;241m=\u001B[39m\u001B[38;5;28mfilter\u001B[39m, fetch_k\u001B[38;5;241m=\u001B[39mfetch_k, \u001B[38;5;241m*\u001B[39m\u001B[38;5;241m*\u001B[39mkwargs\n\u001B[1;32m    643\u001B[0m     )\n\u001B[1;32m    644\u001B[0m     \u001B[38;5;28;01mreturn\u001B[39;00m [doc \u001B[38;5;28;01mfor\u001B[39;00m doc, _ \u001B[38;5;129;01min\u001B[39;00m docs_and_scores]\n",
      "File \u001B[0;32m~/GIT/Interstellar/SB-AI-DEV/DL/Udemy/Generative-AI/Krish Naik/SUBHASISH BISWAS/Langchain Projects/venv/lib/python3.11/site-packages/langchain_community/vectorstores/faiss.py:514\u001B[0m, in \u001B[0;36mFAISS.similarity_search_with_score\u001B[0;34m(self, query, k, filter, fetch_k, **kwargs)\u001B[0m\n\u001B[1;32m    497\u001B[0m \u001B[38;5;250m\u001B[39m\u001B[38;5;124;03m\"\"\"Return docs most similar to query.\u001B[39;00m\n\u001B[1;32m    498\u001B[0m \n\u001B[1;32m    499\u001B[0m \u001B[38;5;124;03mArgs:\u001B[39;00m\n\u001B[0;32m   (...)\u001B[0m\n\u001B[1;32m    511\u001B[0m \u001B[38;5;124;03m    L2 distance in float. Lower score represents more similarity.\u001B[39;00m\n\u001B[1;32m    512\u001B[0m \u001B[38;5;124;03m\"\"\"\u001B[39;00m\n\u001B[1;32m    513\u001B[0m embedding \u001B[38;5;241m=\u001B[39m \u001B[38;5;28mself\u001B[39m\u001B[38;5;241m.\u001B[39m_embed_query(query)\n\u001B[0;32m--> 514\u001B[0m docs \u001B[38;5;241m=\u001B[39m \u001B[38;5;28mself\u001B[39m\u001B[38;5;241m.\u001B[39msimilarity_search_with_score_by_vector(\n\u001B[1;32m    515\u001B[0m     embedding,\n\u001B[1;32m    516\u001B[0m     k,\n\u001B[1;32m    517\u001B[0m     \u001B[38;5;28mfilter\u001B[39m\u001B[38;5;241m=\u001B[39m\u001B[38;5;28mfilter\u001B[39m,\n\u001B[1;32m    518\u001B[0m     fetch_k\u001B[38;5;241m=\u001B[39mfetch_k,\n\u001B[1;32m    519\u001B[0m     \u001B[38;5;241m*\u001B[39m\u001B[38;5;241m*\u001B[39mkwargs,\n\u001B[1;32m    520\u001B[0m )\n\u001B[1;32m    521\u001B[0m \u001B[38;5;28;01mreturn\u001B[39;00m docs\n",
      "File \u001B[0;32m~/GIT/Interstellar/SB-AI-DEV/DL/Udemy/Generative-AI/Krish Naik/SUBHASISH BISWAS/Langchain Projects/venv/lib/python3.11/site-packages/langchain_community/vectorstores/faiss.py:415\u001B[0m, in \u001B[0;36mFAISS.similarity_search_with_score_by_vector\u001B[0;34m(self, embedding, k, filter, fetch_k, **kwargs)\u001B[0m\n\u001B[1;32m    413\u001B[0m \u001B[38;5;28;01mif\u001B[39;00m \u001B[38;5;28mself\u001B[39m\u001B[38;5;241m.\u001B[39m_normalize_L2:\n\u001B[1;32m    414\u001B[0m     faiss\u001B[38;5;241m.\u001B[39mnormalize_L2(vector)\n\u001B[0;32m--> 415\u001B[0m scores, indices \u001B[38;5;241m=\u001B[39m \u001B[38;5;28mself\u001B[39m\u001B[38;5;241m.\u001B[39mindex\u001B[38;5;241m.\u001B[39msearch(vector, k \u001B[38;5;28;01mif\u001B[39;00m \u001B[38;5;28mfilter\u001B[39m \u001B[38;5;129;01mis\u001B[39;00m \u001B[38;5;28;01mNone\u001B[39;00m \u001B[38;5;28;01melse\u001B[39;00m fetch_k)\n\u001B[1;32m    416\u001B[0m docs \u001B[38;5;241m=\u001B[39m []\n\u001B[1;32m    418\u001B[0m \u001B[38;5;28;01mif\u001B[39;00m \u001B[38;5;28mfilter\u001B[39m \u001B[38;5;129;01mis\u001B[39;00m \u001B[38;5;129;01mnot\u001B[39;00m \u001B[38;5;28;01mNone\u001B[39;00m:\n",
      "File \u001B[0;32m~/GIT/Interstellar/SB-AI-DEV/DL/Udemy/Generative-AI/Krish Naik/SUBHASISH BISWAS/Langchain Projects/venv/lib/python3.11/site-packages/faiss/class_wrappers.py:327\u001B[0m, in \u001B[0;36mhandle_Index.<locals>.replacement_search\u001B[0;34m(self, x, k, params, D, I)\u001B[0m\n\u001B[1;32m    300\u001B[0m \u001B[38;5;28;01mdef\u001B[39;00m \u001B[38;5;21mreplacement_search\u001B[39m(\u001B[38;5;28mself\u001B[39m, x, k, \u001B[38;5;241m*\u001B[39m, params\u001B[38;5;241m=\u001B[39m\u001B[38;5;28;01mNone\u001B[39;00m, D\u001B[38;5;241m=\u001B[39m\u001B[38;5;28;01mNone\u001B[39;00m, I\u001B[38;5;241m=\u001B[39m\u001B[38;5;28;01mNone\u001B[39;00m):\n\u001B[1;32m    301\u001B[0m \u001B[38;5;250m    \u001B[39m\u001B[38;5;124;03m\"\"\"Find the k nearest neighbors of the set of vectors x in the index.\u001B[39;00m\n\u001B[1;32m    302\u001B[0m \n\u001B[1;32m    303\u001B[0m \u001B[38;5;124;03m    Parameters\u001B[39;00m\n\u001B[0;32m   (...)\u001B[0m\n\u001B[1;32m    324\u001B[0m \u001B[38;5;124;03m        When not enough results are found, the label is set to -1\u001B[39;00m\n\u001B[1;32m    325\u001B[0m \u001B[38;5;124;03m    \"\"\"\u001B[39;00m\n\u001B[0;32m--> 327\u001B[0m     n, d \u001B[38;5;241m=\u001B[39m x\u001B[38;5;241m.\u001B[39mshape\n\u001B[1;32m    328\u001B[0m     x \u001B[38;5;241m=\u001B[39m np\u001B[38;5;241m.\u001B[39mascontiguousarray(x, dtype\u001B[38;5;241m=\u001B[39m\u001B[38;5;124m'\u001B[39m\u001B[38;5;124mfloat32\u001B[39m\u001B[38;5;124m'\u001B[39m)\n\u001B[1;32m    329\u001B[0m     \u001B[38;5;28;01massert\u001B[39;00m d \u001B[38;5;241m==\u001B[39m \u001B[38;5;28mself\u001B[39m\u001B[38;5;241m.\u001B[39md\n",
      "\u001B[0;31mValueError\u001B[0m: too many values to unpack (expected 2)"
     ]
    }
   ],
   "execution_count": 55
  },
  {
   "metadata": {
    "ExecuteTime": {
     "end_time": "2024-09-13T10:58:31.698205Z",
     "start_time": "2024-09-13T10:58:31.691989Z"
    }
   },
   "cell_type": "code",
   "source": "chat_history.clear()",
   "id": "c3eacdd9a4edbb8e",
   "outputs": [],
   "execution_count": 25
  },
  {
   "metadata": {
    "ExecuteTime": {
     "end_time": "2024-09-13T10:58:31.813127Z",
     "start_time": "2024-09-13T10:58:31.809709Z"
    }
   },
   "cell_type": "code",
   "source": "",
   "id": "6a0ae6d49ab564bf",
   "outputs": [],
   "execution_count": null
  }
 ],
 "metadata": {
  "kernelspec": {
   "display_name": "Python 3",
   "language": "python",
   "name": "python3"
  },
  "language_info": {
   "codemirror_mode": {
    "name": "ipython",
    "version": 2
   },
   "file_extension": ".py",
   "mimetype": "text/x-python",
   "name": "python",
   "nbconvert_exporter": "python",
   "pygments_lexer": "ipython2",
   "version": "2.7.6"
  }
 },
 "nbformat": 4,
 "nbformat_minor": 5
}
