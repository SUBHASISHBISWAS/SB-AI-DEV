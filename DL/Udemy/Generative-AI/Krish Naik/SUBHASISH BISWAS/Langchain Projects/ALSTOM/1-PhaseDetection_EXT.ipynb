{
 "cells": [
  {
   "cell_type": "code",
   "id": "initial_id",
   "metadata": {
    "collapsed": true,
    "ExecuteTime": {
     "end_time": "2024-09-24T09:03:16.628176Z",
     "start_time": "2024-09-24T09:03:08.854112Z"
    }
   },
   "source": [
    "\n",
    "from dotenv import load_dotenv\n",
    "from langchain_openai import  AzureChatOpenAI\n",
    "from langchain_core.prompts import ChatPromptTemplate,MessagesPlaceholder\n",
    "from langchain.chains.combine_documents import create_stuff_documents_chain\n",
    "from langchain.chains import create_retrieval_chain,create_history_aware_retriever\n",
    "from  langchain_community.embeddings import OllamaEmbeddings,HuggingFaceEmbeddings\n",
    "import hashlib\n",
    "import os\n",
    "from langchain.vectorstores import FAISS\n",
    "from langchain.document_loaders import PyPDFLoader\n",
    "from langchain.text_splitter import RecursiveCharacterTextSplitter\n",
    "from langchain.docstore.document import Document\n",
    "from transformers import AutoTokenizer,AutoModel\n",
    "\n",
    "load_dotenv()\n",
    "\n",
    "os.environ['OPENAI_API_TYPE']=os.getenv(\"AL_OPENAI_API_TYPE\")\n",
    "os.environ['OPENAI_API_VERSION']=os.getenv(\"AL_OPENAI_API_VERSION\")\n",
    "os.environ['AZURE_OPENAI_ENDPOINT']=os.getenv(\"AL_AZURE_OPENAI_ENDPOINT\")\n",
    "os.environ['OPENAI_API_KEY']=os.getenv(\"AL_OPENAI_API_KEY\")\n",
    "os.environ['DEPLOYMENT_NAME']=os.getenv(\"AL_DEPLOYMENT_NAME\")\n",
    "\n",
    "os.environ[\"LANGCHAIN_TRACING_V2\"]=\"true\"\n",
    "os.environ[\"LANGCHAIN_PROJECT\"]=os.getenv(\"AL_LANGCHAIN_PROJECT\")\n",
    "\n",
    "os.environ[\"HF_TOKEN\"]=os.getenv(\"HF_TOKEN\")\n",
    "os.environ[\"KMP_DUPLICATE_LIB_OK\"]=\"TRUE\"\n"
   ],
   "outputs": [
    {
     "name": "stderr",
     "output_type": "stream",
     "text": [
      "C:\\GIT\\SB-AI-DEV\\DL\\Udemy\\Generative-AI\\Krish Naik\\SUBHASISH BISWAS\\Langchain Projects\\venv\\Lib\\site-packages\\tqdm\\auto.py:21: TqdmWarning: IProgress not found. Please update jupyter and ipywidgets. See https://ipywidgets.readthedocs.io/en/stable/user_install.html\n",
      "  from .autonotebook import tqdm as notebook_tqdm\n"
     ]
    }
   ],
   "execution_count": 1
  },
  {
   "metadata": {
    "ExecuteTime": {
     "end_time": "2024-09-24T09:03:50.929676Z",
     "start_time": "2024-09-24T09:03:50.871878Z"
    }
   },
   "cell_type": "code",
   "source": [
    "import torch\n",
    "import torch.nn.functional as F\n",
    "import faiss\n",
    "import numpy as np\n",
    "from transformers import AutoTokenizer, AutoModel\n",
    "import os\n",
    "from langchain.vectorstores import FAISS\n",
    "from langchain.embeddings.base import Embeddings\n",
    "\n",
    "class CustomLangChainEmbedding(Embeddings):\n",
    "    def __init__(self, model_name=\"bert-base-uncased\", use_gpu=False):\n",
    "        \"\"\"\n",
    "        Initialize the embedding class with a specific transformer model.\n",
    "        \n",
    "        Args:\n",
    "            model_name (str): Name of the pre-trained transformer model.\n",
    "            use_gpu (bool): If True, use GPU (CUDA) for inference; otherwise, use CPU.\n",
    "        \"\"\"\n",
    "        self.tokenizer = AutoTokenizer.from_pretrained(model_name,clean_up_tokenization_spaces=True)\n",
    "        self.model = AutoModel.from_pretrained(model_name)\n",
    "\n",
    "        # Use GPU if available and requested\n",
    "        self.device = torch.device(\"cuda\" if torch.cuda.is_available() and use_gpu else \"cpu\")\n",
    "        self.model.to(self.device)\n",
    "        print(f\"Model loaded on {self.device}\")\n",
    "\n",
    "\n",
    "    def mean_pooling(self, model_output, attention_mask):\n",
    "        \"\"\"\n",
    "        Mean pooling to compute sentence embeddings from token embeddings.\n",
    "        \"\"\"\n",
    "        token_embeddings = model_output[0]  # First element is token embeddings\n",
    "        input_mask_expanded = attention_mask.unsqueeze(-1).expand(token_embeddings.size()).float()\n",
    "        return torch.sum(token_embeddings * input_mask_expanded, 1) / torch.clamp(input_mask_expanded.sum(1), min=1e-9)\n",
    "\n",
    "    \n",
    "        \n",
    "    def encode_data(self, sentences):\n",
    "        \"\"\"\n",
    "        Encode the input sentences into sentence embeddings.\n",
    "        \n",
    "        Args:\n",
    "            sentences (list of str): List of sentences to encode.\n",
    "        \n",
    "        Returns:\n",
    "            np.ndarray: Sentence embeddings as a numpy array.\n",
    "        \"\"\"\n",
    "        encoded_input = self.tokenizer(sentences, padding=True, truncation=True, return_tensors='pt')\n",
    "        with torch.no_grad():\n",
    "            model_output = self.model(**encoded_input)\n",
    "                                         \n",
    "        \n",
    "        sentence_embeddings = self.mean_pooling(model_output, encoded_input['attention_mask'])\n",
    "        sentence_embeddings = F.normalize(sentence_embeddings)\n",
    "        print(sentence_embeddings.shape)\n",
    "        return torch.squeeze(sentence_embeddings).numpy() # Convert to numpy for FAISS or other downstream tasks\n",
    "\n",
    "    def embed_documents(self, texts):\n",
    "        \"\"\"\n",
    "        LangChain-compatible method to create embeddings for documents.\n",
    "        \n",
    "        Args:\n",
    "            texts (list of str): List of documents (text) to create embeddings for.\n",
    "        \n",
    "        Returns:\n",
    "            np.ndarray: Document embeddings as numpy arrays.\n",
    "        \"\"\"\n",
    "        return self.encode_data(texts)\n",
    "\n",
    "    def embed_query(self, text):\n",
    "        \"\"\"\n",
    "        LangChain-compatible method to create embedding for a single query.\n",
    "        \n",
    "        Args:\n",
    "            text (str): Query to create embedding for.\n",
    "        \n",
    "        Returns:\n",
    "            np.ndarray: Query embedding as a numpy array.\n",
    "        \"\"\"\n",
    "        return self.encode_data(text)\n",
    "\n",
    "\n",
    "# Saving and Loading FAISS Index Locally\n",
    "\n",
    "    # Function to save the FAISS index to disk\n",
    "def save_faiss_index(vector_store, index_path):\n",
    "    os.makedirs(index_path, exist_ok=True)\n",
    "    vector_store.save_local(index_path)\n",
    "    print(f\"FAISS index and metadata saved to {index_path}\")\n",
    "\n",
    "\n",
    "def load_faiss_index(embedding,index_path):\n",
    "     index_file = os.path.join(index_path, \"index.faiss\")\n",
    "     pkl_file = os.path.join(index_path, \"index.pkl\")\n",
    "     \n",
    "     if os.path.exists(index_file) and os.path.exists(pkl_file):\n",
    "         print(f\"Loading FAISS index and metadata from {index_path}\")\n",
    "         return FAISS.load_local(index_path, embedding,allow_dangerous_deserialization=True)\n",
    "     else:\n",
    "         print(f\"No FAISS index found at {index_path}, creating a new one.\")\n",
    "         return None\n",
    "\n",
    "\n",
    "\n"
   ],
   "id": "bf1505461f961cb4",
   "outputs": [],
   "execution_count": 2
  },
  {
   "metadata": {
    "ExecuteTime": {
     "end_time": "2024-09-24T09:03:53.990635Z",
     "start_time": "2024-09-24T09:03:51.863824Z"
    }
   },
   "cell_type": "code",
   "source": "embedding = CustomLangChainEmbedding(model_name=\"./Models/all-MiniLM-L6-v2\", use_gpu=False)",
   "id": "dbd2388bcff0a9b3",
   "outputs": [
    {
     "name": "stdout",
     "output_type": "stream",
     "text": [
      "Model loaded on cpu\n"
     ]
    }
   ],
   "execution_count": 3
  },
  {
   "metadata": {
    "ExecuteTime": {
     "end_time": "2024-09-24T09:03:54.907258Z",
     "start_time": "2024-09-24T09:03:54.096672Z"
    }
   },
   "cell_type": "code",
   "source": [
    "llm=AzureChatOpenAI()\n",
    "# Initialize the embedding model\n",
    "#embedding=OllamaEmbeddings(model=\"mxbai-embed-large\")"
   ],
   "id": "dcdc5069d90c20ae",
   "outputs": [],
   "execution_count": 4
  },
  {
   "metadata": {
    "ExecuteTime": {
     "end_time": "2024-09-24T09:03:55.022988Z",
     "start_time": "2024-09-24T09:03:55.017283Z"
    }
   },
   "cell_type": "code",
   "source": [
    "# Function to split text into manageable chunks using a Recursive Text Splitter\n",
    "def split_document_into_chunks(document, chunk_size=1000, chunk_overlap=200):\n",
    "    text_splitter = RecursiveCharacterTextSplitter(\n",
    "        chunk_size=chunk_size, \n",
    "        chunk_overlap=chunk_overlap,\n",
    "        separators=[\"\\n\\n\", \"\\n\", \" \", \"\"]\n",
    "    )\n",
    "    chunks = text_splitter.create_documents([document.page_content])\n",
    "    return chunks\n"
   ],
   "id": "461c555818b4cd8e",
   "outputs": [],
   "execution_count": 5
  },
  {
   "metadata": {
    "ExecuteTime": {
     "end_time": "2024-09-24T09:03:55.868986Z",
     "start_time": "2024-09-24T09:03:55.864078Z"
    }
   },
   "cell_type": "code",
   "source": [
    "# Function to generate a unique document ID based on the hash of the content\n",
    "def generate_doc_id(content):\n",
    "    normalized_content = content.strip().lower()\n",
    "    return hashlib.sha256(normalized_content.encode('utf-8')).hexdigest()"
   ],
   "id": "b4a234b9f72ffbe2",
   "outputs": [],
   "execution_count": 6
  },
  {
   "metadata": {
    "ExecuteTime": {
     "end_time": "2024-09-24T09:03:56.730348Z",
     "start_time": "2024-09-24T09:03:56.716343Z"
    }
   },
   "cell_type": "code",
   "source": [
    "# Function to add PDF document to FAISS store with consistent doc_id generation\n",
    "def add_pdf_to_faiss(pdf_path, vector_store=None, index_path=\"faiss_index\"):\n",
    "    if vector_store is None:\n",
    "        # Load or create a new FAISS index\n",
    "        vector_store = load_faiss_index(embedding, index_path)\n",
    "\n",
    "    pdf_loader = PyPDFLoader(pdf_path)\n",
    "    documents = pdf_loader.load()\n",
    "\n",
    "    new_documents = []\n",
    "    embeddings_list = []\n",
    "\n",
    "    # Check for existing documents in vector store\n",
    "    existing_ids = set(\n",
    "        generate_doc_id(doc.page_content)\n",
    "        for doc_id, doc in vector_store.docstore._dict.items()\n",
    "    ) if vector_store is not None else set()\n",
    "\n",
    "    for document in documents:\n",
    "        chunks = split_document_into_chunks(document)\n",
    "\n",
    "        for chunk in chunks:\n",
    "            doc_id = generate_doc_id(chunk.page_content)\n",
    "            if doc_id not in existing_ids:\n",
    "                new_embedding = embedding.encode_data(chunk.page_content).reshape(1,-1)\n",
    "                new_documents.append(Document(page_content=chunk.page_content, metadata={\"id\": doc_id}))\n",
    "                print(f\"Embedding new document chunk with doc_id: {doc_id}\")\n",
    "                embeddings_list.append(new_embedding)\n",
    "\n",
    "     # Debugging information\n",
    "    print(f\"Total new documents: {len(new_documents)}\")\n",
    "    print(f\"Total embeddings created: {len(embeddings_list)}\")\n",
    "    \n",
    "    if new_documents:\n",
    "        if vector_store is None:\n",
    "            # Initialize FAISS index manually, passing in precomputed embeddings\n",
    "            vector_store = FAISS.from_documents(new_documents, embedding)\n",
    "            print(f\"Created new FAISS index for {pdf_path}.\")\n",
    "        else:\n",
    "            # Add the new documents and embeddings to the existing FAISS index\n",
    "            vector_store.add_documents(new_documents, embeddings=embeddings_list)\n",
    "            for idx, doc in enumerate(new_documents):\n",
    "                vector_store.index_to_docstore_id[vector_store.index.ntotal - len(new_documents) + idx] = doc.metadata[\"id\"]\n",
    "            print(f\"Added {len(new_documents)} new chunks to FAISS index.\")\n",
    "    else:\n",
    "        print(\"No new chunks to add to FAISS.\")\n",
    "\n",
    "    # Save the updated FAISS index\n",
    "    save_faiss_index(vector_store, index_path)\n",
    "    return vector_store\n"
   ],
   "id": "22da39c48b606b1a",
   "outputs": [],
   "execution_count": 7
  },
  {
   "metadata": {
    "ExecuteTime": {
     "end_time": "2024-09-24T09:04:03.580737Z",
     "start_time": "2024-09-24T09:04:03.576437Z"
    }
   },
   "cell_type": "code",
   "source": [
    "# Example usage with a PDF file\n",
    "pdf_path = \"./Requirements/SET MSA Schedule 23_updated.pdf\"  # Path to the PDF file\n",
    "# Specify where the FAISS index should be stored\n",
    "index_path = \"faiss_index\""
   ],
   "id": "ced7c1cd3327d1c4",
   "outputs": [],
   "execution_count": 8
  },
  {
   "metadata": {
    "ExecuteTime": {
     "end_time": "2024-09-24T09:04:06.703398Z",
     "start_time": "2024-09-24T09:04:04.532693Z"
    }
   },
   "cell_type": "code",
   "source": "vector_store = add_pdf_to_faiss(pdf_path, vector_store=None, index_path=index_path)",
   "id": "e0157dc7522b4c5f",
   "outputs": [
    {
     "name": "stdout",
     "output_type": "stream",
     "text": [
      "Loading FAISS index and metadata from faiss_index\n",
      "Total new documents: 0\n",
      "Total embeddings created: 0\n",
      "No new chunks to add to FAISS.\n",
      "FAISS index and metadata saved to faiss_index\n"
     ]
    }
   ],
   "execution_count": 9
  },
  {
   "metadata": {
    "ExecuteTime": {
     "end_time": "2024-09-24T09:04:07.953771Z",
     "start_time": "2024-09-24T09:04:07.947943Z"
    }
   },
   "cell_type": "code",
   "source": [
    "def inspect_faiss_store(vector_store):\n",
    "    # Check number of vectors stored\n",
    "    num_vectors = vector_store.index.ntotal\n",
    "    print(f\"Number of vectors stored: {num_vectors}\")\n",
    "    \n",
    "    # Check stored documents and metadata\n",
    "    print(\"Stored documents:\")\n",
    "    for doc_id, document in vector_store.docstore._dict.items():\n",
    "        print(f\"Document ID: {doc_id}\")\n",
    "        print(f\"Content: {document.page_content[:200]}\")  # Print first 200 characters of content\n",
    "        print(f\"Metadata: {document.metadata}\")\n",
    "    \n",
    "    # Retrieve and check stored embeddings\n",
    "    if num_vectors > 0:\n",
    "        for i in range(min(5, num_vectors)):  # Print embeddings of first 5 documents\n",
    "            vector = vector_store.index.reconstruct(i)\n",
    "            print(f\"Vector Shape: {vector.shape}...\")\n",
    "            print(f\"Embedding {i}: {vector[:10]}...\")  # Print first 10 dimensions of the embedding\n",
    "            \n",
    "    else:\n",
    "        print(\"No embeddings stored.\")"
   ],
   "id": "1599e9bbcf2ad7fb",
   "outputs": [],
   "execution_count": 10
  },
  {
   "metadata": {
    "ExecuteTime": {
     "end_time": "2024-09-24T09:04:08.741192Z",
     "start_time": "2024-09-24T09:04:08.733224Z"
    }
   },
   "cell_type": "code",
   "source": [
    "\n",
    "inspect_faiss_store(vector_store)"
   ],
   "id": "bc176bdf0f78e76c",
   "outputs": [
    {
     "name": "stdout",
     "output_type": "stream",
     "text": [
      "Number of vectors stored: 29\n",
      "Stored documents:\n",
      "Document ID: b287f7a1-0875-46b3-bd2a-d205ba83f7f8\n",
      "Content: Manufacture and Supply Agreement \n",
      "Schedule 23 \n",
      "Cyber Security  \n",
      "AC_182190997_9 244 SCHEDULE 23 \n",
      "Cyber Security \n",
      "1. DEFINITIONS AND INTERPRETATION \n",
      "1.1 In this Schedule, in addition to the words and ex\n",
      "Metadata: {'id': '9210a3f803bbce8a9de86aa23fe0259034da5f3295b67c1e43df146319ba73f9'}\n",
      "Document ID: 13009598-e897-4d3b-b928-7d2179495b05\n",
      "Content: optical or tangible media), databases, and information and/or \n",
      "communication technology systems (whether or not instal led on or \n",
      "forming part of the Purchased Equipment) delivered or made \n",
      "available \n",
      "Metadata: {'id': '9fea60f03bbd1cd49949fa0d19a0ab599eb240433500364a13139ef90b99f854'}\n",
      "Document ID: 41afc128-8b2c-4466-af1b-1a357c84a0d6\n",
      "Content: negligently or without knowledge of its existence, including any \n",
      "viruses, worms, trojan horses, adware, spyware, logic bombs or \n",
      "other similar things or devices; \n",
      "NIS Regulations means The Network an\n",
      "Metadata: {'id': 'b0f8b8bd3f42e49cb309d763d97b9b543e50bcb7638883b2d57ec07cff5c1c4c'}\n",
      "Document ID: 2e6b0796-1dc6-4e2f-9dc2-d9993053cad0\n",
      "Content: (b) the occurrence of one or more events which, either \n",
      "individually or collectively, have an adverse effect on the \n",
      "confidentiality, integrity, availability or security of the railway, \n",
      "any data and/\n",
      "Metadata: {'id': '94c4d33bff81a106758ebf7b7581bb9f431a3d74e6ae8dff635dc158e7d12edc'}\n",
      "Document ID: b389816f-92f4-45b1-999f-e4d7ecb63e20\n",
      "Content: Manufacture and Supply Agreement \n",
      "Schedule 23 \n",
      "Cyber Security  \n",
      "AC_182190997_9 245 Recovery Plan to time in accordance with paragraph 3. \n",
      "2. CYBER SECURITY  \n",
      "2.1 The Manufacturer shall: \n",
      "2.1.1 impleme\n",
      "Metadata: {'id': '81119c46edc025a2e334e347defc2dee98eb3a607db6569e47bb310dfbe7ebd3'}\n",
      "Document ID: 6c16a342-85d4-4e02-adad-cbd97181bfa2\n",
      "Content: undertaken in accordance with the requirements of a recognised cyber security by design \n",
      "standard for rail operating technology, such as TS50701. The risk assessment shall be \n",
      "maintained by the Manufa\n",
      "Metadata: {'id': '917f707ba9989c6ad59f6cc5f39107f1241ae22ae0db117af1aeb6e276c779f4'}\n",
      "Document ID: d2d50bcc-04b7-4ce8-8fa7-b36b263a3eda\n",
      "Content: Operator, and shall comply with the following in respect thereof:  \n",
      "2.3.1 legal and regulatory requirements;  \n",
      "2.3.2 best industry practice; \n",
      "2.3.3 latest technological developments;  \n",
      "2.3.4 threat in\n",
      "Metadata: {'id': '6e84932888188d8d5fa39a1d237f364c250b3cb9059a1af6fa06fd146a8494cb'}\n",
      "Document ID: daa8fa3c-7d83-4a02-a1a8-2358cd73aa09\n",
      "Content: and cyber security measures) as set out in this Schedule, and shall report such compliance to the \n",
      "Operator on request. The Manufacturer shall allow the Operator and/or the Owner to carry out \n",
      "indepen\n",
      "Metadata: {'id': '7d6aa675be3a1f273d3dbd1eaedca26658d23ffa584d078ea4a7039809563487'}\n",
      "Document ID: 63e6e5a1-f02b-4ce6-b68e-07df081b529c\n",
      "Content: Manufacture and Supply Agreement \n",
      "Schedule 23 \n",
      "Cyber Security  \n",
      "AC_182190997_9 246 2.5.3 use the latest versions of anti-virus definitions, measures, tools and software available \n",
      "in accordance with b\n",
      "Metadata: {'id': '19892e3d9a30d21299914d13d8a0b19d4c5e538814bb722076e6e0a5f4825807'}\n",
      "Document ID: 5b54fbd4-0d89-4d6a-be4a-031cc2d25964\n",
      "Content: 2.6.4 in the event that such Malicious Software causes loss of operational efficiency of any \n",
      "IT Systems and/or OT Systems or loss or corruption of any of the Operator's data, \n",
      "restore the Operator's \n",
      "Metadata: {'id': '45c6568ab9e60709a6028129da9367b3200c4a82fc7ba23fe05ed61088b224d8'}\n",
      "Document ID: a96b966b-215b-4445-a051-0c77d3d55fb7\n",
      "Content: IEC63452 and IEC62443 in respect of OT Systems); \n",
      "2.7.2 implement measures to ensure the security of its corporate information technology and \n",
      "systems, including any wayside software systems related t\n",
      "Metadata: {'id': 'ef7eee2afa8b21a162c5ca6e40b876474c1ea759928cd797e9979802848e2dea'}\n",
      "Document ID: 6ee8f5fa-1ba9-4b07-b67c-a665ad05c957\n",
      "Content: by law); \n",
      "2.7.4 ensure that the on-board and operating technology software, networks and systems of \n",
      "the Fleet are delivered in accordance with the requirements of TS50701 (or its \n",
      "successor standards\n",
      "Metadata: {'id': 'cda2b63e3b57303b6b11fcf95ca92d04623e774903bedf99a29441daf1029077'}\n",
      "Document ID: 1af5f52e-c8f3-4a2b-a792-568a225cb4c5\n",
      "Content: architecture are secure by design, and how evidence of compliance with the \n",
      "requirements set out in paragraphs 2.7.3 and 2.7.4 will need be sourced from the \n",
      "Manufacture -system suppliers; \n",
      "2.7.6 comm\n",
      "Metadata: {'id': '334e98aa7f5dc16d04f9da8403f7504c0972345dda438e823c01262f74497ae1'}\n",
      "Document ID: 298ce4f9-6a10-4265-bd5e-e6e667064b78\n",
      "Content: Manufacture and Supply Agreement \n",
      "Schedule 23 \n",
      "Cyber Security  \n",
      "AC_182190997_9 247 approved penetration tester; the specification for this test will be agreed between all \n",
      "Parties prior to it being un\n",
      "Metadata: {'id': 'e01fd51711ea015b28cae131207a3a95756a581f4fdb4bb1318cd19c36f31b8b'}\n",
      "Document ID: f500895b-2043-4ebf-b01a-f92d50ff5bef\n",
      "Content: respect of OT Systems) and conducts its activities in compliance with the principles of \n",
      "applicable international standards and the requirements of all Applicable Laws \n",
      "(including Information Laws); \n",
      "\n",
      "Metadata: {'id': 'bf3d189551b4acc26e49110a6b39a1ead93915c5c6b82b122ed8a9328bc3cac2'}\n",
      "Document ID: 066400d2-0df0-4b78-af00-266b1c1b3791\n",
      "Content: always that such action would not put the Manufacturer in breach of Applicable Laws), \n",
      "the Security Policy and any other Operator standards (as notified to the Manufacturer \n",
      "from time to time); \n",
      "2.7.1\n",
      "Metadata: {'id': '8aa4c7be92e9c618bee553059b882fb89b04b4a95f242dc68f39c1d632b67627'}\n",
      "Document ID: 736f5434-ddd2-4df4-90db-6adcfed83494\n",
      "Content: 3. SECURITY, CONTINUITY & RECOVERY PLAN \n",
      "3.1 The Manufacturer shall be responsible for developing and maintaining a detailed cyber security, \n",
      "business continuity and disaster recovery plan in respect \n",
      "Metadata: {'id': '4c84e15d7bc4776f05a0e59d3e4be45a3f183dccf5f0bf154f9aee8d7335b052'}\n",
      "Document ID: c3f603d5-4f46-4f88-8f50-ddc809a45e0f\n",
      "Content: Manufacture and Supply Agreement \n",
      "Schedule 23 \n",
      "Cyber Security  \n",
      "AC_182190997_9 248 3.2 The Manufacturer shall deliver to the Operator, within three (3) months of the Contract Date, a \n",
      "draft outline Se\n",
      "Metadata: {'id': 'ef9376d1862af1debba0a85ce78967753a8f73e55ce45b302b17b24f5d733e88'}\n",
      "Document ID: d5f1d7a6-df82-4024-a945-2417f8f3547b\n",
      "Content: 3.5 If a 'major incident' or 'cyber event' impacts the IT Systems and/or OT Systems during the period \n",
      "in which the Security, Continuity & Recovery Plan is being developed and finalised, the \n",
      "Manufact\n",
      "Metadata: {'id': 'cf743952ebec89ca7264bd2cff10ab347541757bbdbaf7f362ece7df842d8755'}\n",
      "Document ID: 8824dba2-b2a9-4e2d-968f-fb89c6c8da7d\n",
      "Content: Plan within eight (8) weeks of receipt.  The Manufacturer shall then revise the updated version of \n",
      "the Security, Continuity & Recovery Plan to incorporate the amendments reasonably required by \n",
      "the O\n",
      "Metadata: {'id': '0040624fadaeb3f676bd565fb57180c44a0ec12fed8353073a5d97a3ecec2b73'}\n",
      "Document ID: dbb204f0-3646-4cce-9bae-b48d24399ff1\n",
      "Content: Operator's request) any related third party with respect to issues concerning business \n",
      "continuity and disaster recovery, where applicable; \n",
      "3.7.4 detail how it links to and interrelates with any othe\n",
      "Metadata: {'id': '4659b8f2c8affc17b161f9a8383793ea213623c44e4715ce8ab63efb7c8118a1'}\n",
      "Document ID: c60003af-a20c-4dd4-862b-5dfdeaa1e0df\n",
      "Content: Manufacture and Supply Agreement \n",
      "Schedule 23 \n",
      "Cyber Security  \n",
      "AC_182190997_9 249 than the accepted (as agreed between the Parties) amount of data loss and to \n",
      "preserve data integrity; \n",
      "3.7.10 set ou\n",
      "Metadata: {'id': 'dbabbe0ea71a0863d0311affb014e5c23c9cd9346f843346acb3ceeb8f2047a3'}\n",
      "Document ID: 8d120653-3b48-4745-a8c3-fef054c840f2\n",
      "Content: Incident, including following any cyber-threat intelligence information being published by the \n",
      "National Cyber Security Centre or on the common vulnerabilities and exposures list available at \n",
      "https:/\n",
      "Metadata: {'id': 'f1d591018291ce082fd95c03bfe33b733c4a7de628e08f20ef7d8c6886991a2c'}\n",
      "Document ID: 43c880fe-8e0d-470d-8ca1-decf9abff00e\n",
      "Content: (i) where such Security Incident relates to Personal Data, the categories and \n",
      "approximate number of data subjects and Personal Data records affected or \n",
      "concerned; and/or \n",
      "(ii) where such Security In\n",
      "Metadata: {'id': 'f1845ed43d84518a521d6b07284c12a2ff2444223c410df1039ab674e811ec62'}\n",
      "Document ID: 49d0acfb-ed73-4b3a-bcb2-d02995363b33\n",
      "Content: 4.1.2 immediately take all reasonable steps necessary to minimise the extent of actual or \n",
      "potential harm caused by any Security Incident and, in doing so, comply with any \n",
      "instructions issued by the \n",
      "Metadata: {'id': '49c228859bd6dc75c91f512a00bbf6f83883517f33503dcede5e6ac4cfb5db4e'}\n",
      "Document ID: 12001a28-2dd1-4f44-8317-0caf519cc7d2\n",
      "Content: Manufacture and Supply Agreement \n",
      "Schedule 23 \n",
      "Cyber Security  \n",
      "AC_182190997_9 250 4.1.5 as soon as reasonably practicable, and in any event within five (5) Working Days of a \n",
      "Security Incident being \n",
      "Metadata: {'id': '693cd3a789b106c54aa1651660d18315ce7c3fd4d809f76df6859694875c168d'}\n",
      "Document ID: 69e52fcf-159f-4dea-be9b-a6c8e4889570\n",
      "Content: 5.1 The Manufacturer shall certify on an annual basis that it has complied with the requirements of \n",
      "this Schedule.  Without prejudice to any other right of audit or access granted to the Operator \n",
      "pu\n",
      "Metadata: {'id': 'd865b73f18dbd44e00127cc8e3280daabb3dc45fef425276cc7f095a79505d67'}\n",
      "Document ID: 785f90cc-4fb6-48e8-8c00-04c8a506d7e8\n",
      "Content: operation to the Operator and its duly authorised representative(s) in conducting such audit or \n",
      "inspection. \n",
      "5.2 The Manufacturer shall use all reasonable endeavours to ensure that any Sub-contractor\n",
      "Metadata: {'id': '3408949c7cba2afc6cc19d6359ba67e906b76c86006ea0f5fb1f062b0c490077'}\n",
      "Document ID: 90e7bf72-a154-41be-99f8-99a3bb434a32\n",
      "Content: Security Incident or any Malicious Software to the extent caused by or contributed to by the acts \n",
      "or omissions of the Manufacturer (or its Sub-contractors). \n",
      "6. CHARGES \n",
      "In consideration for the Manu\n",
      "Metadata: {'id': 'acf30d9b29eab1d2ad7df90ffac20098a45a58a41aaf76a1f8cc74b95e8ad7fa'}\n",
      "Vector Shape: (384,)...\n",
      "Embedding 0: [-0.06053982  0.03441856  0.01137928 -0.05010454  0.06333418  0.03892665\n",
      "  0.07892676 -0.01432924 -0.02387859  0.00366368]...\n",
      "Vector Shape: (384,)...\n",
      "Embedding 1: [-0.03369034  0.01515233 -0.04655569 -0.04259525 -0.00238798 -0.05796904\n",
      "  0.10207587  0.04480419  0.00732937  0.03446799]...\n",
      "Vector Shape: (384,)...\n",
      "Embedding 2: [-0.0466143   0.05268062 -0.00075538 -0.00155603  0.05128214 -0.03047297\n",
      "  0.09239051  0.05032887 -0.0223684   0.00065925]...\n",
      "Vector Shape: (384,)...\n",
      "Embedding 3: [-0.01989008  0.0806869   0.02077531  0.01552903  0.08789062  0.09130921\n",
      "  0.11885948  0.02112925 -0.01142157 -0.00067029]...\n",
      "Vector Shape: (384,)...\n",
      "Embedding 4: [-0.12883136  0.02010329  0.01641895 -0.0546986   0.01663206  0.08979489\n",
      "  0.0433373   0.06667428 -0.13079254 -0.00929428]...\n"
     ]
    }
   ],
   "execution_count": 11
  },
  {
   "metadata": {
    "ExecuteTime": {
     "end_time": "2024-09-24T09:04:09.978353Z",
     "start_time": "2024-09-24T09:04:09.971261Z"
    }
   },
   "cell_type": "code",
   "source": "retriever=vector_store.as_retriever(search_type=\"similarity\",search_kwargs={\"k\":5})",
   "id": "34496ec908bb526f",
   "outputs": [],
   "execution_count": 12
  },
  {
   "metadata": {
    "ExecuteTime": {
     "end_time": "2024-09-24T09:05:02.975392Z",
     "start_time": "2024-09-24T09:05:02.947055Z"
    }
   },
   "cell_type": "code",
   "source": [
    "\n",
    "retriever.invoke(\"Security Policy\")\n",
    "#em1=\"Security Policy\"\n",
    "#em=embedding.embed_query(em1)\n",
    "#vector_store.similarity_search(\"Security Policy\")\n",
    "#print(em.shape)\n",
    "#em=em.flatten()\n",
    "#print(em.shape)\n",
    "#vector_store.similarity_search_by_vector(em)\n",
    "\n",
    "  "
   ],
   "id": "568d79d4e1580db",
   "outputs": [
    {
     "name": "stdout",
     "output_type": "stream",
     "text": [
      "torch.Size([1, 384])\n"
     ]
    },
    {
     "data": {
      "text/plain": [
       "[Document(metadata={'id': '94c4d33bff81a106758ebf7b7581bb9f431a3d74e6ae8dff635dc158e7d12edc'}, page_content=\"(b) the occurrence of one or more events which, either \\nindividually or collectively, have an adverse effect on the \\nconfidentiality, integrity, availability or security of the railway, \\nany data and/or the IT Systems and/or the OT Systems; \\nSecurity Policy means the Operator's IT/Information Security Policy as may be \\nnotified to the Manufacturer from time to time; and \\nSecurity, Continuity & has the meaning given in paragraph 3.1 and as updated from time\"),\n",
       " Document(metadata={'id': '6e84932888188d8d5fa39a1d237f364c250b3cb9059a1af6fa06fd146a8494cb'}, page_content='Operator, and shall comply with the following in respect thereof:  \\n2.3.1 legal and regulatory requirements;  \\n2.3.2 best industry practice; \\n2.3.3 latest technological developments;  \\n2.3.4 threat intelligence (e.g. from National Cyber Security Centre alerts); \\n2.3.5 sections [A35 to A40]53 of the Functional Specification (on an ongoing basis); \\n2.3.6 the security requirements set out in this Schedule; and  \\n2.3.7 any reasonable security guidelines and/or instructions provided by the Operator to the \\nManufacturer from time to time. \\n2.4 The Manufacturer shall continually measure, review, provide evidence of and document its \\ncompliance with all security requirements (including details of the version of anti-virus software \\nand cyber security measures) as set out in this Schedule, and shall report such compliance to the \\nOperator on request. The Manufacturer shall allow the Operator and/or the Owner to carry out'),\n",
       " Document(metadata={'id': 'f1845ed43d84518a521d6b07284c12a2ff2444223c410df1039ab674e811ec62'}, page_content='(i) where such Security Incident relates to Personal Data, the categories and \\napproximate number of data subjects and Personal Data records affected or \\nconcerned; and/or \\n(ii) where such Security Incident relates to critical infrastructure and requires \\nreporting under the NIS Regulations, the types of digital services provided, \\nthe approximate time and duration of the Security Incident, the nature of the \\nincident and any cross-border impact; \\n(b) a description of the likely consequences of the Security Incident;   \\n(c) a description of the measures taken or proposed to be taken by the Manufacturer \\nto address the Security Incident, including measures to mitigate its possible \\nadverse effects; and \\n(d) any other information the Operator reasonably requests;  \\n4.1.2 immediately take all reasonable steps necessary to minimise the extent of actual or \\npotential harm caused by any Security Incident and, in doing so, comply with any'),\n",
       " Document(metadata={'id': 'bf3d189551b4acc26e49110a6b39a1ead93915c5c6b82b122ed8a9328bc3cac2'}, page_content='respect of OT Systems) and conducts its activities in compliance with the principles of \\napplicable international standards and the requirements of all Applicable Laws \\n(including Information Laws); \\n2.7.9 comply with the Security Policy and ensure that all IT Systems and OT Systems and all \\nconnecting or associated systems, hardware and firmware adhere to the requirements \\nof the Security Policy; \\n2.7.10 limit access to network and information systems to such of its authorised personnel \\nthat require access to such systems solely for the purpose of performing its obligations \\npursuant to this MSA (with access rights being reviewed on a regular basis) and that \\nhave been appropriately screened in accordance with best industry practice (provided \\nalways that such action would not put the Manufacturer in breach of Applicable Laws), \\nthe Security Policy and any other Operator standards (as notified to the Manufacturer \\nfrom time to time);'),\n",
       " Document(metadata={'id': '49c228859bd6dc75c91f512a00bbf6f83883517f33503dcede5e6ac4cfb5db4e'}, page_content=\"4.1.2 immediately take all reasonable steps necessary to minimise the extent of actual or \\npotential harm caused by any Security Incident and, in doing so, comply with any \\ninstructions issued by the Operator (acting reasonably);  \\n4.1.3 implement the Security, Continuity & Recovery Plan and continue, in so far as is \\npossible, to provide the affected IT Systems and/or OT Systems to the Operator and \\ntake all action necessary to restore the affected IT Systems and/or OT Systems to \\nnormal as soon as possible and in accordance with the Security, Continuity & \\nRecovery Plan; \\n4.1.4 comply with any of the Operator's cyber security policies and procedures (as notified to \\nthe Manufacturer from time to time);\")]"
      ]
     },
     "execution_count": 15,
     "metadata": {},
     "output_type": "execute_result"
    }
   ],
   "execution_count": 15
  },
  {
   "metadata": {
    "ExecuteTime": {
     "end_time": "2024-09-24T09:05:55.924225Z",
     "start_time": "2024-09-24T09:05:55.918133Z"
    }
   },
   "cell_type": "code",
   "source": [
    " \n",
    "contextualize_q_system_prompt = (\n",
    "    \"Given a chat history and the latest user question \"\n",
    "    \"which might reference context in the chat history, \"\n",
    "    \"formulate a standalone question which can be understood \"\n",
    "    \"without the chat history. Do NOT answer the question, \"\n",
    "    \"just reformulate it if needed and otherwise return it as is.\"\n",
    ")\n",
    "contextualize_q_prompt = ChatPromptTemplate.from_messages(\n",
    "    [\n",
    "        (\"system\", contextualize_q_system_prompt),\n",
    "        MessagesPlaceholder(\"chat_history\"),\n",
    "        (\"human\", \"{input}\"),\n",
    "    ]\n",
    ")\n",
    "system_prompt = (\n",
    "    \"You are an assistant for question-answering tasks. \"\n",
    "    \"Use the following pieces of retrieved context to answer \"\n",
    "    \"the question. If you don't know the answer, say that you \"\n",
    "    \"don't know. Use three sentences maximum and keep the \"\n",
    "    \"answer concise.\"\n",
    "    \"\\n\\n\"\n",
    "    \"{context}\"\n",
    ")\n",
    "qa_prompt = ChatPromptTemplate.from_messages(\n",
    "    [\n",
    "        (\"system\", system_prompt),\n",
    "        MessagesPlaceholder(\"chat_history\"),\n",
    "        (\"human\", \"{input}\"),\n",
    "    ]\n",
    ")"
   ],
   "id": "d0b5b4856bd62682",
   "outputs": [],
   "execution_count": 16
  },
  {
   "metadata": {
    "ExecuteTime": {
     "end_time": "2024-09-24T09:06:00.309343Z",
     "start_time": "2024-09-24T09:06:00.302181Z"
    }
   },
   "cell_type": "code",
   "source": [
    "history_aware_retriever=create_history_aware_retriever(llm,retriever,contextualize_q_prompt)\n",
    "question_answer_chain=create_stuff_documents_chain(llm,qa_prompt)\n",
    "rag_chain=create_retrieval_chain(history_aware_retriever,question_answer_chain)"
   ],
   "id": "d32ea8ece0e314b1",
   "outputs": [],
   "execution_count": 17
  },
  {
   "metadata": {
    "ExecuteTime": {
     "end_time": "2024-09-24T09:06:01.471891Z",
     "start_time": "2024-09-24T09:06:01.458119Z"
    }
   },
   "cell_type": "code",
   "source": [
    "from langchain_community.chat_message_histories import ChatMessageHistory\n",
    "from langchain_core.chat_history import BaseChatMessageHistory\n",
    "from langchain_core.runnables.history import RunnableWithMessageHistory\n",
    "\n",
    "store={}\n",
    "def get_session_history(session_id:str)->BaseChatMessageHistory:\n",
    "    if  session_id not in store:\n",
    "        store[session_id]=ChatMessageHistory()\n",
    "    return store[session_id]\n",
    "        \n",
    "with_message_history=RunnableWithMessageHistory(llm,get_session_history)"
   ],
   "id": "17832426a728e32c",
   "outputs": [],
   "execution_count": 18
  },
  {
   "metadata": {
    "ExecuteTime": {
     "end_time": "2024-09-24T09:06:02.636082Z",
     "start_time": "2024-09-24T09:06:02.629087Z"
    }
   },
   "cell_type": "code",
   "source": [
    "conversational_rag_chain = RunnableWithMessageHistory(\n",
    "    rag_chain,\n",
    "    get_session_history,\n",
    "    input_messages_key=\"input\",\n",
    "    history_messages_key=\"chat_history\",\n",
    "    output_messages_key=\"answer\",\n",
    ")"
   ],
   "id": "e73060bb4226037b",
   "outputs": [],
   "execution_count": 19
  },
  {
   "metadata": {
    "ExecuteTime": {
     "end_time": "2024-09-24T09:06:05.941818Z",
     "start_time": "2024-09-24T09:06:03.777033Z"
    }
   },
   "cell_type": "code",
   "source": [
    "from langchain_core.messages import AIMessage,HumanMessage,SystemMessage\n",
    "chat_history=[]\n",
    "\n",
    "\n",
    "question=\"tell about Security Policy in this document \"\n",
    "response=conversational_rag_chain.invoke(\n",
    "    {\"input\": question},\n",
    "    config={ \"configurable\": {\"session_id\": \"session-1\"} },  # constructs a key \"abc123\" in `store`.\n",
    ")\n",
    "\n",
    "chat_history.extend(\n",
    "    [\n",
    "        HumanMessage(content=question),\n",
    "        AIMessage(content=response[\"answer\"]),\n",
    "    ]\n",
    ")\n",
    "\n",
    "print(response['answer'])\n"
   ],
   "id": "291c5cf630de3ed7",
   "outputs": [
    {
     "name": "stdout",
     "output_type": "stream",
     "text": [
      "torch.Size([1, 384])\n",
      "The Security Policy in this document refers to the Operator's IT/Information Security Policy, which is communicated to the Manufacturer as needed. The Manufacturer must comply with this policy, ensuring that all IT and OT Systems, along with related systems, hardware, and firmware, adhere to its requirements. Compliance involves implementing and maintaining appropriate security measures that meet or exceed industry standards and legal requirements.\n"
     ]
    }
   ],
   "execution_count": 20
  },
  {
   "metadata": {
    "ExecuteTime": {
     "end_time": "2024-09-24T09:06:13.497588Z",
     "start_time": "2024-09-24T09:06:09.939620Z"
    }
   },
   "cell_type": "code",
   "source": [
    "question=\"The Manufacturer shall:\"\n",
    "response=conversational_rag_chain.invoke(\n",
    "    {\"input\": question},\n",
    "    config={\"configurable\": {\"session_id\": \"session-1\"}},\n",
    ")\n",
    "\n",
    "chat_history.extend(\n",
    "    [\n",
    "        HumanMessage(content=question),\n",
    "        AIMessage(content=response[\"answer\"]),\n",
    "    ]\n",
    ")\n",
    "print(response['answer'])"
   ],
   "id": "8fe236713b0f211c",
   "outputs": [
    {
     "name": "stdout",
     "output_type": "stream",
     "text": [
      "torch.Size([1, 384])\n"
     ]
    },
    {
     "name": "stderr",
     "output_type": "stream",
     "text": [
      "Failed to batch ingest runs: langsmith.utils.LangSmithConnectionError: Connection error caused failure to POST https://api.smith.langchain.com/runs/batch in LangSmith API. Please confirm your internet connection. SSLError(MaxRetryError(\"HTTPSConnectionPool(host='api.smith.langchain.com', port=443): Max retries exceeded with url: /runs/batch (Caused by SSLError(SSLCertVerificationError(1, '[SSL: CERTIFICATE_VERIFY_FAILED] certificate verify failed: unable to get local issuer certificate (_ssl.c:1006)')))\"))\n",
      "Content-Length: 55909\n",
      "API Key: lsv2_********************************************21\n",
      "post: trace=486f5be8-81fe-4821-9d50-3fd1602eb990,id=10bae9a2-58cc-4057-92db-3a305fea3870; patch: trace=486f5be8-81fe-4821-9d50-3fd1602eb990,id=486f5be8-81fe-4821-9d50-3fd1602eb990; trace=486f5be8-81fe-4821-9d50-3fd1602eb990,id=de62bc69-8c71-47f3-b7b1-83ef398ae979; trace=486f5be8-81fe-4821-9d50-3fd1602eb990,id=f3065379-034a-460b-adee-969c5d08c7de; trace=486f5be8-81fe-4821-9d50-3fd1602eb990,id=d033795b-247e-4b17-a798-d1425af720ea; trace=486f5be8-81fe-4821-9d50-3fd1602eb990,id=ba04d6aa-dc89-499a-b7e3-26636a12c0f7; trace=486f5be8-81fe-4821-9d50-3fd1602eb990,id=71fd01de-6aca-45b6-8eea-0bc0b31473d6; trace=486f5be8-81fe-4821-9d50-3fd1602eb990,id=af10fdcb-52bd-4d43-9655-fc4455a4aa8a\n"
     ]
    },
    {
     "name": "stdout",
     "output_type": "stream",
     "text": [
      "The Manufacturer shall:\n",
      "\n",
      "1. Use all reasonable endeavors to ensure Sub-contractors are subject to cyber security obligations that provide no less protection than those set out in the Schedule.\n",
      "2. Fully indemnify the Operator against costs, liabilities, and losses from breaches of the Schedule or security incidents caused by the Manufacturer or its Sub-contractors.\n",
      "3. Certify annually that it has complied with the Schedule's requirements.\n",
      "4. Allow the Operator to carry out audits and inspections as deemed necessary, providing full access and cooperation.\n",
      "5. Measure, review, and document compliance with all security requirements, reporting to the Operator upon request.\n",
      "6. Provide details and root cause analysis of any Security Incident within five working days of resolution.\n",
      "7. Assist the Operator with information provision for any incident notifications to competent authorities and contribute to investigations as required.\n"
     ]
    }
   ],
   "execution_count": 21
  },
  {
   "metadata": {
    "ExecuteTime": {
     "end_time": "2024-09-13T10:58:31.698205Z",
     "start_time": "2024-09-13T10:58:31.691989Z"
    }
   },
   "cell_type": "code",
   "source": "chat_history.clear()",
   "id": "c3eacdd9a4edbb8e",
   "outputs": [],
   "execution_count": 25
  },
  {
   "metadata": {
    "ExecuteTime": {
     "end_time": "2024-09-13T10:58:31.813127Z",
     "start_time": "2024-09-13T10:58:31.809709Z"
    }
   },
   "cell_type": "code",
   "source": "",
   "id": "6a0ae6d49ab564bf",
   "outputs": [],
   "execution_count": null
  }
 ],
 "metadata": {
  "kernelspec": {
   "display_name": "Python 3",
   "language": "python",
   "name": "python3"
  },
  "language_info": {
   "codemirror_mode": {
    "name": "ipython",
    "version": 2
   },
   "file_extension": ".py",
   "mimetype": "text/x-python",
   "name": "python",
   "nbconvert_exporter": "python",
   "pygments_lexer": "ipython2",
   "version": "2.7.6"
  }
 },
 "nbformat": 4,
 "nbformat_minor": 5
}
