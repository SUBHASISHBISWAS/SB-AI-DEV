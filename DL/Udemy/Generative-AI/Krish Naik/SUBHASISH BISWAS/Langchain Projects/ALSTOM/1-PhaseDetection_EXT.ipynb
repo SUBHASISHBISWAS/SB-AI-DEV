{
 "cells": [
  {
   "cell_type": "code",
   "id": "initial_id",
   "metadata": {
    "collapsed": true,
    "ExecuteTime": {
     "end_time": "2024-09-20T16:50:43.286664Z",
     "start_time": "2024-09-20T16:50:43.278409Z"
    }
   },
   "source": [
    "\n",
    "from dotenv import load_dotenv\n",
    "from langchain_openai import  AzureChatOpenAI\n",
    "from langchain_core.prompts import ChatPromptTemplate,MessagesPlaceholder\n",
    "from langchain.chains.combine_documents import create_stuff_documents_chain\n",
    "from langchain.chains import create_retrieval_chain,create_history_aware_retriever\n",
    "from  langchain_community.embeddings import OllamaEmbeddings,HuggingFaceEmbeddings\n",
    "import hashlib\n",
    "import os\n",
    "from langchain.vectorstores import FAISS\n",
    "from langchain.document_loaders import PyPDFLoader\n",
    "from langchain.text_splitter import RecursiveCharacterTextSplitter\n",
    "from langchain.docstore.document import Document\n",
    "from transformers import AutoTokenizer,AutoModel\n",
    "\n",
    "load_dotenv()\n",
    "\n",
    "os.environ['OPENAI_API_TYPE']=os.getenv(\"AL_OPENAI_API_TYPE\")\n",
    "os.environ['OPENAI_API_VERSION']=os.getenv(\"AL_OPENAI_API_VERSION\")\n",
    "os.environ['AZURE_OPENAI_ENDPOINT']=os.getenv(\"AL_AZURE_OPENAI_ENDPOINT\")\n",
    "os.environ['OPENAI_API_KEY']=os.getenv(\"AL_OPENAI_API_KEY\")\n",
    "os.environ['DEPLOYMENT_NAME']=os.getenv(\"AL_DEPLOYMENT_NAME\")\n",
    "\n",
    "os.environ[\"LANGCHAIN_TRACING_V2\"]=\"true\"\n",
    "os.environ[\"LANGCHAIN_PROJECT\"]=os.getenv(\"AL_LANGCHAIN_PROJECT\")\n",
    "\n",
    "os.environ[\"HF_TOKEN\"]=os.getenv(\"HF_TOKEN\")"
   ],
   "outputs": [],
   "execution_count": 100
  },
  {
   "metadata": {
    "ExecuteTime": {
     "end_time": "2024-09-20T16:50:43.500570Z",
     "start_time": "2024-09-20T16:50:43.488379Z"
    }
   },
   "cell_type": "code",
   "source": [
    "import torch\n",
    "import torch.nn.functional as F\n",
    "import faiss\n",
    "import numpy as np\n",
    "from transformers import AutoTokenizer, AutoModel\n",
    "import os\n",
    "from langchain.vectorstores import FAISS\n",
    "from langchain.embeddings.base import Embeddings\n",
    "\n",
    "class CustomLangChainEmbedding(Embeddings):\n",
    "    def __init__(self, model_name=\"bert-base-uncased\", use_gpu=False):\n",
    "        \"\"\"\n",
    "        Initialize the embedding class with a specific transformer model.\n",
    "        \n",
    "        Args:\n",
    "            model_name (str): Name of the pre-trained transformer model.\n",
    "            use_gpu (bool): If True, use GPU (CUDA) for inference; otherwise, use CPU.\n",
    "        \"\"\"\n",
    "        self.tokenizer = AutoTokenizer.from_pretrained(model_name,clean_up_tokenization_spaces=True)\n",
    "        self.model = AutoModel.from_pretrained(model_name)\n",
    "\n",
    "        # Use GPU if available and requested\n",
    "        self.device = torch.device(\"cuda\" if torch.cuda.is_available() and use_gpu else \"cpu\")\n",
    "        self.model.to(self.device)\n",
    "        print(f\"Model loaded on {self.device}\")\n",
    "\n",
    "    def mean_pooling(self, model_output, attention_mask):\n",
    "        \"\"\"\n",
    "        Mean pooling to compute sentence embeddings from token embeddings.\n",
    "        \"\"\"\n",
    "        token_embeddings = model_output[0]  # First element is token embeddings\n",
    "        input_mask_expanded = attention_mask.unsqueeze(-1).expand(token_embeddings.size()).float()\n",
    "        return torch.sum(token_embeddings * input_mask_expanded, 1) / torch.clamp(input_mask_expanded.sum(1), min=1e-9)\n",
    "\n",
    "    def encode_data(self, sentences):\n",
    "        \"\"\"\n",
    "        Encode the input sentences into sentence embeddings.\n",
    "        \n",
    "        Args:\n",
    "            sentences (list of str): List of sentences to encode.\n",
    "        \n",
    "        Returns:\n",
    "            np.ndarray: Sentence embeddings as a numpy array.\n",
    "        \"\"\"\n",
    "        encoded_input = self.tokenizer(sentences, padding=True, truncation=True, return_tensors='pt').to(self.device)\n",
    "        with torch.no_grad():\n",
    "            model_output = self.model(**encoded_input)\n",
    "\n",
    "        sentence_embeddings = self.mean_pooling(model_output, encoded_input['attention_mask'])\n",
    "        sentence_embeddings = F.normalize(sentence_embeddings, p=2, dim=1)  # L2-normalize embeddings\n",
    "\n",
    "        return sentence_embeddings.cpu().numpy()  # Convert to numpy for FAISS or other downstream tasks\n",
    "\n",
    "    def embed_documents(self, texts):\n",
    "        \"\"\"\n",
    "        LangChain-compatible method to create embeddings for documents.\n",
    "        \n",
    "        Args:\n",
    "            texts (list of str): List of documents (text) to create embeddings for.\n",
    "        \n",
    "        Returns:\n",
    "            np.ndarray: Document embeddings as numpy arrays.\n",
    "        \"\"\"\n",
    "        return self.encode_data(texts)\n",
    "\n",
    "    def embed_query(self, text):\n",
    "        \"\"\"\n",
    "        LangChain-compatible method to create embedding for a single query.\n",
    "        \n",
    "        Args:\n",
    "            text (str): Query to create embedding for.\n",
    "        \n",
    "        Returns:\n",
    "            np.ndarray: Query embedding as a numpy array.\n",
    "        \"\"\"\n",
    "        return self.encode_data([text])\n",
    "\n",
    "\n",
    "# Saving and Loading FAISS Index Locally\n",
    "\n",
    "def save_faiss_index(embedder, sentences, index_path):\n",
    "    \"\"\"\n",
    "    Create and save a FAISS index locally.\n",
    "\n",
    "    Args:\n",
    "        embedder (CustomLangChainEmbedding): The embedding class instance.\n",
    "        sentences (list of str): Sentences to add to the FAISS index.\n",
    "        index_path (str): Path to save the FAISS index.\n",
    "    \"\"\"\n",
    "    # Step 1: Create FAISS index with the correct embedding dimension\n",
    "    dimension = embedder.encode_data([sentences[0]]).shape[1]  # Get embedding dimension\n",
    "    index = faiss.IndexFlatIP(dimension)  # Inner product (cosine similarity) index\n",
    "\n",
    "    # Step 2: Add embeddings to the FAISS index\n",
    "    embeddings = embedder.embed_documents(sentences)\n",
    "    index.add(np.array(embeddings, dtype=np.float32))  # Add embeddings\n",
    "\n",
    "    # Step 3: Save the FAISS index locally\n",
    "    faiss.write_index(index, os.path.join(index_path, \"index.faiss\"))\n",
    "    print(f\"FAISS index saved at {index_path}\")\n",
    "\n",
    "\n",
    "def load_faiss_index(embedder, index_path):\n",
    "    \"\"\"\n",
    "    Load a FAISS index from disk and return the FAISS object from LangChain.\n",
    "    \n",
    "    Args:\n",
    "        embedder (CustomLangChainEmbedding): The embedding class instance.\n",
    "        index_path (str): Path to the saved FAISS index.\n",
    "    \n",
    "    Returns:\n",
    "        FAISS: LangChain FAISS object with the loaded index.\n",
    "    \"\"\"\n",
    "    index_file = os.path.join(index_path, \"index.faiss\")\n",
    "    if not os.path.exists(index_file):\n",
    "        raise FileNotFoundError(f\"FAISS index not found at {index_file}\")\n",
    "\n",
    "    # Step 1: Load the FAISS index from file\n",
    "    index = faiss.read_index(index_file)\n",
    "\n",
    "    # Step 2: Load the FAISS index in LangChain\n",
    "    vector_store = FAISS(embedding=embedder, index=index)\n",
    "    print(f\"FAISS index loaded from {index_path}\")\n",
    "    return vector_store\n",
    "\n",
    "\n"
   ],
   "id": "bf1505461f961cb4",
   "outputs": [],
   "execution_count": 101
  },
  {
   "metadata": {
    "ExecuteTime": {
     "end_time": "2024-09-20T16:50:43.709154Z",
     "start_time": "2024-09-20T16:50:43.704522Z"
    }
   },
   "cell_type": "code",
   "source": [
    "def encode_data(sentences, tokenizer, model):\n",
    "    try:\n",
    "       import torch\n",
    "       import torch.nn.functional as F\n",
    "       \n",
    "       def mean_pooling(model_output, attention_mask):\n",
    "           token_embeddings = model_output[0] # First element of model_output contains all token embeddings\n",
    "           input_mask_expanded = attention_mask.unsqueeze(-1).expand(token_embeddings.size()).float()\n",
    "           return torch.sum(token_embeddings * input_mask_expanded, 1) / torch.clamp(input_mask_expanded.sum(1),min=1e-9)\n",
    "\n",
    "       encoded_input = tokenizer(sentences, padding=True, truncation=True, return_tensors='pt')\n",
    "       with torch.no_grad():\n",
    "           model_output = model(**encoded_input)\n",
    "       sentence_embeddings = mean_pooling(model_output, encoded_input['attention_mask'])\n",
    "       sentence_embeddings = F.normalize(sentence_embeddings)\n",
    "       return torch.squeeze(sentence_embeddings) .numpy()\n",
    "\n",
    "    except Exception as e:\n",
    "        print (sentences)"
   ],
   "id": "df0eb9d71ac1cebc",
   "outputs": [],
   "execution_count": 102
  },
  {
   "metadata": {
    "ExecuteTime": {
     "end_time": "2024-09-20T16:50:43.938039Z",
     "start_time": "2024-09-20T16:50:43.863958Z"
    }
   },
   "cell_type": "code",
   "source": [
    "minilmTokenizer = AutoTokenizer.from_pretrained(\"./Models/all-MiniLM-L6-v2\",clean_up_tokenization_spaces=True)\n",
    "minilmModel = AutoModel.from_pretrained(\"./Models/all-MiniLM-L6-v2\")"
   ],
   "id": "155d95f14f57d3c6",
   "outputs": [],
   "execution_count": 103
  },
  {
   "metadata": {
    "ExecuteTime": {
     "end_time": "2024-09-20T16:50:44.184938Z",
     "start_time": "2024-09-20T16:50:44.125326Z"
    }
   },
   "cell_type": "code",
   "source": "embedding = CustomLangChainEmbedding(model_name=\"./Models/all-MiniLM-L6-v2\", use_gpu=False)\n",
   "id": "dbd2388bcff0a9b3",
   "outputs": [
    {
     "name": "stdout",
     "output_type": "stream",
     "text": [
      "Model loaded on cpu\n"
     ]
    }
   ],
   "execution_count": 104
  },
  {
   "metadata": {
    "ExecuteTime": {
     "end_time": "2024-09-20T16:50:44.435926Z",
     "start_time": "2024-09-20T16:50:44.352515Z"
    }
   },
   "cell_type": "code",
   "source": [
    "llm=AzureChatOpenAI()\n",
    "# Initialize the embedding model\n",
    "#embedding=OllamaEmbeddings(model=\"mxbai-embed-large\")"
   ],
   "id": "dcdc5069d90c20ae",
   "outputs": [],
   "execution_count": 105
  },
  {
   "metadata": {
    "ExecuteTime": {
     "end_time": "2024-09-20T16:50:44.493024Z",
     "start_time": "2024-09-20T16:50:44.489464Z"
    }
   },
   "cell_type": "code",
   "source": [
    "# Function to split text into manageable chunks using a Recursive Text Splitter\n",
    "def split_document_into_chunks(document, chunk_size=1000, chunk_overlap=200):\n",
    "    text_splitter = RecursiveCharacterTextSplitter(\n",
    "        chunk_size=chunk_size, \n",
    "        chunk_overlap=chunk_overlap,\n",
    "        separators=[\"\\n\\n\", \"\\n\", \" \", \"\"]\n",
    "    )\n",
    "    chunks = text_splitter.create_documents([document.page_content])\n",
    "    return chunks\n"
   ],
   "id": "461c555818b4cd8e",
   "outputs": [],
   "execution_count": 106
  },
  {
   "metadata": {
    "ExecuteTime": {
     "end_time": "2024-09-20T16:50:44.955174Z",
     "start_time": "2024-09-20T16:50:44.951931Z"
    }
   },
   "cell_type": "code",
   "source": [
    "# Function to generate a unique document ID based on the hash of the content\n",
    "def generate_doc_id(content):\n",
    "    normalized_content = content.strip().lower()\n",
    "    return hashlib.sha256(normalized_content.encode('utf-8')).hexdigest()"
   ],
   "id": "b4a234b9f72ffbe2",
   "outputs": [],
   "execution_count": 107
  },
  {
   "metadata": {
    "ExecuteTime": {
     "end_time": "2024-09-20T16:50:45.288100Z",
     "start_time": "2024-09-20T16:50:45.282687Z"
    }
   },
   "cell_type": "code",
   "source": [
    "# Function to load the FAISS index from disk if it exists\n",
    "def load_faiss_index(index_path, embedding):\n",
    "    index_file = os.path.join(index_path, \"index.faiss\")\n",
    "    pkl_file = os.path.join(index_path, \"index.pkl\")\n",
    "    \n",
    "    if os.path.exists(index_file) and os.path.exists(pkl_file):\n",
    "        print(f\"Loading FAISS index and metadata from {index_path}\")\n",
    "        return FAISS.load_local(index_path, embedding,allow_dangerous_deserialization=True)\n",
    "    else:\n",
    "        print(f\"No FAISS index found at {index_path}, creating a new one.\")\n",
    "        return None\n"
   ],
   "id": "10cdaf63414c2565",
   "outputs": [],
   "execution_count": 108
  },
  {
   "metadata": {
    "ExecuteTime": {
     "end_time": "2024-09-20T16:50:45.650820Z",
     "start_time": "2024-09-20T16:50:45.647218Z"
    }
   },
   "cell_type": "code",
   "source": [
    "# Function to save the FAISS index to disk\n",
    "def save_faiss_index(vector_store, index_path):\n",
    "    os.makedirs(index_path, exist_ok=True)\n",
    "    vector_store.save_local(index_path)\n",
    "    print(f\"FAISS index and metadata saved to {index_path}\")"
   ],
   "id": "a2a24ec77e4bcc20",
   "outputs": [],
   "execution_count": 109
  },
  {
   "metadata": {
    "ExecuteTime": {
     "end_time": "2024-09-20T16:52:52.486792Z",
     "start_time": "2024-09-20T16:52:52.480212Z"
    }
   },
   "cell_type": "code",
   "source": [
    "\n",
    "# Function to add PDF document to FAISS store with consistent doc_id generation\n",
    "def add_pdf_to_faiss(pdf_path, vector_store=None, index_path=\"faiss_index\"):\n",
    "    if vector_store is None:\n",
    "        vector_store = embedding.load_faiss_index(embedding,index_path)\n",
    "\n",
    "    # Load the PDF document\n",
    "    pdf_loader = PyPDFLoader(pdf_path)\n",
    "    documents = pdf_loader.load()\n",
    "    \n",
    "    new_documents = []\n",
    "    new_embeddings = []\n",
    "\n",
    "    # Retrieve existing document IDs from FAISS and normalize them\n",
    "    existing_ids = set()\n",
    "    if vector_store is not None:\n",
    "        existing_ids = set(\n",
    "            generate_doc_id(doc.page_content)  # Re-generate hash-based doc_ids for existing documents\n",
    "            for doc_id, doc in vector_store.docstore._dict.items()\n",
    "        )\n",
    "        \n",
    "\n",
    "    # Iterate through the documents, chunk them, and check if they are already embedded\n",
    "    for document in documents:\n",
    "        chunks = split_document_into_chunks(document)\n",
    "        \n",
    "        for chunk in chunks:\n",
    "            doc_id = generate_doc_id(chunk.page_content)\n",
    "            \n",
    "            #encoded_data=encode_data(chunk.page_content,minilmTokenizer,minilmModel)\n",
    "            #print(encoded_data)\n",
    "        \n",
    "            if doc_id not in existing_ids:\n",
    "                new_documents.append(Document(page_content=chunk.page_content, metadata={\"id\": doc_id}))\n",
    "                new_embeddings.append(embedding.embed_documents([chunk.page_content])[0])\n",
    "                print(f\"Embedding new document chunk with doc_id: {doc_id}\")\n",
    "            else:\n",
    "                print(f\"Document chunk {doc_id} already exists in FAISS, skipping.\")\n",
    "\n",
    "    if new_documents:\n",
    "        if vector_store is None:\n",
    "            vector_store = FAISS.from_documents(new_documents, embedding)\n",
    "            print(f\"Created new FAISS index for {pdf_path}.\")\n",
    "        else:\n",
    "            for i, document in enumerate(new_documents):\n",
    "                vector_store.add_documents([document], embeddings=[new_embeddings[i]])\n",
    "                # Map the generated doc_id to the FAISS index's internal mapping\n",
    "                vector_store.index_to_docstore_id[vector_store.index.ntotal - 1] = document.metadata[\"id\"]\n",
    "            print(f\"Added {len(new_documents)} new chunks to FAISS index.\")\n",
    "    else:\n",
    "        print(\"No new chunks to add to FAISS.\")\n",
    "\n",
    "    embedding.save_faiss_index(vector_store, index_path)\n",
    "\n",
    "    return vector_store"
   ],
   "id": "22da39c48b606b1a",
   "outputs": [],
   "execution_count": 113
  },
  {
   "metadata": {
    "ExecuteTime": {
     "end_time": "2024-09-20T16:52:53.378870Z",
     "start_time": "2024-09-20T16:52:53.375385Z"
    }
   },
   "cell_type": "code",
   "source": [
    "# Example usage with a PDF file\n",
    "pdf_path = \"./Requirements/SET MSA Schedule 23_updated.pdf\"  # Path to the PDF file\n",
    "# Specify where the FAISS index should be stored\n",
    "index_path = \"faiss_index\""
   ],
   "id": "ced7c1cd3327d1c4",
   "outputs": [],
   "execution_count": 114
  },
  {
   "metadata": {
    "ExecuteTime": {
     "end_time": "2024-09-20T16:52:53.918865Z",
     "start_time": "2024-09-20T16:52:53.851320Z"
    }
   },
   "cell_type": "code",
   "source": "vector_store = add_pdf_to_faiss(pdf_path, vector_store=None, index_path=index_path)",
   "id": "e0157dc7522b4c5f",
   "outputs": [
    {
     "ename": "AttributeError",
     "evalue": "'CustomLangChainEmbedding' object has no attribute 'load_faiss_index'",
     "output_type": "error",
     "traceback": [
      "\u001B[0;31m---------------------------------------------------------------------------\u001B[0m",
      "\u001B[0;31mAttributeError\u001B[0m                            Traceback (most recent call last)",
      "Cell \u001B[0;32mIn[115], line 1\u001B[0m\n\u001B[0;32m----> 1\u001B[0m vector_store \u001B[38;5;241m=\u001B[39m add_pdf_to_faiss(pdf_path, vector_store\u001B[38;5;241m=\u001B[39m\u001B[38;5;28;01mNone\u001B[39;00m, index_path\u001B[38;5;241m=\u001B[39mindex_path)\n",
      "Cell \u001B[0;32mIn[113], line 4\u001B[0m, in \u001B[0;36madd_pdf_to_faiss\u001B[0;34m(pdf_path, vector_store, index_path)\u001B[0m\n\u001B[1;32m      2\u001B[0m \u001B[38;5;28;01mdef\u001B[39;00m \u001B[38;5;21madd_pdf_to_faiss\u001B[39m(pdf_path, vector_store\u001B[38;5;241m=\u001B[39m\u001B[38;5;28;01mNone\u001B[39;00m, index_path\u001B[38;5;241m=\u001B[39m\u001B[38;5;124m\"\u001B[39m\u001B[38;5;124mfaiss_index\u001B[39m\u001B[38;5;124m\"\u001B[39m):\n\u001B[1;32m      3\u001B[0m     \u001B[38;5;28;01mif\u001B[39;00m vector_store \u001B[38;5;129;01mis\u001B[39;00m \u001B[38;5;28;01mNone\u001B[39;00m:\n\u001B[0;32m----> 4\u001B[0m         vector_store \u001B[38;5;241m=\u001B[39m embedding\u001B[38;5;241m.\u001B[39mload_faiss_index(embedding,index_path)\n\u001B[1;32m      6\u001B[0m     \u001B[38;5;66;03m# Load the PDF document\u001B[39;00m\n\u001B[1;32m      7\u001B[0m     pdf_loader \u001B[38;5;241m=\u001B[39m PyPDFLoader(pdf_path)\n",
      "\u001B[0;31mAttributeError\u001B[0m: 'CustomLangChainEmbedding' object has no attribute 'load_faiss_index'"
     ]
    }
   ],
   "execution_count": 115
  },
  {
   "metadata": {
    "ExecuteTime": {
     "end_time": "2024-09-20T16:43:19.485966Z",
     "start_time": "2024-09-20T16:43:19.483045Z"
    }
   },
   "cell_type": "code",
   "source": [
    "\n",
    "retriever=vector_store.as_retriever(search_type=\"similarity\",search_kwargs={\"k\":1})"
   ],
   "id": "32557217627f801f",
   "outputs": [],
   "execution_count": 94
  },
  {
   "metadata": {
    "ExecuteTime": {
     "end_time": "2024-09-20T16:43:20.993157Z",
     "start_time": "2024-09-20T16:43:20.990266Z"
    }
   },
   "cell_type": "code",
   "source": [
    "# #embeddings=OllamaEmbeddings(model=\"mxbai-embed-large\")\n",
    "# embeddings=AzureOpenAIEmbeddings()\n",
    "# \n",
    "# loader=PyPDFDirectoryLoader(\"Requirements\")\n",
    "# docs=loader.load()\n",
    "# text_splitter=RecursiveCharacterTextSplitter(chunk_size=1000,chunk_overlap=200)\n",
    "# chunksDocuments=text_splitter.split_documents(docs)\n",
    "# ##result = [chunksDocument.dict()['page_content'] for chunksDocument in chunksDocuments]\n",
    "# vector_store_db=FAISS.from_documents(chunksDocuments,embeddings)\n",
    "# ##retriever=vector_store_db.as_retriever(search_type=\"similarity\",search_kwargs={\"k\":1})\n",
    "# ##retriever_tool=create_retriever_tool(retriever,\"PhaseFinder\",\"Search phases in the document\")"
   ],
   "id": "e615f299ed8bbafe",
   "outputs": [],
   "execution_count": 95
  },
  {
   "metadata": {
    "ExecuteTime": {
     "end_time": "2024-09-20T16:43:21.378784Z",
     "start_time": "2024-09-20T16:43:21.313934Z"
    }
   },
   "cell_type": "code",
   "source": [
    "search_results=vector_store.similarity_search(\"Security Policy\",k=1)\n",
    "#retriever.invoke(\"Security Policy\")\n",
    "for result in search_results:\n",
    "    print(f\"Text: {result.page_content}\")"
   ],
   "id": "7eb963c279da1f8e",
   "outputs": [
    {
     "ename": "ValueError",
     "evalue": "too many values to unpack (expected 2)",
     "output_type": "error",
     "traceback": [
      "\u001B[0;31m---------------------------------------------------------------------------\u001B[0m",
      "\u001B[0;31mValueError\u001B[0m                                Traceback (most recent call last)",
      "Cell \u001B[0;32mIn[96], line 1\u001B[0m\n\u001B[0;32m----> 1\u001B[0m search_results\u001B[38;5;241m=\u001B[39mvector_store\u001B[38;5;241m.\u001B[39msimilarity_search(\u001B[38;5;124m\"\u001B[39m\u001B[38;5;124mSecurity Policy\u001B[39m\u001B[38;5;124m\"\u001B[39m,k\u001B[38;5;241m=\u001B[39m\u001B[38;5;241m1\u001B[39m)\n\u001B[1;32m      2\u001B[0m \u001B[38;5;66;03m#retriever.invoke(\"Security Policy\")\u001B[39;00m\n\u001B[1;32m      3\u001B[0m \u001B[38;5;28;01mfor\u001B[39;00m result \u001B[38;5;129;01min\u001B[39;00m search_results:\n",
      "File \u001B[0;32m~/GIT/Interstellar/SB-AI-DEV/DL/Udemy/Generative-AI/Krish Naik/SUBHASISH BISWAS/Langchain Projects/venv/lib/python3.11/site-packages/langchain_community/vectorstores/faiss.py:641\u001B[0m, in \u001B[0;36mFAISS.similarity_search\u001B[0;34m(self, query, k, filter, fetch_k, **kwargs)\u001B[0m\n\u001B[1;32m    621\u001B[0m \u001B[38;5;28;01mdef\u001B[39;00m \u001B[38;5;21msimilarity_search\u001B[39m(\n\u001B[1;32m    622\u001B[0m     \u001B[38;5;28mself\u001B[39m,\n\u001B[1;32m    623\u001B[0m     query: \u001B[38;5;28mstr\u001B[39m,\n\u001B[0;32m   (...)\u001B[0m\n\u001B[1;32m    627\u001B[0m     \u001B[38;5;241m*\u001B[39m\u001B[38;5;241m*\u001B[39mkwargs: Any,\n\u001B[1;32m    628\u001B[0m ) \u001B[38;5;241m-\u001B[39m\u001B[38;5;241m>\u001B[39m List[Document]:\n\u001B[1;32m    629\u001B[0m \u001B[38;5;250m    \u001B[39m\u001B[38;5;124;03m\"\"\"Return docs most similar to query.\u001B[39;00m\n\u001B[1;32m    630\u001B[0m \n\u001B[1;32m    631\u001B[0m \u001B[38;5;124;03m    Args:\u001B[39;00m\n\u001B[0;32m   (...)\u001B[0m\n\u001B[1;32m    639\u001B[0m \u001B[38;5;124;03m        List of Documents most similar to the query.\u001B[39;00m\n\u001B[1;32m    640\u001B[0m \u001B[38;5;124;03m    \"\"\"\u001B[39;00m\n\u001B[0;32m--> 641\u001B[0m     docs_and_scores \u001B[38;5;241m=\u001B[39m \u001B[38;5;28mself\u001B[39m\u001B[38;5;241m.\u001B[39msimilarity_search_with_score(\n\u001B[1;32m    642\u001B[0m         query, k, \u001B[38;5;28mfilter\u001B[39m\u001B[38;5;241m=\u001B[39m\u001B[38;5;28mfilter\u001B[39m, fetch_k\u001B[38;5;241m=\u001B[39mfetch_k, \u001B[38;5;241m*\u001B[39m\u001B[38;5;241m*\u001B[39mkwargs\n\u001B[1;32m    643\u001B[0m     )\n\u001B[1;32m    644\u001B[0m     \u001B[38;5;28;01mreturn\u001B[39;00m [doc \u001B[38;5;28;01mfor\u001B[39;00m doc, _ \u001B[38;5;129;01min\u001B[39;00m docs_and_scores]\n",
      "File \u001B[0;32m~/GIT/Interstellar/SB-AI-DEV/DL/Udemy/Generative-AI/Krish Naik/SUBHASISH BISWAS/Langchain Projects/venv/lib/python3.11/site-packages/langchain_community/vectorstores/faiss.py:514\u001B[0m, in \u001B[0;36mFAISS.similarity_search_with_score\u001B[0;34m(self, query, k, filter, fetch_k, **kwargs)\u001B[0m\n\u001B[1;32m    497\u001B[0m \u001B[38;5;250m\u001B[39m\u001B[38;5;124;03m\"\"\"Return docs most similar to query.\u001B[39;00m\n\u001B[1;32m    498\u001B[0m \n\u001B[1;32m    499\u001B[0m \u001B[38;5;124;03mArgs:\u001B[39;00m\n\u001B[0;32m   (...)\u001B[0m\n\u001B[1;32m    511\u001B[0m \u001B[38;5;124;03m    L2 distance in float. Lower score represents more similarity.\u001B[39;00m\n\u001B[1;32m    512\u001B[0m \u001B[38;5;124;03m\"\"\"\u001B[39;00m\n\u001B[1;32m    513\u001B[0m embedding \u001B[38;5;241m=\u001B[39m \u001B[38;5;28mself\u001B[39m\u001B[38;5;241m.\u001B[39m_embed_query(query)\n\u001B[0;32m--> 514\u001B[0m docs \u001B[38;5;241m=\u001B[39m \u001B[38;5;28mself\u001B[39m\u001B[38;5;241m.\u001B[39msimilarity_search_with_score_by_vector(\n\u001B[1;32m    515\u001B[0m     embedding,\n\u001B[1;32m    516\u001B[0m     k,\n\u001B[1;32m    517\u001B[0m     \u001B[38;5;28mfilter\u001B[39m\u001B[38;5;241m=\u001B[39m\u001B[38;5;28mfilter\u001B[39m,\n\u001B[1;32m    518\u001B[0m     fetch_k\u001B[38;5;241m=\u001B[39mfetch_k,\n\u001B[1;32m    519\u001B[0m     \u001B[38;5;241m*\u001B[39m\u001B[38;5;241m*\u001B[39mkwargs,\n\u001B[1;32m    520\u001B[0m )\n\u001B[1;32m    521\u001B[0m \u001B[38;5;28;01mreturn\u001B[39;00m docs\n",
      "File \u001B[0;32m~/GIT/Interstellar/SB-AI-DEV/DL/Udemy/Generative-AI/Krish Naik/SUBHASISH BISWAS/Langchain Projects/venv/lib/python3.11/site-packages/langchain_community/vectorstores/faiss.py:415\u001B[0m, in \u001B[0;36mFAISS.similarity_search_with_score_by_vector\u001B[0;34m(self, embedding, k, filter, fetch_k, **kwargs)\u001B[0m\n\u001B[1;32m    413\u001B[0m \u001B[38;5;28;01mif\u001B[39;00m \u001B[38;5;28mself\u001B[39m\u001B[38;5;241m.\u001B[39m_normalize_L2:\n\u001B[1;32m    414\u001B[0m     faiss\u001B[38;5;241m.\u001B[39mnormalize_L2(vector)\n\u001B[0;32m--> 415\u001B[0m scores, indices \u001B[38;5;241m=\u001B[39m \u001B[38;5;28mself\u001B[39m\u001B[38;5;241m.\u001B[39mindex\u001B[38;5;241m.\u001B[39msearch(vector, k \u001B[38;5;28;01mif\u001B[39;00m \u001B[38;5;28mfilter\u001B[39m \u001B[38;5;129;01mis\u001B[39;00m \u001B[38;5;28;01mNone\u001B[39;00m \u001B[38;5;28;01melse\u001B[39;00m fetch_k)\n\u001B[1;32m    416\u001B[0m docs \u001B[38;5;241m=\u001B[39m []\n\u001B[1;32m    418\u001B[0m \u001B[38;5;28;01mif\u001B[39;00m \u001B[38;5;28mfilter\u001B[39m \u001B[38;5;129;01mis\u001B[39;00m \u001B[38;5;129;01mnot\u001B[39;00m \u001B[38;5;28;01mNone\u001B[39;00m:\n",
      "File \u001B[0;32m~/GIT/Interstellar/SB-AI-DEV/DL/Udemy/Generative-AI/Krish Naik/SUBHASISH BISWAS/Langchain Projects/venv/lib/python3.11/site-packages/faiss/class_wrappers.py:327\u001B[0m, in \u001B[0;36mhandle_Index.<locals>.replacement_search\u001B[0;34m(self, x, k, params, D, I)\u001B[0m\n\u001B[1;32m    300\u001B[0m \u001B[38;5;28;01mdef\u001B[39;00m \u001B[38;5;21mreplacement_search\u001B[39m(\u001B[38;5;28mself\u001B[39m, x, k, \u001B[38;5;241m*\u001B[39m, params\u001B[38;5;241m=\u001B[39m\u001B[38;5;28;01mNone\u001B[39;00m, D\u001B[38;5;241m=\u001B[39m\u001B[38;5;28;01mNone\u001B[39;00m, I\u001B[38;5;241m=\u001B[39m\u001B[38;5;28;01mNone\u001B[39;00m):\n\u001B[1;32m    301\u001B[0m \u001B[38;5;250m    \u001B[39m\u001B[38;5;124;03m\"\"\"Find the k nearest neighbors of the set of vectors x in the index.\u001B[39;00m\n\u001B[1;32m    302\u001B[0m \n\u001B[1;32m    303\u001B[0m \u001B[38;5;124;03m    Parameters\u001B[39;00m\n\u001B[0;32m   (...)\u001B[0m\n\u001B[1;32m    324\u001B[0m \u001B[38;5;124;03m        When not enough results are found, the label is set to -1\u001B[39;00m\n\u001B[1;32m    325\u001B[0m \u001B[38;5;124;03m    \"\"\"\u001B[39;00m\n\u001B[0;32m--> 327\u001B[0m     n, d \u001B[38;5;241m=\u001B[39m x\u001B[38;5;241m.\u001B[39mshape\n\u001B[1;32m    328\u001B[0m     x \u001B[38;5;241m=\u001B[39m np\u001B[38;5;241m.\u001B[39mascontiguousarray(x, dtype\u001B[38;5;241m=\u001B[39m\u001B[38;5;124m'\u001B[39m\u001B[38;5;124mfloat32\u001B[39m\u001B[38;5;124m'\u001B[39m)\n\u001B[1;32m    329\u001B[0m     \u001B[38;5;28;01massert\u001B[39;00m d \u001B[38;5;241m==\u001B[39m \u001B[38;5;28mself\u001B[39m\u001B[38;5;241m.\u001B[39md\n",
      "\u001B[0;31mValueError\u001B[0m: too many values to unpack (expected 2)"
     ]
    }
   ],
   "execution_count": 96
  },
  {
   "metadata": {
    "ExecuteTime": {
     "end_time": "2024-09-20T16:31:07.363290Z",
     "start_time": "2024-09-20T16:31:07.358852Z"
    }
   },
   "cell_type": "code",
   "source": [
    "\n",
    "contextualize_q_system_prompt = (\n",
    "    \"Given a chat history and the latest user question \"\n",
    "    \"which might reference context in the chat history, \"\n",
    "    \"formulate a standalone question which can be understood \"\n",
    "    \"without the chat history. Do NOT answer the question, \"\n",
    "    \"just reformulate it if needed and otherwise return it as is.\"\n",
    ")\n",
    "contextualize_q_prompt = ChatPromptTemplate.from_messages(\n",
    "    [\n",
    "        (\"system\", contextualize_q_system_prompt),\n",
    "        MessagesPlaceholder(\"chat_history\"),\n",
    "        (\"human\", \"{input}\"),\n",
    "    ]\n",
    ")\n",
    "system_prompt = (\n",
    "    \"You are an assistant for question-answering tasks. \"\n",
    "    \"Use the following pieces of retrieved context to answer \"\n",
    "    \"the question. If you don't know the answer, say that you \"\n",
    "    \"don't know. Use three sentences maximum and keep the \"\n",
    "    \"answer concise.\"\n",
    "    \"\\n\\n\"\n",
    "    \"{context}\"\n",
    ")\n",
    "qa_prompt = ChatPromptTemplate.from_messages(\n",
    "    [\n",
    "        (\"system\", system_prompt),\n",
    "        MessagesPlaceholder(\"chat_history\"),\n",
    "        (\"human\", \"{input}\"),\n",
    "    ]\n",
    ")"
   ],
   "id": "d0b5b4856bd62682",
   "outputs": [],
   "execution_count": 71
  },
  {
   "metadata": {
    "ExecuteTime": {
     "end_time": "2024-09-20T16:31:08.548039Z",
     "start_time": "2024-09-20T16:31:08.544219Z"
    }
   },
   "cell_type": "code",
   "source": [
    "history_aware_retriever=create_history_aware_retriever(llm,retriever,contextualize_q_prompt)\n",
    "question_answer_chain=create_stuff_documents_chain(llm,qa_prompt)\n",
    "rag_chain=create_retrieval_chain(history_aware_retriever,question_answer_chain)"
   ],
   "id": "d32ea8ece0e314b1",
   "outputs": [],
   "execution_count": 72
  },
  {
   "metadata": {
    "ExecuteTime": {
     "end_time": "2024-09-20T16:31:09.428290Z",
     "start_time": "2024-09-20T16:31:09.423583Z"
    }
   },
   "cell_type": "code",
   "source": [
    "from langchain_community.chat_message_histories import ChatMessageHistory\n",
    "from langchain_core.chat_history import BaseChatMessageHistory\n",
    "from langchain_core.runnables.history import RunnableWithMessageHistory\n",
    "\n",
    "store={}\n",
    "def get_session_history(session_id:str)->BaseChatMessageHistory:\n",
    "    if  session_id not in store:\n",
    "        store[session_id]=ChatMessageHistory()\n",
    "    return store[session_id]\n",
    "        \n",
    "with_message_history=RunnableWithMessageHistory(llm,get_session_history)"
   ],
   "id": "17832426a728e32c",
   "outputs": [],
   "execution_count": 73
  },
  {
   "metadata": {
    "ExecuteTime": {
     "end_time": "2024-09-20T16:31:11.644859Z",
     "start_time": "2024-09-20T16:31:11.641209Z"
    }
   },
   "cell_type": "code",
   "source": [
    "conversational_rag_chain = RunnableWithMessageHistory(\n",
    "    rag_chain,\n",
    "    get_session_history,\n",
    "    input_messages_key=\"input\",\n",
    "    history_messages_key=\"chat_history\",\n",
    "    output_messages_key=\"answer\",\n",
    ")"
   ],
   "id": "e73060bb4226037b",
   "outputs": [],
   "execution_count": 74
  },
  {
   "metadata": {
    "ExecuteTime": {
     "end_time": "2024-09-20T16:31:12.865280Z",
     "start_time": "2024-09-20T16:31:12.410563Z"
    }
   },
   "cell_type": "code",
   "source": [
    "from langchain_core.messages import AIMessage,HumanMessage,SystemMessage\n",
    "chat_history=[]\n",
    "\n",
    "\n",
    "question=\"tell about Security Policy in this document \"\n",
    "response=conversational_rag_chain.invoke(\n",
    "    {\"input\": question},\n",
    "    config={ \"configurable\": {\"session_id\": \"session-1\"} },  # constructs a key \"abc123\" in `store`.\n",
    ")\n",
    "\n",
    "chat_history.extend(\n",
    "    [\n",
    "        HumanMessage(content=question),\n",
    "        AIMessage(content=response[\"answer\"]),\n",
    "    ]\n",
    ")\n",
    "\n",
    "print(response['answer'])\n"
   ],
   "id": "291c5cf630de3ed7",
   "outputs": [
    {
     "ename": "ValueError",
     "evalue": "too many values to unpack (expected 2)",
     "output_type": "error",
     "traceback": [
      "\u001B[0;31m---------------------------------------------------------------------------\u001B[0m",
      "\u001B[0;31mValueError\u001B[0m                                Traceback (most recent call last)",
      "Cell \u001B[0;32mIn[75], line 6\u001B[0m\n\u001B[1;32m      2\u001B[0m chat_history\u001B[38;5;241m=\u001B[39m[]\n\u001B[1;32m      5\u001B[0m question\u001B[38;5;241m=\u001B[39m\u001B[38;5;124m\"\u001B[39m\u001B[38;5;124mtell about Security Policy in this document \u001B[39m\u001B[38;5;124m\"\u001B[39m\n\u001B[0;32m----> 6\u001B[0m response\u001B[38;5;241m=\u001B[39mconversational_rag_chain\u001B[38;5;241m.\u001B[39minvoke(\n\u001B[1;32m      7\u001B[0m     {\u001B[38;5;124m\"\u001B[39m\u001B[38;5;124minput\u001B[39m\u001B[38;5;124m\"\u001B[39m: question},\n\u001B[1;32m      8\u001B[0m     config\u001B[38;5;241m=\u001B[39m{ \u001B[38;5;124m\"\u001B[39m\u001B[38;5;124mconfigurable\u001B[39m\u001B[38;5;124m\"\u001B[39m: {\u001B[38;5;124m\"\u001B[39m\u001B[38;5;124msession_id\u001B[39m\u001B[38;5;124m\"\u001B[39m: \u001B[38;5;124m\"\u001B[39m\u001B[38;5;124msession-1\u001B[39m\u001B[38;5;124m\"\u001B[39m} },  \u001B[38;5;66;03m# constructs a key \"abc123\" in `store`.\u001B[39;00m\n\u001B[1;32m      9\u001B[0m )\n\u001B[1;32m     11\u001B[0m chat_history\u001B[38;5;241m.\u001B[39mextend(\n\u001B[1;32m     12\u001B[0m     [\n\u001B[1;32m     13\u001B[0m         HumanMessage(content\u001B[38;5;241m=\u001B[39mquestion),\n\u001B[1;32m     14\u001B[0m         AIMessage(content\u001B[38;5;241m=\u001B[39mresponse[\u001B[38;5;124m\"\u001B[39m\u001B[38;5;124manswer\u001B[39m\u001B[38;5;124m\"\u001B[39m]),\n\u001B[1;32m     15\u001B[0m     ]\n\u001B[1;32m     16\u001B[0m )\n\u001B[1;32m     18\u001B[0m \u001B[38;5;28mprint\u001B[39m(response[\u001B[38;5;124m'\u001B[39m\u001B[38;5;124manswer\u001B[39m\u001B[38;5;124m'\u001B[39m])\n",
      "File \u001B[0;32m~/GIT/Interstellar/SB-AI-DEV/DL/Udemy/Generative-AI/Krish Naik/SUBHASISH BISWAS/Langchain Projects/venv/lib/python3.11/site-packages/langchain_core/runnables/base.py:5092\u001B[0m, in \u001B[0;36mRunnableBindingBase.invoke\u001B[0;34m(self, input, config, **kwargs)\u001B[0m\n\u001B[1;32m   5086\u001B[0m \u001B[38;5;28;01mdef\u001B[39;00m \u001B[38;5;21minvoke\u001B[39m(\n\u001B[1;32m   5087\u001B[0m     \u001B[38;5;28mself\u001B[39m,\n\u001B[1;32m   5088\u001B[0m     \u001B[38;5;28minput\u001B[39m: Input,\n\u001B[1;32m   5089\u001B[0m     config: Optional[RunnableConfig] \u001B[38;5;241m=\u001B[39m \u001B[38;5;28;01mNone\u001B[39;00m,\n\u001B[1;32m   5090\u001B[0m     \u001B[38;5;241m*\u001B[39m\u001B[38;5;241m*\u001B[39mkwargs: Optional[Any],\n\u001B[1;32m   5091\u001B[0m ) \u001B[38;5;241m-\u001B[39m\u001B[38;5;241m>\u001B[39m Output:\n\u001B[0;32m-> 5092\u001B[0m     \u001B[38;5;28;01mreturn\u001B[39;00m \u001B[38;5;28mself\u001B[39m\u001B[38;5;241m.\u001B[39mbound\u001B[38;5;241m.\u001B[39minvoke(\n\u001B[1;32m   5093\u001B[0m         \u001B[38;5;28minput\u001B[39m,\n\u001B[1;32m   5094\u001B[0m         \u001B[38;5;28mself\u001B[39m\u001B[38;5;241m.\u001B[39m_merge_configs(config),\n\u001B[1;32m   5095\u001B[0m         \u001B[38;5;241m*\u001B[39m\u001B[38;5;241m*\u001B[39m{\u001B[38;5;241m*\u001B[39m\u001B[38;5;241m*\u001B[39m\u001B[38;5;28mself\u001B[39m\u001B[38;5;241m.\u001B[39mkwargs, \u001B[38;5;241m*\u001B[39m\u001B[38;5;241m*\u001B[39mkwargs},\n\u001B[1;32m   5096\u001B[0m     )\n",
      "File \u001B[0;32m~/GIT/Interstellar/SB-AI-DEV/DL/Udemy/Generative-AI/Krish Naik/SUBHASISH BISWAS/Langchain Projects/venv/lib/python3.11/site-packages/langchain_core/runnables/base.py:5092\u001B[0m, in \u001B[0;36mRunnableBindingBase.invoke\u001B[0;34m(self, input, config, **kwargs)\u001B[0m\n\u001B[1;32m   5086\u001B[0m \u001B[38;5;28;01mdef\u001B[39;00m \u001B[38;5;21minvoke\u001B[39m(\n\u001B[1;32m   5087\u001B[0m     \u001B[38;5;28mself\u001B[39m,\n\u001B[1;32m   5088\u001B[0m     \u001B[38;5;28minput\u001B[39m: Input,\n\u001B[1;32m   5089\u001B[0m     config: Optional[RunnableConfig] \u001B[38;5;241m=\u001B[39m \u001B[38;5;28;01mNone\u001B[39;00m,\n\u001B[1;32m   5090\u001B[0m     \u001B[38;5;241m*\u001B[39m\u001B[38;5;241m*\u001B[39mkwargs: Optional[Any],\n\u001B[1;32m   5091\u001B[0m ) \u001B[38;5;241m-\u001B[39m\u001B[38;5;241m>\u001B[39m Output:\n\u001B[0;32m-> 5092\u001B[0m     \u001B[38;5;28;01mreturn\u001B[39;00m \u001B[38;5;28mself\u001B[39m\u001B[38;5;241m.\u001B[39mbound\u001B[38;5;241m.\u001B[39minvoke(\n\u001B[1;32m   5093\u001B[0m         \u001B[38;5;28minput\u001B[39m,\n\u001B[1;32m   5094\u001B[0m         \u001B[38;5;28mself\u001B[39m\u001B[38;5;241m.\u001B[39m_merge_configs(config),\n\u001B[1;32m   5095\u001B[0m         \u001B[38;5;241m*\u001B[39m\u001B[38;5;241m*\u001B[39m{\u001B[38;5;241m*\u001B[39m\u001B[38;5;241m*\u001B[39m\u001B[38;5;28mself\u001B[39m\u001B[38;5;241m.\u001B[39mkwargs, \u001B[38;5;241m*\u001B[39m\u001B[38;5;241m*\u001B[39mkwargs},\n\u001B[1;32m   5096\u001B[0m     )\n",
      "File \u001B[0;32m~/GIT/Interstellar/SB-AI-DEV/DL/Udemy/Generative-AI/Krish Naik/SUBHASISH BISWAS/Langchain Projects/venv/lib/python3.11/site-packages/langchain_core/runnables/base.py:2878\u001B[0m, in \u001B[0;36mRunnableSequence.invoke\u001B[0;34m(self, input, config, **kwargs)\u001B[0m\n\u001B[1;32m   2876\u001B[0m             \u001B[38;5;28minput\u001B[39m \u001B[38;5;241m=\u001B[39m context\u001B[38;5;241m.\u001B[39mrun(step\u001B[38;5;241m.\u001B[39minvoke, \u001B[38;5;28minput\u001B[39m, config, \u001B[38;5;241m*\u001B[39m\u001B[38;5;241m*\u001B[39mkwargs)\n\u001B[1;32m   2877\u001B[0m         \u001B[38;5;28;01melse\u001B[39;00m:\n\u001B[0;32m-> 2878\u001B[0m             \u001B[38;5;28minput\u001B[39m \u001B[38;5;241m=\u001B[39m context\u001B[38;5;241m.\u001B[39mrun(step\u001B[38;5;241m.\u001B[39minvoke, \u001B[38;5;28minput\u001B[39m, config)\n\u001B[1;32m   2879\u001B[0m \u001B[38;5;66;03m# finish the root run\u001B[39;00m\n\u001B[1;32m   2880\u001B[0m \u001B[38;5;28;01mexcept\u001B[39;00m \u001B[38;5;167;01mBaseException\u001B[39;00m \u001B[38;5;28;01mas\u001B[39;00m e:\n",
      "File \u001B[0;32m~/GIT/Interstellar/SB-AI-DEV/DL/Udemy/Generative-AI/Krish Naik/SUBHASISH BISWAS/Langchain Projects/venv/lib/python3.11/site-packages/langchain_core/runnables/base.py:5092\u001B[0m, in \u001B[0;36mRunnableBindingBase.invoke\u001B[0;34m(self, input, config, **kwargs)\u001B[0m\n\u001B[1;32m   5086\u001B[0m \u001B[38;5;28;01mdef\u001B[39;00m \u001B[38;5;21minvoke\u001B[39m(\n\u001B[1;32m   5087\u001B[0m     \u001B[38;5;28mself\u001B[39m,\n\u001B[1;32m   5088\u001B[0m     \u001B[38;5;28minput\u001B[39m: Input,\n\u001B[1;32m   5089\u001B[0m     config: Optional[RunnableConfig] \u001B[38;5;241m=\u001B[39m \u001B[38;5;28;01mNone\u001B[39;00m,\n\u001B[1;32m   5090\u001B[0m     \u001B[38;5;241m*\u001B[39m\u001B[38;5;241m*\u001B[39mkwargs: Optional[Any],\n\u001B[1;32m   5091\u001B[0m ) \u001B[38;5;241m-\u001B[39m\u001B[38;5;241m>\u001B[39m Output:\n\u001B[0;32m-> 5092\u001B[0m     \u001B[38;5;28;01mreturn\u001B[39;00m \u001B[38;5;28mself\u001B[39m\u001B[38;5;241m.\u001B[39mbound\u001B[38;5;241m.\u001B[39minvoke(\n\u001B[1;32m   5093\u001B[0m         \u001B[38;5;28minput\u001B[39m,\n\u001B[1;32m   5094\u001B[0m         \u001B[38;5;28mself\u001B[39m\u001B[38;5;241m.\u001B[39m_merge_configs(config),\n\u001B[1;32m   5095\u001B[0m         \u001B[38;5;241m*\u001B[39m\u001B[38;5;241m*\u001B[39m{\u001B[38;5;241m*\u001B[39m\u001B[38;5;241m*\u001B[39m\u001B[38;5;28mself\u001B[39m\u001B[38;5;241m.\u001B[39mkwargs, \u001B[38;5;241m*\u001B[39m\u001B[38;5;241m*\u001B[39mkwargs},\n\u001B[1;32m   5096\u001B[0m     )\n",
      "File \u001B[0;32m~/GIT/Interstellar/SB-AI-DEV/DL/Udemy/Generative-AI/Krish Naik/SUBHASISH BISWAS/Langchain Projects/venv/lib/python3.11/site-packages/langchain_core/runnables/base.py:4474\u001B[0m, in \u001B[0;36mRunnableLambda.invoke\u001B[0;34m(self, input, config, **kwargs)\u001B[0m\n\u001B[1;32m   4460\u001B[0m \u001B[38;5;250m\u001B[39m\u001B[38;5;124;03m\"\"\"Invoke this Runnable synchronously.\u001B[39;00m\n\u001B[1;32m   4461\u001B[0m \n\u001B[1;32m   4462\u001B[0m \u001B[38;5;124;03mArgs:\u001B[39;00m\n\u001B[0;32m   (...)\u001B[0m\n\u001B[1;32m   4471\u001B[0m \u001B[38;5;124;03m    TypeError: If the Runnable is a coroutine function.\u001B[39;00m\n\u001B[1;32m   4472\u001B[0m \u001B[38;5;124;03m\"\"\"\u001B[39;00m\n\u001B[1;32m   4473\u001B[0m \u001B[38;5;28;01mif\u001B[39;00m \u001B[38;5;28mhasattr\u001B[39m(\u001B[38;5;28mself\u001B[39m, \u001B[38;5;124m\"\u001B[39m\u001B[38;5;124mfunc\u001B[39m\u001B[38;5;124m\"\u001B[39m):\n\u001B[0;32m-> 4474\u001B[0m     \u001B[38;5;28;01mreturn\u001B[39;00m \u001B[38;5;28mself\u001B[39m\u001B[38;5;241m.\u001B[39m_call_with_config(\n\u001B[1;32m   4475\u001B[0m         \u001B[38;5;28mself\u001B[39m\u001B[38;5;241m.\u001B[39m_invoke,\n\u001B[1;32m   4476\u001B[0m         \u001B[38;5;28minput\u001B[39m,\n\u001B[1;32m   4477\u001B[0m         \u001B[38;5;28mself\u001B[39m\u001B[38;5;241m.\u001B[39m_config(config, \u001B[38;5;28mself\u001B[39m\u001B[38;5;241m.\u001B[39mfunc),\n\u001B[1;32m   4478\u001B[0m         \u001B[38;5;241m*\u001B[39m\u001B[38;5;241m*\u001B[39mkwargs,\n\u001B[1;32m   4479\u001B[0m     )\n\u001B[1;32m   4480\u001B[0m \u001B[38;5;28;01melse\u001B[39;00m:\n\u001B[1;32m   4481\u001B[0m     \u001B[38;5;28;01mraise\u001B[39;00m \u001B[38;5;167;01mTypeError\u001B[39;00m(\n\u001B[1;32m   4482\u001B[0m         \u001B[38;5;124m\"\u001B[39m\u001B[38;5;124mCannot invoke a coroutine function synchronously.\u001B[39m\u001B[38;5;124m\"\u001B[39m\n\u001B[1;32m   4483\u001B[0m         \u001B[38;5;124m\"\u001B[39m\u001B[38;5;124mUse `ainvoke` instead.\u001B[39m\u001B[38;5;124m\"\u001B[39m\n\u001B[1;32m   4484\u001B[0m     )\n",
      "File \u001B[0;32m~/GIT/Interstellar/SB-AI-DEV/DL/Udemy/Generative-AI/Krish Naik/SUBHASISH BISWAS/Langchain Projects/venv/lib/python3.11/site-packages/langchain_core/runnables/base.py:1785\u001B[0m, in \u001B[0;36mRunnable._call_with_config\u001B[0;34m(self, func, input, config, run_type, **kwargs)\u001B[0m\n\u001B[1;32m   1781\u001B[0m     context \u001B[38;5;241m=\u001B[39m copy_context()\n\u001B[1;32m   1782\u001B[0m     context\u001B[38;5;241m.\u001B[39mrun(_set_config_context, child_config)\n\u001B[1;32m   1783\u001B[0m     output \u001B[38;5;241m=\u001B[39m cast(\n\u001B[1;32m   1784\u001B[0m         Output,\n\u001B[0;32m-> 1785\u001B[0m         context\u001B[38;5;241m.\u001B[39mrun(\n\u001B[1;32m   1786\u001B[0m             call_func_with_variable_args,  \u001B[38;5;66;03m# type: ignore[arg-type]\u001B[39;00m\n\u001B[1;32m   1787\u001B[0m             func,  \u001B[38;5;66;03m# type: ignore[arg-type]\u001B[39;00m\n\u001B[1;32m   1788\u001B[0m             \u001B[38;5;28minput\u001B[39m,  \u001B[38;5;66;03m# type: ignore[arg-type]\u001B[39;00m\n\u001B[1;32m   1789\u001B[0m             config,\n\u001B[1;32m   1790\u001B[0m             run_manager,\n\u001B[1;32m   1791\u001B[0m             \u001B[38;5;241m*\u001B[39m\u001B[38;5;241m*\u001B[39mkwargs,\n\u001B[1;32m   1792\u001B[0m         ),\n\u001B[1;32m   1793\u001B[0m     )\n\u001B[1;32m   1794\u001B[0m \u001B[38;5;28;01mexcept\u001B[39;00m \u001B[38;5;167;01mBaseException\u001B[39;00m \u001B[38;5;28;01mas\u001B[39;00m e:\n\u001B[1;32m   1795\u001B[0m     run_manager\u001B[38;5;241m.\u001B[39mon_chain_error(e)\n",
      "File \u001B[0;32m~/GIT/Interstellar/SB-AI-DEV/DL/Udemy/Generative-AI/Krish Naik/SUBHASISH BISWAS/Langchain Projects/venv/lib/python3.11/site-packages/langchain_core/runnables/config.py:398\u001B[0m, in \u001B[0;36mcall_func_with_variable_args\u001B[0;34m(func, input, config, run_manager, **kwargs)\u001B[0m\n\u001B[1;32m    396\u001B[0m \u001B[38;5;28;01mif\u001B[39;00m run_manager \u001B[38;5;129;01mis\u001B[39;00m \u001B[38;5;129;01mnot\u001B[39;00m \u001B[38;5;28;01mNone\u001B[39;00m \u001B[38;5;129;01mand\u001B[39;00m accepts_run_manager(func):\n\u001B[1;32m    397\u001B[0m     kwargs[\u001B[38;5;124m\"\u001B[39m\u001B[38;5;124mrun_manager\u001B[39m\u001B[38;5;124m\"\u001B[39m] \u001B[38;5;241m=\u001B[39m run_manager\n\u001B[0;32m--> 398\u001B[0m \u001B[38;5;28;01mreturn\u001B[39;00m func(\u001B[38;5;28minput\u001B[39m, \u001B[38;5;241m*\u001B[39m\u001B[38;5;241m*\u001B[39mkwargs)\n",
      "File \u001B[0;32m~/GIT/Interstellar/SB-AI-DEV/DL/Udemy/Generative-AI/Krish Naik/SUBHASISH BISWAS/Langchain Projects/venv/lib/python3.11/site-packages/langchain_core/runnables/base.py:4340\u001B[0m, in \u001B[0;36mRunnableLambda._invoke\u001B[0;34m(self, input, run_manager, config, **kwargs)\u001B[0m\n\u001B[1;32m   4336\u001B[0m     \u001B[38;5;28;01mif\u001B[39;00m recursion_limit \u001B[38;5;241m<\u001B[39m\u001B[38;5;241m=\u001B[39m \u001B[38;5;241m0\u001B[39m:\n\u001B[1;32m   4337\u001B[0m         \u001B[38;5;28;01mraise\u001B[39;00m \u001B[38;5;167;01mRecursionError\u001B[39;00m(\n\u001B[1;32m   4338\u001B[0m             \u001B[38;5;124mf\u001B[39m\u001B[38;5;124m\"\u001B[39m\u001B[38;5;124mRecursion limit reached when invoking \u001B[39m\u001B[38;5;132;01m{\u001B[39;00m\u001B[38;5;28mself\u001B[39m\u001B[38;5;132;01m}\u001B[39;00m\u001B[38;5;124m with input \u001B[39m\u001B[38;5;132;01m{\u001B[39;00m\u001B[38;5;28minput\u001B[39m\u001B[38;5;132;01m}\u001B[39;00m\u001B[38;5;124m.\u001B[39m\u001B[38;5;124m\"\u001B[39m\n\u001B[1;32m   4339\u001B[0m         )\n\u001B[0;32m-> 4340\u001B[0m     output \u001B[38;5;241m=\u001B[39m output\u001B[38;5;241m.\u001B[39minvoke(\n\u001B[1;32m   4341\u001B[0m         \u001B[38;5;28minput\u001B[39m,\n\u001B[1;32m   4342\u001B[0m         patch_config(\n\u001B[1;32m   4343\u001B[0m             config,\n\u001B[1;32m   4344\u001B[0m             callbacks\u001B[38;5;241m=\u001B[39mrun_manager\u001B[38;5;241m.\u001B[39mget_child(),\n\u001B[1;32m   4345\u001B[0m             recursion_limit\u001B[38;5;241m=\u001B[39mrecursion_limit \u001B[38;5;241m-\u001B[39m \u001B[38;5;241m1\u001B[39m,\n\u001B[1;32m   4346\u001B[0m         ),\n\u001B[1;32m   4347\u001B[0m     )\n\u001B[1;32m   4348\u001B[0m \u001B[38;5;28;01mreturn\u001B[39;00m cast(Output, output)\n",
      "File \u001B[0;32m~/GIT/Interstellar/SB-AI-DEV/DL/Udemy/Generative-AI/Krish Naik/SUBHASISH BISWAS/Langchain Projects/venv/lib/python3.11/site-packages/langchain_core/runnables/base.py:5092\u001B[0m, in \u001B[0;36mRunnableBindingBase.invoke\u001B[0;34m(self, input, config, **kwargs)\u001B[0m\n\u001B[1;32m   5086\u001B[0m \u001B[38;5;28;01mdef\u001B[39;00m \u001B[38;5;21minvoke\u001B[39m(\n\u001B[1;32m   5087\u001B[0m     \u001B[38;5;28mself\u001B[39m,\n\u001B[1;32m   5088\u001B[0m     \u001B[38;5;28minput\u001B[39m: Input,\n\u001B[1;32m   5089\u001B[0m     config: Optional[RunnableConfig] \u001B[38;5;241m=\u001B[39m \u001B[38;5;28;01mNone\u001B[39;00m,\n\u001B[1;32m   5090\u001B[0m     \u001B[38;5;241m*\u001B[39m\u001B[38;5;241m*\u001B[39mkwargs: Optional[Any],\n\u001B[1;32m   5091\u001B[0m ) \u001B[38;5;241m-\u001B[39m\u001B[38;5;241m>\u001B[39m Output:\n\u001B[0;32m-> 5092\u001B[0m     \u001B[38;5;28;01mreturn\u001B[39;00m \u001B[38;5;28mself\u001B[39m\u001B[38;5;241m.\u001B[39mbound\u001B[38;5;241m.\u001B[39minvoke(\n\u001B[1;32m   5093\u001B[0m         \u001B[38;5;28minput\u001B[39m,\n\u001B[1;32m   5094\u001B[0m         \u001B[38;5;28mself\u001B[39m\u001B[38;5;241m.\u001B[39m_merge_configs(config),\n\u001B[1;32m   5095\u001B[0m         \u001B[38;5;241m*\u001B[39m\u001B[38;5;241m*\u001B[39m{\u001B[38;5;241m*\u001B[39m\u001B[38;5;241m*\u001B[39m\u001B[38;5;28mself\u001B[39m\u001B[38;5;241m.\u001B[39mkwargs, \u001B[38;5;241m*\u001B[39m\u001B[38;5;241m*\u001B[39mkwargs},\n\u001B[1;32m   5096\u001B[0m     )\n",
      "File \u001B[0;32m~/GIT/Interstellar/SB-AI-DEV/DL/Udemy/Generative-AI/Krish Naik/SUBHASISH BISWAS/Langchain Projects/venv/lib/python3.11/site-packages/langchain_core/runnables/base.py:2876\u001B[0m, in \u001B[0;36mRunnableSequence.invoke\u001B[0;34m(self, input, config, **kwargs)\u001B[0m\n\u001B[1;32m   2874\u001B[0m context\u001B[38;5;241m.\u001B[39mrun(_set_config_context, config)\n\u001B[1;32m   2875\u001B[0m \u001B[38;5;28;01mif\u001B[39;00m i \u001B[38;5;241m==\u001B[39m \u001B[38;5;241m0\u001B[39m:\n\u001B[0;32m-> 2876\u001B[0m     \u001B[38;5;28minput\u001B[39m \u001B[38;5;241m=\u001B[39m context\u001B[38;5;241m.\u001B[39mrun(step\u001B[38;5;241m.\u001B[39minvoke, \u001B[38;5;28minput\u001B[39m, config, \u001B[38;5;241m*\u001B[39m\u001B[38;5;241m*\u001B[39mkwargs)\n\u001B[1;32m   2877\u001B[0m \u001B[38;5;28;01melse\u001B[39;00m:\n\u001B[1;32m   2878\u001B[0m     \u001B[38;5;28minput\u001B[39m \u001B[38;5;241m=\u001B[39m context\u001B[38;5;241m.\u001B[39mrun(step\u001B[38;5;241m.\u001B[39minvoke, \u001B[38;5;28minput\u001B[39m, config)\n",
      "File \u001B[0;32m~/GIT/Interstellar/SB-AI-DEV/DL/Udemy/Generative-AI/Krish Naik/SUBHASISH BISWAS/Langchain Projects/venv/lib/python3.11/site-packages/langchain_core/runnables/passthrough.py:495\u001B[0m, in \u001B[0;36mRunnableAssign.invoke\u001B[0;34m(self, input, config, **kwargs)\u001B[0m\n\u001B[1;32m    489\u001B[0m \u001B[38;5;28;01mdef\u001B[39;00m \u001B[38;5;21minvoke\u001B[39m(\n\u001B[1;32m    490\u001B[0m     \u001B[38;5;28mself\u001B[39m,\n\u001B[1;32m    491\u001B[0m     \u001B[38;5;28minput\u001B[39m: Dict[\u001B[38;5;28mstr\u001B[39m, Any],\n\u001B[1;32m    492\u001B[0m     config: Optional[RunnableConfig] \u001B[38;5;241m=\u001B[39m \u001B[38;5;28;01mNone\u001B[39;00m,\n\u001B[1;32m    493\u001B[0m     \u001B[38;5;241m*\u001B[39m\u001B[38;5;241m*\u001B[39mkwargs: Any,\n\u001B[1;32m    494\u001B[0m ) \u001B[38;5;241m-\u001B[39m\u001B[38;5;241m>\u001B[39m Dict[\u001B[38;5;28mstr\u001B[39m, Any]:\n\u001B[0;32m--> 495\u001B[0m     \u001B[38;5;28;01mreturn\u001B[39;00m \u001B[38;5;28mself\u001B[39m\u001B[38;5;241m.\u001B[39m_call_with_config(\u001B[38;5;28mself\u001B[39m\u001B[38;5;241m.\u001B[39m_invoke, \u001B[38;5;28minput\u001B[39m, config, \u001B[38;5;241m*\u001B[39m\u001B[38;5;241m*\u001B[39mkwargs)\n",
      "File \u001B[0;32m~/GIT/Interstellar/SB-AI-DEV/DL/Udemy/Generative-AI/Krish Naik/SUBHASISH BISWAS/Langchain Projects/venv/lib/python3.11/site-packages/langchain_core/runnables/base.py:1785\u001B[0m, in \u001B[0;36mRunnable._call_with_config\u001B[0;34m(self, func, input, config, run_type, **kwargs)\u001B[0m\n\u001B[1;32m   1781\u001B[0m     context \u001B[38;5;241m=\u001B[39m copy_context()\n\u001B[1;32m   1782\u001B[0m     context\u001B[38;5;241m.\u001B[39mrun(_set_config_context, child_config)\n\u001B[1;32m   1783\u001B[0m     output \u001B[38;5;241m=\u001B[39m cast(\n\u001B[1;32m   1784\u001B[0m         Output,\n\u001B[0;32m-> 1785\u001B[0m         context\u001B[38;5;241m.\u001B[39mrun(\n\u001B[1;32m   1786\u001B[0m             call_func_with_variable_args,  \u001B[38;5;66;03m# type: ignore[arg-type]\u001B[39;00m\n\u001B[1;32m   1787\u001B[0m             func,  \u001B[38;5;66;03m# type: ignore[arg-type]\u001B[39;00m\n\u001B[1;32m   1788\u001B[0m             \u001B[38;5;28minput\u001B[39m,  \u001B[38;5;66;03m# type: ignore[arg-type]\u001B[39;00m\n\u001B[1;32m   1789\u001B[0m             config,\n\u001B[1;32m   1790\u001B[0m             run_manager,\n\u001B[1;32m   1791\u001B[0m             \u001B[38;5;241m*\u001B[39m\u001B[38;5;241m*\u001B[39mkwargs,\n\u001B[1;32m   1792\u001B[0m         ),\n\u001B[1;32m   1793\u001B[0m     )\n\u001B[1;32m   1794\u001B[0m \u001B[38;5;28;01mexcept\u001B[39;00m \u001B[38;5;167;01mBaseException\u001B[39;00m \u001B[38;5;28;01mas\u001B[39;00m e:\n\u001B[1;32m   1795\u001B[0m     run_manager\u001B[38;5;241m.\u001B[39mon_chain_error(e)\n",
      "File \u001B[0;32m~/GIT/Interstellar/SB-AI-DEV/DL/Udemy/Generative-AI/Krish Naik/SUBHASISH BISWAS/Langchain Projects/venv/lib/python3.11/site-packages/langchain_core/runnables/config.py:398\u001B[0m, in \u001B[0;36mcall_func_with_variable_args\u001B[0;34m(func, input, config, run_manager, **kwargs)\u001B[0m\n\u001B[1;32m    396\u001B[0m \u001B[38;5;28;01mif\u001B[39;00m run_manager \u001B[38;5;129;01mis\u001B[39;00m \u001B[38;5;129;01mnot\u001B[39;00m \u001B[38;5;28;01mNone\u001B[39;00m \u001B[38;5;129;01mand\u001B[39;00m accepts_run_manager(func):\n\u001B[1;32m    397\u001B[0m     kwargs[\u001B[38;5;124m\"\u001B[39m\u001B[38;5;124mrun_manager\u001B[39m\u001B[38;5;124m\"\u001B[39m] \u001B[38;5;241m=\u001B[39m run_manager\n\u001B[0;32m--> 398\u001B[0m \u001B[38;5;28;01mreturn\u001B[39;00m func(\u001B[38;5;28minput\u001B[39m, \u001B[38;5;241m*\u001B[39m\u001B[38;5;241m*\u001B[39mkwargs)\n",
      "File \u001B[0;32m~/GIT/Interstellar/SB-AI-DEV/DL/Udemy/Generative-AI/Krish Naik/SUBHASISH BISWAS/Langchain Projects/venv/lib/python3.11/site-packages/langchain_core/runnables/passthrough.py:482\u001B[0m, in \u001B[0;36mRunnableAssign._invoke\u001B[0;34m(self, input, run_manager, config, **kwargs)\u001B[0m\n\u001B[1;32m    469\u001B[0m \u001B[38;5;28;01mdef\u001B[39;00m \u001B[38;5;21m_invoke\u001B[39m(\n\u001B[1;32m    470\u001B[0m     \u001B[38;5;28mself\u001B[39m,\n\u001B[1;32m    471\u001B[0m     \u001B[38;5;28minput\u001B[39m: Dict[\u001B[38;5;28mstr\u001B[39m, Any],\n\u001B[0;32m   (...)\u001B[0m\n\u001B[1;32m    474\u001B[0m     \u001B[38;5;241m*\u001B[39m\u001B[38;5;241m*\u001B[39mkwargs: Any,\n\u001B[1;32m    475\u001B[0m ) \u001B[38;5;241m-\u001B[39m\u001B[38;5;241m>\u001B[39m Dict[\u001B[38;5;28mstr\u001B[39m, Any]:\n\u001B[1;32m    476\u001B[0m     \u001B[38;5;28;01massert\u001B[39;00m \u001B[38;5;28misinstance\u001B[39m(\n\u001B[1;32m    477\u001B[0m         \u001B[38;5;28minput\u001B[39m, \u001B[38;5;28mdict\u001B[39m\n\u001B[1;32m    478\u001B[0m     ), \u001B[38;5;124m\"\u001B[39m\u001B[38;5;124mThe input to RunnablePassthrough.assign() must be a dict.\u001B[39m\u001B[38;5;124m\"\u001B[39m\n\u001B[1;32m    480\u001B[0m     \u001B[38;5;28;01mreturn\u001B[39;00m {\n\u001B[1;32m    481\u001B[0m         \u001B[38;5;241m*\u001B[39m\u001B[38;5;241m*\u001B[39m\u001B[38;5;28minput\u001B[39m,\n\u001B[0;32m--> 482\u001B[0m         \u001B[38;5;241m*\u001B[39m\u001B[38;5;241m*\u001B[39m\u001B[38;5;28mself\u001B[39m\u001B[38;5;241m.\u001B[39mmapper\u001B[38;5;241m.\u001B[39minvoke(\n\u001B[1;32m    483\u001B[0m             \u001B[38;5;28minput\u001B[39m,\n\u001B[1;32m    484\u001B[0m             patch_config(config, callbacks\u001B[38;5;241m=\u001B[39mrun_manager\u001B[38;5;241m.\u001B[39mget_child()),\n\u001B[1;32m    485\u001B[0m             \u001B[38;5;241m*\u001B[39m\u001B[38;5;241m*\u001B[39mkwargs,\n\u001B[1;32m    486\u001B[0m         ),\n\u001B[1;32m    487\u001B[0m     }\n",
      "File \u001B[0;32m~/GIT/Interstellar/SB-AI-DEV/DL/Udemy/Generative-AI/Krish Naik/SUBHASISH BISWAS/Langchain Projects/venv/lib/python3.11/site-packages/langchain_core/runnables/base.py:3579\u001B[0m, in \u001B[0;36mRunnableParallel.invoke\u001B[0;34m(self, input, config)\u001B[0m\n\u001B[1;32m   3574\u001B[0m     \u001B[38;5;28;01mwith\u001B[39;00m get_executor_for_config(config) \u001B[38;5;28;01mas\u001B[39;00m executor:\n\u001B[1;32m   3575\u001B[0m         futures \u001B[38;5;241m=\u001B[39m [\n\u001B[1;32m   3576\u001B[0m             executor\u001B[38;5;241m.\u001B[39msubmit(_invoke_step, step, \u001B[38;5;28minput\u001B[39m, config, key)\n\u001B[1;32m   3577\u001B[0m             \u001B[38;5;28;01mfor\u001B[39;00m key, step \u001B[38;5;129;01min\u001B[39;00m steps\u001B[38;5;241m.\u001B[39mitems()\n\u001B[1;32m   3578\u001B[0m         ]\n\u001B[0;32m-> 3579\u001B[0m         output \u001B[38;5;241m=\u001B[39m {key: future\u001B[38;5;241m.\u001B[39mresult() \u001B[38;5;28;01mfor\u001B[39;00m key, future \u001B[38;5;129;01min\u001B[39;00m \u001B[38;5;28mzip\u001B[39m(steps, futures)}\n\u001B[1;32m   3580\u001B[0m \u001B[38;5;66;03m# finish the root run\u001B[39;00m\n\u001B[1;32m   3581\u001B[0m \u001B[38;5;28;01mexcept\u001B[39;00m \u001B[38;5;167;01mBaseException\u001B[39;00m \u001B[38;5;28;01mas\u001B[39;00m e:\n",
      "File \u001B[0;32m~/GIT/Interstellar/SB-AI-DEV/DL/Udemy/Generative-AI/Krish Naik/SUBHASISH BISWAS/Langchain Projects/venv/lib/python3.11/site-packages/langchain_core/runnables/base.py:3579\u001B[0m, in \u001B[0;36m<dictcomp>\u001B[0;34m(.0)\u001B[0m\n\u001B[1;32m   3574\u001B[0m     \u001B[38;5;28;01mwith\u001B[39;00m get_executor_for_config(config) \u001B[38;5;28;01mas\u001B[39;00m executor:\n\u001B[1;32m   3575\u001B[0m         futures \u001B[38;5;241m=\u001B[39m [\n\u001B[1;32m   3576\u001B[0m             executor\u001B[38;5;241m.\u001B[39msubmit(_invoke_step, step, \u001B[38;5;28minput\u001B[39m, config, key)\n\u001B[1;32m   3577\u001B[0m             \u001B[38;5;28;01mfor\u001B[39;00m key, step \u001B[38;5;129;01min\u001B[39;00m steps\u001B[38;5;241m.\u001B[39mitems()\n\u001B[1;32m   3578\u001B[0m         ]\n\u001B[0;32m-> 3579\u001B[0m         output \u001B[38;5;241m=\u001B[39m {key: future\u001B[38;5;241m.\u001B[39mresult() \u001B[38;5;28;01mfor\u001B[39;00m key, future \u001B[38;5;129;01min\u001B[39;00m \u001B[38;5;28mzip\u001B[39m(steps, futures)}\n\u001B[1;32m   3580\u001B[0m \u001B[38;5;66;03m# finish the root run\u001B[39;00m\n\u001B[1;32m   3581\u001B[0m \u001B[38;5;28;01mexcept\u001B[39;00m \u001B[38;5;167;01mBaseException\u001B[39;00m \u001B[38;5;28;01mas\u001B[39;00m e:\n",
      "File \u001B[0;32m~/GIT/Interstellar/SB-AI-DEV/DL/Udemy/Generative-AI/Krish Naik/SUBHASISH BISWAS/Langchain Projects/venv/lib/python3.11/concurrent/futures/_base.py:456\u001B[0m, in \u001B[0;36mFuture.result\u001B[0;34m(self, timeout)\u001B[0m\n\u001B[1;32m    454\u001B[0m     \u001B[38;5;28;01mraise\u001B[39;00m CancelledError()\n\u001B[1;32m    455\u001B[0m \u001B[38;5;28;01melif\u001B[39;00m \u001B[38;5;28mself\u001B[39m\u001B[38;5;241m.\u001B[39m_state \u001B[38;5;241m==\u001B[39m FINISHED:\n\u001B[0;32m--> 456\u001B[0m     \u001B[38;5;28;01mreturn\u001B[39;00m \u001B[38;5;28mself\u001B[39m\u001B[38;5;241m.\u001B[39m__get_result()\n\u001B[1;32m    457\u001B[0m \u001B[38;5;28;01melse\u001B[39;00m:\n\u001B[1;32m    458\u001B[0m     \u001B[38;5;28;01mraise\u001B[39;00m \u001B[38;5;167;01mTimeoutError\u001B[39;00m()\n",
      "File \u001B[0;32m~/GIT/Interstellar/SB-AI-DEV/DL/Udemy/Generative-AI/Krish Naik/SUBHASISH BISWAS/Langchain Projects/venv/lib/python3.11/concurrent/futures/_base.py:401\u001B[0m, in \u001B[0;36mFuture.__get_result\u001B[0;34m(self)\u001B[0m\n\u001B[1;32m    399\u001B[0m \u001B[38;5;28;01mif\u001B[39;00m \u001B[38;5;28mself\u001B[39m\u001B[38;5;241m.\u001B[39m_exception:\n\u001B[1;32m    400\u001B[0m     \u001B[38;5;28;01mtry\u001B[39;00m:\n\u001B[0;32m--> 401\u001B[0m         \u001B[38;5;28;01mraise\u001B[39;00m \u001B[38;5;28mself\u001B[39m\u001B[38;5;241m.\u001B[39m_exception\n\u001B[1;32m    402\u001B[0m     \u001B[38;5;28;01mfinally\u001B[39;00m:\n\u001B[1;32m    403\u001B[0m         \u001B[38;5;66;03m# Break a reference cycle with the exception in self._exception\u001B[39;00m\n\u001B[1;32m    404\u001B[0m         \u001B[38;5;28mself\u001B[39m \u001B[38;5;241m=\u001B[39m \u001B[38;5;28;01mNone\u001B[39;00m\n",
      "File \u001B[0;32m~/GIT/Interstellar/SB-AI-DEV/DL/Udemy/Generative-AI/Krish Naik/SUBHASISH BISWAS/Langchain Projects/venv/lib/python3.11/concurrent/futures/thread.py:58\u001B[0m, in \u001B[0;36m_WorkItem.run\u001B[0;34m(self)\u001B[0m\n\u001B[1;32m     55\u001B[0m     \u001B[38;5;28;01mreturn\u001B[39;00m\n\u001B[1;32m     57\u001B[0m \u001B[38;5;28;01mtry\u001B[39;00m:\n\u001B[0;32m---> 58\u001B[0m     result \u001B[38;5;241m=\u001B[39m \u001B[38;5;28mself\u001B[39m\u001B[38;5;241m.\u001B[39mfn(\u001B[38;5;241m*\u001B[39m\u001B[38;5;28mself\u001B[39m\u001B[38;5;241m.\u001B[39margs, \u001B[38;5;241m*\u001B[39m\u001B[38;5;241m*\u001B[39m\u001B[38;5;28mself\u001B[39m\u001B[38;5;241m.\u001B[39mkwargs)\n\u001B[1;32m     59\u001B[0m \u001B[38;5;28;01mexcept\u001B[39;00m \u001B[38;5;167;01mBaseException\u001B[39;00m \u001B[38;5;28;01mas\u001B[39;00m exc:\n\u001B[1;32m     60\u001B[0m     \u001B[38;5;28mself\u001B[39m\u001B[38;5;241m.\u001B[39mfuture\u001B[38;5;241m.\u001B[39mset_exception(exc)\n",
      "File \u001B[0;32m~/GIT/Interstellar/SB-AI-DEV/DL/Udemy/Generative-AI/Krish Naik/SUBHASISH BISWAS/Langchain Projects/venv/lib/python3.11/site-packages/langchain_core/runnables/base.py:3563\u001B[0m, in \u001B[0;36mRunnableParallel.invoke.<locals>._invoke_step\u001B[0;34m(step, input, config, key)\u001B[0m\n\u001B[1;32m   3561\u001B[0m context \u001B[38;5;241m=\u001B[39m copy_context()\n\u001B[1;32m   3562\u001B[0m context\u001B[38;5;241m.\u001B[39mrun(_set_config_context, child_config)\n\u001B[0;32m-> 3563\u001B[0m \u001B[38;5;28;01mreturn\u001B[39;00m context\u001B[38;5;241m.\u001B[39mrun(\n\u001B[1;32m   3564\u001B[0m     step\u001B[38;5;241m.\u001B[39minvoke,\n\u001B[1;32m   3565\u001B[0m     \u001B[38;5;28minput\u001B[39m,\n\u001B[1;32m   3566\u001B[0m     child_config,\n\u001B[1;32m   3567\u001B[0m )\n",
      "File \u001B[0;32m~/GIT/Interstellar/SB-AI-DEV/DL/Udemy/Generative-AI/Krish Naik/SUBHASISH BISWAS/Langchain Projects/venv/lib/python3.11/site-packages/langchain_core/runnables/base.py:5092\u001B[0m, in \u001B[0;36mRunnableBindingBase.invoke\u001B[0;34m(self, input, config, **kwargs)\u001B[0m\n\u001B[1;32m   5086\u001B[0m \u001B[38;5;28;01mdef\u001B[39;00m \u001B[38;5;21minvoke\u001B[39m(\n\u001B[1;32m   5087\u001B[0m     \u001B[38;5;28mself\u001B[39m,\n\u001B[1;32m   5088\u001B[0m     \u001B[38;5;28minput\u001B[39m: Input,\n\u001B[1;32m   5089\u001B[0m     config: Optional[RunnableConfig] \u001B[38;5;241m=\u001B[39m \u001B[38;5;28;01mNone\u001B[39;00m,\n\u001B[1;32m   5090\u001B[0m     \u001B[38;5;241m*\u001B[39m\u001B[38;5;241m*\u001B[39mkwargs: Optional[Any],\n\u001B[1;32m   5091\u001B[0m ) \u001B[38;5;241m-\u001B[39m\u001B[38;5;241m>\u001B[39m Output:\n\u001B[0;32m-> 5092\u001B[0m     \u001B[38;5;28;01mreturn\u001B[39;00m \u001B[38;5;28mself\u001B[39m\u001B[38;5;241m.\u001B[39mbound\u001B[38;5;241m.\u001B[39minvoke(\n\u001B[1;32m   5093\u001B[0m         \u001B[38;5;28minput\u001B[39m,\n\u001B[1;32m   5094\u001B[0m         \u001B[38;5;28mself\u001B[39m\u001B[38;5;241m.\u001B[39m_merge_configs(config),\n\u001B[1;32m   5095\u001B[0m         \u001B[38;5;241m*\u001B[39m\u001B[38;5;241m*\u001B[39m{\u001B[38;5;241m*\u001B[39m\u001B[38;5;241m*\u001B[39m\u001B[38;5;28mself\u001B[39m\u001B[38;5;241m.\u001B[39mkwargs, \u001B[38;5;241m*\u001B[39m\u001B[38;5;241m*\u001B[39mkwargs},\n\u001B[1;32m   5096\u001B[0m     )\n",
      "File \u001B[0;32m~/GIT/Interstellar/SB-AI-DEV/DL/Udemy/Generative-AI/Krish Naik/SUBHASISH BISWAS/Langchain Projects/venv/lib/python3.11/site-packages/langchain_core/runnables/branch.py:229\u001B[0m, in \u001B[0;36mRunnableBranch.invoke\u001B[0;34m(self, input, config, **kwargs)\u001B[0m\n\u001B[1;32m    220\u001B[0m     expression_value \u001B[38;5;241m=\u001B[39m condition\u001B[38;5;241m.\u001B[39minvoke(\n\u001B[1;32m    221\u001B[0m         \u001B[38;5;28minput\u001B[39m,\n\u001B[1;32m    222\u001B[0m         config\u001B[38;5;241m=\u001B[39mpatch_config(\n\u001B[0;32m   (...)\u001B[0m\n\u001B[1;32m    225\u001B[0m         ),\n\u001B[1;32m    226\u001B[0m     )\n\u001B[1;32m    228\u001B[0m     \u001B[38;5;28;01mif\u001B[39;00m expression_value:\n\u001B[0;32m--> 229\u001B[0m         output \u001B[38;5;241m=\u001B[39m runnable\u001B[38;5;241m.\u001B[39minvoke(\n\u001B[1;32m    230\u001B[0m             \u001B[38;5;28minput\u001B[39m,\n\u001B[1;32m    231\u001B[0m             config\u001B[38;5;241m=\u001B[39mpatch_config(\n\u001B[1;32m    232\u001B[0m                 config,\n\u001B[1;32m    233\u001B[0m                 callbacks\u001B[38;5;241m=\u001B[39mrun_manager\u001B[38;5;241m.\u001B[39mget_child(tag\u001B[38;5;241m=\u001B[39m\u001B[38;5;124mf\u001B[39m\u001B[38;5;124m\"\u001B[39m\u001B[38;5;124mbranch:\u001B[39m\u001B[38;5;132;01m{\u001B[39;00midx\u001B[38;5;250m \u001B[39m\u001B[38;5;241m+\u001B[39m\u001B[38;5;250m \u001B[39m\u001B[38;5;241m1\u001B[39m\u001B[38;5;132;01m}\u001B[39;00m\u001B[38;5;124m\"\u001B[39m),\n\u001B[1;32m    234\u001B[0m             ),\n\u001B[1;32m    235\u001B[0m             \u001B[38;5;241m*\u001B[39m\u001B[38;5;241m*\u001B[39mkwargs,\n\u001B[1;32m    236\u001B[0m         )\n\u001B[1;32m    237\u001B[0m         \u001B[38;5;28;01mbreak\u001B[39;00m\n\u001B[1;32m    238\u001B[0m \u001B[38;5;28;01melse\u001B[39;00m:\n",
      "File \u001B[0;32m~/GIT/Interstellar/SB-AI-DEV/DL/Udemy/Generative-AI/Krish Naik/SUBHASISH BISWAS/Langchain Projects/venv/lib/python3.11/site-packages/langchain_core/runnables/base.py:2878\u001B[0m, in \u001B[0;36mRunnableSequence.invoke\u001B[0;34m(self, input, config, **kwargs)\u001B[0m\n\u001B[1;32m   2876\u001B[0m             \u001B[38;5;28minput\u001B[39m \u001B[38;5;241m=\u001B[39m context\u001B[38;5;241m.\u001B[39mrun(step\u001B[38;5;241m.\u001B[39minvoke, \u001B[38;5;28minput\u001B[39m, config, \u001B[38;5;241m*\u001B[39m\u001B[38;5;241m*\u001B[39mkwargs)\n\u001B[1;32m   2877\u001B[0m         \u001B[38;5;28;01melse\u001B[39;00m:\n\u001B[0;32m-> 2878\u001B[0m             \u001B[38;5;28minput\u001B[39m \u001B[38;5;241m=\u001B[39m context\u001B[38;5;241m.\u001B[39mrun(step\u001B[38;5;241m.\u001B[39minvoke, \u001B[38;5;28minput\u001B[39m, config)\n\u001B[1;32m   2879\u001B[0m \u001B[38;5;66;03m# finish the root run\u001B[39;00m\n\u001B[1;32m   2880\u001B[0m \u001B[38;5;28;01mexcept\u001B[39;00m \u001B[38;5;167;01mBaseException\u001B[39;00m \u001B[38;5;28;01mas\u001B[39;00m e:\n",
      "File \u001B[0;32m~/GIT/Interstellar/SB-AI-DEV/DL/Udemy/Generative-AI/Krish Naik/SUBHASISH BISWAS/Langchain Projects/venv/lib/python3.11/site-packages/langchain_core/retrievers.py:253\u001B[0m, in \u001B[0;36mBaseRetriever.invoke\u001B[0;34m(self, input, config, **kwargs)\u001B[0m\n\u001B[1;32m    251\u001B[0m \u001B[38;5;28;01mexcept\u001B[39;00m \u001B[38;5;167;01mException\u001B[39;00m \u001B[38;5;28;01mas\u001B[39;00m e:\n\u001B[1;32m    252\u001B[0m     run_manager\u001B[38;5;241m.\u001B[39mon_retriever_error(e)\n\u001B[0;32m--> 253\u001B[0m     \u001B[38;5;28;01mraise\u001B[39;00m e\n\u001B[1;32m    254\u001B[0m \u001B[38;5;28;01melse\u001B[39;00m:\n\u001B[1;32m    255\u001B[0m     run_manager\u001B[38;5;241m.\u001B[39mon_retriever_end(\n\u001B[1;32m    256\u001B[0m         result,\n\u001B[1;32m    257\u001B[0m     )\n",
      "File \u001B[0;32m~/GIT/Interstellar/SB-AI-DEV/DL/Udemy/Generative-AI/Krish Naik/SUBHASISH BISWAS/Langchain Projects/venv/lib/python3.11/site-packages/langchain_core/retrievers.py:246\u001B[0m, in \u001B[0;36mBaseRetriever.invoke\u001B[0;34m(self, input, config, **kwargs)\u001B[0m\n\u001B[1;32m    244\u001B[0m _kwargs \u001B[38;5;241m=\u001B[39m kwargs \u001B[38;5;28;01mif\u001B[39;00m \u001B[38;5;28mself\u001B[39m\u001B[38;5;241m.\u001B[39m_expects_other_args \u001B[38;5;28;01melse\u001B[39;00m {}\n\u001B[1;32m    245\u001B[0m \u001B[38;5;28;01mif\u001B[39;00m \u001B[38;5;28mself\u001B[39m\u001B[38;5;241m.\u001B[39m_new_arg_supported:\n\u001B[0;32m--> 246\u001B[0m     result \u001B[38;5;241m=\u001B[39m \u001B[38;5;28mself\u001B[39m\u001B[38;5;241m.\u001B[39m_get_relevant_documents(\n\u001B[1;32m    247\u001B[0m         \u001B[38;5;28minput\u001B[39m, run_manager\u001B[38;5;241m=\u001B[39mrun_manager, \u001B[38;5;241m*\u001B[39m\u001B[38;5;241m*\u001B[39m_kwargs\n\u001B[1;32m    248\u001B[0m     )\n\u001B[1;32m    249\u001B[0m \u001B[38;5;28;01melse\u001B[39;00m:\n\u001B[1;32m    250\u001B[0m     result \u001B[38;5;241m=\u001B[39m \u001B[38;5;28mself\u001B[39m\u001B[38;5;241m.\u001B[39m_get_relevant_documents(\u001B[38;5;28minput\u001B[39m, \u001B[38;5;241m*\u001B[39m\u001B[38;5;241m*\u001B[39m_kwargs)\n",
      "File \u001B[0;32m~/GIT/Interstellar/SB-AI-DEV/DL/Udemy/Generative-AI/Krish Naik/SUBHASISH BISWAS/Langchain Projects/venv/lib/python3.11/site-packages/langchain_core/vectorstores/base.py:1042\u001B[0m, in \u001B[0;36mVectorStoreRetriever._get_relevant_documents\u001B[0;34m(self, query, run_manager)\u001B[0m\n\u001B[1;32m   1038\u001B[0m \u001B[38;5;28;01mdef\u001B[39;00m \u001B[38;5;21m_get_relevant_documents\u001B[39m(\n\u001B[1;32m   1039\u001B[0m     \u001B[38;5;28mself\u001B[39m, query: \u001B[38;5;28mstr\u001B[39m, \u001B[38;5;241m*\u001B[39m, run_manager: CallbackManagerForRetrieverRun\n\u001B[1;32m   1040\u001B[0m ) \u001B[38;5;241m-\u001B[39m\u001B[38;5;241m>\u001B[39m List[Document]:\n\u001B[1;32m   1041\u001B[0m     \u001B[38;5;28;01mif\u001B[39;00m \u001B[38;5;28mself\u001B[39m\u001B[38;5;241m.\u001B[39msearch_type \u001B[38;5;241m==\u001B[39m \u001B[38;5;124m\"\u001B[39m\u001B[38;5;124msimilarity\u001B[39m\u001B[38;5;124m\"\u001B[39m:\n\u001B[0;32m-> 1042\u001B[0m         docs \u001B[38;5;241m=\u001B[39m \u001B[38;5;28mself\u001B[39m\u001B[38;5;241m.\u001B[39mvectorstore\u001B[38;5;241m.\u001B[39msimilarity_search(query, \u001B[38;5;241m*\u001B[39m\u001B[38;5;241m*\u001B[39m\u001B[38;5;28mself\u001B[39m\u001B[38;5;241m.\u001B[39msearch_kwargs)\n\u001B[1;32m   1043\u001B[0m     \u001B[38;5;28;01melif\u001B[39;00m \u001B[38;5;28mself\u001B[39m\u001B[38;5;241m.\u001B[39msearch_type \u001B[38;5;241m==\u001B[39m \u001B[38;5;124m\"\u001B[39m\u001B[38;5;124msimilarity_score_threshold\u001B[39m\u001B[38;5;124m\"\u001B[39m:\n\u001B[1;32m   1044\u001B[0m         docs_and_similarities \u001B[38;5;241m=\u001B[39m (\n\u001B[1;32m   1045\u001B[0m             \u001B[38;5;28mself\u001B[39m\u001B[38;5;241m.\u001B[39mvectorstore\u001B[38;5;241m.\u001B[39msimilarity_search_with_relevance_scores(\n\u001B[1;32m   1046\u001B[0m                 query, \u001B[38;5;241m*\u001B[39m\u001B[38;5;241m*\u001B[39m\u001B[38;5;28mself\u001B[39m\u001B[38;5;241m.\u001B[39msearch_kwargs\n\u001B[1;32m   1047\u001B[0m             )\n\u001B[1;32m   1048\u001B[0m         )\n",
      "File \u001B[0;32m~/GIT/Interstellar/SB-AI-DEV/DL/Udemy/Generative-AI/Krish Naik/SUBHASISH BISWAS/Langchain Projects/venv/lib/python3.11/site-packages/langchain_community/vectorstores/faiss.py:641\u001B[0m, in \u001B[0;36mFAISS.similarity_search\u001B[0;34m(self, query, k, filter, fetch_k, **kwargs)\u001B[0m\n\u001B[1;32m    621\u001B[0m \u001B[38;5;28;01mdef\u001B[39;00m \u001B[38;5;21msimilarity_search\u001B[39m(\n\u001B[1;32m    622\u001B[0m     \u001B[38;5;28mself\u001B[39m,\n\u001B[1;32m    623\u001B[0m     query: \u001B[38;5;28mstr\u001B[39m,\n\u001B[0;32m   (...)\u001B[0m\n\u001B[1;32m    627\u001B[0m     \u001B[38;5;241m*\u001B[39m\u001B[38;5;241m*\u001B[39mkwargs: Any,\n\u001B[1;32m    628\u001B[0m ) \u001B[38;5;241m-\u001B[39m\u001B[38;5;241m>\u001B[39m List[Document]:\n\u001B[1;32m    629\u001B[0m \u001B[38;5;250m    \u001B[39m\u001B[38;5;124;03m\"\"\"Return docs most similar to query.\u001B[39;00m\n\u001B[1;32m    630\u001B[0m \n\u001B[1;32m    631\u001B[0m \u001B[38;5;124;03m    Args:\u001B[39;00m\n\u001B[0;32m   (...)\u001B[0m\n\u001B[1;32m    639\u001B[0m \u001B[38;5;124;03m        List of Documents most similar to the query.\u001B[39;00m\n\u001B[1;32m    640\u001B[0m \u001B[38;5;124;03m    \"\"\"\u001B[39;00m\n\u001B[0;32m--> 641\u001B[0m     docs_and_scores \u001B[38;5;241m=\u001B[39m \u001B[38;5;28mself\u001B[39m\u001B[38;5;241m.\u001B[39msimilarity_search_with_score(\n\u001B[1;32m    642\u001B[0m         query, k, \u001B[38;5;28mfilter\u001B[39m\u001B[38;5;241m=\u001B[39m\u001B[38;5;28mfilter\u001B[39m, fetch_k\u001B[38;5;241m=\u001B[39mfetch_k, \u001B[38;5;241m*\u001B[39m\u001B[38;5;241m*\u001B[39mkwargs\n\u001B[1;32m    643\u001B[0m     )\n\u001B[1;32m    644\u001B[0m     \u001B[38;5;28;01mreturn\u001B[39;00m [doc \u001B[38;5;28;01mfor\u001B[39;00m doc, _ \u001B[38;5;129;01min\u001B[39;00m docs_and_scores]\n",
      "File \u001B[0;32m~/GIT/Interstellar/SB-AI-DEV/DL/Udemy/Generative-AI/Krish Naik/SUBHASISH BISWAS/Langchain Projects/venv/lib/python3.11/site-packages/langchain_community/vectorstores/faiss.py:514\u001B[0m, in \u001B[0;36mFAISS.similarity_search_with_score\u001B[0;34m(self, query, k, filter, fetch_k, **kwargs)\u001B[0m\n\u001B[1;32m    497\u001B[0m \u001B[38;5;250m\u001B[39m\u001B[38;5;124;03m\"\"\"Return docs most similar to query.\u001B[39;00m\n\u001B[1;32m    498\u001B[0m \n\u001B[1;32m    499\u001B[0m \u001B[38;5;124;03mArgs:\u001B[39;00m\n\u001B[0;32m   (...)\u001B[0m\n\u001B[1;32m    511\u001B[0m \u001B[38;5;124;03m    L2 distance in float. Lower score represents more similarity.\u001B[39;00m\n\u001B[1;32m    512\u001B[0m \u001B[38;5;124;03m\"\"\"\u001B[39;00m\n\u001B[1;32m    513\u001B[0m embedding \u001B[38;5;241m=\u001B[39m \u001B[38;5;28mself\u001B[39m\u001B[38;5;241m.\u001B[39m_embed_query(query)\n\u001B[0;32m--> 514\u001B[0m docs \u001B[38;5;241m=\u001B[39m \u001B[38;5;28mself\u001B[39m\u001B[38;5;241m.\u001B[39msimilarity_search_with_score_by_vector(\n\u001B[1;32m    515\u001B[0m     embedding,\n\u001B[1;32m    516\u001B[0m     k,\n\u001B[1;32m    517\u001B[0m     \u001B[38;5;28mfilter\u001B[39m\u001B[38;5;241m=\u001B[39m\u001B[38;5;28mfilter\u001B[39m,\n\u001B[1;32m    518\u001B[0m     fetch_k\u001B[38;5;241m=\u001B[39mfetch_k,\n\u001B[1;32m    519\u001B[0m     \u001B[38;5;241m*\u001B[39m\u001B[38;5;241m*\u001B[39mkwargs,\n\u001B[1;32m    520\u001B[0m )\n\u001B[1;32m    521\u001B[0m \u001B[38;5;28;01mreturn\u001B[39;00m docs\n",
      "File \u001B[0;32m~/GIT/Interstellar/SB-AI-DEV/DL/Udemy/Generative-AI/Krish Naik/SUBHASISH BISWAS/Langchain Projects/venv/lib/python3.11/site-packages/langchain_community/vectorstores/faiss.py:415\u001B[0m, in \u001B[0;36mFAISS.similarity_search_with_score_by_vector\u001B[0;34m(self, embedding, k, filter, fetch_k, **kwargs)\u001B[0m\n\u001B[1;32m    413\u001B[0m \u001B[38;5;28;01mif\u001B[39;00m \u001B[38;5;28mself\u001B[39m\u001B[38;5;241m.\u001B[39m_normalize_L2:\n\u001B[1;32m    414\u001B[0m     faiss\u001B[38;5;241m.\u001B[39mnormalize_L2(vector)\n\u001B[0;32m--> 415\u001B[0m scores, indices \u001B[38;5;241m=\u001B[39m \u001B[38;5;28mself\u001B[39m\u001B[38;5;241m.\u001B[39mindex\u001B[38;5;241m.\u001B[39msearch(vector, k \u001B[38;5;28;01mif\u001B[39;00m \u001B[38;5;28mfilter\u001B[39m \u001B[38;5;129;01mis\u001B[39;00m \u001B[38;5;28;01mNone\u001B[39;00m \u001B[38;5;28;01melse\u001B[39;00m fetch_k)\n\u001B[1;32m    416\u001B[0m docs \u001B[38;5;241m=\u001B[39m []\n\u001B[1;32m    418\u001B[0m \u001B[38;5;28;01mif\u001B[39;00m \u001B[38;5;28mfilter\u001B[39m \u001B[38;5;129;01mis\u001B[39;00m \u001B[38;5;129;01mnot\u001B[39;00m \u001B[38;5;28;01mNone\u001B[39;00m:\n",
      "File \u001B[0;32m~/GIT/Interstellar/SB-AI-DEV/DL/Udemy/Generative-AI/Krish Naik/SUBHASISH BISWAS/Langchain Projects/venv/lib/python3.11/site-packages/faiss/class_wrappers.py:327\u001B[0m, in \u001B[0;36mhandle_Index.<locals>.replacement_search\u001B[0;34m(self, x, k, params, D, I)\u001B[0m\n\u001B[1;32m    300\u001B[0m \u001B[38;5;28;01mdef\u001B[39;00m \u001B[38;5;21mreplacement_search\u001B[39m(\u001B[38;5;28mself\u001B[39m, x, k, \u001B[38;5;241m*\u001B[39m, params\u001B[38;5;241m=\u001B[39m\u001B[38;5;28;01mNone\u001B[39;00m, D\u001B[38;5;241m=\u001B[39m\u001B[38;5;28;01mNone\u001B[39;00m, I\u001B[38;5;241m=\u001B[39m\u001B[38;5;28;01mNone\u001B[39;00m):\n\u001B[1;32m    301\u001B[0m \u001B[38;5;250m    \u001B[39m\u001B[38;5;124;03m\"\"\"Find the k nearest neighbors of the set of vectors x in the index.\u001B[39;00m\n\u001B[1;32m    302\u001B[0m \n\u001B[1;32m    303\u001B[0m \u001B[38;5;124;03m    Parameters\u001B[39;00m\n\u001B[0;32m   (...)\u001B[0m\n\u001B[1;32m    324\u001B[0m \u001B[38;5;124;03m        When not enough results are found, the label is set to -1\u001B[39;00m\n\u001B[1;32m    325\u001B[0m \u001B[38;5;124;03m    \"\"\"\u001B[39;00m\n\u001B[0;32m--> 327\u001B[0m     n, d \u001B[38;5;241m=\u001B[39m x\u001B[38;5;241m.\u001B[39mshape\n\u001B[1;32m    328\u001B[0m     x \u001B[38;5;241m=\u001B[39m np\u001B[38;5;241m.\u001B[39mascontiguousarray(x, dtype\u001B[38;5;241m=\u001B[39m\u001B[38;5;124m'\u001B[39m\u001B[38;5;124mfloat32\u001B[39m\u001B[38;5;124m'\u001B[39m)\n\u001B[1;32m    329\u001B[0m     \u001B[38;5;28;01massert\u001B[39;00m d \u001B[38;5;241m==\u001B[39m \u001B[38;5;28mself\u001B[39m\u001B[38;5;241m.\u001B[39md\n",
      "\u001B[0;31mValueError\u001B[0m: too many values to unpack (expected 2)"
     ]
    }
   ],
   "execution_count": 75
  },
  {
   "metadata": {
    "ExecuteTime": {
     "end_time": "2024-09-20T16:28:29.718188Z",
     "start_time": "2024-09-20T16:28:29.398684Z"
    }
   },
   "cell_type": "code",
   "source": [
    "question=\"The Manufacturer shall:\"\n",
    "response=conversational_rag_chain.invoke(\n",
    "    {\"input\": question},\n",
    "    config={\"configurable\": {\"session_id\": \"session-1\"}},\n",
    ")\n",
    "\n",
    "chat_history.extend(\n",
    "    [\n",
    "        HumanMessage(content=question),\n",
    "        AIMessage(content=response[\"answer\"]),\n",
    "    ]\n",
    ")\n",
    "print(response['answer'])"
   ],
   "id": "8fe236713b0f211c",
   "outputs": [
    {
     "ename": "ValueError",
     "evalue": "too many values to unpack (expected 2)",
     "output_type": "error",
     "traceback": [
      "\u001B[0;31m---------------------------------------------------------------------------\u001B[0m",
      "\u001B[0;31mValueError\u001B[0m                                Traceback (most recent call last)",
      "Cell \u001B[0;32mIn[55], line 2\u001B[0m\n\u001B[1;32m      1\u001B[0m question\u001B[38;5;241m=\u001B[39m\u001B[38;5;124m\"\u001B[39m\u001B[38;5;124mThe Manufacturer shall:\u001B[39m\u001B[38;5;124m\"\u001B[39m\n\u001B[0;32m----> 2\u001B[0m response\u001B[38;5;241m=\u001B[39mconversational_rag_chain\u001B[38;5;241m.\u001B[39minvoke(\n\u001B[1;32m      3\u001B[0m     {\u001B[38;5;124m\"\u001B[39m\u001B[38;5;124minput\u001B[39m\u001B[38;5;124m\"\u001B[39m: question},\n\u001B[1;32m      4\u001B[0m     config\u001B[38;5;241m=\u001B[39m{\u001B[38;5;124m\"\u001B[39m\u001B[38;5;124mconfigurable\u001B[39m\u001B[38;5;124m\"\u001B[39m: {\u001B[38;5;124m\"\u001B[39m\u001B[38;5;124msession_id\u001B[39m\u001B[38;5;124m\"\u001B[39m: \u001B[38;5;124m\"\u001B[39m\u001B[38;5;124msession-1\u001B[39m\u001B[38;5;124m\"\u001B[39m}},\n\u001B[1;32m      5\u001B[0m )\n\u001B[1;32m      7\u001B[0m chat_history\u001B[38;5;241m.\u001B[39mextend(\n\u001B[1;32m      8\u001B[0m     [\n\u001B[1;32m      9\u001B[0m         HumanMessage(content\u001B[38;5;241m=\u001B[39mquestion),\n\u001B[1;32m     10\u001B[0m         AIMessage(content\u001B[38;5;241m=\u001B[39mresponse[\u001B[38;5;124m\"\u001B[39m\u001B[38;5;124manswer\u001B[39m\u001B[38;5;124m\"\u001B[39m]),\n\u001B[1;32m     11\u001B[0m     ]\n\u001B[1;32m     12\u001B[0m )\n\u001B[1;32m     13\u001B[0m \u001B[38;5;28mprint\u001B[39m(response[\u001B[38;5;124m'\u001B[39m\u001B[38;5;124manswer\u001B[39m\u001B[38;5;124m'\u001B[39m])\n",
      "File \u001B[0;32m~/GIT/Interstellar/SB-AI-DEV/DL/Udemy/Generative-AI/Krish Naik/SUBHASISH BISWAS/Langchain Projects/venv/lib/python3.11/site-packages/langchain_core/runnables/base.py:5092\u001B[0m, in \u001B[0;36mRunnableBindingBase.invoke\u001B[0;34m(self, input, config, **kwargs)\u001B[0m\n\u001B[1;32m   5086\u001B[0m \u001B[38;5;28;01mdef\u001B[39;00m \u001B[38;5;21minvoke\u001B[39m(\n\u001B[1;32m   5087\u001B[0m     \u001B[38;5;28mself\u001B[39m,\n\u001B[1;32m   5088\u001B[0m     \u001B[38;5;28minput\u001B[39m: Input,\n\u001B[1;32m   5089\u001B[0m     config: Optional[RunnableConfig] \u001B[38;5;241m=\u001B[39m \u001B[38;5;28;01mNone\u001B[39;00m,\n\u001B[1;32m   5090\u001B[0m     \u001B[38;5;241m*\u001B[39m\u001B[38;5;241m*\u001B[39mkwargs: Optional[Any],\n\u001B[1;32m   5091\u001B[0m ) \u001B[38;5;241m-\u001B[39m\u001B[38;5;241m>\u001B[39m Output:\n\u001B[0;32m-> 5092\u001B[0m     \u001B[38;5;28;01mreturn\u001B[39;00m \u001B[38;5;28mself\u001B[39m\u001B[38;5;241m.\u001B[39mbound\u001B[38;5;241m.\u001B[39minvoke(\n\u001B[1;32m   5093\u001B[0m         \u001B[38;5;28minput\u001B[39m,\n\u001B[1;32m   5094\u001B[0m         \u001B[38;5;28mself\u001B[39m\u001B[38;5;241m.\u001B[39m_merge_configs(config),\n\u001B[1;32m   5095\u001B[0m         \u001B[38;5;241m*\u001B[39m\u001B[38;5;241m*\u001B[39m{\u001B[38;5;241m*\u001B[39m\u001B[38;5;241m*\u001B[39m\u001B[38;5;28mself\u001B[39m\u001B[38;5;241m.\u001B[39mkwargs, \u001B[38;5;241m*\u001B[39m\u001B[38;5;241m*\u001B[39mkwargs},\n\u001B[1;32m   5096\u001B[0m     )\n",
      "File \u001B[0;32m~/GIT/Interstellar/SB-AI-DEV/DL/Udemy/Generative-AI/Krish Naik/SUBHASISH BISWAS/Langchain Projects/venv/lib/python3.11/site-packages/langchain_core/runnables/base.py:5092\u001B[0m, in \u001B[0;36mRunnableBindingBase.invoke\u001B[0;34m(self, input, config, **kwargs)\u001B[0m\n\u001B[1;32m   5086\u001B[0m \u001B[38;5;28;01mdef\u001B[39;00m \u001B[38;5;21minvoke\u001B[39m(\n\u001B[1;32m   5087\u001B[0m     \u001B[38;5;28mself\u001B[39m,\n\u001B[1;32m   5088\u001B[0m     \u001B[38;5;28minput\u001B[39m: Input,\n\u001B[1;32m   5089\u001B[0m     config: Optional[RunnableConfig] \u001B[38;5;241m=\u001B[39m \u001B[38;5;28;01mNone\u001B[39;00m,\n\u001B[1;32m   5090\u001B[0m     \u001B[38;5;241m*\u001B[39m\u001B[38;5;241m*\u001B[39mkwargs: Optional[Any],\n\u001B[1;32m   5091\u001B[0m ) \u001B[38;5;241m-\u001B[39m\u001B[38;5;241m>\u001B[39m Output:\n\u001B[0;32m-> 5092\u001B[0m     \u001B[38;5;28;01mreturn\u001B[39;00m \u001B[38;5;28mself\u001B[39m\u001B[38;5;241m.\u001B[39mbound\u001B[38;5;241m.\u001B[39minvoke(\n\u001B[1;32m   5093\u001B[0m         \u001B[38;5;28minput\u001B[39m,\n\u001B[1;32m   5094\u001B[0m         \u001B[38;5;28mself\u001B[39m\u001B[38;5;241m.\u001B[39m_merge_configs(config),\n\u001B[1;32m   5095\u001B[0m         \u001B[38;5;241m*\u001B[39m\u001B[38;5;241m*\u001B[39m{\u001B[38;5;241m*\u001B[39m\u001B[38;5;241m*\u001B[39m\u001B[38;5;28mself\u001B[39m\u001B[38;5;241m.\u001B[39mkwargs, \u001B[38;5;241m*\u001B[39m\u001B[38;5;241m*\u001B[39mkwargs},\n\u001B[1;32m   5096\u001B[0m     )\n",
      "File \u001B[0;32m~/GIT/Interstellar/SB-AI-DEV/DL/Udemy/Generative-AI/Krish Naik/SUBHASISH BISWAS/Langchain Projects/venv/lib/python3.11/site-packages/langchain_core/runnables/base.py:2878\u001B[0m, in \u001B[0;36mRunnableSequence.invoke\u001B[0;34m(self, input, config, **kwargs)\u001B[0m\n\u001B[1;32m   2876\u001B[0m             \u001B[38;5;28minput\u001B[39m \u001B[38;5;241m=\u001B[39m context\u001B[38;5;241m.\u001B[39mrun(step\u001B[38;5;241m.\u001B[39minvoke, \u001B[38;5;28minput\u001B[39m, config, \u001B[38;5;241m*\u001B[39m\u001B[38;5;241m*\u001B[39mkwargs)\n\u001B[1;32m   2877\u001B[0m         \u001B[38;5;28;01melse\u001B[39;00m:\n\u001B[0;32m-> 2878\u001B[0m             \u001B[38;5;28minput\u001B[39m \u001B[38;5;241m=\u001B[39m context\u001B[38;5;241m.\u001B[39mrun(step\u001B[38;5;241m.\u001B[39minvoke, \u001B[38;5;28minput\u001B[39m, config)\n\u001B[1;32m   2879\u001B[0m \u001B[38;5;66;03m# finish the root run\u001B[39;00m\n\u001B[1;32m   2880\u001B[0m \u001B[38;5;28;01mexcept\u001B[39;00m \u001B[38;5;167;01mBaseException\u001B[39;00m \u001B[38;5;28;01mas\u001B[39;00m e:\n",
      "File \u001B[0;32m~/GIT/Interstellar/SB-AI-DEV/DL/Udemy/Generative-AI/Krish Naik/SUBHASISH BISWAS/Langchain Projects/venv/lib/python3.11/site-packages/langchain_core/runnables/base.py:5092\u001B[0m, in \u001B[0;36mRunnableBindingBase.invoke\u001B[0;34m(self, input, config, **kwargs)\u001B[0m\n\u001B[1;32m   5086\u001B[0m \u001B[38;5;28;01mdef\u001B[39;00m \u001B[38;5;21minvoke\u001B[39m(\n\u001B[1;32m   5087\u001B[0m     \u001B[38;5;28mself\u001B[39m,\n\u001B[1;32m   5088\u001B[0m     \u001B[38;5;28minput\u001B[39m: Input,\n\u001B[1;32m   5089\u001B[0m     config: Optional[RunnableConfig] \u001B[38;5;241m=\u001B[39m \u001B[38;5;28;01mNone\u001B[39;00m,\n\u001B[1;32m   5090\u001B[0m     \u001B[38;5;241m*\u001B[39m\u001B[38;5;241m*\u001B[39mkwargs: Optional[Any],\n\u001B[1;32m   5091\u001B[0m ) \u001B[38;5;241m-\u001B[39m\u001B[38;5;241m>\u001B[39m Output:\n\u001B[0;32m-> 5092\u001B[0m     \u001B[38;5;28;01mreturn\u001B[39;00m \u001B[38;5;28mself\u001B[39m\u001B[38;5;241m.\u001B[39mbound\u001B[38;5;241m.\u001B[39minvoke(\n\u001B[1;32m   5093\u001B[0m         \u001B[38;5;28minput\u001B[39m,\n\u001B[1;32m   5094\u001B[0m         \u001B[38;5;28mself\u001B[39m\u001B[38;5;241m.\u001B[39m_merge_configs(config),\n\u001B[1;32m   5095\u001B[0m         \u001B[38;5;241m*\u001B[39m\u001B[38;5;241m*\u001B[39m{\u001B[38;5;241m*\u001B[39m\u001B[38;5;241m*\u001B[39m\u001B[38;5;28mself\u001B[39m\u001B[38;5;241m.\u001B[39mkwargs, \u001B[38;5;241m*\u001B[39m\u001B[38;5;241m*\u001B[39mkwargs},\n\u001B[1;32m   5096\u001B[0m     )\n",
      "File \u001B[0;32m~/GIT/Interstellar/SB-AI-DEV/DL/Udemy/Generative-AI/Krish Naik/SUBHASISH BISWAS/Langchain Projects/venv/lib/python3.11/site-packages/langchain_core/runnables/base.py:4474\u001B[0m, in \u001B[0;36mRunnableLambda.invoke\u001B[0;34m(self, input, config, **kwargs)\u001B[0m\n\u001B[1;32m   4460\u001B[0m \u001B[38;5;250m\u001B[39m\u001B[38;5;124;03m\"\"\"Invoke this Runnable synchronously.\u001B[39;00m\n\u001B[1;32m   4461\u001B[0m \n\u001B[1;32m   4462\u001B[0m \u001B[38;5;124;03mArgs:\u001B[39;00m\n\u001B[0;32m   (...)\u001B[0m\n\u001B[1;32m   4471\u001B[0m \u001B[38;5;124;03m    TypeError: If the Runnable is a coroutine function.\u001B[39;00m\n\u001B[1;32m   4472\u001B[0m \u001B[38;5;124;03m\"\"\"\u001B[39;00m\n\u001B[1;32m   4473\u001B[0m \u001B[38;5;28;01mif\u001B[39;00m \u001B[38;5;28mhasattr\u001B[39m(\u001B[38;5;28mself\u001B[39m, \u001B[38;5;124m\"\u001B[39m\u001B[38;5;124mfunc\u001B[39m\u001B[38;5;124m\"\u001B[39m):\n\u001B[0;32m-> 4474\u001B[0m     \u001B[38;5;28;01mreturn\u001B[39;00m \u001B[38;5;28mself\u001B[39m\u001B[38;5;241m.\u001B[39m_call_with_config(\n\u001B[1;32m   4475\u001B[0m         \u001B[38;5;28mself\u001B[39m\u001B[38;5;241m.\u001B[39m_invoke,\n\u001B[1;32m   4476\u001B[0m         \u001B[38;5;28minput\u001B[39m,\n\u001B[1;32m   4477\u001B[0m         \u001B[38;5;28mself\u001B[39m\u001B[38;5;241m.\u001B[39m_config(config, \u001B[38;5;28mself\u001B[39m\u001B[38;5;241m.\u001B[39mfunc),\n\u001B[1;32m   4478\u001B[0m         \u001B[38;5;241m*\u001B[39m\u001B[38;5;241m*\u001B[39mkwargs,\n\u001B[1;32m   4479\u001B[0m     )\n\u001B[1;32m   4480\u001B[0m \u001B[38;5;28;01melse\u001B[39;00m:\n\u001B[1;32m   4481\u001B[0m     \u001B[38;5;28;01mraise\u001B[39;00m \u001B[38;5;167;01mTypeError\u001B[39;00m(\n\u001B[1;32m   4482\u001B[0m         \u001B[38;5;124m\"\u001B[39m\u001B[38;5;124mCannot invoke a coroutine function synchronously.\u001B[39m\u001B[38;5;124m\"\u001B[39m\n\u001B[1;32m   4483\u001B[0m         \u001B[38;5;124m\"\u001B[39m\u001B[38;5;124mUse `ainvoke` instead.\u001B[39m\u001B[38;5;124m\"\u001B[39m\n\u001B[1;32m   4484\u001B[0m     )\n",
      "File \u001B[0;32m~/GIT/Interstellar/SB-AI-DEV/DL/Udemy/Generative-AI/Krish Naik/SUBHASISH BISWAS/Langchain Projects/venv/lib/python3.11/site-packages/langchain_core/runnables/base.py:1785\u001B[0m, in \u001B[0;36mRunnable._call_with_config\u001B[0;34m(self, func, input, config, run_type, **kwargs)\u001B[0m\n\u001B[1;32m   1781\u001B[0m     context \u001B[38;5;241m=\u001B[39m copy_context()\n\u001B[1;32m   1782\u001B[0m     context\u001B[38;5;241m.\u001B[39mrun(_set_config_context, child_config)\n\u001B[1;32m   1783\u001B[0m     output \u001B[38;5;241m=\u001B[39m cast(\n\u001B[1;32m   1784\u001B[0m         Output,\n\u001B[0;32m-> 1785\u001B[0m         context\u001B[38;5;241m.\u001B[39mrun(\n\u001B[1;32m   1786\u001B[0m             call_func_with_variable_args,  \u001B[38;5;66;03m# type: ignore[arg-type]\u001B[39;00m\n\u001B[1;32m   1787\u001B[0m             func,  \u001B[38;5;66;03m# type: ignore[arg-type]\u001B[39;00m\n\u001B[1;32m   1788\u001B[0m             \u001B[38;5;28minput\u001B[39m,  \u001B[38;5;66;03m# type: ignore[arg-type]\u001B[39;00m\n\u001B[1;32m   1789\u001B[0m             config,\n\u001B[1;32m   1790\u001B[0m             run_manager,\n\u001B[1;32m   1791\u001B[0m             \u001B[38;5;241m*\u001B[39m\u001B[38;5;241m*\u001B[39mkwargs,\n\u001B[1;32m   1792\u001B[0m         ),\n\u001B[1;32m   1793\u001B[0m     )\n\u001B[1;32m   1794\u001B[0m \u001B[38;5;28;01mexcept\u001B[39;00m \u001B[38;5;167;01mBaseException\u001B[39;00m \u001B[38;5;28;01mas\u001B[39;00m e:\n\u001B[1;32m   1795\u001B[0m     run_manager\u001B[38;5;241m.\u001B[39mon_chain_error(e)\n",
      "File \u001B[0;32m~/GIT/Interstellar/SB-AI-DEV/DL/Udemy/Generative-AI/Krish Naik/SUBHASISH BISWAS/Langchain Projects/venv/lib/python3.11/site-packages/langchain_core/runnables/config.py:398\u001B[0m, in \u001B[0;36mcall_func_with_variable_args\u001B[0;34m(func, input, config, run_manager, **kwargs)\u001B[0m\n\u001B[1;32m    396\u001B[0m \u001B[38;5;28;01mif\u001B[39;00m run_manager \u001B[38;5;129;01mis\u001B[39;00m \u001B[38;5;129;01mnot\u001B[39;00m \u001B[38;5;28;01mNone\u001B[39;00m \u001B[38;5;129;01mand\u001B[39;00m accepts_run_manager(func):\n\u001B[1;32m    397\u001B[0m     kwargs[\u001B[38;5;124m\"\u001B[39m\u001B[38;5;124mrun_manager\u001B[39m\u001B[38;5;124m\"\u001B[39m] \u001B[38;5;241m=\u001B[39m run_manager\n\u001B[0;32m--> 398\u001B[0m \u001B[38;5;28;01mreturn\u001B[39;00m func(\u001B[38;5;28minput\u001B[39m, \u001B[38;5;241m*\u001B[39m\u001B[38;5;241m*\u001B[39mkwargs)\n",
      "File \u001B[0;32m~/GIT/Interstellar/SB-AI-DEV/DL/Udemy/Generative-AI/Krish Naik/SUBHASISH BISWAS/Langchain Projects/venv/lib/python3.11/site-packages/langchain_core/runnables/base.py:4340\u001B[0m, in \u001B[0;36mRunnableLambda._invoke\u001B[0;34m(self, input, run_manager, config, **kwargs)\u001B[0m\n\u001B[1;32m   4336\u001B[0m     \u001B[38;5;28;01mif\u001B[39;00m recursion_limit \u001B[38;5;241m<\u001B[39m\u001B[38;5;241m=\u001B[39m \u001B[38;5;241m0\u001B[39m:\n\u001B[1;32m   4337\u001B[0m         \u001B[38;5;28;01mraise\u001B[39;00m \u001B[38;5;167;01mRecursionError\u001B[39;00m(\n\u001B[1;32m   4338\u001B[0m             \u001B[38;5;124mf\u001B[39m\u001B[38;5;124m\"\u001B[39m\u001B[38;5;124mRecursion limit reached when invoking \u001B[39m\u001B[38;5;132;01m{\u001B[39;00m\u001B[38;5;28mself\u001B[39m\u001B[38;5;132;01m}\u001B[39;00m\u001B[38;5;124m with input \u001B[39m\u001B[38;5;132;01m{\u001B[39;00m\u001B[38;5;28minput\u001B[39m\u001B[38;5;132;01m}\u001B[39;00m\u001B[38;5;124m.\u001B[39m\u001B[38;5;124m\"\u001B[39m\n\u001B[1;32m   4339\u001B[0m         )\n\u001B[0;32m-> 4340\u001B[0m     output \u001B[38;5;241m=\u001B[39m output\u001B[38;5;241m.\u001B[39minvoke(\n\u001B[1;32m   4341\u001B[0m         \u001B[38;5;28minput\u001B[39m,\n\u001B[1;32m   4342\u001B[0m         patch_config(\n\u001B[1;32m   4343\u001B[0m             config,\n\u001B[1;32m   4344\u001B[0m             callbacks\u001B[38;5;241m=\u001B[39mrun_manager\u001B[38;5;241m.\u001B[39mget_child(),\n\u001B[1;32m   4345\u001B[0m             recursion_limit\u001B[38;5;241m=\u001B[39mrecursion_limit \u001B[38;5;241m-\u001B[39m \u001B[38;5;241m1\u001B[39m,\n\u001B[1;32m   4346\u001B[0m         ),\n\u001B[1;32m   4347\u001B[0m     )\n\u001B[1;32m   4348\u001B[0m \u001B[38;5;28;01mreturn\u001B[39;00m cast(Output, output)\n",
      "File \u001B[0;32m~/GIT/Interstellar/SB-AI-DEV/DL/Udemy/Generative-AI/Krish Naik/SUBHASISH BISWAS/Langchain Projects/venv/lib/python3.11/site-packages/langchain_core/runnables/base.py:5092\u001B[0m, in \u001B[0;36mRunnableBindingBase.invoke\u001B[0;34m(self, input, config, **kwargs)\u001B[0m\n\u001B[1;32m   5086\u001B[0m \u001B[38;5;28;01mdef\u001B[39;00m \u001B[38;5;21minvoke\u001B[39m(\n\u001B[1;32m   5087\u001B[0m     \u001B[38;5;28mself\u001B[39m,\n\u001B[1;32m   5088\u001B[0m     \u001B[38;5;28minput\u001B[39m: Input,\n\u001B[1;32m   5089\u001B[0m     config: Optional[RunnableConfig] \u001B[38;5;241m=\u001B[39m \u001B[38;5;28;01mNone\u001B[39;00m,\n\u001B[1;32m   5090\u001B[0m     \u001B[38;5;241m*\u001B[39m\u001B[38;5;241m*\u001B[39mkwargs: Optional[Any],\n\u001B[1;32m   5091\u001B[0m ) \u001B[38;5;241m-\u001B[39m\u001B[38;5;241m>\u001B[39m Output:\n\u001B[0;32m-> 5092\u001B[0m     \u001B[38;5;28;01mreturn\u001B[39;00m \u001B[38;5;28mself\u001B[39m\u001B[38;5;241m.\u001B[39mbound\u001B[38;5;241m.\u001B[39minvoke(\n\u001B[1;32m   5093\u001B[0m         \u001B[38;5;28minput\u001B[39m,\n\u001B[1;32m   5094\u001B[0m         \u001B[38;5;28mself\u001B[39m\u001B[38;5;241m.\u001B[39m_merge_configs(config),\n\u001B[1;32m   5095\u001B[0m         \u001B[38;5;241m*\u001B[39m\u001B[38;5;241m*\u001B[39m{\u001B[38;5;241m*\u001B[39m\u001B[38;5;241m*\u001B[39m\u001B[38;5;28mself\u001B[39m\u001B[38;5;241m.\u001B[39mkwargs, \u001B[38;5;241m*\u001B[39m\u001B[38;5;241m*\u001B[39mkwargs},\n\u001B[1;32m   5096\u001B[0m     )\n",
      "File \u001B[0;32m~/GIT/Interstellar/SB-AI-DEV/DL/Udemy/Generative-AI/Krish Naik/SUBHASISH BISWAS/Langchain Projects/venv/lib/python3.11/site-packages/langchain_core/runnables/base.py:2876\u001B[0m, in \u001B[0;36mRunnableSequence.invoke\u001B[0;34m(self, input, config, **kwargs)\u001B[0m\n\u001B[1;32m   2874\u001B[0m context\u001B[38;5;241m.\u001B[39mrun(_set_config_context, config)\n\u001B[1;32m   2875\u001B[0m \u001B[38;5;28;01mif\u001B[39;00m i \u001B[38;5;241m==\u001B[39m \u001B[38;5;241m0\u001B[39m:\n\u001B[0;32m-> 2876\u001B[0m     \u001B[38;5;28minput\u001B[39m \u001B[38;5;241m=\u001B[39m context\u001B[38;5;241m.\u001B[39mrun(step\u001B[38;5;241m.\u001B[39minvoke, \u001B[38;5;28minput\u001B[39m, config, \u001B[38;5;241m*\u001B[39m\u001B[38;5;241m*\u001B[39mkwargs)\n\u001B[1;32m   2877\u001B[0m \u001B[38;5;28;01melse\u001B[39;00m:\n\u001B[1;32m   2878\u001B[0m     \u001B[38;5;28minput\u001B[39m \u001B[38;5;241m=\u001B[39m context\u001B[38;5;241m.\u001B[39mrun(step\u001B[38;5;241m.\u001B[39minvoke, \u001B[38;5;28minput\u001B[39m, config)\n",
      "File \u001B[0;32m~/GIT/Interstellar/SB-AI-DEV/DL/Udemy/Generative-AI/Krish Naik/SUBHASISH BISWAS/Langchain Projects/venv/lib/python3.11/site-packages/langchain_core/runnables/passthrough.py:495\u001B[0m, in \u001B[0;36mRunnableAssign.invoke\u001B[0;34m(self, input, config, **kwargs)\u001B[0m\n\u001B[1;32m    489\u001B[0m \u001B[38;5;28;01mdef\u001B[39;00m \u001B[38;5;21minvoke\u001B[39m(\n\u001B[1;32m    490\u001B[0m     \u001B[38;5;28mself\u001B[39m,\n\u001B[1;32m    491\u001B[0m     \u001B[38;5;28minput\u001B[39m: Dict[\u001B[38;5;28mstr\u001B[39m, Any],\n\u001B[1;32m    492\u001B[0m     config: Optional[RunnableConfig] \u001B[38;5;241m=\u001B[39m \u001B[38;5;28;01mNone\u001B[39;00m,\n\u001B[1;32m    493\u001B[0m     \u001B[38;5;241m*\u001B[39m\u001B[38;5;241m*\u001B[39mkwargs: Any,\n\u001B[1;32m    494\u001B[0m ) \u001B[38;5;241m-\u001B[39m\u001B[38;5;241m>\u001B[39m Dict[\u001B[38;5;28mstr\u001B[39m, Any]:\n\u001B[0;32m--> 495\u001B[0m     \u001B[38;5;28;01mreturn\u001B[39;00m \u001B[38;5;28mself\u001B[39m\u001B[38;5;241m.\u001B[39m_call_with_config(\u001B[38;5;28mself\u001B[39m\u001B[38;5;241m.\u001B[39m_invoke, \u001B[38;5;28minput\u001B[39m, config, \u001B[38;5;241m*\u001B[39m\u001B[38;5;241m*\u001B[39mkwargs)\n",
      "File \u001B[0;32m~/GIT/Interstellar/SB-AI-DEV/DL/Udemy/Generative-AI/Krish Naik/SUBHASISH BISWAS/Langchain Projects/venv/lib/python3.11/site-packages/langchain_core/runnables/base.py:1785\u001B[0m, in \u001B[0;36mRunnable._call_with_config\u001B[0;34m(self, func, input, config, run_type, **kwargs)\u001B[0m\n\u001B[1;32m   1781\u001B[0m     context \u001B[38;5;241m=\u001B[39m copy_context()\n\u001B[1;32m   1782\u001B[0m     context\u001B[38;5;241m.\u001B[39mrun(_set_config_context, child_config)\n\u001B[1;32m   1783\u001B[0m     output \u001B[38;5;241m=\u001B[39m cast(\n\u001B[1;32m   1784\u001B[0m         Output,\n\u001B[0;32m-> 1785\u001B[0m         context\u001B[38;5;241m.\u001B[39mrun(\n\u001B[1;32m   1786\u001B[0m             call_func_with_variable_args,  \u001B[38;5;66;03m# type: ignore[arg-type]\u001B[39;00m\n\u001B[1;32m   1787\u001B[0m             func,  \u001B[38;5;66;03m# type: ignore[arg-type]\u001B[39;00m\n\u001B[1;32m   1788\u001B[0m             \u001B[38;5;28minput\u001B[39m,  \u001B[38;5;66;03m# type: ignore[arg-type]\u001B[39;00m\n\u001B[1;32m   1789\u001B[0m             config,\n\u001B[1;32m   1790\u001B[0m             run_manager,\n\u001B[1;32m   1791\u001B[0m             \u001B[38;5;241m*\u001B[39m\u001B[38;5;241m*\u001B[39mkwargs,\n\u001B[1;32m   1792\u001B[0m         ),\n\u001B[1;32m   1793\u001B[0m     )\n\u001B[1;32m   1794\u001B[0m \u001B[38;5;28;01mexcept\u001B[39;00m \u001B[38;5;167;01mBaseException\u001B[39;00m \u001B[38;5;28;01mas\u001B[39;00m e:\n\u001B[1;32m   1795\u001B[0m     run_manager\u001B[38;5;241m.\u001B[39mon_chain_error(e)\n",
      "File \u001B[0;32m~/GIT/Interstellar/SB-AI-DEV/DL/Udemy/Generative-AI/Krish Naik/SUBHASISH BISWAS/Langchain Projects/venv/lib/python3.11/site-packages/langchain_core/runnables/config.py:398\u001B[0m, in \u001B[0;36mcall_func_with_variable_args\u001B[0;34m(func, input, config, run_manager, **kwargs)\u001B[0m\n\u001B[1;32m    396\u001B[0m \u001B[38;5;28;01mif\u001B[39;00m run_manager \u001B[38;5;129;01mis\u001B[39;00m \u001B[38;5;129;01mnot\u001B[39;00m \u001B[38;5;28;01mNone\u001B[39;00m \u001B[38;5;129;01mand\u001B[39;00m accepts_run_manager(func):\n\u001B[1;32m    397\u001B[0m     kwargs[\u001B[38;5;124m\"\u001B[39m\u001B[38;5;124mrun_manager\u001B[39m\u001B[38;5;124m\"\u001B[39m] \u001B[38;5;241m=\u001B[39m run_manager\n\u001B[0;32m--> 398\u001B[0m \u001B[38;5;28;01mreturn\u001B[39;00m func(\u001B[38;5;28minput\u001B[39m, \u001B[38;5;241m*\u001B[39m\u001B[38;5;241m*\u001B[39mkwargs)\n",
      "File \u001B[0;32m~/GIT/Interstellar/SB-AI-DEV/DL/Udemy/Generative-AI/Krish Naik/SUBHASISH BISWAS/Langchain Projects/venv/lib/python3.11/site-packages/langchain_core/runnables/passthrough.py:482\u001B[0m, in \u001B[0;36mRunnableAssign._invoke\u001B[0;34m(self, input, run_manager, config, **kwargs)\u001B[0m\n\u001B[1;32m    469\u001B[0m \u001B[38;5;28;01mdef\u001B[39;00m \u001B[38;5;21m_invoke\u001B[39m(\n\u001B[1;32m    470\u001B[0m     \u001B[38;5;28mself\u001B[39m,\n\u001B[1;32m    471\u001B[0m     \u001B[38;5;28minput\u001B[39m: Dict[\u001B[38;5;28mstr\u001B[39m, Any],\n\u001B[0;32m   (...)\u001B[0m\n\u001B[1;32m    474\u001B[0m     \u001B[38;5;241m*\u001B[39m\u001B[38;5;241m*\u001B[39mkwargs: Any,\n\u001B[1;32m    475\u001B[0m ) \u001B[38;5;241m-\u001B[39m\u001B[38;5;241m>\u001B[39m Dict[\u001B[38;5;28mstr\u001B[39m, Any]:\n\u001B[1;32m    476\u001B[0m     \u001B[38;5;28;01massert\u001B[39;00m \u001B[38;5;28misinstance\u001B[39m(\n\u001B[1;32m    477\u001B[0m         \u001B[38;5;28minput\u001B[39m, \u001B[38;5;28mdict\u001B[39m\n\u001B[1;32m    478\u001B[0m     ), \u001B[38;5;124m\"\u001B[39m\u001B[38;5;124mThe input to RunnablePassthrough.assign() must be a dict.\u001B[39m\u001B[38;5;124m\"\u001B[39m\n\u001B[1;32m    480\u001B[0m     \u001B[38;5;28;01mreturn\u001B[39;00m {\n\u001B[1;32m    481\u001B[0m         \u001B[38;5;241m*\u001B[39m\u001B[38;5;241m*\u001B[39m\u001B[38;5;28minput\u001B[39m,\n\u001B[0;32m--> 482\u001B[0m         \u001B[38;5;241m*\u001B[39m\u001B[38;5;241m*\u001B[39m\u001B[38;5;28mself\u001B[39m\u001B[38;5;241m.\u001B[39mmapper\u001B[38;5;241m.\u001B[39minvoke(\n\u001B[1;32m    483\u001B[0m             \u001B[38;5;28minput\u001B[39m,\n\u001B[1;32m    484\u001B[0m             patch_config(config, callbacks\u001B[38;5;241m=\u001B[39mrun_manager\u001B[38;5;241m.\u001B[39mget_child()),\n\u001B[1;32m    485\u001B[0m             \u001B[38;5;241m*\u001B[39m\u001B[38;5;241m*\u001B[39mkwargs,\n\u001B[1;32m    486\u001B[0m         ),\n\u001B[1;32m    487\u001B[0m     }\n",
      "File \u001B[0;32m~/GIT/Interstellar/SB-AI-DEV/DL/Udemy/Generative-AI/Krish Naik/SUBHASISH BISWAS/Langchain Projects/venv/lib/python3.11/site-packages/langchain_core/runnables/base.py:3579\u001B[0m, in \u001B[0;36mRunnableParallel.invoke\u001B[0;34m(self, input, config)\u001B[0m\n\u001B[1;32m   3574\u001B[0m     \u001B[38;5;28;01mwith\u001B[39;00m get_executor_for_config(config) \u001B[38;5;28;01mas\u001B[39;00m executor:\n\u001B[1;32m   3575\u001B[0m         futures \u001B[38;5;241m=\u001B[39m [\n\u001B[1;32m   3576\u001B[0m             executor\u001B[38;5;241m.\u001B[39msubmit(_invoke_step, step, \u001B[38;5;28minput\u001B[39m, config, key)\n\u001B[1;32m   3577\u001B[0m             \u001B[38;5;28;01mfor\u001B[39;00m key, step \u001B[38;5;129;01min\u001B[39;00m steps\u001B[38;5;241m.\u001B[39mitems()\n\u001B[1;32m   3578\u001B[0m         ]\n\u001B[0;32m-> 3579\u001B[0m         output \u001B[38;5;241m=\u001B[39m {key: future\u001B[38;5;241m.\u001B[39mresult() \u001B[38;5;28;01mfor\u001B[39;00m key, future \u001B[38;5;129;01min\u001B[39;00m \u001B[38;5;28mzip\u001B[39m(steps, futures)}\n\u001B[1;32m   3580\u001B[0m \u001B[38;5;66;03m# finish the root run\u001B[39;00m\n\u001B[1;32m   3581\u001B[0m \u001B[38;5;28;01mexcept\u001B[39;00m \u001B[38;5;167;01mBaseException\u001B[39;00m \u001B[38;5;28;01mas\u001B[39;00m e:\n",
      "File \u001B[0;32m~/GIT/Interstellar/SB-AI-DEV/DL/Udemy/Generative-AI/Krish Naik/SUBHASISH BISWAS/Langchain Projects/venv/lib/python3.11/site-packages/langchain_core/runnables/base.py:3579\u001B[0m, in \u001B[0;36m<dictcomp>\u001B[0;34m(.0)\u001B[0m\n\u001B[1;32m   3574\u001B[0m     \u001B[38;5;28;01mwith\u001B[39;00m get_executor_for_config(config) \u001B[38;5;28;01mas\u001B[39;00m executor:\n\u001B[1;32m   3575\u001B[0m         futures \u001B[38;5;241m=\u001B[39m [\n\u001B[1;32m   3576\u001B[0m             executor\u001B[38;5;241m.\u001B[39msubmit(_invoke_step, step, \u001B[38;5;28minput\u001B[39m, config, key)\n\u001B[1;32m   3577\u001B[0m             \u001B[38;5;28;01mfor\u001B[39;00m key, step \u001B[38;5;129;01min\u001B[39;00m steps\u001B[38;5;241m.\u001B[39mitems()\n\u001B[1;32m   3578\u001B[0m         ]\n\u001B[0;32m-> 3579\u001B[0m         output \u001B[38;5;241m=\u001B[39m {key: future\u001B[38;5;241m.\u001B[39mresult() \u001B[38;5;28;01mfor\u001B[39;00m key, future \u001B[38;5;129;01min\u001B[39;00m \u001B[38;5;28mzip\u001B[39m(steps, futures)}\n\u001B[1;32m   3580\u001B[0m \u001B[38;5;66;03m# finish the root run\u001B[39;00m\n\u001B[1;32m   3581\u001B[0m \u001B[38;5;28;01mexcept\u001B[39;00m \u001B[38;5;167;01mBaseException\u001B[39;00m \u001B[38;5;28;01mas\u001B[39;00m e:\n",
      "File \u001B[0;32m~/GIT/Interstellar/SB-AI-DEV/DL/Udemy/Generative-AI/Krish Naik/SUBHASISH BISWAS/Langchain Projects/venv/lib/python3.11/concurrent/futures/_base.py:456\u001B[0m, in \u001B[0;36mFuture.result\u001B[0;34m(self, timeout)\u001B[0m\n\u001B[1;32m    454\u001B[0m     \u001B[38;5;28;01mraise\u001B[39;00m CancelledError()\n\u001B[1;32m    455\u001B[0m \u001B[38;5;28;01melif\u001B[39;00m \u001B[38;5;28mself\u001B[39m\u001B[38;5;241m.\u001B[39m_state \u001B[38;5;241m==\u001B[39m FINISHED:\n\u001B[0;32m--> 456\u001B[0m     \u001B[38;5;28;01mreturn\u001B[39;00m \u001B[38;5;28mself\u001B[39m\u001B[38;5;241m.\u001B[39m__get_result()\n\u001B[1;32m    457\u001B[0m \u001B[38;5;28;01melse\u001B[39;00m:\n\u001B[1;32m    458\u001B[0m     \u001B[38;5;28;01mraise\u001B[39;00m \u001B[38;5;167;01mTimeoutError\u001B[39;00m()\n",
      "File \u001B[0;32m~/GIT/Interstellar/SB-AI-DEV/DL/Udemy/Generative-AI/Krish Naik/SUBHASISH BISWAS/Langchain Projects/venv/lib/python3.11/concurrent/futures/_base.py:401\u001B[0m, in \u001B[0;36mFuture.__get_result\u001B[0;34m(self)\u001B[0m\n\u001B[1;32m    399\u001B[0m \u001B[38;5;28;01mif\u001B[39;00m \u001B[38;5;28mself\u001B[39m\u001B[38;5;241m.\u001B[39m_exception:\n\u001B[1;32m    400\u001B[0m     \u001B[38;5;28;01mtry\u001B[39;00m:\n\u001B[0;32m--> 401\u001B[0m         \u001B[38;5;28;01mraise\u001B[39;00m \u001B[38;5;28mself\u001B[39m\u001B[38;5;241m.\u001B[39m_exception\n\u001B[1;32m    402\u001B[0m     \u001B[38;5;28;01mfinally\u001B[39;00m:\n\u001B[1;32m    403\u001B[0m         \u001B[38;5;66;03m# Break a reference cycle with the exception in self._exception\u001B[39;00m\n\u001B[1;32m    404\u001B[0m         \u001B[38;5;28mself\u001B[39m \u001B[38;5;241m=\u001B[39m \u001B[38;5;28;01mNone\u001B[39;00m\n",
      "File \u001B[0;32m~/GIT/Interstellar/SB-AI-DEV/DL/Udemy/Generative-AI/Krish Naik/SUBHASISH BISWAS/Langchain Projects/venv/lib/python3.11/concurrent/futures/thread.py:58\u001B[0m, in \u001B[0;36m_WorkItem.run\u001B[0;34m(self)\u001B[0m\n\u001B[1;32m     55\u001B[0m     \u001B[38;5;28;01mreturn\u001B[39;00m\n\u001B[1;32m     57\u001B[0m \u001B[38;5;28;01mtry\u001B[39;00m:\n\u001B[0;32m---> 58\u001B[0m     result \u001B[38;5;241m=\u001B[39m \u001B[38;5;28mself\u001B[39m\u001B[38;5;241m.\u001B[39mfn(\u001B[38;5;241m*\u001B[39m\u001B[38;5;28mself\u001B[39m\u001B[38;5;241m.\u001B[39margs, \u001B[38;5;241m*\u001B[39m\u001B[38;5;241m*\u001B[39m\u001B[38;5;28mself\u001B[39m\u001B[38;5;241m.\u001B[39mkwargs)\n\u001B[1;32m     59\u001B[0m \u001B[38;5;28;01mexcept\u001B[39;00m \u001B[38;5;167;01mBaseException\u001B[39;00m \u001B[38;5;28;01mas\u001B[39;00m exc:\n\u001B[1;32m     60\u001B[0m     \u001B[38;5;28mself\u001B[39m\u001B[38;5;241m.\u001B[39mfuture\u001B[38;5;241m.\u001B[39mset_exception(exc)\n",
      "File \u001B[0;32m~/GIT/Interstellar/SB-AI-DEV/DL/Udemy/Generative-AI/Krish Naik/SUBHASISH BISWAS/Langchain Projects/venv/lib/python3.11/site-packages/langchain_core/runnables/base.py:3563\u001B[0m, in \u001B[0;36mRunnableParallel.invoke.<locals>._invoke_step\u001B[0;34m(step, input, config, key)\u001B[0m\n\u001B[1;32m   3561\u001B[0m context \u001B[38;5;241m=\u001B[39m copy_context()\n\u001B[1;32m   3562\u001B[0m context\u001B[38;5;241m.\u001B[39mrun(_set_config_context, child_config)\n\u001B[0;32m-> 3563\u001B[0m \u001B[38;5;28;01mreturn\u001B[39;00m context\u001B[38;5;241m.\u001B[39mrun(\n\u001B[1;32m   3564\u001B[0m     step\u001B[38;5;241m.\u001B[39minvoke,\n\u001B[1;32m   3565\u001B[0m     \u001B[38;5;28minput\u001B[39m,\n\u001B[1;32m   3566\u001B[0m     child_config,\n\u001B[1;32m   3567\u001B[0m )\n",
      "File \u001B[0;32m~/GIT/Interstellar/SB-AI-DEV/DL/Udemy/Generative-AI/Krish Naik/SUBHASISH BISWAS/Langchain Projects/venv/lib/python3.11/site-packages/langchain_core/runnables/base.py:5092\u001B[0m, in \u001B[0;36mRunnableBindingBase.invoke\u001B[0;34m(self, input, config, **kwargs)\u001B[0m\n\u001B[1;32m   5086\u001B[0m \u001B[38;5;28;01mdef\u001B[39;00m \u001B[38;5;21minvoke\u001B[39m(\n\u001B[1;32m   5087\u001B[0m     \u001B[38;5;28mself\u001B[39m,\n\u001B[1;32m   5088\u001B[0m     \u001B[38;5;28minput\u001B[39m: Input,\n\u001B[1;32m   5089\u001B[0m     config: Optional[RunnableConfig] \u001B[38;5;241m=\u001B[39m \u001B[38;5;28;01mNone\u001B[39;00m,\n\u001B[1;32m   5090\u001B[0m     \u001B[38;5;241m*\u001B[39m\u001B[38;5;241m*\u001B[39mkwargs: Optional[Any],\n\u001B[1;32m   5091\u001B[0m ) \u001B[38;5;241m-\u001B[39m\u001B[38;5;241m>\u001B[39m Output:\n\u001B[0;32m-> 5092\u001B[0m     \u001B[38;5;28;01mreturn\u001B[39;00m \u001B[38;5;28mself\u001B[39m\u001B[38;5;241m.\u001B[39mbound\u001B[38;5;241m.\u001B[39minvoke(\n\u001B[1;32m   5093\u001B[0m         \u001B[38;5;28minput\u001B[39m,\n\u001B[1;32m   5094\u001B[0m         \u001B[38;5;28mself\u001B[39m\u001B[38;5;241m.\u001B[39m_merge_configs(config),\n\u001B[1;32m   5095\u001B[0m         \u001B[38;5;241m*\u001B[39m\u001B[38;5;241m*\u001B[39m{\u001B[38;5;241m*\u001B[39m\u001B[38;5;241m*\u001B[39m\u001B[38;5;28mself\u001B[39m\u001B[38;5;241m.\u001B[39mkwargs, \u001B[38;5;241m*\u001B[39m\u001B[38;5;241m*\u001B[39mkwargs},\n\u001B[1;32m   5096\u001B[0m     )\n",
      "File \u001B[0;32m~/GIT/Interstellar/SB-AI-DEV/DL/Udemy/Generative-AI/Krish Naik/SUBHASISH BISWAS/Langchain Projects/venv/lib/python3.11/site-packages/langchain_core/runnables/branch.py:229\u001B[0m, in \u001B[0;36mRunnableBranch.invoke\u001B[0;34m(self, input, config, **kwargs)\u001B[0m\n\u001B[1;32m    220\u001B[0m     expression_value \u001B[38;5;241m=\u001B[39m condition\u001B[38;5;241m.\u001B[39minvoke(\n\u001B[1;32m    221\u001B[0m         \u001B[38;5;28minput\u001B[39m,\n\u001B[1;32m    222\u001B[0m         config\u001B[38;5;241m=\u001B[39mpatch_config(\n\u001B[0;32m   (...)\u001B[0m\n\u001B[1;32m    225\u001B[0m         ),\n\u001B[1;32m    226\u001B[0m     )\n\u001B[1;32m    228\u001B[0m     \u001B[38;5;28;01mif\u001B[39;00m expression_value:\n\u001B[0;32m--> 229\u001B[0m         output \u001B[38;5;241m=\u001B[39m runnable\u001B[38;5;241m.\u001B[39minvoke(\n\u001B[1;32m    230\u001B[0m             \u001B[38;5;28minput\u001B[39m,\n\u001B[1;32m    231\u001B[0m             config\u001B[38;5;241m=\u001B[39mpatch_config(\n\u001B[1;32m    232\u001B[0m                 config,\n\u001B[1;32m    233\u001B[0m                 callbacks\u001B[38;5;241m=\u001B[39mrun_manager\u001B[38;5;241m.\u001B[39mget_child(tag\u001B[38;5;241m=\u001B[39m\u001B[38;5;124mf\u001B[39m\u001B[38;5;124m\"\u001B[39m\u001B[38;5;124mbranch:\u001B[39m\u001B[38;5;132;01m{\u001B[39;00midx\u001B[38;5;250m \u001B[39m\u001B[38;5;241m+\u001B[39m\u001B[38;5;250m \u001B[39m\u001B[38;5;241m1\u001B[39m\u001B[38;5;132;01m}\u001B[39;00m\u001B[38;5;124m\"\u001B[39m),\n\u001B[1;32m    234\u001B[0m             ),\n\u001B[1;32m    235\u001B[0m             \u001B[38;5;241m*\u001B[39m\u001B[38;5;241m*\u001B[39mkwargs,\n\u001B[1;32m    236\u001B[0m         )\n\u001B[1;32m    237\u001B[0m         \u001B[38;5;28;01mbreak\u001B[39;00m\n\u001B[1;32m    238\u001B[0m \u001B[38;5;28;01melse\u001B[39;00m:\n",
      "File \u001B[0;32m~/GIT/Interstellar/SB-AI-DEV/DL/Udemy/Generative-AI/Krish Naik/SUBHASISH BISWAS/Langchain Projects/venv/lib/python3.11/site-packages/langchain_core/runnables/base.py:2878\u001B[0m, in \u001B[0;36mRunnableSequence.invoke\u001B[0;34m(self, input, config, **kwargs)\u001B[0m\n\u001B[1;32m   2876\u001B[0m             \u001B[38;5;28minput\u001B[39m \u001B[38;5;241m=\u001B[39m context\u001B[38;5;241m.\u001B[39mrun(step\u001B[38;5;241m.\u001B[39minvoke, \u001B[38;5;28minput\u001B[39m, config, \u001B[38;5;241m*\u001B[39m\u001B[38;5;241m*\u001B[39mkwargs)\n\u001B[1;32m   2877\u001B[0m         \u001B[38;5;28;01melse\u001B[39;00m:\n\u001B[0;32m-> 2878\u001B[0m             \u001B[38;5;28minput\u001B[39m \u001B[38;5;241m=\u001B[39m context\u001B[38;5;241m.\u001B[39mrun(step\u001B[38;5;241m.\u001B[39minvoke, \u001B[38;5;28minput\u001B[39m, config)\n\u001B[1;32m   2879\u001B[0m \u001B[38;5;66;03m# finish the root run\u001B[39;00m\n\u001B[1;32m   2880\u001B[0m \u001B[38;5;28;01mexcept\u001B[39;00m \u001B[38;5;167;01mBaseException\u001B[39;00m \u001B[38;5;28;01mas\u001B[39;00m e:\n",
      "File \u001B[0;32m~/GIT/Interstellar/SB-AI-DEV/DL/Udemy/Generative-AI/Krish Naik/SUBHASISH BISWAS/Langchain Projects/venv/lib/python3.11/site-packages/langchain_core/retrievers.py:253\u001B[0m, in \u001B[0;36mBaseRetriever.invoke\u001B[0;34m(self, input, config, **kwargs)\u001B[0m\n\u001B[1;32m    251\u001B[0m \u001B[38;5;28;01mexcept\u001B[39;00m \u001B[38;5;167;01mException\u001B[39;00m \u001B[38;5;28;01mas\u001B[39;00m e:\n\u001B[1;32m    252\u001B[0m     run_manager\u001B[38;5;241m.\u001B[39mon_retriever_error(e)\n\u001B[0;32m--> 253\u001B[0m     \u001B[38;5;28;01mraise\u001B[39;00m e\n\u001B[1;32m    254\u001B[0m \u001B[38;5;28;01melse\u001B[39;00m:\n\u001B[1;32m    255\u001B[0m     run_manager\u001B[38;5;241m.\u001B[39mon_retriever_end(\n\u001B[1;32m    256\u001B[0m         result,\n\u001B[1;32m    257\u001B[0m     )\n",
      "File \u001B[0;32m~/GIT/Interstellar/SB-AI-DEV/DL/Udemy/Generative-AI/Krish Naik/SUBHASISH BISWAS/Langchain Projects/venv/lib/python3.11/site-packages/langchain_core/retrievers.py:246\u001B[0m, in \u001B[0;36mBaseRetriever.invoke\u001B[0;34m(self, input, config, **kwargs)\u001B[0m\n\u001B[1;32m    244\u001B[0m _kwargs \u001B[38;5;241m=\u001B[39m kwargs \u001B[38;5;28;01mif\u001B[39;00m \u001B[38;5;28mself\u001B[39m\u001B[38;5;241m.\u001B[39m_expects_other_args \u001B[38;5;28;01melse\u001B[39;00m {}\n\u001B[1;32m    245\u001B[0m \u001B[38;5;28;01mif\u001B[39;00m \u001B[38;5;28mself\u001B[39m\u001B[38;5;241m.\u001B[39m_new_arg_supported:\n\u001B[0;32m--> 246\u001B[0m     result \u001B[38;5;241m=\u001B[39m \u001B[38;5;28mself\u001B[39m\u001B[38;5;241m.\u001B[39m_get_relevant_documents(\n\u001B[1;32m    247\u001B[0m         \u001B[38;5;28minput\u001B[39m, run_manager\u001B[38;5;241m=\u001B[39mrun_manager, \u001B[38;5;241m*\u001B[39m\u001B[38;5;241m*\u001B[39m_kwargs\n\u001B[1;32m    248\u001B[0m     )\n\u001B[1;32m    249\u001B[0m \u001B[38;5;28;01melse\u001B[39;00m:\n\u001B[1;32m    250\u001B[0m     result \u001B[38;5;241m=\u001B[39m \u001B[38;5;28mself\u001B[39m\u001B[38;5;241m.\u001B[39m_get_relevant_documents(\u001B[38;5;28minput\u001B[39m, \u001B[38;5;241m*\u001B[39m\u001B[38;5;241m*\u001B[39m_kwargs)\n",
      "File \u001B[0;32m~/GIT/Interstellar/SB-AI-DEV/DL/Udemy/Generative-AI/Krish Naik/SUBHASISH BISWAS/Langchain Projects/venv/lib/python3.11/site-packages/langchain_core/vectorstores/base.py:1042\u001B[0m, in \u001B[0;36mVectorStoreRetriever._get_relevant_documents\u001B[0;34m(self, query, run_manager)\u001B[0m\n\u001B[1;32m   1038\u001B[0m \u001B[38;5;28;01mdef\u001B[39;00m \u001B[38;5;21m_get_relevant_documents\u001B[39m(\n\u001B[1;32m   1039\u001B[0m     \u001B[38;5;28mself\u001B[39m, query: \u001B[38;5;28mstr\u001B[39m, \u001B[38;5;241m*\u001B[39m, run_manager: CallbackManagerForRetrieverRun\n\u001B[1;32m   1040\u001B[0m ) \u001B[38;5;241m-\u001B[39m\u001B[38;5;241m>\u001B[39m List[Document]:\n\u001B[1;32m   1041\u001B[0m     \u001B[38;5;28;01mif\u001B[39;00m \u001B[38;5;28mself\u001B[39m\u001B[38;5;241m.\u001B[39msearch_type \u001B[38;5;241m==\u001B[39m \u001B[38;5;124m\"\u001B[39m\u001B[38;5;124msimilarity\u001B[39m\u001B[38;5;124m\"\u001B[39m:\n\u001B[0;32m-> 1042\u001B[0m         docs \u001B[38;5;241m=\u001B[39m \u001B[38;5;28mself\u001B[39m\u001B[38;5;241m.\u001B[39mvectorstore\u001B[38;5;241m.\u001B[39msimilarity_search(query, \u001B[38;5;241m*\u001B[39m\u001B[38;5;241m*\u001B[39m\u001B[38;5;28mself\u001B[39m\u001B[38;5;241m.\u001B[39msearch_kwargs)\n\u001B[1;32m   1043\u001B[0m     \u001B[38;5;28;01melif\u001B[39;00m \u001B[38;5;28mself\u001B[39m\u001B[38;5;241m.\u001B[39msearch_type \u001B[38;5;241m==\u001B[39m \u001B[38;5;124m\"\u001B[39m\u001B[38;5;124msimilarity_score_threshold\u001B[39m\u001B[38;5;124m\"\u001B[39m:\n\u001B[1;32m   1044\u001B[0m         docs_and_similarities \u001B[38;5;241m=\u001B[39m (\n\u001B[1;32m   1045\u001B[0m             \u001B[38;5;28mself\u001B[39m\u001B[38;5;241m.\u001B[39mvectorstore\u001B[38;5;241m.\u001B[39msimilarity_search_with_relevance_scores(\n\u001B[1;32m   1046\u001B[0m                 query, \u001B[38;5;241m*\u001B[39m\u001B[38;5;241m*\u001B[39m\u001B[38;5;28mself\u001B[39m\u001B[38;5;241m.\u001B[39msearch_kwargs\n\u001B[1;32m   1047\u001B[0m             )\n\u001B[1;32m   1048\u001B[0m         )\n",
      "File \u001B[0;32m~/GIT/Interstellar/SB-AI-DEV/DL/Udemy/Generative-AI/Krish Naik/SUBHASISH BISWAS/Langchain Projects/venv/lib/python3.11/site-packages/langchain_community/vectorstores/faiss.py:641\u001B[0m, in \u001B[0;36mFAISS.similarity_search\u001B[0;34m(self, query, k, filter, fetch_k, **kwargs)\u001B[0m\n\u001B[1;32m    621\u001B[0m \u001B[38;5;28;01mdef\u001B[39;00m \u001B[38;5;21msimilarity_search\u001B[39m(\n\u001B[1;32m    622\u001B[0m     \u001B[38;5;28mself\u001B[39m,\n\u001B[1;32m    623\u001B[0m     query: \u001B[38;5;28mstr\u001B[39m,\n\u001B[0;32m   (...)\u001B[0m\n\u001B[1;32m    627\u001B[0m     \u001B[38;5;241m*\u001B[39m\u001B[38;5;241m*\u001B[39mkwargs: Any,\n\u001B[1;32m    628\u001B[0m ) \u001B[38;5;241m-\u001B[39m\u001B[38;5;241m>\u001B[39m List[Document]:\n\u001B[1;32m    629\u001B[0m \u001B[38;5;250m    \u001B[39m\u001B[38;5;124;03m\"\"\"Return docs most similar to query.\u001B[39;00m\n\u001B[1;32m    630\u001B[0m \n\u001B[1;32m    631\u001B[0m \u001B[38;5;124;03m    Args:\u001B[39;00m\n\u001B[0;32m   (...)\u001B[0m\n\u001B[1;32m    639\u001B[0m \u001B[38;5;124;03m        List of Documents most similar to the query.\u001B[39;00m\n\u001B[1;32m    640\u001B[0m \u001B[38;5;124;03m    \"\"\"\u001B[39;00m\n\u001B[0;32m--> 641\u001B[0m     docs_and_scores \u001B[38;5;241m=\u001B[39m \u001B[38;5;28mself\u001B[39m\u001B[38;5;241m.\u001B[39msimilarity_search_with_score(\n\u001B[1;32m    642\u001B[0m         query, k, \u001B[38;5;28mfilter\u001B[39m\u001B[38;5;241m=\u001B[39m\u001B[38;5;28mfilter\u001B[39m, fetch_k\u001B[38;5;241m=\u001B[39mfetch_k, \u001B[38;5;241m*\u001B[39m\u001B[38;5;241m*\u001B[39mkwargs\n\u001B[1;32m    643\u001B[0m     )\n\u001B[1;32m    644\u001B[0m     \u001B[38;5;28;01mreturn\u001B[39;00m [doc \u001B[38;5;28;01mfor\u001B[39;00m doc, _ \u001B[38;5;129;01min\u001B[39;00m docs_and_scores]\n",
      "File \u001B[0;32m~/GIT/Interstellar/SB-AI-DEV/DL/Udemy/Generative-AI/Krish Naik/SUBHASISH BISWAS/Langchain Projects/venv/lib/python3.11/site-packages/langchain_community/vectorstores/faiss.py:514\u001B[0m, in \u001B[0;36mFAISS.similarity_search_with_score\u001B[0;34m(self, query, k, filter, fetch_k, **kwargs)\u001B[0m\n\u001B[1;32m    497\u001B[0m \u001B[38;5;250m\u001B[39m\u001B[38;5;124;03m\"\"\"Return docs most similar to query.\u001B[39;00m\n\u001B[1;32m    498\u001B[0m \n\u001B[1;32m    499\u001B[0m \u001B[38;5;124;03mArgs:\u001B[39;00m\n\u001B[0;32m   (...)\u001B[0m\n\u001B[1;32m    511\u001B[0m \u001B[38;5;124;03m    L2 distance in float. Lower score represents more similarity.\u001B[39;00m\n\u001B[1;32m    512\u001B[0m \u001B[38;5;124;03m\"\"\"\u001B[39;00m\n\u001B[1;32m    513\u001B[0m embedding \u001B[38;5;241m=\u001B[39m \u001B[38;5;28mself\u001B[39m\u001B[38;5;241m.\u001B[39m_embed_query(query)\n\u001B[0;32m--> 514\u001B[0m docs \u001B[38;5;241m=\u001B[39m \u001B[38;5;28mself\u001B[39m\u001B[38;5;241m.\u001B[39msimilarity_search_with_score_by_vector(\n\u001B[1;32m    515\u001B[0m     embedding,\n\u001B[1;32m    516\u001B[0m     k,\n\u001B[1;32m    517\u001B[0m     \u001B[38;5;28mfilter\u001B[39m\u001B[38;5;241m=\u001B[39m\u001B[38;5;28mfilter\u001B[39m,\n\u001B[1;32m    518\u001B[0m     fetch_k\u001B[38;5;241m=\u001B[39mfetch_k,\n\u001B[1;32m    519\u001B[0m     \u001B[38;5;241m*\u001B[39m\u001B[38;5;241m*\u001B[39mkwargs,\n\u001B[1;32m    520\u001B[0m )\n\u001B[1;32m    521\u001B[0m \u001B[38;5;28;01mreturn\u001B[39;00m docs\n",
      "File \u001B[0;32m~/GIT/Interstellar/SB-AI-DEV/DL/Udemy/Generative-AI/Krish Naik/SUBHASISH BISWAS/Langchain Projects/venv/lib/python3.11/site-packages/langchain_community/vectorstores/faiss.py:415\u001B[0m, in \u001B[0;36mFAISS.similarity_search_with_score_by_vector\u001B[0;34m(self, embedding, k, filter, fetch_k, **kwargs)\u001B[0m\n\u001B[1;32m    413\u001B[0m \u001B[38;5;28;01mif\u001B[39;00m \u001B[38;5;28mself\u001B[39m\u001B[38;5;241m.\u001B[39m_normalize_L2:\n\u001B[1;32m    414\u001B[0m     faiss\u001B[38;5;241m.\u001B[39mnormalize_L2(vector)\n\u001B[0;32m--> 415\u001B[0m scores, indices \u001B[38;5;241m=\u001B[39m \u001B[38;5;28mself\u001B[39m\u001B[38;5;241m.\u001B[39mindex\u001B[38;5;241m.\u001B[39msearch(vector, k \u001B[38;5;28;01mif\u001B[39;00m \u001B[38;5;28mfilter\u001B[39m \u001B[38;5;129;01mis\u001B[39;00m \u001B[38;5;28;01mNone\u001B[39;00m \u001B[38;5;28;01melse\u001B[39;00m fetch_k)\n\u001B[1;32m    416\u001B[0m docs \u001B[38;5;241m=\u001B[39m []\n\u001B[1;32m    418\u001B[0m \u001B[38;5;28;01mif\u001B[39;00m \u001B[38;5;28mfilter\u001B[39m \u001B[38;5;129;01mis\u001B[39;00m \u001B[38;5;129;01mnot\u001B[39;00m \u001B[38;5;28;01mNone\u001B[39;00m:\n",
      "File \u001B[0;32m~/GIT/Interstellar/SB-AI-DEV/DL/Udemy/Generative-AI/Krish Naik/SUBHASISH BISWAS/Langchain Projects/venv/lib/python3.11/site-packages/faiss/class_wrappers.py:327\u001B[0m, in \u001B[0;36mhandle_Index.<locals>.replacement_search\u001B[0;34m(self, x, k, params, D, I)\u001B[0m\n\u001B[1;32m    300\u001B[0m \u001B[38;5;28;01mdef\u001B[39;00m \u001B[38;5;21mreplacement_search\u001B[39m(\u001B[38;5;28mself\u001B[39m, x, k, \u001B[38;5;241m*\u001B[39m, params\u001B[38;5;241m=\u001B[39m\u001B[38;5;28;01mNone\u001B[39;00m, D\u001B[38;5;241m=\u001B[39m\u001B[38;5;28;01mNone\u001B[39;00m, I\u001B[38;5;241m=\u001B[39m\u001B[38;5;28;01mNone\u001B[39;00m):\n\u001B[1;32m    301\u001B[0m \u001B[38;5;250m    \u001B[39m\u001B[38;5;124;03m\"\"\"Find the k nearest neighbors of the set of vectors x in the index.\u001B[39;00m\n\u001B[1;32m    302\u001B[0m \n\u001B[1;32m    303\u001B[0m \u001B[38;5;124;03m    Parameters\u001B[39;00m\n\u001B[0;32m   (...)\u001B[0m\n\u001B[1;32m    324\u001B[0m \u001B[38;5;124;03m        When not enough results are found, the label is set to -1\u001B[39;00m\n\u001B[1;32m    325\u001B[0m \u001B[38;5;124;03m    \"\"\"\u001B[39;00m\n\u001B[0;32m--> 327\u001B[0m     n, d \u001B[38;5;241m=\u001B[39m x\u001B[38;5;241m.\u001B[39mshape\n\u001B[1;32m    328\u001B[0m     x \u001B[38;5;241m=\u001B[39m np\u001B[38;5;241m.\u001B[39mascontiguousarray(x, dtype\u001B[38;5;241m=\u001B[39m\u001B[38;5;124m'\u001B[39m\u001B[38;5;124mfloat32\u001B[39m\u001B[38;5;124m'\u001B[39m)\n\u001B[1;32m    329\u001B[0m     \u001B[38;5;28;01massert\u001B[39;00m d \u001B[38;5;241m==\u001B[39m \u001B[38;5;28mself\u001B[39m\u001B[38;5;241m.\u001B[39md\n",
      "\u001B[0;31mValueError\u001B[0m: too many values to unpack (expected 2)"
     ]
    }
   ],
   "execution_count": 55
  },
  {
   "metadata": {
    "ExecuteTime": {
     "end_time": "2024-09-13T10:58:31.698205Z",
     "start_time": "2024-09-13T10:58:31.691989Z"
    }
   },
   "cell_type": "code",
   "source": "chat_history.clear()",
   "id": "c3eacdd9a4edbb8e",
   "outputs": [],
   "execution_count": 25
  },
  {
   "metadata": {
    "ExecuteTime": {
     "end_time": "2024-09-13T10:58:31.813127Z",
     "start_time": "2024-09-13T10:58:31.809709Z"
    }
   },
   "cell_type": "code",
   "source": "",
   "id": "6a0ae6d49ab564bf",
   "outputs": [],
   "execution_count": null
  }
 ],
 "metadata": {
  "kernelspec": {
   "display_name": "Python 3",
   "language": "python",
   "name": "python3"
  },
  "language_info": {
   "codemirror_mode": {
    "name": "ipython",
    "version": 2
   },
   "file_extension": ".py",
   "mimetype": "text/x-python",
   "name": "python",
   "nbconvert_exporter": "python",
   "pygments_lexer": "ipython2",
   "version": "2.7.6"
  }
 },
 "nbformat": 4,
 "nbformat_minor": 5
}
