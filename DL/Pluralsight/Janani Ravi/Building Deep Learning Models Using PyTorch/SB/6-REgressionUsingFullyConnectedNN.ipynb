{
 "cells": [
  {
   "cell_type": "code",
   "execution_count": 25,
   "metadata": {},
   "outputs": [],
   "source": [
    "import pandas as pd\n",
    "import numpy as np"
   ]
  },
  {
   "cell_type": "code",
   "execution_count": 26,
   "metadata": {},
   "outputs": [],
   "source": [
    "automobile_data = pd.read_csv('Dataset/Automobile_data.csv', \n",
    "                              sep=r'\\s*,\\s*', \n",
    "                              engine='python')"
   ]
  },
  {
   "cell_type": "code",
   "execution_count": 27,
   "metadata": {},
   "outputs": [
    {
     "name": "stdout",
     "output_type": "stream",
     "text": [
      "╔════╦═════════════╦═════════════════════╦═════════════╦═════════════╦══════════════╦════════════════╦══════════════╦════════════════╦═══════════════════╦══════════════╦══════════╦═════════╦══════════╦═══════════════╦═══════════════╦════════════════════╦═══════════════╦═══════════════╦════════╦══════════╦═════════════════════╦══════════════╦════════════╦════════════╦═══════════════╦═════════╗\n",
      "║    ║   symboling ║ normalized-losses   ║ make        ║ fuel-type   ║ aspiration   ║ num-of-doors   ║ body-style   ║ drive-wheels   ║ engine-location   ║   wheel-base ║   length ║   width ║   height ║   curb-weight ║ engine-type   ║ num-of-cylinders   ║   engine-size ║ fuel-system   ║   bore ║   stroke ║   compression-ratio ║   horsepower ║   peak-rpm ║   city-mpg ║   highway-mpg ║   price ║\n",
      "╠════╬═════════════╬═════════════════════╬═════════════╬═════════════╬══════════════╬════════════════╬══════════════╬════════════════╬═══════════════════╬══════════════╬══════════╬═════════╬══════════╬═══════════════╬═══════════════╬════════════════════╬═══════════════╬═══════════════╬════════╬══════════╬═════════════════════╬══════════════╬════════════╬════════════╬═══════════════╬═════════╣\n",
      "║  0 ║           3 ║ ?                   ║ alfa-romero ║ gas         ║ std          ║ two            ║ convertible  ║ rwd            ║ front             ║         88.6 ║    168.8 ║    64.1 ║     48.8 ║          2548 ║ dohc          ║ four               ║           130 ║ mpfi          ║   3.47 ║     2.68 ║                   9 ║          111 ║       5000 ║         21 ║            27 ║   13495 ║\n",
      "╠════╬═════════════╬═════════════════════╬═════════════╬═════════════╬══════════════╬════════════════╬══════════════╬════════════════╬═══════════════════╬══════════════╬══════════╬═════════╬══════════╬═══════════════╬═══════════════╬════════════════════╬═══════════════╬═══════════════╬════════╬══════════╬═════════════════════╬══════════════╬════════════╬════════════╬═══════════════╬═════════╣\n",
      "║  1 ║           3 ║ ?                   ║ alfa-romero ║ gas         ║ std          ║ two            ║ convertible  ║ rwd            ║ front             ║         88.6 ║    168.8 ║    64.1 ║     48.8 ║          2548 ║ dohc          ║ four               ║           130 ║ mpfi          ║   3.47 ║     2.68 ║                   9 ║          111 ║       5000 ║         21 ║            27 ║   16500 ║\n",
      "╠════╬═════════════╬═════════════════════╬═════════════╬═════════════╬══════════════╬════════════════╬══════════════╬════════════════╬═══════════════════╬══════════════╬══════════╬═════════╬══════════╬═══════════════╬═══════════════╬════════════════════╬═══════════════╬═══════════════╬════════╬══════════╬═════════════════════╬══════════════╬════════════╬════════════╬═══════════════╬═════════╣\n",
      "║  2 ║           1 ║ ?                   ║ alfa-romero ║ gas         ║ std          ║ two            ║ hatchback    ║ rwd            ║ front             ║         94.5 ║    171.2 ║    65.5 ║     52.4 ║          2823 ║ ohcv          ║ six                ║           152 ║ mpfi          ║   2.68 ║     3.47 ║                   9 ║          154 ║       5000 ║         19 ║            26 ║   16500 ║\n",
      "╠════╬═════════════╬═════════════════════╬═════════════╬═════════════╬══════════════╬════════════════╬══════════════╬════════════════╬═══════════════════╬══════════════╬══════════╬═════════╬══════════╬═══════════════╬═══════════════╬════════════════════╬═══════════════╬═══════════════╬════════╬══════════╬═════════════════════╬══════════════╬════════════╬════════════╬═══════════════╬═════════╣\n",
      "║  3 ║           2 ║ 164                 ║ audi        ║ gas         ║ std          ║ four           ║ sedan        ║ fwd            ║ front             ║         99.8 ║    176.6 ║    66.2 ║     54.3 ║          2337 ║ ohc           ║ four               ║           109 ║ mpfi          ║   3.19 ║     3.4  ║                  10 ║          102 ║       5500 ║         24 ║            30 ║   13950 ║\n",
      "╠════╬═════════════╬═════════════════════╬═════════════╬═════════════╬══════════════╬════════════════╬══════════════╬════════════════╬═══════════════════╬══════════════╬══════════╬═════════╬══════════╬═══════════════╬═══════════════╬════════════════════╬═══════════════╬═══════════════╬════════╬══════════╬═════════════════════╬══════════════╬════════════╬════════════╬═══════════════╬═════════╣\n",
      "║  4 ║           2 ║ 164                 ║ audi        ║ gas         ║ std          ║ four           ║ sedan        ║ 4wd            ║ front             ║         99.4 ║    176.6 ║    66.4 ║     54.3 ║          2824 ║ ohc           ║ five               ║           136 ║ mpfi          ║   3.19 ║     3.4  ║                   8 ║          115 ║       5500 ║         18 ║            22 ║   17450 ║\n",
      "╚════╩═════════════╩═════════════════════╩═════════════╩═════════════╩══════════════╩════════════════╩══════════════╩════════════════╩═══════════════════╩══════════════╩══════════╩═════════╩══════════╩═══════════════╩═══════════════╩════════════════════╩═══════════════╩═══════════════╩════════╩══════════╩═════════════════════╩══════════════╩════════════╩════════════╩═══════════════╩═════════╝\n"
     ]
    }
   ],
   "source": [
    "'''\n",
    "This contains different makes and models of cars and a variety of \n",
    "features about each of these cars, such as the fuel system, engine size, \n",
    "compression ratio, horsepower, and so on. Any dataset from the real world \n",
    "is likely to have some missing fields. \n",
    "\n",
    "In this dataset, these are represented by question marks. \n",
    "This dataset is useful, price prediction. The very last column here \n",
    "is the price of that particular automobile given all its features. \n",
    "'''\n",
    "DisplayMatrix(automobile_data.head())"
   ]
  },
  {
   "cell_type": "code",
   "execution_count": 28,
   "metadata": {},
   "outputs": [
    {
     "name": "stdout",
     "output_type": "stream",
     "text": [
      "╔════╦═════════════╦═════════════════════╦═════════════╦═════════════╦══════════════╦════════════════╦══════════════╦════════════════╦═══════════════════╦══════════════╦══════════╦═════════╦══════════╦═══════════════╦═══════════════╦════════════════════╦═══════════════╦═══════════════╦════════╦══════════╦═════════════════════╦══════════════╦════════════╦════════════╦═══════════════╦═════════╗\n",
      "║    ║   symboling ║   normalized-losses ║ make        ║ fuel-type   ║ aspiration   ║ num-of-doors   ║ body-style   ║ drive-wheels   ║ engine-location   ║   wheel-base ║   length ║   width ║   height ║   curb-weight ║ engine-type   ║ num-of-cylinders   ║   engine-size ║ fuel-system   ║   bore ║   stroke ║   compression-ratio ║   horsepower ║   peak-rpm ║   city-mpg ║   highway-mpg ║   price ║\n",
      "╠════╬═════════════╬═════════════════════╬═════════════╬═════════════╬══════════════╬════════════════╬══════════════╬════════════════╬═══════════════════╬══════════════╬══════════╬═════════╬══════════╬═══════════════╬═══════════════╬════════════════════╬═══════════════╬═══════════════╬════════╬══════════╬═════════════════════╬══════════════╬════════════╬════════════╬═══════════════╬═════════╣\n",
      "║  0 ║           3 ║                 nan ║ alfa-romero ║ gas         ║ std          ║ two            ║ convertible  ║ rwd            ║ front             ║         88.6 ║    168.8 ║    64.1 ║     48.8 ║          2548 ║ dohc          ║ four               ║           130 ║ mpfi          ║   3.47 ║     2.68 ║                   9 ║          111 ║       5000 ║         21 ║            27 ║   13495 ║\n",
      "╠════╬═════════════╬═════════════════════╬═════════════╬═════════════╬══════════════╬════════════════╬══════════════╬════════════════╬═══════════════════╬══════════════╬══════════╬═════════╬══════════╬═══════════════╬═══════════════╬════════════════════╬═══════════════╬═══════════════╬════════╬══════════╬═════════════════════╬══════════════╬════════════╬════════════╬═══════════════╬═════════╣\n",
      "║  1 ║           3 ║                 nan ║ alfa-romero ║ gas         ║ std          ║ two            ║ convertible  ║ rwd            ║ front             ║         88.6 ║    168.8 ║    64.1 ║     48.8 ║          2548 ║ dohc          ║ four               ║           130 ║ mpfi          ║   3.47 ║     2.68 ║                   9 ║          111 ║       5000 ║         21 ║            27 ║   16500 ║\n",
      "╠════╬═════════════╬═════════════════════╬═════════════╬═════════════╬══════════════╬════════════════╬══════════════╬════════════════╬═══════════════════╬══════════════╬══════════╬═════════╬══════════╬═══════════════╬═══════════════╬════════════════════╬═══════════════╬═══════════════╬════════╬══════════╬═════════════════════╬══════════════╬════════════╬════════════╬═══════════════╬═════════╣\n",
      "║  2 ║           1 ║                 nan ║ alfa-romero ║ gas         ║ std          ║ two            ║ hatchback    ║ rwd            ║ front             ║         94.5 ║    171.2 ║    65.5 ║     52.4 ║          2823 ║ ohcv          ║ six                ║           152 ║ mpfi          ║   2.68 ║     3.47 ║                   9 ║          154 ║       5000 ║         19 ║            26 ║   16500 ║\n",
      "╠════╬═════════════╬═════════════════════╬═════════════╬═════════════╬══════════════╬════════════════╬══════════════╬════════════════╬═══════════════════╬══════════════╬══════════╬═════════╬══════════╬═══════════════╬═══════════════╬════════════════════╬═══════════════╬═══════════════╬════════╬══════════╬═════════════════════╬══════════════╬════════════╬════════════╬═══════════════╬═════════╣\n",
      "║  3 ║           2 ║                 164 ║ audi        ║ gas         ║ std          ║ four           ║ sedan        ║ fwd            ║ front             ║         99.8 ║    176.6 ║    66.2 ║     54.3 ║          2337 ║ ohc           ║ four               ║           109 ║ mpfi          ║   3.19 ║     3.4  ║                  10 ║          102 ║       5500 ║         24 ║            30 ║   13950 ║\n",
      "╠════╬═════════════╬═════════════════════╬═════════════╬═════════════╬══════════════╬════════════════╬══════════════╬════════════════╬═══════════════════╬══════════════╬══════════╬═════════╬══════════╬═══════════════╬═══════════════╬════════════════════╬═══════════════╬═══════════════╬════════╬══════════╬═════════════════════╬══════════════╬════════════╬════════════╬═══════════════╬═════════╣\n",
      "║  4 ║           2 ║                 164 ║ audi        ║ gas         ║ std          ║ four           ║ sedan        ║ 4wd            ║ front             ║         99.4 ║    176.6 ║    66.4 ║     54.3 ║          2824 ║ ohc           ║ five               ║           136 ║ mpfi          ║   3.19 ║     3.4  ║                   8 ║          115 ║       5500 ║         18 ║            22 ║   17450 ║\n",
      "╚════╩═════════════╩═════════════════════╩═════════════╩═════════════╩══════════════╩════════════════╩══════════════╩════════════════╩═══════════════════╩══════════════╩══════════╩═════════╩══════════╩═══════════════╩═══════════════╩════════════════════╩═══════════════╩═══════════════╩════════╩══════════╩═════════════════════╩══════════════╩════════════╩════════════╩═══════════════╩═════════╝\n"
     ]
    }
   ],
   "source": [
    "'''\n",
    "A common practice when dealing with missing data is simply to drop \n",
    "those records which have information missing. \n",
    "\n",
    "This is a technique that works for us for the simple model that \n",
    "we are building here. We'll first replace all of the question marks by np.nan. \n",
    "'''\n",
    "\n",
    "automobile_data = automobile_data.replace('?', np.nan)\n",
    "DisplayMatrix(automobile_data.head())"
   ]
  },
  {
   "cell_type": "code",
   "execution_count": 29,
   "metadata": {},
   "outputs": [
    {
     "name": "stdout",
     "output_type": "stream",
     "text": [
      "╔════╦═════════════╦═════════════════════╦════════╦═════════════╦══════════════╦════════════════╦══════════════╦════════════════╦═══════════════════╦══════════════╦══════════╦═════════╦══════════╦═══════════════╦═══════════════╦════════════════════╦═══════════════╦═══════════════╦════════╦══════════╦═════════════════════╦══════════════╦════════════╦════════════╦═══════════════╦═════════╗\n",
      "║    ║   symboling ║   normalized-losses ║ make   ║ fuel-type   ║ aspiration   ║ num-of-doors   ║ body-style   ║ drive-wheels   ║ engine-location   ║   wheel-base ║   length ║   width ║   height ║   curb-weight ║ engine-type   ║ num-of-cylinders   ║   engine-size ║ fuel-system   ║   bore ║   stroke ║   compression-ratio ║   horsepower ║   peak-rpm ║   city-mpg ║   highway-mpg ║   price ║\n",
      "╠════╬═════════════╬═════════════════════╬════════╬═════════════╬══════════════╬════════════════╬══════════════╬════════════════╬═══════════════════╬══════════════╬══════════╬═════════╬══════════╬═══════════════╬═══════════════╬════════════════════╬═══════════════╬═══════════════╬════════╬══════════╬═════════════════════╬══════════════╬════════════╬════════════╬═══════════════╬═════════╣\n",
      "║  3 ║           2 ║                 164 ║ audi   ║ gas         ║ std          ║ four           ║ sedan        ║ fwd            ║ front             ║         99.8 ║    176.6 ║    66.2 ║     54.3 ║          2337 ║ ohc           ║ four               ║           109 ║ mpfi          ║   3.19 ║      3.4 ║                10   ║          102 ║       5500 ║         24 ║            30 ║   13950 ║\n",
      "╠════╬═════════════╬═════════════════════╬════════╬═════════════╬══════════════╬════════════════╬══════════════╬════════════════╬═══════════════════╬══════════════╬══════════╬═════════╬══════════╬═══════════════╬═══════════════╬════════════════════╬═══════════════╬═══════════════╬════════╬══════════╬═════════════════════╬══════════════╬════════════╬════════════╬═══════════════╬═════════╣\n",
      "║  4 ║           2 ║                 164 ║ audi   ║ gas         ║ std          ║ four           ║ sedan        ║ 4wd            ║ front             ║         99.4 ║    176.6 ║    66.4 ║     54.3 ║          2824 ║ ohc           ║ five               ║           136 ║ mpfi          ║   3.19 ║      3.4 ║                 8   ║          115 ║       5500 ║         18 ║            22 ║   17450 ║\n",
      "╠════╬═════════════╬═════════════════════╬════════╬═════════════╬══════════════╬════════════════╬══════════════╬════════════════╬═══════════════════╬══════════════╬══════════╬═════════╬══════════╬═══════════════╬═══════════════╬════════════════════╬═══════════════╬═══════════════╬════════╬══════════╬═════════════════════╬══════════════╬════════════╬════════════╬═══════════════╬═════════╣\n",
      "║  6 ║           1 ║                 158 ║ audi   ║ gas         ║ std          ║ four           ║ sedan        ║ fwd            ║ front             ║        105.8 ║    192.7 ║    71.4 ║     55.7 ║          2844 ║ ohc           ║ five               ║           136 ║ mpfi          ║   3.19 ║      3.4 ║                 8.5 ║          110 ║       5500 ║         19 ║            25 ║   17710 ║\n",
      "╠════╬═════════════╬═════════════════════╬════════╬═════════════╬══════════════╬════════════════╬══════════════╬════════════════╬═══════════════════╬══════════════╬══════════╬═════════╬══════════╬═══════════════╬═══════════════╬════════════════════╬═══════════════╬═══════════════╬════════╬══════════╬═════════════════════╬══════════════╬════════════╬════════════╬═══════════════╬═════════╣\n",
      "║  8 ║           1 ║                 158 ║ audi   ║ gas         ║ turbo        ║ four           ║ sedan        ║ fwd            ║ front             ║        105.8 ║    192.7 ║    71.4 ║     55.9 ║          3086 ║ ohc           ║ five               ║           131 ║ mpfi          ║   3.13 ║      3.4 ║                 8.3 ║          140 ║       5500 ║         17 ║            20 ║   23875 ║\n",
      "╠════╬═════════════╬═════════════════════╬════════╬═════════════╬══════════════╬════════════════╬══════════════╬════════════════╬═══════════════════╬══════════════╬══════════╬═════════╬══════════╬═══════════════╬═══════════════╬════════════════════╬═══════════════╬═══════════════╬════════╬══════════╬═════════════════════╬══════════════╬════════════╬════════════╬═══════════════╬═════════╣\n",
      "║ 10 ║           2 ║                 192 ║ bmw    ║ gas         ║ std          ║ two            ║ sedan        ║ rwd            ║ front             ║        101.2 ║    176.8 ║    64.8 ║     54.3 ║          2395 ║ ohc           ║ four               ║           108 ║ mpfi          ║   3.5  ║      2.8 ║                 8.8 ║          101 ║       5800 ║         23 ║            29 ║   16430 ║\n",
      "╚════╩═════════════╩═════════════════════╩════════╩═════════════╩══════════════╩════════════════╩══════════════╩════════════════╩═══════════════════╩══════════════╩══════════╩═════════╩══════════╩═══════════════╩═══════════════╩════════════════════╩═══════════════╩═══════════════╩════════╩══════════╩═════════════════════╩══════════════╩════════════╩════════════╩═══════════════╩═════════╝\n"
     ]
    }
   ],
   "source": [
    "'''\n",
    " The next step is to drop those records which have missing fields and \n",
    " this can now be done easily in Pandas using the drop any function. \n",
    " \n",
    " Our dataset now contains only those records which have values for all columns.\n",
    "'''\n",
    "\n",
    "automobile_data=automobile_data.dropna()\n",
    "DisplayMatrix(automobile_data.head())"
   ]
  },
  {
   "cell_type": "code",
   "execution_count": 30,
   "metadata": {},
   "outputs": [
    {
     "name": "stdout",
     "output_type": "stream",
     "text": [
      "╔════╦════════╦═════════════╦══════════════╦══════════════╗\n",
      "║    ║ make   ║ fuel-type   ║ body-style   ║   horsepower ║\n",
      "╠════╬════════╬═════════════╬══════════════╬══════════════╣\n",
      "║  3 ║ audi   ║ gas         ║ sedan        ║          102 ║\n",
      "╠════╬════════╬═════════════╬══════════════╬══════════════╣\n",
      "║  4 ║ audi   ║ gas         ║ sedan        ║          115 ║\n",
      "╠════╬════════╬═════════════╬══════════════╬══════════════╣\n",
      "║  6 ║ audi   ║ gas         ║ sedan        ║          110 ║\n",
      "╠════╬════════╬═════════════╬══════════════╬══════════════╣\n",
      "║  8 ║ audi   ║ gas         ║ sedan        ║          140 ║\n",
      "╠════╬════════╬═════════════╬══════════════╬══════════════╣\n",
      "║ 10 ║ bmw    ║ gas         ║ sedan        ║          101 ║\n",
      "╚════╩════════╩═════════════╩══════════════╩══════════════╝\n"
     ]
    }
   ],
   "source": [
    "'''\n",
    "we are going to make use of just four features, the make, fuel type, body style, \n",
    "and horsepower. Let's say we expect these to affect the price of the car the most.\n",
    "\n",
    "Now in the real world, you'll probably perform some exploratory \n",
    "analysis to see what features are most significant. \n",
    "'''\n",
    "col = ['make', 'fuel-type', 'body-style', 'horsepower']\n",
    "automobile_features = automobile_data[col]\n",
    "DisplayMatrix(automobile_features.head())"
   ]
  },
  {
   "cell_type": "code",
   "execution_count": 31,
   "metadata": {},
   "outputs": [
    {
     "name": "stdout",
     "output_type": "stream",
     "text": [
      "╔════╦═════════╗\n",
      "║    ║   price ║\n",
      "╠════╬═════════╣\n",
      "║  3 ║   13950 ║\n",
      "╠════╬═════════╣\n",
      "║  4 ║   17450 ║\n",
      "╠════╬═════════╣\n",
      "║  6 ║   17710 ║\n",
      "╠════╬═════════╣\n",
      "║  8 ║   23875 ║\n",
      "╠════╬═════════╣\n",
      "║ 10 ║   16430 ║\n",
      "╚════╩═════════╝\n"
     ]
    }
   ],
   "source": [
    "'''\n",
    "hese are the features, or Xvalues, the target, or Ylabels is the \n",
    "automobile price and we extract that into the automobile_target dataframe.\n",
    "'''\n",
    "\n",
    "automobile_target = automobile_data[['price']]\n",
    "DisplayMatrix(automobile_target.head())\n"
   ]
  },
  {
   "cell_type": "code",
   "execution_count": 32,
   "metadata": {},
   "outputs": [
    {
     "data": {
      "text/plain": [
       "count     159\n",
       "unique     48\n",
       "top        68\n",
       "freq       18\n",
       "Name: horsepower, dtype: object"
      ]
     },
     "execution_count": 32,
     "metadata": {},
     "output_type": "execute_result"
    }
   ],
   "source": [
    "'''\n",
    "All of the fields that we've read into this Pandas data frame are in the \n",
    "string format. \n",
    "\n",
    "So if you take a look at the horsepower by calling the describe function \n",
    "of the horsepower column, you can see that there are 159 unique values. \n",
    "\n",
    "Horsepower, however, is a numeric value and has numeric meaning \n",
    "so we need to convert it to numeric form. \n",
    "'''\n",
    "\n",
    "automobile_features['horsepower'].describe()"
   ]
  },
  {
   "cell_type": "code",
   "execution_count": 33,
   "metadata": {},
   "outputs": [],
   "source": [
    "'''\n",
    "we'll turn off a certain warning that Pandas throws up, \n",
    "the SettingWithCopyWarning, which warns of unpredictable results when \n",
    "we perform chained assignments on our data frame. \n",
    "'''\n",
    "pd.options.mode.chained_assignment=None"
   ]
  },
  {
   "cell_type": "code",
   "execution_count": 34,
   "metadata": {},
   "outputs": [
    {
     "data": {
      "text/plain": [
       "count    159.000000\n",
       "mean      95.836478\n",
       "std       30.718583\n",
       "min       48.000000\n",
       "25%       69.000000\n",
       "50%       88.000000\n",
       "75%      114.000000\n",
       "max      200.000000\n",
       "Name: horsepower, dtype: float64"
      ]
     },
     "execution_count": 34,
     "metadata": {},
     "output_type": "execute_result"
    }
   ],
   "source": [
    "'''\n",
    "We'll then use the pd. to_numeric function in order to convert the \n",
    "horsepower field to a numeric form. \n",
    "\n",
    "If you now run the describe function on the horsepower column, \n",
    "you'll get statistics for numeric data, mean, median, standard deviation, \n",
    "and so on.\n",
    "'''\n",
    "automobile_features['horsepower'] = \\\n",
    "                pd.to_numeric(automobile_features['horsepower'])\n",
    "automobile_features['horsepower'].describe()"
   ]
  },
  {
   "cell_type": "code",
   "execution_count": 35,
   "metadata": {},
   "outputs": [
    {
     "data": {
      "text/plain": [
       "count      159\n",
       "unique     145\n",
       "top       8845\n",
       "freq         2\n",
       "Name: price, dtype: object"
      ]
     },
     "execution_count": 35,
     "metadata": {},
     "output_type": "execute_result"
    }
   ],
   "source": [
    "'''\n",
    "Similarly, the price column in our automobile target data frame is also in \n",
    "a string format. \n",
    "'''\n",
    "automobile_target['price'].describe()"
   ]
  },
  {
   "cell_type": "code",
   "execution_count": 36,
   "metadata": {},
   "outputs": [
    {
     "data": {
      "text/html": [
       "<div>\n",
       "<style scoped>\n",
       "    .dataframe tbody tr th:only-of-type {\n",
       "        vertical-align: middle;\n",
       "    }\n",
       "\n",
       "    .dataframe tbody tr th {\n",
       "        vertical-align: top;\n",
       "    }\n",
       "\n",
       "    .dataframe thead th {\n",
       "        text-align: right;\n",
       "    }\n",
       "</style>\n",
       "<table border=\"1\" class=\"dataframe\">\n",
       "  <thead>\n",
       "    <tr style=\"text-align: right;\">\n",
       "      <th></th>\n",
       "      <th>price</th>\n",
       "    </tr>\n",
       "  </thead>\n",
       "  <tbody>\n",
       "    <tr>\n",
       "      <th>count</th>\n",
       "      <td>159.000000</td>\n",
       "    </tr>\n",
       "    <tr>\n",
       "      <th>mean</th>\n",
       "      <td>11445.729560</td>\n",
       "    </tr>\n",
       "    <tr>\n",
       "      <th>std</th>\n",
       "      <td>5877.856195</td>\n",
       "    </tr>\n",
       "    <tr>\n",
       "      <th>min</th>\n",
       "      <td>5118.000000</td>\n",
       "    </tr>\n",
       "    <tr>\n",
       "      <th>25%</th>\n",
       "      <td>7372.000000</td>\n",
       "    </tr>\n",
       "    <tr>\n",
       "      <th>50%</th>\n",
       "      <td>9233.000000</td>\n",
       "    </tr>\n",
       "    <tr>\n",
       "      <th>75%</th>\n",
       "      <td>14719.500000</td>\n",
       "    </tr>\n",
       "    <tr>\n",
       "      <th>max</th>\n",
       "      <td>35056.000000</td>\n",
       "    </tr>\n",
       "  </tbody>\n",
       "</table>\n",
       "</div>"
      ],
      "text/plain": [
       "              price\n",
       "count    159.000000\n",
       "mean   11445.729560\n",
       "std     5877.856195\n",
       "min     5118.000000\n",
       "25%     7372.000000\n",
       "50%     9233.000000\n",
       "75%    14719.500000\n",
       "max    35056.000000"
      ]
     },
     "execution_count": 36,
     "metadata": {},
     "output_type": "execute_result"
    }
   ],
   "source": [
    "'''\n",
    "We convert that to a numeric form as well by calling astype float. We're simply casting the price strings to be of type float. Run the describe function on our automobile prices and you'll see statistics for numeric values\n",
    "'''\n",
    "\n",
    "automobile_target=automobile_target.astype(float)\n",
    "automobile_target.describe()"
   ]
  },
  {
   "cell_type": "code",
   "execution_count": 37,
   "metadata": {},
   "outputs": [
    {
     "name": "stdout",
     "output_type": "stream",
     "text": [
      "╔════╦══════════════╦═════════════╦════════════╦══════════════════╦══════════════╦══════════════╦═══════════════╦══════════════╦══════════════════════╦═══════════════════╦═══════════════╦═══════════════╦═════════════════╦════════════════╦═════════════╦═══════════════╦═══════════════╦═══════════════════╦══════════════╦════════════════════╦═════════════════╦══════════════════════════╦══════════════════════╦════════════════════════╦════════════════════╦════════════════════╗\n",
      "║    ║   horsepower ║   make_audi ║   make_bmw ║   make_chevrolet ║   make_dodge ║   make_honda ║   make_jaguar ║   make_mazda ║   make_mercedes-benz ║   make_mitsubishi ║   make_nissan ║   make_peugot ║   make_plymouth ║   make_porsche ║   make_saab ║   make_subaru ║   make_toyota ║   make_volkswagen ║   make_volvo ║   fuel-type_diesel ║   fuel-type_gas ║   body-style_convertible ║   body-style_hardtop ║   body-style_hatchback ║   body-style_sedan ║   body-style_wagon ║\n",
      "╠════╬══════════════╬═════════════╬════════════╬══════════════════╬══════════════╬══════════════╬═══════════════╬══════════════╬══════════════════════╬═══════════════════╬═══════════════╬═══════════════╬═════════════════╬════════════════╬═════════════╬═══════════════╬═══════════════╬═══════════════════╬══════════════╬════════════════════╬═════════════════╬══════════════════════════╬══════════════════════╬════════════════════════╬════════════════════╬════════════════════╣\n",
      "║  3 ║          102 ║           1 ║          0 ║                0 ║            0 ║            0 ║             0 ║            0 ║                    0 ║                 0 ║             0 ║             0 ║               0 ║              0 ║           0 ║             0 ║             0 ║                 0 ║            0 ║                  0 ║               1 ║                        0 ║                    0 ║                      0 ║                  1 ║                  0 ║\n",
      "╠════╬══════════════╬═════════════╬════════════╬══════════════════╬══════════════╬══════════════╬═══════════════╬══════════════╬══════════════════════╬═══════════════════╬═══════════════╬═══════════════╬═════════════════╬════════════════╬═════════════╬═══════════════╬═══════════════╬═══════════════════╬══════════════╬════════════════════╬═════════════════╬══════════════════════════╬══════════════════════╬════════════════════════╬════════════════════╬════════════════════╣\n",
      "║  4 ║          115 ║           1 ║          0 ║                0 ║            0 ║            0 ║             0 ║            0 ║                    0 ║                 0 ║             0 ║             0 ║               0 ║              0 ║           0 ║             0 ║             0 ║                 0 ║            0 ║                  0 ║               1 ║                        0 ║                    0 ║                      0 ║                  1 ║                  0 ║\n",
      "╠════╬══════════════╬═════════════╬════════════╬══════════════════╬══════════════╬══════════════╬═══════════════╬══════════════╬══════════════════════╬═══════════════════╬═══════════════╬═══════════════╬═════════════════╬════════════════╬═════════════╬═══════════════╬═══════════════╬═══════════════════╬══════════════╬════════════════════╬═════════════════╬══════════════════════════╬══════════════════════╬════════════════════════╬════════════════════╬════════════════════╣\n",
      "║  6 ║          110 ║           1 ║          0 ║                0 ║            0 ║            0 ║             0 ║            0 ║                    0 ║                 0 ║             0 ║             0 ║               0 ║              0 ║           0 ║             0 ║             0 ║                 0 ║            0 ║                  0 ║               1 ║                        0 ║                    0 ║                      0 ║                  1 ║                  0 ║\n",
      "╠════╬══════════════╬═════════════╬════════════╬══════════════════╬══════════════╬══════════════╬═══════════════╬══════════════╬══════════════════════╬═══════════════════╬═══════════════╬═══════════════╬═════════════════╬════════════════╬═════════════╬═══════════════╬═══════════════╬═══════════════════╬══════════════╬════════════════════╬═════════════════╬══════════════════════════╬══════════════════════╬════════════════════════╬════════════════════╬════════════════════╣\n",
      "║  8 ║          140 ║           1 ║          0 ║                0 ║            0 ║            0 ║             0 ║            0 ║                    0 ║                 0 ║             0 ║             0 ║               0 ║              0 ║           0 ║             0 ║             0 ║                 0 ║            0 ║                  0 ║               1 ║                        0 ║                    0 ║                      0 ║                  1 ║                  0 ║\n",
      "╠════╬══════════════╬═════════════╬════════════╬══════════════════╬══════════════╬══════════════╬═══════════════╬══════════════╬══════════════════════╬═══════════════════╬═══════════════╬═══════════════╬═════════════════╬════════════════╬═════════════╬═══════════════╬═══════════════╬═══════════════════╬══════════════╬════════════════════╬═════════════════╬══════════════════════════╬══════════════════════╬════════════════════════╬════════════════════╬════════════════════╣\n",
      "║ 10 ║          101 ║           0 ║          1 ║                0 ║            0 ║            0 ║             0 ║            0 ║                    0 ║                 0 ║             0 ║             0 ║               0 ║              0 ║           0 ║             0 ║             0 ║                 0 ║            0 ║                  0 ║               1 ║                        0 ║                    0 ║                      0 ║                  1 ║                  0 ║\n",
      "╚════╩══════════════╩═════════════╩════════════╩══════════════════╩══════════════╩══════════════╩═══════════════╩══════════════╩══════════════════════╩═══════════════════╩═══════════════╩═══════════════╩═════════════════╩════════════════╩═════════════╩═══════════════╩═══════════════╩═══════════════════╩══════════════╩════════════════════╩═════════════════╩══════════════════════════╩══════════════════════╩════════════════════════╩════════════════════╩════════════════════╝\n"
     ]
    }
   ],
   "source": [
    "'''\n",
    ". Our input X features contains values for other columns such as make \n",
    "fuel-type and body-style. \n",
    "All three of these columns contain values that are categorical in nature. \n",
    "They belong to these three categories. \n",
    "\n",
    "The inputs that you pass into neural networks and outputs \n",
    "from neural networks can only be numeric. \n",
    "\n",
    "That means you need to convert these categorical values to some numeric form. \n",
    "\n",
    "For this, we'll use one-hot encoding. One-hot encoding is a \n",
    "standard technique used to encode categorical data in numeric form.\n",
    "'''\n",
    "\n",
    "automobile_features = pd.get_dummies(automobile_features, \n",
    "                                     columns= ['make', 'fuel-type', 'body-style'])\n",
    "automobile_features.head()\n",
    "\n",
    "DisplayMatrix(automobile_features.head())"
   ]
  },
  {
   "cell_type": "code",
   "execution_count": 38,
   "metadata": {},
   "outputs": [
    {
     "data": {
      "text/plain": [
       "Index(['horsepower', 'make_audi', 'make_bmw', 'make_chevrolet', 'make_dodge',\n",
       "       'make_honda', 'make_jaguar', 'make_mazda', 'make_mercedes-benz',\n",
       "       'make_mitsubishi', 'make_nissan', 'make_peugot', 'make_plymouth',\n",
       "       'make_porsche', 'make_saab', 'make_subaru', 'make_toyota',\n",
       "       'make_volkswagen', 'make_volvo', 'fuel-type_diesel', 'fuel-type_gas',\n",
       "       'body-style_convertible', 'body-style_hardtop', 'body-style_hatchback',\n",
       "       'body-style_sedan', 'body-style_wagon'],\n",
       "      dtype='object')"
      ]
     },
     "execution_count": 38,
     "metadata": {},
     "output_type": "execute_result"
    }
   ],
   "source": [
    "automobile_features.columns"
   ]
  },
  {
   "cell_type": "code",
   "execution_count": 39,
   "metadata": {},
   "outputs": [
    {
     "name": "stdout",
     "output_type": "stream",
     "text": [
      "╔════╦══════════════╗\n",
      "║    ║   horsepower ║\n",
      "╠════╬══════════════╣\n",
      "║  3 ║     0.201279 ║\n",
      "╠════╬══════════════╣\n",
      "║  4 ║     0.625812 ║\n",
      "╠════╬══════════════╣\n",
      "║  6 ║     0.46253  ║\n",
      "╠════╬══════════════╣\n",
      "║  8 ║     1.44222  ║\n",
      "╠════╬══════════════╣\n",
      "║ 10 ║     0.168622 ║\n",
      "╚════╩══════════════╝\n"
     ]
    }
   ],
   "source": [
    "'''\n",
    "Before we feed in these input values to our neural network, we perform some preprocessing. \n",
    "\n",
    "When you're working with neural networks on any learning model, \n",
    "it's best practice to standardize the numeric values that you \n",
    "feed into your ML model. \n",
    "\n",
    "This allows the ML model to be more stable during this training \n",
    "phase and it just performs better. \n",
    "\n",
    "The preprocessing. scale function will standardize the horsepower \n",
    "numeric values by subtracting the mean and dividing by the standard deviation.\n",
    "\n",
    "And here are our standardized values for horsepower. \n",
    "\n",
    "Remember, it's not just neural networks, but all ML algorithms \n",
    "work better when the numeric values are standardized so that \n",
    "they're roughly in the same range. \n",
    "\n",
    "We've now set up the input features that we are going to \n",
    "feed into a neural network and specify the output targets as well. \n",
    "'''\n",
    "from sklearn import preprocessing\n",
    "automobile_features[['horsepower']] = \\\n",
    "                preprocessing.scale(automobile_features[['horsepower']])\n",
    "\n",
    "\n",
    "\n",
    "DisplayMatrix(automobile_features[['horsepower']].head())"
   ]
  },
  {
   "cell_type": "code",
   "execution_count": 40,
   "metadata": {},
   "outputs": [],
   "source": [
    "'''\n",
    "We'll use the test train split library function from sklearn \n",
    "in order to split our dataset into training data and test data. \n",
    "\n",
    "We'll use 80% of the dataset for training purposes and 20% to \n",
    "test how our model performs.\n",
    "'''\n",
    "from sklearn.model_selection import train_test_split\n",
    "\n",
    "X_train, x_test, Y_train, y_test = train_test_split(automobile_features,\n",
    "                                                    automobile_target,\n",
    "                                                    test_size=0.2,\n",
    "                                                    random_state=0)"
   ]
  },
  {
   "cell_type": "code",
   "execution_count": 41,
   "metadata": {},
   "outputs": [
    {
     "name": "stdout",
     "output_type": "stream",
     "text": [
      "╔═════╦══════════════╦═════════════╦════════════╦══════════════════╦══════════════╦══════════════╦═══════════════╦══════════════╦══════════════════════╦═══════════════════╦═══════════════╦═══════════════╦═════════════════╦════════════════╦═════════════╦═══════════════╦═══════════════╦═══════════════════╦══════════════╦════════════════════╦═════════════════╦══════════════════════════╦══════════════════════╦════════════════════════╦════════════════════╦════════════════════╗\n",
      "║     ║   horsepower ║   make_audi ║   make_bmw ║   make_chevrolet ║   make_dodge ║   make_honda ║   make_jaguar ║   make_mazda ║   make_mercedes-benz ║   make_mitsubishi ║   make_nissan ║   make_peugot ║   make_plymouth ║   make_porsche ║   make_saab ║   make_subaru ║   make_toyota ║   make_volkswagen ║   make_volvo ║   fuel-type_diesel ║   fuel-type_gas ║   body-style_convertible ║   body-style_hardtop ║   body-style_hatchback ║   body-style_sedan ║   body-style_wagon ║\n",
      "╠═════╬══════════════╬═════════════╬════════════╬══════════════════╬══════════════╬══════════════╬═══════════════╬══════════════╬══════════════════════╬═══════════════════╬═══════════════╬═══════════════╬═════════════════╬════════════════╬═════════════╬═══════════════╬═══════════════╬═══════════════════╬══════════════╬════════════════════╬═════════════════╬══════════════════════════╬══════════════════════╬════════════════════════╬════════════════════╬════════════════════╣\n",
      "║ 185 ║    -0.353881 ║           0 ║          0 ║                0 ║            0 ║            0 ║             0 ║            0 ║                    0 ║                 0 ║             0 ║             0 ║               0 ║              0 ║           0 ║             0 ║             0 ║                 1 ║            0 ║                  0 ║               1 ║                        0 ║                    0 ║                      0 ║                  1 ║                  0 ║\n",
      "╠═════╬══════════════╬═════════════╬════════════╬══════════════════╬══════════════╬══════════════╬═══════════════╬══════════════╬══════════════════════╬═══════════════════╬═══════════════╬═══════════════╬═════════════════╬════════════════╬═════════════╬═══════════════╬═══════════════╬═══════════════════╬══════════════╬════════════════════╬═════════════════╬══════════════════════════╬══════════════════════╬════════════════════════╬════════════════════╬════════════════════╣\n",
      "║ 171 ║     0.658469 ║           0 ║          0 ║                0 ║            0 ║            0 ║             0 ║            0 ║                    0 ║                 0 ║             0 ║             0 ║               0 ║              0 ║           0 ║             0 ║             1 ║                 0 ║            0 ║                  0 ║               1 ║                        0 ║                    0 ║                      1 ║                  0 ║                  0 ║\n",
      "╠═════╬══════════════╬═════════════╬════════════╬══════════════════╬══════════════╬══════════════╬═══════════════╬══════════════╬══════════════════════╬═══════════════════╬═══════════════╬═══════════════╬═════════════════╬════════════════╬═════════════╬═══════════════╬═══════════════╬═══════════════════╬══════════════╬════════════════════╬═════════════════╬══════════════════════════╬══════════════════════╬════════════════════════╬════════════════════╬════════════════════╣\n",
      "║  26 ║    -0.90904  ║           0 ║          0 ║                0 ║            1 ║            0 ║             0 ║            0 ║                    0 ║                 0 ║             0 ║             0 ║               0 ║              0 ║           0 ║             0 ║             0 ║                 0 ║            0 ║                  0 ║               1 ║                        0 ║                    0 ║                      0 ║                  1 ║                  0 ║\n",
      "╠═════╬══════════════╬═════════════╬════════════╬══════════════════╬══════════════╬══════════════╬═══════════════╬══════════════╬══════════════════════╬═══════════════════╬═══════════════╬═══════════════╬═════════════════╬════════════════╬═════════════╬═══════════════╬═══════════════╬═══════════════════╬══════════════╬════════════════════╬═════════════════╬══════════════════════════╬══════════════════════╬════════════════════════╬════════════════════╬════════════════════╣\n",
      "║ 137 ║     2.09535  ║           0 ║          0 ║                0 ║            0 ║            0 ║             0 ║            0 ║                    0 ║                 0 ║             0 ║             0 ║               0 ║              0 ║           1 ║             0 ║             0 ║                 0 ║            0 ║                  0 ║               1 ║                        0 ║                    0 ║                      0 ║                  1 ║                  0 ║\n",
      "╠═════╬══════════════╬═════════════╬════════════╬══════════════════╬══════════════╬══════════════╬═══════════════╬══════════════╬══════════════════════╬═══════════════════╬═══════════════╬═══════════════╬═════════════════╬════════════════╬═════════════╬═══════════════╬═══════════════╬═══════════════════╬══════════════╬════════════════════╬═════════════════╬══════════════════════════╬══════════════════════╬════════════════════════╬════════════════════╬════════════════════╣\n",
      "║ 148 ║    -0.45185  ║           0 ║          0 ║                0 ║            0 ║            0 ║             0 ║            0 ║                    0 ║                 0 ║             0 ║             0 ║               0 ║              0 ║           0 ║             1 ║             0 ║                 0 ║            0 ║                  0 ║               1 ║                        0 ║                    0 ║                      0 ║                  0 ║                  1 ║\n",
      "╚═════╩══════════════╩═════════════╩════════════╩══════════════════╩══════════════╩══════════════╩═══════════════╩══════════════╩══════════════════════╩═══════════════════╩═══════════════╩═══════════════╩═════════════════╩════════════════╩═════════════╩═══════════════╩═══════════════╩═══════════════════╩══════════════╩════════════════════╩═════════════════╩══════════════════════════╩══════════════════════╩════════════════════════╩════════════════════╩════════════════════╝\n"
     ]
    }
   ],
   "source": [
    "X_train\n",
    "DisplayMatrix(X_train.head())"
   ]
  },
  {
   "cell_type": "code",
   "execution_count": 42,
   "metadata": {},
   "outputs": [
    {
     "name": "stdout",
     "output_type": "stream",
     "text": [
      "╔═════╦══════════════╦═════════════╦════════════╦══════════════════╦══════════════╦══════════════╦═══════════════╦══════════════╦══════════════════════╦═══════════════════╦═══════════════╦═══════════════╦═════════════════╦════════════════╦═════════════╦═══════════════╦═══════════════╦═══════════════════╦══════════════╦════════════════════╦═════════════════╦══════════════════════════╦══════════════════════╦════════════════════════╦════════════════════╦════════════════════╗\n",
      "║     ║   horsepower ║   make_audi ║   make_bmw ║   make_chevrolet ║   make_dodge ║   make_honda ║   make_jaguar ║   make_mazda ║   make_mercedes-benz ║   make_mitsubishi ║   make_nissan ║   make_peugot ║   make_plymouth ║   make_porsche ║   make_saab ║   make_subaru ║   make_toyota ║   make_volkswagen ║   make_volvo ║   fuel-type_diesel ║   fuel-type_gas ║   body-style_convertible ║   body-style_hardtop ║   body-style_hatchback ║   body-style_sedan ║   body-style_wagon ║\n",
      "╠═════╬══════════════╬═════════════╬════════════╬══════════════════╬══════════════╬══════════════╬═══════════════╬══════════════╬══════════════════════╬═══════════════════╬═══════════════╬═══════════════╬═════════════════╬════════════════╬═════════════╬═══════════════╬═══════════════╬═══════════════════╬══════════════╬════════════════════╬═════════════════╬══════════════════════════╬══════════════════════╬════════════════════════╬════════════════════╬════════════════════╣\n",
      "║  13 ║     0.821751 ║           0 ║          1 ║                0 ║            0 ║            0 ║             0 ║            0 ║                    0 ║                 0 ║             0 ║             0 ║               0 ║              0 ║           0 ║             0 ║             0 ║                 0 ║            0 ║                  0 ║               1 ║                        0 ║                    0 ║                      0 ║                  1 ║                  0 ║\n",
      "╠═════╬══════════════╬═════════════╬════════════╬══════════════════╬══════════════╬══════════════╬═══════════════╬══════════════╬══════════════════════╬═══════════════════╬═══════════════╬═══════════════╬═════════════════╬════════════════╬═════════════╬═══════════════╬═══════════════╬═══════════════════╬══════════════╬════════════════════╬═════════════════╬══════════════════════════╬══════════════════════╬════════════════════════╬════════════════════╬════════════════════╣\n",
      "║  61 ║    -0.386537 ║           0 ║          0 ║                0 ║            0 ║            0 ║             0 ║            1 ║                    0 ║                 0 ║             0 ║             0 ║               0 ║              0 ║           0 ║             0 ║             0 ║                 0 ║            0 ║                  0 ║               1 ║                        0 ║                    0 ║                      1 ║                  0 ║                  0 ║\n",
      "╠═════╬══════════════╬═════════════╬════════════╬══════════════════╬══════════════╬══════════════╬═══════════════╬══════════════╬══════════════════════╬═══════════════════╬═══════════════╬═══════════════╬═════════════════╬════════════════╬═════════════╬═══════════════╬═══════════════╬═══════════════════╬══════════════╬════════════════════╬═════════════════╬══════════════════════════╬══════════════════════╬════════════════════════╬════════════════════╬════════════════════╣\n",
      "║ 136 ║     2.09535  ║           0 ║          0 ║                0 ║            0 ║            0 ║             0 ║            0 ║                    0 ║                 0 ║             0 ║             0 ║               0 ║              0 ║           1 ║             0 ║             0 ║                 0 ║            0 ║                  0 ║               1 ║                        0 ║                    0 ║                      1 ║                  0 ║                  0 ║\n",
      "╠═════╬══════════════╬═════════════╬════════════╬══════════════════╬══════════════╬══════════════╬═══════════════╬══════════════╬══════════════════════╬═══════════════════╬═══════════════╬═══════════════╬═════════════════╬════════════════╬═════════════╬═══════════════╬═══════════════╬═══════════════════╬══════════════╬════════════════════╬═════════════════╬══════════════════════════╬══════════════════════╬════════════════════════╬════════════════════╬════════════════════╣\n",
      "║  68 ║     0.887064 ║           0 ║          0 ║                0 ║            0 ║            0 ║             0 ║            0 ║                    1 ║                 0 ║             0 ║             0 ║               0 ║              0 ║           0 ║             0 ║             0 ║                 0 ║            0 ║                  1 ║               0 ║                        0 ║                    0 ║                      0 ║                  0 ║                  1 ║\n",
      "╠═════╬══════════════╬═════════════╬════════════╬══════════════════╬══════════════╬══════════════╬═══════════════╬══════════════╬══════════════════════╬═══════════════════╬═══════════════╬═══════════════╬═════════════════╬════════════════╬═════════════╬═══════════════╬═══════════════╬═══════════════════╬══════════════╬════════════════════╬═════════════════╬══════════════════════════╬══════════════════════╬════════════════════════╬════════════════════╬════════════════════╣\n",
      "║ 151 ║    -1.10498  ║           0 ║          0 ║                0 ║            0 ║            0 ║             0 ║            0 ║                    0 ║                 0 ║             0 ║             0 ║               0 ║              0 ║           0 ║             0 ║             1 ║                 0 ║            0 ║                  0 ║               1 ║                        0 ║                    0 ║                      1 ║                  0 ║                  0 ║\n",
      "╚═════╩══════════════╩═════════════╩════════════╩══════════════════╩══════════════╩══════════════╩═══════════════╩══════════════╩══════════════════════╩═══════════════════╩═══════════════╩═══════════════╩═════════════════╩════════════════╩═════════════╩═══════════════╩═══════════════╩═══════════════════╩══════════════╩════════════════════╩═════════════════╩══════════════════════════╩══════════════════════╩════════════════════════╩════════════════════╩════════════════════╝\n"
     ]
    }
   ],
   "source": [
    "DisplayMatrix(x_test.head())\n"
   ]
  },
  {
   "cell_type": "code",
   "execution_count": 43,
   "metadata": {},
   "outputs": [
    {
     "name": "stdout",
     "output_type": "stream",
     "text": [
      "╔═════╦═════════╗\n",
      "║     ║   price ║\n",
      "╠═════╬═════════╣\n",
      "║ 185 ║    8195 ║\n",
      "╠═════╬═════════╣\n",
      "║ 171 ║   11549 ║\n",
      "╠═════╬═════════╣\n",
      "║  26 ║    7609 ║\n",
      "╠═════╬═════════╣\n",
      "║ 137 ║   18620 ║\n",
      "╠═════╬═════════╣\n",
      "║ 148 ║    8013 ║\n",
      "╚═════╩═════════╝\n"
     ]
    }
   ],
   "source": [
    "DisplayMatrix(Y_train.head())\n"
   ]
  },
  {
   "cell_type": "code",
   "execution_count": 44,
   "metadata": {},
   "outputs": [
    {
     "name": "stdout",
     "output_type": "stream",
     "text": [
      "╔═════╦═════════╗\n",
      "║     ║   price ║\n",
      "╠═════╬═════════╣\n",
      "║  13 ║   21105 ║\n",
      "╠═════╬═════════╣\n",
      "║  61 ║   10595 ║\n",
      "╠═════╬═════════╣\n",
      "║ 136 ║   18150 ║\n",
      "╠═════╬═════════╣\n",
      "║  68 ║   28248 ║\n",
      "╠═════╬═════════╣\n",
      "║ 151 ║    6338 ║\n",
      "╚═════╩═════════╝\n"
     ]
    }
   ],
   "source": [
    "\n",
    "DisplayMatrix(y_test.head())\n"
   ]
  },
  {
   "cell_type": "code",
   "execution_count": 45,
   "metadata": {},
   "outputs": [],
   "source": [
    "#Set the variable dtype to be equal to float. \n",
    "import torch\n",
    "dtype=torch.float"
   ]
  },
  {
   "cell_type": "code",
   "execution_count": 46,
   "metadata": {},
   "outputs": [],
   "source": [
    "'''\n",
    " Our training and test data are currently in the form of Pandas data frames. \n",
    " We'll now convert them to torch tensors by calling the torch. tensor function. \n",
    "'''\n",
    "X_train_tensor = torch.tensor(X_train.values, dtype = dtype)\n",
    "x_test_tensor = torch.tensor(x_test.values, dtype = dtype)\n",
    "\n",
    "Y_train_tensor = torch.tensor(Y_train.values, dtype = dtype)\n",
    "y_test_tensor = torch.tensor(y_test.values, dtype = dtype)"
   ]
  },
  {
   "cell_type": "code",
   "execution_count": 47,
   "metadata": {},
   "outputs": [
    {
     "data": {
      "text/plain": [
       "torch.Size([127, 26])"
      ]
     },
     "execution_count": 47,
     "metadata": {},
     "output_type": "execute_result"
    }
   ],
   "source": [
    "'''\n",
    "Our training data set contains 127 records with 26 features.\n",
    "'''\n",
    "X_train_tensor.shape"
   ]
  },
  {
   "cell_type": "code",
   "execution_count": 48,
   "metadata": {},
   "outputs": [
    {
     "data": {
      "text/plain": [
       "torch.Size([127, 1])"
      ]
     },
     "execution_count": 48,
     "metadata": {},
     "output_type": "execute_result"
    }
   ],
   "source": [
    "#The actual Y labels that we use for training also contain 127 records\n",
    "Y_train_tensor.shape"
   ]
  },
  {
   "cell_type": "code",
   "execution_count": 49,
   "metadata": {},
   "outputs": [],
   "source": [
    "'''\n",
    "We'll now set up some constants for our neural network. \n",
    "The number of input features is equal to 26. \n",
    "These are the number of columns present in our training data.\n",
    "\n",
    "Our output feature is just 1, the price that we predict. \n",
    "\n",
    "Our hidden layer will have 100 neurons and the loss function that \n",
    "we use this for this regression problem is the mean square error loss, \n",
    "the standard loss function for regression.\n",
    "\n",
    "the learning rate that we use to update our model weights.\n",
    "'''\n",
    "inp=26\n",
    "out=1\n",
    "\n",
    "hid=100\n",
    "\n",
    "loss_fn=torch.nn.MSELoss()\n",
    "\n",
    "learning_rate=0.0001"
   ]
  },
  {
   "cell_type": "code",
   "execution_count": 50,
   "metadata": {},
   "outputs": [],
   "source": [
    "'''\n",
    "All neural networks that we construct in PyTorch derive \n",
    "from the base torch.nn.Module class. \n",
    "\n",
    "When we set up a class containing our own custom neural network that we'll \n",
    "do in later examples in this course, you'll find that we derived \n",
    "from the torch.nn.Module class. \n",
    "\n",
    "Torch.nn.Sequential is a built-in sequential model available in \n",
    "PyTorch that allows us to construct neural network layers in a sequence. \n",
    "\n",
    "This also derives from the base module class. Every layer that we specify \n",
    "in our neural network is a module by itself. \n",
    "\n",
    "So a module that is the sequential module can contain other \n",
    "modules within it in a nested structure. \n",
    "\n",
    "Our first linear layer has input features equal to the number of \n",
    "features present in our X data that is 26, and output features equal to \n",
    "the number of hidden neurons, which is 100 in our case. \n",
    "\n",
    "This is followed by a sigmoid activation function that is an S curve \n",
    "followed by another linear layer. \n",
    "\n",
    "The number of input features to this layer is equal to 100 and output \n",
    "features are equal to 1. That is our Ypredicted output. \n",
    "\n",
    "This is fully-connected neural network because the neurons in the first \n",
    "layer are all connected to all neurons in the second layer. \n",
    "'''\n",
    "\n",
    "model = torch.nn.Sequential(torch.nn.Linear(inp, hid),\n",
    "                            torch.nn.Sigmoid(),\n",
    "                            torch.nn.Linear(hid, out),\n",
    ")"
   ]
  },
  {
   "cell_type": "code",
   "execution_count": 51,
   "metadata": {},
   "outputs": [
    {
     "name": "stdout",
     "output_type": "stream",
     "text": [
      "0 168083024.0\n",
      "1000 4246974.5\n",
      "2000 2378989.0\n",
      "3000 1647211.875\n",
      "4000 1284546.5\n",
      "5000 1173910.0\n",
      "6000 1093967.5\n",
      "7000 1027780.75\n",
      "8000 962418.3125\n",
      "9000 934321.375\n"
     ]
    }
   ],
   "source": [
    "'''\n",
    "Now that we have set up a neural network, we'll run training for 10, 000 epochs, \n",
    "10, 000 passes through our data. \n",
    "\n",
    "For every forward pass, we calculate Ypredicted by applying our model to \n",
    "an input training data. \n",
    "\n",
    "We then calculate a loss for this prediction by passing in \n",
    "Ypredicted and Yactual to our loss function. \n",
    "\n",
    "Once every 1,000 iterations, print out the value of the loss so that we \n",
    "can see how it converges and then zero out your model gradients before you call \n",
    "loss.backward.\n",
    "\n",
    "Loss.backward is what performs the backward pass to our neural network. \n",
    "\n",
    "This calculates the gradients which we'll use to update our model weights. \n",
    "\n",
    "As we've seen earlier, gradients should be updated within the torch.no_grad \n",
    "block so we don't calculate gradients while we're updating our model parameters. \n",
    "\n",
    "The model.parameters() function allows you to access all of the \n",
    "parameters within your neural network model. \n",
    "\n",
    "You can then apply the learning rate multiplied by the gradients \n",
    "and update these parameters. \n",
    "\n",
    "This is all the code that you need to execute in order to \n",
    "run training on your machine learning model and watch the loss reduce \n",
    "as you run multiple epochs of training. \n",
    "\n",
    "\n",
    "'''\n",
    "\n",
    "for iter in range(10000):\n",
    "    y_pred = model(X_train_tensor)\n",
    "    loss = loss_fn(y_pred, Y_train_tensor)\n",
    "\n",
    "    if iter % 1000 ==0:\n",
    "        print(iter, loss.item())\n",
    "    \n",
    "    model.zero_grad()\n",
    "    loss.backward()\n",
    "    \n",
    "    with torch.no_grad():\n",
    "        for param in model.parameters():\n",
    "            param -= learning_rate * param.grad\n"
   ]
  },
  {
   "cell_type": "code",
   "execution_count": 63,
   "metadata": {},
   "outputs": [
    {
     "data": {
      "text/plain": [
       "horsepower               -0.353881\n",
       "make_audi                 0.000000\n",
       "make_bmw                  0.000000\n",
       "make_chevrolet            0.000000\n",
       "make_dodge                0.000000\n",
       "make_honda                0.000000\n",
       "make_jaguar               0.000000\n",
       "make_mazda                0.000000\n",
       "make_mercedes-benz        0.000000\n",
       "make_mitsubishi           0.000000\n",
       "make_nissan               0.000000\n",
       "make_peugot               0.000000\n",
       "make_plymouth             0.000000\n",
       "make_porsche              0.000000\n",
       "make_saab                 0.000000\n",
       "make_subaru               0.000000\n",
       "make_toyota               0.000000\n",
       "make_volkswagen           1.000000\n",
       "make_volvo                0.000000\n",
       "fuel-type_diesel          0.000000\n",
       "fuel-type_gas             1.000000\n",
       "body-style_convertible    0.000000\n",
       "body-style_hardtop        0.000000\n",
       "body-style_hatchback      0.000000\n",
       "body-style_sedan          1.000000\n",
       "body-style_wagon          0.000000\n",
       "Name: 186, dtype: float64"
      ]
     },
     "execution_count": 63,
     "metadata": {},
     "output_type": "execute_result"
    }
   ],
   "source": [
    "'''\n",
    "Let's take a sample instance from our test data and perform prediction \n",
    "using our neural network model. \n",
    "\n",
    "Here is what our sample looks like. \n",
    "\n",
    "\n",
    "'''\n",
    "sample = x_test.iloc[23]\n",
    "sample\n"
   ]
  },
  {
   "cell_type": "code",
   "execution_count": 65,
   "metadata": {},
   "outputs": [
    {
     "data": {
      "text/plain": [
       "tensor([-0.3539,  0.0000,  0.0000,  0.0000,  0.0000,  0.0000,  0.0000,  0.0000,\n",
       "         0.0000,  0.0000,  0.0000,  0.0000,  0.0000,  0.0000,  0.0000,  0.0000,\n",
       "         0.0000,  1.0000,  0.0000,  0.0000,  1.0000,  0.0000,  0.0000,  0.0000,\n",
       "         1.0000,  0.0000])"
      ]
     },
     "execution_count": 65,
     "metadata": {},
     "output_type": "execute_result"
    }
   ],
   "source": [
    "'''\n",
    "We convert the sample to a tensor format using torch.tensor \n",
    "and pass the sample through our neural network model. \n",
    "\n",
    "\n",
    "'''\n",
    "sample_tensor = torch.tensor(sample.values, \n",
    "                             dtype = dtype)\n",
    "sample_tensor"
   ]
  },
  {
   "cell_type": "code",
   "execution_count": 54,
   "metadata": {},
   "outputs": [
    {
     "name": "stdout",
     "output_type": "stream",
     "text": [
      "Predicted price of automobile is :  8090\n",
      "Actual price of automobile is :  8495\n"
     ]
    }
   ],
   "source": [
    "'''\n",
    "So we call model, pass in the sample_tensor, and get the Ypredicted. \n",
    "\n",
    "And let's print out these values to screen to see what the predicted \n",
    "value of price is as compared with the original y_test value \n",
    "and you can see that this model did pretty well in our sample instance. \n",
    "\n",
    "The predicted price of the automobile was around $8,000 and \n",
    "the actual price was around $8500. \n",
    "\n",
    "A single prediction doesn't give us that much information about how a model works.\n",
    "'''\n",
    "\n",
    "y_pred=model(sample_tensor)\n",
    "\n",
    "print(\"Predicted price of automobile is : \", int(y_pred.item()))\n",
    "print(\"Actual price of automobile is : \", int(y_test.iloc[23]))"
   ]
  },
  {
   "cell_type": "code",
   "execution_count": 55,
   "metadata": {},
   "outputs": [],
   "source": [
    "'''\n",
    "Let's run predictions on our entire test dataset, the x_test_tensor. \n",
    "'''\n",
    "y_pred_tensor=model(x_test_tensor)"
   ]
  },
  {
   "cell_type": "code",
   "execution_count": 56,
   "metadata": {},
   "outputs": [],
   "source": [
    "'''\n",
    "Once we have the predictions, detach the predicted values from our \n",
    "computation graph and get it in the form of a NumPy array. \n",
    "'''\n",
    "\n",
    "y_pred=y_pred_tensor.detach().numpy()"
   ]
  },
  {
   "cell_type": "code",
   "execution_count": 57,
   "metadata": {},
   "outputs": [
    {
     "data": {
      "image/png": "[encoded data removed]",
      "text/plain": [
       "<Figure size 432x288 with 1 Axes>"
      ]
     },
     "metadata": {
      "needs_background": "light"
     },
     "output_type": "display_data"
    }
   ],
   "source": [
    "'''\n",
    "We'll now plot a visualization of actual prices versus predicted prices and \n",
    "see how they look. \n",
    "We'll first plot this information as a scatter plot to see if they're \n",
    "clustered around the same values and you can see that they more or less are.\n",
    "\n",
    "Here is a data point for which the predicted price is around \n",
    "$5000 and the actual price seems to be around $2000, \n",
    "not a great prediction, but you can see how the other \n",
    "data points are fairly close.\n",
    "'''\n",
    "\n",
    "import matplotlib.pyplot as plt\n",
    "\n",
    "plt.scatter(y_pred, y_test.values)\n",
    "plt.xlabel(\"Actual Price\")\n",
    "plt.ylabel(\"Predicted price\")\n",
    "\n",
    "plt.title(\"Predicted prices vs Actual prices\")\n",
    "plt.show()"
   ]
  },
  {
   "cell_type": "code",
   "execution_count": 58,
   "metadata": {},
   "outputs": [],
   "source": [
    "'''\n",
    "You can use the torch. save function and specify your model and \n",
    "serialize it to the my_model file on disk.\n",
    "'''\n",
    "torch.save(model,'sb_model')\n"
   ]
  },
  {
   "cell_type": "code",
   "execution_count": 59,
   "metadata": {},
   "outputs": [],
   "source": [
    "'''\n",
    "Once you have a saved model, you can reload this model using torch.load() \n",
    "'''\n",
    "save_model=torch.load('sb_model')"
   ]
  },
  {
   "cell_type": "code",
   "execution_count": 60,
   "metadata": {},
   "outputs": [],
   "source": [
    "'''\n",
    "Let's perform predictions for automobile prices once again, \n",
    "but this time we'll use the model that we reloaded from \n",
    "disk after having serialized it out. \n",
    "\n",
    "\n",
    "'''\n",
    "\n",
    "y_pred_tensor=save_model(x_test_tensor)\n",
    "y_pred=y_pred_tensor.detach().numpy()"
   ]
  },
  {
   "cell_type": "code",
   "execution_count": 61,
   "metadata": {},
   "outputs": [
    {
     "data": {
      "image/png": "[encoded data removed]",
      "text/plain": [
       "<Figure size 1080x432 with 1 Axes>"
      ]
     },
     "metadata": {
      "needs_background": "light"
     },
     "output_type": "display_data"
    }
   ],
   "source": [
    "'''\n",
    "This time, we'll get the predictions on the test data in the \n",
    "form of a NumPy array and plot it using a line chart. \n",
    "This will allow us to see how closely our predicted values map our \n",
    "actual Y values, actual automobile prices. \n",
    "\n",
    "The blue line is the predicted price and the orange line is the actual \n",
    "price and you can see that it tracked each other closely. \n",
    "Our model works pretty well for this dataset.\n",
    "'''\n",
    "\n",
    "plt.figure(figsize=(15,6))\n",
    "\n",
    "plt.plot(y_pred, label='Predicted Price')\n",
    "plt.plot(y_test.values, label='Actual Price')\n",
    "\n",
    "plt.legend()\n",
    "plt.show()"
   ]
  },
  {
   "cell_type": "code",
   "execution_count": null,
   "metadata": {},
   "outputs": [],
   "source": []
  }
 ],
 "metadata": {
  "interpreter": {
   "hash": "575eefa22bca98debbb70a50e50c7ed5e423eee8510de1773018822747fea1b4"
  },
  "kernelspec": {
   "display_name": "Python 3.8.8 64-bit ('ML': conda)",
   "name": "python3"
  },
  "language_info": {
   "codemirror_mode": {
    "name": "ipython",
    "version": 3
   },
   "file_extension": ".py",
   "mimetype": "text/x-python",
   "name": "python",
   "nbconvert_exporter": "python",
   "pygments_lexer": "ipython3",
   "version": "3.8.8"
  },
  "orig_nbformat": 4
 },
 "nbformat": 4,
 "nbformat_minor": 2
}
