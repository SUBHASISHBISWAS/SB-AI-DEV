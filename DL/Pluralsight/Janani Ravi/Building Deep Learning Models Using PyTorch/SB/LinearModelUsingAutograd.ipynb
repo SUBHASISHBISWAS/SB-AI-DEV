{
 "cells": [
  {
   "cell_type": "code",
   "execution_count": 1,
   "id": "35a37ad2-8ade-42e5-8504-655484635a7c",
   "metadata": {},
   "outputs": [],
   "source": [
    "import numpy as np\n",
    "import matplotlib.pyplot as plt"
   ]
  },
  {
   "cell_type": "code",
   "execution_count": 2,
   "id": "4d237cf0-65d5-415b-a89e-ba769b403e01",
   "metadata": {},
   "outputs": [],
   "source": [
    "x_train = np.array ([[3.3], [4.4], [5.5], [6.71], [6.93], [4.168], \n",
    "                    [9.779], [6.182], [7.59], [2.167], [7.042] , \n",
    "                    [10.791], [5.313], [7.997], [3.1]],\n",
    "                    dtype = np.float32)\n",
    "\n",
    "y_train = np.array ([[1.7], [2.76], [2.09], [3.19], [1.694], [1.573], \n",
    "                    [3.366], [2.596], [2.53], [1.221], [2.827] , \n",
    "                    [3.465], [1.65], [2.904], [1.3]], \n",
    "                    dtype = np.float32)"
   ]
  },
  {
   "cell_type": "code",
   "execution_count": null,
   "id": "59512004-a147-4cc0-aaf0-a06abed744c9",
   "metadata": {},
   "outputs": [],
   "source": []
  }
 ],
 "metadata": {
  "kernelspec": {
   "display_name": "Python 3",
   "language": "python",
   "name": "python3"
  },
  "language_info": {
   "codemirror_mode": {
    "name": "ipython",
    "version": 3
   },
   "file_extension": ".py",
   "mimetype": "text/x-python",
   "name": "python",
   "nbconvert_exporter": "python",
   "pygments_lexer": "ipython3",
   "version": "3.8.8"
  }
 },
 "nbformat": 4,
 "nbformat_minor": 5
}
