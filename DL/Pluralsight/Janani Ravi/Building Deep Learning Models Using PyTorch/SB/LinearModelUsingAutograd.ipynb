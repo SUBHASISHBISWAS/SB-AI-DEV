{
 "cells": [
  {
   "cell_type": "code",
   "execution_count": 30,
   "id": "35a37ad2-8ade-42e5-8504-655484635a7c",
   "metadata": {},
   "outputs": [],
   "source": [
    "import numpy as np\n",
    "import matplotlib.pyplot as plt\n",
    "import torch\n"
   ]
  },
  {
   "cell_type": "code",
   "execution_count": 31,
   "id": "4d237cf0-65d5-415b-a89e-ba769b403e01",
   "metadata": {},
   "outputs": [],
   "source": [
    "x_train = np.array ([[3.3], [4.4], [5.5], [6.71], [6.93], [4.168], \n",
    "                    [9.779], [6.182], [7.59], [2.167], [7.042] , \n",
    "                    [10.791], [5.313], [7.997], [3.1]],\n",
    "                    dtype = np.float32)\n",
    "\n",
    "y_train = np.array ([[1.7], [2.76], [2.09], [3.19], [1.694], [1.573], \n",
    "                    [3.366], [2.596], [2.53], [1.221], [2.827] , \n",
    "                    [3.465], [1.65], [2.904], [1.3]], \n",
    "                    dtype = np.float32)"
   ]
  },
  {
   "cell_type": "code",
   "execution_count": 32,
   "id": "59512004-a147-4cc0-aaf0-a06abed744c9",
   "metadata": {},
   "outputs": [
    {
     "data": {
      "text/plain": [
       "[<matplotlib.lines.Line2D at 0x7f7e4d562cd0>]"
      ]
     },
     "execution_count": 32,
     "metadata": {},
     "output_type": "execute_result"
    },
    {
     "data": {
      "image/png": "[encoded data removed]",
      "text/plain": [
       "<Figure size 432x288 with 1 Axes>"
      ]
     },
     "metadata": {
      "needs_background": "light"
     },
     "output_type": "display_data"
    }
   ],
   "source": [
    "plt.plot(x_train,y_train,'ro',label='Original Data')"
   ]
  },
  {
   "cell_type": "code",
   "execution_count": 33,
   "id": "72a791f9-09ee-401f-bf55-6097106a7eaa",
   "metadata": {},
   "outputs": [],
   "source": [
    "X_train=torch.from_numpy(x_train)\n",
    "Y_train=torch.from_numpy(y_train)\n"
   ]
  },
  {
   "cell_type": "code",
   "execution_count": 34,
   "id": "2d1661e0-3a5b-4872-9e61-250b8870a373",
   "metadata": {},
   "outputs": [
    {
     "name": "stdout",
     "output_type": "stream",
     "text": [
      "requires_grad for X_Train: False\n",
      "requires_grad for Y_Train: False\n"
     ]
    }
   ],
   "source": [
    "print('requires_grad for X_Train:',X_train.requires_grad)\n",
    "print('requires_grad for Y_Train:',Y_train.requires_grad)"
   ]
  },
  {
   "cell_type": "code",
   "execution_count": 35,
   "id": "1c3d159e-921b-4c64-8bf7-621cbc732aef",
   "metadata": {},
   "outputs": [],
   "source": [
    "input_size=1\n",
    "hidden_size=100\n",
    "output_size=1\n",
    "learning_rate=1e-6"
   ]
  },
  {
   "cell_type": "code",
   "execution_count": 36,
   "id": "e89ecc26-c360-4fba-b8ba-546994631437",
   "metadata": {},
   "outputs": [
    {
     "data": {
      "text/plain": [
       "torch.Size([1, 100])"
      ]
     },
     "execution_count": 36,
     "metadata": {},
     "output_type": "execute_result"
    }
   ],
   "source": [
    "w1=torch.rand(input_size,hidden_size,requires_grad=True)\n",
    "w1.shape"
   ]
  },
  {
   "cell_type": "code",
   "execution_count": 37,
   "id": "a5f7d6a2-7a23-41b3-9864-e6bc1672669f",
   "metadata": {},
   "outputs": [
    {
     "data": {
      "text/plain": [
       "torch.Size([100, 1])"
      ]
     },
     "execution_count": 37,
     "metadata": {},
     "output_type": "execute_result"
    }
   ],
   "source": [
    "w2=torch.rand(hidden_size,output_size,requires_grad=True)\n",
    "w2.shape"
   ]
  },
  {
   "cell_type": "code",
   "execution_count": 38,
   "id": "93f4a860-5c17-48b9-9a5f-e58e5b785b5d",
   "metadata": {},
   "outputs": [
    {
     "name": "stdout",
     "output_type": "stream",
     "text": [
      "50 1842.058349609375\n",
      "100 26.38669776916504\n",
      "150 3.9378817081451416\n",
      "200 3.6367757320404053\n",
      "250 3.632685422897339\n",
      "300 3.6326277256011963\n"
     ]
    }
   ],
   "source": [
    "for iter in range(1,301):\n",
    "    Y_pred=X_train.mm(w1).clamp(min=0).mm(w2)\n",
    "    loss=(Y_pred-Y_train).pow(2).sum()\n",
    "    \n",
    "    if iter % 50 == 0:\n",
    "        print(iter,loss.item())\n",
    "    \n",
    "    loss.backward()\n",
    "    \n",
    "    with torch.no_grad():\n",
    "        w1-=learning_rate * w1.grad\n",
    "        w2-=learning_rate * w2.grad\n",
    "        \n",
    "        w1.grad.zero_()\n",
    "        w2.grad.zero_()"
   ]
  },
  {
   "cell_type": "code",
   "execution_count": 39,
   "id": "3c89b1e7-ceb9-43ec-9b5f-b0e510a855d4",
   "metadata": {},
   "outputs": [
    {
     "name": "stdout",
     "output_type": "stream",
     "text": [
      "w1: tensor([[-3.1560e-04,  3.3356e-01,  7.3282e-01, -1.4481e-03, -2.0805e-03,\n",
      "          3.6649e-01,  9.8294e-01,  2.5269e-01,  9.6444e-01, -4.8585e-03,\n",
      "         -1.5127e-03,  5.7486e-01,  4.3854e-01,  6.2570e-01,  1.0081e+00,\n",
      "          4.1972e-01, -4.4108e-04,  5.8948e-01,  1.7107e-01,  8.6102e-03,\n",
      "         -7.5084e-05,  3.0871e-01,  3.7082e-01,  4.6243e-01, -1.5322e-03,\n",
      "          3.1152e-01,  5.3254e-03,  1.5210e-01,  6.9640e-01,  1.0313e+00,\n",
      "          7.3865e-01,  2.0708e-01,  5.6670e-01,  1.8982e-01,  7.9394e-01,\n",
      "         -5.2914e-03,  2.9338e-01,  4.6493e-01,  4.1945e-03,  9.6221e-02,\n",
      "          3.5912e-02,  6.7731e-01, -5.9545e-03,  7.2327e-01, -1.9073e-03,\n",
      "          5.7350e-01,  7.9719e-01,  3.5006e-01,  5.7240e-01,  4.5552e-01,\n",
      "          9.7670e-01,  6.4170e-01,  3.2896e-01,  7.7002e-01,  8.1564e-01,\n",
      "          9.1295e-01,  7.2813e-01,  6.8322e-01,  3.5693e-01,  2.6318e-01,\n",
      "          3.6246e-01, -1.5477e-03,  1.7013e-01,  3.5930e-01,  5.2988e-01,\n",
      "          6.2015e-01,  6.6083e-01,  7.9951e-01,  2.2590e-01,  5.3954e-01,\n",
      "          4.7489e-01,  3.1656e-01,  8.4503e-01,  4.7698e-01, -5.8957e-03,\n",
      "         -1.0633e-03, -2.1899e-03, -1.4475e-03,  9.6373e-01,  4.7454e-01,\n",
      "          2.1614e-01,  4.4814e-01, -2.5338e-03, -7.0483e-03, -5.2164e-03,\n",
      "          8.5153e-01, -5.5527e-03,  5.3321e-01,  4.2842e-02,  3.5482e-01,\n",
      "         -1.5068e-03, -2.0630e-06,  8.9020e-01,  1.7368e-01, -2.0405e-03,\n",
      "          1.0817e-01,  7.7562e-01,  6.7725e-01,  4.1854e-02,  7.9329e-01]],\n",
      "       requires_grad=True)\n",
      "w2: tensor([[ 0.5389],\n",
      "        [-0.0942],\n",
      "        [ 0.1624],\n",
      "        [ 0.6126],\n",
      "        [ 0.3833],\n",
      "        [ 0.6812],\n",
      "        [-0.3351],\n",
      "        [ 0.3475],\n",
      "        [-0.2072],\n",
      "        [ 0.7462],\n",
      "        [ 0.4687],\n",
      "        [-0.2193],\n",
      "        [ 0.3879],\n",
      "        [ 0.0073],\n",
      "        [-0.4402],\n",
      "        [ 0.3876],\n",
      "        [ 0.8387],\n",
      "        [ 0.3810],\n",
      "        [ 0.1069],\n",
      "        [ 0.0598],\n",
      "        [ 0.2307],\n",
      "        [ 0.1989],\n",
      "        [-0.0162],\n",
      "        [ 0.3934],\n",
      "        [ 0.2240],\n",
      "        [ 0.4467],\n",
      "        [ 0.5777],\n",
      "        [ 0.6668],\n",
      "        [-0.1629],\n",
      "        [-0.3888],\n",
      "        [-0.3110],\n",
      "        [-0.0942],\n",
      "        [ 0.0795],\n",
      "        [ 0.3038],\n",
      "        [ 0.1412],\n",
      "        [ 0.7498],\n",
      "        [ 0.2752],\n",
      "        [ 0.2148],\n",
      "        [ 0.5351],\n",
      "        [ 0.6671],\n",
      "        [ 0.2850],\n",
      "        [ 0.2702],\n",
      "        [ 0.7687],\n",
      "        [-0.1945],\n",
      "        [ 0.5762],\n",
      "        [ 0.3311],\n",
      "        [ 0.0434],\n",
      "        [ 0.1544],\n",
      "        [ 0.3403],\n",
      "        [ 0.0031],\n",
      "        [-0.4151],\n",
      "        [-0.1752],\n",
      "        [-0.0134],\n",
      "        [ 0.1744],\n",
      "        [-0.1767],\n",
      "        [-0.2627],\n",
      "        [-0.3270],\n",
      "        [ 0.3206],\n",
      "        [ 0.6312],\n",
      "        [ 0.2446],\n",
      "        [ 0.1370],\n",
      "        [ 0.4955],\n",
      "        [-0.0388],\n",
      "        [ 0.0775],\n",
      "        [ 0.1171],\n",
      "        [ 0.2777],\n",
      "        [-0.0858],\n",
      "        [-0.0378],\n",
      "        [ 0.5206],\n",
      "        [ 0.2636],\n",
      "        [ 0.4166],\n",
      "        [ 0.1279],\n",
      "        [-0.0657],\n",
      "        [ 0.4288],\n",
      "        [ 0.5236],\n",
      "        [ 0.1127],\n",
      "        [ 0.2784],\n",
      "        [ 0.9033],\n",
      "        [-0.3449],\n",
      "        [ 0.1522],\n",
      "        [ 0.4809],\n",
      "        [-0.1677],\n",
      "        [ 0.5893],\n",
      "        [ 0.4488],\n",
      "        [ 0.5600],\n",
      "        [-0.1621],\n",
      "        [ 0.8317],\n",
      "        [ 0.3586],\n",
      "        [ 0.0556],\n",
      "        [ 0.5346],\n",
      "        [ 0.9090],\n",
      "        [ 0.7694],\n",
      "        [-0.4112],\n",
      "        [ 0.4532],\n",
      "        [ 0.4801],\n",
      "        [ 0.1066],\n",
      "        [-0.1667],\n",
      "        [-0.1541],\n",
      "        [ 0.5712],\n",
      "        [-0.1742]], requires_grad=True)\n"
     ]
    }
   ],
   "source": [
    "print('w1:',w1)\n",
    "print('w2:',w2)"
   ]
  },
  {
   "cell_type": "code",
   "execution_count": 41,
   "id": "5bd918ef-8d34-45ce-8ab9-0e560732b801",
   "metadata": {},
   "outputs": [
    {
     "data": {
      "text/plain": [
       "tensor([[ 3.3000],\n",
       "        [ 4.4000],\n",
       "        [ 5.5000],\n",
       "        [ 6.7100],\n",
       "        [ 6.9300],\n",
       "        [ 4.1680],\n",
       "        [ 9.7790],\n",
       "        [ 6.1820],\n",
       "        [ 7.5900],\n",
       "        [ 2.1670],\n",
       "        [ 7.0420],\n",
       "        [10.7910],\n",
       "        [ 5.3130],\n",
       "        [ 7.9970],\n",
       "        [ 3.1000]])"
      ]
     },
     "execution_count": 41,
     "metadata": {},
     "output_type": "execute_result"
    }
   ],
   "source": [
    "x_train_tensor=torch.from_numpy(x_train)\n",
    "x_train_tensor"
   ]
  },
  {
   "cell_type": "code",
   "execution_count": 42,
   "id": "d7795333-4516-453b-9003-d388d3f0b430",
   "metadata": {},
   "outputs": [
    {
     "data": {
      "text/plain": [
       "tensor([[1.2116],\n",
       "        [1.6155],\n",
       "        [2.0193],\n",
       "        [2.4636],\n",
       "        [2.5444],\n",
       "        [1.5303],\n",
       "        [3.5904],\n",
       "        [2.2697],\n",
       "        [2.7867],\n",
       "        [0.7956],\n",
       "        [2.5855],\n",
       "        [3.9619],\n",
       "        [1.9507],\n",
       "        [2.9361],\n",
       "        [1.1382]], grad_fn=<MmBackward0>)"
      ]
     },
     "execution_count": 42,
     "metadata": {},
     "output_type": "execute_result"
    }
   ],
   "source": [
    "predicted_in_tensor=x_train_tensor.mm(w1).clamp(min=0).mm(w2)\n",
    "predicted_in_tensor"
   ]
  },
  {
   "cell_type": "code",
   "execution_count": 43,
   "id": "9de3ac31-af41-41ce-8ec3-2268b9609e49",
   "metadata": {},
   "outputs": [
    {
     "data": {
      "text/plain": [
       "array([[1.2116008],\n",
       "       [1.6154671],\n",
       "       [2.0193334],\n",
       "       [2.4635878],\n",
       "       [2.544361 ],\n",
       "       [1.5302882],\n",
       "       [3.590376 ],\n",
       "       [2.2697315],\n",
       "       [2.7866812],\n",
       "       [0.7956178],\n",
       "       [2.5854816],\n",
       "       [3.961936 ],\n",
       "       [1.9506764],\n",
       "       [2.9361143],\n",
       "       [1.1381702]], dtype=float32)"
      ]
     },
     "execution_count": 43,
     "metadata": {},
     "output_type": "execute_result"
    }
   ],
   "source": [
    "predicted=predicted_in_tensor.detach().numpy()\n",
    "predicted"
   ]
  },
  {
   "cell_type": "code",
   "execution_count": 45,
   "id": "73757cad-97fd-4b6b-bee3-2dc199c46e36",
   "metadata": {},
   "outputs": [
    {
     "data": {
      "image/png": "[encoded data removed]",
      "text/plain": [
       "<Figure size 432x288 with 1 Axes>"
      ]
     },
     "metadata": {
      "needs_background": "light"
     },
     "output_type": "display_data"
    }
   ],
   "source": [
    "plt.plot(x_train,y_train,'ro',label='Original Data')\n",
    "\n",
    "plt.plot(x_train,predicted,label='Fitted Data')\n",
    "\n",
    "plt.legend()\n",
    "plt.show()\n"
   ]
  },
  {
   "cell_type": "code",
   "execution_count": null,
   "id": "993083a5-944b-4697-85c9-914b29f89a86",
   "metadata": {},
   "outputs": [],
   "source": []
  }
 ],
 "metadata": {
  "kernelspec": {
   "display_name": "Python 3",
   "language": "python",
   "name": "python3"
  },
  "language_info": {
   "codemirror_mode": {
    "name": "ipython",
    "version": 3
   },
   "file_extension": ".py",
   "mimetype": "text/x-python",
   "name": "python",
   "nbconvert_exporter": "python",
   "pygments_lexer": "ipython3",
   "version": "3.8.8"
  }
 },
 "nbformat": 4,
 "nbformat_minor": 5
}
