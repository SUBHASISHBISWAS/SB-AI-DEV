{
 "cells": [
  {
   "cell_type": "code",
   "execution_count": 1,
   "metadata": {
    "collapsed": true
   },
   "outputs": [],
   "source": [
    "import numpy as np \n",
    "import matplotlib.pyplot as plt"
   ]
  },
  {
   "cell_type": "markdown",
   "metadata": {},
   "source": [
    "#### Creating Dataset\n",
    "A simple dataset using numpy arrays"
   ]
  },
  {
   "cell_type": "code",
   "execution_count": 2,
   "metadata": {
    "collapsed": true
   },
   "outputs": [],
   "source": [
    "x_train = np.array ([[3.3], [4.4], [5.5], [6.71], [6.93], [4.168], \n",
    "                    [9.779], [6.182], [7.59], [2.167], [7.042] , \n",
    "                    [10.791], [5.313], [7.997], [3.1]],\n",
    "                    dtype = np.float32)\n",
    "\n",
    "y_train = np.array ([[1.7], [2.76], [2.09], [3.19], [1.694], [1.573], \n",
    "                    [3.366], [2.596], [2.53], [1.221], [2.827] , \n",
    "                    [3.465], [1.65], [2.904], [1.3]], \n",
    "                    dtype = np.float32)"
   ]
  },
  {
   "cell_type": "markdown",
   "metadata": {},
   "source": [
    "#### View the data\n",
    "There seems to be some relationship which can be plotted between x_train and y_train. A regression line can be drawn to represent the relationship"
   ]
  },
  {
   "cell_type": "code",
   "execution_count": 3,
   "metadata": {},
   "outputs": [
    {
     "data": {
      "image/png": "[encoded data removed]",
      "text/plain": [
       "<matplotlib.figure.Figure at 0x105c51ba8>"
      ]
     },
     "metadata": {},
     "output_type": "display_data"
    }
   ],
   "source": [
    "plt.plot(x_train, y_train, 'ro', label = 'Original data')\n",
    "\n",
    "plt.show()"
   ]
  },
  {
   "cell_type": "code",
   "execution_count": 4,
   "metadata": {
    "collapsed": true
   },
   "outputs": [],
   "source": [
    "import torch "
   ]
  },
  {
   "cell_type": "markdown",
   "metadata": {},
   "source": [
    "#### Converting data to pytorch tensors\n",
    "By defualt requires_grad = False"
   ]
  },
  {
   "cell_type": "code",
   "execution_count": 5,
   "metadata": {},
   "outputs": [
    {
     "name": "stdout",
     "output_type": "stream",
     "text": [
      "requires_grad for X_train:  False\n",
      "requires_grad for Y_train:  False\n"
     ]
    }
   ],
   "source": [
    "X_train = torch.from_numpy(x_train) \n",
    "Y_train = torch.from_numpy(y_train)\n",
    "\n",
    "print('requires_grad for X_train: ', X_train.requires_grad)\n",
    "print('requires_grad for Y_train: ', Y_train.requires_grad)"
   ]
  },
  {
   "cell_type": "markdown",
   "metadata": {},
   "source": [
    "#### Set the details for our neural network\n",
    "Input, output and hidden layer sizes plus the learning rate"
   ]
  },
  {
   "cell_type": "code",
   "execution_count": 6,
   "metadata": {
    "collapsed": true
   },
   "outputs": [],
   "source": [
    "input_size = 1 \n",
    "hidden_size = 100\n",
    "output_size = 1 \n",
    "learning_rate = 1e-6"
   ]
  },
  {
   "cell_type": "markdown",
   "metadata": {},
   "source": [
    "#### Create random Tensors for weights.<br>\n",
    "Setting requires_grad=True indicates that we want to compute gradients with respect to these Tensors during the backward pass"
   ]
  },
  {
   "cell_type": "code",
   "execution_count": 7,
   "metadata": {},
   "outputs": [
    {
     "data": {
      "text/plain": [
       "torch.Size([1, 100])"
      ]
     },
     "execution_count": 7,
     "metadata": {},
     "output_type": "execute_result"
    }
   ],
   "source": [
    "w1 = torch.rand(input_size, \n",
    "                hidden_size, \n",
    "                \n",
    "                requires_grad=True)\n",
    "w1.shape"
   ]
  },
  {
   "cell_type": "code",
   "execution_count": 8,
   "metadata": {},
   "outputs": [
    {
     "data": {
      "text/plain": [
       "torch.Size([100, 1])"
      ]
     },
     "execution_count": 8,
     "metadata": {},
     "output_type": "execute_result"
    }
   ],
   "source": [
    "w2 = torch.rand(hidden_size, \n",
    "                output_size, \n",
    "                \n",
    "                requires_grad=True)\n",
    "w2.shape"
   ]
  },
  {
   "cell_type": "markdown",
   "metadata": {},
   "source": [
    "## Training\n",
    "\n",
    "#### Foward Pass:\n",
    "* Predicting Y with input data X\n",
    "* finding (matrix X matrix) using .mm function, finding product of X_train and w1 \n",
    "* clamping all negative elements to one using clamp(min=0), similar to Relu Function\n",
    "* again doing mat product of clamped data with second weight w2\n",
    "\n",
    "#### Finding Loss:\n",
    "* Finding difference between Y_train and Y_pred by squaring the difference and then summing out, similar to nn.MSELoss \n",
    "\n",
    "\n",
    "#### For the loss_backward() function call:\n",
    "* backward pass will compute the gradient of loss with respect to all Tensors with requires_grad=True. \n",
    "* After this call w1.grad and w2.grad will be Tensors holding the gradient of the loss with respect to w1 and w2 respectively.\n",
    "\n",
    "#### Manually updating the weights\n",
    "* weights have requires_grad=True, but we don't need to track this in autograd. So will wrap it in torch.no_grad\n",
    "* reducing weight with multiple of learning rate and gradient\n",
    "* manually zero the weight gradients after updating weights"
   ]
  },
  {
   "cell_type": "code",
   "execution_count": 9,
   "metadata": {},
   "outputs": [
    {
     "name": "stdout",
     "output_type": "stream",
     "text": [
      "50 1238.8021240234375\n",
      "100 13.255380630493164\n",
      "150 3.7086801528930664\n",
      "200 3.633230447769165\n",
      "250 3.6326303482055664\n",
      "300 3.6326279640197754\n"
     ]
    }
   ],
   "source": [
    "for iter in range(1, 301):\n",
    "    \n",
    "    y_pred = X_train.mm(w1).clamp(min=0).mm(w2)\n",
    "    loss = (y_pred - Y_train).pow(2).sum()\n",
    "    \n",
    "    if iter % 50 ==0:\n",
    "        print(iter, loss.item())\n",
    "        \n",
    "    loss.backward()\n",
    "    \n",
    "    with torch.no_grad():\n",
    "        w1 -= learning_rate * w1.grad\n",
    "        w2 -= learning_rate * w2.grad\n",
    "        w1.grad.zero_()\n",
    "        w2.grad.zero_()"
   ]
  },
  {
   "cell_type": "code",
   "execution_count": 14,
   "metadata": {},
   "outputs": [
    {
     "name": "stdout",
     "output_type": "stream",
     "text": [
      "w1:  tensor([[ 6.5208e-01,  9.2157e-02,  4.1704e-01,  7.1146e-01,  8.0063e-01,\n",
      "          1.4426e-01,  1.4583e-01, -4.6198e-03, -2.6930e-03, -1.5513e-03,\n",
      "          3.6480e-01,  8.3577e-01,  1.0765e+00,  5.5515e-01,  7.1492e-01,\n",
      "          6.9971e-01,  8.8529e-01,  5.6581e-01,  5.6716e-01,  5.0480e-02,\n",
      "          1.4313e-01,  3.9926e-01,  1.7851e-01, -1.1956e-02,  3.2752e-01,\n",
      "          2.2511e-02,  6.0181e-02,  5.7467e-01,  8.3275e-01, -1.1066e-03,\n",
      "         -1.0293e-05,  6.8802e-02,  8.7087e-01,  7.1294e-01,  4.6896e-01,\n",
      "          7.5835e-01,  5.0587e-01,  7.8560e-03,  1.2091e-01,  2.2146e-02,\n",
      "          5.7942e-01, -4.1824e-03,  1.8441e-03,  8.0505e-01,  2.2302e-01,\n",
      "         -2.3681e-03,  9.4031e-01,  7.9119e-01,  3.4484e-02,  1.8749e-01,\n",
      "          4.1758e-01,  3.5598e-01,  5.5338e-01,  5.3725e-01,  1.3684e-01,\n",
      "          4.6690e-01,  2.0881e-01,  1.8437e-01,  1.4269e-01,  7.8754e-01,\n",
      "          2.1911e-01,  4.6297e-01,  5.5303e-01,  8.8436e-01, -4.0410e-03,\n",
      "         -2.8296e-03,  6.3979e-01,  1.0334e+00,  9.2103e-01,  8.9995e-01,\n",
      "          1.3636e-01,  4.8800e-01,  7.9205e-01,  5.9877e-01,  4.2775e-01,\n",
      "          4.5782e-01,  5.5548e-01, -1.0662e-03, -6.1480e-04,  1.0115e+00,\n",
      "          9.7131e-02,  1.6672e-01,  5.4506e-01,  5.4019e-01,  4.6331e-02,\n",
      "          1.9845e-01,  2.6459e-02,  2.3940e-02,  9.9296e-01, -1.1425e-04,\n",
      "          1.6437e-01,  9.7752e-01,  8.8193e-01, -1.9369e-04, -2.4441e-03,\n",
      "          4.4170e-01,  3.6450e-01, -9.3024e-04, -3.8995e-05,  1.1199e-01]])\n",
      "w2:  tensor([[-0.1395],\n",
      "        [ 0.5338],\n",
      "        [ 0.4211],\n",
      "        [ 0.1798],\n",
      "        [ 0.0240],\n",
      "        [ 0.3233],\n",
      "        [ 0.2495],\n",
      "        [ 0.3868],\n",
      "        [ 0.7782],\n",
      "        [ 0.6066],\n",
      "        [-0.0458],\n",
      "        [ 0.1265],\n",
      "        [-0.4560],\n",
      "        [ 0.4171],\n",
      "        [-0.0255],\n",
      "        [-0.2917],\n",
      "        [-0.0873],\n",
      "        [ 0.3599],\n",
      "        [ 0.1968],\n",
      "        [ 0.3022],\n",
      "        [ 0.1240],\n",
      "        [ 0.0960],\n",
      "        [-0.0583],\n",
      "        [ 0.6648],\n",
      "        [ 0.3601],\n",
      "        [ 0.8366],\n",
      "        [ 0.2064],\n",
      "        [ 0.5701],\n",
      "        [-0.2620],\n",
      "        [ 0.8558],\n",
      "        [ 0.2690],\n",
      "        [ 0.2481],\n",
      "        [-0.3047],\n",
      "        [-0.2354],\n",
      "        [ 0.5925],\n",
      "        [ 0.2741],\n",
      "        [-0.1277],\n",
      "        [ 0.1579],\n",
      "        [ 0.4603],\n",
      "        [ 0.2159],\n",
      "        [-0.0142],\n",
      "        [ 0.4597],\n",
      "        [ 0.5683],\n",
      "        [-0.0981],\n",
      "        [ 0.4862],\n",
      "        [ 0.6050],\n",
      "        [-0.1660],\n",
      "        [-0.0720],\n",
      "        [ 0.5206],\n",
      "        [ 0.2592],\n",
      "        [ 0.4539],\n",
      "        [ 0.6688],\n",
      "        [-0.1891],\n",
      "        [ 0.3047],\n",
      "        [ 0.6046],\n",
      "        [ 0.3733],\n",
      "        [ 0.2486],\n",
      "        [ 0.1934],\n",
      "        [ 0.6535],\n",
      "        [ 0.2408],\n",
      "        [ 0.7478],\n",
      "        [-0.0979],\n",
      "        [ 0.1111],\n",
      "        [-0.3527],\n",
      "        [ 0.8092],\n",
      "        [ 0.7356],\n",
      "        [ 0.0661],\n",
      "        [-0.3317],\n",
      "        [-0.2309],\n",
      "        [-0.1946],\n",
      "        [ 0.4867],\n",
      "        [-0.2073],\n",
      "        [ 0.1298],\n",
      "        [-0.1035],\n",
      "        [ 0.0961],\n",
      "        [ 0.6804],\n",
      "        [-0.0270],\n",
      "        [ 0.8055],\n",
      "        [ 0.3860],\n",
      "        [-0.4305],\n",
      "        [ 0.3809],\n",
      "        [ 0.8020],\n",
      "        [-0.0182],\n",
      "        [-0.0391],\n",
      "        [ 0.6398],\n",
      "        [ 0.5362],\n",
      "        [ 0.5798],\n",
      "        [ 0.8436],\n",
      "        [-0.2257],\n",
      "        [ 0.1878],\n",
      "        [ 0.3439],\n",
      "        [-0.2365],\n",
      "        [-0.3237],\n",
      "        [ 0.4682],\n",
      "        [ 0.7580],\n",
      "        [ 0.1215],\n",
      "        [-0.0727],\n",
      "        [ 0.6511],\n",
      "        [ 0.0101],\n",
      "        [ 0.3539]])\n"
     ]
    }
   ],
   "source": [
    "print ('w1: ', w1)\n",
    "print ('w2: ', w2)"
   ]
  },
  {
   "cell_type": "markdown",
   "metadata": {},
   "source": [
    "#### Checking the output"
   ]
  },
  {
   "cell_type": "markdown",
   "metadata": {},
   "source": [
    "Converting data into a tensor"
   ]
  },
  {
   "cell_type": "code",
   "execution_count": 10,
   "metadata": {},
   "outputs": [
    {
     "data": {
      "text/plain": [
       "tensor([[  3.3000],\n",
       "        [  4.4000],\n",
       "        [  5.5000],\n",
       "        [  6.7100],\n",
       "        [  6.9300],\n",
       "        [  4.1680],\n",
       "        [  9.7790],\n",
       "        [  6.1820],\n",
       "        [  7.5900],\n",
       "        [  2.1670],\n",
       "        [  7.0420],\n",
       "        [ 10.7910],\n",
       "        [  5.3130],\n",
       "        [  7.9970],\n",
       "        [  3.1000]])"
      ]
     },
     "execution_count": 10,
     "metadata": {},
     "output_type": "execute_result"
    }
   ],
   "source": [
    "x_train_tensor = torch.from_numpy(x_train)\n",
    "x_train_tensor"
   ]
  },
  {
   "cell_type": "markdown",
   "metadata": {},
   "source": [
    "#### Get the predicted values using the weights \n",
    "Using final weights calculated from our training in order to get the predicted values"
   ]
  },
  {
   "cell_type": "code",
   "execution_count": 11,
   "metadata": {},
   "outputs": [
    {
     "data": {
      "text/plain": [
       "tensor([[ 1.2115],\n",
       "        [ 1.6154],\n",
       "        [ 2.0192],\n",
       "        [ 2.4634],\n",
       "        [ 2.5442],\n",
       "        [ 1.5302],\n",
       "        [ 3.5901],\n",
       "        [ 2.2696],\n",
       "        [ 2.7865],\n",
       "        [ 0.7956],\n",
       "        [ 2.5853],\n",
       "        [ 3.9617],\n",
       "        [ 1.9505],\n",
       "        [ 2.9359],\n",
       "        [ 1.1381]])"
      ]
     },
     "execution_count": 11,
     "metadata": {},
     "output_type": "execute_result"
    }
   ],
   "source": [
    "predicted_in_tensor = x_train_tensor.mm(w1).clamp(min=0).mm(w2)\n",
    "predicted_in_tensor"
   ]
  },
  {
   "cell_type": "markdown",
   "metadata": {},
   "source": [
    "#### Convert the prediction to a numpy array\n",
    "This will be used to plot the regression line in a plot"
   ]
  },
  {
   "cell_type": "code",
   "execution_count": 12,
   "metadata": {},
   "outputs": [
    {
     "data": {
      "text/plain": [
       "array([[1.2115161],\n",
       "       [1.6153553],\n",
       "       [2.0191932],\n",
       "       [2.4634156],\n",
       "       [2.5441837],\n",
       "       [1.5301828],\n",
       "       [3.590127 ],\n",
       "       [2.2695737],\n",
       "       [2.786488 ],\n",
       "       [0.7955625],\n",
       "       [2.5853019],\n",
       "       [3.9616613],\n",
       "       [1.9505415],\n",
       "       [2.9359074],\n",
       "       [1.1380908]], dtype=float32)"
      ]
     },
     "execution_count": 12,
     "metadata": {},
     "output_type": "execute_result"
    }
   ],
   "source": [
    "predicted = predicted_in_tensor.detach().numpy()\n",
    "predicted"
   ]
  },
  {
   "cell_type": "markdown",
   "metadata": {},
   "source": [
    "#### Plotting\n",
    "Our training has produced a rather accurate regression line"
   ]
  },
  {
   "cell_type": "code",
   "execution_count": 13,
   "metadata": {},
   "outputs": [
    {
     "data": {
      "image/png": "[encoded data removed]",
      "text/plain": [
       "<matplotlib.figure.Figure at 0x110ba9390>"
      ]
     },
     "metadata": {},
     "output_type": "display_data"
    }
   ],
   "source": [
    "plt.plot(x_train, y_train, 'ro', label = 'Original data') \n",
    "\n",
    "plt.plot(x_train, predicted, label = 'Fitted line ')\n",
    "\n",
    "plt.legend() \n",
    "\n",
    "plt.show()"
   ]
  },
  {
   "cell_type": "code",
   "execution_count": null,
   "metadata": {
    "collapsed": true
   },
   "outputs": [],
   "source": []
  },
  {
   "cell_type": "code",
   "execution_count": null,
   "metadata": {
    "collapsed": true
   },
   "outputs": [],
   "source": []
  }
 ],
 "metadata": {
  "kernelspec": {
   "display_name": "Python 3",
   "language": "python",
   "name": "python3"
  },
  "language_info": {
   "codemirror_mode": {
    "name": "ipython",
    "version": 3
   },
   "file_extension": ".py",
   "mimetype": "text/x-python",
   "name": "python",
   "nbconvert_exporter": "python",
   "pygments_lexer": "ipython3",
   "version": "3.6.4"
  }
 },
 "nbformat": 4,
 "nbformat_minor": 2
}
