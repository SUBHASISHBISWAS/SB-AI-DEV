{
 "cells": [
  {
   "cell_type": "code",
   "execution_count": 1,
   "metadata": {},
   "outputs": [],
   "source": [
    "import tensorflow as tf\n",
    "\n",
    "from tensorflow.keras import layers"
   ]
  },
  {
   "cell_type": "markdown",
   "metadata": {},
   "source": [
    "#### Generating random values"
   ]
  },
  {
   "cell_type": "code",
   "execution_count": 2,
   "metadata": {},
   "outputs": [
    {
     "data": {
      "text/plain": [
       "<tf.Tensor: shape=(2, 3), dtype=float32, numpy=\n",
       "array([[0., 0., 0.],\n",
       "       [0., 0., 0.]], dtype=float32)>"
      ]
     },
     "execution_count": 2,
     "metadata": {},
     "output_type": "execute_result"
    }
   ],
   "source": [
    "zero_initializer = tf.zeros_initializer()\n",
    "\n",
    "tensor_1 = zero_initializer(shape=(2, 3))\n",
    "\n",
    "tensor_1"
   ]
  },
  {
   "cell_type": "code",
   "execution_count": 3,
   "metadata": {},
   "outputs": [
    {
     "data": {
      "text/plain": [
       "<tf.Tensor: shape=(4, 5), dtype=float32, numpy=\n",
       "array([[-0.0015359 , -0.00768777,  0.02052042, -0.01907   ,  0.042377  ],\n",
       "       [ 0.0260491 ,  0.10835899,  0.05535808, -0.02334366, -0.02624059],\n",
       "       [-0.04204807, -0.06617768,  0.00094021, -0.07507539, -0.05824383],\n",
       "       [ 0.04488286,  0.05598111, -0.05822297, -0.01514271, -0.01171237]],\n",
       "      dtype=float32)>"
      ]
     },
     "execution_count": 3,
     "metadata": {},
     "output_type": "execute_result"
    }
   ],
   "source": [
    "random_normal_initializer = tf.random_normal_initializer()\n",
    "\n",
    "tensor_2 = random_normal_initializer(shape=(4, 5))\n",
    "\n",
    "tensor_2"
   ]
  },
  {
   "cell_type": "markdown",
   "metadata": {},
   "source": [
    "### Writing custom layer\n",
    "\n",
    "##### Writing custom layer which implement  y=ax+b and return y as result"
   ]
  },
  {
   "cell_type": "code",
   "execution_count": 4,
   "metadata": {},
   "outputs": [],
   "source": [
    "class SimpleLinear(layers.Layer):\n",
    "    \n",
    "    def __init__ (self, input_dim=16, units=8, **kwargs):\n",
    "        super(SimpleLinear, self).__init__(**kwargs)\n",
    "        \n",
    "        w_init = tf.random_normal_initializer()\n",
    "        \n",
    "        self.w = tf.Variable(initial_value=w_init(shape=(input_dim, units), \n",
    "                                                  dtype='float32'), \n",
    "                             trainable=True)\n",
    "        \n",
    "        b_init = tf.zeros_initializer()\n",
    "        self.b = tf.Variable(initial_value=b_init(shape=(units),\n",
    "                                                  dtype='float32'),\n",
    "                             trainable=True)\n",
    "    \n",
    "    def call(self, input_tensor):\n",
    "        \n",
    "        return tf.matmul(input_tensor, self.w) + self.b"
   ]
  },
  {
   "cell_type": "code",
   "execution_count": 5,
   "metadata": {},
   "outputs": [
    {
     "data": {
      "text/plain": [
       "<tf.Tensor: shape=(4, 3), dtype=float32, numpy=\n",
       "array([[1., 1., 1.],\n",
       "       [1., 1., 1.],\n",
       "       [1., 1., 1.],\n",
       "       [1., 1., 1.]], dtype=float32)>"
      ]
     },
     "execution_count": 5,
     "metadata": {},
     "output_type": "execute_result"
    }
   ],
   "source": [
    "x = tf.ones((4, 3))\n",
    "\n",
    "x"
   ]
  },
  {
   "cell_type": "code",
   "execution_count": 6,
   "metadata": {},
   "outputs": [
    {
     "name": "stdout",
     "output_type": "stream",
     "text": [
      "tf.Tensor(\n",
      "[[-0.08927916 -0.13878676  0.10402076 -0.02676938  0.04600964]\n",
      " [-0.08927916 -0.13878676  0.10402076 -0.02676938  0.04600964]\n",
      " [-0.08927916 -0.13878676  0.10402076 -0.02676938  0.04600964]\n",
      " [-0.08927916 -0.13878676  0.10402076 -0.02676938  0.04600964]], shape=(4, 5), dtype=float32)\n"
     ]
    }
   ],
   "source": [
    "layer1 = SimpleLinear(input_dim=3, units=5)\n",
    "\n",
    "y = layer1(x)\n",
    "\n",
    "print(y)"
   ]
  },
  {
   "cell_type": "code",
   "execution_count": 7,
   "metadata": {},
   "outputs": [
    {
     "data": {
      "text/plain": [
       "[<tf.Variable 'Variable:0' shape=(3, 5) dtype=float32, numpy=\n",
       " array([[-0.01986888, -0.06257363,  0.00108924,  0.02626933, -0.01911998],\n",
       "        [ 0.00567439,  0.00283186,  0.09097283, -0.01630574,  0.0325064 ],\n",
       "        [-0.07508468, -0.07904498,  0.01195868, -0.03673297,  0.03262321]],\n",
       "       dtype=float32)>,\n",
       " <tf.Variable 'Variable:0' shape=(5,) dtype=float32, numpy=array([0., 0., 0., 0., 0.], dtype=float32)>]"
      ]
     },
     "execution_count": 7,
     "metadata": {},
     "output_type": "execute_result"
    }
   ],
   "source": [
    "layer1.weights"
   ]
  },
  {
   "cell_type": "code",
   "execution_count": 8,
   "metadata": {},
   "outputs": [
    {
     "data": {
      "text/plain": [
       "<tf.Variable 'Variable:0' shape=(3, 5) dtype=float32, numpy=\n",
       "array([[-0.01986888, -0.06257363,  0.00108924,  0.02626933, -0.01911998],\n",
       "       [ 0.00567439,  0.00283186,  0.09097283, -0.01630574,  0.0325064 ],\n",
       "       [-0.07508468, -0.07904498,  0.01195868, -0.03673297,  0.03262321]],\n",
       "      dtype=float32)>"
      ]
     },
     "execution_count": 8,
     "metadata": {},
     "output_type": "execute_result"
    }
   ],
   "source": [
    "layer1.w"
   ]
  },
  {
   "cell_type": "code",
   "execution_count": 9,
   "metadata": {},
   "outputs": [
    {
     "data": {
      "text/plain": [
       "<tf.Variable 'Variable:0' shape=(5,) dtype=float32, numpy=array([0., 0., 0., 0., 0.], dtype=float32)>"
      ]
     },
     "execution_count": 9,
     "metadata": {},
     "output_type": "execute_result"
    }
   ],
   "source": [
    "layer1.b"
   ]
  },
  {
   "cell_type": "code",
   "execution_count": 10,
   "metadata": {},
   "outputs": [
    {
     "data": {
      "text/plain": [
       "[<tf.Variable 'Variable:0' shape=(3, 5) dtype=float32, numpy=\n",
       " array([[-0.01986888, -0.06257363,  0.00108924,  0.02626933, -0.01911998],\n",
       "        [ 0.00567439,  0.00283186,  0.09097283, -0.01630574,  0.0325064 ],\n",
       "        [-0.07508468, -0.07904498,  0.01195868, -0.03673297,  0.03262321]],\n",
       "       dtype=float32)>,\n",
       " <tf.Variable 'Variable:0' shape=(5,) dtype=float32, numpy=array([0., 0., 0., 0., 0.], dtype=float32)>]"
      ]
     },
     "execution_count": 10,
     "metadata": {},
     "output_type": "execute_result"
    }
   ],
   "source": [
    "layer1.trainable_variables"
   ]
  },
  {
   "cell_type": "code",
   "execution_count": 11,
   "metadata": {},
   "outputs": [
    {
     "data": {
      "text/plain": [
       "[]"
      ]
     },
     "execution_count": 11,
     "metadata": {},
     "output_type": "execute_result"
    }
   ],
   "source": [
    "layer1.non_trainable_variables"
   ]
  },
  {
   "cell_type": "code",
   "execution_count": 12,
   "metadata": {},
   "outputs": [
    {
     "data": {
      "text/plain": [
       "[]"
      ]
     },
     "execution_count": 12,
     "metadata": {},
     "output_type": "execute_result"
    }
   ],
   "source": [
    "layer1.losses"
   ]
  },
  {
   "cell_type": "markdown",
   "metadata": {},
   "source": [
    "#### Using add_weight"
   ]
  },
  {
   "cell_type": "code",
   "execution_count": 13,
   "metadata": {},
   "outputs": [],
   "source": [
    "class SimpleLinear(layers.Layer):\n",
    "    \n",
    "    def __init__(self, input_dim=16, units=8, **kwargs):\n",
    "        \n",
    "        super(SimpleLinear, self).__init__(**kwargs)\n",
    "        \n",
    "        self.w = self.add_weight(shape=(input_dim, units),\n",
    "                                 initializer='ones',\n",
    "                                 trainable=True)\n",
    "        \n",
    "        self.b = self.add_weight(shape=(units),\n",
    "                                 initializer='ones',\n",
    "                                 trainable=False)\n",
    "        \n",
    "    def call(self, input_tensor):\n",
    "        return tf.matmul(input_tensor, self.w) + self.b"
   ]
  },
  {
   "cell_type": "code",
   "execution_count": 14,
   "metadata": {},
   "outputs": [
    {
     "name": "stdout",
     "output_type": "stream",
     "text": [
      "tf.Tensor(\n",
      "[[-0.0342208   0.03750037  0.01079724]\n",
      " [-0.0273298   0.02210379  0.01500329]\n",
      " [ 0.02725191  0.0368872   0.00225583]\n",
      " [ 0.04407104 -0.04377061 -0.04793216]], shape=(4, 3), dtype=float32)\n"
     ]
    }
   ],
   "source": [
    "random_uniform_initializer = tf.random_uniform_initializer()\n",
    "x = random_uniform_initializer(shape=(4, 3))\n",
    "\n",
    "print(x)"
   ]
  },
  {
   "cell_type": "code",
   "execution_count": 15,
   "metadata": {},
   "outputs": [
    {
     "name": "stdout",
     "output_type": "stream",
     "text": [
      "tf.Tensor(\n",
      "[[1.0140768  1.0140768  1.0140768  1.0140768 ]\n",
      " [1.0097773  1.0097773  1.0097773  1.0097773 ]\n",
      " [1.0663949  1.0663949  1.0663949  1.0663949 ]\n",
      " [0.95236826 0.95236826 0.95236826 0.95236826]], shape=(4, 4), dtype=float32)\n"
     ]
    }
   ],
   "source": [
    "layer2 = SimpleLinear(input_dim=x.shape[1], units=4)\n",
    "\n",
    "y = layer2(x)\n",
    "\n",
    "print(y)"
   ]
  },
  {
   "cell_type": "code",
   "execution_count": 16,
   "metadata": {},
   "outputs": [
    {
     "data": {
      "text/plain": [
       "[<tf.Variable 'Variable:0' shape=(3, 4) dtype=float32, numpy=\n",
       " array([[1., 1., 1., 1.],\n",
       "        [1., 1., 1., 1.],\n",
       "        [1., 1., 1., 1.]], dtype=float32)>,\n",
       " <tf.Variable 'Variable:0' shape=(4,) dtype=float32, numpy=array([1., 1., 1., 1.], dtype=float32)>]"
      ]
     },
     "execution_count": 16,
     "metadata": {},
     "output_type": "execute_result"
    }
   ],
   "source": [
    "layer2.weights"
   ]
  },
  {
   "cell_type": "code",
   "execution_count": 17,
   "metadata": {},
   "outputs": [
    {
     "data": {
      "text/plain": [
       "[<tf.Variable 'Variable:0' shape=(3, 4) dtype=float32, numpy=\n",
       " array([[1., 1., 1., 1.],\n",
       "        [1., 1., 1., 1.],\n",
       "        [1., 1., 1., 1.]], dtype=float32)>]"
      ]
     },
     "execution_count": 17,
     "metadata": {},
     "output_type": "execute_result"
    }
   ],
   "source": [
    "layer2.trainable_variables"
   ]
  },
  {
   "cell_type": "code",
   "execution_count": 18,
   "metadata": {},
   "outputs": [
    {
     "data": {
      "text/plain": [
       "[<tf.Variable 'Variable:0' shape=(4,) dtype=float32, numpy=array([1., 1., 1., 1.], dtype=float32)>]"
      ]
     },
     "execution_count": 18,
     "metadata": {},
     "output_type": "execute_result"
    }
   ],
   "source": [
    "layer2.non_trainable_variables"
   ]
  },
  {
   "cell_type": "code",
   "execution_count": 19,
   "metadata": {},
   "outputs": [],
   "source": [
    "class SimpleLinear(layers.Layer):\n",
    "    \n",
    "    def __init__(self, units=8, **kwargs):\n",
    "        \n",
    "        super(SimpleLinear, self).__init__(**kwargs)\n",
    "        self.units = units\n",
    "\n",
    "    def build(self, input_shape):\n",
    "        \n",
    "        self.w = self.add_weight(shape=(input_shape[-1], self.units),\n",
    "                                 initializer='random_normal',\n",
    "                                 trainable=True)\n",
    "        \n",
    "        self.b = self.add_weight(shape=(self.units),\n",
    "                                 initializer='ones',\n",
    "                                 trainable=True)\n",
    "        \n",
    "    def call(self, input_tensor):\n",
    "        return tf.matmul(input_tensor, self.w) + self.b"
   ]
  },
  {
   "cell_type": "code",
   "execution_count": 20,
   "metadata": {},
   "outputs": [
    {
     "name": "stdout",
     "output_type": "stream",
     "text": [
      "tf.Tensor(\n",
      "[[ 0.02467035 -0.01496311 -0.00960634 -0.04457356 -0.03302558]\n",
      " [-0.04899872  0.02599639  0.00155749 -0.04639119  0.02944628]\n",
      " [-0.01967686 -0.01039328  0.02680061 -0.04499957  0.01648284]\n",
      " [-0.00875422  0.01861483 -0.00118383 -0.00827408 -0.01909715]], shape=(4, 5), dtype=float32)\n"
     ]
    }
   ],
   "source": [
    "random_uniform_initializer = tf.random_uniform_initializer()\n",
    "x = random_uniform_initializer(shape=(4, 5))\n",
    "\n",
    "print(x)"
   ]
  },
  {
   "cell_type": "code",
   "execution_count": 21,
   "metadata": {},
   "outputs": [
    {
     "name": "stdout",
     "output_type": "stream",
     "text": [
      "tf.Tensor(\n",
      "[[0.9979495  1.0001174  0.99816567]\n",
      " [1.0029641  0.99669886 1.0004746 ]\n",
      " [1.0017658  0.99915856 0.9994459 ]\n",
      " [1.000316   1.0001205  0.9985429 ]], shape=(4, 3), dtype=float32)\n"
     ]
    }
   ],
   "source": [
    "layer3 = SimpleLinear(units=3)\n",
    "\n",
    "y = layer3(x)\n",
    "\n",
    "print(y)"
   ]
  },
  {
   "cell_type": "code",
   "execution_count": 22,
   "metadata": {},
   "outputs": [
    {
     "data": {
      "text/plain": [
       "[]"
      ]
     },
     "execution_count": 22,
     "metadata": {},
     "output_type": "execute_result"
    }
   ],
   "source": [
    "layer3.losses"
   ]
  },
  {
   "cell_type": "code",
   "execution_count": 23,
   "metadata": {},
   "outputs": [],
   "source": [
    "class SimpleLinearBlock(layers.Layer):\n",
    "\n",
    "    def __init__(self, block_1_units=2, block_2_units=4, block_3_units=8, **kwargs):\n",
    "        super(SimpleLinearBlock, self).__init__(**kwargs)\n",
    "        \n",
    "        self.linear_1 = SimpleLinear(block_1_units)\n",
    "        self.linear_2 = SimpleLinear(block_2_units)\n",
    "        self.linear_3 = SimpleLinear(block_3_units)\n",
    "\n",
    "    def call(self, inputs):\n",
    "\n",
    "        x = self.linear_1(inputs)\n",
    "        x = tf.nn.relu(x)\n",
    "        \n",
    "        x = self.linear_2(x)\n",
    "        x = tf.nn.relu(x)\n",
    "        \n",
    "        return self.linear_3(x)"
   ]
  },
  {
   "cell_type": "code",
   "execution_count": 24,
   "metadata": {},
   "outputs": [
    {
     "name": "stdout",
     "output_type": "stream",
     "text": [
      "tf.Tensor(\n",
      "[[-0.03946048 -0.03975517 -0.03787321 -0.03895148 -0.00758871]\n",
      " [-0.04922526 -0.04048183 -0.01923621  0.04303591  0.0163168 ]\n",
      " [-0.02420375 -0.01922588  0.03340223 -0.0114023  -0.04867698]\n",
      " [-0.03055423 -0.00682204  0.00107227  0.02042076 -0.04618406]], shape=(4, 5), dtype=float32)\n"
     ]
    }
   ],
   "source": [
    "random_uniform_initializer = tf.random_uniform_initializer()\n",
    "x = random_uniform_initializer(shape=(4, 5))\n",
    "\n",
    "print(x)"
   ]
  },
  {
   "cell_type": "code",
   "execution_count": 25,
   "metadata": {},
   "outputs": [
    {
     "data": {
      "text/plain": [
       "<tf.Tensor: shape=(4, 8), dtype=float32, numpy=\n",
       "array([[0.90212685, 1.0502387 , 0.9857854 , 0.91740775, 0.88879645,\n",
       "        1.0305659 , 0.889248  , 1.0425507 ],\n",
       "       [0.9021264 , 1.0502366 , 0.9857876 , 0.9174008 , 0.88878894,\n",
       "        1.0305696 , 0.8892461 , 1.0425625 ],\n",
       "       [0.9021285 , 1.0502363 , 0.9857748 , 0.9174034 , 0.8887758 ,\n",
       "        1.0305704 , 0.88924724, 1.0425671 ],\n",
       "       [0.90212697, 1.0502336 , 0.98578286, 0.9173933 , 0.88877153,\n",
       "        1.0305747 , 0.88924426, 1.0425805 ]], dtype=float32)>"
      ]
     },
     "execution_count": 25,
     "metadata": {},
     "output_type": "execute_result"
    }
   ],
   "source": [
    "simple_linear_block = SimpleLinearBlock()\n",
    "\n",
    "y = simple_linear_block(x)\n",
    "\n",
    "y"
   ]
  },
  {
   "cell_type": "code",
   "execution_count": 26,
   "metadata": {},
   "outputs": [
    {
     "data": {
      "text/plain": [
       "[<tf.Variable 'simple_linear_block/simple_linear_3/Variable:0' shape=(5, 2) dtype=float32, numpy=\n",
       " array([[ 0.07589477, -0.10044587],\n",
       "        [-0.00028782, -0.01916383],\n",
       "        [-0.06368774,  0.0019035 ],\n",
       "        [ 0.05298022, -0.01894481],\n",
       "        [-0.03009824, -0.00583311]], dtype=float32)>,\n",
       " <tf.Variable 'simple_linear_block/simple_linear_3/Variable:0' shape=(2,) dtype=float32, numpy=array([1., 1.], dtype=float32)>,\n",
       " <tf.Variable 'simple_linear_block/simple_linear_4/Variable:0' shape=(2, 4) dtype=float32, numpy=\n",
       " array([[-0.05691573,  0.02656799,  0.0064048 ,  0.02636926],\n",
       "        [-0.03168918,  0.02296992, -0.09049986, -0.05119945]],\n",
       "       dtype=float32)>,\n",
       " <tf.Variable 'simple_linear_block/simple_linear_4/Variable:0' shape=(4,) dtype=float32, numpy=array([1., 1., 1., 1.], dtype=float32)>,\n",
       " <tf.Variable 'simple_linear_block/simple_linear_5/Variable:0' shape=(4, 8) dtype=float32, numpy=\n",
       " array([[-2.7213544e-02,  3.1473007e-02, -3.5119768e-02,  2.6942952e-02,\n",
       "         -2.2789508e-02, -1.1599509e-02, -2.4769930e-02, -4.3246627e-02],\n",
       "        [-6.1464753e-02,  2.9515220e-02,  3.7014209e-02, -6.3822217e-02,\n",
       "          3.7160337e-02,  8.5742455e-03, -6.0780156e-02, -3.8552161e-02],\n",
       "        [ 1.2315855e-02, -2.8748667e-02, -2.5366757e-02, -7.6806918e-02,\n",
       "         -4.1188966e-02,  3.3443458e-02,  3.2476430e-05,  7.3739633e-02],\n",
       "        [-2.0344483e-02,  1.7329019e-02,  2.2186106e-03,  3.0928126e-02,\n",
       "         -9.4102003e-02,  1.5629685e-03, -2.5043005e-02,  5.6345474e-02]],\n",
       "       dtype=float32)>,\n",
       " <tf.Variable 'simple_linear_block/simple_linear_5/Variable:0' shape=(8,) dtype=float32, numpy=array([1., 1., 1., 1., 1., 1., 1., 1.], dtype=float32)>]"
      ]
     },
     "execution_count": 26,
     "metadata": {},
     "output_type": "execute_result"
    }
   ],
   "source": [
    "simple_linear_block.weights"
   ]
  },
  {
   "cell_type": "code",
   "execution_count": 27,
   "metadata": {},
   "outputs": [
    {
     "data": {
      "text/plain": [
       "[<tf.Variable 'simple_linear_block/simple_linear_3/Variable:0' shape=(5, 2) dtype=float32, numpy=\n",
       " array([[ 0.07589477, -0.10044587],\n",
       "        [-0.00028782, -0.01916383],\n",
       "        [-0.06368774,  0.0019035 ],\n",
       "        [ 0.05298022, -0.01894481],\n",
       "        [-0.03009824, -0.00583311]], dtype=float32)>,\n",
       " <tf.Variable 'simple_linear_block/simple_linear_3/Variable:0' shape=(2,) dtype=float32, numpy=array([1., 1.], dtype=float32)>,\n",
       " <tf.Variable 'simple_linear_block/simple_linear_4/Variable:0' shape=(2, 4) dtype=float32, numpy=\n",
       " array([[-0.05691573,  0.02656799,  0.0064048 ,  0.02636926],\n",
       "        [-0.03168918,  0.02296992, -0.09049986, -0.05119945]],\n",
       "       dtype=float32)>,\n",
       " <tf.Variable 'simple_linear_block/simple_linear_4/Variable:0' shape=(4,) dtype=float32, numpy=array([1., 1., 1., 1.], dtype=float32)>,\n",
       " <tf.Variable 'simple_linear_block/simple_linear_5/Variable:0' shape=(4, 8) dtype=float32, numpy=\n",
       " array([[-2.7213544e-02,  3.1473007e-02, -3.5119768e-02,  2.6942952e-02,\n",
       "         -2.2789508e-02, -1.1599509e-02, -2.4769930e-02, -4.3246627e-02],\n",
       "        [-6.1464753e-02,  2.9515220e-02,  3.7014209e-02, -6.3822217e-02,\n",
       "          3.7160337e-02,  8.5742455e-03, -6.0780156e-02, -3.8552161e-02],\n",
       "        [ 1.2315855e-02, -2.8748667e-02, -2.5366757e-02, -7.6806918e-02,\n",
       "         -4.1188966e-02,  3.3443458e-02,  3.2476430e-05,  7.3739633e-02],\n",
       "        [-2.0344483e-02,  1.7329019e-02,  2.2186106e-03,  3.0928126e-02,\n",
       "         -9.4102003e-02,  1.5629685e-03, -2.5043005e-02,  5.6345474e-02]],\n",
       "       dtype=float32)>,\n",
       " <tf.Variable 'simple_linear_block/simple_linear_5/Variable:0' shape=(8,) dtype=float32, numpy=array([1., 1., 1., 1., 1., 1., 1., 1.], dtype=float32)>]"
      ]
     },
     "execution_count": 27,
     "metadata": {},
     "output_type": "execute_result"
    }
   ],
   "source": [
    "simple_linear_block.trainable_weights"
   ]
  },
  {
   "cell_type": "code",
   "execution_count": 28,
   "metadata": {},
   "outputs": [],
   "source": [
    "class RegularizationLoss(layers.Layer):\n",
    "\n",
    "    def __init__(self, rate=1e-3, **kwargs):\n",
    "        super(RegularizationLoss, self).__init__(**kwargs)\n",
    "        \n",
    "        self.rate = rate\n",
    "\n",
    "    def call(self, input_tensor):\n",
    "        self.add_loss(self.rate * tf.reduce_sum(input_tensor))\n",
    "        \n",
    "        return input_tensor"
   ]
  },
  {
   "cell_type": "code",
   "execution_count": 29,
   "metadata": {},
   "outputs": [
    {
     "name": "stdout",
     "output_type": "stream",
     "text": [
      "tf.Tensor(\n",
      "[[ 0.03730351  0.04356767  0.02137389  0.02603621  0.02190751]\n",
      " [ 0.00549287 -0.00827659 -0.01739709 -0.02873032 -0.01587219]\n",
      " [ 0.04945782  0.04769165 -0.01532748 -0.01396229  0.04666144]\n",
      " [-0.01732673  0.03400924  0.02816853  0.03483668 -0.04273689]], shape=(4, 5), dtype=float32)\n"
     ]
    }
   ],
   "source": [
    "random_uniform_initializer = tf.random_uniform_initializer()\n",
    "x = random_uniform_initializer(shape=(4, 5))\n",
    "\n",
    "print(x)"
   ]
  },
  {
   "cell_type": "code",
   "execution_count": 30,
   "metadata": {},
   "outputs": [
    {
     "data": {
      "text/plain": [
       "<tf.Tensor: shape=(4, 5), dtype=float32, numpy=\n",
       "array([[ 0.03730351,  0.04356767,  0.02137389,  0.02603621,  0.02190751],\n",
       "       [ 0.00549287, -0.00827659, -0.01739709, -0.02873032, -0.01587219],\n",
       "       [ 0.04945782,  0.04769165, -0.01532748, -0.01396229,  0.04666144],\n",
       "       [-0.01732673,  0.03400924,  0.02816853,  0.03483668, -0.04273689]],\n",
       "      dtype=float32)>"
      ]
     },
     "execution_count": 30,
     "metadata": {},
     "output_type": "execute_result"
    }
   ],
   "source": [
    "reg_loss_layer = RegularizationLoss()\n",
    "\n",
    "y = reg_loss_layer(x)\n",
    "\n",
    "y"
   ]
  },
  {
   "cell_type": "code",
   "execution_count": 31,
   "metadata": {},
   "outputs": [
    {
     "data": {
      "text/plain": [
       "[<tf.Tensor: shape=(), dtype=float32, numpy=0.00023687746>]"
      ]
     },
     "execution_count": 31,
     "metadata": {},
     "output_type": "execute_result"
    }
   ],
   "source": [
    "reg_loss_layer.losses"
   ]
  },
  {
   "cell_type": "code",
   "execution_count": 32,
   "metadata": {},
   "outputs": [],
   "source": [
    "class SimpleLinearRegularized(layers.Layer):\n",
    "    \n",
    "    def __init__(self, units=8, **kwargs):\n",
    "        super(SimpleLinearRegularized, self).__init__(**kwargs)\n",
    "        \n",
    "        self.units = units\n",
    "        self.reg = RegularizationLoss(1e-2)\n",
    "\n",
    "    def build(self, input_shape):\n",
    "        \n",
    "        self.w = self.add_weight(shape=(input_shape[-1], self.units),\n",
    "                                 initializer='random_normal',\n",
    "                                 trainable=True)\n",
    "        \n",
    "        self.b = self.add_weight(shape=(self.units),\n",
    "                                 initializer='ones',\n",
    "                                 trainable=True)\n",
    "        \n",
    "    def call(self, input_tensor):\n",
    "        \n",
    "        output = tf.matmul(input_tensor, self.w) + self.b\n",
    "        \n",
    "        return self.reg(output)"
   ]
  },
  {
   "cell_type": "code",
   "execution_count": 33,
   "metadata": {},
   "outputs": [
    {
     "name": "stdout",
     "output_type": "stream",
     "text": [
      "tf.Tensor(\n",
      "[[-0.00743013 -0.0001335  -0.02866185  0.02778459 -0.0288618 ]\n",
      " [-0.04805789  0.04186578  0.03177341 -0.02208978 -0.01787059]\n",
      " [-0.04887817 -0.0467484  -0.04797031  0.02621657 -0.03095305]\n",
      " [ 0.00220103  0.01176266 -0.00769063 -0.04209554 -0.01088507]], shape=(4, 5), dtype=float32)\n"
     ]
    }
   ],
   "source": [
    "random_uniform_initializer = tf.random_uniform_initializer()\n",
    "x = random_uniform_initializer(shape=(4, 5))\n",
    "\n",
    "print(x)"
   ]
  },
  {
   "cell_type": "code",
   "execution_count": 34,
   "metadata": {},
   "outputs": [
    {
     "name": "stdout",
     "output_type": "stream",
     "text": [
      "tf.Tensor(\n",
      "[[0.9978588  1.0012716  0.99876904]\n",
      " [1.00071    0.9972389  1.0031072 ]\n",
      " [0.99884844 1.0037364  0.994497  ]\n",
      " [1.0017674  0.9992873  1.0021176 ]], shape=(4, 3), dtype=float32)\n"
     ]
    }
   ],
   "source": [
    "layer4 = SimpleLinearRegularized(units=3)\n",
    "\n",
    "y = layer4(x)\n",
    "\n",
    "print(y)"
   ]
  },
  {
   "cell_type": "code",
   "execution_count": 35,
   "metadata": {},
   "outputs": [
    {
     "data": {
      "text/plain": [
       "<tf.Tensor: shape=(4, 3), dtype=float32, numpy=\n",
       "array([[0.9978588 , 1.0012716 , 0.99876904],\n",
       "       [1.00071   , 0.9972389 , 1.0031072 ],\n",
       "       [0.99884844, 1.0037364 , 0.994497  ],\n",
       "       [1.0017674 , 0.9992873 , 1.0021176 ]], dtype=float32)>"
      ]
     },
     "execution_count": 35,
     "metadata": {},
     "output_type": "execute_result"
    }
   ],
   "source": [
    "tf.matmul(x, layer4.w) + layer4.b"
   ]
  },
  {
   "cell_type": "code",
   "execution_count": 36,
   "metadata": {},
   "outputs": [
    {
     "data": {
      "text/plain": [
       "[<tf.Tensor: shape=(), dtype=float32, numpy=0.11999209>]"
      ]
     },
     "execution_count": 36,
     "metadata": {},
     "output_type": "execute_result"
    }
   ],
   "source": [
    "layer4.losses"
   ]
  },
  {
   "cell_type": "code",
   "execution_count": 37,
   "metadata": {},
   "outputs": [],
   "source": [
    "class DenseRegularized(layers.Layer):\n",
    "    \n",
    "    def __init__(self, units=8, **kwargs):\n",
    "        super(DenseRegularized, self).__init__(**kwargs)\n",
    "        \n",
    "        self.dense = layers.Dense(units, kernel_regularizer=tf.keras.regularizers.l2(1e-3))\n",
    "\n",
    "        self.reg = RegularizationLoss(1e-2)\n",
    "\n",
    "    def call(self, input_tensor):\n",
    "        \n",
    "        return self.reg(self.dense(input_tensor))"
   ]
  },
  {
   "cell_type": "code",
   "execution_count": 38,
   "metadata": {},
   "outputs": [
    {
     "name": "stdout",
     "output_type": "stream",
     "text": [
      "tf.Tensor(\n",
      "[[ 0.04129548  0.03124814  0.0085     -0.01742555  0.01846952]\n",
      " [-0.03748672  0.02428729 -0.02671628  0.01622481  0.04348439]\n",
      " [ 0.04368139 -0.01148559 -0.04284557  0.00981519  0.02600468]\n",
      " [ 0.02071592 -0.02317998  0.02401484 -0.01383345 -0.04121181]], shape=(4, 5), dtype=float32)\n"
     ]
    }
   ],
   "source": [
    "random_uniform_initializer = tf.random_uniform_initializer()\n",
    "x = random_uniform_initializer(shape=(4, 5))\n",
    "\n",
    "print(x)"
   ]
  },
  {
   "cell_type": "code",
   "execution_count": 39,
   "metadata": {},
   "outputs": [
    {
     "name": "stdout",
     "output_type": "stream",
     "text": [
      "tf.Tensor(\n",
      "[[ 0.01330353  0.00016853 -0.05173451]\n",
      " [ 0.00745268  0.0102701   0.02861171]\n",
      " [ 0.06117264  0.00524457 -0.04640967]\n",
      " [-0.01233857 -0.01025378 -0.01344557]], shape=(4, 3), dtype=float32)\n"
     ]
    }
   ],
   "source": [
    "layer5 = DenseRegularized(units=3)\n",
    "\n",
    "y = layer5(x)\n",
    "\n",
    "print(y)"
   ]
  },
  {
   "cell_type": "code",
   "execution_count": 40,
   "metadata": {},
   "outputs": [
    {
     "data": {
      "text/plain": [
       "[<tf.Tensor: shape=(), dtype=float32, numpy=0.0032079217>,\n",
       " <tf.Tensor: shape=(), dtype=float32, numpy=-7.958338e-05>]"
      ]
     },
     "execution_count": 40,
     "metadata": {},
     "output_type": "execute_result"
    }
   ],
   "source": [
    "layer5.losses"
   ]
  },
  {
   "cell_type": "code",
   "execution_count": 41,
   "metadata": {},
   "outputs": [],
   "source": [
    "class SimpleLinear(layers.Layer):\n",
    "    \n",
    "    def __init__(self, units=8, **kwargs):\n",
    "        \n",
    "        super(SimpleLinear, self).__init__(**kwargs)\n",
    "        self.units = units\n",
    "\n",
    "    def build(self, input_shape):\n",
    "        \n",
    "        self.w = self.add_weight(shape=(input_shape[-1], self.units),\n",
    "                                 initializer='random_normal',\n",
    "                                 trainable=True)\n",
    "        \n",
    "        self.b = self.add_weight(shape=(self.units),\n",
    "                                 initializer='ones',\n",
    "                                 trainable=True)\n",
    "        \n",
    "    def call(self, input_tensor):\n",
    "        return tf.matmul(input_tensor, self.w) + self.b\n",
    "    \n",
    "    def get_config(self):\n",
    "        \n",
    "        config = super(SimpleLinear, self).get_config()\n",
    "        config.update({'units': self.units})\n",
    "        \n",
    "        return config"
   ]
  },
  {
   "cell_type": "code",
   "execution_count": 42,
   "metadata": {},
   "outputs": [
    {
     "name": "stdout",
     "output_type": "stream",
     "text": [
      "tf.Tensor(\n",
      "[[-1.8779492e-02 -2.8716469e-02  1.1884153e-02 -4.1013967e-02\n",
      "  -2.7351975e-03]\n",
      " [ 2.7448390e-02  1.3123825e-04  5.3234585e-03 -1.5205525e-02\n",
      "  -4.0112279e-02]\n",
      " [-1.7390475e-03  8.2683451e-03  1.5293930e-02 -1.4508069e-02\n",
      "   5.8886632e-03]\n",
      " [ 3.3531319e-02 -7.8979246e-03  5.9265718e-03  2.8960109e-03\n",
      "  -4.3381006e-05]], shape=(4, 5), dtype=float32)\n"
     ]
    }
   ],
   "source": [
    "random_uniform_initializer = tf.random_uniform_initializer()\n",
    "x = random_uniform_initializer(shape=(4, 5))\n",
    "\n",
    "print(x)"
   ]
  },
  {
   "cell_type": "code",
   "execution_count": 43,
   "metadata": {},
   "outputs": [
    {
     "name": "stdout",
     "output_type": "stream",
     "text": [
      "tf.Tensor(\n",
      "[[1.0049342  1.0018066  1.0039151 ]\n",
      " [1.000288   1.0034908  0.99929273]\n",
      " [1.0019583  0.99917114 1.0019743 ]\n",
      " [0.99948907 1.0012959  0.9990688 ]], shape=(4, 3), dtype=float32)\n"
     ]
    }
   ],
   "source": [
    "layer6 = SimpleLinear(units=3)\n",
    "\n",
    "y = layer6(x)\n",
    "\n",
    "print(y)"
   ]
  },
  {
   "cell_type": "code",
   "execution_count": 44,
   "metadata": {},
   "outputs": [
    {
     "data": {
      "text/plain": [
       "{'name': 'simple_linear_6', 'trainable': True, 'dtype': 'float32', 'units': 3}"
      ]
     },
     "execution_count": 44,
     "metadata": {},
     "output_type": "execute_result"
    }
   ],
   "source": [
    "config = layer6.get_config()\n",
    "\n",
    "config"
   ]
  },
  {
   "cell_type": "code",
   "execution_count": 45,
   "metadata": {},
   "outputs": [
    {
     "data": {
      "text/plain": [
       "<__main__.SimpleLinear at 0x13f917dd0>"
      ]
     },
     "execution_count": 45,
     "metadata": {},
     "output_type": "execute_result"
    }
   ],
   "source": [
    "new_layer6 = SimpleLinear.from_config(config)\n",
    "\n",
    "new_layer6"
   ]
  },
  {
   "cell_type": "code",
   "execution_count": 46,
   "metadata": {},
   "outputs": [
    {
     "data": {
      "text/plain": [
       "3"
      ]
     },
     "execution_count": 46,
     "metadata": {},
     "output_type": "execute_result"
    }
   ],
   "source": [
    "new_layer6.units"
   ]
  },
  {
   "cell_type": "code",
   "execution_count": 47,
   "metadata": {},
   "outputs": [],
   "source": [
    "class CustomDropout(layers.Layer):\n",
    "\n",
    "    def __init__(self, rate, **kwargs):\n",
    "        super(CustomDropout, self).__init__(**kwargs)\n",
    "        self.rate = rate\n",
    "\n",
    "    def call(self, inputs, training=None):\n",
    "        if training:\n",
    "            return tf.nn.dropout(inputs, rate=self.rate)\n",
    "        \n",
    "        return inputs"
   ]
  },
  {
   "cell_type": "code",
   "execution_count": 48,
   "metadata": {},
   "outputs": [
    {
     "name": "stdout",
     "output_type": "stream",
     "text": [
      "tf.Tensor(\n",
      "[[-0.02028464  0.03477539 -0.00211916  0.0117229  -0.04656542]\n",
      " [ 0.04819066 -0.02938647  0.04836475  0.01913043  0.01871919]\n",
      " [-0.00780734  0.01585498 -0.02570226  0.03288959 -0.00688702]\n",
      " [-0.04253148  0.00299776  0.01585868  0.04945407  0.04794503]], shape=(4, 5), dtype=float32)\n"
     ]
    }
   ],
   "source": [
    "random_uniform_initializer = tf.random_uniform_initializer()\n",
    "x = random_uniform_initializer(shape=(4, 5))\n",
    "\n",
    "print(x)"
   ]
  },
  {
   "cell_type": "code",
   "execution_count": 49,
   "metadata": {},
   "outputs": [
    {
     "name": "stdout",
     "output_type": "stream",
     "text": [
      "tf.Tensor(\n",
      "[[-0.02028464  0.03477539 -0.00211916  0.0117229  -0.04656542]\n",
      " [ 0.04819066 -0.02938647  0.04836475  0.01913043  0.01871919]\n",
      " [-0.00780734  0.01585498 -0.02570226  0.03288959 -0.00688702]\n",
      " [-0.04253148  0.00299776  0.01585868  0.04945407  0.04794503]], shape=(4, 5), dtype=float32)\n"
     ]
    }
   ],
   "source": [
    "layer7 = CustomDropout(rate=0.4)\n",
    "\n",
    "y = layer7(x)\n",
    "\n",
    "print(y)"
   ]
  },
  {
   "cell_type": "code",
   "execution_count": 50,
   "metadata": {},
   "outputs": [
    {
     "name": "stdout",
     "output_type": "stream",
     "text": [
      "tf.Tensor(\n",
      "[[-0.          0.05795898 -0.00353194  0.01953817 -0.07760904]\n",
      " [ 0.08031777 -0.04897746  0.08060791  0.03188406  0.        ]\n",
      " [-0.01301223  0.         -0.0428371   0.         -0.        ]\n",
      " [-0.          0.          0.02643114  0.          0.07990838]], shape=(4, 5), dtype=float32)\n"
     ]
    }
   ],
   "source": [
    "layer7 = CustomDropout(rate=0.4)\n",
    "\n",
    "y = layer7(x, training=True)\n",
    "\n",
    "print(y)"
   ]
  },
  {
   "cell_type": "markdown",
   "metadata": {},
   "source": [
    "### Write custom model"
   ]
  },
  {
   "cell_type": "markdown",
   "metadata": {},
   "source": [
    "`Writing very simple regression model`\n",
    "##### By using `tf.keras.Sequential` we build model as below:"
   ]
  },
  {
   "cell_type": "code",
   "execution_count": 51,
   "metadata": {},
   "outputs": [],
   "source": [
    "class CustomRegressionModel(tf.keras.Model):\n",
    "    \n",
    "    def __init__(self, input_shape, units_1=16, units_2=8, \\\n",
    "                 activation='relu', initializer='random_normal'):\n",
    "        \n",
    "        super(CustomRegressionModel, self).__init__()\n",
    "\n",
    "        self.dense1 = layers.Dense(units_1,\n",
    "                                   activation=activation,\n",
    "                                   kernel_initializer=initializer,\n",
    "                                   input_shape=[input_shape])\n",
    "        \n",
    "        self.dense2 = layers.Dense(units_2, \n",
    "                                   activation=activation, \n",
    "                                   kernel_initializer=initializer)\n",
    "        \n",
    "        self.dense3 = layers.Dense(1)\n",
    "        \n",
    "    def call(self, input_tensor):\n",
    "        \n",
    "        x = self.dense1(input_tensor)\n",
    "        x = self.dense2(x)\n",
    "\n",
    "        result = self.dense3(x)\n",
    "        \n",
    "        return result"
   ]
  },
  {
   "cell_type": "code",
   "execution_count": 52,
   "metadata": {},
   "outputs": [
    {
     "name": "stdout",
     "output_type": "stream",
     "text": [
      "tf.Tensor(\n",
      "[[ 0.02010873 -0.01104734 -0.01837956 -0.00793121  0.02897124 -0.03248604\n",
      "   0.03516323 -0.02263709]\n",
      " [-0.0014411   0.0149872   0.03537598 -0.03795952 -0.00665673  0.01459711\n",
      "  -0.02898003  0.00366372]\n",
      " [-0.03015646 -0.03815961  0.03759431  0.01311399 -0.02519397  0.04282064\n",
      "  -0.03242748  0.03252396]\n",
      " [-0.03943811  0.03025761 -0.04605551 -0.01691505 -0.03413906  0.0452756\n",
      "  -0.02023634  0.02213   ]], shape=(4, 8), dtype=float32)\n"
     ]
    }
   ],
   "source": [
    "random_uniform_initializer = tf.random_uniform_initializer()\n",
    "x = random_uniform_initializer(shape=(4, 8))\n",
    "\n",
    "print(x)"
   ]
  },
  {
   "cell_type": "code",
   "execution_count": 53,
   "metadata": {},
   "outputs": [
    {
     "data": {
      "text/plain": [
       "[<tensorflow.python.keras.layers.core.Dense at 0x13f952ed0>,\n",
       " <tensorflow.python.keras.layers.core.Dense at 0x13f94eed0>,\n",
       " <tensorflow.python.keras.layers.core.Dense at 0x13f94cbd0>]"
      ]
     },
     "execution_count": 53,
     "metadata": {},
     "output_type": "execute_result"
    }
   ],
   "source": [
    "custom_reg_model = CustomRegressionModel(4, 8, x.shape[-1])\n",
    "\n",
    "custom_reg_model.layers"
   ]
  },
  {
   "cell_type": "markdown",
   "metadata": {},
   "source": [
    "#### After writing building the model"
   ]
  },
  {
   "cell_type": "code",
   "execution_count": 54,
   "metadata": {},
   "outputs": [
    {
     "data": {
      "text/plain": [
       "<tf.Tensor: shape=(4, 1), dtype=float32, numpy=\n",
       "array([[6.0793784e-05],\n",
       "       [4.1060601e-04],\n",
       "       [2.3572234e-04],\n",
       "       [4.1273003e-04]], dtype=float32)>"
      ]
     },
     "execution_count": 54,
     "metadata": {},
     "output_type": "execute_result"
    }
   ],
   "source": [
    "custom_reg_model(x)"
   ]
  },
  {
   "cell_type": "code",
   "execution_count": 55,
   "metadata": {},
   "outputs": [
    {
     "name": "stdout",
     "output_type": "stream",
     "text": [
      "Model: \"custom_regression_model\"\n",
      "_________________________________________________________________\n",
      "Layer (type)                 Output Shape              Param #   \n",
      "=================================================================\n",
      "dense_1 (Dense)              multiple                  72        \n",
      "_________________________________________________________________\n",
      "dense_2 (Dense)              multiple                  72        \n",
      "_________________________________________________________________\n",
      "dense_3 (Dense)              multiple                  9         \n",
      "=================================================================\n",
      "Total params: 153\n",
      "Trainable params: 153\n",
      "Non-trainable params: 0\n",
      "_________________________________________________________________\n"
     ]
    }
   ],
   "source": [
    "custom_reg_model.summary()"
   ]
  },
  {
   "cell_type": "code",
   "execution_count": 56,
   "metadata": {},
   "outputs": [
    {
     "data": {
      "text/plain": [
       "[<tensorflow.python.keras.layers.core.Dense at 0x13f948350>,\n",
       " <tensorflow.python.keras.layers.core.Dense at 0x13f95ae50>,\n",
       " <tensorflow.python.keras.layers.core.Dense at 0x13f971350>]"
      ]
     },
     "execution_count": 56,
     "metadata": {},
     "output_type": "execute_result"
    }
   ],
   "source": [
    "custom_reg_model = CustomRegressionModel(8, 16, x.shape[-1], 'sigmoid', 'zeros')\n",
    "\n",
    "custom_reg_model.layers"
   ]
  },
  {
   "cell_type": "code",
   "execution_count": 57,
   "metadata": {},
   "outputs": [
    {
     "data": {
      "text/plain": [
       "<tf.Tensor: shape=(4, 1), dtype=float32, numpy=\n",
       "array([[-1.0135751],\n",
       "       [-1.0135751],\n",
       "       [-1.0135751],\n",
       "       [-1.0135751]], dtype=float32)>"
      ]
     },
     "execution_count": 57,
     "metadata": {},
     "output_type": "execute_result"
    }
   ],
   "source": [
    "custom_reg_model(x)"
   ]
  },
  {
   "cell_type": "code",
   "execution_count": 58,
   "metadata": {},
   "outputs": [
    {
     "name": "stdout",
     "output_type": "stream",
     "text": [
      "Model: \"custom_regression_model_1\"\n",
      "_________________________________________________________________\n",
      "Layer (type)                 Output Shape              Param #   \n",
      "=================================================================\n",
      "dense_4 (Dense)              multiple                  144       \n",
      "_________________________________________________________________\n",
      "dense_5 (Dense)              multiple                  136       \n",
      "_________________________________________________________________\n",
      "dense_6 (Dense)              multiple                  9         \n",
      "=================================================================\n",
      "Total params: 289\n",
      "Trainable params: 289\n",
      "Non-trainable params: 0\n",
      "_________________________________________________________________\n"
     ]
    }
   ],
   "source": [
    "custom_reg_model.summary()"
   ]
  },
  {
   "cell_type": "code",
   "execution_count": 59,
   "metadata": {},
   "outputs": [],
   "source": [
    "class CustomRegressionModel(tf.keras.Model):\n",
    "    \n",
    "    def __init__(self, input_shape, layer_units=[8, 4], \\\n",
    "                 activation='relu', initializer='random_normal'):\n",
    "        \n",
    "        super(CustomRegressionModel, self).__init__()\n",
    "        \n",
    "        assert len(layer_units) > 0\n",
    "\n",
    "        self.input_layer = layers.Dense(layer_units[0],\n",
    "                                  activation=activation,\n",
    "                                  kernel_initializer=initializer,\n",
    "                                  input_shape=[input_shape])\n",
    "        \n",
    "        self.hidden_layers = []\n",
    "        \n",
    "        for i in range(1, len(layer_units)):\n",
    "            self.hidden_layers.append(layers.Dense(layer_units[i],\n",
    "                                                   activation=activation, \n",
    "                                                   kernel_initializer=initializer))\n",
    "\n",
    "        self.output_layer = layers.Dense(1)\n",
    "        \n",
    "    def call(self, input_tensor):\n",
    "        \n",
    "        x = self.input_layer(input_tensor)\n",
    "                               \n",
    "        for layer in self.hidden_layers:\n",
    "            x = layer(x)\n",
    "\n",
    "        result = self.output_layer(x)\n",
    "        \n",
    "        return result"
   ]
  },
  {
   "cell_type": "code",
   "execution_count": 60,
   "metadata": {},
   "outputs": [
    {
     "name": "stdout",
     "output_type": "stream",
     "text": [
      "tf.Tensor(\n",
      "[[-0.0232506  -0.02581742  0.03840462 -0.04570484 -0.04016171  0.01851902\n",
      "  -0.0261435   0.01902728]\n",
      " [ 0.00258154  0.00282932 -0.04577757 -0.00910568  0.02062101  0.00329734\n",
      "   0.01817164 -0.04838033]\n",
      " [-0.0377516   0.01313509  0.03561752  0.02487304 -0.01783512 -0.00069733\n",
      "  -0.00338119  0.02852054]\n",
      " [ 0.0220101  -0.01267161  0.01586124 -0.02015481 -0.04082725  0.00957469\n",
      "  -0.04302105  0.00599651]], shape=(4, 8), dtype=float32)\n"
     ]
    }
   ],
   "source": [
    "random_uniform_initializer = tf.random_uniform_initializer()\n",
    "x = random_uniform_initializer(shape=(4, 8))\n",
    "\n",
    "print(x)"
   ]
  },
  {
   "cell_type": "code",
   "execution_count": 61,
   "metadata": {},
   "outputs": [
    {
     "data": {
      "text/plain": [
       "[<tensorflow.python.keras.layers.core.Dense at 0x13f94e650>,\n",
       " <tensorflow.python.keras.layers.core.Dense at 0x13f988350>,\n",
       " <tensorflow.python.keras.layers.core.Dense at 0x13f9888d0>,\n",
       " <tensorflow.python.keras.layers.core.Dense at 0x13f97b310>]"
      ]
     },
     "execution_count": 61,
     "metadata": {},
     "output_type": "execute_result"
    }
   ],
   "source": [
    "custom_reg_model = CustomRegressionModel(x.shape[-1], [8, 16, 32], 'sigmoid')\n",
    "\n",
    "custom_reg_model.layers"
   ]
  },
  {
   "cell_type": "code",
   "execution_count": 62,
   "metadata": {},
   "outputs": [
    {
     "data": {
      "text/plain": [
       "<tf.Tensor: shape=(4, 1), dtype=float32, numpy=\n",
       "array([[-0.8483326 ],\n",
       "       [-0.84833664],\n",
       "       [-0.84833556],\n",
       "       [-0.8483347 ]], dtype=float32)>"
      ]
     },
     "execution_count": 62,
     "metadata": {},
     "output_type": "execute_result"
    }
   ],
   "source": [
    "custom_reg_model(x)"
   ]
  },
  {
   "cell_type": "code",
   "execution_count": 63,
   "metadata": {},
   "outputs": [
    {
     "name": "stdout",
     "output_type": "stream",
     "text": [
      "Model: \"custom_regression_model_2\"\n",
      "_________________________________________________________________\n",
      "Layer (type)                 Output Shape              Param #   \n",
      "=================================================================\n",
      "dense_7 (Dense)              multiple                  72        \n",
      "_________________________________________________________________\n",
      "dense_8 (Dense)              multiple                  144       \n",
      "_________________________________________________________________\n",
      "dense_9 (Dense)              multiple                  544       \n",
      "_________________________________________________________________\n",
      "dense_10 (Dense)             multiple                  33        \n",
      "=================================================================\n",
      "Total params: 793\n",
      "Trainable params: 793\n",
      "Non-trainable params: 0\n",
      "_________________________________________________________________\n"
     ]
    }
   ],
   "source": [
    "custom_reg_model.summary()"
   ]
  },
  {
   "cell_type": "code",
   "execution_count": null,
   "metadata": {},
   "outputs": [],
   "source": []
  },
  {
   "cell_type": "code",
   "execution_count": null,
   "metadata": {},
   "outputs": [],
   "source": []
  },
  {
   "cell_type": "code",
   "execution_count": null,
   "metadata": {},
   "outputs": [],
   "source": []
  },
  {
   "cell_type": "code",
   "execution_count": null,
   "metadata": {},
   "outputs": [],
   "source": []
  },
  {
   "cell_type": "code",
   "execution_count": null,
   "metadata": {},
   "outputs": [],
   "source": []
  },
  {
   "cell_type": "code",
   "execution_count": null,
   "metadata": {},
   "outputs": [],
   "source": []
  },
  {
   "cell_type": "code",
   "execution_count": null,
   "metadata": {},
   "outputs": [],
   "source": []
  },
  {
   "cell_type": "code",
   "execution_count": null,
   "metadata": {},
   "outputs": [],
   "source": []
  },
  {
   "cell_type": "code",
   "execution_count": null,
   "metadata": {},
   "outputs": [],
   "source": []
  },
  {
   "cell_type": "code",
   "execution_count": null,
   "metadata": {},
   "outputs": [],
   "source": []
  },
  {
   "cell_type": "code",
   "execution_count": null,
   "metadata": {},
   "outputs": [],
   "source": []
  },
  {
   "cell_type": "code",
   "execution_count": null,
   "metadata": {},
   "outputs": [],
   "source": []
  },
  {
   "cell_type": "code",
   "execution_count": null,
   "metadata": {},
   "outputs": [],
   "source": []
  },
  {
   "cell_type": "code",
   "execution_count": null,
   "metadata": {},
   "outputs": [],
   "source": []
  },
  {
   "cell_type": "code",
   "execution_count": null,
   "metadata": {},
   "outputs": [],
   "source": []
  },
  {
   "cell_type": "code",
   "execution_count": null,
   "metadata": {},
   "outputs": [],
   "source": []
  },
  {
   "cell_type": "code",
   "execution_count": null,
   "metadata": {},
   "outputs": [],
   "source": []
  },
  {
   "cell_type": "code",
   "execution_count": null,
   "metadata": {},
   "outputs": [],
   "source": []
  },
  {
   "cell_type": "code",
   "execution_count": null,
   "metadata": {},
   "outputs": [],
   "source": []
  },
  {
   "cell_type": "code",
   "execution_count": null,
   "metadata": {},
   "outputs": [],
   "source": []
  },
  {
   "cell_type": "code",
   "execution_count": null,
   "metadata": {},
   "outputs": [],
   "source": []
  },
  {
   "cell_type": "code",
   "execution_count": null,
   "metadata": {},
   "outputs": [],
   "source": []
  },
  {
   "cell_type": "code",
   "execution_count": null,
   "metadata": {},
   "outputs": [],
   "source": []
  },
  {
   "cell_type": "code",
   "execution_count": null,
   "metadata": {},
   "outputs": [],
   "source": []
  },
  {
   "cell_type": "code",
   "execution_count": null,
   "metadata": {},
   "outputs": [],
   "source": []
  },
  {
   "cell_type": "code",
   "execution_count": null,
   "metadata": {},
   "outputs": [],
   "source": []
  },
  {
   "cell_type": "code",
   "execution_count": null,
   "metadata": {},
   "outputs": [],
   "source": []
  },
  {
   "cell_type": "code",
   "execution_count": null,
   "metadata": {},
   "outputs": [],
   "source": []
  },
  {
   "cell_type": "code",
   "execution_count": null,
   "metadata": {},
   "outputs": [],
   "source": []
  },
  {
   "cell_type": "code",
   "execution_count": null,
   "metadata": {},
   "outputs": [],
   "source": []
  },
  {
   "cell_type": "code",
   "execution_count": null,
   "metadata": {},
   "outputs": [],
   "source": []
  },
  {
   "cell_type": "code",
   "execution_count": null,
   "metadata": {},
   "outputs": [],
   "source": []
  },
  {
   "cell_type": "code",
   "execution_count": null,
   "metadata": {},
   "outputs": [],
   "source": []
  },
  {
   "cell_type": "code",
   "execution_count": null,
   "metadata": {},
   "outputs": [],
   "source": []
  },
  {
   "cell_type": "code",
   "execution_count": null,
   "metadata": {},
   "outputs": [],
   "source": []
  },
  {
   "cell_type": "code",
   "execution_count": null,
   "metadata": {},
   "outputs": [],
   "source": []
  },
  {
   "cell_type": "code",
   "execution_count": null,
   "metadata": {},
   "outputs": [],
   "source": []
  },
  {
   "cell_type": "code",
   "execution_count": null,
   "metadata": {},
   "outputs": [],
   "source": []
  },
  {
   "cell_type": "code",
   "execution_count": null,
   "metadata": {},
   "outputs": [],
   "source": []
  },
  {
   "cell_type": "code",
   "execution_count": null,
   "metadata": {},
   "outputs": [],
   "source": []
  },
  {
   "cell_type": "code",
   "execution_count": null,
   "metadata": {},
   "outputs": [],
   "source": []
  },
  {
   "cell_type": "code",
   "execution_count": null,
   "metadata": {},
   "outputs": [],
   "source": []
  },
  {
   "cell_type": "code",
   "execution_count": null,
   "metadata": {},
   "outputs": [],
   "source": []
  },
  {
   "cell_type": "code",
   "execution_count": null,
   "metadata": {},
   "outputs": [],
   "source": []
  },
  {
   "cell_type": "code",
   "execution_count": null,
   "metadata": {},
   "outputs": [],
   "source": []
  },
  {
   "cell_type": "code",
   "execution_count": null,
   "metadata": {},
   "outputs": [],
   "source": []
  },
  {
   "cell_type": "code",
   "execution_count": null,
   "metadata": {},
   "outputs": [],
   "source": []
  },
  {
   "cell_type": "code",
   "execution_count": null,
   "metadata": {},
   "outputs": [],
   "source": []
  },
  {
   "cell_type": "code",
   "execution_count": null,
   "metadata": {},
   "outputs": [],
   "source": []
  },
  {
   "cell_type": "code",
   "execution_count": null,
   "metadata": {},
   "outputs": [],
   "source": []
  },
  {
   "cell_type": "code",
   "execution_count": null,
   "metadata": {},
   "outputs": [],
   "source": []
  },
  {
   "cell_type": "code",
   "execution_count": null,
   "metadata": {},
   "outputs": [],
   "source": []
  },
  {
   "cell_type": "code",
   "execution_count": null,
   "metadata": {},
   "outputs": [],
   "source": []
  },
  {
   "cell_type": "code",
   "execution_count": null,
   "metadata": {},
   "outputs": [],
   "source": []
  },
  {
   "cell_type": "code",
   "execution_count": null,
   "metadata": {},
   "outputs": [],
   "source": []
  },
  {
   "cell_type": "code",
   "execution_count": null,
   "metadata": {},
   "outputs": [],
   "source": []
  },
  {
   "cell_type": "code",
   "execution_count": null,
   "metadata": {},
   "outputs": [],
   "source": []
  },
  {
   "cell_type": "code",
   "execution_count": null,
   "metadata": {},
   "outputs": [],
   "source": []
  },
  {
   "cell_type": "code",
   "execution_count": null,
   "metadata": {},
   "outputs": [],
   "source": []
  },
  {
   "cell_type": "code",
   "execution_count": null,
   "metadata": {},
   "outputs": [],
   "source": []
  },
  {
   "cell_type": "code",
   "execution_count": null,
   "metadata": {},
   "outputs": [],
   "source": []
  },
  {
   "cell_type": "code",
   "execution_count": null,
   "metadata": {},
   "outputs": [],
   "source": []
  },
  {
   "cell_type": "code",
   "execution_count": null,
   "metadata": {},
   "outputs": [],
   "source": []
  },
  {
   "cell_type": "code",
   "execution_count": null,
   "metadata": {},
   "outputs": [],
   "source": []
  },
  {
   "cell_type": "code",
   "execution_count": null,
   "metadata": {},
   "outputs": [],
   "source": []
  },
  {
   "cell_type": "code",
   "execution_count": null,
   "metadata": {},
   "outputs": [],
   "source": []
  },
  {
   "cell_type": "code",
   "execution_count": null,
   "metadata": {},
   "outputs": [],
   "source": []
  },
  {
   "cell_type": "code",
   "execution_count": null,
   "metadata": {},
   "outputs": [],
   "source": []
  },
  {
   "cell_type": "code",
   "execution_count": null,
   "metadata": {},
   "outputs": [],
   "source": []
  },
  {
   "cell_type": "code",
   "execution_count": null,
   "metadata": {},
   "outputs": [],
   "source": []
  },
  {
   "cell_type": "code",
   "execution_count": null,
   "metadata": {},
   "outputs": [],
   "source": []
  },
  {
   "cell_type": "code",
   "execution_count": null,
   "metadata": {},
   "outputs": [],
   "source": []
  },
  {
   "cell_type": "code",
   "execution_count": null,
   "metadata": {},
   "outputs": [],
   "source": []
  },
  {
   "cell_type": "code",
   "execution_count": null,
   "metadata": {},
   "outputs": [],
   "source": []
  },
  {
   "cell_type": "code",
   "execution_count": null,
   "metadata": {},
   "outputs": [],
   "source": []
  },
  {
   "cell_type": "code",
   "execution_count": null,
   "metadata": {},
   "outputs": [],
   "source": []
  },
  {
   "cell_type": "code",
   "execution_count": null,
   "metadata": {},
   "outputs": [],
   "source": []
  },
  {
   "cell_type": "code",
   "execution_count": null,
   "metadata": {},
   "outputs": [],
   "source": []
  },
  {
   "cell_type": "code",
   "execution_count": null,
   "metadata": {},
   "outputs": [],
   "source": []
  },
  {
   "cell_type": "code",
   "execution_count": null,
   "metadata": {},
   "outputs": [],
   "source": []
  },
  {
   "cell_type": "code",
   "execution_count": null,
   "metadata": {},
   "outputs": [],
   "source": []
  },
  {
   "cell_type": "code",
   "execution_count": null,
   "metadata": {},
   "outputs": [],
   "source": []
  },
  {
   "cell_type": "code",
   "execution_count": null,
   "metadata": {},
   "outputs": [],
   "source": []
  },
  {
   "cell_type": "code",
   "execution_count": null,
   "metadata": {},
   "outputs": [],
   "source": []
  },
  {
   "cell_type": "code",
   "execution_count": null,
   "metadata": {},
   "outputs": [],
   "source": []
  },
  {
   "cell_type": "code",
   "execution_count": null,
   "metadata": {},
   "outputs": [],
   "source": []
  },
  {
   "cell_type": "code",
   "execution_count": null,
   "metadata": {},
   "outputs": [],
   "source": []
  },
  {
   "cell_type": "code",
   "execution_count": null,
   "metadata": {},
   "outputs": [],
   "source": []
  },
  {
   "cell_type": "code",
   "execution_count": null,
   "metadata": {},
   "outputs": [],
   "source": []
  },
  {
   "cell_type": "code",
   "execution_count": null,
   "metadata": {},
   "outputs": [],
   "source": []
  },
  {
   "cell_type": "code",
   "execution_count": null,
   "metadata": {},
   "outputs": [],
   "source": []
  },
  {
   "cell_type": "code",
   "execution_count": null,
   "metadata": {},
   "outputs": [],
   "source": []
  },
  {
   "cell_type": "code",
   "execution_count": null,
   "metadata": {},
   "outputs": [],
   "source": []
  },
  {
   "cell_type": "code",
   "execution_count": null,
   "metadata": {},
   "outputs": [],
   "source": []
  },
  {
   "cell_type": "code",
   "execution_count": null,
   "metadata": {},
   "outputs": [],
   "source": []
  },
  {
   "cell_type": "code",
   "execution_count": null,
   "metadata": {},
   "outputs": [],
   "source": []
  },
  {
   "cell_type": "code",
   "execution_count": null,
   "metadata": {},
   "outputs": [],
   "source": []
  },
  {
   "cell_type": "code",
   "execution_count": null,
   "metadata": {},
   "outputs": [],
   "source": []
  }
 ],
 "metadata": {
  "kernelspec": {
   "display_name": "Python 3",
   "language": "python",
   "name": "python3"
  },
  "language_info": {
   "codemirror_mode": {
    "name": "ipython",
    "version": 3
   },
   "file_extension": ".py",
   "mimetype": "text/x-python",
   "name": "python",
   "nbconvert_exporter": "python",
   "pygments_lexer": "ipython3",
   "version": "3.7.4"
  }
 },
 "nbformat": 4,
 "nbformat_minor": 2
}
