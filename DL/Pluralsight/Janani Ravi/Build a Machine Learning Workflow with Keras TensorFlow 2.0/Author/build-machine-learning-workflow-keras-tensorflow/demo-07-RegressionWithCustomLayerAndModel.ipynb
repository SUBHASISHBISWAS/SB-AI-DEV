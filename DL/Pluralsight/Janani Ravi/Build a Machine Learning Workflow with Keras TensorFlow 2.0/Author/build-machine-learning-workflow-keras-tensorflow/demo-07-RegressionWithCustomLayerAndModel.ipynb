{
 "cells": [
  {
   "cell_type": "code",
   "execution_count": 1,
   "metadata": {},
   "outputs": [],
   "source": [
    "import pandas as pd\n",
    "import matplotlib.pyplot as plt\n",
    "\n",
    "from sklearn.metrics import r2_score\n",
    "\n",
    "import tensorflow as tf\n",
    "\n",
    "from tensorflow import keras\n",
    "from tensorflow.keras import layers, activations\n",
    "\n",
    "import tensorflow_docs as tfdocs\n",
    "import tensorflow_docs.modeling\n",
    "import tensorflow_docs.plots"
   ]
  },
  {
   "cell_type": "code",
   "execution_count": 2,
   "metadata": {},
   "outputs": [
    {
     "data": {
      "text/html": [
       "<div>\n",
       "<style scoped>\n",
       "    .dataframe tbody tr th:only-of-type {\n",
       "        vertical-align: middle;\n",
       "    }\n",
       "\n",
       "    .dataframe tbody tr th {\n",
       "        vertical-align: top;\n",
       "    }\n",
       "\n",
       "    .dataframe thead th {\n",
       "        text-align: right;\n",
       "    }\n",
       "</style>\n",
       "<table border=\"1\" class=\"dataframe\">\n",
       "  <thead>\n",
       "    <tr style=\"text-align: right;\">\n",
       "      <th></th>\n",
       "      <th>age</th>\n",
       "      <th>bmi</th>\n",
       "      <th>children</th>\n",
       "      <th>sex</th>\n",
       "      <th>smoker</th>\n",
       "      <th>region_northeast</th>\n",
       "      <th>region_northwest</th>\n",
       "      <th>region_southeast</th>\n",
       "      <th>region_southwest</th>\n",
       "      <th>charges</th>\n",
       "    </tr>\n",
       "  </thead>\n",
       "  <tbody>\n",
       "    <tr>\n",
       "      <td>756</td>\n",
       "      <td>-0.014740</td>\n",
       "      <td>-1.289947</td>\n",
       "      <td>1.580926</td>\n",
       "      <td>0</td>\n",
       "      <td>0</td>\n",
       "      <td>1</td>\n",
       "      <td>0</td>\n",
       "      <td>0</td>\n",
       "      <td>0</td>\n",
       "      <td>7985.81500</td>\n",
       "    </tr>\n",
       "    <tr>\n",
       "      <td>163</td>\n",
       "      <td>-0.513149</td>\n",
       "      <td>-0.141635</td>\n",
       "      <td>0.751079</td>\n",
       "      <td>0</td>\n",
       "      <td>0</td>\n",
       "      <td>0</td>\n",
       "      <td>0</td>\n",
       "      <td>0</td>\n",
       "      <td>1</td>\n",
       "      <td>5152.13400</td>\n",
       "    </tr>\n",
       "    <tr>\n",
       "      <td>1010</td>\n",
       "      <td>0.626070</td>\n",
       "      <td>-1.289947</td>\n",
       "      <td>-0.908614</td>\n",
       "      <td>0</td>\n",
       "      <td>0</td>\n",
       "      <td>0</td>\n",
       "      <td>0</td>\n",
       "      <td>0</td>\n",
       "      <td>1</td>\n",
       "      <td>8269.04400</td>\n",
       "    </tr>\n",
       "    <tr>\n",
       "      <td>1144</td>\n",
       "      <td>0.768473</td>\n",
       "      <td>0.268476</td>\n",
       "      <td>0.751079</td>\n",
       "      <td>1</td>\n",
       "      <td>0</td>\n",
       "      <td>0</td>\n",
       "      <td>0</td>\n",
       "      <td>0</td>\n",
       "      <td>1</td>\n",
       "      <td>9630.39700</td>\n",
       "    </tr>\n",
       "    <tr>\n",
       "      <td>1314</td>\n",
       "      <td>-0.655551</td>\n",
       "      <td>-1.149689</td>\n",
       "      <td>1.580926</td>\n",
       "      <td>0</td>\n",
       "      <td>1</td>\n",
       "      <td>0</td>\n",
       "      <td>1</td>\n",
       "      <td>0</td>\n",
       "      <td>0</td>\n",
       "      <td>18765.87545</td>\n",
       "    </tr>\n",
       "    <tr>\n",
       "      <td>50</td>\n",
       "      <td>-1.509965</td>\n",
       "      <td>0.813924</td>\n",
       "      <td>-0.908614</td>\n",
       "      <td>0</td>\n",
       "      <td>0</td>\n",
       "      <td>1</td>\n",
       "      <td>0</td>\n",
       "      <td>0</td>\n",
       "      <td>0</td>\n",
       "      <td>2211.13075</td>\n",
       "    </tr>\n",
       "    <tr>\n",
       "      <td>1275</td>\n",
       "      <td>1.266881</td>\n",
       "      <td>-1.142307</td>\n",
       "      <td>-0.908614</td>\n",
       "      <td>1</td>\n",
       "      <td>0</td>\n",
       "      <td>0</td>\n",
       "      <td>0</td>\n",
       "      <td>0</td>\n",
       "      <td>1</td>\n",
       "      <td>10959.33000</td>\n",
       "    </tr>\n",
       "    <tr>\n",
       "      <td>26</td>\n",
       "      <td>1.694088</td>\n",
       "      <td>-1.243194</td>\n",
       "      <td>-0.908614</td>\n",
       "      <td>0</td>\n",
       "      <td>0</td>\n",
       "      <td>1</td>\n",
       "      <td>0</td>\n",
       "      <td>0</td>\n",
       "      <td>0</td>\n",
       "      <td>14451.83515</td>\n",
       "    </tr>\n",
       "    <tr>\n",
       "      <td>1216</td>\n",
       "      <td>0.056461</td>\n",
       "      <td>-0.915925</td>\n",
       "      <td>-0.908614</td>\n",
       "      <td>1</td>\n",
       "      <td>0</td>\n",
       "      <td>0</td>\n",
       "      <td>0</td>\n",
       "      <td>1</td>\n",
       "      <td>0</td>\n",
       "      <td>5415.66120</td>\n",
       "    </tr>\n",
       "    <tr>\n",
       "      <td>1327</td>\n",
       "      <td>0.839674</td>\n",
       "      <td>-0.103905</td>\n",
       "      <td>-0.078767</td>\n",
       "      <td>1</td>\n",
       "      <td>0</td>\n",
       "      <td>0</td>\n",
       "      <td>0</td>\n",
       "      <td>1</td>\n",
       "      <td>0</td>\n",
       "      <td>9377.90470</td>\n",
       "    </tr>\n",
       "  </tbody>\n",
       "</table>\n",
       "</div>"
      ],
      "text/plain": [
       "           age       bmi  children  sex  smoker  region_northeast  \\\n",
       "756  -0.014740 -1.289947  1.580926    0       0                 1   \n",
       "163  -0.513149 -0.141635  0.751079    0       0                 0   \n",
       "1010  0.626070 -1.289947 -0.908614    0       0                 0   \n",
       "1144  0.768473  0.268476  0.751079    1       0                 0   \n",
       "1314 -0.655551 -1.149689  1.580926    0       1                 0   \n",
       "50   -1.509965  0.813924 -0.908614    0       0                 1   \n",
       "1275  1.266881 -1.142307 -0.908614    1       0                 0   \n",
       "26    1.694088 -1.243194 -0.908614    0       0                 1   \n",
       "1216  0.056461 -0.915925 -0.908614    1       0                 0   \n",
       "1327  0.839674 -0.103905 -0.078767    1       0                 0   \n",
       "\n",
       "      region_northwest  region_southeast  region_southwest      charges  \n",
       "756                  0                 0                 0   7985.81500  \n",
       "163                  0                 0                 1   5152.13400  \n",
       "1010                 0                 0                 1   8269.04400  \n",
       "1144                 0                 0                 1   9630.39700  \n",
       "1314                 1                 0                 0  18765.87545  \n",
       "50                   0                 0                 0   2211.13075  \n",
       "1275                 0                 0                 1  10959.33000  \n",
       "26                   0                 0                 0  14451.83515  \n",
       "1216                 0                 1                 0   5415.66120  \n",
       "1327                 0                 1                 0   9377.90470  "
      ]
     },
     "execution_count": 2,
     "metadata": {},
     "output_type": "execute_result"
    }
   ],
   "source": [
    "data = pd.read_csv('datasets/insurance_processed.csv')\n",
    "\n",
    "data.sample(10)"
   ]
  },
  {
   "cell_type": "code",
   "execution_count": 3,
   "metadata": {},
   "outputs": [
    {
     "data": {
      "text/plain": [
       "(1338, 10)"
      ]
     },
     "execution_count": 3,
     "metadata": {},
     "output_type": "execute_result"
    }
   ],
   "source": [
    "data.shape"
   ]
  },
  {
   "cell_type": "code",
   "execution_count": 4,
   "metadata": {},
   "outputs": [],
   "source": [
    "features = data.drop('charges', axis=1)\n",
    "target = data[['charges']]"
   ]
  },
  {
   "cell_type": "code",
   "execution_count": 5,
   "metadata": {},
   "outputs": [],
   "source": [
    "from sklearn.model_selection import train_test_split\n",
    "\n",
    "x_train, x_test, y_train, y_test = train_test_split(features, \n",
    "                                                    target, \n",
    "                                                    test_size=0.2,\n",
    "                                                    random_state=1)"
   ]
  },
  {
   "cell_type": "code",
   "execution_count": 6,
   "metadata": {},
   "outputs": [
    {
     "data": {
      "text/plain": [
       "((1070, 9), (268, 9))"
      ]
     },
     "execution_count": 6,
     "metadata": {},
     "output_type": "execute_result"
    }
   ],
   "source": [
    "x_train.shape, x_test.shape"
   ]
  },
  {
   "cell_type": "code",
   "execution_count": 7,
   "metadata": {},
   "outputs": [
    {
     "data": {
      "text/plain": [
       "((1070, 1), (268, 1))"
      ]
     },
     "execution_count": 7,
     "metadata": {},
     "output_type": "execute_result"
    }
   ],
   "source": [
    "y_train.shape, y_test.shape"
   ]
  },
  {
   "cell_type": "markdown",
   "metadata": {},
   "source": [
    "### Writing Custom layer (Dense layer)"
   ]
  },
  {
   "cell_type": "code",
   "execution_count": 8,
   "metadata": {},
   "outputs": [],
   "source": [
    "class MyDense(layers.Layer):\n",
    "    \n",
    "    def __init__(self, units, activation=None, **kwargs):\n",
    "        \n",
    "        super(MyDense, self).__init__(**kwargs)\n",
    "        \n",
    "        self.units = units\n",
    "        self.activation = activations.get(activation)\n",
    "        \n",
    "    def build(self, input_shape):\n",
    "        input_dim = input_shape[-1]\n",
    "        \n",
    "        self.kernel = self.add_weight(shape=(input_dim, self.units))\n",
    "        \n",
    "    def call(self, inputs):\n",
    "        output = tf.matmul(inputs, self.kernel)\n",
    "        \n",
    "        if self.activation is not None:\n",
    "            output = self.activation(output)\n",
    "        \n",
    "        return output\n",
    "    \n",
    "    def compute_output_shape(self, input_shape):\n",
    "        output_shape = list(input_shape)\n",
    "        output_shape[-1] = self.units\n",
    "        \n",
    "        return tuple(output_shape)\n",
    "    \n",
    "    def get_config(self):\n",
    "        config = super(MyDense, self).get_config()\n",
    "        \n",
    "        current_config = {\n",
    "            'units': self.units,\n",
    "            'activation': activations.serialize(self.activation)\n",
    "        }\n",
    "        \n",
    "        config.update(current_config)\n",
    "\n",
    "        return config"
   ]
  },
  {
   "cell_type": "markdown",
   "metadata": {},
   "source": [
    "### Building model using custom layers"
   ]
  },
  {
   "cell_type": "code",
   "execution_count": 9,
   "metadata": {},
   "outputs": [],
   "source": [
    "def build_model():\n",
    "    \n",
    "    model = tf.keras.Sequential([\n",
    "        MyDense(64, activation='elu', input_shape=[x_train.shape[1]]),\n",
    "        MyDense(32, activation='elu'),\n",
    "        \n",
    "        layers.Dropout(0.2),\n",
    "        \n",
    "        MyDense(16, activation='elu'),\n",
    "        MyDense(1)\n",
    "    ])\n",
    "    \n",
    "    optimizer = tf.keras.optimizers.RMSprop(0.001)\n",
    "\n",
    "    model.compile(loss='mse',\n",
    "                  optimizer=optimizer,\n",
    "                  metrics=['mae', 'mse'])\n",
    "    return model"
   ]
  },
  {
   "cell_type": "code",
   "execution_count": 10,
   "metadata": {},
   "outputs": [
    {
     "name": "stdout",
     "output_type": "stream",
     "text": [
      "Model: \"sequential\"\n",
      "_________________________________________________________________\n",
      "Layer (type)                 Output Shape              Param #   \n",
      "=================================================================\n",
      "my_dense (MyDense)           (None, 64)                576       \n",
      "_________________________________________________________________\n",
      "my_dense_1 (MyDense)         (None, 32)                2048      \n",
      "_________________________________________________________________\n",
      "dropout (Dropout)            (None, 32)                0         \n",
      "_________________________________________________________________\n",
      "my_dense_2 (MyDense)         (None, 16)                512       \n",
      "_________________________________________________________________\n",
      "my_dense_3 (MyDense)         (None, 1)                 16        \n",
      "=================================================================\n",
      "Total params: 3,152\n",
      "Trainable params: 3,152\n",
      "Non-trainable params: 0\n",
      "_________________________________________________________________\n"
     ]
    }
   ],
   "source": [
    "sequential_model = build_model()\n",
    "\n",
    "sequential_model.summary()"
   ]
  },
  {
   "cell_type": "code",
   "execution_count": 11,
   "metadata": {},
   "outputs": [
    {
     "data": {
      "text/plain": [
       "[<__main__.MyDense at 0x138d167d0>,\n",
       " <__main__.MyDense at 0x138cd1c50>,\n",
       " <tensorflow.python.keras.layers.core.Dropout at 0x138d16750>,\n",
       " <__main__.MyDense at 0x138d16350>,\n",
       " <__main__.MyDense at 0x138cfa190>]"
      ]
     },
     "execution_count": 11,
     "metadata": {},
     "output_type": "execute_result"
    }
   ],
   "source": [
    "sequential_model.layers"
   ]
  },
  {
   "cell_type": "markdown",
   "metadata": {},
   "source": [
    "### Training model"
   ]
  },
  {
   "cell_type": "code",
   "execution_count": 12,
   "metadata": {},
   "outputs": [
    {
     "name": "stdout",
     "output_type": "stream",
     "text": [
      "\n",
      "Epoch: 0, loss:317024805.0841,  mae:13316.7305,  mse:317024864.0000,  val_loss:336038027.9626,  val_mae:12875.0137,  val_mse:336038016.0000,  \n",
      "....................................................................................................\n",
      "Epoch: 100, loss:34995598.4299,  mae:4027.5391,  mse:34995596.0000,  val_loss:27356289.1215,  val_mae:3352.4150,  val_mse:27356290.0000,  \n",
      "....................................................................................................\n",
      "Epoch: 200, loss:28853252.9346,  mae:3384.4492,  mse:28853258.0000,  val_loss:22693998.4299,  val_mae:2714.2214,  val_mse:22693998.0000,  \n",
      "....................................................................................................\n",
      "Epoch: 300, loss:28396503.8879,  mae:3398.8367,  mse:28396506.0000,  val_loss:21545181.1589,  val_mae:2547.9399,  val_mse:21545180.0000,  \n",
      "....................................................................................................\n",
      "Epoch: 400, loss:28354744.6075,  mae:3298.3611,  mse:28354746.0000,  val_loss:21247058.3925,  val_mae:2536.6572,  val_mse:21247058.0000,  \n",
      "....................................................................................................\n",
      "Epoch: 500, loss:27290357.7150,  mae:3242.3157,  mse:27290358.0000,  val_loss:21146780.7850,  val_mae:2574.6672,  val_mse:21146782.0000,  \n",
      "....................................................................................................\n",
      "Epoch: 600, loss:27226819.5888,  mae:3309.0984,  mse:27226820.0000,  val_loss:20909411.6636,  val_mae:2549.3037,  val_mse:20909410.0000,  \n",
      "....................................................................................................\n",
      "Epoch: 700, loss:27530768.5607,  mae:3201.6052,  mse:27530764.0000,  val_loss:20810378.4299,  val_mae:2595.4272,  val_mse:20810378.0000,  \n",
      "....................................................................................................\n",
      "Epoch: 800, loss:25963313.3271,  mae:3093.1819,  mse:25963316.0000,  val_loss:20806520.5234,  val_mae:2582.7808,  val_mse:20806520.0000,  \n",
      "....................................................................................................\n",
      "Epoch: 900, loss:23702469.2336,  mae:2982.0889,  mse:23702470.0000,  val_loss:20767976.8598,  val_mae:2653.1487,  val_mse:20767978.0000,  \n",
      "...................................................................................................."
     ]
    }
   ],
   "source": [
    "n_epochs = 1000\n",
    "\n",
    "training_hist= sequential_model.fit(x_train, \n",
    "                                    y_train,\n",
    "                                    epochs=n_epochs, \n",
    "                                    validation_split = 0.2, \n",
    "                                    verbose=False,\n",
    "                                    callbacks=[tfdocs.modeling.EpochDots()])"
   ]
  },
  {
   "cell_type": "markdown",
   "metadata": {},
   "source": [
    "### Predicting and plotting "
   ]
  },
  {
   "cell_type": "code",
   "execution_count": 13,
   "metadata": {},
   "outputs": [
    {
     "data": {
      "image/png": "[encoded data removed]",
      "text/plain": [
       "<Figure size 864x576 with 1 Axes>"
      ]
     },
     "metadata": {
      "needs_background": "light"
     },
     "output_type": "display_data"
    }
   ],
   "source": [
    "y_pred = sequential_model.predict(x_test).flatten()\n",
    "\n",
    "plt.figure(figsize=(12, 8))\n",
    "\n",
    "plt.scatter(y_test, y_pred, s=200, c='darkblue')\n",
    "\n",
    "plt.xlabel('Actual charges values')\n",
    "plt.ylabel('Predicted charges values')\n",
    "plt.show()"
   ]
  },
  {
   "cell_type": "code",
   "execution_count": 14,
   "metadata": {},
   "outputs": [
    {
     "data": {
      "text/plain": [
       "0.8692979215857355"
      ]
     },
     "execution_count": 14,
     "metadata": {},
     "output_type": "execute_result"
    }
   ],
   "source": [
    "r2_score(y_test, y_pred)"
   ]
  },
  {
   "cell_type": "markdown",
   "metadata": {},
   "source": [
    "### Custom model"
   ]
  },
  {
   "cell_type": "code",
   "execution_count": 15,
   "metadata": {},
   "outputs": [],
   "source": [
    "class CustomRegressionModel(tf.keras.Model):\n",
    "    \n",
    "    def __init__(self, input_shape, layer_units=[8, 4], \\\n",
    "                 activation='relu'):\n",
    "        \n",
    "        super(CustomRegressionModel, self).__init__()\n",
    "        \n",
    "        assert len(layer_units) > 0\n",
    "\n",
    "        self.input_layer = MyDense(layer_units[0],\n",
    "                                   activation=activation,\n",
    "                                   input_shape=[input_shape])\n",
    "        \n",
    "        self.hidden_layers = []\n",
    "        \n",
    "        for i in range(1, len(layer_units)):\n",
    "            self.hidden_layers.append(MyDense(layer_units[i],\n",
    "                                              activation=activation))\n",
    "\n",
    "        self.output_layer = MyDense(1)\n",
    "        \n",
    "    def call(self, input_tensor):\n",
    "        \n",
    "        x = self.input_layer(input_tensor)\n",
    "                               \n",
    "        for layer in self.hidden_layers:\n",
    "            x = layer(x)\n",
    "\n",
    "        result = self.output_layer(x)\n",
    "        \n",
    "        return result"
   ]
  },
  {
   "cell_type": "code",
   "execution_count": 16,
   "metadata": {},
   "outputs": [
    {
     "data": {
      "text/plain": [
       "<tf.Tensor: shape=(5, 1), dtype=float32, numpy=\n",
       "array([[0.],\n",
       "       [0.],\n",
       "       [0.],\n",
       "       [0.],\n",
       "       [0.]], dtype=float32)>"
      ]
     },
     "execution_count": 16,
     "metadata": {},
     "output_type": "execute_result"
    }
   ],
   "source": [
    "custom_model = CustomRegressionModel(x_train.shape[1], [64, 32, 16], 'elu')\n",
    "\n",
    "custom_model(tf.zeros([5, x_train.shape[1]]))"
   ]
  },
  {
   "cell_type": "code",
   "execution_count": 17,
   "metadata": {},
   "outputs": [
    {
     "data": {
      "text/plain": [
       "[<__main__.MyDense at 0x13a2ce210>,\n",
       " <__main__.MyDense at 0x13a2ced90>,\n",
       " <__main__.MyDense at 0x13a2ceb90>,\n",
       " <__main__.MyDense at 0x1394083d0>]"
      ]
     },
     "execution_count": 17,
     "metadata": {},
     "output_type": "execute_result"
    }
   ],
   "source": [
    "custom_model.layers"
   ]
  },
  {
   "cell_type": "code",
   "execution_count": 18,
   "metadata": {},
   "outputs": [
    {
     "name": "stdout",
     "output_type": "stream",
     "text": [
      "Model: \"custom_regression_model\"\n",
      "_________________________________________________________________\n",
      "Layer (type)                 Output Shape              Param #   \n",
      "=================================================================\n",
      "my_dense_4 (MyDense)         multiple                  576       \n",
      "_________________________________________________________________\n",
      "my_dense_5 (MyDense)         multiple                  2048      \n",
      "_________________________________________________________________\n",
      "my_dense_6 (MyDense)         multiple                  512       \n",
      "_________________________________________________________________\n",
      "my_dense_7 (MyDense)         multiple                  16        \n",
      "=================================================================\n",
      "Total params: 3,152\n",
      "Trainable params: 3,152\n",
      "Non-trainable params: 0\n",
      "_________________________________________________________________\n"
     ]
    }
   ],
   "source": [
    "custom_model.summary()"
   ]
  },
  {
   "cell_type": "code",
   "execution_count": 19,
   "metadata": {},
   "outputs": [],
   "source": [
    "optimizer = tf.keras.optimizers.RMSprop(0.001)\n",
    "\n",
    "custom_model.compile(loss='mse',\n",
    "                     optimizer=tf.keras.optimizers.RMSprop(0.001),\n",
    "                     metrics=['mse'])"
   ]
  },
  {
   "cell_type": "code",
   "execution_count": 20,
   "metadata": {},
   "outputs": [
    {
     "name": "stdout",
     "output_type": "stream",
     "text": [
      "\n",
      "Epoch: 0, loss:317019615.5514,  mse:317019616.0000,  val_loss:336013048.8224,  val_mse:336013056.0000,  \n",
      "....................................................................................................\n",
      "Epoch: 100, loss:26028472.3551,  mse:26028478.0000,  val_loss:23986124.0000,  val_mse:23986124.0000,  \n",
      "....................................................................................................\n",
      "Epoch: 200, loss:22987883.4393,  mse:22987886.0000,  val_loss:21818801.9439,  val_mse:21818804.0000,  \n",
      "....................................................................................................\n",
      "Epoch: 300, loss:21981358.9346,  mse:21981358.0000,  val_loss:21531283.1776,  val_mse:21531284.0000,  \n",
      "....................................................................................................\n",
      "Epoch: 400, loss:21394439.6262,  mse:21394442.0000,  val_loss:21444915.5140,  val_mse:21444914.0000,  \n",
      "....................................................................................................\n",
      "Epoch: 500, loss:20930289.4019,  mse:20930290.0000,  val_loss:21321111.0280,  val_mse:21321110.0000,  \n",
      "....................................................................................................\n",
      "Epoch: 600, loss:20523007.8972,  mse:20523008.0000,  val_loss:21129421.0467,  val_mse:21129422.0000,  \n",
      "....................................................................................................\n",
      "Epoch: 700, loss:20245957.2523,  mse:20245956.0000,  val_loss:21252560.2243,  val_mse:21252560.0000,  \n",
      "....................................................................................................\n",
      "Epoch: 800, loss:19934995.5327,  mse:19934996.0000,  val_loss:21094215.5888,  val_mse:21094216.0000,  \n",
      "....................................................................................................\n",
      "Epoch: 900, loss:19664400.1308,  mse:19664400.0000,  val_loss:21413823.4019,  val_mse:21413824.0000,  \n",
      "...................................................................................................."
     ]
    }
   ],
   "source": [
    "n_epochs = 1000\n",
    "\n",
    "training_hist = custom_model.fit(x_train.values, \n",
    "                                 y_train.values,\n",
    "                                 epochs=n_epochs, \n",
    "                                 validation_split = 0.2, \n",
    "                                 verbose=False,\n",
    "                                 callbacks=[tfdocs.modeling.EpochDots()])"
   ]
  },
  {
   "cell_type": "markdown",
   "metadata": {},
   "source": [
    "### Plotting epoch vs loss graph"
   ]
  },
  {
   "cell_type": "code",
   "execution_count": 21,
   "metadata": {},
   "outputs": [
    {
     "data": {
      "image/png": "[encoded data removed]",
      "text/plain": [
       "<Figure size 864x576 with 1 Axes>"
      ]
     },
     "metadata": {
      "needs_background": "light"
     },
     "output_type": "display_data"
    }
   ],
   "source": [
    "plotter = tfdocs.plots.HistoryPlotter(smoothing_std=2)\n",
    "\n",
    "plt.figure(figsize=(12, 8))\n",
    "\n",
    "plotter.plot({'Basic': training_hist}, metric = \"mse\")\n",
    "\n",
    "plt.ylabel('MSE[Charges^2]')\n",
    "plt.show()"
   ]
  },
  {
   "cell_type": "markdown",
   "metadata": {},
   "source": [
    "### Predictng and plotting actual and predicted values"
   ]
  },
  {
   "cell_type": "code",
   "execution_count": 22,
   "metadata": {},
   "outputs": [
    {
     "data": {
      "image/png": "[encoded data removed]",
      "text/plain": [
       "<Figure size 864x576 with 1 Axes>"
      ]
     },
     "metadata": {
      "needs_background": "light"
     },
     "output_type": "display_data"
    }
   ],
   "source": [
    "y_pred = custom_model.predict(x_test.values).flatten()\n",
    "\n",
    "plt.figure(figsize=(12, 8))\n",
    "\n",
    "plt.scatter(y_test, y_pred, s=200, c='darkblue')\n",
    "\n",
    "plt.xlabel('Actual charges values')\n",
    "plt.ylabel('Predicted charges values')\n",
    "plt.show()"
   ]
  },
  {
   "cell_type": "code",
   "execution_count": 23,
   "metadata": {},
   "outputs": [
    {
     "data": {
      "text/plain": [
       "0.8697965969517945"
      ]
     },
     "execution_count": 23,
     "metadata": {},
     "output_type": "execute_result"
    }
   ],
   "source": [
    "r2_score(y_test, y_pred)"
   ]
  },
  {
   "cell_type": "code",
   "execution_count": 24,
   "metadata": {},
   "outputs": [],
   "source": [
    "custom_model.save_weights('my_models/custom_model.h5', save_format=\"h5\")"
   ]
  },
  {
   "cell_type": "markdown",
   "metadata": {},
   "source": [
    "### Creating weights and loading weights"
   ]
  },
  {
   "cell_type": "code",
   "execution_count": 25,
   "metadata": {},
   "outputs": [
    {
     "data": {
      "text/plain": [
       "<tf.Tensor: shape=(5, 1), dtype=float32, numpy=\n",
       "array([[0.],\n",
       "       [0.],\n",
       "       [0.],\n",
       "       [0.],\n",
       "       [0.]], dtype=float32)>"
      ]
     },
     "execution_count": 25,
     "metadata": {},
     "output_type": "execute_result"
    }
   ],
   "source": [
    "new_model = CustomRegressionModel(x_train.shape[1], [64, 32, 16], 'elu')\n",
    "\n",
    "new_model(tf.zeros([5, x_train.shape[1]]))"
   ]
  },
  {
   "cell_type": "code",
   "execution_count": 26,
   "metadata": {},
   "outputs": [],
   "source": [
    "optimizer = tf.keras.optimizers.RMSprop(0.001)\n",
    "\n",
    "new_model.compile(loss='mse',\n",
    "                  optimizer=tf.keras.optimizers.RMSprop(0.001),\n",
    "                  metrics=['mse'])"
   ]
  },
  {
   "cell_type": "code",
   "execution_count": 27,
   "metadata": {},
   "outputs": [],
   "source": [
    "new_model.load_weights('my_models/custom_model.h5')"
   ]
  },
  {
   "cell_type": "markdown",
   "metadata": {},
   "source": [
    "### Evaluating model"
   ]
  },
  {
   "cell_type": "code",
   "execution_count": 28,
   "metadata": {},
   "outputs": [
    {
     "data": {
      "text/plain": [
       "0.8697965969517945"
      ]
     },
     "execution_count": 28,
     "metadata": {},
     "output_type": "execute_result"
    }
   ],
   "source": [
    "y_pred_new = new_model.predict(x_test.values)\n",
    "\n",
    "r2_score(y_test, y_pred_new)"
   ]
  },
  {
   "cell_type": "code",
   "execution_count": null,
   "metadata": {},
   "outputs": [],
   "source": []
  },
  {
   "cell_type": "code",
   "execution_count": null,
   "metadata": {},
   "outputs": [],
   "source": []
  },
  {
   "cell_type": "code",
   "execution_count": null,
   "metadata": {},
   "outputs": [],
   "source": []
  },
  {
   "cell_type": "code",
   "execution_count": null,
   "metadata": {},
   "outputs": [],
   "source": []
  },
  {
   "cell_type": "code",
   "execution_count": null,
   "metadata": {},
   "outputs": [],
   "source": []
  },
  {
   "cell_type": "code",
   "execution_count": null,
   "metadata": {},
   "outputs": [],
   "source": []
  },
  {
   "cell_type": "code",
   "execution_count": null,
   "metadata": {},
   "outputs": [],
   "source": []
  },
  {
   "cell_type": "code",
   "execution_count": null,
   "metadata": {},
   "outputs": [],
   "source": []
  },
  {
   "cell_type": "code",
   "execution_count": null,
   "metadata": {},
   "outputs": [],
   "source": []
  },
  {
   "cell_type": "code",
   "execution_count": null,
   "metadata": {},
   "outputs": [],
   "source": []
  },
  {
   "cell_type": "code",
   "execution_count": null,
   "metadata": {},
   "outputs": [],
   "source": []
  },
  {
   "cell_type": "code",
   "execution_count": null,
   "metadata": {},
   "outputs": [],
   "source": []
  },
  {
   "cell_type": "code",
   "execution_count": null,
   "metadata": {},
   "outputs": [],
   "source": []
  },
  {
   "cell_type": "code",
   "execution_count": null,
   "metadata": {},
   "outputs": [],
   "source": []
  },
  {
   "cell_type": "code",
   "execution_count": null,
   "metadata": {},
   "outputs": [],
   "source": []
  },
  {
   "cell_type": "code",
   "execution_count": null,
   "metadata": {},
   "outputs": [],
   "source": []
  },
  {
   "cell_type": "code",
   "execution_count": null,
   "metadata": {},
   "outputs": [],
   "source": []
  },
  {
   "cell_type": "code",
   "execution_count": null,
   "metadata": {},
   "outputs": [],
   "source": []
  },
  {
   "cell_type": "code",
   "execution_count": null,
   "metadata": {},
   "outputs": [],
   "source": []
  },
  {
   "cell_type": "code",
   "execution_count": null,
   "metadata": {},
   "outputs": [],
   "source": []
  },
  {
   "cell_type": "code",
   "execution_count": null,
   "metadata": {},
   "outputs": [],
   "source": []
  },
  {
   "cell_type": "code",
   "execution_count": null,
   "metadata": {},
   "outputs": [],
   "source": []
  },
  {
   "cell_type": "code",
   "execution_count": null,
   "metadata": {},
   "outputs": [],
   "source": []
  },
  {
   "cell_type": "code",
   "execution_count": null,
   "metadata": {},
   "outputs": [],
   "source": []
  },
  {
   "cell_type": "code",
   "execution_count": null,
   "metadata": {},
   "outputs": [],
   "source": []
  },
  {
   "cell_type": "code",
   "execution_count": null,
   "metadata": {},
   "outputs": [],
   "source": []
  },
  {
   "cell_type": "code",
   "execution_count": null,
   "metadata": {},
   "outputs": [],
   "source": []
  },
  {
   "cell_type": "code",
   "execution_count": null,
   "metadata": {},
   "outputs": [],
   "source": []
  },
  {
   "cell_type": "code",
   "execution_count": null,
   "metadata": {},
   "outputs": [],
   "source": []
  },
  {
   "cell_type": "code",
   "execution_count": null,
   "metadata": {},
   "outputs": [],
   "source": []
  },
  {
   "cell_type": "code",
   "execution_count": null,
   "metadata": {},
   "outputs": [],
   "source": []
  },
  {
   "cell_type": "code",
   "execution_count": null,
   "metadata": {},
   "outputs": [],
   "source": []
  },
  {
   "cell_type": "code",
   "execution_count": null,
   "metadata": {},
   "outputs": [],
   "source": []
  },
  {
   "cell_type": "code",
   "execution_count": null,
   "metadata": {},
   "outputs": [],
   "source": []
  }
 ],
 "metadata": {
  "kernelspec": {
   "display_name": "Python 3",
   "language": "python",
   "name": "python3"
  },
  "language_info": {
   "codemirror_mode": {
    "name": "ipython",
    "version": 3
   },
   "file_extension": ".py",
   "mimetype": "text/x-python",
   "name": "python",
   "nbconvert_exporter": "python",
   "pygments_lexer": "ipython3",
   "version": "3.7.4"
  }
 },
 "nbformat": 4,
 "nbformat_minor": 2
}
