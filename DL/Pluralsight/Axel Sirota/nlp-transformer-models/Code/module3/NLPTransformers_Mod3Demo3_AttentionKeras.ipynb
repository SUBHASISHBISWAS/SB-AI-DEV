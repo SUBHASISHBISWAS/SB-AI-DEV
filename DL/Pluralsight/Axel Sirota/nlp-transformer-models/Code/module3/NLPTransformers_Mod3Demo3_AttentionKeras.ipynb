{
  "nbformat": 4,
  "nbformat_minor": 0,
  "metadata": {
    "colab": {
      "provenance": [],
      "collapsed_sections": [
        "JsTW2QHimUlx"
      ],
      "authorship_tag": "ABX9TyPj5ESFtz13HLkVzxJhQqT0",
      "include_colab_link": true
    },
    "kernelspec": {
      "name": "python3",
      "display_name": "Python 3"
    },
    "language_info": {
      "name": "python"
    }
  },
  "cells": [
    {
      "cell_type": "markdown",
      "metadata": {
        "id": "view-in-github",
        "colab_type": "text"
      },
      "source": [
        "<a href=\"https://colab.research.google.com/github/axel-sirota/nlp-and-transformers/blob/main/module3/NLPTransformers_Mod3Demo3_AttentionKeras.ipynb\" target=\"_parent\"><img src=\"https://colab.research.google.com/assets/colab-badge.svg\" alt=\"Open In Colab\"/></a>"
      ]
    },
    {
      "cell_type": "markdown",
      "source": [
        "# Attention with Keras\n",
        "\n",
        "© Data Trainers LLC. GPL v 3.0.\n",
        "\n",
        "Author: Axel Sirota"
      ],
      "metadata": {
        "id": "r45tbR6lkYEa"
      }
    },
    {
      "cell_type": "markdown",
      "source": [
        "A whole new world opportunities appear when considering using the layer implementations of the attention components. As of July 2023 we have 3 layers implemented:\n",
        "\n",
        "- AdditiveAttention: This is the original Attention from the Bahdanau paper that incorporates the concept of Q,K,V attention we say in demo 2; setting, in this case, K=V.\n",
        "- Attention: This is the Dot Product attention from *Luong et. al.* we saw in the first demo.\n",
        "- MultiHeadAttention: The general attention everyone uses and we will learn in this demo! It is basically many layers of self attention.\n",
        "\n",
        "Let's get to it!\n"
      ],
      "metadata": {
        "id": "hcU-PBR3kbaL"
      }
    },
    {
      "cell_type": "markdown",
      "source": [
        "## Prep"
      ],
      "metadata": {
        "id": "JsTW2QHimUlx"
      }
    },
    {
      "cell_type": "code",
      "source": [
        "!pip install -U nltk 'gensim==4.2.0' 'keras-nlp' 'keras-preprocessing' 'tensorflow-text>=2.11'"
      ],
      "metadata": {
        "id": "C9BTEOu0PerV"
      },
      "execution_count": null,
      "outputs": []
    },
    {
      "cell_type": "markdown",
      "source": [
        "Let's run some helper functions to setup using the GPUs"
      ],
      "metadata": {
        "id": "9H2IYs8QkXZd"
      }
    },
    {
      "cell_type": "code",
      "execution_count": null,
      "metadata": {
        "id": "0fpgYwAtNO2T"
      },
      "outputs": [],
      "source": [
        "import multiprocessing\n",
        "import tensorflow as tf\n",
        "import sys\n",
        "import keras.backend as K\n",
        "from keras.models import Sequential\n",
        "from keras.layers import Dense, Embedding, Lambda, ELU, Conv1D, MaxPooling1D, Dropout\n",
        "from keras.preprocessing import sequence\n",
        "from keras.preprocessing.text import Tokenizer\n",
        "from sklearn.model_selection import train_test_split\n",
        "from keras import preprocessing\n",
        "from textblob import TextBlob, Word\n",
        "from keras_preprocessing.sequence import pad_sequences\n",
        "from keras.initializers import Constant\n",
        "from tensorflow.keras.layers.experimental import preprocessing\n",
        "from tensorflow.keras import Model, Input\n",
        "import numpy as np\n",
        "import re\n",
        "import random\n",
        "import os\n",
        "import pandas as pd\n",
        "import gensim\n",
        "import warnings\n",
        "import nltk\n",
        "import time\n",
        "\n",
        "TRACE = False\n",
        "\n",
        "def set_seeds_and_trace():\n",
        "  os.environ['PYTHONHASHSEED'] = '0'\n",
        "  np.random.seed(42)\n",
        "  tf.random.set_seed(42)\n",
        "  random.seed(42)\n",
        "  if TRACE:\n",
        "    tf.debugging.set_log_device_placement(True)\n",
        "\n",
        "def set_session_with_gpus_and_cores():\n",
        "  cores = multiprocessing.cpu_count()\n",
        "  gpus = len(tf.config.list_physical_devices('GPU'))\n",
        "  config = tf.compat.v1.ConfigProto( device_count = {'GPU': gpus  , 'CPU': cores} , intra_op_parallelism_threads=1, inter_op_parallelism_threads=1)\n",
        "  sess = tf.compat.v1.Session(config=config)\n",
        "  tf.compat.v1.keras.backend.set_session(sess)\n",
        "\n",
        "set_seeds_and_trace()\n",
        "set_session_with_gpus_and_cores()\n",
        "warnings.filterwarnings('ignore')\n",
        "nltk.download('punkt')"
      ]
    },
    {
      "cell_type": "markdown",
      "source": [
        "## Attention *a la Bahdanau*"
      ],
      "metadata": {
        "id": "uvVC_dlqmdf6"
      }
    },
    {
      "cell_type": "markdown",
      "source": [
        "The easiest way to test a Layer in Keras is to create a simple model that uses such a layer, we will do just that! This also shows how easy is to add attention to your models, which we will use extensively when creating THE Transformer from scratch"
      ],
      "metadata": {
        "id": "ibxTc61LmmhK"
      }
    },
    {
      "cell_type": "markdown",
      "source": [
        "Notice we need a custom model class because the inputs needs to be the query and value, and they could have different embeddings as well."
      ],
      "metadata": {
        "id": "oLbdmNwEoUM7"
      }
    },
    {
      "cell_type": "code",
      "source": [
        "class AttentionModel(tf.keras.Model):\n",
        "\n",
        "  def __init__(self, vocab_size, max_tokens, embedding_dim, dropout_rate):\n",
        "    super().__init__()\n",
        "    self.embedding = tf.keras.layers.Embedding(input_dim=vocab_size, output_dim=embedding_dim, input_length=max_tokens)\n",
        "    self.attention = tf.keras.layers.AdditiveAttention()\n",
        "    self.dropout = tf.keras.layers.Dropout(dropout_rate)\n",
        "    self.dense = tf.keras.layers.Dense(vocab_size, activation='softmax')\n",
        "\n",
        "  def call(self, inputs, training=False):\n",
        "\n",
        "    query, value = inputs\n",
        "    # Query embeddings of shape [batch_size, Tq, dimension].\n",
        "    query_embeddings = self.embedding(query)\n",
        "    # Value embeddings of shape [batch_size, Tv, dimension].\n",
        "    value_embeddings = self.embedding(value)\n",
        "    # Notice we could have an embedding for the inputs and another embedding for outputs, we will see more of that later\n",
        "    x = self.attention([query_embeddings, value_embeddings])\n",
        "    x = self.dropout(x, training=training)\n",
        "    x = self.dense(x, training=training)\n",
        "    return x\n",
        "\n",
        "  def build_graph(self, max_tokens, embedding_dim):\n",
        "    query_input = tf.keras.Input(shape=(None, max_tokens, embedding_dim), dtype='int32')\n",
        "    value_input = tf.keras.Input(shape=(None, max_tokens, embedding_dim), dtype='int32')\n",
        "    x = (query_input, value_input)\n",
        "    return Model(inputs=x, outputs=self.call(x))"
      ],
      "metadata": {
        "id": "36P0ESmxThvQ"
      },
      "execution_count": null,
      "outputs": []
    },
    {
      "cell_type": "code",
      "source": [
        "model = AttentionModel(100, 10, 20, 0)"
      ],
      "metadata": {
        "id": "WpLSon3cNVvc"
      },
      "execution_count": null,
      "outputs": []
    },
    {
      "cell_type": "code",
      "source": [
        "model.summary()"
      ],
      "metadata": {
        "id": "CSRhli0ZWFxf"
      },
      "execution_count": null,
      "outputs": []
    },
    {
      "cell_type": "markdown",
      "source": [
        "Oh no! We need to call the model, well that is simple let's simulate 3 sentences!"
      ],
      "metadata": {
        "id": "eXOb_IEGqV2p"
      }
    },
    {
      "cell_type": "code",
      "source": [
        "embedding_dim = 20\n",
        "max_tokens = 10\n",
        "query = tf.constant(np.random.randint(0, embedding_dim, size=(3,max_tokens)))\n",
        "value = tf.constant(np.random.randint(0, embedding_dim, size=(3,max_tokens)))\n",
        "\n",
        "response = model((query,value) )"
      ],
      "metadata": {
        "id": "Mtn3d4wwyEGU"
      },
      "execution_count": null,
      "outputs": []
    },
    {
      "cell_type": "code",
      "source": [
        "response.shape"
      ],
      "metadata": {
        "id": "8ngnlesuSTyC"
      },
      "execution_count": null,
      "outputs": []
    },
    {
      "cell_type": "code",
      "source": [
        "model.summary()"
      ],
      "metadata": {
        "id": "bZCFervbyf7i"
      },
      "execution_count": null,
      "outputs": []
    },
    {
      "cell_type": "code",
      "source": [
        "model.build_graph(max_tokens=max_tokens, embedding_dim=embedding_dim)"
      ],
      "metadata": {
        "id": "Gi07wCzxXNt7"
      },
      "execution_count": null,
      "outputs": []
    },
    {
      "cell_type": "code",
      "source": [
        "model.summary()"
      ],
      "metadata": {
        "id": "X1PW8NYaXOTq"
      },
      "execution_count": null,
      "outputs": []
    },
    {
      "cell_type": "markdown",
      "source": [
        "Notice that attention adds very few parameters, adds many knowledge to the following layers, and is paralellizable."
      ],
      "metadata": {
        "id": "nWQHcNquqfVK"
      }
    },
    {
      "cell_type": "markdown",
      "source": [
        "## MultiHead Attention"
      ],
      "metadata": {
        "id": "A5y1okQ9QJ48"
      }
    },
    {
      "cell_type": "markdown",
      "source": [
        "Now you are ready to see Multi Head Attention. The idea is quite simple, as in CNNs we had many filters and each convolution checked many different aspects of an image, having many self attentions can check different aspects of our entity, globally. In image it is:\n",
        "\n",
        "<figure>\n",
        "<center>\n",
        "<img src='https://www.dropbox.com/s/wjfxpap06viclhv/mha.png?raw=1'  />\n",
        "<figcaption>Attention</figcaption></center>\n",
        "</figure>"
      ],
      "metadata": {
        "id": "bakdsYuhqogu"
      }
    },
    {
      "cell_type": "markdown",
      "source": [
        "Each head performs Scaled attention as we did before with the weird formula, and then we concatenate!"
      ],
      "metadata": {
        "id": "S4tqYQY3rPCJ"
      }
    },
    {
      "cell_type": "code",
      "source": [
        "class MultiHeadAttentionModel(tf.keras.Model):\n",
        "\n",
        "  def __init__(self, num_heads, vocab_size, attention_dim, max_tokens, embedding_dim, dropout_rate):\n",
        "    super().__init__()\n",
        "    self.embedding = tf.keras.layers.Embedding(input_dim=vocab_size, output_dim=embedding_dim, input_length=max_tokens)\n",
        "\n",
        "    # key_dim stands for size of each attention head for query and key, we can also pass value_key is K!=V\n",
        "    self.attention = tf.keras.layers.MultiHeadAttention(num_heads=num_heads, key_dim=attention_dim, dropout=dropout_rate)\n",
        "\n",
        "    self.dense = tf.keras.layers.Dense(100, activation='softmax')\n",
        "\n",
        "  def call(self, inputs, training=False):\n",
        "\n",
        "    query, value = inputs\n",
        "    # Query embeddings of shape [batch_size, Tq, dimension].\n",
        "    query_embeddings = self.embedding(query)\n",
        "    # Value embeddings of shape [batch_size, Tv, dimension].\n",
        "    value_embeddings = self.embedding(value)\n",
        "    x, weights = self.attention(query_embeddings, value_embeddings, return_attention_scores=True)  # We return the scores to do our plot!\n",
        "    x = self.dense(x, training=training)\n",
        "    return x, weights\n",
        "\n",
        "  def build_graph(self, max_tokens, embedding_dim):\n",
        "    query_input = tf.keras.Input(shape=(max_tokens, embedding_dim), dtype='int32')\n",
        "    value_input = tf.keras.Input(shape=(max_tokens, embedding_dim), dtype='int32')\n",
        "    x = (query_input, value_input)\n",
        "    return Model(inputs=x, outputs=self.call(x))"
      ],
      "metadata": {
        "id": "7TqMEi2gQNFZ"
      },
      "execution_count": null,
      "outputs": []
    },
    {
      "cell_type": "code",
      "source": [
        "vocab_size=100\n",
        "model = MultiHeadAttentionModel(num_heads=3, vocab_size=vocab_size, attention_dim=2, max_tokens=max_tokens, embedding_dim=embedding_dim, dropout_rate=0)"
      ],
      "metadata": {
        "id": "HyWkokOtw6GW"
      },
      "execution_count": null,
      "outputs": []
    },
    {
      "cell_type": "code",
      "source": [
        "model.build_graph(max_tokens=max_tokens, embedding_dim=embedding_dim)"
      ],
      "metadata": {
        "id": "vXhcalSwxF9a"
      },
      "execution_count": null,
      "outputs": []
    },
    {
      "cell_type": "code",
      "source": [
        "query = tf.constant(np.random.randint(0,vocab_size, size=(3,max_tokens, 10)))\n",
        "value = tf.constant(np.random.randint(0,vocab_size, size=(3,max_tokens, 10)))\n",
        "\n",
        "response, weights = model((query,value) )"
      ],
      "metadata": {
        "id": "HW4raKPVxPNj"
      },
      "execution_count": null,
      "outputs": []
    },
    {
      "cell_type": "code",
      "source": [
        "response.shape"
      ],
      "metadata": {
        "id": "HelBLsdnxbL7"
      },
      "execution_count": null,
      "outputs": []
    },
    {
      "cell_type": "markdown",
      "source": [
        "**Can you guess each value in the response.shape where does it come from?**"
      ],
      "metadata": {
        "id": "NrYWnu1RsQWS"
      }
    },
    {
      "cell_type": "code",
      "source": [
        "weights.shape"
      ],
      "metadata": {
        "id": "OG5X7dchyN4v"
      },
      "execution_count": null,
      "outputs": []
    },
    {
      "cell_type": "markdown",
      "source": [
        "**And for the weights??**"
      ],
      "metadata": {
        "id": "yVfmU78bsaIG"
      }
    },
    {
      "cell_type": "code",
      "source": [
        "model.summary()"
      ],
      "metadata": {
        "id": "esLeIv1IyOtf"
      },
      "execution_count": null,
      "outputs": []
    },
    {
      "cell_type": "markdown",
      "source": [
        "Again, notice Attention as complex as multi head attention did not add many params and adds a lot lexical intelligence."
      ],
      "metadata": {
        "id": "n-KQ5uhrsfmB"
      }
    },
    {
      "cell_type": "code",
      "source": [],
      "metadata": {
        "id": "uluP5iZYsn44"
      },
      "execution_count": null,
      "outputs": []
    }
  ]
}