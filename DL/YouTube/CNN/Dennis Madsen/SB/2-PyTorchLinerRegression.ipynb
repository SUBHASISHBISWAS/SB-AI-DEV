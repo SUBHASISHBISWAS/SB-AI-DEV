{
 "cells": [
  {
   "cell_type": "code",
   "execution_count": 14,
   "metadata": {},
   "outputs": [],
   "source": [
    "import torch\n",
    "import numpy as np\n",
    "from matplotlib import pyplot as plt"
   ]
  },
  {
   "cell_type": "code",
   "execution_count": 15,
   "metadata": {},
   "outputs": [
    {
     "data": {
      "text/plain": [
       "tensor([-5., -4., -3., -2., -1.,  0.,  1.,  2.,  3.,  4.])"
      ]
     },
     "execution_count": 15,
     "metadata": {},
     "output_type": "execute_result"
    }
   ],
   "source": [
    "'''\n",
    "In the below example we see a 1D linear regression example: \n",
    "y=wx+b\n",
    "'''\n",
    "x = torch.tensor(range(-5,5)).float()\n",
    "x"
   ]
  },
  {
   "cell_type": "code",
   "execution_count": 16,
   "metadata": {},
   "outputs": [
    {
     "data": {
      "text/plain": [
       "tensor([-11.,  -8.,  -5.,  -2.,   1.,   4.,   7.,  10.,  13.,  16.])"
      ]
     },
     "execution_count": 16,
     "metadata": {},
     "output_type": "execute_result"
    }
   ],
   "source": [
    "w_gt = 3\n",
    "b_gt = 4\n",
    "y = w_gt*x + b_gt\n",
    "y"
   ]
  },
  {
   "cell_type": "code",
   "execution_count": 17,
   "metadata": {},
   "outputs": [
    {
     "name": "stdout",
     "output_type": "stream",
     "text": [
      "w: tensor([-0.7436], requires_grad=True)\n",
      "b: tensor([1.2372], requires_grad=True)\n"
     ]
    }
   ],
   "source": [
    "w = torch.randn(1, requires_grad=True)\n",
    "b = torch.randn(1, requires_grad=True)\n",
    "print(f'w: {w}')\n",
    "print(f'b: {b}')"
   ]
  },
  {
   "cell_type": "code",
   "execution_count": 18,
   "metadata": {},
   "outputs": [],
   "source": [
    "learning_rate = 0.01"
   ]
  },
  {
   "cell_type": "code",
   "execution_count": 19,
   "metadata": {},
   "outputs": [],
   "source": [
    "def trainManual(w, b, lr, iternum):\n",
    "    for i in range(iternum):\n",
    "        y_hat = w*x + b\n",
    "\n",
    "        error = torch.sum(torch.pow(y-y_hat,2)/y.numel())\n",
    "        error.backward()   # Compute the Gradients for w and b (requires_grad=True)\n",
    "        print(w,w.grad)\n",
    "        # Update parameters\n",
    "        with torch.no_grad():   # Temporarily set all requires_grad=False\n",
    "            w -= lr * w.grad\n",
    "            b -= lr * b.grad\n",
    "            # Remember to zero the gradients!\n",
    "            # If not, the gradients will be accumulated\n",
    "            w.grad.zero_()\n",
    "            b.grad.zero_()\n",
    "        print(\"Error: {:.4f}\".format(error))"
   ]
  },
  {
   "cell_type": "code",
   "execution_count": 20,
   "metadata": {},
   "outputs": [
    {
     "name": "stdout",
     "output_type": "stream",
     "text": [
      "tensor([-0.7436], requires_grad=True) tensor([-60.8780])\n",
      "Error: 116.4122\n",
      "tensor([-0.1348], requires_grad=True) tensor([-50.5466])\n",
      "Error: 82.4588\n",
      "tensor([0.3707], requires_grad=True) tensor([-41.9772])\n",
      "Error: 59.0142\n",
      "tensor([0.7904], requires_grad=True) tensor([-34.8692])\n",
      "Error: 42.8010\n",
      "tensor([1.1391], requires_grad=True) tensor([-28.9732])\n",
      "Error: 31.5648\n",
      "tensor([1.4289], requires_grad=True) tensor([-24.0824])\n",
      "Error: 23.7552\n",
      "tensor([1.6697], requires_grad=True) tensor([-20.0252])\n",
      "Error: 18.3054\n",
      "tensor([1.8699], requires_grad=True) tensor([-16.6594])\n",
      "Error: 14.4818\n",
      "tensor([2.0365], requires_grad=True) tensor([-13.8670])\n",
      "Error: 11.7794\n",
      "tensor([2.1752], requires_grad=True) tensor([-11.5503])\n",
      "Error: 9.8511\n",
      "tensor([2.2907], requires_grad=True) tensor([-9.6279])\n",
      "Error: 8.4578\n",
      "tensor([2.3870], requires_grad=True) tensor([-8.0327])\n",
      "Error: 7.4350\n",
      "tensor([2.4673], requires_grad=True) tensor([-6.7087])\n",
      "Error: 6.6696\n",
      "tensor([2.5344], requires_grad=True) tensor([-5.6099])\n",
      "Error: 6.0836\n",
      "tensor([2.5905], requires_grad=True) tensor([-4.6976])\n",
      "Error: 5.6233\n",
      "tensor([2.6375], requires_grad=True) tensor([-3.9402])\n",
      "Error: 5.2515\n",
      "tensor([2.6769], requires_grad=True) tensor([-3.3112])\n",
      "Error: 4.9428\n",
      "tensor([2.7100], requires_grad=True) tensor([-2.7887])\n",
      "Error: 4.6795\n",
      "tensor([2.7379], requires_grad=True) tensor([-2.3546])\n",
      "Error: 4.4494\n",
      "tensor([2.7614], requires_grad=True) tensor([-1.9937])\n",
      "Error: 4.2440\n",
      "tensor([2.7814], requires_grad=True) tensor([-1.6936])\n",
      "Error: 4.0574\n",
      "tensor([2.7983], requires_grad=True) tensor([-1.4440])\n",
      "Error: 3.8855\n",
      "tensor([2.8127], requires_grad=True) tensor([-1.2362])\n",
      "Error: 3.7253\n",
      "tensor([2.8251], requires_grad=True) tensor([-1.0631])\n",
      "Error: 3.5748\n",
      "tensor([2.8357], requires_grad=True) tensor([-0.9188])\n",
      "Error: 3.4325\n",
      "tensor([2.8449], requires_grad=True) tensor([-0.7985])\n",
      "Error: 3.2973\n",
      "tensor([2.8529], requires_grad=True) tensor([-0.6979])\n",
      "Error: 3.1685\n",
      "tensor([2.8599], requires_grad=True) tensor([-0.6139])\n",
      "Error: 3.0454\n",
      "tensor([2.8660], requires_grad=True) tensor([-0.5435])\n",
      "Error: 2.9275\n",
      "tensor([2.8715], requires_grad=True) tensor([-0.4844])\n",
      "Error: 2.8146\n",
      "tensor([2.8763], requires_grad=True) tensor([-0.4348])\n",
      "Error: 2.7062\n",
      "tensor([2.8806], requires_grad=True) tensor([-0.3930])\n",
      "Error: 2.6022\n",
      "tensor([2.8846], requires_grad=True) tensor([-0.3577])\n",
      "Error: 2.5022\n",
      "tensor([2.8882], requires_grad=True) tensor([-0.3278])\n",
      "Error: 2.4062\n",
      "tensor([2.8914], requires_grad=True) tensor([-0.3025])\n",
      "Error: 2.3139\n",
      "tensor([2.8945], requires_grad=True) tensor([-0.2808])\n",
      "Error: 2.2252\n",
      "tensor([2.8973], requires_grad=True) tensor([-0.2623])\n",
      "Error: 2.1400\n",
      "tensor([2.8999], requires_grad=True) tensor([-0.2464])\n",
      "Error: 2.0580\n",
      "tensor([2.9024], requires_grad=True) tensor([-0.2326])\n",
      "Error: 1.9791\n",
      "tensor([2.9047], requires_grad=True) tensor([-0.2206])\n",
      "Error: 1.9033\n",
      "tensor([2.9069], requires_grad=True) tensor([-0.2102])\n",
      "Error: 1.8304\n",
      "tensor([2.9090], requires_grad=True) tensor([-0.2010])\n",
      "Error: 1.7603\n",
      "tensor([2.9110], requires_grad=True) tensor([-0.1928])\n",
      "Error: 1.6929\n",
      "tensor([2.9129], requires_grad=True) tensor([-0.1855])\n",
      "Error: 1.6280\n",
      "tensor([2.9148], requires_grad=True) tensor([-0.1790])\n",
      "Error: 1.5657\n",
      "tensor([2.9166], requires_grad=True) tensor([-0.1731])\n",
      "Error: 1.5057\n",
      "tensor([2.9183], requires_grad=True) tensor([-0.1678])\n",
      "Error: 1.4480\n",
      "tensor([2.9200], requires_grad=True) tensor([-0.1628])\n",
      "Error: 1.3926\n",
      "tensor([2.9216], requires_grad=True) tensor([-0.1583])\n",
      "Error: 1.3392\n",
      "tensor([2.9232], requires_grad=True) tensor([-0.1541])\n",
      "Error: 1.2879\n",
      "tensor([2.9247], requires_grad=True) tensor([-0.1502])\n",
      "Error: 1.2386\n",
      "tensor([2.9262], requires_grad=True) tensor([-0.1465])\n",
      "Error: 1.1912\n",
      "tensor([2.9277], requires_grad=True) tensor([-0.1430])\n",
      "Error: 1.1456\n",
      "tensor([2.9291], requires_grad=True) tensor([-0.1397])\n",
      "Error: 1.1017\n",
      "tensor([2.9305], requires_grad=True) tensor([-0.1365])\n",
      "Error: 1.0595\n",
      "tensor([2.9319], requires_grad=True) tensor([-0.1335])\n",
      "Error: 1.0189\n",
      "tensor([2.9332], requires_grad=True) tensor([-0.1306])\n",
      "Error: 0.9799\n",
      "tensor([2.9345], requires_grad=True) tensor([-0.1278])\n",
      "Error: 0.9424\n",
      "tensor([2.9358], requires_grad=True) tensor([-0.1252])\n",
      "Error: 0.9063\n",
      "tensor([2.9371], requires_grad=True) tensor([-0.1226])\n",
      "Error: 0.8716\n",
      "tensor([2.9383], requires_grad=True) tensor([-0.1200])\n",
      "Error: 0.8382\n",
      "tensor([2.9395], requires_grad=True) tensor([-0.1176])\n",
      "Error: 0.8061\n",
      "tensor([2.9407], requires_grad=True) tensor([-0.1152])\n",
      "Error: 0.7752\n",
      "tensor([2.9418], requires_grad=True) tensor([-0.1129])\n",
      "Error: 0.7455\n",
      "tensor([2.9429], requires_grad=True) tensor([-0.1107])\n",
      "Error: 0.7170\n",
      "tensor([2.9441], requires_grad=True) tensor([-0.1085])\n",
      "Error: 0.6895\n",
      "tensor([2.9451], requires_grad=True) tensor([-0.1063])\n",
      "Error: 0.6631\n",
      "tensor([2.9462], requires_grad=True) tensor([-0.1042])\n",
      "Error: 0.6377\n",
      "tensor([2.9472], requires_grad=True) tensor([-0.1022])\n",
      "Error: 0.6133\n",
      "tensor([2.9483], requires_grad=True) tensor([-0.1002])\n",
      "Error: 0.5898\n",
      "tensor([2.9493], requires_grad=True) tensor([-0.0982])\n",
      "Error: 0.5672\n",
      "tensor([2.9502], requires_grad=True) tensor([-0.0963])\n",
      "Error: 0.5455\n",
      "tensor([2.9512], requires_grad=True) tensor([-0.0944])\n",
      "Error: 0.5246\n",
      "tensor([2.9522], requires_grad=True) tensor([-0.0926])\n",
      "Error: 0.5045\n",
      "tensor([2.9531], requires_grad=True) tensor([-0.0908])\n",
      "Error: 0.4852\n",
      "tensor([2.9540], requires_grad=True) tensor([-0.0890])\n",
      "Error: 0.4666\n",
      "tensor([2.9549], requires_grad=True) tensor([-0.0873])\n",
      "Error: 0.4487\n",
      "tensor([2.9558], requires_grad=True) tensor([-0.0856])\n",
      "Error: 0.4315\n",
      "tensor([2.9566], requires_grad=True) tensor([-0.0839])\n",
      "Error: 0.4150\n",
      "tensor([2.9574], requires_grad=True) tensor([-0.0823])\n",
      "Error: 0.3991\n",
      "tensor([2.9583], requires_grad=True) tensor([-0.0807])\n",
      "Error: 0.3838\n",
      "tensor([2.9591], requires_grad=True) tensor([-0.0791])\n",
      "Error: 0.3691\n",
      "tensor([2.9599], requires_grad=True) tensor([-0.0776])\n",
      "Error: 0.3550\n",
      "tensor([2.9606], requires_grad=True) tensor([-0.0761])\n",
      "Error: 0.3414\n",
      "tensor([2.9614], requires_grad=True) tensor([-0.0746])\n",
      "Error: 0.3283\n",
      "tensor([2.9622], requires_grad=True) tensor([-0.0732])\n",
      "Error: 0.3158\n",
      "tensor([2.9629], requires_grad=True) tensor([-0.0718])\n",
      "Error: 0.3037\n",
      "tensor([2.9636], requires_grad=True) tensor([-0.0704])\n",
      "Error: 0.2920\n",
      "tensor([2.9643], requires_grad=True) tensor([-0.0690])\n",
      "Error: 0.2808\n",
      "tensor([2.9650], requires_grad=True) tensor([-0.0677])\n",
      "Error: 0.2701\n",
      "tensor([2.9657], requires_grad=True) tensor([-0.0664])\n",
      "Error: 0.2597\n",
      "tensor([2.9663], requires_grad=True) tensor([-0.0651])\n",
      "Error: 0.2498\n",
      "tensor([2.9670], requires_grad=True) tensor([-0.0638])\n",
      "Error: 0.2402\n",
      "tensor([2.9676], requires_grad=True) tensor([-0.0626])\n",
      "Error: 0.2310\n",
      "tensor([2.9683], requires_grad=True) tensor([-0.0614])\n",
      "Error: 0.2222\n",
      "tensor([2.9689], requires_grad=True) tensor([-0.0602])\n",
      "Error: 0.2137\n",
      "tensor([2.9695], requires_grad=True) tensor([-0.0590])\n",
      "Error: 0.2055\n",
      "tensor([2.9701], requires_grad=True) tensor([-0.0579])\n",
      "Error: 0.1976\n",
      "tensor([2.9706], requires_grad=True) tensor([-0.0568])\n",
      "Error: 0.1900\n",
      "tensor([2.9712], requires_grad=True) tensor([-0.0557])\n",
      "Error: 0.1828\n"
     ]
    }
   ],
   "source": [
    "trainManual(w, b, learning_rate, 100)"
   ]
  },
  {
   "cell_type": "code",
   "execution_count": 21,
   "metadata": {},
   "outputs": [
    {
     "name": "stdout",
     "output_type": "stream",
     "text": [
      "----- ----- ----- ----- -----\n",
      "Prediction:\n",
      "w_pred = 2.97, b_pred = 3.57\n",
      "Ground-truth:\n",
      "w_gt = 3.00, b_gt = 4.00\n"
     ]
    }
   ],
   "source": [
    "y_pred = (w*x + b)\n",
    "y_pred = y_pred.data.numpy()\n",
    "print(\"----- ----- ----- ----- -----\")\n",
    "print(\"Prediction:\")\n",
    "print(\"w_pred = {:.2f}, b_pred = {:.2f}\".format(w[0] ,b[0]))\n",
    "print(\"Ground-truth:\")\n",
    "print(\"w_gt = {:.2f}, b_gt = {:.2f}\".format(w_gt ,b_gt))"
   ]
  },
  {
   "cell_type": "code",
   "execution_count": 22,
   "metadata": {},
   "outputs": [
    {
     "data": {
      "image/png": "[encoded data removed]",
      "text/plain": [
       "<Figure size 640x480 with 1 Axes>"
      ]
     },
     "metadata": {},
     "output_type": "display_data"
    }
   ],
   "source": [
    "plt.clf()\n",
    "plt.plot(x, y, 'go', label='True data', alpha=0.5)\n",
    "plt.plot(x, y_pred, '--', label='Predictions', alpha=0.5)\n",
    "plt.legend(loc='best')\n",
    "plt.show()"
   ]
  },
  {
   "cell_type": "code",
   "execution_count": null,
   "metadata": {},
   "outputs": [],
   "source": []
  },
  {
   "attachments": {},
   "cell_type": "markdown",
   "metadata": {},
   "source": [
    "# Linear regression - Using the torch.nn.Module"
   ]
  },
  {
   "cell_type": "code",
   "execution_count": 23,
   "metadata": {},
   "outputs": [],
   "source": [
    "from torch.utils.data import TensorDataset, DataLoader\n",
    "import torch.nn as nn"
   ]
  },
  {
   "cell_type": "code",
   "execution_count": 24,
   "metadata": {},
   "outputs": [],
   "source": [
    "class LinearRegression(torch.nn.Module): \n",
    "    def __init__(self):\n",
    "        super(LinearRegression, self).__init__() \n",
    "        self.linear = torch.nn.Linear(1, 1, bias = True) # bias is default True\n",
    "\n",
    "    def forward(self, x):\n",
    "        y_pred = self.linear(x)\n",
    "        return y_pred"
   ]
  },
  {
   "cell_type": "code",
   "execution_count": 25,
   "metadata": {},
   "outputs": [],
   "source": [
    "our_model = LinearRegression()"
   ]
  },
  {
   "cell_type": "code",
   "execution_count": 26,
   "metadata": {},
   "outputs": [],
   "source": [
    "criterion = torch.nn.MSELoss()\n",
    "optimizer = torch.optim.SGD(our_model.parameters(), lr = 0.01) "
   ]
  },
  {
   "cell_type": "code",
   "execution_count": 27,
   "metadata": {},
   "outputs": [],
   "source": [
    "def trainBuildIn(model, x, y, iter):\n",
    "    for i in range(iter):\n",
    "        # Clear gradient buffers because we don't want any gradient from previous epoch to carry forward, dont want to cummulate gradients\n",
    "        optimizer.zero_grad()\n",
    "        \n",
    "        # get output from the model, given the inputs\n",
    "        y_pred = model(x)\n",
    "\n",
    "        # get loss for the predicted output\n",
    "        loss = criterion(y_pred, y)\n",
    "        print(loss)\n",
    "        # get gradients w.r.t to parameters\n",
    "        loss.backward()\n",
    "\n",
    "        # update parameters\n",
    "        optimizer.step()\n",
    "\n",
    "        print('Iter {}, loss {}'.format(iter, loss.item()))"
   ]
  },
  {
   "cell_type": "code",
   "execution_count": 28,
   "metadata": {},
   "outputs": [
    {
     "name": "stdout",
     "output_type": "stream",
     "text": [
      "torch.Size([10]) torch.Size([10, 1])\n",
      "torch.Size([10]) torch.Size([10, 1])\n"
     ]
    }
   ],
   "source": [
    "x_train = x[:,None]\n",
    "y_train = y[:,None]\n",
    "\n",
    "print(x.shape, x_train.shape)\n",
    "print(y.shape, y_train.shape)"
   ]
  },
  {
   "cell_type": "code",
   "execution_count": 32,
   "metadata": {},
   "outputs": [
    {
     "name": "stdout",
     "output_type": "stream",
     "text": [
      "tensor(9.9623, grad_fn=<MseLossBackward0>)\n",
      "Iter 100, loss 9.962328910827637\n",
      "tensor(8.8491, grad_fn=<MseLossBackward0>)\n",
      "Iter 100, loss 8.849067687988281\n",
      "tensor(8.0069, grad_fn=<MseLossBackward0>)\n",
      "Iter 100, loss 8.00688648223877\n",
      "tensor(7.3541, grad_fn=<MseLossBackward0>)\n",
      "Iter 100, loss 7.354081630706787\n",
      "tensor(6.8343, grad_fn=<MseLossBackward0>)\n",
      "Iter 100, loss 6.834346771240234\n",
      "tensor(6.4088, grad_fn=<MseLossBackward0>)\n",
      "Iter 100, loss 6.408846855163574\n",
      "tensor(6.0508, grad_fn=<MseLossBackward0>)\n",
      "Iter 100, loss 6.050766944885254\n",
      "tensor(5.7416, grad_fn=<MseLossBackward0>)\n",
      "Iter 100, loss 5.741564750671387\n",
      "tensor(5.4684, grad_fn=<MseLossBackward0>)\n",
      "Iter 100, loss 5.468389987945557\n",
      "tensor(5.2223, grad_fn=<MseLossBackward0>)\n",
      "Iter 100, loss 5.222311496734619\n",
      "tensor(4.9971, grad_fn=<MseLossBackward0>)\n",
      "Iter 100, loss 4.997097969055176\n",
      "tensor(4.7884, grad_fn=<MseLossBackward0>)\n",
      "Iter 100, loss 4.788381099700928\n",
      "tensor(4.5931, grad_fn=<MseLossBackward0>)\n",
      "Iter 100, loss 4.593068599700928\n",
      "tensor(4.4090, grad_fn=<MseLossBackward0>)\n",
      "Iter 100, loss 4.408958435058594\n",
      "tensor(4.2345, grad_fn=<MseLossBackward0>)\n",
      "Iter 100, loss 4.234460353851318\n",
      "tensor(4.0684, grad_fn=<MseLossBackward0>)\n",
      "Iter 100, loss 4.06840705871582\n",
      "tensor(3.9099, grad_fn=<MseLossBackward0>)\n",
      "Iter 100, loss 3.909924268722534\n",
      "tensor(3.7583, grad_fn=<MseLossBackward0>)\n",
      "Iter 100, loss 3.7583441734313965\n",
      "tensor(3.6131, grad_fn=<MseLossBackward0>)\n",
      "Iter 100, loss 3.613142490386963\n",
      "tensor(3.4739, grad_fn=<MseLossBackward0>)\n",
      "Iter 100, loss 3.47389554977417\n",
      "tensor(3.3403, grad_fn=<MseLossBackward0>)\n",
      "Iter 100, loss 3.3402538299560547\n",
      "tensor(3.2119, grad_fn=<MseLossBackward0>)\n",
      "Iter 100, loss 3.2119154930114746\n",
      "tensor(3.0886, grad_fn=<MseLossBackward0>)\n",
      "Iter 100, loss 3.088620662689209\n",
      "tensor(2.9701, grad_fn=<MseLossBackward0>)\n",
      "Iter 100, loss 2.970137119293213\n",
      "tensor(2.8563, grad_fn=<MseLossBackward0>)\n",
      "Iter 100, loss 2.8562512397766113\n",
      "tensor(2.7468, grad_fn=<MseLossBackward0>)\n",
      "Iter 100, loss 2.7467689514160156\n",
      "tensor(2.6415, grad_fn=<MseLossBackward0>)\n",
      "Iter 100, loss 2.6415066719055176\n",
      "tensor(2.5403, grad_fn=<MseLossBackward0>)\n",
      "Iter 100, loss 2.5402979850769043\n",
      "tensor(2.4430, grad_fn=<MseLossBackward0>)\n",
      "Iter 100, loss 2.442979097366333\n",
      "tensor(2.3494, grad_fn=<MseLossBackward0>)\n",
      "Iter 100, loss 2.3493950366973877\n",
      "tensor(2.2594, grad_fn=<MseLossBackward0>)\n",
      "Iter 100, loss 2.259401798248291\n",
      "tensor(2.1729, grad_fn=<MseLossBackward0>)\n",
      "Iter 100, loss 2.1728601455688477\n",
      "tensor(2.0896, grad_fn=<MseLossBackward0>)\n",
      "Iter 100, loss 2.0896356105804443\n",
      "tensor(2.0096, grad_fn=<MseLossBackward0>)\n",
      "Iter 100, loss 2.009601593017578\n",
      "tensor(1.9326, grad_fn=<MseLossBackward0>)\n",
      "Iter 100, loss 1.9326330423355103\n",
      "tensor(1.8586, grad_fn=<MseLossBackward0>)\n",
      "Iter 100, loss 1.8586136102676392\n",
      "tensor(1.7874, grad_fn=<MseLossBackward0>)\n",
      "Iter 100, loss 1.7874294519424438\n",
      "tensor(1.7190, grad_fn=<MseLossBackward0>)\n",
      "Iter 100, loss 1.7189725637435913\n",
      "tensor(1.6531, grad_fn=<MseLossBackward0>)\n",
      "Iter 100, loss 1.65313720703125\n",
      "tensor(1.5898, grad_fn=<MseLossBackward0>)\n",
      "Iter 100, loss 1.5898239612579346\n",
      "tensor(1.5289, grad_fn=<MseLossBackward0>)\n",
      "Iter 100, loss 1.5289363861083984\n",
      "tensor(1.4704, grad_fn=<MseLossBackward0>)\n",
      "Iter 100, loss 1.4703794717788696\n",
      "tensor(1.4141, grad_fn=<MseLossBackward0>)\n",
      "Iter 100, loss 1.4140650033950806\n",
      "tensor(1.3599, grad_fn=<MseLossBackward0>)\n",
      "Iter 100, loss 1.3599084615707397\n",
      "tensor(1.3078, grad_fn=<MseLossBackward0>)\n",
      "Iter 100, loss 1.3078255653381348\n",
      "tensor(1.2577, grad_fn=<MseLossBackward0>)\n",
      "Iter 100, loss 1.2577378749847412\n",
      "tensor(1.2096, grad_fn=<MseLossBackward0>)\n",
      "Iter 100, loss 1.209567666053772\n",
      "tensor(1.1632, grad_fn=<MseLossBackward0>)\n",
      "Iter 100, loss 1.1632435321807861\n",
      "tensor(1.1187, grad_fn=<MseLossBackward0>)\n",
      "Iter 100, loss 1.11869215965271\n",
      "tensor(1.0758, grad_fn=<MseLossBackward0>)\n",
      "Iter 100, loss 1.0758482217788696\n",
      "tensor(1.0346, grad_fn=<MseLossBackward0>)\n",
      "Iter 100, loss 1.0346442461013794\n",
      "tensor(0.9950, grad_fn=<MseLossBackward0>)\n",
      "Iter 100, loss 0.9950187802314758\n",
      "tensor(0.9569, grad_fn=<MseLossBackward0>)\n",
      "Iter 100, loss 0.9569114446640015\n",
      "tensor(0.9203, grad_fn=<MseLossBackward0>)\n",
      "Iter 100, loss 0.9202626943588257\n",
      "tensor(0.8850, grad_fn=<MseLossBackward0>)\n",
      "Iter 100, loss 0.8850176930427551\n",
      "tensor(0.8511, grad_fn=<MseLossBackward0>)\n",
      "Iter 100, loss 0.8511226773262024\n",
      "tensor(0.8185, grad_fn=<MseLossBackward0>)\n",
      "Iter 100, loss 0.8185257911682129\n",
      "tensor(0.7872, grad_fn=<MseLossBackward0>)\n",
      "Iter 100, loss 0.7871780395507812\n",
      "tensor(0.7570, grad_fn=<MseLossBackward0>)\n",
      "Iter 100, loss 0.7570299506187439\n",
      "tensor(0.7280, grad_fn=<MseLossBackward0>)\n",
      "Iter 100, loss 0.7280367612838745\n",
      "tensor(0.7002, grad_fn=<MseLossBackward0>)\n",
      "Iter 100, loss 0.7001538872718811\n",
      "tensor(0.6733, grad_fn=<MseLossBackward0>)\n",
      "Iter 100, loss 0.673339307308197\n",
      "tensor(0.6476, grad_fn=<MseLossBackward0>)\n",
      "Iter 100, loss 0.6475508809089661\n",
      "tensor(0.6228, grad_fn=<MseLossBackward0>)\n",
      "Iter 100, loss 0.6227505207061768\n",
      "tensor(0.5989, grad_fn=<MseLossBackward0>)\n",
      "Iter 100, loss 0.5989007353782654\n",
      "tensor(0.5760, grad_fn=<MseLossBackward0>)\n",
      "Iter 100, loss 0.5759631395339966\n",
      "tensor(0.5539, grad_fn=<MseLossBackward0>)\n",
      "Iter 100, loss 0.5539047718048096\n",
      "tensor(0.5327, grad_fn=<MseLossBackward0>)\n",
      "Iter 100, loss 0.5326910614967346\n",
      "tensor(0.5123, grad_fn=<MseLossBackward0>)\n",
      "Iter 100, loss 0.5122893452644348\n",
      "tensor(0.4927, grad_fn=<MseLossBackward0>)\n",
      "Iter 100, loss 0.4926697313785553\n",
      "tensor(0.4738, grad_fn=<MseLossBackward0>)\n",
      "Iter 100, loss 0.4738009572029114\n",
      "tensor(0.4557, grad_fn=<MseLossBackward0>)\n",
      "Iter 100, loss 0.4556548595428467\n",
      "tensor(0.4382, grad_fn=<MseLossBackward0>)\n",
      "Iter 100, loss 0.4382038116455078\n",
      "tensor(0.4214, grad_fn=<MseLossBackward0>)\n",
      "Iter 100, loss 0.42142122983932495\n",
      "tensor(0.4053, grad_fn=<MseLossBackward0>)\n",
      "Iter 100, loss 0.4052813947200775\n",
      "tensor(0.3898, grad_fn=<MseLossBackward0>)\n",
      "Iter 100, loss 0.38975995779037476\n",
      "tensor(0.3748, grad_fn=<MseLossBackward0>)\n",
      "Iter 100, loss 0.3748329281806946\n",
      "tensor(0.3605, grad_fn=<MseLossBackward0>)\n",
      "Iter 100, loss 0.3604772090911865\n",
      "tensor(0.3467, grad_fn=<MseLossBackward0>)\n",
      "Iter 100, loss 0.3466710150241852\n",
      "tensor(0.3334, grad_fn=<MseLossBackward0>)\n",
      "Iter 100, loss 0.33339422941207886\n",
      "tensor(0.3206, grad_fn=<MseLossBackward0>)\n",
      "Iter 100, loss 0.3206254541873932\n",
      "tensor(0.3083, grad_fn=<MseLossBackward0>)\n",
      "Iter 100, loss 0.3083462119102478\n",
      "tensor(0.2965, grad_fn=<MseLossBackward0>)\n",
      "Iter 100, loss 0.29653695225715637\n",
      "tensor(0.2852, grad_fn=<MseLossBackward0>)\n",
      "Iter 100, loss 0.2851797640323639\n",
      "tensor(0.2743, grad_fn=<MseLossBackward0>)\n",
      "Iter 100, loss 0.2742578089237213\n",
      "tensor(0.2638, grad_fn=<MseLossBackward0>)\n",
      "Iter 100, loss 0.2637539505958557\n",
      "tensor(0.2537, grad_fn=<MseLossBackward0>)\n",
      "Iter 100, loss 0.25365307927131653\n",
      "tensor(0.2439, grad_fn=<MseLossBackward0>)\n",
      "Iter 100, loss 0.2439383566379547\n",
      "tensor(0.2346, grad_fn=<MseLossBackward0>)\n",
      "Iter 100, loss 0.2345958650112152\n",
      "tensor(0.2256, grad_fn=<MseLossBackward0>)\n",
      "Iter 100, loss 0.22561101615428925\n",
      "tensor(0.2170, grad_fn=<MseLossBackward0>)\n",
      "Iter 100, loss 0.216970294713974\n",
      "tensor(0.2087, grad_fn=<MseLossBackward0>)\n",
      "Iter 100, loss 0.20866063237190247\n",
      "tensor(0.2007, grad_fn=<MseLossBackward0>)\n",
      "Iter 100, loss 0.2006690800189972\n",
      "tensor(0.1930, grad_fn=<MseLossBackward0>)\n",
      "Iter 100, loss 0.19298364222049713\n",
      "tensor(0.1856, grad_fn=<MseLossBackward0>)\n",
      "Iter 100, loss 0.18559254705905914\n",
      "tensor(0.1785, grad_fn=<MseLossBackward0>)\n",
      "Iter 100, loss 0.17848488688468933\n",
      "tensor(0.1716, grad_fn=<MseLossBackward0>)\n",
      "Iter 100, loss 0.17164912819862366\n",
      "tensor(0.1651, grad_fn=<MseLossBackward0>)\n",
      "Iter 100, loss 0.16507519781589508\n",
      "tensor(0.1588, grad_fn=<MseLossBackward0>)\n",
      "Iter 100, loss 0.15875299274921417\n",
      "tensor(0.1527, grad_fn=<MseLossBackward0>)\n",
      "Iter 100, loss 0.15267300605773926\n"
     ]
    }
   ],
   "source": [
    "trainBuildIn(our_model, x_train, y_train, 100)"
   ]
  },
  {
   "cell_type": "code",
   "execution_count": 33,
   "metadata": {},
   "outputs": [
    {
     "name": "stdout",
     "output_type": "stream",
     "text": [
      "----- ----- ----- ----- -----\n",
      "Prediction:\n",
      "linear.weight tensor([[2.9742]])\n",
      "linear.bias tensor([3.6112])\n",
      "Ground-truth:\n",
      "w_gt = 3.00, b_gt = 4.00\n"
     ]
    }
   ],
   "source": [
    "y_pred_bi = our_model(x_train).data.numpy()\n",
    "\n",
    "print(\"----- ----- ----- ----- -----\")\n",
    "print(\"Prediction:\")\n",
    "for name, param in our_model.named_parameters():\n",
    "    if param.requires_grad:\n",
    "        print(name, param.data)\n",
    "print(\"Ground-truth:\")\n",
    "print(\"w_gt = {:.2f}, b_gt = {:.2f}\".format(w_gt ,b_gt))"
   ]
  },
  {
   "cell_type": "code",
   "execution_count": 34,
   "metadata": {},
   "outputs": [
    {
     "data": {
      "image/png": "[encoded data removed]",
      "text/plain": [
       "<Figure size 640x480 with 1 Axes>"
      ]
     },
     "metadata": {},
     "output_type": "display_data"
    }
   ],
   "source": [
    "plt.clf()\n",
    "plt.plot(x, y, 'go', label='True data', alpha=0.5)\n",
    "plt.plot(x, y_pred_bi, '--', label='Predictions', alpha=0.5)\n",
    "plt.legend(loc='best')\n",
    "plt.show()"
   ]
  },
  {
   "cell_type": "code",
   "execution_count": 35,
   "metadata": {},
   "outputs": [
    {
     "name": "stdout",
     "output_type": "stream",
     "text": [
      "----- ----- ----- ----- -----\n",
      "Prediction:\n",
      "w_pred = 4.00, b_pred = 3.00\n",
      "Ground-truth:\n",
      "w_gt = 3.00, b_gt = 4.00\n"
     ]
    }
   ],
   "source": [
    "'''\n",
    "    Validation with SKLEARN\n",
    "\n",
    "'''\n",
    "from sklearn.linear_model import LinearRegression\n",
    "linr = LinearRegression()\n",
    "linr.fit(x[:,None], y[:,None])\n",
    "print(\"----- ----- ----- ----- -----\")\n",
    "print(\"Prediction:\")\n",
    "print(\"w_pred = {:.2f}, b_pred = {:.2f}\".format(float(linr.intercept_), float(linr.coef_[0])))\n",
    "print(\"Ground-truth:\")\n",
    "print(\"w_gt = {:.2f}, b_gt = {:.2f}\".format(w_gt ,b_gt))"
   ]
  },
  {
   "cell_type": "code",
   "execution_count": null,
   "metadata": {},
   "outputs": [],
   "source": []
  }
 ],
 "metadata": {
  "kernelspec": {
   "display_name": "ML",
   "language": "python",
   "name": "python3"
  },
  "language_info": {
   "codemirror_mode": {
    "name": "ipython",
    "version": 3
   },
   "file_extension": ".py",
   "mimetype": "text/x-python",
   "name": "python",
   "nbconvert_exporter": "python",
   "pygments_lexer": "ipython3",
   "version": "3.8.8"
  },
  "orig_nbformat": 4
 },
 "nbformat": 4,
 "nbformat_minor": 2
}
