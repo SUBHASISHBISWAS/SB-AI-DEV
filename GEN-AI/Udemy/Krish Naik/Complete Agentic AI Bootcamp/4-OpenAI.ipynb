{
 "cells": [
  {
   "cell_type": "code",
   "id": "initial_id",
   "metadata": {
    "collapsed": true,
    "ExecuteTime": {
     "end_time": "2025-09-19T12:49:33.039803Z",
     "start_time": "2025-09-19T12:49:33.031852Z"
    }
   },
   "source": [
    "import os\n",
    "from dotenv import load_dotenv\n",
    "load_dotenv()\n",
    "\n",
    "os.environ['OPENAI_API_KEY']=os.getenv(\"OPENAI_API_KEY\")\n",
    "## Langsmith Tracking\n",
    "os.environ[\"LANGCHAIN_API_KEY\"]=os.getenv(\"LANGCHAIN_API_KEY\")\n",
    "os.environ[\"LANGCHAIN_TRACING_V2\"]=\"true\"\n",
    "os.environ[\"LANGCHAIN_PROJECT\"]=os.getenv(\"LANGCHAIN_PROJECT\")\n",
    "\n",
    "import warnings\n",
    "warnings.filterwarnings(\"ignore\")"
   ],
   "outputs": [],
   "execution_count": 1
  },
  {
   "metadata": {
    "ExecuteTime": {
     "end_time": "2025-09-19T12:49:37.328791Z",
     "start_time": "2025-09-19T12:49:33.183071Z"
    }
   },
   "cell_type": "code",
   "source": [
    "from langchain_openai import ChatOpenAI\n",
    "llm=ChatOpenAI(model=\"gpt-4o\")\n",
    "print(llm)"
   ],
   "id": "5b6886253af1e796",
   "outputs": [
    {
     "name": "stdout",
     "output_type": "stream",
     "text": [
      "client=<openai.resources.chat.completions.completions.Completions object at 0x10bebbb20> async_client=<openai.resources.chat.completions.completions.AsyncCompletions object at 0x11327d7c0> root_client=<openai.OpenAI object at 0x113252130> root_async_client=<openai.AsyncOpenAI object at 0x11327d820> model_name='gpt-4o' model_kwargs={} openai_api_key=SecretStr('**********')\n"
     ]
    }
   ],
   "execution_count": 2
  },
  {
   "metadata": {
    "ExecuteTime": {
     "end_time": "2025-09-19T12:49:44.111108Z",
     "start_time": "2025-09-19T12:49:38.913194Z"
    }
   },
   "cell_type": "code",
   "source": [
    "result=llm.invoke(\"What is generative AI?\")\n",
    "result"
   ],
   "id": "90f036491bb322d1",
   "outputs": [
    {
     "data": {
      "text/plain": [
       "AIMessage(content='Generative AI refers to a class of artificial intelligence algorithms that are designed to generate new content. This can include text, images, music, and other types of media. The goal of generative AI is to create content that is not only new but also reflects patterns learned from existing data.\\n\\nOne of the core technologies behind generative AI is the generative adversarial network (GAN), which consists of two neural networks: a generator that creates content and a discriminator that evaluates it. These networks are trained together in a process where the generator tries to produce data indistinguishable from real data, while the discriminator attempts to distinguish between real and generated data. Over time, this adversarial process leads to increasingly realistic generated content.\\n\\nAnother popular approach is the use of transformer models, such as GPT (Generative Pre-trained Transformer) for text and diffusion models for images. These models use large datasets to learn the structure and patterns of the input data, and they can generate new data by sampling from this learned distribution.\\n\\nGenerative AI has a multitude of applications, including content creation, design, entertainment, and more. It also raises questions about ethics, intellectual property, and authenticity, as machines can now produce content that is increasingly indistinguishable from human-created content.', additional_kwargs={'refusal': None}, response_metadata={'token_usage': {'completion_tokens': 251, 'prompt_tokens': 13, 'total_tokens': 264, 'completion_tokens_details': {'accepted_prediction_tokens': 0, 'audio_tokens': 0, 'reasoning_tokens': 0, 'rejected_prediction_tokens': 0}, 'prompt_tokens_details': {'audio_tokens': 0, 'cached_tokens': 0}}, 'model_name': 'gpt-4o-2024-08-06', 'system_fingerprint': 'fp_f33640a400', 'id': 'chatcmpl-CHUqRRz04TpwfLN8b0Wv332Hob2vB', 'service_tier': 'default', 'finish_reason': 'stop', 'logprobs': None}, id='run--7a985c30-0953-4109-8cf8-54b0057224ce-0', usage_metadata={'input_tokens': 13, 'output_tokens': 251, 'total_tokens': 264, 'input_token_details': {'audio': 0, 'cache_read': 0}, 'output_token_details': {'audio': 0, 'reasoning': 0}})"
      ]
     },
     "execution_count": 3,
     "metadata": {},
     "output_type": "execute_result"
    }
   ],
   "execution_count": 3
  },
  {
   "metadata": {
    "ExecuteTime": {
     "end_time": "2025-09-19T12:49:45.217325Z",
     "start_time": "2025-09-19T12:49:45.198458Z"
    }
   },
   "cell_type": "code",
   "source": [
    "from langchain_core.prompts import ChatPromptTemplate\n",
    "\n",
    "prompt=ChatPromptTemplate.from_messages(\n",
    "    [\n",
    "        (\"system\",\"You are an expert AI Engineer. Provide me answers based on the questions\"),\n",
    "        (\"user\",\"{input}\")\n",
    "    ]\n",
    "\n",
    ")\n",
    "prompt"
   ],
   "id": "6948e80c790aa80f",
   "outputs": [
    {
     "data": {
      "text/plain": [
       "ChatPromptTemplate(input_variables=['input'], input_types={}, partial_variables={}, messages=[SystemMessagePromptTemplate(prompt=PromptTemplate(input_variables=[], input_types={}, partial_variables={}, template='You are an expert AI Engineer. Provide me answers based on the questions'), additional_kwargs={}), HumanMessagePromptTemplate(prompt=PromptTemplate(input_variables=['input'], input_types={}, partial_variables={}, template='{input}'), additional_kwargs={})])"
      ]
     },
     "execution_count": 4,
     "metadata": {},
     "output_type": "execute_result"
    }
   ],
   "execution_count": 4
  },
  {
   "metadata": {
    "ExecuteTime": {
     "end_time": "2025-09-16T17:55:16.620169Z",
     "start_time": "2025-09-16T17:55:11.999669Z"
    }
   },
   "cell_type": "code",
   "source": [
    "chain=prompt|llm\n",
    "response=chain.invoke({\"input\":\"Can you tell me about Langsmith?\"})\n",
    "print(response)"
   ],
   "id": "5f984c3181e3a2c8",
   "outputs": [
    {
     "name": "stdout",
     "output_type": "stream",
     "text": [
      "content='Langsmith is a suite of tools and services designed to enhance the development, testing, and deployment of applications that use large language models (LLMs) and chat models. Building on the core capabilities of the Langchain framework, Langsmith focuses on improving the reliability, observability, and performance of applications by enabling developers to evaluate and monitor their LLM-powered applications more effectively.\\n\\nKey features of Langsmith include:\\n\\n1. **Testing and Evaluation:** Langsmith provides mechanisms to create evaluations for language model applications. This allows developers to systematically test the behavior and performance of their models, identifying areas where the models excel or struggle.\\n\\n2. **Observability and Logging:** The platform enhances observability by offering detailed logging and tracing of interactions between applications and language models. This feature helps developers understand model behavior and performance in real-world scenarios.\\n\\n3. **Debugging and Monitoring:** Langsmith allows for real-time monitoring of deployed applications, facilitating debugging and troubleshooting. Developers can detect and diagnose issues as they arise, ensuring smoother operation and improved user experiences.\\n\\n4. **Performance Optimization:** By providing insights into how language models handle different tasks, Langsmith helps developers optimize their applications for better efficiency and effectiveness.\\n\\nOverall, Langsmith supports the development lifecycle of LLM applications, from initial prototyping through to production deployment, helping ensure that applications are robust, reliable, and efficient.' additional_kwargs={'refusal': None} response_metadata={'token_usage': {'completion_tokens': 271, 'prompt_tokens': 33, 'total_tokens': 304, 'completion_tokens_details': {'accepted_prediction_tokens': 0, 'audio_tokens': 0, 'reasoning_tokens': 0, 'rejected_prediction_tokens': 0}, 'prompt_tokens_details': {'audio_tokens': 0, 'cached_tokens': 0}}, 'model_name': 'gpt-4o-2024-08-06', 'system_fingerprint': 'fp_1827dd0c55', 'id': 'chatcmpl-CGUBUjGl8x8AuHRR0P8wiU0ZDLGPr', 'service_tier': 'default', 'finish_reason': 'stop', 'logprobs': None} id='run--d0492fb1-4425-4c49-8490-71a9ce9d690b-0' usage_metadata={'input_tokens': 33, 'output_tokens': 271, 'total_tokens': 304, 'input_token_details': {'audio': 0, 'cache_read': 0}, 'output_token_details': {'audio': 0, 'reasoning': 0}}\n"
     ]
    }
   ],
   "execution_count": 11
  },
  {
   "metadata": {
    "ExecuteTime": {
     "end_time": "2025-09-16T17:55:17.825615Z",
     "start_time": "2025-09-16T17:55:17.817711Z"
    }
   },
   "cell_type": "code",
   "source": "type(response)",
   "id": "b74d96da36f03d98",
   "outputs": [
    {
     "data": {
      "text/plain": [
       "langchain_core.messages.ai.AIMessage"
      ]
     },
     "execution_count": 12,
     "metadata": {},
     "output_type": "execute_result"
    }
   ],
   "execution_count": 12
  },
  {
   "metadata": {
    "ExecuteTime": {
     "end_time": "2025-09-16T17:56:23.319092Z",
     "start_time": "2025-09-16T17:56:19.282984Z"
    }
   },
   "cell_type": "code",
   "source": [
    "from langchain_core.output_parsers import StrOutputParser\n",
    "output_parser=StrOutputParser()\n",
    "chain=prompt|llm|output_parser\n",
    "response=chain.invoke({\"input\":\"Can you tell me about Langsmith?\"})\n",
    "print(response)"
   ],
   "id": "ecc310e4746182de",
   "outputs": [
    {
     "name": "stdout",
     "output_type": "stream",
     "text": [
      "Langsmith is a software tool developed to enhance the capabilities of LangChain applications. It focuses on enabling developers to build more reliable, observable, and testable applications that leverage large language models. Langsmith provides features such as detailed tracing, execution monitoring, and debugging support for applications using LangChain. It is particularly useful for identifying issues with language model tasks, optimizing performance, and ensuring robustness in applications that deploy complex language-driven processes. These capabilities make Langsmith a valuable tool for developers working on integrating language models into AI solutions, helping them manage the intricate interactions and dependencies that such models often entail.\n"
     ]
    }
   ],
   "execution_count": 14
  },
  {
   "metadata": {},
   "cell_type": "code",
   "outputs": [],
   "execution_count": null,
   "source": "",
   "id": "2b6c48279a28d8e1"
  }
 ],
 "metadata": {
  "kernelspec": {
   "display_name": "Python 3",
   "language": "python",
   "name": "python3"
  },
  "language_info": {
   "codemirror_mode": {
    "name": "ipython",
    "version": 2
   },
   "file_extension": ".py",
   "mimetype": "text/x-python",
   "name": "python",
   "nbconvert_exporter": "python",
   "pygments_lexer": "ipython2",
   "version": "2.7.6"
  }
 },
 "nbformat": 4,
 "nbformat_minor": 5
}
