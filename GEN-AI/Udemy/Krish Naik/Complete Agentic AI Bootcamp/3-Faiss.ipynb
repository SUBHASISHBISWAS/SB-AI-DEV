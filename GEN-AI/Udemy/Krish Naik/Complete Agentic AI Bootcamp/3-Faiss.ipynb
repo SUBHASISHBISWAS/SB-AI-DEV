{
 "cells": [
  {
   "cell_type": "code",
   "execution_count": null,
   "id": "initial_id",
   "metadata": {
    "collapsed": true
   },
   "outputs": [],
   "source": ""
  },
  {
   "metadata": {},
   "cell_type": "markdown",
   "source": [
    "#### Faiss\n",
    "Facebook AI Similarity Search (Faiss) is a library for efficient similarity search and clustering of dense vectors. It contains algorithms that search in sets of vectors of any size, up to ones that possibly do not fit in RAM. It also contains supporting code for evaluation and parameter tuning.#### Faiss\n",
    "Facebook AI Similarity Search (Faiss) is a library for efficient similarity search and clustering of dense vectors. It contains algorithms that search in sets of vectors of any size, up to ones that possibly do not fit in RAM. It also contains supporting code for evaluation and parameter tuning.#### Faiss\n",
    "Facebook AI Similarity Search (Faiss) is a library for efficient similarity search and clustering of dense vectors. It contains algorithms that search in sets of vectors of any size, up to ones that possibly do not fit in RAM. It also contains supporting code for evaluation and parameter tuning."
   ],
   "id": "70bff4ebbbd65647"
  },
  {
   "metadata": {
    "ExecuteTime": {
     "end_time": "2025-06-19T11:13:59.058477Z",
     "start_time": "2025-06-19T11:13:59.047186Z"
    }
   },
   "cell_type": "code",
   "source": [
    "from langchain_community.document_loaders import TextLoader\n",
    "from langchain_community.vectorstores import FAISS\n",
    "from langchain_ollama import OllamaEmbeddings\n",
    "from langchain_text_splitters import CharacterTextSplitter\n",
    "\n",
    "loader=TextLoader(\"speech.txt\")\n",
    "documents=loader.load()\n",
    "text_splitter=CharacterTextSplitter(chunk_size=1000,chunk_overlap=30)\n",
    "docs=text_splitter.split_documents(documents)"
   ],
   "id": "72c7fe2d310d0b0c",
   "outputs": [],
   "execution_count": 13
  },
  {
   "metadata": {
    "ExecuteTime": {
     "end_time": "2025-06-19T11:14:04.504649Z",
     "start_time": "2025-06-19T11:13:59.665268Z"
    }
   },
   "cell_type": "code",
   "source": [
    "try:\n",
    "    embeddings = OllamaEmbeddings(model=\"llama3:instruct\")\n",
    "    if docs:  # Check if docs exists and is not empty\n",
    "        db = FAISS.from_documents(docs, embeddings)\n",
    "        print(\"FAISS database created successfully\")\n",
    "    else:\n",
    "        raise ValueError(\"Document list is empty or undefined\")\n",
    "except ConnectionError as e:\n",
    "    print(f\"Error connecting to Ollama server: {e}\")\n",
    "except ValueError as e:\n",
    "    print(f\"Document error: {e}\")\n",
    "except Exception as e:\n",
    "    print(f\"An error occurred: {e}\")"
   ],
   "id": "8416051db268fee",
   "outputs": [
    {
     "name": "stdout",
     "output_type": "stream",
     "text": [
      "FAISS database created successfully\n"
     ]
    }
   ],
   "execution_count": 14
  },
  {
   "metadata": {
    "ExecuteTime": {
     "end_time": "2025-06-19T11:17:11.289739Z",
     "start_time": "2025-06-19T11:17:08.779813Z"
    }
   },
   "cell_type": "code",
   "source": [
    "query=\"How does the speaker describe the desired outcome of the war?\"\n",
    "docs=db.similarity_search(query)\n",
    "docs[0].page_content"
   ],
   "id": "cb79299e20a60a5d",
   "outputs": [
    {
     "data": {
      "text/plain": [
       "'It is a distressing and oppressive duty, gentlemen of the Congress, which I have performed in thus addressing you. There are, it may be, many months of fiery trial and sacrifice ahead of us. It is a fearful thing to lead this great peaceful people into war, into the most terrible and disastrous of all wars, civilization itself seeming to be in the balance. But the right is more precious than peace, and we shall fight for the things which we have always carried nearest our hearts—for democracy, for the right of those who submit to authority to have a voice in their own governments, for the rights and liberties of small nations, for a universal dominion of right by such a concert of free peoples as shall bring peace and safety to all nations and make the world itself at last free.'"
      ]
     },
     "execution_count": 15,
     "metadata": {},
     "output_type": "execute_result"
    }
   ],
   "execution_count": 15
  },
  {
   "metadata": {},
   "cell_type": "markdown",
   "source": [
    "#### As a Retriever\n",
    "We can also convert the vectorstore into a Retriever class. This allows us to easily use it in other LangChain methods, which largely work with retrievers"
   ],
   "id": "b008a1e27d732d7e"
  },
  {
   "metadata": {
    "ExecuteTime": {
     "end_time": "2025-06-19T11:18:55.553427Z",
     "start_time": "2025-06-19T11:18:53.936638Z"
    }
   },
   "cell_type": "code",
   "source": [
    "retriever=db.as_retriever()\n",
    "docs=retriever.invoke(query)\n",
    "docs[0].page_content"
   ],
   "id": "bd906df8afc14202",
   "outputs": [
    {
     "data": {
      "text/plain": [
       "'It is a distressing and oppressive duty, gentlemen of the Congress, which I have performed in thus addressing you. There are, it may be, many months of fiery trial and sacrifice ahead of us. It is a fearful thing to lead this great peaceful people into war, into the most terrible and disastrous of all wars, civilization itself seeming to be in the balance. But the right is more precious than peace, and we shall fight for the things which we have always carried nearest our hearts—for democracy, for the right of those who submit to authority to have a voice in their own governments, for the rights and liberties of small nations, for a universal dominion of right by such a concert of free peoples as shall bring peace and safety to all nations and make the world itself at last free.'"
      ]
     },
     "execution_count": 16,
     "metadata": {},
     "output_type": "execute_result"
    }
   ],
   "execution_count": 16
  },
  {
   "metadata": {
    "ExecuteTime": {
     "end_time": "2025-06-19T11:21:18.994882Z",
     "start_time": "2025-06-19T11:21:17.640663Z"
    }
   },
   "cell_type": "code",
   "source": [
    "docs_and_score=db.similarity_search_with_score(query)\n",
    "docs_and_score"
   ],
   "id": "ddc8d752ea997c01",
   "outputs": [
    {
     "data": {
      "text/plain": [
       "[(Document(id='698d625c-5770-45f5-832f-71bc19b326eb', metadata={'source': 'speech.txt'}, page_content='It is a distressing and oppressive duty, gentlemen of the Congress, which I have performed in thus addressing you. There are, it may be, many months of fiery trial and sacrifice ahead of us. It is a fearful thing to lead this great peaceful people into war, into the most terrible and disastrous of all wars, civilization itself seeming to be in the balance. But the right is more precious than peace, and we shall fight for the things which we have always carried nearest our hearts—for democracy, for the right of those who submit to authority to have a voice in their own governments, for the rights and liberties of small nations, for a universal dominion of right by such a concert of free peoples as shall bring peace and safety to all nations and make the world itself at last free.'),\n",
       "  np.float32(0.9875916)),\n",
       " (Document(id='ab1f4d1c-0a8b-43ee-8cc0-3ebd800c46bc', metadata={'source': 'speech.txt'}, page_content='To such a task we can dedicate our lives and our fortunes, everything that we are and everything that we have, with the pride of those who know that the day has come when America is privileged to spend her blood and her might for the principles that gave her birth and happiness and the peace which she has treasured. God helping her, she can do no other.'),\n",
       "  np.float32(1.0420059)),\n",
       " (Document(id='025b43ff-899d-48f6-b75f-d9242a5e51c6', metadata={'source': 'speech.txt'}, page_content='We have borne with their present government through all these bitter months because of that friendship—exercising a patience and forbearance which would otherwise have been impossible. We shall, happily, still have an opportunity to prove that friendship in our daily attitude and actions toward the millions of men and women of German birth and native sympathy who live among us and share our life, and we shall be proud to prove it toward all who are in fact loyal to their neighbors and to the government in the hour of test. They are, most of them, as true and loyal Americans as if they had never known any other fealty or allegiance. They will be prompt to stand with us in rebuking and restraining the few who may be of a different mind and purpose. If there should be disloyalty, it will be dealt with with a firm hand of stern repression; but, if it lifts its head at all, it will lift it only here and there and without countenance except from a lawless and malignant few.'),\n",
       "  np.float32(1.1363152)),\n",
       " (Document(id='23eafdfa-9ab5-4e81-aa2c-6c4817ca0055', metadata={'source': 'speech.txt'}, page_content='…\\n\\nIt will be all the easier for us to conduct ourselves as belligerents in a high spirit of right and fairness because we act without animus, not in enmity toward a people or with the desire to bring any injury or disadvantage upon them, but only in armed opposition to an irresponsible government which has thrown aside all considerations of humanity and of right and is running amuck. We are, let me say again, the sincere friends of the German people, and shall desire nothing so much as the early reestablishment of intimate relations of mutual advantage between us—however hard it may be for them, for the time being, to believe that this is spoken from our hearts.'),\n",
       "  np.float32(1.2172234))]"
      ]
     },
     "execution_count": 17,
     "metadata": {},
     "output_type": "execute_result"
    }
   ],
   "execution_count": 17
  },
  {
   "metadata": {
    "ExecuteTime": {
     "end_time": "2025-06-19T11:22:22.302773Z",
     "start_time": "2025-06-19T11:22:20.996244Z"
    }
   },
   "cell_type": "code",
   "source": [
    "embedding_vector=embeddings.embed_query(query)\n",
    "docs_score=db.similarity_search_by_vector(embedding_vector)\n",
    "docs_score"
   ],
   "id": "5c6d0f9f9871ba53",
   "outputs": [
    {
     "data": {
      "text/plain": [
       "[Document(id='698d625c-5770-45f5-832f-71bc19b326eb', metadata={'source': 'speech.txt'}, page_content='It is a distressing and oppressive duty, gentlemen of the Congress, which I have performed in thus addressing you. There are, it may be, many months of fiery trial and sacrifice ahead of us. It is a fearful thing to lead this great peaceful people into war, into the most terrible and disastrous of all wars, civilization itself seeming to be in the balance. But the right is more precious than peace, and we shall fight for the things which we have always carried nearest our hearts—for democracy, for the right of those who submit to authority to have a voice in their own governments, for the rights and liberties of small nations, for a universal dominion of right by such a concert of free peoples as shall bring peace and safety to all nations and make the world itself at last free.'),\n",
       " Document(id='ab1f4d1c-0a8b-43ee-8cc0-3ebd800c46bc', metadata={'source': 'speech.txt'}, page_content='To such a task we can dedicate our lives and our fortunes, everything that we are and everything that we have, with the pride of those who know that the day has come when America is privileged to spend her blood and her might for the principles that gave her birth and happiness and the peace which she has treasured. God helping her, she can do no other.'),\n",
       " Document(id='025b43ff-899d-48f6-b75f-d9242a5e51c6', metadata={'source': 'speech.txt'}, page_content='We have borne with their present government through all these bitter months because of that friendship—exercising a patience and forbearance which would otherwise have been impossible. We shall, happily, still have an opportunity to prove that friendship in our daily attitude and actions toward the millions of men and women of German birth and native sympathy who live among us and share our life, and we shall be proud to prove it toward all who are in fact loyal to their neighbors and to the government in the hour of test. They are, most of them, as true and loyal Americans as if they had never known any other fealty or allegiance. They will be prompt to stand with us in rebuking and restraining the few who may be of a different mind and purpose. If there should be disloyalty, it will be dealt with with a firm hand of stern repression; but, if it lifts its head at all, it will lift it only here and there and without countenance except from a lawless and malignant few.'),\n",
       " Document(id='23eafdfa-9ab5-4e81-aa2c-6c4817ca0055', metadata={'source': 'speech.txt'}, page_content='…\\n\\nIt will be all the easier for us to conduct ourselves as belligerents in a high spirit of right and fairness because we act without animus, not in enmity toward a people or with the desire to bring any injury or disadvantage upon them, but only in armed opposition to an irresponsible government which has thrown aside all considerations of humanity and of right and is running amuck. We are, let me say again, the sincere friends of the German people, and shall desire nothing so much as the early reestablishment of intimate relations of mutual advantage between us—however hard it may be for them, for the time being, to believe that this is spoken from our hearts.')]"
      ]
     },
     "execution_count": 18,
     "metadata": {},
     "output_type": "execute_result"
    }
   ],
   "execution_count": 18
  },
  {
   "metadata": {
    "ExecuteTime": {
     "end_time": "2025-06-19T11:22:41.516552Z",
     "start_time": "2025-06-19T11:22:40.389055Z"
    }
   },
   "cell_type": "code",
   "source": [
    "db.save_local(\"faiss_index\")\n",
    "new_db=FAISS.load_local(\"faiss_index\",embeddings,allow_dangerous_deserialization=True)\n",
    "docs=new_db.similarity_search(query)"
   ],
   "id": "991c5e6114fa72e5",
   "outputs": [],
   "execution_count": 19
  },
  {
   "metadata": {},
   "cell_type": "code",
   "outputs": [],
   "execution_count": null,
   "source": "",
   "id": "cc8c5c3cfaf2c4d"
  }
 ],
 "metadata": {
  "kernelspec": {
   "display_name": "Python 3",
   "language": "python",
   "name": "python3"
  },
  "language_info": {
   "codemirror_mode": {
    "name": "ipython",
    "version": 2
   },
   "file_extension": ".py",
   "mimetype": "text/x-python",
   "name": "python",
   "nbconvert_exporter": "python",
   "pygments_lexer": "ipython2",
   "version": "2.7.6"
  }
 },
 "nbformat": 4,
 "nbformat_minor": 5
}
