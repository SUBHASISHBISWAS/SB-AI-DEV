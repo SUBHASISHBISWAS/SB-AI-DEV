{
 "cells": [
  {
   "cell_type": "code",
   "id": "initial_id",
   "metadata": {
    "collapsed": true,
    "ExecuteTime": {
     "end_time": "2025-09-19T14:24:13.291446Z",
     "start_time": "2025-09-19T14:24:13.284619Z"
    }
   },
   "source": [
    "import os\n",
    "from dotenv import load_dotenv\n",
    "load_dotenv() ## aloading all the environment variable\n",
    "\n",
    "groq_api_key=os.getenv(\"GROQ_API_KEY\")"
   ],
   "outputs": [],
   "execution_count": 1
  },
  {
   "metadata": {
    "ExecuteTime": {
     "end_time": "2025-09-19T14:24:31.030659Z",
     "start_time": "2025-09-19T14:24:31.023026Z"
    }
   },
   "cell_type": "code",
   "source": [
    "from langchain_openai import ChatOpenAI\n",
    "from langchain_groq import ChatGroq\n",
    "from langchain_core.messages import HumanMessage,SystemMessage\n",
    "from langchain_core.output_parsers import StrOutputParser\n",
    "from langchain_core.prompts import ChatPromptTemplate\n",
    "model=ChatGroq(model=\"openai/gpt-oss-20b\",groq_api_key=os.getenv(\"GROQ_API_KEY\"))"
   ],
   "id": "ed2d57881ace869",
   "outputs": [],
   "execution_count": 3
  },
  {
   "metadata": {
    "ExecuteTime": {
     "end_time": "2025-09-19T14:25:16.679410Z",
     "start_time": "2025-09-19T14:25:16.407608Z"
    }
   },
   "cell_type": "code",
   "source": [
    "from langchain_core.messages import HumanMessage\n",
    "model.invoke([HumanMessage(content=\"Hi , My name is Subhasish and I am a  AI Engineer\")])"
   ],
   "id": "c507f952a805cf21",
   "outputs": [
    {
     "data": {
      "text/plain": [
       "AIMessage(content='Hello Subhasish! 👋  \\nNice to meet an AI engineer. How can I assist you today? Whether you’re working on a new model, need help with data pipelines, or just want to chat about the latest AI trends, I’m here for you.', additional_kwargs={'reasoning_content': 'The user says: \"Hi , My name is Subhasish and I am a AI Engineer\". Likely they want a greeting and maybe some interaction. We should respond politely, ask how we can help.'}, response_metadata={'token_usage': {'completion_tokens': 106, 'prompt_tokens': 86, 'total_tokens': 192, 'completion_time': 0.095596776, 'prompt_time': 0.005594967, 'queue_time': 0.045720852, 'total_time': 0.101191743}, 'model_name': 'openai/gpt-oss-20b', 'system_fingerprint': 'fp_b30a5b183c', 'service_tier': 'on_demand', 'finish_reason': 'stop', 'logprobs': None}, id='run--697623af-bb65-4713-be33-22370ea70298-0', usage_metadata={'input_tokens': 86, 'output_tokens': 106, 'total_tokens': 192})"
      ]
     },
     "execution_count": 5,
     "metadata": {},
     "output_type": "execute_result"
    }
   ],
   "execution_count": 5
  },
  {
   "metadata": {
    "ExecuteTime": {
     "end_time": "2025-09-19T14:29:04.237424Z",
     "start_time": "2025-09-19T14:29:03.779241Z"
    }
   },
   "cell_type": "code",
   "source": [
    "model.invoke([HumanMessage(content=\"Hi , My name is Krish and I am a Chief AI Engineer\")])\n",
    "from langchain_core.messages import AIMessage\n",
    "\n",
    "model.invoke(\n",
    "    [\n",
    "        HumanMessage(content=\"Hi , My name is Subhasish and I am a  AI Engineer\"),\n",
    "        AIMessage(\n",
    "            content=\"Hello Subhasish! 👋  \\nNice to meet an AI engineer. How can I assist you today? Whether you’re working on a new model, need help with data pipelines, or just want to chat about the latest AI trends, I’m here for you\"),\n",
    "        HumanMessage(content=\"Hey What's my name and what do I do?\")\n",
    "    ]\n",
    ")"
   ],
   "id": "a2ff10336664e4e4",
   "outputs": [
    {
     "data": {
      "text/plain": [
       "AIMessage(content='You’re Subhasish, an AI Engineer.  \\nThat means you design, build, and fine‑tune machine‑learning models, work on data pipelines, and help turn raw data into actionable insights—essentially turning ideas into intelligent systems.', additional_kwargs={'reasoning_content': 'The user says: \"Hey What\\'s my name and what do I do?\" They previously said: \"Hi , My name is Subhasish and I am a AI Engineer\". So answer: name Subhasish, profession AI engineer. Also maybe mention what they do: building AI models, etc.'}, response_metadata={'token_usage': {'completion_tokens': 120, 'prompt_tokens': 159, 'total_tokens': 279, 'completion_time': 0.106694726, 'prompt_time': 0.010451703, 'queue_time': 0.051362757, 'total_time': 0.117146429}, 'model_name': 'openai/gpt-oss-20b', 'system_fingerprint': 'fp_a5ac2a5d7b', 'service_tier': 'on_demand', 'finish_reason': 'stop', 'logprobs': None}, id='run--6f24b352-3a1a-43d9-91c9-c2df33306632-0', usage_metadata={'input_tokens': 159, 'output_tokens': 120, 'total_tokens': 279})"
      ]
     },
     "execution_count": 8,
     "metadata": {},
     "output_type": "execute_result"
    }
   ],
   "execution_count": 8
  },
  {
   "metadata": {},
   "cell_type": "markdown",
   "source": [
    "### Message History\n",
    "We can use a Message History class to wrap our model and make it stateful. This will keep track of inputs and outputs of the model, and store them in some datastore. Future interactions will then load those messages and pass them into the chain as part of the input. Let's see how to use this!\n"
   ],
   "id": "57278e7e8df241a3"
  },
  {
   "metadata": {
    "ExecuteTime": {
     "end_time": "2025-09-19T14:41:36.811392Z",
     "start_time": "2025-09-19T14:41:36.783343Z"
    }
   },
   "cell_type": "code",
   "source": [
    "from langchain_community.chat_message_histories import ChatMessageHistory\n",
    "from langchain_core.chat_history import BaseChatMessageHistory\n",
    "from langchain_core.runnables.history import RunnableWithMessageHistory\n",
    "\n",
    "store={}\n",
    "\n",
    "def get_session_history(session_id:str)->BaseChatMessageHistory:\n",
    "    if session_id not in store:\n",
    "        store[session_id]=ChatMessageHistory()\n",
    "    return store[session_id]\n",
    "\n",
    "with_message_history=RunnableWithMessageHistory(model,get_session_history)"
   ],
   "id": "bb40b94ec54f98e9",
   "outputs": [],
   "execution_count": 9
  },
  {
   "metadata": {
    "ExecuteTime": {
     "end_time": "2025-09-19T14:41:51.524881Z",
     "start_time": "2025-09-19T14:41:51.522135Z"
    }
   },
   "cell_type": "code",
   "source": "config={\"configurable\":{\"session_id\":\"chat1\"}}",
   "id": "36a29389b20a9c4d",
   "outputs": [],
   "execution_count": 10
  },
  {
   "metadata": {
    "ExecuteTime": {
     "end_time": "2025-09-19T14:42:01.931014Z",
     "start_time": "2025-09-19T14:42:01.612936Z"
    }
   },
   "cell_type": "code",
   "source": [
    "response=with_message_history.invoke(\n",
    "    [HumanMessage(content=\"Hi , My name is Subhasish and I am a  AI Engineer\")],\n",
    "    config=config\n",
    ")"
   ],
   "id": "dd6a4ea1ac55a404",
   "outputs": [],
   "execution_count": 11
  },
  {
   "metadata": {
    "ExecuteTime": {
     "end_time": "2025-09-19T14:42:11.694660Z",
     "start_time": "2025-09-19T14:42:11.691517Z"
    }
   },
   "cell_type": "code",
   "source": "response.content",
   "id": "d202d599812b380e",
   "outputs": [
    {
     "data": {
      "text/plain": [
       "'Hello Subhasish! 👋 It’s great to meet another AI Engineer. How are things going on your end? Are you working on any particular project or looking for insights on a specific AI topic? Let me know how I can help!'"
      ]
     },
     "execution_count": 12,
     "metadata": {},
     "output_type": "execute_result"
    }
   ],
   "execution_count": 12
  },
  {
   "metadata": {
    "ExecuteTime": {
     "end_time": "2025-09-19T14:44:07.817415Z",
     "start_time": "2025-09-19T14:44:07.575762Z"
    }
   },
   "cell_type": "code",
   "source": [
    "with_message_history.invoke(\n",
    "    [HumanMessage(content=\"What's my name?\")],\n",
    "    config=config,\n",
    ")"
   ],
   "id": "6ba0d93c852a11f8",
   "outputs": [
    {
     "data": {
      "text/plain": [
       "AIMessage(content='Your name is Subhasish.', additional_kwargs={'reasoning_content': 'User asked: \"What\\'s my name?\" We should answer: \"Your name is Subhasish.\" According to policy: we can provide the name. It\\'s allowed. Provide a concise answer.'}, response_metadata={'token_usage': {'completion_tokens': 55, 'prompt_tokens': 149, 'total_tokens': 204, 'completion_time': 0.048763156, 'prompt_time': 0.009761229, 'queue_time': 0.046480391, 'total_time': 0.058524385}, 'model_name': 'openai/gpt-oss-20b', 'system_fingerprint': 'fp_a5ac2a5d7b', 'service_tier': 'on_demand', 'finish_reason': 'stop', 'logprobs': None}, id='run--ec015b9d-61c8-4c8c-860e-2e41fbbfb3cb-0', usage_metadata={'input_tokens': 149, 'output_tokens': 55, 'total_tokens': 204})"
      ]
     },
     "execution_count": 13,
     "metadata": {},
     "output_type": "execute_result"
    }
   ],
   "execution_count": 13
  },
  {
   "metadata": {
    "ExecuteTime": {
     "end_time": "2025-09-19T14:57:12.761646Z",
     "start_time": "2025-09-19T14:57:12.754199Z"
    }
   },
   "cell_type": "code",
   "source": [
    "from langchain_core.prompts import ChatPromptTemplate,MessagesPlaceholder\n",
    "prompt=ChatPromptTemplate.from_messages(\n",
    "    [\n",
    "        (\"system\",\"You are a helpful assistant.Amnswer all the question to the nest of your ability\"),\n",
    "        MessagesPlaceholder(variable_name=\"messages\")\n",
    "    ]\n",
    ")\n",
    "\n",
    "chain=prompt|model"
   ],
   "id": "db9871ae63ab2b67",
   "outputs": [],
   "execution_count": 14
  },
  {
   "metadata": {
    "ExecuteTime": {
     "end_time": "2025-09-19T17:54:15.472016Z",
     "start_time": "2025-09-19T17:54:15.087603Z"
    }
   },
   "cell_type": "code",
   "source": "chain.invoke({\"messages\":[HumanMessage(content=\"Hi My name is Subhasish\")]})",
   "id": "a850da33e4775943",
   "outputs": [
    {
     "data": {
      "text/plain": [
       "AIMessage(content='Hello Subhasish! 👋 How can I help you today?', additional_kwargs={'reasoning_content': 'User says \"Hi My name is Subhasish\". They introduced themselves. The user hasn\\'t asked a question yet. We should respond politely, maybe ask how we can help.'}, response_metadata={'token_usage': {'completion_tokens': 59, 'prompt_tokens': 99, 'total_tokens': 158, 'completion_time': 0.052215254, 'prompt_time': 0.006440052, 'queue_time': 0.046207598, 'total_time': 0.058655306}, 'model_name': 'openai/gpt-oss-20b', 'system_fingerprint': 'fp_a5ac2a5d7b', 'service_tier': 'on_demand', 'finish_reason': 'stop', 'logprobs': None}, id='run--43ee6140-d4e9-4c4e-b69d-cfcecd8016b9-0', usage_metadata={'input_tokens': 99, 'output_tokens': 59, 'total_tokens': 158})"
      ]
     },
     "execution_count": 15,
     "metadata": {},
     "output_type": "execute_result"
    }
   ],
   "execution_count": 15
  },
  {
   "metadata": {
    "ExecuteTime": {
     "end_time": "2025-09-19T17:54:31.758894Z",
     "start_time": "2025-09-19T17:54:31.754940Z"
    }
   },
   "cell_type": "code",
   "source": "with_message_history=RunnableWithMessageHistory(chain,get_session_history)",
   "id": "ed94dc6c13f12d6d",
   "outputs": [],
   "execution_count": 16
  },
  {
   "metadata": {
    "ExecuteTime": {
     "end_time": "2025-09-19T17:54:55.043902Z",
     "start_time": "2025-09-19T17:54:54.832282Z"
    }
   },
   "cell_type": "code",
   "source": [
    "config = {\"configurable\": {\"session_id\": \"chat3\"}}\n",
    "response=with_message_history.invoke(\n",
    "    [HumanMessage(content=\"Hi My name is Subhasish\")],\n",
    "    config=config\n",
    ")\n"
   ],
   "id": "71e3626a39870500",
   "outputs": [],
   "execution_count": 17
  },
  {
   "metadata": {
    "ExecuteTime": {
     "end_time": "2025-09-19T17:55:00.687828Z",
     "start_time": "2025-09-19T17:55:00.448360Z"
    }
   },
   "cell_type": "code",
   "source": [
    "response = with_message_history.invoke(\n",
    "    [HumanMessage(content=\"What's my name?\")],\n",
    "    config=config,\n",
    ")\n",
    "\n",
    "response.content"
   ],
   "id": "b02dedbed75f984",
   "outputs": [
    {
     "data": {
      "text/plain": [
       "'Your name is Subhasish.'"
      ]
     },
     "execution_count": 18,
     "metadata": {},
     "output_type": "execute_result"
    }
   ],
   "execution_count": 18
  },
  {
   "metadata": {
    "ExecuteTime": {
     "end_time": "2025-09-19T17:56:07.500554Z",
     "start_time": "2025-09-19T17:56:07.496409Z"
    }
   },
   "cell_type": "code",
   "source": [
    "prompt = ChatPromptTemplate.from_messages(\n",
    "    [\n",
    "        (\n",
    "            \"system\",\n",
    "            \"You are a helpful assistant. Answer all questions to the best of your ability in {language}.\",\n",
    "        ),\n",
    "        MessagesPlaceholder(variable_name=\"messages\"),\n",
    "    ]\n",
    ")\n",
    "\n",
    "chain = prompt | model"
   ],
   "id": "b8d6f5f1072ab6b0",
   "outputs": [],
   "execution_count": 19
  },
  {
   "metadata": {
    "ExecuteTime": {
     "end_time": "2025-09-19T17:56:21.926400Z",
     "start_time": "2025-09-19T17:56:21.728393Z"
    }
   },
   "cell_type": "code",
   "source": [
    "response=chain.invoke({\"messages\":[HumanMessage(content=\"Hi My name is Subhasish\")],\"language\":\"Bengali\"})\n",
    "response.content"
   ],
   "id": "fea667ce30039c1f",
   "outputs": [
    {
     "data": {
      "text/plain": [
       "'হ্যালো শুভাশিষ! আপনাকে স্বাগতম। কেমন আছেন?'"
      ]
     },
     "execution_count": 21,
     "metadata": {},
     "output_type": "execute_result"
    }
   ],
   "execution_count": 21
  },
  {
   "metadata": {},
   "cell_type": "code",
   "outputs": [],
   "execution_count": null,
   "source": "",
   "id": "bcc7751752a5c2e7"
  }
 ],
 "metadata": {
  "kernelspec": {
   "display_name": "Python 3",
   "language": "python",
   "name": "python3"
  },
  "language_info": {
   "codemirror_mode": {
    "name": "ipython",
    "version": 2
   },
   "file_extension": ".py",
   "mimetype": "text/x-python",
   "name": "python",
   "nbconvert_exporter": "python",
   "pygments_lexer": "ipython2",
   "version": "2.7.6"
  }
 },
 "nbformat": 4,
 "nbformat_minor": 5
}
