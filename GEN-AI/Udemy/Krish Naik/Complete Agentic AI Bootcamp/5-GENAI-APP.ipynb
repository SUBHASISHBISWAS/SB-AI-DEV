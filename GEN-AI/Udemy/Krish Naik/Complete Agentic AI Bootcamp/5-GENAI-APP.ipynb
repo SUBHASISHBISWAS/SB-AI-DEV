{
 "cells": [
  {
   "cell_type": "code",
   "id": "initial_id",
   "metadata": {
    "collapsed": true,
    "ExecuteTime": {
     "end_time": "2025-09-16T18:14:04.109128Z",
     "start_time": "2025-09-16T18:14:04.105874Z"
    }
   },
   "source": [
    "import os\n",
    "\n",
    "from IPython.core.debugger import prompt\n",
    "from dotenv import load_dotenv\n",
    "load_dotenv()\n",
    "\n",
    "os.environ['OPENAI_API_KEY']=os.getenv(\"OPENAI_API_KEY\")\n",
    "## Langsmith Tracking\n",
    "os.environ[\"LANGCHAIN_API_KEY\"]=os.getenv(\"LANGCHAIN_API_KEY\")\n",
    "os.environ[\"LANGCHAIN_TRACING_V2\"]=\"true\"\n",
    "os.environ[\"LANGCHAIN_PROJECT\"]=os.getenv(\"LANGCHAIN_PROJECT\")\n",
    "\n",
    "import warnings\n",
    "warnings.filterwarnings(\"ignore\")"
   ],
   "outputs": [],
   "execution_count": 3
  },
  {
   "metadata": {
    "ExecuteTime": {
     "end_time": "2025-09-16T18:54:07.385943Z",
     "start_time": "2025-09-16T18:54:00.317428Z"
    }
   },
   "cell_type": "code",
   "source": [
    "from langchain_community.document_loaders import WebBaseLoader\n",
    "from langchain_text_splitters import RecursiveCharacterTextSplitter\n",
    "from langchain_openai import OpenAIEmbeddings\n",
    "from langchain_community.vectorstores import FAISS\n",
    "from langchain.chains import create_retrieval_chain\n",
    "from langchain.chains.combine_documents import create_stuff_documents_chain\n",
    "from langchain_core.prompts import ChatPromptTemplate\n",
    "from langchain_openai import ChatOpenAI\n",
    "\n",
    "loader=WebBaseLoader(\"https://docs.langchain.com/langsmith/manage-prompts\")\n",
    "docs=loader.load()\n",
    "text_splitter=RecursiveCharacterTextSplitter(chunk_size=1000,chunk_overlap=200)\n",
    "texts=text_splitter.split_documents(docs)\n",
    "embeddings=OpenAIEmbeddings()\n",
    "vectorstore=FAISS.from_documents(texts,embeddings)\n",
    "retriever = vectorstore.as_retriever()\n",
    "llm=ChatOpenAI(model=\"gpt-4o\")\n",
    "prompt=ChatPromptTemplate.from_template(\n",
    "    \"\"\"\n",
    "    Answer the following question based only on the provided context:\n",
    "    ‹context›\n",
    "        {context}\n",
    "    </context›\n",
    "\n",
    "    \"\"\"\n",
    ")\n",
    "chain=create_stuff_documents_chain(llm,prompt)\n",
    "retriever_chain=create_retrieval_chain(retriever, chain)\n",
    "\n",
    "response=retriever_chain.invoke({\n",
    "    \"input\": \"Some common use cases of this include:Triggering a CI/CD pipeline when prompts are updated\"\n",
    "})\n",
    "print(response['answer'])"
   ],
   "id": "90588b41cd3a49ee",
   "outputs": [
    {
     "name": "stdout",
     "output_type": "stream",
     "text": [
      "Based on the provided context, here is a brief summary of the available features and procedures:\n",
      "\n",
      "1. **CI/CD Pipelines and GitHub Synchronization**:\n",
      "   - You can trigger a CI/CD pipeline when prompts are updated and synchronize these prompts with a GitHub repository.\n",
      "\n",
      "2. **Webhook Configuration**:\n",
      "   - Navigate to the Prompts section and click on the + Webhook button to add a webhook URL and required headers.\n",
      "   - Only one webhook per workspace can be configured. If you need multiple for a workspace or different ones for each prompt, contact the LangChain Forum.\n",
      "   - Test the webhook by sending a test notification which includes a sample JSON payload.\n",
      "\n",
      "3. **Commit Tags**:\n",
      "   - Commit tags are used for version control and environment management, marking significant versions of your prompt.\n",
      "   - They help manage which versions run in different environments without modifying code directly, as tags can be reassigned to different commits.\n",
      "\n",
      "4. **Automation and Community Features**:\n",
      "   - Webhook triggers automate workflows when prompts are modified.\n",
      "   - A public prompt hub allows for discovering and using community-created prompts. \n",
      "\n",
      "5. **Tools by LangSmith**:\n",
      "   - LangSmith provides various tools for managing prompts such as version control, webhook automation, and access to a public prompt hub.\n"
     ]
    }
   ],
   "execution_count": 32
  }
 ],
 "metadata": {
  "kernelspec": {
   "display_name": "Python 3",
   "language": "python",
   "name": "python3"
  },
  "language_info": {
   "codemirror_mode": {
    "name": "ipython",
    "version": 2
   },
   "file_extension": ".py",
   "mimetype": "text/x-python",
   "name": "python",
   "nbconvert_exporter": "python",
   "pygments_lexer": "ipython2",
   "version": "2.7.6"
  }
 },
 "nbformat": 4,
 "nbformat_minor": 5
}
